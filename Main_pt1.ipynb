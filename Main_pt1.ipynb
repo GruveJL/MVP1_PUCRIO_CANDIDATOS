{
 "cells": [
  {
   "cell_type": "markdown",
   "metadata": {
    "application/vnd.databricks.v1+cell": {
     "cellMetadata": {},
     "inputWidgets": {},
     "nuid": "ac6a843d-f359-48ec-84fa-ea10db77ab28",
     "showTitle": false,
     "tableResultSettingsMap": {},
     "title": ""
    }
   },
   "source": [
    "<h1>Análise Patrimonial das eleições </h1>\n",
    "\n",
    "\n",
    "\n",
    "<h2>Proposta: Analisar a evolução patrimonial dos candidatos recorrentes na eleição de 2022 que se candidataram para as eleições de 2018 ou 2020</h2>\n",
    "\n",
    "\n",
    "<h3>Pergunta Principal: Qual a evolução patrimonial dos candidatos recorrentes da eleição de 2022?</h3>\n",
    "\n",
    "Aluno: **Juan Lima** [Linkedin](https://www.linkedin.com/in/juanrdlima/) [Email](mailto:juan.rdlima@gmail.com)"
   ]
  },
  {
   "cell_type": "markdown",
   "metadata": {
    "application/vnd.databricks.v1+cell": {
     "cellMetadata": {},
     "inputWidgets": {},
     "nuid": "f8ca64f7-f230-4940-8173-350b97a1ce06",
     "showTitle": false,
     "tableResultSettingsMap": {},
     "title": ""
    }
   },
   "source": [
    "Esse projeto usará bases disponibilizadas pelo TSE (Tribunal Superior Eleitoral) sob licença de uso livre, disponibilizadas no site:<br>\n",
    "[Portal de Dados Abertos](https://dadosabertos.tse.jus.br/)\n",
    "\n",
    "Serão usados os arquivos relativos aos candidatos e aos respectivos bens declarados em cada eleição<br>\n",
    "\n",
    "Arquivos Baixados no dia: 22/03/2025\n"
   ]
  },
  {
   "cell_type": "markdown",
   "metadata": {
    "application/vnd.databricks.v1+cell": {
     "cellMetadata": {},
     "inputWidgets": {},
     "nuid": "edd3363c-47d7-4d99-8bb7-a31146488732",
     "showTitle": false,
     "tableResultSettingsMap": {},
     "title": ""
    }
   },
   "source": [
    "**Link Individual de cada Arquivo utilizado:**\n",
    "1. 2022 - Presidenciais [Candidatos](https://dadosabertos.tse.jus.br/dataset/candidatos-2022/resource/435145fd-bc9d-446a-ac9d-273f585a0bb9) [Bens](https://dadosabertos.tse.jus.br/dataset/candidatos-2022/resource/fac824ef-8519-4c75-b634-378e6fcc717f)\n",
    "\n",
    "2. 2020 - Municipais [Candidatos](https://dadosabertos.tse.jus.br/dataset/candidatos-2020-subtemas/resource/8187b1aa-5026-4908-a15a-0bf777ee6701) [Bens](https://dadosabertos.tse.jus.br/dataset/candidatos-2020-subtemas/resource/4b5e016e-feed-4ff6-bf86-78217927709a)\n",
    "\n",
    "3. 2018 - Presidenciais [Candidatos](https://dadosabertos.tse.jus.br/dataset/candidatos-2018/resource/d9cb832e-fa52-4b62-8ee3-8d68d5620116) [Bens](https://dadosabertos.tse.jus.br/dataset/candidatos-2018/resource/84475557-764f-4457-9277-92b58fbb5f80)\n",
    "\n"
   ]
  },
  {
   "cell_type": "markdown",
   "metadata": {
    "application/vnd.databricks.v1+cell": {
     "cellMetadata": {},
     "inputWidgets": {},
     "nuid": "170ab4d0-6d35-4f80-9fe0-b0c544d2c1a0",
     "showTitle": false,
     "tableResultSettingsMap": {},
     "title": ""
    }
   },
   "source": [
    "Para armazenamento e processamento foi utilizado a ferramenta DataBricks Community."
   ]
  },
  {
   "cell_type": "code",
   "execution_count": 0,
   "metadata": {
    "application/vnd.databricks.v1+cell": {
     "cellMetadata": {
      "byteLimit": 2048000,
      "rowLimit": 10000
     },
     "inputWidgets": {},
     "nuid": "21c71c8d-e862-4247-b1e3-441a760b1707",
     "showTitle": false,
     "tableResultSettingsMap": {},
     "title": ""
    }
   },
   "outputs": [],
   "source": [
    "#Importação das Bibliotecas necessárias\n",
    "\n",
    "#Muitas Bibliotecas já vem incorporadas no Databricks, vou listar as utilizadas que não precisaram ser importadas como comentário\n",
    "\n",
    "#import dbutils"
   ]
  },
  {
   "cell_type": "markdown",
   "metadata": {
    "application/vnd.databricks.v1+cell": {
     "cellMetadata": {},
     "inputWidgets": {},
     "nuid": "4f71e395-c4f2-4db7-a28e-85eb5d9cfafc",
     "showTitle": false,
     "tableResultSettingsMap": {},
     "title": ""
    }
   },
   "source": [
    "<h2>Importação dos Arquivos</h2>\n",
    "\n",
    "Os arquivos disponibilizados nos links, estão no formato zip, para reduzir tempo de processamento realizei o download em minha máquina fiz o unzip e subi via upload no databricks, na pasta '/FileStore/tables/eleicoes', os zips contém 27 arquivos .csv separados em estados brasileiros e um com o compilado total, para essa análise usei os arquivos compilados.<br>\n",
    "\n",
    "Nos zips também há um arquivo pdf com uma descrição resumo de cada coluna presente nas bases, disponível no repositório GIT\n",
    "\n"
   ]
  },
  {
   "cell_type": "code",
   "execution_count": 0,
   "metadata": {
    "application/vnd.databricks.v1+cell": {
     "cellMetadata": {
      "byteLimit": 2048000,
      "rowLimit": 10000
     },
     "inputWidgets": {},
     "nuid": "f7fe199b-7a66-4f9e-afcb-69c12bae8d35",
     "showTitle": false,
     "tableResultSettingsMap": {},
     "title": ""
    }
   },
   "outputs": [
    {
     "output_type": "display_data",
     "data": {
      "text/html": [
       "<style scoped>\n",
       "  .table-result-container {\n",
       "    max-height: 300px;\n",
       "    overflow: auto;\n",
       "  }\n",
       "  table, th, td {\n",
       "    border: 1px solid black;\n",
       "    border-collapse: collapse;\n",
       "  }\n",
       "  th, td {\n",
       "    padding: 5px;\n",
       "  }\n",
       "  th {\n",
       "    text-align: left;\n",
       "  }\n",
       "</style><div class='table-result-container'><table class='table-result'><thead style='background-color: white'><tr><th>path</th><th>name</th><th>size</th><th>modificationTime</th></tr></thead><tbody><tr><td>dbfs:/FileStore/tables/eleicoes/bem_candidato_2018_BRASIL.csv</td><td>bem_candidato_2018_BRASIL.csv</td><td>23257575</td><td>1743892826000</td></tr><tr><td>dbfs:/FileStore/tables/eleicoes/bem_candidato_2020_BRASIL.csv</td><td>bem_candidato_2020_BRASIL.csv</td><td>266192439</td><td>1743892854000</td></tr><tr><td>dbfs:/FileStore/tables/eleicoes/bem_candidato_2022_BRASIL.csv</td><td>bem_candidato_2022_BRASIL.csv</td><td>20810528</td><td>1743892863000</td></tr><tr><td>dbfs:/FileStore/tables/eleicoes/consulta_cand_2018_BRASIL.csv</td><td>consulta_cand_2018_BRASIL.csv</td><td>15929977</td><td>1743892867000</td></tr><tr><td>dbfs:/FileStore/tables/eleicoes/consulta_cand_2020_BRASIL.csv</td><td>consulta_cand_2020_BRASIL.csv</td><td>294252540</td><td>1743892889000</td></tr><tr><td>dbfs:/FileStore/tables/eleicoes/consulta_cand_2022_BRASIL.csv</td><td>consulta_cand_2022_BRASIL.csv</td><td>15746625</td><td>1743892895000</td></tr></tbody></table></div>"
      ]
     },
     "metadata": {
      "application/vnd.databricks.v1+output": {
       "addedWidgets": {},
       "aggData": [],
       "aggError": "",
       "aggOverflow": false,
       "aggSchema": [],
       "aggSeriesLimitReached": false,
       "aggType": "",
       "arguments": {},
       "columnCustomDisplayInfos": {},
       "data": [
        [
         "dbfs:/FileStore/tables/eleicoes/bem_candidato_2018_BRASIL.csv",
         "bem_candidato_2018_BRASIL.csv",
         23257575,
         1743892826000
        ],
        [
         "dbfs:/FileStore/tables/eleicoes/bem_candidato_2020_BRASIL.csv",
         "bem_candidato_2020_BRASIL.csv",
         266192439,
         1743892854000
        ],
        [
         "dbfs:/FileStore/tables/eleicoes/bem_candidato_2022_BRASIL.csv",
         "bem_candidato_2022_BRASIL.csv",
         20810528,
         1743892863000
        ],
        [
         "dbfs:/FileStore/tables/eleicoes/consulta_cand_2018_BRASIL.csv",
         "consulta_cand_2018_BRASIL.csv",
         15929977,
         1743892867000
        ],
        [
         "dbfs:/FileStore/tables/eleicoes/consulta_cand_2020_BRASIL.csv",
         "consulta_cand_2020_BRASIL.csv",
         294252540,
         1743892889000
        ],
        [
         "dbfs:/FileStore/tables/eleicoes/consulta_cand_2022_BRASIL.csv",
         "consulta_cand_2022_BRASIL.csv",
         15746625,
         1743892895000
        ]
       ],
       "datasetInfos": [],
       "dbfsResultPath": null,
       "isJsonSchema": true,
       "metadata": {},
       "overflow": false,
       "plotOptions": {
        "customPlotOptions": {},
        "displayType": "table",
        "pivotAggregation": null,
        "pivotColumns": null,
        "xColumns": null,
        "yColumns": null
       },
       "removedWidgets": [],
       "schema": [
        {
         "metadata": "{}",
         "name": "path",
         "type": "\"string\""
        },
        {
         "metadata": "{}",
         "name": "name",
         "type": "\"string\""
        },
        {
         "metadata": "{}",
         "name": "size",
         "type": "\"long\""
        },
        {
         "metadata": "{}",
         "name": "modificationTime",
         "type": "\"long\""
        }
       ],
       "type": "table"
      }
     },
     "output_type": "display_data"
    }
   ],
   "source": [
    "#Validando arquivos nas pastas\n",
    "display(dbutils.fs.ls('/FileStore/tables/eleicoes'))"
   ]
  },
  {
   "cell_type": "markdown",
   "metadata": {
    "application/vnd.databricks.v1+cell": {
     "cellMetadata": {},
     "inputWidgets": {},
     "nuid": "b3d2355d-a28c-4639-823f-ec87f29b04b3",
     "showTitle": false,
     "tableResultSettingsMap": {},
     "title": ""
    }
   },
   "source": [
    "# Data Engineering"
   ]
  },
  {
   "cell_type": "markdown",
   "metadata": {
    "application/vnd.databricks.v1+cell": {
     "cellMetadata": {},
     "inputWidgets": {},
     "nuid": "16aa9e90-b57d-43a3-b9a4-5097d939d946",
     "showTitle": false,
     "tableResultSettingsMap": {},
     "title": ""
    }
   },
   "source": [
    "Irei separar o processo em três layers, cada um com seu respectivo schema.<br>\n",
    "Irei mante-los no catálogo \"padrão\", pois o community não permite a criação de catalogos."
   ]
  },
  {
   "cell_type": "markdown",
   "metadata": {
    "application/vnd.databricks.v1+cell": {
     "cellMetadata": {},
     "inputWidgets": {},
     "nuid": "4a8d0ea9-cda8-44c8-996f-b04be930a21b",
     "showTitle": false,
     "tableResultSettingsMap": {},
     "title": ""
    }
   },
   "source": [
    "<h3>Bronze Layer:</h3><br> Dados Brutos convertidos em tabelas"
   ]
  },
  {
   "cell_type": "code",
   "execution_count": 0,
   "metadata": {
    "application/vnd.databricks.v1+cell": {
     "cellMetadata": {
      "byteLimit": 2048000,
      "implicitDf": true,
      "rowLimit": 10000
     },
     "inputWidgets": {},
     "nuid": "f2e84f35-f658-4b56-ad6c-b6c75dee2187",
     "showTitle": false,
     "tableResultSettingsMap": {},
     "title": ""
    }
   },
   "outputs": [
    {
     "output_type": "display_data",
     "data": {
      "text/plain": [
       "\u001B[0;31m---------------------------------------------------------------------------\u001B[0m\n",
       "\u001B[0;31mAnalysisException\u001B[0m                         Traceback (most recent call last)\n",
       "File \u001B[0;32m<command-3002522921466276>:7\u001B[0m\n",
       "\u001B[1;32m      5\u001B[0m     display(df)\n",
       "\u001B[1;32m      6\u001B[0m     \u001B[38;5;28;01mreturn\u001B[39;00m df\n",
       "\u001B[0;32m----> 7\u001B[0m   _sqldf \u001B[38;5;241m=\u001B[39m \u001B[43m____databricks_percent_sql\u001B[49m\u001B[43m(\u001B[49m\u001B[43m)\u001B[49m\n",
       "\u001B[1;32m      8\u001B[0m \u001B[38;5;28;01mfinally\u001B[39;00m:\n",
       "\u001B[1;32m      9\u001B[0m   \u001B[38;5;28;01mdel\u001B[39;00m ____databricks_percent_sql\n",
       "\n",
       "File \u001B[0;32m<command-3002522921466276>:4\u001B[0m, in \u001B[0;36m____databricks_percent_sql\u001B[0;34m()\u001B[0m\n",
       "\u001B[1;32m      2\u001B[0m \u001B[38;5;28;01mdef\u001B[39;00m \u001B[38;5;21m____databricks_percent_sql\u001B[39m():\n",
       "\u001B[1;32m      3\u001B[0m   \u001B[38;5;28;01mimport\u001B[39;00m \u001B[38;5;21;01mbase64\u001B[39;00m\n",
       "\u001B[0;32m----> 4\u001B[0m   df \u001B[38;5;241m=\u001B[39m \u001B[43mspark\u001B[49m\u001B[38;5;241;43m.\u001B[39;49m\u001B[43msql\u001B[49m\u001B[43m(\u001B[49m\u001B[43mbase64\u001B[49m\u001B[38;5;241;43m.\u001B[39;49m\u001B[43mstandard_b64decode\u001B[49m\u001B[43m(\u001B[49m\u001B[38;5;124;43m\"\u001B[39;49m\u001B[38;5;124;43mLS1Dcmlhw6fDo28gQ2F0YWxvZwpDUkVBVEUgQ0FUQUxPRyBJRiBOT1QgRVhJU1RTICBtdnAxCiAgICBDT01NRU5UICdDYXRhbG9nIGZvciB0aGUgbXZwIDEgKGFuYWxpc2UgcGF0cmltb25pYSBkZSBjYW5kaWRhdG9zKSc=\u001B[39;49m\u001B[38;5;124;43m\"\u001B[39;49m\u001B[43m)\u001B[49m\u001B[38;5;241;43m.\u001B[39;49m\u001B[43mdecode\u001B[49m\u001B[43m(\u001B[49m\u001B[43m)\u001B[49m\u001B[43m)\u001B[49m\n",
       "\u001B[1;32m      5\u001B[0m   display(df)\n",
       "\u001B[1;32m      6\u001B[0m   \u001B[38;5;28;01mreturn\u001B[39;00m df\n",
       "\n",
       "File \u001B[0;32m/databricks/spark/python/pyspark/instrumentation_utils.py:48\u001B[0m, in \u001B[0;36m_wrap_function.<locals>.wrapper\u001B[0;34m(*args, **kwargs)\u001B[0m\n",
       "\u001B[1;32m     46\u001B[0m start \u001B[38;5;241m=\u001B[39m time\u001B[38;5;241m.\u001B[39mperf_counter()\n",
       "\u001B[1;32m     47\u001B[0m \u001B[38;5;28;01mtry\u001B[39;00m:\n",
       "\u001B[0;32m---> 48\u001B[0m     res \u001B[38;5;241m=\u001B[39m \u001B[43mfunc\u001B[49m\u001B[43m(\u001B[49m\u001B[38;5;241;43m*\u001B[39;49m\u001B[43margs\u001B[49m\u001B[43m,\u001B[49m\u001B[43m \u001B[49m\u001B[38;5;241;43m*\u001B[39;49m\u001B[38;5;241;43m*\u001B[39;49m\u001B[43mkwargs\u001B[49m\u001B[43m)\u001B[49m\n",
       "\u001B[1;32m     49\u001B[0m     logger\u001B[38;5;241m.\u001B[39mlog_success(\n",
       "\u001B[1;32m     50\u001B[0m         module_name, class_name, function_name, time\u001B[38;5;241m.\u001B[39mperf_counter() \u001B[38;5;241m-\u001B[39m start, signature\n",
       "\u001B[1;32m     51\u001B[0m     )\n",
       "\u001B[1;32m     52\u001B[0m     \u001B[38;5;28;01mreturn\u001B[39;00m res\n",
       "\n",
       "File \u001B[0;32m/databricks/spark/python/pyspark/sql/session.py:1387\u001B[0m, in \u001B[0;36mSparkSession.sql\u001B[0;34m(self, sqlQuery, args, **kwargs)\u001B[0m\n",
       "\u001B[1;32m   1385\u001B[0m \u001B[38;5;28;01mtry\u001B[39;00m:\n",
       "\u001B[1;32m   1386\u001B[0m     litArgs \u001B[38;5;241m=\u001B[39m {k: _to_java_column(lit(v)) \u001B[38;5;28;01mfor\u001B[39;00m k, v \u001B[38;5;129;01min\u001B[39;00m (args \u001B[38;5;129;01mor\u001B[39;00m {})\u001B[38;5;241m.\u001B[39mitems()}\n",
       "\u001B[0;32m-> 1387\u001B[0m     \u001B[38;5;28;01mreturn\u001B[39;00m DataFrame(\u001B[38;5;28;43mself\u001B[39;49m\u001B[38;5;241;43m.\u001B[39;49m\u001B[43m_jsparkSession\u001B[49m\u001B[38;5;241;43m.\u001B[39;49m\u001B[43msql\u001B[49m\u001B[43m(\u001B[49m\u001B[43msqlQuery\u001B[49m\u001B[43m,\u001B[49m\u001B[43m \u001B[49m\u001B[43mlitArgs\u001B[49m\u001B[43m)\u001B[49m, \u001B[38;5;28mself\u001B[39m)\n",
       "\u001B[1;32m   1388\u001B[0m \u001B[38;5;28;01mfinally\u001B[39;00m:\n",
       "\u001B[1;32m   1389\u001B[0m     \u001B[38;5;28;01mif\u001B[39;00m \u001B[38;5;28mlen\u001B[39m(kwargs) \u001B[38;5;241m>\u001B[39m \u001B[38;5;241m0\u001B[39m:\n",
       "\n",
       "File \u001B[0;32m/databricks/spark/python/lib/py4j-0.10.9.5-src.zip/py4j/java_gateway.py:1321\u001B[0m, in \u001B[0;36mJavaMember.__call__\u001B[0;34m(self, *args)\u001B[0m\n",
       "\u001B[1;32m   1315\u001B[0m command \u001B[38;5;241m=\u001B[39m proto\u001B[38;5;241m.\u001B[39mCALL_COMMAND_NAME \u001B[38;5;241m+\u001B[39m\\\n",
       "\u001B[1;32m   1316\u001B[0m     \u001B[38;5;28mself\u001B[39m\u001B[38;5;241m.\u001B[39mcommand_header \u001B[38;5;241m+\u001B[39m\\\n",
       "\u001B[1;32m   1317\u001B[0m     args_command \u001B[38;5;241m+\u001B[39m\\\n",
       "\u001B[1;32m   1318\u001B[0m     proto\u001B[38;5;241m.\u001B[39mEND_COMMAND_PART\n",
       "\u001B[1;32m   1320\u001B[0m answer \u001B[38;5;241m=\u001B[39m \u001B[38;5;28mself\u001B[39m\u001B[38;5;241m.\u001B[39mgateway_client\u001B[38;5;241m.\u001B[39msend_command(command)\n",
       "\u001B[0;32m-> 1321\u001B[0m return_value \u001B[38;5;241m=\u001B[39m \u001B[43mget_return_value\u001B[49m\u001B[43m(\u001B[49m\n",
       "\u001B[1;32m   1322\u001B[0m \u001B[43m    \u001B[49m\u001B[43manswer\u001B[49m\u001B[43m,\u001B[49m\u001B[43m \u001B[49m\u001B[38;5;28;43mself\u001B[39;49m\u001B[38;5;241;43m.\u001B[39;49m\u001B[43mgateway_client\u001B[49m\u001B[43m,\u001B[49m\u001B[43m \u001B[49m\u001B[38;5;28;43mself\u001B[39;49m\u001B[38;5;241;43m.\u001B[39;49m\u001B[43mtarget_id\u001B[49m\u001B[43m,\u001B[49m\u001B[43m \u001B[49m\u001B[38;5;28;43mself\u001B[39;49m\u001B[38;5;241;43m.\u001B[39;49m\u001B[43mname\u001B[49m\u001B[43m)\u001B[49m\n",
       "\u001B[1;32m   1324\u001B[0m \u001B[38;5;28;01mfor\u001B[39;00m temp_arg \u001B[38;5;129;01min\u001B[39;00m temp_args:\n",
       "\u001B[1;32m   1325\u001B[0m     temp_arg\u001B[38;5;241m.\u001B[39m_detach()\n",
       "\n",
       "File \u001B[0;32m/databricks/spark/python/pyspark/errors/exceptions.py:234\u001B[0m, in \u001B[0;36mcapture_sql_exception.<locals>.deco\u001B[0;34m(*a, **kw)\u001B[0m\n",
       "\u001B[1;32m    230\u001B[0m converted \u001B[38;5;241m=\u001B[39m convert_exception(e\u001B[38;5;241m.\u001B[39mjava_exception)\n",
       "\u001B[1;32m    231\u001B[0m \u001B[38;5;28;01mif\u001B[39;00m \u001B[38;5;129;01mnot\u001B[39;00m \u001B[38;5;28misinstance\u001B[39m(converted, UnknownException):\n",
       "\u001B[1;32m    232\u001B[0m     \u001B[38;5;66;03m# Hide where the exception came from that shows a non-Pythonic\u001B[39;00m\n",
       "\u001B[1;32m    233\u001B[0m     \u001B[38;5;66;03m# JVM exception message.\u001B[39;00m\n",
       "\u001B[0;32m--> 234\u001B[0m     \u001B[38;5;28;01mraise\u001B[39;00m converted \u001B[38;5;28;01mfrom\u001B[39;00m \u001B[38;5;28mNone\u001B[39m\n",
       "\u001B[1;32m    235\u001B[0m \u001B[38;5;28;01melse\u001B[39;00m:\n",
       "\u001B[1;32m    236\u001B[0m     \u001B[38;5;28;01mraise\u001B[39;00m\n",
       "\n",
       "\u001B[0;31mAnalysisException\u001B[0m: [UC_NOT_ENABLED] Unity Catalog is not enabled on this cluster."
      ]
     },
     "metadata": {
      "application/vnd.databricks.v1+output": {
       "arguments": {},
       "data": "\u001B[0;31m---------------------------------------------------------------------------\u001B[0m\n\u001B[0;31mAnalysisException\u001B[0m                         Traceback (most recent call last)\nFile \u001B[0;32m<command-3002522921466276>:7\u001B[0m\n\u001B[1;32m      5\u001B[0m     display(df)\n\u001B[1;32m      6\u001B[0m     \u001B[38;5;28;01mreturn\u001B[39;00m df\n\u001B[0;32m----> 7\u001B[0m   _sqldf \u001B[38;5;241m=\u001B[39m \u001B[43m____databricks_percent_sql\u001B[49m\u001B[43m(\u001B[49m\u001B[43m)\u001B[49m\n\u001B[1;32m      8\u001B[0m \u001B[38;5;28;01mfinally\u001B[39;00m:\n\u001B[1;32m      9\u001B[0m   \u001B[38;5;28;01mdel\u001B[39;00m ____databricks_percent_sql\n\nFile \u001B[0;32m<command-3002522921466276>:4\u001B[0m, in \u001B[0;36m____databricks_percent_sql\u001B[0;34m()\u001B[0m\n\u001B[1;32m      2\u001B[0m \u001B[38;5;28;01mdef\u001B[39;00m \u001B[38;5;21m____databricks_percent_sql\u001B[39m():\n\u001B[1;32m      3\u001B[0m   \u001B[38;5;28;01mimport\u001B[39;00m \u001B[38;5;21;01mbase64\u001B[39;00m\n\u001B[0;32m----> 4\u001B[0m   df \u001B[38;5;241m=\u001B[39m \u001B[43mspark\u001B[49m\u001B[38;5;241;43m.\u001B[39;49m\u001B[43msql\u001B[49m\u001B[43m(\u001B[49m\u001B[43mbase64\u001B[49m\u001B[38;5;241;43m.\u001B[39;49m\u001B[43mstandard_b64decode\u001B[49m\u001B[43m(\u001B[49m\u001B[38;5;124;43m\"\u001B[39;49m\u001B[38;5;124;43mLS1Dcmlhw6fDo28gQ2F0YWxvZwpDUkVBVEUgQ0FUQUxPRyBJRiBOT1QgRVhJU1RTICBtdnAxCiAgICBDT01NRU5UICdDYXRhbG9nIGZvciB0aGUgbXZwIDEgKGFuYWxpc2UgcGF0cmltb25pYSBkZSBjYW5kaWRhdG9zKSc=\u001B[39;49m\u001B[38;5;124;43m\"\u001B[39;49m\u001B[43m)\u001B[49m\u001B[38;5;241;43m.\u001B[39;49m\u001B[43mdecode\u001B[49m\u001B[43m(\u001B[49m\u001B[43m)\u001B[49m\u001B[43m)\u001B[49m\n\u001B[1;32m      5\u001B[0m   display(df)\n\u001B[1;32m      6\u001B[0m   \u001B[38;5;28;01mreturn\u001B[39;00m df\n\nFile \u001B[0;32m/databricks/spark/python/pyspark/instrumentation_utils.py:48\u001B[0m, in \u001B[0;36m_wrap_function.<locals>.wrapper\u001B[0;34m(*args, **kwargs)\u001B[0m\n\u001B[1;32m     46\u001B[0m start \u001B[38;5;241m=\u001B[39m time\u001B[38;5;241m.\u001B[39mperf_counter()\n\u001B[1;32m     47\u001B[0m \u001B[38;5;28;01mtry\u001B[39;00m:\n\u001B[0;32m---> 48\u001B[0m     res \u001B[38;5;241m=\u001B[39m \u001B[43mfunc\u001B[49m\u001B[43m(\u001B[49m\u001B[38;5;241;43m*\u001B[39;49m\u001B[43margs\u001B[49m\u001B[43m,\u001B[49m\u001B[43m \u001B[49m\u001B[38;5;241;43m*\u001B[39;49m\u001B[38;5;241;43m*\u001B[39;49m\u001B[43mkwargs\u001B[49m\u001B[43m)\u001B[49m\n\u001B[1;32m     49\u001B[0m     logger\u001B[38;5;241m.\u001B[39mlog_success(\n\u001B[1;32m     50\u001B[0m         module_name, class_name, function_name, time\u001B[38;5;241m.\u001B[39mperf_counter() \u001B[38;5;241m-\u001B[39m start, signature\n\u001B[1;32m     51\u001B[0m     )\n\u001B[1;32m     52\u001B[0m     \u001B[38;5;28;01mreturn\u001B[39;00m res\n\nFile \u001B[0;32m/databricks/spark/python/pyspark/sql/session.py:1387\u001B[0m, in \u001B[0;36mSparkSession.sql\u001B[0;34m(self, sqlQuery, args, **kwargs)\u001B[0m\n\u001B[1;32m   1385\u001B[0m \u001B[38;5;28;01mtry\u001B[39;00m:\n\u001B[1;32m   1386\u001B[0m     litArgs \u001B[38;5;241m=\u001B[39m {k: _to_java_column(lit(v)) \u001B[38;5;28;01mfor\u001B[39;00m k, v \u001B[38;5;129;01min\u001B[39;00m (args \u001B[38;5;129;01mor\u001B[39;00m {})\u001B[38;5;241m.\u001B[39mitems()}\n\u001B[0;32m-> 1387\u001B[0m     \u001B[38;5;28;01mreturn\u001B[39;00m DataFrame(\u001B[38;5;28;43mself\u001B[39;49m\u001B[38;5;241;43m.\u001B[39;49m\u001B[43m_jsparkSession\u001B[49m\u001B[38;5;241;43m.\u001B[39;49m\u001B[43msql\u001B[49m\u001B[43m(\u001B[49m\u001B[43msqlQuery\u001B[49m\u001B[43m,\u001B[49m\u001B[43m \u001B[49m\u001B[43mlitArgs\u001B[49m\u001B[43m)\u001B[49m, \u001B[38;5;28mself\u001B[39m)\n\u001B[1;32m   1388\u001B[0m \u001B[38;5;28;01mfinally\u001B[39;00m:\n\u001B[1;32m   1389\u001B[0m     \u001B[38;5;28;01mif\u001B[39;00m \u001B[38;5;28mlen\u001B[39m(kwargs) \u001B[38;5;241m>\u001B[39m \u001B[38;5;241m0\u001B[39m:\n\nFile \u001B[0;32m/databricks/spark/python/lib/py4j-0.10.9.5-src.zip/py4j/java_gateway.py:1321\u001B[0m, in \u001B[0;36mJavaMember.__call__\u001B[0;34m(self, *args)\u001B[0m\n\u001B[1;32m   1315\u001B[0m command \u001B[38;5;241m=\u001B[39m proto\u001B[38;5;241m.\u001B[39mCALL_COMMAND_NAME \u001B[38;5;241m+\u001B[39m\\\n\u001B[1;32m   1316\u001B[0m     \u001B[38;5;28mself\u001B[39m\u001B[38;5;241m.\u001B[39mcommand_header \u001B[38;5;241m+\u001B[39m\\\n\u001B[1;32m   1317\u001B[0m     args_command \u001B[38;5;241m+\u001B[39m\\\n\u001B[1;32m   1318\u001B[0m     proto\u001B[38;5;241m.\u001B[39mEND_COMMAND_PART\n\u001B[1;32m   1320\u001B[0m answer \u001B[38;5;241m=\u001B[39m \u001B[38;5;28mself\u001B[39m\u001B[38;5;241m.\u001B[39mgateway_client\u001B[38;5;241m.\u001B[39msend_command(command)\n\u001B[0;32m-> 1321\u001B[0m return_value \u001B[38;5;241m=\u001B[39m \u001B[43mget_return_value\u001B[49m\u001B[43m(\u001B[49m\n\u001B[1;32m   1322\u001B[0m \u001B[43m    \u001B[49m\u001B[43manswer\u001B[49m\u001B[43m,\u001B[49m\u001B[43m \u001B[49m\u001B[38;5;28;43mself\u001B[39;49m\u001B[38;5;241;43m.\u001B[39;49m\u001B[43mgateway_client\u001B[49m\u001B[43m,\u001B[49m\u001B[43m \u001B[49m\u001B[38;5;28;43mself\u001B[39;49m\u001B[38;5;241;43m.\u001B[39;49m\u001B[43mtarget_id\u001B[49m\u001B[43m,\u001B[49m\u001B[43m \u001B[49m\u001B[38;5;28;43mself\u001B[39;49m\u001B[38;5;241;43m.\u001B[39;49m\u001B[43mname\u001B[49m\u001B[43m)\u001B[49m\n\u001B[1;32m   1324\u001B[0m \u001B[38;5;28;01mfor\u001B[39;00m temp_arg \u001B[38;5;129;01min\u001B[39;00m temp_args:\n\u001B[1;32m   1325\u001B[0m     temp_arg\u001B[38;5;241m.\u001B[39m_detach()\n\nFile \u001B[0;32m/databricks/spark/python/pyspark/errors/exceptions.py:234\u001B[0m, in \u001B[0;36mcapture_sql_exception.<locals>.deco\u001B[0;34m(*a, **kw)\u001B[0m\n\u001B[1;32m    230\u001B[0m converted \u001B[38;5;241m=\u001B[39m convert_exception(e\u001B[38;5;241m.\u001B[39mjava_exception)\n\u001B[1;32m    231\u001B[0m \u001B[38;5;28;01mif\u001B[39;00m \u001B[38;5;129;01mnot\u001B[39;00m \u001B[38;5;28misinstance\u001B[39m(converted, UnknownException):\n\u001B[1;32m    232\u001B[0m     \u001B[38;5;66;03m# Hide where the exception came from that shows a non-Pythonic\u001B[39;00m\n\u001B[1;32m    233\u001B[0m     \u001B[38;5;66;03m# JVM exception message.\u001B[39;00m\n\u001B[0;32m--> 234\u001B[0m     \u001B[38;5;28;01mraise\u001B[39;00m converted \u001B[38;5;28;01mfrom\u001B[39;00m \u001B[38;5;28mNone\u001B[39m\n\u001B[1;32m    235\u001B[0m \u001B[38;5;28;01melse\u001B[39;00m:\n\u001B[1;32m    236\u001B[0m     \u001B[38;5;28;01mraise\u001B[39;00m\n\n\u001B[0;31mAnalysisException\u001B[0m: [UC_NOT_ENABLED] Unity Catalog is not enabled on this cluster.",
       "errorSummary": "<span class='ansi-red-fg'>AnalysisException</span>: [UC_NOT_ENABLED] Unity Catalog is not enabled on this cluster.",
       "errorTraceType": "ansi",
       "metadata": {},
       "type": "ipynbError"
      }
     },
     "output_type": "display_data"
    }
   ],
   "source": [
    "%sql\n",
    "--Criação Catalog\n",
    "CREATE CATALOG IF NOT EXISTS  mvp1\n",
    "    COMMENT 'Catalog for the mvp 1 (analise patrimonia de candidatos)' "
   ]
  },
  {
   "cell_type": "code",
   "execution_count": 0,
   "metadata": {
    "application/vnd.databricks.v1+cell": {
     "cellMetadata": {
      "byteLimit": 2048000,
      "implicitDf": true,
      "rowLimit": 10000
     },
     "inputWidgets": {},
     "nuid": "0450aa59-13d8-4482-a334-a5ed4f69172a",
     "showTitle": false,
     "tableResultSettingsMap": {},
     "title": ""
    }
   },
   "outputs": [
    {
     "output_type": "display_data",
     "data": {
      "text/html": [
       "<style scoped>\n",
       "  .table-result-container {\n",
       "    max-height: 300px;\n",
       "    overflow: auto;\n",
       "  }\n",
       "  table, th, td {\n",
       "    border: 1px solid black;\n",
       "    border-collapse: collapse;\n",
       "  }\n",
       "  th, td {\n",
       "    padding: 5px;\n",
       "  }\n",
       "  th {\n",
       "    text-align: left;\n",
       "  }\n",
       "</style><div class='table-result-container'><table class='table-result'><thead style='background-color: white'><tr></tr></thead><tbody></tbody></table></div>"
      ]
     },
     "metadata": {
      "application/vnd.databricks.v1+output": {
       "addedWidgets": {},
       "aggData": [],
       "aggError": "",
       "aggOverflow": false,
       "aggSchema": [],
       "aggSeriesLimitReached": false,
       "aggType": "",
       "arguments": {},
       "columnCustomDisplayInfos": {},
       "data": [],
       "datasetInfos": [],
       "dbfsResultPath": null,
       "isJsonSchema": true,
       "metadata": {},
       "overflow": false,
       "plotOptions": {
        "customPlotOptions": {},
        "displayType": "table",
        "pivotAggregation": null,
        "pivotColumns": null,
        "xColumns": null,
        "yColumns": null
       },
       "removedWidgets": [],
       "schema": [],
       "type": "table"
      }
     },
     "output_type": "display_data"
    }
   ],
   "source": [
    "%sql\n",
    "--Criação Bronze Layer\n",
    "CREATE SCHEMA IF NOT EXISTS  eleicao_bronze\n",
    "    COMMENT 'Bronze Schema with raw tables' "
   ]
  },
  {
   "cell_type": "code",
   "execution_count": 0,
   "metadata": {
    "application/vnd.databricks.v1+cell": {
     "cellMetadata": {
      "byteLimit": 2048000,
      "rowLimit": 10000
     },
     "inputWidgets": {},
     "nuid": "25c2edf7-d98d-4cd0-887f-068f8a2a5222",
     "showTitle": false,
     "tableResultSettingsMap": {},
     "title": ""
    }
   },
   "outputs": [
    {
     "output_type": "display_data",
     "data": {
      "text/html": [
       "<style scoped>\n",
       "  .table-result-container {\n",
       "    max-height: 300px;\n",
       "    overflow: auto;\n",
       "  }\n",
       "  table, th, td {\n",
       "    border: 1px solid black;\n",
       "    border-collapse: collapse;\n",
       "  }\n",
       "  th, td {\n",
       "    padding: 5px;\n",
       "  }\n",
       "  th {\n",
       "    text-align: left;\n",
       "  }\n",
       "</style><div class='table-result-container'><table class='table-result'><thead style='background-color: white'><tr><th>DT_GERACAO</th><th>HH_GERACAO</th><th>ANO_ELEICAO</th><th>CD_TIPO_ELEICAO</th><th>NM_TIPO_ELEICAO</th><th>NR_TURNO</th><th>CD_ELEICAO</th><th>DS_ELEICAO</th><th>DT_ELEICAO</th><th>TP_ABRANGENCIA</th><th>SG_UF</th><th>SG_UE</th><th>NM_UE</th><th>CD_CARGO</th><th>DS_CARGO</th><th>SQ_CANDIDATO</th><th>NR_CANDIDATO</th><th>NM_CANDIDATO</th><th>NM_URNA_CANDIDATO</th><th>NM_SOCIAL_CANDIDATO</th><th>NR_CPF_CANDIDATO</th><th>DS_EMAIL</th><th>CD_SITUACAO_CANDIDATURA</th><th>DS_SITUACAO_CANDIDATURA</th><th>TP_AGREMIACAO</th><th>NR_PARTIDO</th><th>SG_PARTIDO</th><th>NM_PARTIDO</th><th>NR_FEDERACAO</th><th>NM_FEDERACAO</th><th>SG_FEDERACAO</th><th>DS_COMPOSICAO_FEDERACAO</th><th>SQ_COLIGACAO</th><th>NM_COLIGACAO</th><th>DS_COMPOSICAO_COLIGACAO</th><th>SG_UF_NASCIMENTO</th><th>DT_NASCIMENTO</th><th>NR_TITULO_ELEITORAL_CANDIDATO</th><th>CD_GENERO</th><th>DS_GENERO</th><th>CD_GRAU_INSTRUCAO</th><th>DS_GRAU_INSTRUCAO</th><th>CD_ESTADO_CIVIL</th><th>DS_ESTADO_CIVIL</th><th>CD_COR_RACA</th><th>DS_COR_RACA</th><th>CD_OCUPACAO</th><th>DS_OCUPACAO</th><th>CD_SIT_TOT_TURNO</th><th>DS_SIT_TOT_TURNO</th></tr></thead><tbody><tr><td>22/03/2025</td><td>03:36:11</td><td>2022</td><td>2</td><td>ELEIÇÃO ORDINÁRIA</td><td>1</td><td>544</td><td>Eleição Geral Federal 2022</td><td>02/10/2022</td><td>FEDERAL</td><td>BR</td><td>BR</td><td>BRASIL</td><td>1</td><td>PRESIDENTE</td><td>280001618036</td><td>22</td><td>JAIR MESSIAS BOLSONARO</td><td>JAIR BOLSONARO</td><td>#NULO</td><td>45317828791</td><td>NÃO DIVULGÁVEL</td><td>12</td><td>APTO</td><td>COLIGAÇÃO</td><td>22</td><td>PL</td><td>PARTIDO LIBERAL</td><td>-1</td><td>#NULO</td><td>#NULO</td><td>#NULO</td><td>280001682069</td><td>Pelo bem do Brasil</td><td>PP / REPUBLICANOS / PL</td><td>SP</td><td>21/03/1955</td><td>015564190337</td><td>2</td><td>MASCULINO</td><td>8</td><td>SUPERIOR COMPLETO</td><td>3</td><td>CASADO(A)</td><td>01</td><td>BRANCA</td><td>272</td><td>PRESIDENTE DA REPÚBLICA</td><td>6</td><td>2º TURNO</td></tr><tr><td>22/03/2025</td><td>03:36:11</td><td>2022</td><td>2</td><td>ELEIÇÃO ORDINÁRIA</td><td>1</td><td>544</td><td>Eleição Geral Federal 2022</td><td>02/10/2022</td><td>FEDERAL</td><td>BR</td><td>BR</td><td>BRASIL</td><td>1</td><td>PRESIDENTE</td><td>280001644128</td><td>44</td><td>SORAYA VIEIRA THRONICKE</td><td>SORAYA THRONICKE</td><td>#NULO</td><td>60838965172</td><td>NÃO DIVULGÁVEL</td><td>12</td><td>APTO</td><td>PARTIDO ISOLADO</td><td>44</td><td>UNIÃO</td><td>UNIÃO BRASIL</td><td>-1</td><td>#NULO</td><td>#NULO</td><td>#NULO</td><td>280001683105</td><td>PARTIDO ISOLADO</td><td>UNIÃO</td><td>MS</td><td>01/06/1973</td><td>013250921929</td><td>4</td><td>FEMININO</td><td>8</td><td>SUPERIOR COMPLETO</td><td>3</td><td>CASADO(A)</td><td>01</td><td>BRANCA</td><td>276</td><td>SENADOR</td><td>4</td><td>NÃO ELEITO</td></tr><tr><td>22/03/2025</td><td>03:36:11</td><td>2022</td><td>2</td><td>ELEIÇÃO ORDINÁRIA</td><td>1</td><td>544</td><td>Eleição Geral Federal 2022</td><td>02/10/2022</td><td>FEDERAL</td><td>BR</td><td>BR</td><td>BRASIL</td><td>2</td><td>VICE-PRESIDENTE</td><td>280001677436</td><td>27</td><td>JOAO BARBOSA BRAVO</td><td>PROFESSOR BRAVO</td><td>#NULO</td><td>03532046768</td><td>NÃO DIVULGÁVEL</td><td>12</td><td>APTO</td><td>PARTIDO ISOLADO</td><td>27</td><td>DC</td><td>DEMOCRACIA CRISTÃ</td><td>-1</td><td>#NULO</td><td>#NULO</td><td>#NULO</td><td>280001684145</td><td>PARTIDO ISOLADO</td><td>DC</td><td>RJ</td><td>27/06/1947</td><td>045076570302</td><td>2</td><td>MASCULINO</td><td>8</td><td>SUPERIOR COMPLETO</td><td>3</td><td>CASADO(A)</td><td>01</td><td>BRANCA</td><td>121</td><td>ECONOMISTA</td><td>4</td><td>NÃO ELEITO</td></tr><tr><td>22/03/2025</td><td>03:36:11</td><td>2022</td><td>2</td><td>ELEIÇÃO ORDINÁRIA</td><td>1</td><td>544</td><td>Eleição Geral Federal 2022</td><td>02/10/2022</td><td>FEDERAL</td><td>BR</td><td>BR</td><td>BRASIL</td><td>2</td><td>VICE-PRESIDENTE</td><td>280001600166</td><td>21</td><td>ANTONIO ALVES DA SILVA JUNIOR</td><td>ANTONIO ALVES</td><td>#NULO</td><td>04551706493</td><td>NÃO DIVULGÁVEL</td><td>12</td><td>APTO</td><td>PARTIDO ISOLADO</td><td>21</td><td>PCB</td><td>PARTIDO COMUNISTA BRASILEIRO</td><td>-1</td><td>#NULO</td><td>#NULO</td><td>#NULO</td><td>280001681036</td><td>PARTIDO ISOLADO</td><td>PCB</td><td>PE</td><td>07/10/1978</td><td>056283400876</td><td>2</td><td>MASCULINO</td><td>8</td><td>SUPERIOR COMPLETO</td><td>1</td><td>SOLTEIRO(A)</td><td>02</td><td>PRETA</td><td>171</td><td>JORNALISTA E REDATOR</td><td>4</td><td>NÃO ELEITO</td></tr><tr><td>22/03/2025</td><td>03:36:11</td><td>2022</td><td>2</td><td>ELEIÇÃO ORDINÁRIA</td><td>1</td><td>546</td><td>Eleições Gerais Estaduais 2022</td><td>02/10/2022</td><td>ESTADUAL</td><td>AP</td><td>AP</td><td>AMAPÁ</td><td>3</td><td>GOVERNADOR</td><td>30001639521</td><td>28</td><td>GESIEL DE SOUZA OLIVEIRA</td><td>GESIEL DE OLIVEIRA</td><td>#NULO</td><td>61341509249</td><td>NÃO DIVULGÁVEL</td><td>12</td><td>APTO</td><td>PARTIDO ISOLADO</td><td>28</td><td>PRTB</td><td>PARTIDO RENOVADOR TRABALHISTA BRASILEIRO</td><td>-1</td><td>#NULO</td><td>#NULO</td><td>#NULO</td><td>30001682792</td><td>PARTIDO ISOLADO</td><td>PRTB</td><td>AP</td><td>03/02/1978</td><td>002462812585</td><td>2</td><td>MASCULINO</td><td>8</td><td>SUPERIOR COMPLETO</td><td>3</td><td>CASADO(A)</td><td>01</td><td>BRANCA</td><td>999</td><td>OUTROS</td><td>4</td><td>NÃO ELEITO</td></tr><tr><td>22/03/2025</td><td>03:36:11</td><td>2022</td><td>2</td><td>ELEIÇÃO ORDINÁRIA</td><td>1</td><td>546</td><td>Eleições Gerais Estaduais 2022</td><td>02/10/2022</td><td>ESTADUAL</td><td>AP</td><td>AP</td><td>AMAPÁ</td><td>3</td><td>GOVERNADOR</td><td>30001620571</td><td>15</td><td>GILVAM PINHEIRO BORGES</td><td>GILVAM BORGES</td><td>#NULO</td><td>11907894268</td><td>NÃO DIVULGÁVEL</td><td>12</td><td>APTO</td><td>COLIGAÇÃO</td><td>15</td><td>MDB</td><td>MOVIMENTO DEMOCRÁTICO BRASILEIRO</td><td>-1</td><td>#NULO</td><td>#NULO</td><td>#NULO</td><td>30001682227</td><td>EFICIÊNCIA E TRABALHO</td><td>PROS / PODE / MDB</td><td>DF</td><td>01/08/1958</td><td>000346522577</td><td>2</td><td>MASCULINO</td><td>8</td><td>SUPERIOR COMPLETO</td><td>1</td><td>SOLTEIRO(A)</td><td>03</td><td>PARDA</td><td>133</td><td>SOCIÓLOGO</td><td>4</td><td>NÃO ELEITO</td></tr><tr><td>22/03/2025</td><td>03:36:11</td><td>2022</td><td>2</td><td>ELEIÇÃO ORDINÁRIA</td><td>1</td><td>546</td><td>Eleições Gerais Estaduais 2022</td><td>02/10/2022</td><td>ESTADUAL</td><td>AP</td><td>AP</td><td>AMAPÁ</td><td>3</td><td>GOVERNADOR</td><td>30001643108</td><td>55</td><td>JAIME DOMINGUES NUNES</td><td>JAIME NUNES</td><td>#NULO</td><td>14673835204</td><td>NÃO DIVULGÁVEL</td><td>12</td><td>APTO</td><td>COLIGAÇÃO</td><td>55</td><td>PSD</td><td>PARTIDO SOCIAL DEMOCRÁTICO</td><td>-1</td><td>#NULO</td><td>#NULO</td><td>#NULO</td><td>30001683045</td><td>PRA MUDAR DE VERDADE</td><td>PTB / PSC / PROS / PSD / AGIR</td><td>AP</td><td>29/07/1959</td><td>000285072526</td><td>2</td><td>MASCULINO</td><td>8</td><td>SUPERIOR COMPLETO</td><td>3</td><td>CASADO(A)</td><td>01</td><td>BRANCA</td><td>257</td><td>EMPRESÁRIO</td><td>4</td><td>NÃO ELEITO</td></tr><tr><td>22/03/2025</td><td>03:36:11</td><td>2022</td><td>2</td><td>ELEIÇÃO ORDINÁRIA</td><td>1</td><td>546</td><td>Eleições Gerais Estaduais 2022</td><td>02/10/2022</td><td>ESTADUAL</td><td>BA</td><td>BA</td><td>BAHIA</td><td>3</td><td>GOVERNADOR</td><td>50001604884</td><td>22</td><td>JOÃO INÁCIO RIBEIRO ROMA NETO</td><td>JOÃO ROMA</td><td>#NULO</td><td>81968442472</td><td>NÃO DIVULGÁVEL</td><td>12</td><td>APTO</td><td>COLIGAÇÃO</td><td>22</td><td>PL</td><td>PARTIDO LIBERAL</td><td>-1</td><td>#NULO</td><td>#NULO</td><td>#NULO</td><td>50001681261</td><td>BAHIA DE MÃOS DADAS COM O BRASIL</td><td>PMB / PATRIOTA / PL / PROS / AGIR</td><td>PE</td><td>17/11/1972</td><td>037641250850</td><td>2</td><td>MASCULINO</td><td>8</td><td>SUPERIOR COMPLETO</td><td>3</td><td>CASADO(A)</td><td>01</td><td>BRANCA</td><td>234</td><td>PRODUTOR AGROPECUÁRIO</td><td>4</td><td>NÃO ELEITO</td></tr><tr><td>22/03/2025</td><td>03:36:11</td><td>2022</td><td>2</td><td>ELEIÇÃO ORDINÁRIA</td><td>1</td><td>546</td><td>Eleições Gerais Estaduais 2022</td><td>02/10/2022</td><td>ESTADUAL</td><td>PI</td><td>PI</td><td>PIAUÍ</td><td>3</td><td>GOVERNADOR</td><td>180001713732</td><td>33</td><td>RAVENNA DE CASTRO LIMA AZEVEDO</td><td>RAVENNA CASTRO</td><td>#NULO</td><td>00854325395</td><td>NÃO DIVULGÁVEL</td><td>12</td><td>APTO</td><td>PARTIDO ISOLADO</td><td>33</td><td>PMN</td><td>PARTIDO DA MOBILIZAÇÃO NACIONAL</td><td>-1</td><td>#NULO</td><td>#NULO</td><td>#NULO</td><td>180001685107</td><td>PARTIDO ISOLADO</td><td>PMN</td><td>PI</td><td>15/05/1986</td><td>029874391546</td><td>4</td><td>FEMININO</td><td>8</td><td>SUPERIOR COMPLETO</td><td>9</td><td>DIVORCIADO(A)</td><td>03</td><td>PARDA</td><td>131</td><td>ADVOGADO</td><td>4</td><td>NÃO ELEITO</td></tr><tr><td>22/03/2025</td><td>03:36:11</td><td>2022</td><td>2</td><td>ELEIÇÃO ORDINÁRIA</td><td>1</td><td>546</td><td>Eleições Gerais Estaduais 2022</td><td>02/10/2022</td><td>ESTADUAL</td><td>AC</td><td>AC</td><td>ACRE</td><td>7</td><td>DEPUTADO ESTADUAL</td><td>10001643441</td><td>11155</td><td>RAIMUNDO SALES DA SILVA</td><td>BIGODE</td><td>#NULO</td><td>05135834249</td><td>NÃO DIVULGÁVEL</td><td>12</td><td>APTO</td><td>PARTIDO ISOLADO</td><td>11</td><td>PP</td><td>PROGRESSISTAS</td><td>-1</td><td>#NULO</td><td>#NULO</td><td>#NULO</td><td>10001683065</td><td>PARTIDO ISOLADO</td><td>PP</td><td>AC</td><td>10/04/1955</td><td>000837222496</td><td>2</td><td>MASCULINO</td><td>4</td><td>ENSINO FUNDAMENTAL COMPLETO</td><td>9</td><td>DIVORCIADO(A)</td><td>03</td><td>PARDA</td><td>604</td><td>PESCADOR</td><td>5</td><td>SUPLENTE</td></tr></tbody></table></div>"
      ]
     },
     "metadata": {
      "application/vnd.databricks.v1+output": {
       "addedWidgets": {},
       "aggData": [],
       "aggError": "",
       "aggOverflow": false,
       "aggSchema": [],
       "aggSeriesLimitReached": false,
       "aggType": "",
       "arguments": {},
       "columnCustomDisplayInfos": {},
       "data": [
        [
         "22/03/2025",
         "03:36:11",
         "2022",
         "2",
         "ELEIÇÃO ORDINÁRIA",
         "1",
         "544",
         "Eleição Geral Federal 2022",
         "02/10/2022",
         "FEDERAL",
         "BR",
         "BR",
         "BRASIL",
         "1",
         "PRESIDENTE",
         "280001618036",
         "22",
         "JAIR MESSIAS BOLSONARO",
         "JAIR BOLSONARO",
         "#NULO",
         "45317828791",
         "NÃO DIVULGÁVEL",
         "12",
         "APTO",
         "COLIGAÇÃO",
         "22",
         "PL",
         "PARTIDO LIBERAL",
         "-1",
         "#NULO",
         "#NULO",
         "#NULO",
         "280001682069",
         "Pelo bem do Brasil",
         "PP / REPUBLICANOS / PL",
         "SP",
         "21/03/1955",
         "015564190337",
         "2",
         "MASCULINO",
         "8",
         "SUPERIOR COMPLETO",
         "3",
         "CASADO(A)",
         "01",
         "BRANCA",
         "272",
         "PRESIDENTE DA REPÚBLICA",
         "6",
         "2º TURNO"
        ],
        [
         "22/03/2025",
         "03:36:11",
         "2022",
         "2",
         "ELEIÇÃO ORDINÁRIA",
         "1",
         "544",
         "Eleição Geral Federal 2022",
         "02/10/2022",
         "FEDERAL",
         "BR",
         "BR",
         "BRASIL",
         "1",
         "PRESIDENTE",
         "280001644128",
         "44",
         "SORAYA VIEIRA THRONICKE",
         "SORAYA THRONICKE",
         "#NULO",
         "60838965172",
         "NÃO DIVULGÁVEL",
         "12",
         "APTO",
         "PARTIDO ISOLADO",
         "44",
         "UNIÃO",
         "UNIÃO BRASIL",
         "-1",
         "#NULO",
         "#NULO",
         "#NULO",
         "280001683105",
         "PARTIDO ISOLADO",
         "UNIÃO",
         "MS",
         "01/06/1973",
         "013250921929",
         "4",
         "FEMININO",
         "8",
         "SUPERIOR COMPLETO",
         "3",
         "CASADO(A)",
         "01",
         "BRANCA",
         "276",
         "SENADOR",
         "4",
         "NÃO ELEITO"
        ],
        [
         "22/03/2025",
         "03:36:11",
         "2022",
         "2",
         "ELEIÇÃO ORDINÁRIA",
         "1",
         "544",
         "Eleição Geral Federal 2022",
         "02/10/2022",
         "FEDERAL",
         "BR",
         "BR",
         "BRASIL",
         "2",
         "VICE-PRESIDENTE",
         "280001677436",
         "27",
         "JOAO BARBOSA BRAVO",
         "PROFESSOR BRAVO",
         "#NULO",
         "03532046768",
         "NÃO DIVULGÁVEL",
         "12",
         "APTO",
         "PARTIDO ISOLADO",
         "27",
         "DC",
         "DEMOCRACIA CRISTÃ",
         "-1",
         "#NULO",
         "#NULO",
         "#NULO",
         "280001684145",
         "PARTIDO ISOLADO",
         "DC",
         "RJ",
         "27/06/1947",
         "045076570302",
         "2",
         "MASCULINO",
         "8",
         "SUPERIOR COMPLETO",
         "3",
         "CASADO(A)",
         "01",
         "BRANCA",
         "121",
         "ECONOMISTA",
         "4",
         "NÃO ELEITO"
        ],
        [
         "22/03/2025",
         "03:36:11",
         "2022",
         "2",
         "ELEIÇÃO ORDINÁRIA",
         "1",
         "544",
         "Eleição Geral Federal 2022",
         "02/10/2022",
         "FEDERAL",
         "BR",
         "BR",
         "BRASIL",
         "2",
         "VICE-PRESIDENTE",
         "280001600166",
         "21",
         "ANTONIO ALVES DA SILVA JUNIOR",
         "ANTONIO ALVES",
         "#NULO",
         "04551706493",
         "NÃO DIVULGÁVEL",
         "12",
         "APTO",
         "PARTIDO ISOLADO",
         "21",
         "PCB",
         "PARTIDO COMUNISTA BRASILEIRO",
         "-1",
         "#NULO",
         "#NULO",
         "#NULO",
         "280001681036",
         "PARTIDO ISOLADO",
         "PCB",
         "PE",
         "07/10/1978",
         "056283400876",
         "2",
         "MASCULINO",
         "8",
         "SUPERIOR COMPLETO",
         "1",
         "SOLTEIRO(A)",
         "02",
         "PRETA",
         "171",
         "JORNALISTA E REDATOR",
         "4",
         "NÃO ELEITO"
        ],
        [
         "22/03/2025",
         "03:36:11",
         "2022",
         "2",
         "ELEIÇÃO ORDINÁRIA",
         "1",
         "546",
         "Eleições Gerais Estaduais 2022",
         "02/10/2022",
         "ESTADUAL",
         "AP",
         "AP",
         "AMAPÁ",
         "3",
         "GOVERNADOR",
         "30001639521",
         "28",
         "GESIEL DE SOUZA OLIVEIRA",
         "GESIEL DE OLIVEIRA",
         "#NULO",
         "61341509249",
         "NÃO DIVULGÁVEL",
         "12",
         "APTO",
         "PARTIDO ISOLADO",
         "28",
         "PRTB",
         "PARTIDO RENOVADOR TRABALHISTA BRASILEIRO",
         "-1",
         "#NULO",
         "#NULO",
         "#NULO",
         "30001682792",
         "PARTIDO ISOLADO",
         "PRTB",
         "AP",
         "03/02/1978",
         "002462812585",
         "2",
         "MASCULINO",
         "8",
         "SUPERIOR COMPLETO",
         "3",
         "CASADO(A)",
         "01",
         "BRANCA",
         "999",
         "OUTROS",
         "4",
         "NÃO ELEITO"
        ],
        [
         "22/03/2025",
         "03:36:11",
         "2022",
         "2",
         "ELEIÇÃO ORDINÁRIA",
         "1",
         "546",
         "Eleições Gerais Estaduais 2022",
         "02/10/2022",
         "ESTADUAL",
         "AP",
         "AP",
         "AMAPÁ",
         "3",
         "GOVERNADOR",
         "30001620571",
         "15",
         "GILVAM PINHEIRO BORGES",
         "GILVAM BORGES",
         "#NULO",
         "11907894268",
         "NÃO DIVULGÁVEL",
         "12",
         "APTO",
         "COLIGAÇÃO",
         "15",
         "MDB",
         "MOVIMENTO DEMOCRÁTICO BRASILEIRO",
         "-1",
         "#NULO",
         "#NULO",
         "#NULO",
         "30001682227",
         "EFICIÊNCIA E TRABALHO",
         "PROS / PODE / MDB",
         "DF",
         "01/08/1958",
         "000346522577",
         "2",
         "MASCULINO",
         "8",
         "SUPERIOR COMPLETO",
         "1",
         "SOLTEIRO(A)",
         "03",
         "PARDA",
         "133",
         "SOCIÓLOGO",
         "4",
         "NÃO ELEITO"
        ],
        [
         "22/03/2025",
         "03:36:11",
         "2022",
         "2",
         "ELEIÇÃO ORDINÁRIA",
         "1",
         "546",
         "Eleições Gerais Estaduais 2022",
         "02/10/2022",
         "ESTADUAL",
         "AP",
         "AP",
         "AMAPÁ",
         "3",
         "GOVERNADOR",
         "30001643108",
         "55",
         "JAIME DOMINGUES NUNES",
         "JAIME NUNES",
         "#NULO",
         "14673835204",
         "NÃO DIVULGÁVEL",
         "12",
         "APTO",
         "COLIGAÇÃO",
         "55",
         "PSD",
         "PARTIDO SOCIAL DEMOCRÁTICO",
         "-1",
         "#NULO",
         "#NULO",
         "#NULO",
         "30001683045",
         "PRA MUDAR DE VERDADE",
         "PTB / PSC / PROS / PSD / AGIR",
         "AP",
         "29/07/1959",
         "000285072526",
         "2",
         "MASCULINO",
         "8",
         "SUPERIOR COMPLETO",
         "3",
         "CASADO(A)",
         "01",
         "BRANCA",
         "257",
         "EMPRESÁRIO",
         "4",
         "NÃO ELEITO"
        ],
        [
         "22/03/2025",
         "03:36:11",
         "2022",
         "2",
         "ELEIÇÃO ORDINÁRIA",
         "1",
         "546",
         "Eleições Gerais Estaduais 2022",
         "02/10/2022",
         "ESTADUAL",
         "BA",
         "BA",
         "BAHIA",
         "3",
         "GOVERNADOR",
         "50001604884",
         "22",
         "JOÃO INÁCIO RIBEIRO ROMA NETO",
         "JOÃO ROMA",
         "#NULO",
         "81968442472",
         "NÃO DIVULGÁVEL",
         "12",
         "APTO",
         "COLIGAÇÃO",
         "22",
         "PL",
         "PARTIDO LIBERAL",
         "-1",
         "#NULO",
         "#NULO",
         "#NULO",
         "50001681261",
         "BAHIA DE MÃOS DADAS COM O BRASIL",
         "PMB / PATRIOTA / PL / PROS / AGIR",
         "PE",
         "17/11/1972",
         "037641250850",
         "2",
         "MASCULINO",
         "8",
         "SUPERIOR COMPLETO",
         "3",
         "CASADO(A)",
         "01",
         "BRANCA",
         "234",
         "PRODUTOR AGROPECUÁRIO",
         "4",
         "NÃO ELEITO"
        ],
        [
         "22/03/2025",
         "03:36:11",
         "2022",
         "2",
         "ELEIÇÃO ORDINÁRIA",
         "1",
         "546",
         "Eleições Gerais Estaduais 2022",
         "02/10/2022",
         "ESTADUAL",
         "PI",
         "PI",
         "PIAUÍ",
         "3",
         "GOVERNADOR",
         "180001713732",
         "33",
         "RAVENNA DE CASTRO LIMA AZEVEDO",
         "RAVENNA CASTRO",
         "#NULO",
         "00854325395",
         "NÃO DIVULGÁVEL",
         "12",
         "APTO",
         "PARTIDO ISOLADO",
         "33",
         "PMN",
         "PARTIDO DA MOBILIZAÇÃO NACIONAL",
         "-1",
         "#NULO",
         "#NULO",
         "#NULO",
         "180001685107",
         "PARTIDO ISOLADO",
         "PMN",
         "PI",
         "15/05/1986",
         "029874391546",
         "4",
         "FEMININO",
         "8",
         "SUPERIOR COMPLETO",
         "9",
         "DIVORCIADO(A)",
         "03",
         "PARDA",
         "131",
         "ADVOGADO",
         "4",
         "NÃO ELEITO"
        ],
        [
         "22/03/2025",
         "03:36:11",
         "2022",
         "2",
         "ELEIÇÃO ORDINÁRIA",
         "1",
         "546",
         "Eleições Gerais Estaduais 2022",
         "02/10/2022",
         "ESTADUAL",
         "AC",
         "AC",
         "ACRE",
         "7",
         "DEPUTADO ESTADUAL",
         "10001643441",
         "11155",
         "RAIMUNDO SALES DA SILVA",
         "BIGODE",
         "#NULO",
         "05135834249",
         "NÃO DIVULGÁVEL",
         "12",
         "APTO",
         "PARTIDO ISOLADO",
         "11",
         "PP",
         "PROGRESSISTAS",
         "-1",
         "#NULO",
         "#NULO",
         "#NULO",
         "10001683065",
         "PARTIDO ISOLADO",
         "PP",
         "AC",
         "10/04/1955",
         "000837222496",
         "2",
         "MASCULINO",
         "4",
         "ENSINO FUNDAMENTAL COMPLETO",
         "9",
         "DIVORCIADO(A)",
         "03",
         "PARDA",
         "604",
         "PESCADOR",
         "5",
         "SUPLENTE"
        ]
       ],
       "datasetInfos": [],
       "dbfsResultPath": null,
       "isJsonSchema": true,
       "metadata": {},
       "overflow": false,
       "plotOptions": {
        "customPlotOptions": {},
        "displayType": "table",
        "pivotAggregation": null,
        "pivotColumns": null,
        "xColumns": null,
        "yColumns": null
       },
       "removedWidgets": [],
       "schema": [
        {
         "metadata": "{}",
         "name": "DT_GERACAO",
         "type": "\"string\""
        },
        {
         "metadata": "{}",
         "name": "HH_GERACAO",
         "type": "\"string\""
        },
        {
         "metadata": "{}",
         "name": "ANO_ELEICAO",
         "type": "\"string\""
        },
        {
         "metadata": "{}",
         "name": "CD_TIPO_ELEICAO",
         "type": "\"string\""
        },
        {
         "metadata": "{}",
         "name": "NM_TIPO_ELEICAO",
         "type": "\"string\""
        },
        {
         "metadata": "{}",
         "name": "NR_TURNO",
         "type": "\"string\""
        },
        {
         "metadata": "{}",
         "name": "CD_ELEICAO",
         "type": "\"string\""
        },
        {
         "metadata": "{}",
         "name": "DS_ELEICAO",
         "type": "\"string\""
        },
        {
         "metadata": "{}",
         "name": "DT_ELEICAO",
         "type": "\"string\""
        },
        {
         "metadata": "{}",
         "name": "TP_ABRANGENCIA",
         "type": "\"string\""
        },
        {
         "metadata": "{}",
         "name": "SG_UF",
         "type": "\"string\""
        },
        {
         "metadata": "{}",
         "name": "SG_UE",
         "type": "\"string\""
        },
        {
         "metadata": "{}",
         "name": "NM_UE",
         "type": "\"string\""
        },
        {
         "metadata": "{}",
         "name": "CD_CARGO",
         "type": "\"string\""
        },
        {
         "metadata": "{}",
         "name": "DS_CARGO",
         "type": "\"string\""
        },
        {
         "metadata": "{}",
         "name": "SQ_CANDIDATO",
         "type": "\"string\""
        },
        {
         "metadata": "{}",
         "name": "NR_CANDIDATO",
         "type": "\"string\""
        },
        {
         "metadata": "{}",
         "name": "NM_CANDIDATO",
         "type": "\"string\""
        },
        {
         "metadata": "{}",
         "name": "NM_URNA_CANDIDATO",
         "type": "\"string\""
        },
        {
         "metadata": "{}",
         "name": "NM_SOCIAL_CANDIDATO",
         "type": "\"string\""
        },
        {
         "metadata": "{}",
         "name": "NR_CPF_CANDIDATO",
         "type": "\"string\""
        },
        {
         "metadata": "{}",
         "name": "DS_EMAIL",
         "type": "\"string\""
        },
        {
         "metadata": "{}",
         "name": "CD_SITUACAO_CANDIDATURA",
         "type": "\"string\""
        },
        {
         "metadata": "{}",
         "name": "DS_SITUACAO_CANDIDATURA",
         "type": "\"string\""
        },
        {
         "metadata": "{}",
         "name": "TP_AGREMIACAO",
         "type": "\"string\""
        },
        {
         "metadata": "{}",
         "name": "NR_PARTIDO",
         "type": "\"string\""
        },
        {
         "metadata": "{}",
         "name": "SG_PARTIDO",
         "type": "\"string\""
        },
        {
         "metadata": "{}",
         "name": "NM_PARTIDO",
         "type": "\"string\""
        },
        {
         "metadata": "{}",
         "name": "NR_FEDERACAO",
         "type": "\"string\""
        },
        {
         "metadata": "{}",
         "name": "NM_FEDERACAO",
         "type": "\"string\""
        },
        {
         "metadata": "{}",
         "name": "SG_FEDERACAO",
         "type": "\"string\""
        },
        {
         "metadata": "{}",
         "name": "DS_COMPOSICAO_FEDERACAO",
         "type": "\"string\""
        },
        {
         "metadata": "{}",
         "name": "SQ_COLIGACAO",
         "type": "\"string\""
        },
        {
         "metadata": "{}",
         "name": "NM_COLIGACAO",
         "type": "\"string\""
        },
        {
         "metadata": "{}",
         "name": "DS_COMPOSICAO_COLIGACAO",
         "type": "\"string\""
        },
        {
         "metadata": "{}",
         "name": "SG_UF_NASCIMENTO",
         "type": "\"string\""
        },
        {
         "metadata": "{}",
         "name": "DT_NASCIMENTO",
         "type": "\"string\""
        },
        {
         "metadata": "{}",
         "name": "NR_TITULO_ELEITORAL_CANDIDATO",
         "type": "\"string\""
        },
        {
         "metadata": "{}",
         "name": "CD_GENERO",
         "type": "\"string\""
        },
        {
         "metadata": "{}",
         "name": "DS_GENERO",
         "type": "\"string\""
        },
        {
         "metadata": "{}",
         "name": "CD_GRAU_INSTRUCAO",
         "type": "\"string\""
        },
        {
         "metadata": "{}",
         "name": "DS_GRAU_INSTRUCAO",
         "type": "\"string\""
        },
        {
         "metadata": "{}",
         "name": "CD_ESTADO_CIVIL",
         "type": "\"string\""
        },
        {
         "metadata": "{}",
         "name": "DS_ESTADO_CIVIL",
         "type": "\"string\""
        },
        {
         "metadata": "{}",
         "name": "CD_COR_RACA",
         "type": "\"string\""
        },
        {
         "metadata": "{}",
         "name": "DS_COR_RACA",
         "type": "\"string\""
        },
        {
         "metadata": "{}",
         "name": "CD_OCUPACAO",
         "type": "\"string\""
        },
        {
         "metadata": "{}",
         "name": "DS_OCUPACAO",
         "type": "\"string\""
        },
        {
         "metadata": "{}",
         "name": "CD_SIT_TOT_TURNO",
         "type": "\"string\""
        },
        {
         "metadata": "{}",
         "name": "DS_SIT_TOT_TURNO",
         "type": "\"string\""
        }
       ],
       "type": "table"
      }
     },
     "output_type": "display_data"
    }
   ],
   "source": [
    "#Primeiro df\n",
    "file_location = 'dbfs:/FileStore/tables/eleicoes/consulta_cand_2022_BRASIL.csv'\n",
    "file_type = \"csv\"\n",
    "\n",
    "# CSV options\n",
    "infer_schema = \"false\"\n",
    "first_row_is_header = \"true\"\n",
    "delimiter = \";\"\n",
    "encoding = \"ISO-8859-1\" #Encoding que funcionou melhor\n",
    "\n",
    "df = spark.read.format(file_type) \\\n",
    "  .option(\"inferSchema\", infer_schema) \\\n",
    "  .option(\"header\", first_row_is_header) \\\n",
    "  .option(\"sep\", delimiter) \\\n",
    "  .option(\"encoding\",encoding) \\\n",
    "  .load(file_location)\n",
    "\n",
    "df.limit(10).display()"
   ]
  },
  {
   "cell_type": "markdown",
   "metadata": {
    "application/vnd.databricks.v1+cell": {
     "cellMetadata": {},
     "inputWidgets": {},
     "nuid": "bf7d6ce9-070f-4caf-b112-c69590791646",
     "showTitle": false,
     "tableResultSettingsMap": {},
     "title": ""
    }
   },
   "source": [
    "Código acima, usado para validar o encoding que conseguiu capturar melhor os dados, segundo algumas pesquisas e testes o \"ISO-8859-1\" ficou sendo a melhor<br> opção mesmo o arquivo de referência sugerir que o encoding do arquivo é \"Latin1\", como reparado infelizmente por causa do encoding todas as colunas vieram em formato de texto, que será tratado na Silver Layer a seguir."
   ]
  },
  {
   "cell_type": "code",
   "execution_count": 0,
   "metadata": {
    "application/vnd.databricks.v1+cell": {
     "cellMetadata": {
      "byteLimit": 2048000,
      "rowLimit": 10000
     },
     "inputWidgets": {},
     "nuid": "fce7ae14-27ca-41bb-9312-4edf84af158f",
     "showTitle": false,
     "tableResultSettingsMap": {},
     "title": ""
    }
   },
   "outputs": [],
   "source": [
    "#Criação da tabela permanente bronze de candidatos para teste\n",
    "\n",
    "df.createOrReplaceTempView('candidatos')\n",
    "\n",
    "permanent_table_name = \"eleicao_bronze.candidatos\"\n",
    "\n",
    "schema = 'eleicao_bronze'\n",
    "\n",
    "df.write.format(\"parquet\").saveAsTable(permanent_table_name,mode='append')\n"
   ]
  },
  {
   "cell_type": "code",
   "execution_count": 0,
   "metadata": {
    "application/vnd.databricks.v1+cell": {
     "cellMetadata": {
      "byteLimit": 2048000,
      "implicitDf": true,
      "rowLimit": 10000
     },
     "inputWidgets": {},
     "nuid": "f3478f3c-e15a-4894-a297-eeea61b33f18",
     "showTitle": false,
     "tableResultSettingsMap": {},
     "title": ""
    }
   },
   "outputs": [
    {
     "output_type": "display_data",
     "data": {
      "text/html": [
       "<style scoped>\n",
       "  .table-result-container {\n",
       "    max-height: 300px;\n",
       "    overflow: auto;\n",
       "  }\n",
       "  table, th, td {\n",
       "    border: 1px solid black;\n",
       "    border-collapse: collapse;\n",
       "  }\n",
       "  th, td {\n",
       "    padding: 5px;\n",
       "  }\n",
       "  th {\n",
       "    text-align: left;\n",
       "  }\n",
       "</style><div class='table-result-container'><table class='table-result'><thead style='background-color: white'><tr><th>DT_GERACAO</th><th>HH_GERACAO</th><th>ANO_ELEICAO</th><th>CD_TIPO_ELEICAO</th><th>NM_TIPO_ELEICAO</th><th>NR_TURNO</th><th>CD_ELEICAO</th><th>DS_ELEICAO</th><th>DT_ELEICAO</th><th>TP_ABRANGENCIA</th><th>SG_UF</th><th>SG_UE</th><th>NM_UE</th><th>CD_CARGO</th><th>DS_CARGO</th><th>SQ_CANDIDATO</th><th>NR_CANDIDATO</th><th>NM_CANDIDATO</th><th>NM_URNA_CANDIDATO</th><th>NM_SOCIAL_CANDIDATO</th><th>NR_CPF_CANDIDATO</th><th>DS_EMAIL</th><th>CD_SITUACAO_CANDIDATURA</th><th>DS_SITUACAO_CANDIDATURA</th><th>TP_AGREMIACAO</th><th>NR_PARTIDO</th><th>SG_PARTIDO</th><th>NM_PARTIDO</th><th>NR_FEDERACAO</th><th>NM_FEDERACAO</th><th>SG_FEDERACAO</th><th>DS_COMPOSICAO_FEDERACAO</th><th>SQ_COLIGACAO</th><th>NM_COLIGACAO</th><th>DS_COMPOSICAO_COLIGACAO</th><th>SG_UF_NASCIMENTO</th><th>DT_NASCIMENTO</th><th>NR_TITULO_ELEITORAL_CANDIDATO</th><th>CD_GENERO</th><th>DS_GENERO</th><th>CD_GRAU_INSTRUCAO</th><th>DS_GRAU_INSTRUCAO</th><th>CD_ESTADO_CIVIL</th><th>DS_ESTADO_CIVIL</th><th>CD_COR_RACA</th><th>DS_COR_RACA</th><th>CD_OCUPACAO</th><th>DS_OCUPACAO</th><th>CD_SIT_TOT_TURNO</th><th>DS_SIT_TOT_TURNO</th></tr></thead><tbody><tr><td>22/03/2025</td><td>03:36:11</td><td>2022</td><td>2</td><td>ELEIÇÃO ORDINÁRIA</td><td>1</td><td>546</td><td>Eleições Gerais Estaduais 2022</td><td>02/10/2022</td><td>ESTADUAL</td><td>SP</td><td>SP</td><td>SÃO PAULO</td><td>7</td><td>DEPUTADO ESTADUAL</td><td>250001597754</td><td>30100</td><td>EMILIO CURY JUNIOR</td><td>EMILIO CURY</td><td>#NULO</td><td>18116335871</td><td>NÃO DIVULGÁVEL</td><td>12</td><td>APTO</td><td>PARTIDO ISOLADO</td><td>30</td><td>NOVO</td><td>PARTIDO NOVO</td><td>-1</td><td>#NULO</td><td>#NULO</td><td>#NULO</td><td>250001680946</td><td>PARTIDO ISOLADO</td><td>NOVO</td><td>SP</td><td>20/02/1973</td><td>180312170116</td><td>2</td><td>MASCULINO</td><td>8</td><td>SUPERIOR COMPLETO</td><td>9</td><td>DIVORCIADO(A)</td><td>01</td><td>BRANCA</td><td>125</td><td>ADMINISTRADOR</td><td>5</td><td>SUPLENTE</td></tr><tr><td>22/03/2025</td><td>03:36:11</td><td>2022</td><td>2</td><td>ELEIÇÃO ORDINÁRIA</td><td>1</td><td>546</td><td>Eleições Gerais Estaduais 2022</td><td>02/10/2022</td><td>ESTADUAL</td><td>SP</td><td>SP</td><td>SÃO PAULO</td><td>7</td><td>DEPUTADO ESTADUAL</td><td>250001597753</td><td>30333</td><td>EDSON TEIXEIRA</td><td>EDSON JAPÃO</td><td>#NULO</td><td>28750611860</td><td>NÃO DIVULGÁVEL</td><td>12</td><td>APTO</td><td>PARTIDO ISOLADO</td><td>30</td><td>NOVO</td><td>PARTIDO NOVO</td><td>-1</td><td>#NULO</td><td>#NULO</td><td>#NULO</td><td>250001680946</td><td>PARTIDO ISOLADO</td><td>NOVO</td><td>PR</td><td>01/07/1980</td><td>226994850167</td><td>2</td><td>MASCULINO</td><td>8</td><td>SUPERIOR COMPLETO</td><td>1</td><td>SOLTEIRO(A)</td><td>01</td><td>BRANCA</td><td>125</td><td>ADMINISTRADOR</td><td>5</td><td>SUPLENTE</td></tr><tr><td>22/03/2025</td><td>03:36:11</td><td>2022</td><td>2</td><td>ELEIÇÃO ORDINÁRIA</td><td>1</td><td>546</td><td>Eleições Gerais Estaduais 2022</td><td>02/10/2022</td><td>ESTADUAL</td><td>RS</td><td>RS</td><td>RIO GRANDE DO SUL</td><td>7</td><td>DEPUTADO ESTADUAL</td><td>210001620190</td><td>45610</td><td>NAASOM LUCIANO DA ROCHA</td><td>NAASOM LUCIANO</td><td>#NULO</td><td>00434866067</td><td>NÃO DIVULGÁVEL</td><td>12</td><td>APTO</td><td>FEDERAÇÃO</td><td>45</td><td>PSDB</td><td>PARTIDO DA SOCIAL DEMOCRACIA BRASILEIRA</td><td>1</td><td>Federação PSDB Cidadania</td><td>PSDB/CIDADANIA</td><td>PSDB/CIDADANIA</td><td>210001682211</td><td>FEDERAÇÃO</td><td>Federação PSDB Cidadania(PSDB/CIDADANIA)</td><td>RS</td><td>24/12/1985</td><td>087268210434</td><td>2</td><td>MASCULINO</td><td>8</td><td>SUPERIOR COMPLETO</td><td>9</td><td>DIVORCIADO(A)</td><td>03</td><td>PARDA</td><td>131</td><td>ADVOGADO</td><td>5</td><td>SUPLENTE</td></tr><tr><td>22/03/2025</td><td>03:36:11</td><td>2022</td><td>2</td><td>ELEIÇÃO ORDINÁRIA</td><td>1</td><td>546</td><td>Eleições Gerais Estaduais 2022</td><td>02/10/2022</td><td>ESTADUAL</td><td>RS</td><td>RS</td><td>RIO GRANDE DO SUL</td><td>7</td><td>DEPUTADO ESTADUAL</td><td>210001649812</td><td>14678</td><td>MOACIR DA ROSA ALVES</td><td>DR MOACIR</td><td>#NULO</td><td>28035720015</td><td>NÃO DIVULGÁVEL</td><td>12</td><td>APTO</td><td>PARTIDO ISOLADO</td><td>14</td><td>PTB</td><td>PARTIDO TRABALHISTA BRASILEIRO</td><td>-1</td><td>#NULO</td><td>#NULO</td><td>#NULO</td><td>210001683289</td><td>PARTIDO ISOLADO</td><td>PTB</td><td>RS</td><td>27/07/1954</td><td>030247250906</td><td>2</td><td>MASCULINO</td><td>8</td><td>SUPERIOR COMPLETO</td><td>3</td><td>CASADO(A)</td><td>01</td><td>BRANCA</td><td>115</td><td>ODONTÓLOGO</td><td>5</td><td>SUPLENTE</td></tr><tr><td>22/03/2025</td><td>03:36:11</td><td>2022</td><td>2</td><td>ELEIÇÃO ORDINÁRIA</td><td>1</td><td>546</td><td>Eleições Gerais Estaduais 2022</td><td>02/10/2022</td><td>ESTADUAL</td><td>RS</td><td>RS</td><td>RIO GRANDE DO SUL</td><td>7</td><td>DEPUTADO ESTADUAL</td><td>210001596156</td><td>19020</td><td>ITACIR PEGORARO</td><td>PEGORARO</td><td>#NULO</td><td>43795005000</td><td>NÃO DIVULGÁVEL</td><td>12</td><td>APTO</td><td>PARTIDO ISOLADO</td><td>19</td><td>PODE</td><td>PODEMOS</td><td>-1</td><td>#NULO</td><td>#NULO</td><td>#NULO</td><td>210001680883</td><td>PARTIDO ISOLADO</td><td>PODE</td><td>RS</td><td>22/02/1966</td><td>065234100434</td><td>2</td><td>MASCULINO</td><td>6</td><td>ENSINO MÉDIO COMPLETO</td><td>3</td><td>CASADO(A)</td><td>01</td><td>BRANCA</td><td>125</td><td>ADMINISTRADOR</td><td>5</td><td>SUPLENTE</td></tr><tr><td>22/03/2025</td><td>03:36:11</td><td>2022</td><td>2</td><td>ELEIÇÃO ORDINÁRIA</td><td>1</td><td>546</td><td>Eleições Gerais Estaduais 2022</td><td>02/10/2022</td><td>ESTADUAL</td><td>BA</td><td>BA</td><td>BAHIA</td><td>7</td><td>DEPUTADO ESTADUAL</td><td>50001614687</td><td>15000</td><td>MARIA DE LOURDES TAVARES</td><td>LURDINHA</td><td>#NULO</td><td>66455731620</td><td>NÃO DIVULGÁVEL</td><td>3</td><td>INAPTO</td><td>PARTIDO ISOLADO</td><td>15</td><td>MDB</td><td>MOVIMENTO DEMOCRÁTICO BRASILEIRO</td><td>-1</td><td>#NULO</td><td>#NULO</td><td>#NULO</td><td>50001681743</td><td>PARTIDO ISOLADO</td><td>MDB</td><td>BA</td><td>21/05/1966</td><td>021022970566</td><td>4</td><td>FEMININO</td><td>8</td><td>SUPERIOR COMPLETO</td><td>9</td><td>DIVORCIADO(A)</td><td>01</td><td>BRANCA</td><td>298</td><td>SERVIDOR PÚBLICO MUNICIPAL</td><td>-1</td><td>#NULO</td></tr><tr><td>22/03/2025</td><td>03:36:11</td><td>2022</td><td>2</td><td>ELEIÇÃO ORDINÁRIA</td><td>1</td><td>546</td><td>Eleições Gerais Estaduais 2022</td><td>02/10/2022</td><td>ESTADUAL</td><td>BA</td><td>BA</td><td>BAHIA</td><td>7</td><td>DEPUTADO ESTADUAL</td><td>50001605981</td><td>40004</td><td>ANTONIO JORGE DE BRITO</td><td>ANTONIO JORGE DE BRITO</td><td>#NULO</td><td>39869725520</td><td>NÃO DIVULGÁVEL</td><td>3</td><td>INAPTO</td><td>PARTIDO ISOLADO</td><td>40</td><td>PSB</td><td>PARTIDO SOCIALISTA BRASILEIRO</td><td>-1</td><td>#NULO</td><td>#NULO</td><td>#NULO</td><td>50001681308</td><td>PARTIDO ISOLADO</td><td>PSB</td><td>BA</td><td>07/08/1966</td><td>037599480582</td><td>2</td><td>MASCULINO</td><td>8</td><td>SUPERIOR COMPLETO</td><td>3</td><td>CASADO(A)</td><td>02</td><td>PRETA</td><td>233</td><td>POLICIAL MILITAR</td><td>-1</td><td>#NULO</td></tr><tr><td>22/03/2025</td><td>03:36:11</td><td>2022</td><td>2</td><td>ELEIÇÃO ORDINÁRIA</td><td>1</td><td>546</td><td>Eleições Gerais Estaduais 2022</td><td>02/10/2022</td><td>ESTADUAL</td><td>MG</td><td>MG</td><td>MINAS GERAIS</td><td>6</td><td>DEPUTADO FEDERAL</td><td>130001607270</td><td>1334</td><td>DANDARA TONANTZIN SILVA CASTRO</td><td>DANDARA</td><td>#NULO</td><td>11264753608</td><td>NÃO DIVULGÁVEL</td><td>12</td><td>APTO</td><td>FEDERAÇÃO</td><td>13</td><td>PT</td><td>PARTIDO DOS TRABALHADORES</td><td>2</td><td>Federação Brasil da Esperança - FE BRASIL</td><td>PT/PC do B/PV</td><td>PT/PC do B/PV</td><td>130001681345</td><td>FEDERAÇÃO</td><td>Federação Brasil da Esperança - FE BRASIL(PT/PC do B/PV)</td><td>MG</td><td>23/01/1994</td><td>193601590213</td><td>4</td><td>FEMININO</td><td>8</td><td>SUPERIOR COMPLETO</td><td>1</td><td>SOLTEIRO(A)</td><td>02</td><td>PRETA</td><td>278</td><td>VEREADOR</td><td>2</td><td>ELEITO POR QP</td></tr><tr><td>22/03/2025</td><td>03:36:11</td><td>2022</td><td>2</td><td>ELEIÇÃO ORDINÁRIA</td><td>1</td><td>546</td><td>Eleições Gerais Estaduais 2022</td><td>02/10/2022</td><td>ESTADUAL</td><td>MG</td><td>MG</td><td>MINAS GERAIS</td><td>6</td><td>DEPUTADO FEDERAL</td><td>130001645105</td><td>3627</td><td>MARLY DE LOURDES MENDES OLIVEIRA</td><td>LOURDES MARLY</td><td>#NULO</td><td>14071991615</td><td>NÃO DIVULGÁVEL</td><td>12</td><td>APTO</td><td>PARTIDO ISOLADO</td><td>36</td><td>AGIR</td><td>AGIR</td><td>-1</td><td>#NULO</td><td>#NULO</td><td>#NULO</td><td>130001683143</td><td>PARTIDO ISOLADO</td><td>AGIR</td><td>MG</td><td>29/05/1939</td><td>052529670230</td><td>4</td><td>FEMININO</td><td>4</td><td>ENSINO FUNDAMENTAL COMPLETO</td><td>1</td><td>SOLTEIRO(A)</td><td>02</td><td>PRETA</td><td>923</td><td>APOSENTADO (EXCETO SERVIDOR PÚBLICO)</td><td>4</td><td>NÃO ELEITO</td></tr><tr><td>22/03/2025</td><td>03:36:11</td><td>2022</td><td>2</td><td>ELEIÇÃO ORDINÁRIA</td><td>1</td><td>546</td><td>Eleições Gerais Estaduais 2022</td><td>02/10/2022</td><td>ESTADUAL</td><td>MG</td><td>MG</td><td>MINAS GERAIS</td><td>6</td><td>DEPUTADO FEDERAL</td><td>130001619740</td><td>1035</td><td>ANTONIO GERALDO DE JESUS</td><td>TONI DA FARMACIA</td><td>#NULO</td><td>30375533672</td><td>NÃO DIVULGÁVEL</td><td>12</td><td>APTO</td><td>PARTIDO ISOLADO</td><td>10</td><td>REPUBLICANOS</td><td>REPUBLICANOS</td><td>-1</td><td>#NULO</td><td>#NULO</td><td>#NULO</td><td>130001682190</td><td>PARTIDO ISOLADO</td><td>REPUBLICANOS</td><td>MG</td><td>08/09/1962</td><td>053267780281</td><td>2</td><td>MASCULINO</td><td>6</td><td>ENSINO MÉDIO COMPLETO</td><td>3</td><td>CASADO(A)</td><td>02</td><td>PRETA</td><td>169</td><td>COMERCIANTE</td><td>5</td><td>SUPLENTE</td></tr></tbody></table></div>"
      ]
     },
     "metadata": {
      "application/vnd.databricks.v1+output": {
       "addedWidgets": {},
       "aggData": [],
       "aggError": "",
       "aggOverflow": false,
       "aggSchema": [],
       "aggSeriesLimitReached": false,
       "aggType": "",
       "arguments": {},
       "columnCustomDisplayInfos": {},
       "data": [
        [
         "22/03/2025",
         "03:36:11",
         "2022",
         "2",
         "ELEIÇÃO ORDINÁRIA",
         "1",
         "546",
         "Eleições Gerais Estaduais 2022",
         "02/10/2022",
         "ESTADUAL",
         "SP",
         "SP",
         "SÃO PAULO",
         "7",
         "DEPUTADO ESTADUAL",
         "250001597754",
         "30100",
         "EMILIO CURY JUNIOR",
         "EMILIO CURY",
         "#NULO",
         "18116335871",
         "NÃO DIVULGÁVEL",
         "12",
         "APTO",
         "PARTIDO ISOLADO",
         "30",
         "NOVO",
         "PARTIDO NOVO",
         "-1",
         "#NULO",
         "#NULO",
         "#NULO",
         "250001680946",
         "PARTIDO ISOLADO",
         "NOVO",
         "SP",
         "20/02/1973",
         "180312170116",
         "2",
         "MASCULINO",
         "8",
         "SUPERIOR COMPLETO",
         "9",
         "DIVORCIADO(A)",
         "01",
         "BRANCA",
         "125",
         "ADMINISTRADOR",
         "5",
         "SUPLENTE"
        ],
        [
         "22/03/2025",
         "03:36:11",
         "2022",
         "2",
         "ELEIÇÃO ORDINÁRIA",
         "1",
         "546",
         "Eleições Gerais Estaduais 2022",
         "02/10/2022",
         "ESTADUAL",
         "SP",
         "SP",
         "SÃO PAULO",
         "7",
         "DEPUTADO ESTADUAL",
         "250001597753",
         "30333",
         "EDSON TEIXEIRA",
         "EDSON JAPÃO",
         "#NULO",
         "28750611860",
         "NÃO DIVULGÁVEL",
         "12",
         "APTO",
         "PARTIDO ISOLADO",
         "30",
         "NOVO",
         "PARTIDO NOVO",
         "-1",
         "#NULO",
         "#NULO",
         "#NULO",
         "250001680946",
         "PARTIDO ISOLADO",
         "NOVO",
         "PR",
         "01/07/1980",
         "226994850167",
         "2",
         "MASCULINO",
         "8",
         "SUPERIOR COMPLETO",
         "1",
         "SOLTEIRO(A)",
         "01",
         "BRANCA",
         "125",
         "ADMINISTRADOR",
         "5",
         "SUPLENTE"
        ],
        [
         "22/03/2025",
         "03:36:11",
         "2022",
         "2",
         "ELEIÇÃO ORDINÁRIA",
         "1",
         "546",
         "Eleições Gerais Estaduais 2022",
         "02/10/2022",
         "ESTADUAL",
         "RS",
         "RS",
         "RIO GRANDE DO SUL",
         "7",
         "DEPUTADO ESTADUAL",
         "210001620190",
         "45610",
         "NAASOM LUCIANO DA ROCHA",
         "NAASOM LUCIANO",
         "#NULO",
         "00434866067",
         "NÃO DIVULGÁVEL",
         "12",
         "APTO",
         "FEDERAÇÃO",
         "45",
         "PSDB",
         "PARTIDO DA SOCIAL DEMOCRACIA BRASILEIRA",
         "1",
         "Federação PSDB Cidadania",
         "PSDB/CIDADANIA",
         "PSDB/CIDADANIA",
         "210001682211",
         "FEDERAÇÃO",
         "Federação PSDB Cidadania(PSDB/CIDADANIA)",
         "RS",
         "24/12/1985",
         "087268210434",
         "2",
         "MASCULINO",
         "8",
         "SUPERIOR COMPLETO",
         "9",
         "DIVORCIADO(A)",
         "03",
         "PARDA",
         "131",
         "ADVOGADO",
         "5",
         "SUPLENTE"
        ],
        [
         "22/03/2025",
         "03:36:11",
         "2022",
         "2",
         "ELEIÇÃO ORDINÁRIA",
         "1",
         "546",
         "Eleições Gerais Estaduais 2022",
         "02/10/2022",
         "ESTADUAL",
         "RS",
         "RS",
         "RIO GRANDE DO SUL",
         "7",
         "DEPUTADO ESTADUAL",
         "210001649812",
         "14678",
         "MOACIR DA ROSA ALVES",
         "DR MOACIR",
         "#NULO",
         "28035720015",
         "NÃO DIVULGÁVEL",
         "12",
         "APTO",
         "PARTIDO ISOLADO",
         "14",
         "PTB",
         "PARTIDO TRABALHISTA BRASILEIRO",
         "-1",
         "#NULO",
         "#NULO",
         "#NULO",
         "210001683289",
         "PARTIDO ISOLADO",
         "PTB",
         "RS",
         "27/07/1954",
         "030247250906",
         "2",
         "MASCULINO",
         "8",
         "SUPERIOR COMPLETO",
         "3",
         "CASADO(A)",
         "01",
         "BRANCA",
         "115",
         "ODONTÓLOGO",
         "5",
         "SUPLENTE"
        ],
        [
         "22/03/2025",
         "03:36:11",
         "2022",
         "2",
         "ELEIÇÃO ORDINÁRIA",
         "1",
         "546",
         "Eleições Gerais Estaduais 2022",
         "02/10/2022",
         "ESTADUAL",
         "RS",
         "RS",
         "RIO GRANDE DO SUL",
         "7",
         "DEPUTADO ESTADUAL",
         "210001596156",
         "19020",
         "ITACIR PEGORARO",
         "PEGORARO",
         "#NULO",
         "43795005000",
         "NÃO DIVULGÁVEL",
         "12",
         "APTO",
         "PARTIDO ISOLADO",
         "19",
         "PODE",
         "PODEMOS",
         "-1",
         "#NULO",
         "#NULO",
         "#NULO",
         "210001680883",
         "PARTIDO ISOLADO",
         "PODE",
         "RS",
         "22/02/1966",
         "065234100434",
         "2",
         "MASCULINO",
         "6",
         "ENSINO MÉDIO COMPLETO",
         "3",
         "CASADO(A)",
         "01",
         "BRANCA",
         "125",
         "ADMINISTRADOR",
         "5",
         "SUPLENTE"
        ],
        [
         "22/03/2025",
         "03:36:11",
         "2022",
         "2",
         "ELEIÇÃO ORDINÁRIA",
         "1",
         "546",
         "Eleições Gerais Estaduais 2022",
         "02/10/2022",
         "ESTADUAL",
         "BA",
         "BA",
         "BAHIA",
         "7",
         "DEPUTADO ESTADUAL",
         "50001614687",
         "15000",
         "MARIA DE LOURDES TAVARES",
         "LURDINHA",
         "#NULO",
         "66455731620",
         "NÃO DIVULGÁVEL",
         "3",
         "INAPTO",
         "PARTIDO ISOLADO",
         "15",
         "MDB",
         "MOVIMENTO DEMOCRÁTICO BRASILEIRO",
         "-1",
         "#NULO",
         "#NULO",
         "#NULO",
         "50001681743",
         "PARTIDO ISOLADO",
         "MDB",
         "BA",
         "21/05/1966",
         "021022970566",
         "4",
         "FEMININO",
         "8",
         "SUPERIOR COMPLETO",
         "9",
         "DIVORCIADO(A)",
         "01",
         "BRANCA",
         "298",
         "SERVIDOR PÚBLICO MUNICIPAL",
         "-1",
         "#NULO"
        ],
        [
         "22/03/2025",
         "03:36:11",
         "2022",
         "2",
         "ELEIÇÃO ORDINÁRIA",
         "1",
         "546",
         "Eleições Gerais Estaduais 2022",
         "02/10/2022",
         "ESTADUAL",
         "BA",
         "BA",
         "BAHIA",
         "7",
         "DEPUTADO ESTADUAL",
         "50001605981",
         "40004",
         "ANTONIO JORGE DE BRITO",
         "ANTONIO JORGE DE BRITO",
         "#NULO",
         "39869725520",
         "NÃO DIVULGÁVEL",
         "3",
         "INAPTO",
         "PARTIDO ISOLADO",
         "40",
         "PSB",
         "PARTIDO SOCIALISTA BRASILEIRO",
         "-1",
         "#NULO",
         "#NULO",
         "#NULO",
         "50001681308",
         "PARTIDO ISOLADO",
         "PSB",
         "BA",
         "07/08/1966",
         "037599480582",
         "2",
         "MASCULINO",
         "8",
         "SUPERIOR COMPLETO",
         "3",
         "CASADO(A)",
         "02",
         "PRETA",
         "233",
         "POLICIAL MILITAR",
         "-1",
         "#NULO"
        ],
        [
         "22/03/2025",
         "03:36:11",
         "2022",
         "2",
         "ELEIÇÃO ORDINÁRIA",
         "1",
         "546",
         "Eleições Gerais Estaduais 2022",
         "02/10/2022",
         "ESTADUAL",
         "MG",
         "MG",
         "MINAS GERAIS",
         "6",
         "DEPUTADO FEDERAL",
         "130001607270",
         "1334",
         "DANDARA TONANTZIN SILVA CASTRO",
         "DANDARA",
         "#NULO",
         "11264753608",
         "NÃO DIVULGÁVEL",
         "12",
         "APTO",
         "FEDERAÇÃO",
         "13",
         "PT",
         "PARTIDO DOS TRABALHADORES",
         "2",
         "Federação Brasil da Esperança - FE BRASIL",
         "PT/PC do B/PV",
         "PT/PC do B/PV",
         "130001681345",
         "FEDERAÇÃO",
         "Federação Brasil da Esperança - FE BRASIL(PT/PC do B/PV)",
         "MG",
         "23/01/1994",
         "193601590213",
         "4",
         "FEMININO",
         "8",
         "SUPERIOR COMPLETO",
         "1",
         "SOLTEIRO(A)",
         "02",
         "PRETA",
         "278",
         "VEREADOR",
         "2",
         "ELEITO POR QP"
        ],
        [
         "22/03/2025",
         "03:36:11",
         "2022",
         "2",
         "ELEIÇÃO ORDINÁRIA",
         "1",
         "546",
         "Eleições Gerais Estaduais 2022",
         "02/10/2022",
         "ESTADUAL",
         "MG",
         "MG",
         "MINAS GERAIS",
         "6",
         "DEPUTADO FEDERAL",
         "130001645105",
         "3627",
         "MARLY DE LOURDES MENDES OLIVEIRA",
         "LOURDES MARLY",
         "#NULO",
         "14071991615",
         "NÃO DIVULGÁVEL",
         "12",
         "APTO",
         "PARTIDO ISOLADO",
         "36",
         "AGIR",
         "AGIR",
         "-1",
         "#NULO",
         "#NULO",
         "#NULO",
         "130001683143",
         "PARTIDO ISOLADO",
         "AGIR",
         "MG",
         "29/05/1939",
         "052529670230",
         "4",
         "FEMININO",
         "4",
         "ENSINO FUNDAMENTAL COMPLETO",
         "1",
         "SOLTEIRO(A)",
         "02",
         "PRETA",
         "923",
         "APOSENTADO (EXCETO SERVIDOR PÚBLICO)",
         "4",
         "NÃO ELEITO"
        ],
        [
         "22/03/2025",
         "03:36:11",
         "2022",
         "2",
         "ELEIÇÃO ORDINÁRIA",
         "1",
         "546",
         "Eleições Gerais Estaduais 2022",
         "02/10/2022",
         "ESTADUAL",
         "MG",
         "MG",
         "MINAS GERAIS",
         "6",
         "DEPUTADO FEDERAL",
         "130001619740",
         "1035",
         "ANTONIO GERALDO DE JESUS",
         "TONI DA FARMACIA",
         "#NULO",
         "30375533672",
         "NÃO DIVULGÁVEL",
         "12",
         "APTO",
         "PARTIDO ISOLADO",
         "10",
         "REPUBLICANOS",
         "REPUBLICANOS",
         "-1",
         "#NULO",
         "#NULO",
         "#NULO",
         "130001682190",
         "PARTIDO ISOLADO",
         "REPUBLICANOS",
         "MG",
         "08/09/1962",
         "053267780281",
         "2",
         "MASCULINO",
         "6",
         "ENSINO MÉDIO COMPLETO",
         "3",
         "CASADO(A)",
         "02",
         "PRETA",
         "169",
         "COMERCIANTE",
         "5",
         "SUPLENTE"
        ]
       ],
       "datasetInfos": [],
       "dbfsResultPath": null,
       "isJsonSchema": true,
       "metadata": {},
       "overflow": false,
       "plotOptions": {
        "customPlotOptions": {},
        "displayType": "table",
        "pivotAggregation": null,
        "pivotColumns": null,
        "xColumns": null,
        "yColumns": null
       },
       "removedWidgets": [],
       "schema": [
        {
         "metadata": "{}",
         "name": "DT_GERACAO",
         "type": "\"string\""
        },
        {
         "metadata": "{}",
         "name": "HH_GERACAO",
         "type": "\"string\""
        },
        {
         "metadata": "{}",
         "name": "ANO_ELEICAO",
         "type": "\"string\""
        },
        {
         "metadata": "{}",
         "name": "CD_TIPO_ELEICAO",
         "type": "\"string\""
        },
        {
         "metadata": "{}",
         "name": "NM_TIPO_ELEICAO",
         "type": "\"string\""
        },
        {
         "metadata": "{}",
         "name": "NR_TURNO",
         "type": "\"string\""
        },
        {
         "metadata": "{}",
         "name": "CD_ELEICAO",
         "type": "\"string\""
        },
        {
         "metadata": "{}",
         "name": "DS_ELEICAO",
         "type": "\"string\""
        },
        {
         "metadata": "{}",
         "name": "DT_ELEICAO",
         "type": "\"string\""
        },
        {
         "metadata": "{}",
         "name": "TP_ABRANGENCIA",
         "type": "\"string\""
        },
        {
         "metadata": "{}",
         "name": "SG_UF",
         "type": "\"string\""
        },
        {
         "metadata": "{}",
         "name": "SG_UE",
         "type": "\"string\""
        },
        {
         "metadata": "{}",
         "name": "NM_UE",
         "type": "\"string\""
        },
        {
         "metadata": "{}",
         "name": "CD_CARGO",
         "type": "\"string\""
        },
        {
         "metadata": "{}",
         "name": "DS_CARGO",
         "type": "\"string\""
        },
        {
         "metadata": "{}",
         "name": "SQ_CANDIDATO",
         "type": "\"string\""
        },
        {
         "metadata": "{}",
         "name": "NR_CANDIDATO",
         "type": "\"string\""
        },
        {
         "metadata": "{}",
         "name": "NM_CANDIDATO",
         "type": "\"string\""
        },
        {
         "metadata": "{}",
         "name": "NM_URNA_CANDIDATO",
         "type": "\"string\""
        },
        {
         "metadata": "{}",
         "name": "NM_SOCIAL_CANDIDATO",
         "type": "\"string\""
        },
        {
         "metadata": "{}",
         "name": "NR_CPF_CANDIDATO",
         "type": "\"string\""
        },
        {
         "metadata": "{}",
         "name": "DS_EMAIL",
         "type": "\"string\""
        },
        {
         "metadata": "{}",
         "name": "CD_SITUACAO_CANDIDATURA",
         "type": "\"string\""
        },
        {
         "metadata": "{}",
         "name": "DS_SITUACAO_CANDIDATURA",
         "type": "\"string\""
        },
        {
         "metadata": "{}",
         "name": "TP_AGREMIACAO",
         "type": "\"string\""
        },
        {
         "metadata": "{}",
         "name": "NR_PARTIDO",
         "type": "\"string\""
        },
        {
         "metadata": "{}",
         "name": "SG_PARTIDO",
         "type": "\"string\""
        },
        {
         "metadata": "{}",
         "name": "NM_PARTIDO",
         "type": "\"string\""
        },
        {
         "metadata": "{}",
         "name": "NR_FEDERACAO",
         "type": "\"string\""
        },
        {
         "metadata": "{}",
         "name": "NM_FEDERACAO",
         "type": "\"string\""
        },
        {
         "metadata": "{}",
         "name": "SG_FEDERACAO",
         "type": "\"string\""
        },
        {
         "metadata": "{}",
         "name": "DS_COMPOSICAO_FEDERACAO",
         "type": "\"string\""
        },
        {
         "metadata": "{}",
         "name": "SQ_COLIGACAO",
         "type": "\"string\""
        },
        {
         "metadata": "{}",
         "name": "NM_COLIGACAO",
         "type": "\"string\""
        },
        {
         "metadata": "{}",
         "name": "DS_COMPOSICAO_COLIGACAO",
         "type": "\"string\""
        },
        {
         "metadata": "{}",
         "name": "SG_UF_NASCIMENTO",
         "type": "\"string\""
        },
        {
         "metadata": "{}",
         "name": "DT_NASCIMENTO",
         "type": "\"string\""
        },
        {
         "metadata": "{}",
         "name": "NR_TITULO_ELEITORAL_CANDIDATO",
         "type": "\"string\""
        },
        {
         "metadata": "{}",
         "name": "CD_GENERO",
         "type": "\"string\""
        },
        {
         "metadata": "{}",
         "name": "DS_GENERO",
         "type": "\"string\""
        },
        {
         "metadata": "{}",
         "name": "CD_GRAU_INSTRUCAO",
         "type": "\"string\""
        },
        {
         "metadata": "{}",
         "name": "DS_GRAU_INSTRUCAO",
         "type": "\"string\""
        },
        {
         "metadata": "{}",
         "name": "CD_ESTADO_CIVIL",
         "type": "\"string\""
        },
        {
         "metadata": "{}",
         "name": "DS_ESTADO_CIVIL",
         "type": "\"string\""
        },
        {
         "metadata": "{}",
         "name": "CD_COR_RACA",
         "type": "\"string\""
        },
        {
         "metadata": "{}",
         "name": "DS_COR_RACA",
         "type": "\"string\""
        },
        {
         "metadata": "{}",
         "name": "CD_OCUPACAO",
         "type": "\"string\""
        },
        {
         "metadata": "{}",
         "name": "DS_OCUPACAO",
         "type": "\"string\""
        },
        {
         "metadata": "{}",
         "name": "CD_SIT_TOT_TURNO",
         "type": "\"string\""
        },
        {
         "metadata": "{}",
         "name": "DS_SIT_TOT_TURNO",
         "type": "\"string\""
        }
       ],
       "type": "table"
      }
     },
     "output_type": "display_data"
    }
   ],
   "source": [
    "%sql\n",
    "SELECT \n",
    "  *\n",
    "FROM \n",
    "  eleicao_bronze.candidatos\n",
    "LIMIT 10"
   ]
  },
  {
   "cell_type": "markdown",
   "metadata": {
    "application/vnd.databricks.v1+cell": {
     "cellMetadata": {},
     "inputWidgets": {},
     "nuid": "8f326ae7-b31e-4ec2-8d97-9fdeca27a611",
     "showTitle": false,
     "tableResultSettingsMap": {},
     "title": ""
    }
   },
   "source": [
    "Próximos passo seria criar um loop para \"appendar\" os demais anos na mesma tabela, que irá facilitar o tratamento nas próximas camadas.<br>\n",
    "\n",
    "Para facilitar esse processo criarei pastas para cada grupo de dados<br>\n",
    "\n",
    "Para organização serão criadas duas tabelas dentro do Schema:\n",
    "- Tabela de Candidatos: contendo as informações dos candidatos\n",
    "- Tabela Bens: contendo os bens declarados pelos candidatos\n"
   ]
  },
  {
   "cell_type": "code",
   "execution_count": 0,
   "metadata": {
    "application/vnd.databricks.v1+cell": {
     "cellMetadata": {
      "byteLimit": 2048000,
      "rowLimit": 10000
     },
     "inputWidgets": {},
     "nuid": "824516f0-cae7-4e76-8283-34466a99475e",
     "showTitle": false,
     "tableResultSettingsMap": {},
     "title": ""
    }
   },
   "outputs": [],
   "source": [
    "#Criando pastas\n",
    "nome_pastas = ['candidatos','bens']\n",
    "\n",
    "\n",
    "for nomes in nome_pastas:\n",
    "  dbutils.fs.mkdirs(\"dbfs:/FileStore/tables/eleicoes/\"+nomes)\n"
   ]
  },
  {
   "cell_type": "code",
   "execution_count": 0,
   "metadata": {
    "application/vnd.databricks.v1+cell": {
     "cellMetadata": {
      "byteLimit": 2048000,
      "rowLimit": 10000
     },
     "inputWidgets": {},
     "nuid": "ad194d80-674a-47fe-976c-ebe453d98f8b",
     "showTitle": false,
     "tableResultSettingsMap": {},
     "title": ""
    }
   },
   "outputs": [],
   "source": [
    "#Movendo arquivos para suas pastas\n",
    "anos = [\"2018\",\"2020\",\"2022\"]\n",
    "\n",
    "for ano in anos:\n",
    "    dbutils.fs.mv(f\"dbfs:/FileStore/tables/eleicoes/bem_candidato_{ano}_BRASIL.csv\",f\"dbfs:/FileStore/tables/eleicoes/bens/bem_candidato_{ano}_BRASIL.csv\" )\n",
    "    dbutils.fs.mv(f\"dbfs:/FileStore/tables/eleicoes/consulta_cand_{ano}_BRASIL.csv\",f\"dbfs:/FileStore/tables/eleicoes/candidatos/consulta_cand_{ano}_BRASIL.csv\" )\n"
   ]
  },
  {
   "cell_type": "code",
   "execution_count": 0,
   "metadata": {
    "application/vnd.databricks.v1+cell": {
     "cellMetadata": {
      "byteLimit": 2048000,
      "implicitDf": true,
      "rowLimit": 10000
     },
     "inputWidgets": {},
     "nuid": "cf026883-6503-4567-80b9-4c354039b1d8",
     "showTitle": false,
     "tableResultSettingsMap": {},
     "title": ""
    }
   },
   "outputs": [
    {
     "output_type": "display_data",
     "data": {
      "text/html": [
       "<style scoped>\n",
       "  .table-result-container {\n",
       "    max-height: 300px;\n",
       "    overflow: auto;\n",
       "  }\n",
       "  table, th, td {\n",
       "    border: 1px solid black;\n",
       "    border-collapse: collapse;\n",
       "  }\n",
       "  th, td {\n",
       "    padding: 5px;\n",
       "  }\n",
       "  th {\n",
       "    text-align: left;\n",
       "  }\n",
       "</style><div class='table-result-container'><table class='table-result'><thead style='background-color: white'><tr></tr></thead><tbody></tbody></table></div>"
      ]
     },
     "metadata": {
      "application/vnd.databricks.v1+output": {
       "addedWidgets": {},
       "aggData": [],
       "aggError": "",
       "aggOverflow": false,
       "aggSchema": [],
       "aggSeriesLimitReached": false,
       "aggType": "",
       "arguments": {},
       "columnCustomDisplayInfos": {},
       "data": [],
       "datasetInfos": [],
       "dbfsResultPath": null,
       "isJsonSchema": true,
       "metadata": {},
       "overflow": false,
       "plotOptions": {
        "customPlotOptions": {},
        "displayType": "table",
        "pivotAggregation": null,
        "pivotColumns": null,
        "xColumns": null,
        "yColumns": null
       },
       "removedWidgets": [],
       "schema": [],
       "type": "table"
      }
     },
     "output_type": "display_data"
    }
   ],
   "source": [
    "%sql\n",
    "--Truncar tabela criada para executar looping\n",
    "TRUNCATE TABLE  eleicao_bronze.candidatos"
   ]
  },
  {
   "cell_type": "markdown",
   "metadata": {
    "application/vnd.databricks.v1+cell": {
     "cellMetadata": {},
     "inputWidgets": {},
     "nuid": "0ed5d1b4-91ab-4693-952e-0dcbf321b56c",
     "showTitle": false,
     "tableResultSettingsMap": {},
     "title": ""
    }
   },
   "source": [
    "Tabela bronze Candidatos:"
   ]
  },
  {
   "cell_type": "code",
   "execution_count": 0,
   "metadata": {
    "application/vnd.databricks.v1+cell": {
     "cellMetadata": {
      "byteLimit": 2048000,
      "rowLimit": 10000
     },
     "inputWidgets": {},
     "nuid": "2567e483-2878-454c-8a03-e03e77a8ee87",
     "showTitle": false,
     "tableResultSettingsMap": {},
     "title": ""
    }
   },
   "outputs": [],
   "source": [
    "#Tabela bronze candidatos particionada por ano\n",
    "\n",
    "folder = \"dbfs:/FileStore/tables/eleicoes/candidatos\"\n",
    "\n",
    "df = (\n",
    "    spark.read\n",
    "    .option(\"recursiveFileLookup\", \"true\")\n",
    "    .format(\"binaryFile\")\n",
    "    .load(folder)\n",
    ")\n",
    "\n",
    "tabelas = []\n",
    "\n",
    "tabelas.append(df.select('path').rdd.flatMap(lambda x: x).collect())\n",
    "\n",
    "# display(tabelas)\n",
    "\n",
    "for files in tabelas:\n",
    "    \n",
    "    file_type = \"csv\"\n",
    "\n",
    "    # CSV options\n",
    "    infer_schema = \"false\"\n",
    "    first_row_is_header = \"true\"\n",
    "    delimiter = \";\"\n",
    "    encoding = \"ISO-8859-1\" #Encoding que funcionou\n",
    "\n",
    "    df = spark.read.format(file_type) \\\n",
    "      .option(\"inferSchema\", infer_schema) \\\n",
    "      .option(\"header\", first_row_is_header) \\\n",
    "      .option(\"sep\", delimiter) \\\n",
    "      .option(\"encoding\",encoding) \\\n",
    "      .load(files)\n",
    "\n",
    "    df.createOrReplaceTempView('candidatos')\n",
    "\n",
    "    permanent_table_name = \"eleicao_bronze.candidatos\"\n",
    "\n",
    "    schema = 'eleicao_bronze'\n",
    "\n",
    "    df.write.format(\"parquet\").saveAsTable(permanent_table_name,mode='append')\n"
   ]
  },
  {
   "cell_type": "code",
   "execution_count": 0,
   "metadata": {
    "application/vnd.databricks.v1+cell": {
     "cellMetadata": {
      "byteLimit": 2048000,
      "implicitDf": true,
      "rowLimit": 10000
     },
     "inputWidgets": {},
     "nuid": "db62c7a0-7fd8-4e00-be58-761aa93472b8",
     "showTitle": false,
     "tableResultSettingsMap": {},
     "title": ""
    }
   },
   "outputs": [
    {
     "output_type": "display_data",
     "data": {
      "text/html": [
       "<style scoped>\n",
       "  .table-result-container {\n",
       "    max-height: 300px;\n",
       "    overflow: auto;\n",
       "  }\n",
       "  table, th, td {\n",
       "    border: 1px solid black;\n",
       "    border-collapse: collapse;\n",
       "  }\n",
       "  th, td {\n",
       "    padding: 5px;\n",
       "  }\n",
       "  th {\n",
       "    text-align: left;\n",
       "  }\n",
       "</style><div class='table-result-container'><table class='table-result'><thead style='background-color: white'><tr><th>DT_GERACAO</th><th>HH_GERACAO</th><th>ANO_ELEICAO</th><th>CD_TIPO_ELEICAO</th><th>NM_TIPO_ELEICAO</th><th>NR_TURNO</th><th>CD_ELEICAO</th><th>DS_ELEICAO</th><th>DT_ELEICAO</th><th>TP_ABRANGENCIA</th><th>SG_UF</th><th>SG_UE</th><th>NM_UE</th><th>CD_CARGO</th><th>DS_CARGO</th><th>SQ_CANDIDATO</th><th>NR_CANDIDATO</th><th>NM_CANDIDATO</th><th>NM_URNA_CANDIDATO</th><th>NM_SOCIAL_CANDIDATO</th><th>NR_CPF_CANDIDATO</th><th>DS_EMAIL</th><th>CD_SITUACAO_CANDIDATURA</th><th>DS_SITUACAO_CANDIDATURA</th><th>TP_AGREMIACAO</th><th>NR_PARTIDO</th><th>SG_PARTIDO</th><th>NM_PARTIDO</th><th>NR_FEDERACAO</th><th>NM_FEDERACAO</th><th>SG_FEDERACAO</th><th>DS_COMPOSICAO_FEDERACAO</th><th>SQ_COLIGACAO</th><th>NM_COLIGACAO</th><th>DS_COMPOSICAO_COLIGACAO</th><th>SG_UF_NASCIMENTO</th><th>DT_NASCIMENTO</th><th>NR_TITULO_ELEITORAL_CANDIDATO</th><th>CD_GENERO</th><th>DS_GENERO</th><th>CD_GRAU_INSTRUCAO</th><th>DS_GRAU_INSTRUCAO</th><th>CD_ESTADO_CIVIL</th><th>DS_ESTADO_CIVIL</th><th>CD_COR_RACA</th><th>DS_COR_RACA</th><th>CD_OCUPACAO</th><th>DS_OCUPACAO</th><th>CD_SIT_TOT_TURNO</th><th>DS_SIT_TOT_TURNO</th></tr></thead><tbody><tr><td>22/01/2025</td><td>15:04:00</td><td>2020</td><td>2</td><td>ELEIÇÃO ORDINÁRIA</td><td>1</td><td>426</td><td>Eleições Municipais 2020</td><td>15/11/2020</td><td>MUNICIPAL</td><td>SP</td><td>71072</td><td>SÃO PAULO</td><td>13</td><td>VEREADOR</td><td>250001265966</td><td>27323</td><td>JOÃO BATISTA DOS SANTOS</td><td>JOÃO ZELADOR</td><td>#NULO#</td><td>13534893883</td><td>NÃO DIVULGÁVEL</td><td>3</td><td>INAPTO</td><td>PARTIDO ISOLADO</td><td>27</td><td>DC</td><td>DEMOCRACIA CRISTÃ</td><td>-1</td><td>#NULO#</td><td>#NULO#</td><td>#NULO#</td><td>250000136838</td><td>PARTIDO ISOLADO</td><td>DC</td><td>SP</td><td>05/03/1970</td><td>292412220132</td><td>2</td><td>MASCULINO</td><td>5</td><td>ENSINO MÉDIO INCOMPLETO</td><td>3</td><td>CASADO(A)</td><td>03</td><td>PARDA</td><td>303</td><td>GERENTE</td><td>4</td><td>NÃO ELEITO</td></tr><tr><td>22/01/2025</td><td>15:04:00</td><td>2020</td><td>2</td><td>ELEIÇÃO ORDINÁRIA</td><td>1</td><td>426</td><td>Eleições Municipais 2020</td><td>15/11/2020</td><td>MUNICIPAL</td><td>SP</td><td>71072</td><td>SÃO PAULO</td><td>13</td><td>VEREADOR</td><td>250001268518</td><td>28010</td><td>SILVIO ROBERTO VOCE</td><td>SILVIO VOCE</td><td>#NULO#</td><td>90421213868</td><td>NÃO DIVULGÁVEL</td><td>12</td><td>APTO</td><td>PARTIDO ISOLADO</td><td>28</td><td>PRTB</td><td>PARTIDO RENOVADOR TRABALHISTA BRASILEIRO</td><td>-1</td><td>#NULO#</td><td>#NULO#</td><td>#NULO#</td><td>250000125795</td><td>PARTIDO ISOLADO</td><td>PRTB</td><td>SP</td><td>15/04/1953</td><td>097094760159</td><td>2</td><td>MASCULINO</td><td>6</td><td>ENSINO MÉDIO COMPLETO</td><td>1</td><td>SOLTEIRO(A)</td><td>01</td><td>BRANCA</td><td>182</td><td>COMISSÁRIO DE BORDO</td><td>4</td><td>NÃO ELEITO</td></tr><tr><td>22/01/2025</td><td>15:04:00</td><td>2020</td><td>2</td><td>ELEIÇÃO ORDINÁRIA</td><td>1</td><td>426</td><td>Eleições Municipais 2020</td><td>15/11/2020</td><td>MUNICIPAL</td><td>SP</td><td>71072</td><td>SÃO PAULO</td><td>13</td><td>VEREADOR</td><td>250000925963</td><td>20901</td><td>ANDRESSA MACIEL DO NASCIMENTO</td><td>DEDE</td><td>#NULO#</td><td>37174723802</td><td>NÃO DIVULGÁVEL</td><td>3</td><td>INAPTO</td><td>PARTIDO ISOLADO</td><td>20</td><td>PSC</td><td>PARTIDO SOCIAL CRISTÃO</td><td>-1</td><td>#NULO#</td><td>#NULO#</td><td>#NULO#</td><td>250000106600</td><td>PARTIDO ISOLADO</td><td>PSC</td><td>SP</td><td>20/11/1988</td><td>344907730124</td><td>4</td><td>FEMININO</td><td>7</td><td>SUPERIOR INCOMPLETO</td><td>3</td><td>CASADO(A)</td><td>03</td><td>PARDA</td><td>999</td><td>OUTROS</td><td>4</td><td>NÃO ELEITO</td></tr><tr><td>22/01/2025</td><td>15:04:00</td><td>2020</td><td>2</td><td>ELEIÇÃO ORDINÁRIA</td><td>1</td><td>426</td><td>Eleições Municipais 2020</td><td>15/11/2020</td><td>MUNICIPAL</td><td>PR</td><td>74888</td><td>TUNAS DO PARANÁ</td><td>13</td><td>VEREADOR</td><td>160001090215</td><td>28000</td><td>EDEMAR RIBEIRO BORGES</td><td>NICO DA MARACANÃ</td><td>#NULO#</td><td>62730614915</td><td>NÃO DIVULGÁVEL</td><td>12</td><td>APTO</td><td>PARTIDO ISOLADO</td><td>28</td><td>PRTB</td><td>PARTIDO RENOVADOR TRABALHISTA BRASILEIRO</td><td>-1</td><td>#NULO#</td><td>#NULO#</td><td>#NULO#</td><td>160000132022</td><td>PARTIDO ISOLADO</td><td>PRTB</td><td>PR</td><td>05/01/1965</td><td>004079340655</td><td>2</td><td>MASCULINO</td><td>3</td><td>ENSINO FUNDAMENTAL INCOMPLETO</td><td>1</td><td>SOLTEIRO(A)</td><td>03</td><td>PARDA</td><td>541</td><td>MECÂNICO DE MANUTENÇÃO</td><td>4</td><td>NÃO ELEITO</td></tr><tr><td>22/01/2025</td><td>15:04:00</td><td>2020</td><td>2</td><td>ELEIÇÃO ORDINÁRIA</td><td>1</td><td>426</td><td>Eleições Municipais 2020</td><td>15/11/2020</td><td>MUNICIPAL</td><td>SP</td><td>71072</td><td>SÃO PAULO</td><td>13</td><td>VEREADOR</td><td>250001100745</td><td>35020</td><td>ROSE LEILA RODASLI CHUERE</td><td>ROSE LEILA</td><td>#NULO#</td><td>53450779834</td><td>NÃO DIVULGÁVEL</td><td>3</td><td>INAPTO</td><td>PARTIDO ISOLADO</td><td>35</td><td>PMB</td><td>PARTIDO DA MULHER BRASILEIRA</td><td>-1</td><td>#NULO#</td><td>#NULO#</td><td>#NULO#</td><td>250000133375</td><td>PARTIDO ISOLADO</td><td>PMB</td><td>SP</td><td>11/01/1954</td><td>156241700167</td><td>4</td><td>FEMININO</td><td>8</td><td>SUPERIOR COMPLETO</td><td>1</td><td>SOLTEIRO(A)</td><td>01</td><td>BRANCA</td><td>923</td><td>APOSENTADO (EXCETO SERVIDOR PÚBLICO)</td><td>4</td><td>NÃO ELEITO</td></tr><tr><td>22/01/2025</td><td>15:04:00</td><td>2020</td><td>2</td><td>ELEIÇÃO ORDINÁRIA</td><td>1</td><td>426</td><td>Eleições Municipais 2020</td><td>15/11/2020</td><td>MUNICIPAL</td><td>SP</td><td>70211</td><td>SANTA BRANCA</td><td>13</td><td>VEREADOR</td><td>250000984468</td><td>45000</td><td>JOSÉ AMILTON CORREA</td><td>BIKUIRA</td><td>#NULO#</td><td>26595781840</td><td>NÃO DIVULGÁVEL</td><td>12</td><td>APTO</td><td>PARTIDO ISOLADO</td><td>45</td><td>PSDB</td><td>PARTIDO DA SOCIAL DEMOCRACIA BRASILEIRA</td><td>-1</td><td>#NULO#</td><td>#NULO#</td><td>#NULO#</td><td>250000115157</td><td>PARTIDO ISOLADO</td><td>PSDB</td><td>PR</td><td>17/08/1972</td><td>180429580124</td><td>2</td><td>MASCULINO</td><td>6</td><td>ENSINO MÉDIO COMPLETO</td><td>3</td><td>CASADO(A)</td><td>01</td><td>BRANCA</td><td>707</td><td>TRABALHADOR METALÚRGICO E SIDERÚRGICO</td><td>5</td><td>SUPLENTE</td></tr><tr><td>22/01/2025</td><td>15:04:00</td><td>2020</td><td>2</td><td>ELEIÇÃO ORDINÁRIA</td><td>1</td><td>426</td><td>Eleições Municipais 2020</td><td>15/11/2020</td><td>MUNICIPAL</td><td>PR</td><td>75493</td><td>FAXINAL</td><td>13</td><td>VEREADOR</td><td>160000869858</td><td>17200</td><td>JOSÉ PINTO DE OLIVEIRA</td><td>ZÉ DE OLIVEIRA DO GÁS</td><td>#NULO#</td><td>10132848953</td><td>NÃO DIVULGÁVEL</td><td>12</td><td>APTO</td><td>PARTIDO ISOLADO</td><td>17</td><td>PSL</td><td>PARTIDO SOCIAL LIBERAL</td><td>-1</td><td>#NULO#</td><td>#NULO#</td><td>#NULO#</td><td>160000095987</td><td>PARTIDO ISOLADO</td><td>PSL</td><td>MG</td><td>25/06/1951</td><td>034885470612</td><td>2</td><td>MASCULINO</td><td>2</td><td>LÊ E ESCREVE</td><td>3</td><td>CASADO(A)</td><td>01</td><td>BRANCA</td><td>169</td><td>COMERCIANTE</td><td>5</td><td>SUPLENTE</td></tr><tr><td>22/01/2025</td><td>15:04:00</td><td>2020</td><td>2</td><td>ELEIÇÃO ORDINÁRIA</td><td>1</td><td>426</td><td>Eleições Municipais 2020</td><td>15/11/2020</td><td>MUNICIPAL</td><td>MG</td><td>48534</td><td>MONTALVÂNIA</td><td>13</td><td>VEREADOR</td><td>130000888282</td><td>14333</td><td>EVERALDO MACEDO DOS SANTOS</td><td>EVERALDO DE ZÉ RODOVIÁRIA</td><td>#NULO#</td><td>06747192630</td><td>NÃO DIVULGÁVEL</td><td>12</td><td>APTO</td><td>PARTIDO ISOLADO</td><td>14</td><td>PTB</td><td>PARTIDO TRABALHISTA BRASILEIRO</td><td>-1</td><td>#NULO#</td><td>#NULO#</td><td>#NULO#</td><td>130000099696</td><td>PARTIDO ISOLADO</td><td>PTB</td><td>MG</td><td>14/08/1984</td><td>146298280248</td><td>2</td><td>MASCULINO</td><td>4</td><td>ENSINO FUNDAMENTAL COMPLETO</td><td>3</td><td>CASADO(A)</td><td>02</td><td>PRETA</td><td>999</td><td>OUTROS</td><td>5</td><td>SUPLENTE</td></tr><tr><td>22/01/2025</td><td>15:04:00</td><td>2020</td><td>2</td><td>ELEIÇÃO ORDINÁRIA</td><td>1</td><td>426</td><td>Eleições Municipais 2020</td><td>15/11/2020</td><td>MUNICIPAL</td><td>SP</td><td>71072</td><td>SÃO PAULO</td><td>13</td><td>VEREADOR</td><td>250001123247</td><td>40600</td><td>ADILSON ADRIANO SALES DE SOUZA CARVALHO AMADEU</td><td>DR ADILSON CARVALHO</td><td>#NULO#</td><td>28254810842</td><td>NÃO DIVULGÁVEL</td><td>3</td><td>INAPTO</td><td>PARTIDO ISOLADO</td><td>40</td><td>PSB</td><td>PARTIDO SOCIALISTA BRASILEIRO</td><td>-1</td><td>#NULO#</td><td>#NULO#</td><td>#NULO#</td><td>250000136167</td><td>PARTIDO ISOLADO</td><td>PSB</td><td>SP</td><td>02/10/1974</td><td>251049250167</td><td>2</td><td>MASCULINO</td><td>8</td><td>SUPERIOR COMPLETO</td><td>1</td><td>SOLTEIRO(A)</td><td>01</td><td>BRANCA</td><td>131</td><td>ADVOGADO</td><td>4</td><td>NÃO ELEITO</td></tr><tr><td>22/01/2025</td><td>15:04:00</td><td>2020</td><td>2</td><td>ELEIÇÃO ORDINÁRIA</td><td>1</td><td>426</td><td>Eleições Municipais 2020</td><td>15/11/2020</td><td>MUNICIPAL</td><td>PR</td><td>75515</td><td>FÊNIX</td><td>13</td><td>VEREADOR</td><td>160000939823</td><td>22333</td><td>JOAQUIM RODRIGUES NOVO</td><td>JOAQUIM RODRIGUES</td><td>#NULO#</td><td>59857307949</td><td>NÃO DIVULGÁVEL</td><td>12</td><td>APTO</td><td>PARTIDO ISOLADO</td><td>22</td><td>PL</td><td>PARTIDO LIBERAL</td><td>-1</td><td>#NULO#</td><td>#NULO#</td><td>#NULO#</td><td>160000108483</td><td>PARTIDO ISOLADO</td><td>PL</td><td>PR</td><td>12/09/1967</td><td>025950160698</td><td>2</td><td>MASCULINO</td><td>6</td><td>ENSINO MÉDIO COMPLETO</td><td>3</td><td>CASADO(A)</td><td>01</td><td>BRANCA</td><td>601</td><td>AGRICULTOR</td><td>2</td><td>ELEITO POR QP</td></tr></tbody></table></div>"
      ]
     },
     "metadata": {
      "application/vnd.databricks.v1+output": {
       "addedWidgets": {},
       "aggData": [],
       "aggError": "",
       "aggOverflow": false,
       "aggSchema": [],
       "aggSeriesLimitReached": false,
       "aggType": "",
       "arguments": {},
       "columnCustomDisplayInfos": {},
       "data": [
        [
         "22/01/2025",
         "15:04:00",
         "2020",
         "2",
         "ELEIÇÃO ORDINÁRIA",
         "1",
         "426",
         "Eleições Municipais 2020",
         "15/11/2020",
         "MUNICIPAL",
         "SP",
         "71072",
         "SÃO PAULO",
         "13",
         "VEREADOR",
         "250001265966",
         "27323",
         "JOÃO BATISTA DOS SANTOS",
         "JOÃO ZELADOR",
         "#NULO#",
         "13534893883",
         "NÃO DIVULGÁVEL",
         "3",
         "INAPTO",
         "PARTIDO ISOLADO",
         "27",
         "DC",
         "DEMOCRACIA CRISTÃ",
         "-1",
         "#NULO#",
         "#NULO#",
         "#NULO#",
         "250000136838",
         "PARTIDO ISOLADO",
         "DC",
         "SP",
         "05/03/1970",
         "292412220132",
         "2",
         "MASCULINO",
         "5",
         "ENSINO MÉDIO INCOMPLETO",
         "3",
         "CASADO(A)",
         "03",
         "PARDA",
         "303",
         "GERENTE",
         "4",
         "NÃO ELEITO"
        ],
        [
         "22/01/2025",
         "15:04:00",
         "2020",
         "2",
         "ELEIÇÃO ORDINÁRIA",
         "1",
         "426",
         "Eleições Municipais 2020",
         "15/11/2020",
         "MUNICIPAL",
         "SP",
         "71072",
         "SÃO PAULO",
         "13",
         "VEREADOR",
         "250001268518",
         "28010",
         "SILVIO ROBERTO VOCE",
         "SILVIO VOCE",
         "#NULO#",
         "90421213868",
         "NÃO DIVULGÁVEL",
         "12",
         "APTO",
         "PARTIDO ISOLADO",
         "28",
         "PRTB",
         "PARTIDO RENOVADOR TRABALHISTA BRASILEIRO",
         "-1",
         "#NULO#",
         "#NULO#",
         "#NULO#",
         "250000125795",
         "PARTIDO ISOLADO",
         "PRTB",
         "SP",
         "15/04/1953",
         "097094760159",
         "2",
         "MASCULINO",
         "6",
         "ENSINO MÉDIO COMPLETO",
         "1",
         "SOLTEIRO(A)",
         "01",
         "BRANCA",
         "182",
         "COMISSÁRIO DE BORDO",
         "4",
         "NÃO ELEITO"
        ],
        [
         "22/01/2025",
         "15:04:00",
         "2020",
         "2",
         "ELEIÇÃO ORDINÁRIA",
         "1",
         "426",
         "Eleições Municipais 2020",
         "15/11/2020",
         "MUNICIPAL",
         "SP",
         "71072",
         "SÃO PAULO",
         "13",
         "VEREADOR",
         "250000925963",
         "20901",
         "ANDRESSA MACIEL DO NASCIMENTO",
         "DEDE",
         "#NULO#",
         "37174723802",
         "NÃO DIVULGÁVEL",
         "3",
         "INAPTO",
         "PARTIDO ISOLADO",
         "20",
         "PSC",
         "PARTIDO SOCIAL CRISTÃO",
         "-1",
         "#NULO#",
         "#NULO#",
         "#NULO#",
         "250000106600",
         "PARTIDO ISOLADO",
         "PSC",
         "SP",
         "20/11/1988",
         "344907730124",
         "4",
         "FEMININO",
         "7",
         "SUPERIOR INCOMPLETO",
         "3",
         "CASADO(A)",
         "03",
         "PARDA",
         "999",
         "OUTROS",
         "4",
         "NÃO ELEITO"
        ],
        [
         "22/01/2025",
         "15:04:00",
         "2020",
         "2",
         "ELEIÇÃO ORDINÁRIA",
         "1",
         "426",
         "Eleições Municipais 2020",
         "15/11/2020",
         "MUNICIPAL",
         "PR",
         "74888",
         "TUNAS DO PARANÁ",
         "13",
         "VEREADOR",
         "160001090215",
         "28000",
         "EDEMAR RIBEIRO BORGES",
         "NICO DA MARACANÃ",
         "#NULO#",
         "62730614915",
         "NÃO DIVULGÁVEL",
         "12",
         "APTO",
         "PARTIDO ISOLADO",
         "28",
         "PRTB",
         "PARTIDO RENOVADOR TRABALHISTA BRASILEIRO",
         "-1",
         "#NULO#",
         "#NULO#",
         "#NULO#",
         "160000132022",
         "PARTIDO ISOLADO",
         "PRTB",
         "PR",
         "05/01/1965",
         "004079340655",
         "2",
         "MASCULINO",
         "3",
         "ENSINO FUNDAMENTAL INCOMPLETO",
         "1",
         "SOLTEIRO(A)",
         "03",
         "PARDA",
         "541",
         "MECÂNICO DE MANUTENÇÃO",
         "4",
         "NÃO ELEITO"
        ],
        [
         "22/01/2025",
         "15:04:00",
         "2020",
         "2",
         "ELEIÇÃO ORDINÁRIA",
         "1",
         "426",
         "Eleições Municipais 2020",
         "15/11/2020",
         "MUNICIPAL",
         "SP",
         "71072",
         "SÃO PAULO",
         "13",
         "VEREADOR",
         "250001100745",
         "35020",
         "ROSE LEILA RODASLI CHUERE",
         "ROSE LEILA",
         "#NULO#",
         "53450779834",
         "NÃO DIVULGÁVEL",
         "3",
         "INAPTO",
         "PARTIDO ISOLADO",
         "35",
         "PMB",
         "PARTIDO DA MULHER BRASILEIRA",
         "-1",
         "#NULO#",
         "#NULO#",
         "#NULO#",
         "250000133375",
         "PARTIDO ISOLADO",
         "PMB",
         "SP",
         "11/01/1954",
         "156241700167",
         "4",
         "FEMININO",
         "8",
         "SUPERIOR COMPLETO",
         "1",
         "SOLTEIRO(A)",
         "01",
         "BRANCA",
         "923",
         "APOSENTADO (EXCETO SERVIDOR PÚBLICO)",
         "4",
         "NÃO ELEITO"
        ],
        [
         "22/01/2025",
         "15:04:00",
         "2020",
         "2",
         "ELEIÇÃO ORDINÁRIA",
         "1",
         "426",
         "Eleições Municipais 2020",
         "15/11/2020",
         "MUNICIPAL",
         "SP",
         "70211",
         "SANTA BRANCA",
         "13",
         "VEREADOR",
         "250000984468",
         "45000",
         "JOSÉ AMILTON CORREA",
         "BIKUIRA",
         "#NULO#",
         "26595781840",
         "NÃO DIVULGÁVEL",
         "12",
         "APTO",
         "PARTIDO ISOLADO",
         "45",
         "PSDB",
         "PARTIDO DA SOCIAL DEMOCRACIA BRASILEIRA",
         "-1",
         "#NULO#",
         "#NULO#",
         "#NULO#",
         "250000115157",
         "PARTIDO ISOLADO",
         "PSDB",
         "PR",
         "17/08/1972",
         "180429580124",
         "2",
         "MASCULINO",
         "6",
         "ENSINO MÉDIO COMPLETO",
         "3",
         "CASADO(A)",
         "01",
         "BRANCA",
         "707",
         "TRABALHADOR METALÚRGICO E SIDERÚRGICO",
         "5",
         "SUPLENTE"
        ],
        [
         "22/01/2025",
         "15:04:00",
         "2020",
         "2",
         "ELEIÇÃO ORDINÁRIA",
         "1",
         "426",
         "Eleições Municipais 2020",
         "15/11/2020",
         "MUNICIPAL",
         "PR",
         "75493",
         "FAXINAL",
         "13",
         "VEREADOR",
         "160000869858",
         "17200",
         "JOSÉ PINTO DE OLIVEIRA",
         "ZÉ DE OLIVEIRA DO GÁS",
         "#NULO#",
         "10132848953",
         "NÃO DIVULGÁVEL",
         "12",
         "APTO",
         "PARTIDO ISOLADO",
         "17",
         "PSL",
         "PARTIDO SOCIAL LIBERAL",
         "-1",
         "#NULO#",
         "#NULO#",
         "#NULO#",
         "160000095987",
         "PARTIDO ISOLADO",
         "PSL",
         "MG",
         "25/06/1951",
         "034885470612",
         "2",
         "MASCULINO",
         "2",
         "LÊ E ESCREVE",
         "3",
         "CASADO(A)",
         "01",
         "BRANCA",
         "169",
         "COMERCIANTE",
         "5",
         "SUPLENTE"
        ],
        [
         "22/01/2025",
         "15:04:00",
         "2020",
         "2",
         "ELEIÇÃO ORDINÁRIA",
         "1",
         "426",
         "Eleições Municipais 2020",
         "15/11/2020",
         "MUNICIPAL",
         "MG",
         "48534",
         "MONTALVÂNIA",
         "13",
         "VEREADOR",
         "130000888282",
         "14333",
         "EVERALDO MACEDO DOS SANTOS",
         "EVERALDO DE ZÉ RODOVIÁRIA",
         "#NULO#",
         "06747192630",
         "NÃO DIVULGÁVEL",
         "12",
         "APTO",
         "PARTIDO ISOLADO",
         "14",
         "PTB",
         "PARTIDO TRABALHISTA BRASILEIRO",
         "-1",
         "#NULO#",
         "#NULO#",
         "#NULO#",
         "130000099696",
         "PARTIDO ISOLADO",
         "PTB",
         "MG",
         "14/08/1984",
         "146298280248",
         "2",
         "MASCULINO",
         "4",
         "ENSINO FUNDAMENTAL COMPLETO",
         "3",
         "CASADO(A)",
         "02",
         "PRETA",
         "999",
         "OUTROS",
         "5",
         "SUPLENTE"
        ],
        [
         "22/01/2025",
         "15:04:00",
         "2020",
         "2",
         "ELEIÇÃO ORDINÁRIA",
         "1",
         "426",
         "Eleições Municipais 2020",
         "15/11/2020",
         "MUNICIPAL",
         "SP",
         "71072",
         "SÃO PAULO",
         "13",
         "VEREADOR",
         "250001123247",
         "40600",
         "ADILSON ADRIANO SALES DE SOUZA CARVALHO AMADEU",
         "DR ADILSON CARVALHO",
         "#NULO#",
         "28254810842",
         "NÃO DIVULGÁVEL",
         "3",
         "INAPTO",
         "PARTIDO ISOLADO",
         "40",
         "PSB",
         "PARTIDO SOCIALISTA BRASILEIRO",
         "-1",
         "#NULO#",
         "#NULO#",
         "#NULO#",
         "250000136167",
         "PARTIDO ISOLADO",
         "PSB",
         "SP",
         "02/10/1974",
         "251049250167",
         "2",
         "MASCULINO",
         "8",
         "SUPERIOR COMPLETO",
         "1",
         "SOLTEIRO(A)",
         "01",
         "BRANCA",
         "131",
         "ADVOGADO",
         "4",
         "NÃO ELEITO"
        ],
        [
         "22/01/2025",
         "15:04:00",
         "2020",
         "2",
         "ELEIÇÃO ORDINÁRIA",
         "1",
         "426",
         "Eleições Municipais 2020",
         "15/11/2020",
         "MUNICIPAL",
         "PR",
         "75515",
         "FÊNIX",
         "13",
         "VEREADOR",
         "160000939823",
         "22333",
         "JOAQUIM RODRIGUES NOVO",
         "JOAQUIM RODRIGUES",
         "#NULO#",
         "59857307949",
         "NÃO DIVULGÁVEL",
         "12",
         "APTO",
         "PARTIDO ISOLADO",
         "22",
         "PL",
         "PARTIDO LIBERAL",
         "-1",
         "#NULO#",
         "#NULO#",
         "#NULO#",
         "160000108483",
         "PARTIDO ISOLADO",
         "PL",
         "PR",
         "12/09/1967",
         "025950160698",
         "2",
         "MASCULINO",
         "6",
         "ENSINO MÉDIO COMPLETO",
         "3",
         "CASADO(A)",
         "01",
         "BRANCA",
         "601",
         "AGRICULTOR",
         "2",
         "ELEITO POR QP"
        ]
       ],
       "datasetInfos": [],
       "dbfsResultPath": null,
       "isJsonSchema": true,
       "metadata": {},
       "overflow": false,
       "plotOptions": {
        "customPlotOptions": {},
        "displayType": "table",
        "pivotAggregation": null,
        "pivotColumns": null,
        "xColumns": null,
        "yColumns": null
       },
       "removedWidgets": [],
       "schema": [
        {
         "metadata": "{}",
         "name": "DT_GERACAO",
         "type": "\"string\""
        },
        {
         "metadata": "{}",
         "name": "HH_GERACAO",
         "type": "\"string\""
        },
        {
         "metadata": "{}",
         "name": "ANO_ELEICAO",
         "type": "\"string\""
        },
        {
         "metadata": "{}",
         "name": "CD_TIPO_ELEICAO",
         "type": "\"string\""
        },
        {
         "metadata": "{}",
         "name": "NM_TIPO_ELEICAO",
         "type": "\"string\""
        },
        {
         "metadata": "{}",
         "name": "NR_TURNO",
         "type": "\"string\""
        },
        {
         "metadata": "{}",
         "name": "CD_ELEICAO",
         "type": "\"string\""
        },
        {
         "metadata": "{}",
         "name": "DS_ELEICAO",
         "type": "\"string\""
        },
        {
         "metadata": "{}",
         "name": "DT_ELEICAO",
         "type": "\"string\""
        },
        {
         "metadata": "{}",
         "name": "TP_ABRANGENCIA",
         "type": "\"string\""
        },
        {
         "metadata": "{}",
         "name": "SG_UF",
         "type": "\"string\""
        },
        {
         "metadata": "{}",
         "name": "SG_UE",
         "type": "\"string\""
        },
        {
         "metadata": "{}",
         "name": "NM_UE",
         "type": "\"string\""
        },
        {
         "metadata": "{}",
         "name": "CD_CARGO",
         "type": "\"string\""
        },
        {
         "metadata": "{}",
         "name": "DS_CARGO",
         "type": "\"string\""
        },
        {
         "metadata": "{}",
         "name": "SQ_CANDIDATO",
         "type": "\"string\""
        },
        {
         "metadata": "{}",
         "name": "NR_CANDIDATO",
         "type": "\"string\""
        },
        {
         "metadata": "{}",
         "name": "NM_CANDIDATO",
         "type": "\"string\""
        },
        {
         "metadata": "{}",
         "name": "NM_URNA_CANDIDATO",
         "type": "\"string\""
        },
        {
         "metadata": "{}",
         "name": "NM_SOCIAL_CANDIDATO",
         "type": "\"string\""
        },
        {
         "metadata": "{}",
         "name": "NR_CPF_CANDIDATO",
         "type": "\"string\""
        },
        {
         "metadata": "{}",
         "name": "DS_EMAIL",
         "type": "\"string\""
        },
        {
         "metadata": "{}",
         "name": "CD_SITUACAO_CANDIDATURA",
         "type": "\"string\""
        },
        {
         "metadata": "{}",
         "name": "DS_SITUACAO_CANDIDATURA",
         "type": "\"string\""
        },
        {
         "metadata": "{}",
         "name": "TP_AGREMIACAO",
         "type": "\"string\""
        },
        {
         "metadata": "{}",
         "name": "NR_PARTIDO",
         "type": "\"string\""
        },
        {
         "metadata": "{}",
         "name": "SG_PARTIDO",
         "type": "\"string\""
        },
        {
         "metadata": "{}",
         "name": "NM_PARTIDO",
         "type": "\"string\""
        },
        {
         "metadata": "{}",
         "name": "NR_FEDERACAO",
         "type": "\"string\""
        },
        {
         "metadata": "{}",
         "name": "NM_FEDERACAO",
         "type": "\"string\""
        },
        {
         "metadata": "{}",
         "name": "SG_FEDERACAO",
         "type": "\"string\""
        },
        {
         "metadata": "{}",
         "name": "DS_COMPOSICAO_FEDERACAO",
         "type": "\"string\""
        },
        {
         "metadata": "{}",
         "name": "SQ_COLIGACAO",
         "type": "\"string\""
        },
        {
         "metadata": "{}",
         "name": "NM_COLIGACAO",
         "type": "\"string\""
        },
        {
         "metadata": "{}",
         "name": "DS_COMPOSICAO_COLIGACAO",
         "type": "\"string\""
        },
        {
         "metadata": "{}",
         "name": "SG_UF_NASCIMENTO",
         "type": "\"string\""
        },
        {
         "metadata": "{}",
         "name": "DT_NASCIMENTO",
         "type": "\"string\""
        },
        {
         "metadata": "{}",
         "name": "NR_TITULO_ELEITORAL_CANDIDATO",
         "type": "\"string\""
        },
        {
         "metadata": "{}",
         "name": "CD_GENERO",
         "type": "\"string\""
        },
        {
         "metadata": "{}",
         "name": "DS_GENERO",
         "type": "\"string\""
        },
        {
         "metadata": "{}",
         "name": "CD_GRAU_INSTRUCAO",
         "type": "\"string\""
        },
        {
         "metadata": "{}",
         "name": "DS_GRAU_INSTRUCAO",
         "type": "\"string\""
        },
        {
         "metadata": "{}",
         "name": "CD_ESTADO_CIVIL",
         "type": "\"string\""
        },
        {
         "metadata": "{}",
         "name": "DS_ESTADO_CIVIL",
         "type": "\"string\""
        },
        {
         "metadata": "{}",
         "name": "CD_COR_RACA",
         "type": "\"string\""
        },
        {
         "metadata": "{}",
         "name": "DS_COR_RACA",
         "type": "\"string\""
        },
        {
         "metadata": "{}",
         "name": "CD_OCUPACAO",
         "type": "\"string\""
        },
        {
         "metadata": "{}",
         "name": "DS_OCUPACAO",
         "type": "\"string\""
        },
        {
         "metadata": "{}",
         "name": "CD_SIT_TOT_TURNO",
         "type": "\"string\""
        },
        {
         "metadata": "{}",
         "name": "DS_SIT_TOT_TURNO",
         "type": "\"string\""
        }
       ],
       "type": "table"
      }
     },
     "output_type": "display_data"
    }
   ],
   "source": [
    "%sql\n",
    "--Verificar tabela criada\n",
    "SELECT \n",
    "  *\n",
    "FROM \n",
    "  eleicao_bronze.candidatos\n",
    "LIMIT 10"
   ]
  },
  {
   "cell_type": "code",
   "execution_count": 0,
   "metadata": {
    "application/vnd.databricks.v1+cell": {
     "cellMetadata": {
      "byteLimit": 2048000,
      "implicitDf": true,
      "rowLimit": 10000
     },
     "inputWidgets": {},
     "nuid": "1f4bdc08-fcd1-4ade-95f8-eaf901e48643",
     "showTitle": false,
     "tableResultSettingsMap": {},
     "title": ""
    }
   },
   "outputs": [
    {
     "output_type": "display_data",
     "data": {
      "text/html": [
       "<style scoped>\n",
       "  .table-result-container {\n",
       "    max-height: 300px;\n",
       "    overflow: auto;\n",
       "  }\n",
       "  table, th, td {\n",
       "    border: 1px solid black;\n",
       "    border-collapse: collapse;\n",
       "  }\n",
       "  th, td {\n",
       "    padding: 5px;\n",
       "  }\n",
       "  th {\n",
       "    text-align: left;\n",
       "  }\n",
       "</style><div class='table-result-container'><table class='table-result'><thead style='background-color: white'><tr><th>ANO_ELEICAO</th></tr></thead><tbody><tr><td>2020</td></tr><tr><td>2018</td></tr><tr><td>2022</td></tr></tbody></table></div>"
      ]
     },
     "metadata": {
      "application/vnd.databricks.v1+output": {
       "addedWidgets": {},
       "aggData": [],
       "aggError": "",
       "aggOverflow": false,
       "aggSchema": [],
       "aggSeriesLimitReached": false,
       "aggType": "",
       "arguments": {},
       "columnCustomDisplayInfos": {},
       "data": [
        [
         "2020"
        ],
        [
         "2018"
        ],
        [
         "2022"
        ]
       ],
       "datasetInfos": [],
       "dbfsResultPath": null,
       "isJsonSchema": true,
       "metadata": {},
       "overflow": false,
       "plotOptions": {
        "customPlotOptions": {},
        "displayType": "table",
        "pivotAggregation": null,
        "pivotColumns": null,
        "xColumns": null,
        "yColumns": null
       },
       "removedWidgets": [],
       "schema": [
        {
         "metadata": "{}",
         "name": "ANO_ELEICAO",
         "type": "\"string\""
        }
       ],
       "type": "table"
      }
     },
     "output_type": "display_data"
    }
   ],
   "source": [
    "%sql\n",
    "--Verificar se todos os arquivos foram inseridos\n",
    "SELECT \n",
    "  DISTINCT ANO_ELEICAO\n",
    "FROM \n",
    "  eleicao_bronze.candidatos"
   ]
  },
  {
   "cell_type": "markdown",
   "metadata": {
    "application/vnd.databricks.v1+cell": {
     "cellMetadata": {},
     "inputWidgets": {},
     "nuid": "e4476fc4-c8db-4d06-882c-eaf6f02d3001",
     "showTitle": false,
     "tableResultSettingsMap": {},
     "title": ""
    }
   },
   "source": [
    "Tabela bronze Bens:"
   ]
  },
  {
   "cell_type": "code",
   "execution_count": 0,
   "metadata": {
    "application/vnd.databricks.v1+cell": {
     "cellMetadata": {
      "byteLimit": 2048000,
      "rowLimit": 10000
     },
     "inputWidgets": {},
     "nuid": "a61ca93e-10c3-4204-92f8-b171a06104b2",
     "showTitle": false,
     "tableResultSettingsMap": {},
     "title": ""
    }
   },
   "outputs": [],
   "source": [
    "#Tabela dos Bens Candidatos\n",
    "\n",
    "folder = \"dbfs:/FileStore/tables/eleicoes/bens\"\n",
    "\n",
    "df = (\n",
    "    spark.read\n",
    "    .option(\"recursiveFileLookup\", \"true\")\n",
    "    .format(\"binaryFile\")\n",
    "    .load(folder)\n",
    ")\n",
    "\n",
    "tabelas = []\n",
    "\n",
    "tabelas.append(df.select('path').rdd.flatMap(lambda x: x).collect())\n",
    "\n",
    "# display(tabelas)\n",
    "\n",
    "for files in tabelas:\n",
    "    \n",
    "    file_type = \"csv\"\n",
    "\n",
    "    # CSV options\n",
    "    infer_schema = \"false\"\n",
    "    first_row_is_header = \"true\"\n",
    "    delimiter = \";\"\n",
    "    encoding = \"ISO-8859-1\" #Encoding que funcionou\n",
    "\n",
    "    df = spark.read.format(file_type) \\\n",
    "      .option(\"inferSchema\", infer_schema) \\\n",
    "      .option(\"header\", first_row_is_header) \\\n",
    "      .option(\"sep\", delimiter) \\\n",
    "      .option(\"encoding\",encoding) \\\n",
    "      .load(files)\n",
    "\n",
    "    df.createOrReplaceTempView('bens_declarados')\n",
    "\n",
    "    permanent_table_name = \"eleicao_bronze.bens_declarados\"\n",
    "\n",
    "    schema = 'eleicao_bronze'\n",
    "\n",
    "    df.write.format(\"parquet\").saveAsTable(permanent_table_name,mode='append')"
   ]
  },
  {
   "cell_type": "code",
   "execution_count": 0,
   "metadata": {
    "application/vnd.databricks.v1+cell": {
     "cellMetadata": {
      "byteLimit": 2048000,
      "implicitDf": true,
      "rowLimit": 10000
     },
     "inputWidgets": {},
     "nuid": "9318631c-360e-4501-86f1-69f904680c36",
     "showTitle": false,
     "tableResultSettingsMap": {},
     "title": ""
    }
   },
   "outputs": [
    {
     "output_type": "display_data",
     "data": {
      "text/html": [
       "<style scoped>\n",
       "  .table-result-container {\n",
       "    max-height: 300px;\n",
       "    overflow: auto;\n",
       "  }\n",
       "  table, th, td {\n",
       "    border: 1px solid black;\n",
       "    border-collapse: collapse;\n",
       "  }\n",
       "  th, td {\n",
       "    padding: 5px;\n",
       "  }\n",
       "  th {\n",
       "    text-align: left;\n",
       "  }\n",
       "</style><div class='table-result-container'><table class='table-result'><thead style='background-color: white'><tr><th>DT_GERACAO</th><th>HH_GERACAO</th><th>ANO_ELEICAO</th><th>CD_TIPO_ELEICAO</th><th>NM_TIPO_ELEICAO</th><th>CD_ELEICAO</th><th>DS_ELEICAO</th><th>DT_ELEICAO</th><th>SG_UF</th><th>SG_UE</th><th>NM_UE</th><th>SQ_CANDIDATO</th><th>NR_ORDEM_BEM_CANDIDATO</th><th>CD_TIPO_BEM_CANDIDATO</th><th>DS_TIPO_BEM_CANDIDATO</th><th>DS_BEM_CANDIDATO</th><th>VR_BEM_CANDIDATO</th><th>DT_ULT_ATUAL_BEM_CANDIDATO</th><th>HH_ULT_ATUAL_BEM_CANDIDATO</th></tr></thead><tbody><tr><td>22/01/2025</td><td>15:03:56</td><td>2020</td><td>2</td><td>Eleição Ordinária</td><td>426</td><td>Eleições Municipais 2020</td><td>15/11/2020</td><td>PB</td><td>22411</td><td>UMBUZEIRO</td><td>150001212623</td><td>1</td><td>13</td><td>Terreno</td><td>TERRENO LOCALIZADO NO LOTEAMENTO  DR. JOSÉ NIVALDO, SURUBIM-PE</td><td>76800,00</td><td>15/11/2020</td><td>22:05:27</td></tr><tr><td>22/01/2025</td><td>15:03:56</td><td>2020</td><td>2</td><td>Eleição Ordinária</td><td>426</td><td>Eleições Municipais 2020</td><td>15/11/2020</td><td>PB</td><td>20990</td><td>NATUBA</td><td>150001213783</td><td>1</td><td>13</td><td>Terreno</td><td>PROPRIEDADE RURAL 60 HECTARE, NO SITIO COVÕES, NATUBA-PB</td><td>40000,00</td><td>15/11/2020</td><td>21:51:07</td></tr><tr><td>22/01/2025</td><td>15:03:56</td><td>2020</td><td>2</td><td>Eleição Ordinária</td><td>426</td><td>Eleições Municipais 2020</td><td>15/11/2020</td><td>PB</td><td>20990</td><td>NATUBA</td><td>150001213783</td><td>2</td><td>13</td><td>Terreno</td><td>UM TERRENO E PRÉDIO NA AVENIDA DR FRANCISCO MONTENEGRO, 48, NO 1. PISO A MEDIDA 4M X 7M DE LARGURA, COM A CRIPTA PANTHEON DR. FRANCISCO MONTENEGRO E NO 2. PISO, MEDIDAS DE 7X7M</td><td>60000,00</td><td>15/11/2020</td><td>21:51:07</td></tr><tr><td>22/01/2025</td><td>15:03:56</td><td>2020</td><td>2</td><td>Eleição Ordinária</td><td>426</td><td>Eleições Municipais 2020</td><td>15/11/2020</td><td>PB</td><td>19658</td><td>CABEDELO</td><td>150001215952</td><td>2</td><td>19</td><td>Outros bens imóveis</td><td>Apartamento em Construção de 60m² localizado na rua Bancário Antonio Rosa da Silva, S/N, Bancários - João Pessoa/PB</td><td>285000,00</td><td>15/11/2020</td><td>21:51:09</td></tr><tr><td>22/01/2025</td><td>15:03:56</td><td>2020</td><td>2</td><td>Eleição Ordinária</td><td>426</td><td>Eleições Municipais 2020</td><td>15/11/2020</td><td>PB</td><td>19658</td><td>CABEDELO</td><td>150001216673</td><td>1</td><td>13</td><td>Terreno</td><td>1/3 do lote de terreno sob No. 07, quadra Y, Loteamnento Jardim Prolongado Jardim Atlantico - Cabedelo-PB</td><td>23333,33</td><td>15/11/2020</td><td>21:51:09</td></tr><tr><td>22/01/2025</td><td>15:03:56</td><td>2020</td><td>2</td><td>Eleição Ordinária</td><td>426</td><td>Eleições Municipais 2020</td><td>15/11/2020</td><td>PB</td><td>19658</td><td>CABEDELO</td><td>150001216692</td><td>1</td><td>19</td><td>Outros bens imóveis</td><td>Sítio de aproximadamente 0,6 hectare, localizado no sitio Jardim, no município de Serraria, estado da Paraiba</td><td>40000,00</td><td>15/11/2020</td><td>21:51:09</td></tr><tr><td>22/01/2025</td><td>15:03:56</td><td>2020</td><td>2</td><td>Eleição Ordinária</td><td>426</td><td>Eleições Municipais 2020</td><td>15/11/2020</td><td>PB</td><td>19658</td><td>CABEDELO</td><td>150001216692</td><td>2</td><td>19</td><td>Outros bens imóveis</td><td>Sítio de aproximadamente 0,6 hectare, localizado no sitio Jardim, no município de Serraria, estado da Paraiba</td><td>40000,00</td><td>15/11/2020</td><td>21:51:09</td></tr><tr><td>22/01/2025</td><td>15:03:56</td><td>2020</td><td>2</td><td>Eleição Ordinária</td><td>426</td><td>Eleições Municipais 2020</td><td>15/11/2020</td><td>PB</td><td>21512</td><td>QUEIMADAS</td><td>150001216696</td><td>4</td><td>13</td><td>Terreno</td><td>Trinta lotes de terrenos, localizados no Loteamento Novo Horizonte, Queimadas/PB.</td><td>1350000,00</td><td>15/11/2020</td><td>21:47:46</td></tr><tr><td>22/01/2025</td><td>15:03:56</td><td>2020</td><td>2</td><td>Eleição Ordinária</td><td>426</td><td>Eleições Municipais 2020</td><td>15/11/2020</td><td>PB</td><td>21512</td><td>QUEIMADAS</td><td>150001216696</td><td>5</td><td>26</td><td>Linha telefônica</td><td>Telefonia fixa e móvel</td><td>0,00</td><td>15/11/2020</td><td>21:47:46</td></tr><tr><td>22/01/2025</td><td>15:03:56</td><td>2020</td><td>2</td><td>Eleição Ordinária</td><td>426</td><td>Eleições Municipais 2020</td><td>15/11/2020</td><td>PB</td><td>21512</td><td>QUEIMADAS</td><td>150001216730</td><td>1</td><td>19</td><td>Outros bens imóveis</td><td>Propriedade rural com casa edificada, localizadas no Sítio Bodopitá, Queimadas/PB.</td><td>30000,00</td><td>15/11/2020</td><td>21:47:46</td></tr></tbody></table></div>"
      ]
     },
     "metadata": {
      "application/vnd.databricks.v1+output": {
       "addedWidgets": {},
       "aggData": [],
       "aggError": "",
       "aggOverflow": false,
       "aggSchema": [],
       "aggSeriesLimitReached": false,
       "aggType": "",
       "arguments": {},
       "columnCustomDisplayInfos": {},
       "data": [
        [
         "22/01/2025",
         "15:03:56",
         "2020",
         "2",
         "Eleição Ordinária",
         "426",
         "Eleições Municipais 2020",
         "15/11/2020",
         "PB",
         "22411",
         "UMBUZEIRO",
         "150001212623",
         "1",
         "13",
         "Terreno",
         "TERRENO LOCALIZADO NO LOTEAMENTO  DR. JOSÉ NIVALDO, SURUBIM-PE",
         "76800,00",
         "15/11/2020",
         "22:05:27"
        ],
        [
         "22/01/2025",
         "15:03:56",
         "2020",
         "2",
         "Eleição Ordinária",
         "426",
         "Eleições Municipais 2020",
         "15/11/2020",
         "PB",
         "20990",
         "NATUBA",
         "150001213783",
         "1",
         "13",
         "Terreno",
         "PROPRIEDADE RURAL 60 HECTARE, NO SITIO COVÕES, NATUBA-PB",
         "40000,00",
         "15/11/2020",
         "21:51:07"
        ],
        [
         "22/01/2025",
         "15:03:56",
         "2020",
         "2",
         "Eleição Ordinária",
         "426",
         "Eleições Municipais 2020",
         "15/11/2020",
         "PB",
         "20990",
         "NATUBA",
         "150001213783",
         "2",
         "13",
         "Terreno",
         "UM TERRENO E PRÉDIO NA AVENIDA DR FRANCISCO MONTENEGRO, 48, NO 1. PISO A MEDIDA 4M X 7M DE LARGURA, COM A CRIPTA PANTHEON DR. FRANCISCO MONTENEGRO E NO 2. PISO, MEDIDAS DE 7X7M",
         "60000,00",
         "15/11/2020",
         "21:51:07"
        ],
        [
         "22/01/2025",
         "15:03:56",
         "2020",
         "2",
         "Eleição Ordinária",
         "426",
         "Eleições Municipais 2020",
         "15/11/2020",
         "PB",
         "19658",
         "CABEDELO",
         "150001215952",
         "2",
         "19",
         "Outros bens imóveis",
         "Apartamento em Construção de 60m² localizado na rua Bancário Antonio Rosa da Silva, S/N, Bancários - João Pessoa/PB",
         "285000,00",
         "15/11/2020",
         "21:51:09"
        ],
        [
         "22/01/2025",
         "15:03:56",
         "2020",
         "2",
         "Eleição Ordinária",
         "426",
         "Eleições Municipais 2020",
         "15/11/2020",
         "PB",
         "19658",
         "CABEDELO",
         "150001216673",
         "1",
         "13",
         "Terreno",
         "1/3 do lote de terreno sob No. 07, quadra Y, Loteamnento Jardim Prolongado Jardim Atlantico - Cabedelo-PB",
         "23333,33",
         "15/11/2020",
         "21:51:09"
        ],
        [
         "22/01/2025",
         "15:03:56",
         "2020",
         "2",
         "Eleição Ordinária",
         "426",
         "Eleições Municipais 2020",
         "15/11/2020",
         "PB",
         "19658",
         "CABEDELO",
         "150001216692",
         "1",
         "19",
         "Outros bens imóveis",
         "Sítio de aproximadamente 0,6 hectare, localizado no sitio Jardim, no município de Serraria, estado da Paraiba",
         "40000,00",
         "15/11/2020",
         "21:51:09"
        ],
        [
         "22/01/2025",
         "15:03:56",
         "2020",
         "2",
         "Eleição Ordinária",
         "426",
         "Eleições Municipais 2020",
         "15/11/2020",
         "PB",
         "19658",
         "CABEDELO",
         "150001216692",
         "2",
         "19",
         "Outros bens imóveis",
         "Sítio de aproximadamente 0,6 hectare, localizado no sitio Jardim, no município de Serraria, estado da Paraiba",
         "40000,00",
         "15/11/2020",
         "21:51:09"
        ],
        [
         "22/01/2025",
         "15:03:56",
         "2020",
         "2",
         "Eleição Ordinária",
         "426",
         "Eleições Municipais 2020",
         "15/11/2020",
         "PB",
         "21512",
         "QUEIMADAS",
         "150001216696",
         "4",
         "13",
         "Terreno",
         "Trinta lotes de terrenos, localizados no Loteamento Novo Horizonte, Queimadas/PB.",
         "1350000,00",
         "15/11/2020",
         "21:47:46"
        ],
        [
         "22/01/2025",
         "15:03:56",
         "2020",
         "2",
         "Eleição Ordinária",
         "426",
         "Eleições Municipais 2020",
         "15/11/2020",
         "PB",
         "21512",
         "QUEIMADAS",
         "150001216696",
         "5",
         "26",
         "Linha telefônica",
         "Telefonia fixa e móvel",
         "0,00",
         "15/11/2020",
         "21:47:46"
        ],
        [
         "22/01/2025",
         "15:03:56",
         "2020",
         "2",
         "Eleição Ordinária",
         "426",
         "Eleições Municipais 2020",
         "15/11/2020",
         "PB",
         "21512",
         "QUEIMADAS",
         "150001216730",
         "1",
         "19",
         "Outros bens imóveis",
         "Propriedade rural com casa edificada, localizadas no Sítio Bodopitá, Queimadas/PB.",
         "30000,00",
         "15/11/2020",
         "21:47:46"
        ]
       ],
       "datasetInfos": [],
       "dbfsResultPath": null,
       "isJsonSchema": true,
       "metadata": {},
       "overflow": false,
       "plotOptions": {
        "customPlotOptions": {},
        "displayType": "table",
        "pivotAggregation": null,
        "pivotColumns": null,
        "xColumns": null,
        "yColumns": null
       },
       "removedWidgets": [],
       "schema": [
        {
         "metadata": "{}",
         "name": "DT_GERACAO",
         "type": "\"string\""
        },
        {
         "metadata": "{}",
         "name": "HH_GERACAO",
         "type": "\"string\""
        },
        {
         "metadata": "{}",
         "name": "ANO_ELEICAO",
         "type": "\"string\""
        },
        {
         "metadata": "{}",
         "name": "CD_TIPO_ELEICAO",
         "type": "\"string\""
        },
        {
         "metadata": "{}",
         "name": "NM_TIPO_ELEICAO",
         "type": "\"string\""
        },
        {
         "metadata": "{}",
         "name": "CD_ELEICAO",
         "type": "\"string\""
        },
        {
         "metadata": "{}",
         "name": "DS_ELEICAO",
         "type": "\"string\""
        },
        {
         "metadata": "{}",
         "name": "DT_ELEICAO",
         "type": "\"string\""
        },
        {
         "metadata": "{}",
         "name": "SG_UF",
         "type": "\"string\""
        },
        {
         "metadata": "{}",
         "name": "SG_UE",
         "type": "\"string\""
        },
        {
         "metadata": "{}",
         "name": "NM_UE",
         "type": "\"string\""
        },
        {
         "metadata": "{}",
         "name": "SQ_CANDIDATO",
         "type": "\"string\""
        },
        {
         "metadata": "{}",
         "name": "NR_ORDEM_BEM_CANDIDATO",
         "type": "\"string\""
        },
        {
         "metadata": "{}",
         "name": "CD_TIPO_BEM_CANDIDATO",
         "type": "\"string\""
        },
        {
         "metadata": "{}",
         "name": "DS_TIPO_BEM_CANDIDATO",
         "type": "\"string\""
        },
        {
         "metadata": "{}",
         "name": "DS_BEM_CANDIDATO",
         "type": "\"string\""
        },
        {
         "metadata": "{}",
         "name": "VR_BEM_CANDIDATO",
         "type": "\"string\""
        },
        {
         "metadata": "{}",
         "name": "DT_ULT_ATUAL_BEM_CANDIDATO",
         "type": "\"string\""
        },
        {
         "metadata": "{}",
         "name": "HH_ULT_ATUAL_BEM_CANDIDATO",
         "type": "\"string\""
        }
       ],
       "type": "table"
      }
     },
     "output_type": "display_data"
    }
   ],
   "source": [
    "%sql\n",
    "--Verificar tabela criada\n",
    "SELECT \n",
    "  *\n",
    "FROM \n",
    "  eleicao_bronze.bens_declarados\n",
    "LIMIT 10"
   ]
  },
  {
   "cell_type": "code",
   "execution_count": 0,
   "metadata": {
    "application/vnd.databricks.v1+cell": {
     "cellMetadata": {
      "byteLimit": 2048000,
      "implicitDf": true,
      "rowLimit": 10000
     },
     "inputWidgets": {},
     "nuid": "704445ab-ba92-4471-9861-3c40beaf4255",
     "showTitle": false,
     "tableResultSettingsMap": {},
     "title": ""
    }
   },
   "outputs": [
    {
     "output_type": "display_data",
     "data": {
      "text/html": [
       "<style scoped>\n",
       "  .table-result-container {\n",
       "    max-height: 300px;\n",
       "    overflow: auto;\n",
       "  }\n",
       "  table, th, td {\n",
       "    border: 1px solid black;\n",
       "    border-collapse: collapse;\n",
       "  }\n",
       "  th, td {\n",
       "    padding: 5px;\n",
       "  }\n",
       "  th {\n",
       "    text-align: left;\n",
       "  }\n",
       "</style><div class='table-result-container'><table class='table-result'><thead style='background-color: white'><tr><th>ANO_ELEICAO</th></tr></thead><tbody><tr><td>09:38:20</td></tr><tr><td>2020</td></tr><tr><td>23:07:52</td></tr><tr><td>18/11/2020</td></tr><tr><td>22:14:31</td></tr><tr><td>22:52:49</td></tr><tr><td>17/11/2020</td></tr><tr><td>null</td></tr><tr><td>26/04/2024</td></tr><tr><td>14:11:23</td></tr></tbody></table></div>"
      ]
     },
     "metadata": {
      "application/vnd.databricks.v1+output": {
       "addedWidgets": {},
       "aggData": [],
       "aggError": "",
       "aggOverflow": false,
       "aggSchema": [],
       "aggSeriesLimitReached": false,
       "aggType": "",
       "arguments": {},
       "columnCustomDisplayInfos": {},
       "data": [
        [
         "09:38:20"
        ],
        [
         "2020"
        ],
        [
         "23:07:52"
        ],
        [
         "18/11/2020"
        ],
        [
         "22:14:31"
        ],
        [
         "22:52:49"
        ],
        [
         "17/11/2020"
        ],
        [
         null
        ],
        [
         "26/04/2024"
        ],
        [
         "14:11:23"
        ]
       ],
       "datasetInfos": [],
       "dbfsResultPath": null,
       "isJsonSchema": true,
       "metadata": {},
       "overflow": false,
       "plotOptions": {
        "customPlotOptions": {},
        "displayType": "table",
        "pivotAggregation": null,
        "pivotColumns": null,
        "xColumns": null,
        "yColumns": null
       },
       "removedWidgets": [],
       "schema": [
        {
         "metadata": "{}",
         "name": "ANO_ELEICAO",
         "type": "\"string\""
        }
       ],
       "type": "table"
      }
     },
     "output_type": "display_data"
    }
   ],
   "source": [
    "%sql\n",
    "--Verificar se todos os arquivos foram inseridos\n",
    "SELECT \n",
    "  DISTINCT ANO_ELEICAO\n",
    "FROM \n",
    "  eleicao_bronze.bens_declarados\n",
    "LIMIT 10"
   ]
  },
  {
   "cell_type": "markdown",
   "metadata": {
    "application/vnd.databricks.v1+cell": {
     "cellMetadata": {},
     "inputWidgets": {},
     "nuid": "6694cdd2-0b82-408a-a5f3-25fddd2d2cd2",
     "showTitle": false,
     "tableResultSettingsMap": {},
     "title": ""
    }
   },
   "source": [
    "Nesta parte acima pode-se notar que o arquivo de bens de 2022 possui linhas corrompidas, isso será ajustado na próxima layer:"
   ]
  },
  {
   "cell_type": "markdown",
   "metadata": {
    "application/vnd.databricks.v1+cell": {
     "cellMetadata": {},
     "inputWidgets": {},
     "nuid": "f4911853-3a81-456d-b831-30b6834db15b",
     "showTitle": false,
     "tableResultSettingsMap": {},
     "title": ""
    }
   },
   "source": [
    "------------------------------------------------------------------------------------------------------------"
   ]
  }
 ],
 "metadata": {
  "application/vnd.databricks.v1+notebook": {
   "computePreferences": null,
   "dashboards": [
    {
     "elements": [],
     "globalVars": {},
     "guid": "",
     "layoutOption": {
      "grid": true,
      "stack": true
     },
     "nuid": "7baa5be9-cda3-4c03-bf4e-1cda356dec70",
     "origId": 3572772044929842,
     "title": "Untitled",
     "version": "DashboardViewV1",
     "width": 1024
    }
   ],
   "environmentMetadata": {
    "base_environment": "",
    "environment_version": "1"
   },
   "inputWidgetPreferences": null,
   "language": "python",
   "notebookMetadata": {
    "mostRecentlyExecutedCommandWithImplicitDF": {
     "commandId": 3572772044929709,
     "dataframes": [
      "_sqldf"
     ]
    },
    "pythonIndentUnit": 4
   },
   "notebookName": "(Clone) Main_pt1",
   "widgets": {}
  }
 },
 "nbformat": 4,
 "nbformat_minor": 0
}