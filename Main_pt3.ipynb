{
 "cells": [
  {
   "cell_type": "markdown",
   "metadata": {
    "application/vnd.databricks.v1+cell": {
     "cellMetadata": {},
     "inputWidgets": {},
     "nuid": "ac6a843d-f359-48ec-84fa-ea10db77ab28",
     "showTitle": false,
     "tableResultSettingsMap": {},
     "title": ""
    }
   },
   "source": [
    "<h1>Análise Patrimonial das eleições </h1>\n",
    "\n",
    "\n",
    "\n",
    "<h2>Proposta: Analisar a evolução patrimonial dos candidatos recorrentes na eleição de 2022 que se candidataram para as eleições de 2018 ou 2020</h2>\n",
    "\n",
    "\n",
    "<h3>Pergunta Principal: Qual a evolução patrimonial dos candidatos recorrentes da eleição de 2022?</h3>\n",
    "\n",
    "Aluno: **Juan Lima** [Linkedin](https://www.linkedin.com/in/juanrdlima/) [Email](mailto:juan.rdlima@gmail.com)"
   ]
  },
  {
   "cell_type": "markdown",
   "metadata": {
    "application/vnd.databricks.v1+cell": {
     "cellMetadata": {},
     "inputWidgets": {},
     "nuid": "87b3bffe-fafb-493f-b538-aff0e3533cd0",
     "showTitle": false,
     "tableResultSettingsMap": {},
     "title": ""
    }
   },
   "source": [
    "# Parte 3: "
   ]
  },
  {
   "cell_type": "code",
   "execution_count": 0,
   "metadata": {
    "application/vnd.databricks.v1+cell": {
     "cellMetadata": {},
     "inputWidgets": {},
     "nuid": "5e9f0926-ffec-448e-84ec-d91088dc5389",
     "showTitle": false,
     "tableResultSettingsMap": {},
     "title": ""
    }
   },
   "outputs": [],
   "source": [
    "#Importação das Bibliotecas necessárias\n",
    "\n",
    "#Muitas Bibliotecas já vem incorporadas no Databricks, vou listar as utilizadas que não precisaram ser importadas como comentário\n",
    "\n",
    "#import dbutils"
   ]
  },
  {
   "cell_type": "markdown",
   "metadata": {
    "application/vnd.databricks.v1+cell": {
     "cellMetadata": {},
     "inputWidgets": {},
     "nuid": "b3d2355d-a28c-4639-823f-ec87f29b04b3",
     "showTitle": false,
     "tableResultSettingsMap": {},
     "title": ""
    }
   },
   "source": [
    "# Data Engineering"
   ]
  },
  {
   "cell_type": "markdown",
   "metadata": {
    "application/vnd.databricks.v1+cell": {
     "cellMetadata": {
      "byteLimit": 2048000,
      "rowLimit": 10000
     },
     "inputWidgets": {},
     "nuid": "beff94ca-abed-4d6b-b508-dfafee8736d7",
     "showTitle": false,
     "tableResultSettingsMap": {},
     "title": ""
    }
   },
   "source": [
    "%md\n",
    "<h3>Gold Layer:</h3><br> Tabelas tratadas para serem usadas"
   ]
  },
  {
   "cell_type": "markdown",
   "metadata": {
    "application/vnd.databricks.v1+cell": {
     "cellMetadata": {
      "byteLimit": 2048000,
      "rowLimit": 10000
     },
     "inputWidgets": {},
     "nuid": "d52069d0-3b7d-472e-b907-a536f413a454",
     "showTitle": false,
     "tableResultSettingsMap": {},
     "title": ""
    }
   },
   "source": [
    "O intuito desta etapa é deixar as tabelas o mais simples possível para a extração final de informações."
   ]
  },
  {
   "cell_type": "code",
   "execution_count": 0,
   "metadata": {
    "application/vnd.databricks.v1+cell": {
     "cellMetadata": {
      "byteLimit": 2048000,
      "implicitDf": true,
      "rowLimit": 10000
     },
     "inputWidgets": {},
     "nuid": "f613c110-8917-46ee-876a-d5792835f740",
     "showTitle": false,
     "tableResultSettingsMap": {},
     "title": ""
    }
   },
   "outputs": [
    {
     "output_type": "display_data",
     "data": {
      "text/html": [
       "<style scoped>\n",
       "  .table-result-container {\n",
       "    max-height: 300px;\n",
       "    overflow: auto;\n",
       "  }\n",
       "  table, th, td {\n",
       "    border: 1px solid black;\n",
       "    border-collapse: collapse;\n",
       "  }\n",
       "  th, td {\n",
       "    padding: 5px;\n",
       "  }\n",
       "  th {\n",
       "    text-align: left;\n",
       "  }\n",
       "</style><div class='table-result-container'><table class='table-result'><thead style='background-color: white'><tr></tr></thead><tbody></tbody></table></div>"
      ]
     },
     "metadata": {
      "application/vnd.databricks.v1+output": {
       "addedWidgets": {},
       "aggData": [],
       "aggError": "",
       "aggOverflow": false,
       "aggSchema": [],
       "aggSeriesLimitReached": false,
       "aggType": "",
       "arguments": {},
       "columnCustomDisplayInfos": {},
       "data": [],
       "datasetInfos": [],
       "dbfsResultPath": null,
       "isJsonSchema": true,
       "metadata": {},
       "overflow": false,
       "plotOptions": {
        "customPlotOptions": {},
        "displayType": "table",
        "pivotAggregation": null,
        "pivotColumns": null,
        "xColumns": null,
        "yColumns": null
       },
       "removedWidgets": [],
       "schema": [],
       "type": "table"
      }
     },
     "output_type": "display_data"
    }
   ],
   "source": [
    "%sql\n",
    "--Criação do schema de Silver Layer\n",
    "CREATE SCHEMA IF NOT EXISTS  eleicao_gold\n",
    "    COMMENT 'Gold Schema with ready to use tables ' "
   ]
  },
  {
   "cell_type": "markdown",
   "metadata": {
    "application/vnd.databricks.v1+cell": {
     "cellMetadata": {
      "byteLimit": 2048000,
      "rowLimit": 10000
     },
     "inputWidgets": {},
     "nuid": "13538ba4-4a86-4429-9797-a5fc493f44e0",
     "showTitle": false,
     "tableResultSettingsMap": {},
     "title": ""
    }
   },
   "source": [
    "### TABELAS FINAIS\n",
    "\n",
    "Para as tabelas que em teoria seriam disponibilizadas para a análise iremos disponibilizar as tabelas particionadas por anos, com a informação de completa, as descritivas de cada candidato e a informação de seus bens abertos ou não por tipo.\n",
    "\n",
    "São as tabelas:\n",
    "1. Tabela de Candidatos (unicidade do \"SQ_CANDIDATO\") por ano com a descrição de cada candidato e seu patrimônio consolidado\n",
    "2. Tabela de Patrimônio, abertas por tipo de bem declarado e ano de eleição.\n",
    "3. Tabela relacional de código de tipo de bem e descritivo \n",
    "4. Tabela voltada para a análise com os candidatos da eleição de 2022 que também participaram da eleição de 2018 ou de 2020, com os respectivos patrimonios e informações descritivas."
   ]
  },
  {
   "cell_type": "markdown",
   "metadata": {
    "application/vnd.databricks.v1+cell": {
     "cellMetadata": {
      "byteLimit": 2048000,
      "rowLimit": 10000
     },
     "inputWidgets": {},
     "nuid": "68bb9526-b972-4c26-bbfd-83bbcdf1fd4e",
     "showTitle": false,
     "tableResultSettingsMap": {},
     "title": ""
    }
   },
   "source": [
    "**Tabela \"De Para\" relacional de tipo de bem declarado**:"
   ]
  },
  {
   "cell_type": "code",
   "execution_count": 0,
   "metadata": {
    "application/vnd.databricks.v1+cell": {
     "cellMetadata": {
      "byteLimit": 2048000,
      "rowLimit": 10000
     },
     "inputWidgets": {},
     "nuid": "04f1d12e-c89d-4689-aa0b-f680cea68b40",
     "showTitle": false,
     "tableResultSettingsMap": {},
     "title": ""
    }
   },
   "outputs": [
    {
     "output_type": "display_data",
     "data": {
      "text/html": [
       "<style scoped>\n",
       "  .table-result-container {\n",
       "    max-height: 300px;\n",
       "    overflow: auto;\n",
       "  }\n",
       "  table, th, td {\n",
       "    border: 1px solid black;\n",
       "    border-collapse: collapse;\n",
       "  }\n",
       "  th, td {\n",
       "    padding: 5px;\n",
       "  }\n",
       "  th {\n",
       "    text-align: left;\n",
       "  }\n",
       "</style><div class='table-result-container'><table class='table-result'><thead style='background-color: white'><tr><th>CD_TIPO_BEM_CANDIDATO</th><th>DS_TIPO_BEM_CANDIDATO</th></tr></thead><tbody><tr><td>1</td><td>Prédio residencial</td></tr><tr><td>2</td><td>Prédio comercial</td></tr><tr><td>3</td><td>Galpão</td></tr><tr><td>11</td><td>Apartamento</td></tr><tr><td>12</td><td>Casa</td></tr><tr><td>13</td><td>Terreno</td></tr><tr><td>14</td><td>Terra nua</td></tr><tr><td>15</td><td>Sala ou conjunto</td></tr><tr><td>16</td><td>Construção</td></tr><tr><td>17</td><td>Benfeitorias</td></tr><tr><td>18</td><td>Loja</td></tr><tr><td>19</td><td>Outros bens imóveis</td></tr><tr><td>21</td><td>Veículo automotor terrestre: caminhão, automóvel, moto, etc.</td></tr><tr><td>22</td><td>Aeronave</td></tr><tr><td>23</td><td>Embarcação</td></tr><tr><td>24</td><td>Bem relacionado com o exercício da atividade autônoma</td></tr><tr><td>25</td><td>Jóia, quadro, objeto de arte, de coleção, antiguidade, etc.</td></tr><tr><td>26</td><td>Linha telefônica</td></tr><tr><td>29</td><td>Outros bens móveis</td></tr><tr><td>31</td><td>Ações (inclusive as provenientes de linha telefônica)</td></tr><tr><td>32</td><td>Quotas ou quinhões de capital</td></tr><tr><td>39</td><td>Outras participações societárias</td></tr><tr><td>41</td><td>Caderneta de poupança</td></tr><tr><td>45</td><td>Aplicação de renda fixa (CDB, RDB e outros)</td></tr><tr><td>46</td><td>Ouro, ativo financeiro</td></tr><tr><td>47</td><td>Mercado futuros, de opções e a termo</td></tr><tr><td>49</td><td>Outras aplicações e Investimentos</td></tr><tr><td>51</td><td>Crédito decorrente de empréstimo</td></tr><tr><td>52</td><td>Crédito decorrente de alienação</td></tr><tr><td>53</td><td>Plano PAIT e caderneta de pecúlio</td></tr><tr><td>54</td><td>Poupança para construção ou aquisição de bem imóvel</td></tr><tr><td>59</td><td>Outros créditos e poupança vinculados</td></tr><tr><td>61</td><td>Depósito bancário em conta corrente no País</td></tr><tr><td>62</td><td>Depósito bancário em conta corrente no exterior</td></tr><tr><td>63</td><td>Dinheiro em espécie - moeda nacional</td></tr><tr><td>64</td><td>Dinheiro em espécie - moeda estrangeira</td></tr><tr><td>69</td><td>Outros depósitos à vista e numerário</td></tr><tr><td>71</td><td>Fundo de Curto Prazo</td></tr><tr><td>72</td><td>Fundo de Longo Prazo e Fundo de Investimentos em Direitos Creditórios (FIDC)</td></tr><tr><td>73</td><td>Fundo de Investimento Imobiliário</td></tr><tr><td>74</td><td>Fundos: Ações, Mútuos de Privatização, Invest. Empresas Emergentes, Invest.Participação e Invest. Índice Mercado</td></tr><tr><td>79</td><td>Outros fundos</td></tr><tr><td>91</td><td>Licença e concessões especiais</td></tr><tr><td>92</td><td>Título de clube e assemelhado</td></tr><tr><td>93</td><td>Direito de autor, de inventor e patente</td></tr><tr><td>94</td><td>Direito de lavra e assemelhado</td></tr><tr><td>95</td><td>Consórcio não contemplado</td></tr><tr><td>96</td><td>Leasing</td></tr><tr><td>97</td><td>VGBL - Vida Gerador de Benefício Livre</td></tr><tr><td>99</td><td>OUTROS BENS E DIREITOS</td></tr></tbody></table></div>"
      ]
     },
     "metadata": {
      "application/vnd.databricks.v1+output": {
       "addedWidgets": {},
       "aggData": [],
       "aggError": "",
       "aggOverflow": false,
       "aggSchema": [],
       "aggSeriesLimitReached": false,
       "aggType": "",
       "arguments": {},
       "columnCustomDisplayInfos": {},
       "data": [
        [
         1,
         "Prédio residencial"
        ],
        [
         2,
         "Prédio comercial"
        ],
        [
         3,
         "Galpão"
        ],
        [
         11,
         "Apartamento"
        ],
        [
         12,
         "Casa"
        ],
        [
         13,
         "Terreno"
        ],
        [
         14,
         "Terra nua"
        ],
        [
         15,
         "Sala ou conjunto"
        ],
        [
         16,
         "Construção"
        ],
        [
         17,
         "Benfeitorias"
        ],
        [
         18,
         "Loja"
        ],
        [
         19,
         "Outros bens imóveis"
        ],
        [
         21,
         "Veículo automotor terrestre: caminhão, automóvel, moto, etc."
        ],
        [
         22,
         "Aeronave"
        ],
        [
         23,
         "Embarcação"
        ],
        [
         24,
         "Bem relacionado com o exercício da atividade autônoma"
        ],
        [
         25,
         "Jóia, quadro, objeto de arte, de coleção, antiguidade, etc."
        ],
        [
         26,
         "Linha telefônica"
        ],
        [
         29,
         "Outros bens móveis"
        ],
        [
         31,
         "Ações (inclusive as provenientes de linha telefônica)"
        ],
        [
         32,
         "Quotas ou quinhões de capital"
        ],
        [
         39,
         "Outras participações societárias"
        ],
        [
         41,
         "Caderneta de poupança"
        ],
        [
         45,
         "Aplicação de renda fixa (CDB, RDB e outros)"
        ],
        [
         46,
         "Ouro, ativo financeiro"
        ],
        [
         47,
         "Mercado futuros, de opções e a termo"
        ],
        [
         49,
         "Outras aplicações e Investimentos"
        ],
        [
         51,
         "Crédito decorrente de empréstimo"
        ],
        [
         52,
         "Crédito decorrente de alienação"
        ],
        [
         53,
         "Plano PAIT e caderneta de pecúlio"
        ],
        [
         54,
         "Poupança para construção ou aquisição de bem imóvel"
        ],
        [
         59,
         "Outros créditos e poupança vinculados"
        ],
        [
         61,
         "Depósito bancário em conta corrente no País"
        ],
        [
         62,
         "Depósito bancário em conta corrente no exterior"
        ],
        [
         63,
         "Dinheiro em espécie - moeda nacional"
        ],
        [
         64,
         "Dinheiro em espécie - moeda estrangeira"
        ],
        [
         69,
         "Outros depósitos à vista e numerário"
        ],
        [
         71,
         "Fundo de Curto Prazo"
        ],
        [
         72,
         "Fundo de Longo Prazo e Fundo de Investimentos em Direitos Creditórios (FIDC)"
        ],
        [
         73,
         "Fundo de Investimento Imobiliário"
        ],
        [
         74,
         "Fundos: Ações, Mútuos de Privatização, Invest. Empresas Emergentes, Invest.Participação e Invest. Índice Mercado"
        ],
        [
         79,
         "Outros fundos"
        ],
        [
         91,
         "Licença e concessões especiais"
        ],
        [
         92,
         "Título de clube e assemelhado"
        ],
        [
         93,
         "Direito de autor, de inventor e patente"
        ],
        [
         94,
         "Direito de lavra e assemelhado"
        ],
        [
         95,
         "Consórcio não contemplado"
        ],
        [
         96,
         "Leasing"
        ],
        [
         97,
         "VGBL - Vida Gerador de Benefício Livre"
        ],
        [
         99,
         "OUTROS BENS E DIREITOS"
        ]
       ],
       "datasetInfos": [],
       "dbfsResultPath": null,
       "isJsonSchema": true,
       "metadata": {},
       "overflow": false,
       "plotOptions": {
        "customPlotOptions": {},
        "displayType": "table",
        "pivotAggregation": null,
        "pivotColumns": null,
        "xColumns": null,
        "yColumns": null
       },
       "removedWidgets": [],
       "schema": [
        {
         "metadata": "{}",
         "name": "CD_TIPO_BEM_CANDIDATO",
         "type": "\"long\""
        },
        {
         "metadata": "{}",
         "name": "DS_TIPO_BEM_CANDIDATO",
         "type": "\"string\""
        }
       ],
       "type": "table"
      }
     },
     "output_type": "display_data"
    }
   ],
   "source": [
    "#df \"de para\" relacional tipo bem\n",
    "df = sqlContext.sql(\"\"\"\n",
    "            SELECT\n",
    "                 DISTINCT\n",
    "                 CAST(CD_TIPO_BEM_CANDIDATO AS BIGINT) AS CD_TIPO_BEM_CANDIDATO\n",
    "                ,DS_TIPO_BEM_CANDIDATO\n",
    "            FROM \n",
    "                eleicao_silver.bens_candidatos_tipo\n",
    "            ORDER BY \n",
    "                1\n",
    "    \"\"\" )\n",
    "display(df)"
   ]
  },
  {
   "cell_type": "code",
   "execution_count": 0,
   "metadata": {
    "application/vnd.databricks.v1+cell": {
     "cellMetadata": {
      "byteLimit": 2048000,
      "implicitDf": true,
      "rowLimit": 10000
     },
     "inputWidgets": {},
     "nuid": "cbce05f0-6c77-49fc-848e-20004c9da5da",
     "showTitle": false,
     "tableResultSettingsMap": {},
     "title": ""
    }
   },
   "outputs": [
    {
     "output_type": "display_data",
     "data": {
      "text/plain": [
       "\u001B[0;31m---------------------------------------------------------------------------\u001B[0m\n",
       "\u001B[0;31mAnalysisException\u001B[0m                         Traceback (most recent call last)\n",
       "File \u001B[0;32m<command-2412889709161111>:7\u001B[0m\n",
       "\u001B[1;32m      5\u001B[0m     display(df)\n",
       "\u001B[1;32m      6\u001B[0m     \u001B[38;5;28;01mreturn\u001B[39;00m df\n",
       "\u001B[0;32m----> 7\u001B[0m   _sqldf \u001B[38;5;241m=\u001B[39m \u001B[43m____databricks_percent_sql\u001B[49m\u001B[43m(\u001B[49m\u001B[43m)\u001B[49m\n",
       "\u001B[1;32m      8\u001B[0m \u001B[38;5;28;01mfinally\u001B[39;00m:\n",
       "\u001B[1;32m      9\u001B[0m   \u001B[38;5;28;01mdel\u001B[39;00m ____databricks_percent_sql\n",
       "\n",
       "File \u001B[0;32m<command-2412889709161111>:4\u001B[0m, in \u001B[0;36m____databricks_percent_sql\u001B[0;34m()\u001B[0m\n",
       "\u001B[1;32m      2\u001B[0m \u001B[38;5;28;01mdef\u001B[39;00m \u001B[38;5;21m____databricks_percent_sql\u001B[39m():\n",
       "\u001B[1;32m      3\u001B[0m   \u001B[38;5;28;01mimport\u001B[39;00m \u001B[38;5;21;01mbase64\u001B[39;00m\n",
       "\u001B[0;32m----> 4\u001B[0m   df \u001B[38;5;241m=\u001B[39m \u001B[43mspark\u001B[49m\u001B[38;5;241;43m.\u001B[39;49m\u001B[43msql\u001B[49m\u001B[43m(\u001B[49m\u001B[43mbase64\u001B[49m\u001B[38;5;241;43m.\u001B[39;49m\u001B[43mstandard_b64decode\u001B[49m\u001B[43m(\u001B[49m\u001B[38;5;124;43m\"\u001B[39;49m\u001B[38;5;124;43mQ1JFQVRFIFRBQkxFIGVsZWljYW9fZ29sZC50aXBvX2JlbSAoIAogICAgIENEX1RJUE9fQkVNX0NBTkRJREFUTyBCSUdJTlQgUFJJTUFSWSBLRVkgQ09NTUVOVCAnVW5pcXVlIGlkZW50aWZpZXIgZm9yIGVhY2ggaGVyaXRhZ2UgYXNzZXQga2luZCBvZiB0aGUgY2FuZGlkYXRlcycKICAgICxEU19USVBPX0JFTV9DQU5ESURBVE8gVkFSQ0hBUig1MCkgQ09NTUVOVCAnRGVzY3JpcHRpb24gb2YgdGhlIHR5cGUgb2YgZWFjaCBoZXJpdGFnZSBhc3NldCcgCik=\u001B[39;49m\u001B[38;5;124;43m\"\u001B[39;49m\u001B[43m)\u001B[49m\u001B[38;5;241;43m.\u001B[39;49m\u001B[43mdecode\u001B[49m\u001B[43m(\u001B[49m\u001B[43m)\u001B[49m\u001B[43m)\u001B[49m\n",
       "\u001B[1;32m      5\u001B[0m   display(df)\n",
       "\u001B[1;32m      6\u001B[0m   \u001B[38;5;28;01mreturn\u001B[39;00m df\n",
       "\n",
       "File \u001B[0;32m/databricks/spark/python/pyspark/instrumentation_utils.py:48\u001B[0m, in \u001B[0;36m_wrap_function.<locals>.wrapper\u001B[0;34m(*args, **kwargs)\u001B[0m\n",
       "\u001B[1;32m     46\u001B[0m start \u001B[38;5;241m=\u001B[39m time\u001B[38;5;241m.\u001B[39mperf_counter()\n",
       "\u001B[1;32m     47\u001B[0m \u001B[38;5;28;01mtry\u001B[39;00m:\n",
       "\u001B[0;32m---> 48\u001B[0m     res \u001B[38;5;241m=\u001B[39m \u001B[43mfunc\u001B[49m\u001B[43m(\u001B[49m\u001B[38;5;241;43m*\u001B[39;49m\u001B[43margs\u001B[49m\u001B[43m,\u001B[49m\u001B[43m \u001B[49m\u001B[38;5;241;43m*\u001B[39;49m\u001B[38;5;241;43m*\u001B[39;49m\u001B[43mkwargs\u001B[49m\u001B[43m)\u001B[49m\n",
       "\u001B[1;32m     49\u001B[0m     logger\u001B[38;5;241m.\u001B[39mlog_success(\n",
       "\u001B[1;32m     50\u001B[0m         module_name, class_name, function_name, time\u001B[38;5;241m.\u001B[39mperf_counter() \u001B[38;5;241m-\u001B[39m start, signature\n",
       "\u001B[1;32m     51\u001B[0m     )\n",
       "\u001B[1;32m     52\u001B[0m     \u001B[38;5;28;01mreturn\u001B[39;00m res\n",
       "\n",
       "File \u001B[0;32m/databricks/spark/python/pyspark/sql/session.py:1387\u001B[0m, in \u001B[0;36mSparkSession.sql\u001B[0;34m(self, sqlQuery, args, **kwargs)\u001B[0m\n",
       "\u001B[1;32m   1385\u001B[0m \u001B[38;5;28;01mtry\u001B[39;00m:\n",
       "\u001B[1;32m   1386\u001B[0m     litArgs \u001B[38;5;241m=\u001B[39m {k: _to_java_column(lit(v)) \u001B[38;5;28;01mfor\u001B[39;00m k, v \u001B[38;5;129;01min\u001B[39;00m (args \u001B[38;5;129;01mor\u001B[39;00m {})\u001B[38;5;241m.\u001B[39mitems()}\n",
       "\u001B[0;32m-> 1387\u001B[0m     \u001B[38;5;28;01mreturn\u001B[39;00m DataFrame(\u001B[38;5;28;43mself\u001B[39;49m\u001B[38;5;241;43m.\u001B[39;49m\u001B[43m_jsparkSession\u001B[49m\u001B[38;5;241;43m.\u001B[39;49m\u001B[43msql\u001B[49m\u001B[43m(\u001B[49m\u001B[43msqlQuery\u001B[49m\u001B[43m,\u001B[49m\u001B[43m \u001B[49m\u001B[43mlitArgs\u001B[49m\u001B[43m)\u001B[49m, \u001B[38;5;28mself\u001B[39m)\n",
       "\u001B[1;32m   1388\u001B[0m \u001B[38;5;28;01mfinally\u001B[39;00m:\n",
       "\u001B[1;32m   1389\u001B[0m     \u001B[38;5;28;01mif\u001B[39;00m \u001B[38;5;28mlen\u001B[39m(kwargs) \u001B[38;5;241m>\u001B[39m \u001B[38;5;241m0\u001B[39m:\n",
       "\n",
       "File \u001B[0;32m/databricks/spark/python/lib/py4j-0.10.9.5-src.zip/py4j/java_gateway.py:1321\u001B[0m, in \u001B[0;36mJavaMember.__call__\u001B[0;34m(self, *args)\u001B[0m\n",
       "\u001B[1;32m   1315\u001B[0m command \u001B[38;5;241m=\u001B[39m proto\u001B[38;5;241m.\u001B[39mCALL_COMMAND_NAME \u001B[38;5;241m+\u001B[39m\\\n",
       "\u001B[1;32m   1316\u001B[0m     \u001B[38;5;28mself\u001B[39m\u001B[38;5;241m.\u001B[39mcommand_header \u001B[38;5;241m+\u001B[39m\\\n",
       "\u001B[1;32m   1317\u001B[0m     args_command \u001B[38;5;241m+\u001B[39m\\\n",
       "\u001B[1;32m   1318\u001B[0m     proto\u001B[38;5;241m.\u001B[39mEND_COMMAND_PART\n",
       "\u001B[1;32m   1320\u001B[0m answer \u001B[38;5;241m=\u001B[39m \u001B[38;5;28mself\u001B[39m\u001B[38;5;241m.\u001B[39mgateway_client\u001B[38;5;241m.\u001B[39msend_command(command)\n",
       "\u001B[0;32m-> 1321\u001B[0m return_value \u001B[38;5;241m=\u001B[39m \u001B[43mget_return_value\u001B[49m\u001B[43m(\u001B[49m\n",
       "\u001B[1;32m   1322\u001B[0m \u001B[43m    \u001B[49m\u001B[43manswer\u001B[49m\u001B[43m,\u001B[49m\u001B[43m \u001B[49m\u001B[38;5;28;43mself\u001B[39;49m\u001B[38;5;241;43m.\u001B[39;49m\u001B[43mgateway_client\u001B[49m\u001B[43m,\u001B[49m\u001B[43m \u001B[49m\u001B[38;5;28;43mself\u001B[39;49m\u001B[38;5;241;43m.\u001B[39;49m\u001B[43mtarget_id\u001B[49m\u001B[43m,\u001B[49m\u001B[43m \u001B[49m\u001B[38;5;28;43mself\u001B[39;49m\u001B[38;5;241;43m.\u001B[39;49m\u001B[43mname\u001B[49m\u001B[43m)\u001B[49m\n",
       "\u001B[1;32m   1324\u001B[0m \u001B[38;5;28;01mfor\u001B[39;00m temp_arg \u001B[38;5;129;01min\u001B[39;00m temp_args:\n",
       "\u001B[1;32m   1325\u001B[0m     temp_arg\u001B[38;5;241m.\u001B[39m_detach()\n",
       "\n",
       "File \u001B[0;32m/databricks/spark/python/pyspark/errors/exceptions.py:234\u001B[0m, in \u001B[0;36mcapture_sql_exception.<locals>.deco\u001B[0;34m(*a, **kw)\u001B[0m\n",
       "\u001B[1;32m    230\u001B[0m converted \u001B[38;5;241m=\u001B[39m convert_exception(e\u001B[38;5;241m.\u001B[39mjava_exception)\n",
       "\u001B[1;32m    231\u001B[0m \u001B[38;5;28;01mif\u001B[39;00m \u001B[38;5;129;01mnot\u001B[39;00m \u001B[38;5;28misinstance\u001B[39m(converted, UnknownException):\n",
       "\u001B[1;32m    232\u001B[0m     \u001B[38;5;66;03m# Hide where the exception came from that shows a non-Pythonic\u001B[39;00m\n",
       "\u001B[1;32m    233\u001B[0m     \u001B[38;5;66;03m# JVM exception message.\u001B[39;00m\n",
       "\u001B[0;32m--> 234\u001B[0m     \u001B[38;5;28;01mraise\u001B[39;00m converted \u001B[38;5;28;01mfrom\u001B[39;00m \u001B[38;5;28mNone\u001B[39m\n",
       "\u001B[1;32m    235\u001B[0m \u001B[38;5;28;01melse\u001B[39;00m:\n",
       "\u001B[1;32m    236\u001B[0m     \u001B[38;5;28;01mraise\u001B[39;00m\n",
       "\n",
       "\u001B[0;31mAnalysisException\u001B[0m: Table constraints are only supported in Unity Catalog."
      ]
     },
     "metadata": {
      "application/vnd.databricks.v1+output": {
       "arguments": {},
       "data": "\u001B[0;31m---------------------------------------------------------------------------\u001B[0m\n\u001B[0;31mAnalysisException\u001B[0m                         Traceback (most recent call last)\nFile \u001B[0;32m<command-2412889709161111>:7\u001B[0m\n\u001B[1;32m      5\u001B[0m     display(df)\n\u001B[1;32m      6\u001B[0m     \u001B[38;5;28;01mreturn\u001B[39;00m df\n\u001B[0;32m----> 7\u001B[0m   _sqldf \u001B[38;5;241m=\u001B[39m \u001B[43m____databricks_percent_sql\u001B[49m\u001B[43m(\u001B[49m\u001B[43m)\u001B[49m\n\u001B[1;32m      8\u001B[0m \u001B[38;5;28;01mfinally\u001B[39;00m:\n\u001B[1;32m      9\u001B[0m   \u001B[38;5;28;01mdel\u001B[39;00m ____databricks_percent_sql\n\nFile \u001B[0;32m<command-2412889709161111>:4\u001B[0m, in \u001B[0;36m____databricks_percent_sql\u001B[0;34m()\u001B[0m\n\u001B[1;32m      2\u001B[0m \u001B[38;5;28;01mdef\u001B[39;00m \u001B[38;5;21m____databricks_percent_sql\u001B[39m():\n\u001B[1;32m      3\u001B[0m   \u001B[38;5;28;01mimport\u001B[39;00m \u001B[38;5;21;01mbase64\u001B[39;00m\n\u001B[0;32m----> 4\u001B[0m   df \u001B[38;5;241m=\u001B[39m \u001B[43mspark\u001B[49m\u001B[38;5;241;43m.\u001B[39;49m\u001B[43msql\u001B[49m\u001B[43m(\u001B[49m\u001B[43mbase64\u001B[49m\u001B[38;5;241;43m.\u001B[39;49m\u001B[43mstandard_b64decode\u001B[49m\u001B[43m(\u001B[49m\u001B[38;5;124;43m\"\u001B[39;49m\u001B[38;5;124;43mQ1JFQVRFIFRBQkxFIGVsZWljYW9fZ29sZC50aXBvX2JlbSAoIAogICAgIENEX1RJUE9fQkVNX0NBTkRJREFUTyBCSUdJTlQgUFJJTUFSWSBLRVkgQ09NTUVOVCAnVW5pcXVlIGlkZW50aWZpZXIgZm9yIGVhY2ggaGVyaXRhZ2UgYXNzZXQga2luZCBvZiB0aGUgY2FuZGlkYXRlcycKICAgICxEU19USVBPX0JFTV9DQU5ESURBVE8gVkFSQ0hBUig1MCkgQ09NTUVOVCAnRGVzY3JpcHRpb24gb2YgdGhlIHR5cGUgb2YgZWFjaCBoZXJpdGFnZSBhc3NldCcgCik=\u001B[39;49m\u001B[38;5;124;43m\"\u001B[39;49m\u001B[43m)\u001B[49m\u001B[38;5;241;43m.\u001B[39;49m\u001B[43mdecode\u001B[49m\u001B[43m(\u001B[49m\u001B[43m)\u001B[49m\u001B[43m)\u001B[49m\n\u001B[1;32m      5\u001B[0m   display(df)\n\u001B[1;32m      6\u001B[0m   \u001B[38;5;28;01mreturn\u001B[39;00m df\n\nFile \u001B[0;32m/databricks/spark/python/pyspark/instrumentation_utils.py:48\u001B[0m, in \u001B[0;36m_wrap_function.<locals>.wrapper\u001B[0;34m(*args, **kwargs)\u001B[0m\n\u001B[1;32m     46\u001B[0m start \u001B[38;5;241m=\u001B[39m time\u001B[38;5;241m.\u001B[39mperf_counter()\n\u001B[1;32m     47\u001B[0m \u001B[38;5;28;01mtry\u001B[39;00m:\n\u001B[0;32m---> 48\u001B[0m     res \u001B[38;5;241m=\u001B[39m \u001B[43mfunc\u001B[49m\u001B[43m(\u001B[49m\u001B[38;5;241;43m*\u001B[39;49m\u001B[43margs\u001B[49m\u001B[43m,\u001B[49m\u001B[43m \u001B[49m\u001B[38;5;241;43m*\u001B[39;49m\u001B[38;5;241;43m*\u001B[39;49m\u001B[43mkwargs\u001B[49m\u001B[43m)\u001B[49m\n\u001B[1;32m     49\u001B[0m     logger\u001B[38;5;241m.\u001B[39mlog_success(\n\u001B[1;32m     50\u001B[0m         module_name, class_name, function_name, time\u001B[38;5;241m.\u001B[39mperf_counter() \u001B[38;5;241m-\u001B[39m start, signature\n\u001B[1;32m     51\u001B[0m     )\n\u001B[1;32m     52\u001B[0m     \u001B[38;5;28;01mreturn\u001B[39;00m res\n\nFile \u001B[0;32m/databricks/spark/python/pyspark/sql/session.py:1387\u001B[0m, in \u001B[0;36mSparkSession.sql\u001B[0;34m(self, sqlQuery, args, **kwargs)\u001B[0m\n\u001B[1;32m   1385\u001B[0m \u001B[38;5;28;01mtry\u001B[39;00m:\n\u001B[1;32m   1386\u001B[0m     litArgs \u001B[38;5;241m=\u001B[39m {k: _to_java_column(lit(v)) \u001B[38;5;28;01mfor\u001B[39;00m k, v \u001B[38;5;129;01min\u001B[39;00m (args \u001B[38;5;129;01mor\u001B[39;00m {})\u001B[38;5;241m.\u001B[39mitems()}\n\u001B[0;32m-> 1387\u001B[0m     \u001B[38;5;28;01mreturn\u001B[39;00m DataFrame(\u001B[38;5;28;43mself\u001B[39;49m\u001B[38;5;241;43m.\u001B[39;49m\u001B[43m_jsparkSession\u001B[49m\u001B[38;5;241;43m.\u001B[39;49m\u001B[43msql\u001B[49m\u001B[43m(\u001B[49m\u001B[43msqlQuery\u001B[49m\u001B[43m,\u001B[49m\u001B[43m \u001B[49m\u001B[43mlitArgs\u001B[49m\u001B[43m)\u001B[49m, \u001B[38;5;28mself\u001B[39m)\n\u001B[1;32m   1388\u001B[0m \u001B[38;5;28;01mfinally\u001B[39;00m:\n\u001B[1;32m   1389\u001B[0m     \u001B[38;5;28;01mif\u001B[39;00m \u001B[38;5;28mlen\u001B[39m(kwargs) \u001B[38;5;241m>\u001B[39m \u001B[38;5;241m0\u001B[39m:\n\nFile \u001B[0;32m/databricks/spark/python/lib/py4j-0.10.9.5-src.zip/py4j/java_gateway.py:1321\u001B[0m, in \u001B[0;36mJavaMember.__call__\u001B[0;34m(self, *args)\u001B[0m\n\u001B[1;32m   1315\u001B[0m command \u001B[38;5;241m=\u001B[39m proto\u001B[38;5;241m.\u001B[39mCALL_COMMAND_NAME \u001B[38;5;241m+\u001B[39m\\\n\u001B[1;32m   1316\u001B[0m     \u001B[38;5;28mself\u001B[39m\u001B[38;5;241m.\u001B[39mcommand_header \u001B[38;5;241m+\u001B[39m\\\n\u001B[1;32m   1317\u001B[0m     args_command \u001B[38;5;241m+\u001B[39m\\\n\u001B[1;32m   1318\u001B[0m     proto\u001B[38;5;241m.\u001B[39mEND_COMMAND_PART\n\u001B[1;32m   1320\u001B[0m answer \u001B[38;5;241m=\u001B[39m \u001B[38;5;28mself\u001B[39m\u001B[38;5;241m.\u001B[39mgateway_client\u001B[38;5;241m.\u001B[39msend_command(command)\n\u001B[0;32m-> 1321\u001B[0m return_value \u001B[38;5;241m=\u001B[39m \u001B[43mget_return_value\u001B[49m\u001B[43m(\u001B[49m\n\u001B[1;32m   1322\u001B[0m \u001B[43m    \u001B[49m\u001B[43manswer\u001B[49m\u001B[43m,\u001B[49m\u001B[43m \u001B[49m\u001B[38;5;28;43mself\u001B[39;49m\u001B[38;5;241;43m.\u001B[39;49m\u001B[43mgateway_client\u001B[49m\u001B[43m,\u001B[49m\u001B[43m \u001B[49m\u001B[38;5;28;43mself\u001B[39;49m\u001B[38;5;241;43m.\u001B[39;49m\u001B[43mtarget_id\u001B[49m\u001B[43m,\u001B[49m\u001B[43m \u001B[49m\u001B[38;5;28;43mself\u001B[39;49m\u001B[38;5;241;43m.\u001B[39;49m\u001B[43mname\u001B[49m\u001B[43m)\u001B[49m\n\u001B[1;32m   1324\u001B[0m \u001B[38;5;28;01mfor\u001B[39;00m temp_arg \u001B[38;5;129;01min\u001B[39;00m temp_args:\n\u001B[1;32m   1325\u001B[0m     temp_arg\u001B[38;5;241m.\u001B[39m_detach()\n\nFile \u001B[0;32m/databricks/spark/python/pyspark/errors/exceptions.py:234\u001B[0m, in \u001B[0;36mcapture_sql_exception.<locals>.deco\u001B[0;34m(*a, **kw)\u001B[0m\n\u001B[1;32m    230\u001B[0m converted \u001B[38;5;241m=\u001B[39m convert_exception(e\u001B[38;5;241m.\u001B[39mjava_exception)\n\u001B[1;32m    231\u001B[0m \u001B[38;5;28;01mif\u001B[39;00m \u001B[38;5;129;01mnot\u001B[39;00m \u001B[38;5;28misinstance\u001B[39m(converted, UnknownException):\n\u001B[1;32m    232\u001B[0m     \u001B[38;5;66;03m# Hide where the exception came from that shows a non-Pythonic\u001B[39;00m\n\u001B[1;32m    233\u001B[0m     \u001B[38;5;66;03m# JVM exception message.\u001B[39;00m\n\u001B[0;32m--> 234\u001B[0m     \u001B[38;5;28;01mraise\u001B[39;00m converted \u001B[38;5;28;01mfrom\u001B[39;00m \u001B[38;5;28mNone\u001B[39m\n\u001B[1;32m    235\u001B[0m \u001B[38;5;28;01melse\u001B[39;00m:\n\u001B[1;32m    236\u001B[0m     \u001B[38;5;28;01mraise\u001B[39;00m\n\n\u001B[0;31mAnalysisException\u001B[0m: Table constraints are only supported in Unity Catalog.",
       "errorSummary": "<span class='ansi-red-fg'>AnalysisException</span>: Table constraints are only supported in Unity Catalog.",
       "errorTraceType": "ansi",
       "metadata": {},
       "type": "ipynbError"
      }
     },
     "output_type": "display_data"
    }
   ],
   "source": [
    "%sql\n",
    "CREATE TABLE eleicao_gold.tipo_bem ( \n",
    "     CD_TIPO_BEM_CANDIDATO BIGINT PRIMARY KEY COMMENT 'Unique identifier for each heritage asset kind of the candidates'\n",
    "    ,DS_TIPO_BEM_CANDIDATO VARCHAR(50) COMMENT 'Description of the type of each heritage asset' \n",
    ");"
   ]
  },
  {
   "cell_type": "markdown",
   "metadata": {
    "application/vnd.databricks.v1+cell": {
     "cellMetadata": {},
     "inputWidgets": {},
     "nuid": "c90a5f1b-8824-40af-9f36-278e8cbcb2d5",
     "showTitle": false,
     "tableResultSettingsMap": {},
     "title": ""
    }
   },
   "source": [
    "Como o Community não suporta table constraints como mostrado acima, será aplicada apenas as limitações de cada coluna"
   ]
  },
  {
   "cell_type": "code",
   "execution_count": 0,
   "metadata": {
    "application/vnd.databricks.v1+cell": {
     "cellMetadata": {
      "byteLimit": 2048000,
      "implicitDf": true,
      "rowLimit": 10000
     },
     "inputWidgets": {},
     "nuid": "0c89f964-9b3e-43c8-9af8-944334d74173",
     "showTitle": false,
     "tableResultSettingsMap": {},
     "title": ""
    }
   },
   "outputs": [
    {
     "output_type": "display_data",
     "data": {
      "text/html": [
       "<style scoped>\n",
       "  .table-result-container {\n",
       "    max-height: 300px;\n",
       "    overflow: auto;\n",
       "  }\n",
       "  table, th, td {\n",
       "    border: 1px solid black;\n",
       "    border-collapse: collapse;\n",
       "  }\n",
       "  th, td {\n",
       "    padding: 5px;\n",
       "  }\n",
       "  th {\n",
       "    text-align: left;\n",
       "  }\n",
       "</style><div class='table-result-container'><table class='table-result'><thead style='background-color: white'><tr></tr></thead><tbody></tbody></table></div>"
      ]
     },
     "metadata": {
      "application/vnd.databricks.v1+output": {
       "addedWidgets": {},
       "aggData": [],
       "aggError": "",
       "aggOverflow": false,
       "aggSchema": [],
       "aggSeriesLimitReached": false,
       "aggType": "",
       "arguments": {},
       "columnCustomDisplayInfos": {},
       "data": [],
       "datasetInfos": [],
       "dbfsResultPath": null,
       "isJsonSchema": true,
       "metadata": {},
       "overflow": false,
       "plotOptions": {
        "customPlotOptions": {},
        "displayType": "table",
        "pivotAggregation": null,
        "pivotColumns": null,
        "xColumns": null,
        "yColumns": null
       },
       "removedWidgets": [],
       "schema": [],
       "type": "table"
      }
     },
     "output_type": "display_data"
    }
   ],
   "source": [
    "%sql\n",
    "CREATE OR REPLACE TABLE eleicao_gold.tipo_bem ( \n",
    "     CD_TIPO_BEM_CANDIDATO BIGINT NOT NULL COMMENT 'Unique identifier for each heritage asset kind of the candidates' \n",
    "    ,DS_TIPO_BEM_CANDIDATO VARCHAR(200) COMMENT 'Description of the type of each heritage asset' \n",
    ");"
   ]
  },
  {
   "cell_type": "code",
   "execution_count": 0,
   "metadata": {
    "application/vnd.databricks.v1+cell": {
     "cellMetadata": {
      "byteLimit": 2048000,
      "rowLimit": 10000
     },
     "inputWidgets": {},
     "nuid": "4b739c07-1a81-4781-81bd-bc8fd92091eb",
     "showTitle": false,
     "tableResultSettingsMap": {},
     "title": ""
    }
   },
   "outputs": [],
   "source": [
    "#Tabela relacional tipo de bem (Gold) \n",
    "df.createOrReplaceTempView('tipo_bem')\n",
    "\n",
    "permanent_table_name = \"eleicao_gold.tipo_bem\"\n",
    "\n",
    "schema = 'eleicao_gold'\n",
    "\n",
    "df.write.format(\"delta\").option(\"mergeSchema\", \"true\").saveAsTable(permanent_table_name,mode='append')"
   ]
  },
  {
   "cell_type": "code",
   "execution_count": 0,
   "metadata": {
    "application/vnd.databricks.v1+cell": {
     "cellMetadata": {
      "byteLimit": 2048000,
      "implicitDf": true,
      "rowLimit": 10000
     },
     "inputWidgets": {},
     "nuid": "c9f9f598-cdc2-49fa-8675-25b0255d923a",
     "showTitle": false,
     "tableResultSettingsMap": {},
     "title": ""
    }
   },
   "outputs": [
    {
     "output_type": "display_data",
     "data": {
      "text/html": [
       "<style scoped>\n",
       "  .table-result-container {\n",
       "    max-height: 300px;\n",
       "    overflow: auto;\n",
       "  }\n",
       "  table, th, td {\n",
       "    border: 1px solid black;\n",
       "    border-collapse: collapse;\n",
       "  }\n",
       "  th, td {\n",
       "    padding: 5px;\n",
       "  }\n",
       "  th {\n",
       "    text-align: left;\n",
       "  }\n",
       "</style><div class='table-result-container'><table class='table-result'><thead style='background-color: white'><tr><th>CD_TIPO_BEM_CANDIDATO</th><th>DS_TIPO_BEM_CANDIDATO</th></tr></thead><tbody><tr><td>1</td><td>Prédio residencial</td></tr><tr><td>2</td><td>Prédio comercial</td></tr><tr><td>3</td><td>Galpão</td></tr><tr><td>11</td><td>Apartamento</td></tr><tr><td>12</td><td>Casa</td></tr><tr><td>13</td><td>Terreno</td></tr><tr><td>14</td><td>Terra nua</td></tr><tr><td>15</td><td>Sala ou conjunto</td></tr><tr><td>16</td><td>Construção</td></tr><tr><td>17</td><td>Benfeitorias</td></tr><tr><td>18</td><td>Loja</td></tr><tr><td>19</td><td>Outros bens imóveis</td></tr><tr><td>21</td><td>Veículo automotor terrestre: caminhão, automóvel, moto, etc.</td></tr><tr><td>22</td><td>Aeronave</td></tr><tr><td>23</td><td>Embarcação</td></tr><tr><td>24</td><td>Bem relacionado com o exercício da atividade autônoma</td></tr><tr><td>25</td><td>Jóia, quadro, objeto de arte, de coleção, antiguidade, etc.</td></tr><tr><td>26</td><td>Linha telefônica</td></tr><tr><td>29</td><td>Outros bens móveis</td></tr><tr><td>31</td><td>Ações (inclusive as provenientes de linha telefônica)</td></tr><tr><td>32</td><td>Quotas ou quinhões de capital</td></tr><tr><td>39</td><td>Outras participações societárias</td></tr><tr><td>41</td><td>Caderneta de poupança</td></tr><tr><td>45</td><td>Aplicação de renda fixa (CDB, RDB e outros)</td></tr><tr><td>46</td><td>Ouro, ativo financeiro</td></tr><tr><td>47</td><td>Mercado futuros, de opções e a termo</td></tr><tr><td>49</td><td>Outras aplicações e Investimentos</td></tr><tr><td>51</td><td>Crédito decorrente de empréstimo</td></tr><tr><td>52</td><td>Crédito decorrente de alienação</td></tr><tr><td>53</td><td>Plano PAIT e caderneta de pecúlio</td></tr><tr><td>54</td><td>Poupança para construção ou aquisição de bem imóvel</td></tr><tr><td>59</td><td>Outros créditos e poupança vinculados</td></tr><tr><td>61</td><td>Depósito bancário em conta corrente no País</td></tr><tr><td>62</td><td>Depósito bancário em conta corrente no exterior</td></tr><tr><td>63</td><td>Dinheiro em espécie - moeda nacional</td></tr><tr><td>64</td><td>Dinheiro em espécie - moeda estrangeira</td></tr><tr><td>69</td><td>Outros depósitos à vista e numerário</td></tr><tr><td>71</td><td>Fundo de Curto Prazo</td></tr><tr><td>72</td><td>Fundo de Longo Prazo e Fundo de Investimentos em Direitos Creditórios (FIDC)</td></tr><tr><td>73</td><td>Fundo de Investimento Imobiliário</td></tr><tr><td>74</td><td>Fundos: Ações, Mútuos de Privatização, Invest. Empresas Emergentes, Invest.Participação e Invest. Índice Mercado</td></tr><tr><td>79</td><td>Outros fundos</td></tr><tr><td>91</td><td>Licença e concessões especiais</td></tr><tr><td>92</td><td>Título de clube e assemelhado</td></tr><tr><td>93</td><td>Direito de autor, de inventor e patente</td></tr><tr><td>94</td><td>Direito de lavra e assemelhado</td></tr><tr><td>95</td><td>Consórcio não contemplado</td></tr><tr><td>96</td><td>Leasing</td></tr><tr><td>97</td><td>VGBL - Vida Gerador de Benefício Livre</td></tr><tr><td>99</td><td>OUTROS BENS E DIREITOS</td></tr></tbody></table></div>"
      ]
     },
     "metadata": {
      "application/vnd.databricks.v1+output": {
       "addedWidgets": {},
       "aggData": [],
       "aggError": "",
       "aggOverflow": false,
       "aggSchema": [],
       "aggSeriesLimitReached": false,
       "aggType": "",
       "arguments": {},
       "columnCustomDisplayInfos": {},
       "data": [
        [
         1,
         "Prédio residencial"
        ],
        [
         2,
         "Prédio comercial"
        ],
        [
         3,
         "Galpão"
        ],
        [
         11,
         "Apartamento"
        ],
        [
         12,
         "Casa"
        ],
        [
         13,
         "Terreno"
        ],
        [
         14,
         "Terra nua"
        ],
        [
         15,
         "Sala ou conjunto"
        ],
        [
         16,
         "Construção"
        ],
        [
         17,
         "Benfeitorias"
        ],
        [
         18,
         "Loja"
        ],
        [
         19,
         "Outros bens imóveis"
        ],
        [
         21,
         "Veículo automotor terrestre: caminhão, automóvel, moto, etc."
        ],
        [
         22,
         "Aeronave"
        ],
        [
         23,
         "Embarcação"
        ],
        [
         24,
         "Bem relacionado com o exercício da atividade autônoma"
        ],
        [
         25,
         "Jóia, quadro, objeto de arte, de coleção, antiguidade, etc."
        ],
        [
         26,
         "Linha telefônica"
        ],
        [
         29,
         "Outros bens móveis"
        ],
        [
         31,
         "Ações (inclusive as provenientes de linha telefônica)"
        ],
        [
         32,
         "Quotas ou quinhões de capital"
        ],
        [
         39,
         "Outras participações societárias"
        ],
        [
         41,
         "Caderneta de poupança"
        ],
        [
         45,
         "Aplicação de renda fixa (CDB, RDB e outros)"
        ],
        [
         46,
         "Ouro, ativo financeiro"
        ],
        [
         47,
         "Mercado futuros, de opções e a termo"
        ],
        [
         49,
         "Outras aplicações e Investimentos"
        ],
        [
         51,
         "Crédito decorrente de empréstimo"
        ],
        [
         52,
         "Crédito decorrente de alienação"
        ],
        [
         53,
         "Plano PAIT e caderneta de pecúlio"
        ],
        [
         54,
         "Poupança para construção ou aquisição de bem imóvel"
        ],
        [
         59,
         "Outros créditos e poupança vinculados"
        ],
        [
         61,
         "Depósito bancário em conta corrente no País"
        ],
        [
         62,
         "Depósito bancário em conta corrente no exterior"
        ],
        [
         63,
         "Dinheiro em espécie - moeda nacional"
        ],
        [
         64,
         "Dinheiro em espécie - moeda estrangeira"
        ],
        [
         69,
         "Outros depósitos à vista e numerário"
        ],
        [
         71,
         "Fundo de Curto Prazo"
        ],
        [
         72,
         "Fundo de Longo Prazo e Fundo de Investimentos em Direitos Creditórios (FIDC)"
        ],
        [
         73,
         "Fundo de Investimento Imobiliário"
        ],
        [
         74,
         "Fundos: Ações, Mútuos de Privatização, Invest. Empresas Emergentes, Invest.Participação e Invest. Índice Mercado"
        ],
        [
         79,
         "Outros fundos"
        ],
        [
         91,
         "Licença e concessões especiais"
        ],
        [
         92,
         "Título de clube e assemelhado"
        ],
        [
         93,
         "Direito de autor, de inventor e patente"
        ],
        [
         94,
         "Direito de lavra e assemelhado"
        ],
        [
         95,
         "Consórcio não contemplado"
        ],
        [
         96,
         "Leasing"
        ],
        [
         97,
         "VGBL - Vida Gerador de Benefício Livre"
        ],
        [
         99,
         "OUTROS BENS E DIREITOS"
        ]
       ],
       "datasetInfos": [],
       "dbfsResultPath": null,
       "isJsonSchema": true,
       "metadata": {},
       "overflow": false,
       "plotOptions": {
        "customPlotOptions": {},
        "displayType": "table",
        "pivotAggregation": null,
        "pivotColumns": null,
        "xColumns": null,
        "yColumns": null
       },
       "removedWidgets": [],
       "schema": [
        {
         "metadata": "{\"comment\":\"Unique identifier for each heritage asset kind of the candidates\"}",
         "name": "CD_TIPO_BEM_CANDIDATO",
         "type": "\"long\""
        },
        {
         "metadata": "{\"comment\":\"Description of the type of each heritage asset\",\"__CHAR_VARCHAR_TYPE_STRING\":\"varchar(200)\"}",
         "name": "DS_TIPO_BEM_CANDIDATO",
         "type": "\"string\""
        }
       ],
       "type": "table"
      }
     },
     "output_type": "display_data"
    }
   ],
   "source": [
    "%sql\n",
    "\n",
    "SELECT \n",
    "*\n",
    "FROM \n",
    "  eleicao_gold.tipo_bem"
   ]
  },
  {
   "cell_type": "markdown",
   "metadata": {
    "application/vnd.databricks.v1+cell": {
     "cellMetadata": {},
     "inputWidgets": {},
     "nuid": "d2ea90fa-c5e1-4951-b3b5-7b5620a050d2",
     "showTitle": false,
     "tableResultSettingsMap": {},
     "title": ""
    }
   },
   "source": [
    "%md\n",
    "**Tabela \"Candidatos\" descritiva particionada por ano**:"
   ]
  },
  {
   "cell_type": "code",
   "execution_count": 0,
   "metadata": {
    "application/vnd.databricks.v1+cell": {
     "cellMetadata": {
      "byteLimit": 2048000,
      "rowLimit": 10000
     },
     "inputWidgets": {},
     "nuid": "37b196cb-3c18-46f3-b433-86466da3eeb5",
     "showTitle": false,
     "tableResultSettingsMap": {},
     "title": ""
    }
   },
   "outputs": [
    {
     "output_type": "display_data",
     "data": {
      "text/html": [
       "<style scoped>\n",
       "  .table-result-container {\n",
       "    max-height: 300px;\n",
       "    overflow: auto;\n",
       "  }\n",
       "  table, th, td {\n",
       "    border: 1px solid black;\n",
       "    border-collapse: collapse;\n",
       "  }\n",
       "  th, td {\n",
       "    padding: 5px;\n",
       "  }\n",
       "  th {\n",
       "    text-align: left;\n",
       "  }\n",
       "</style><div class='table-result-container'><table class='table-result'><thead style='background-color: white'><tr><th>SQ_CANDIDATO</th><th>NM_CANDIDATO</th><th>NM_URNA_CANDIDATO</th><th>ANO_ELEICAO</th><th>TP_ABRANGENCIA</th><th>DT_ELEICAO</th><th>NR_CPF_CANDIDATO</th><th>NR_TITULO_ELEITORAL_CANDIDATO</th><th>DS_CARGO</th><th>DS_SITUACAO_CANDIDATURA</th><th>SG_PARTIDO</th><th>NM_PARTIDO</th><th>SG_UF_NASCIMENTO</th><th>DT_NASCIMENTO</th><th>DS_GENERO</th><th>DS_COR_RACA</th><th>DS_GRAU_INSTRUCAO</th><th>DS_ESTADO_CIVIL</th><th>DS_OCUPACAO</th><th>SG_UF</th><th>NM_UE</th><th>NR_TURNO</th><th>DS_SIT_TOT_TURNO</th><th>VR_BEM_CANDIDATO</th></tr></thead><tbody><tr><td>250001265966</td><td>JOÃO BATISTA DOS SANTOS</td><td>JOÃO ZELADOR</td><td>2020</td><td>MUNICIPAL</td><td>2020-11-15</td><td>13534893883</td><td>292412220132</td><td>VEREADOR</td><td>INAPTO</td><td>DC</td><td>DEMOCRACIA CRISTÃ</td><td>SP</td><td>1970-03-05</td><td>MASCULINO</td><td>PARDA</td><td>ENSINO MÉDIO INCOMPLETO</td><td>CASADO(A)</td><td>GERENTE</td><td>SP</td><td>SÃO PAULO</td><td>1</td><td>NÃO ELEITO</td><td>0.0</td></tr><tr><td>250001268518</td><td>SILVIO ROBERTO VOCE</td><td>SILVIO VOCE</td><td>2020</td><td>MUNICIPAL</td><td>2020-11-15</td><td>90421213868</td><td>97094760159</td><td>VEREADOR</td><td>APTO</td><td>PRTB</td><td>PARTIDO RENOVADOR TRABALHISTA BRASILEIRO</td><td>SP</td><td>1953-04-15</td><td>MASCULINO</td><td>BRANCA</td><td>ENSINO MÉDIO COMPLETO</td><td>SOLTEIRO(A)</td><td>COMISSÁRIO DE BORDO</td><td>SP</td><td>SÃO PAULO</td><td>1</td><td>NÃO ELEITO</td><td>850000.0</td></tr><tr><td>250000925963</td><td>ANDRESSA MACIEL DO NASCIMENTO</td><td>DEDE</td><td>2020</td><td>MUNICIPAL</td><td>2020-11-15</td><td>37174723802</td><td>344907730124</td><td>VEREADOR</td><td>INAPTO</td><td>PSC</td><td>PARTIDO SOCIAL CRISTÃO</td><td>SP</td><td>1988-11-20</td><td>FEMININO</td><td>PARDA</td><td>SUPERIOR INCOMPLETO</td><td>CASADO(A)</td><td>OUTROS</td><td>SP</td><td>SÃO PAULO</td><td>1</td><td>NÃO ELEITO</td><td>0.0</td></tr><tr><td>160001090215</td><td>EDEMAR RIBEIRO BORGES</td><td>NICO DA MARACANÃ</td><td>2020</td><td>MUNICIPAL</td><td>2020-11-15</td><td>62730614915</td><td>4079340655</td><td>VEREADOR</td><td>APTO</td><td>PRTB</td><td>PARTIDO RENOVADOR TRABALHISTA BRASILEIRO</td><td>PR</td><td>1965-01-05</td><td>MASCULINO</td><td>PARDA</td><td>ENSINO FUNDAMENTAL INCOMPLETO</td><td>SOLTEIRO(A)</td><td>MECÂNICO DE MANUTENÇÃO</td><td>PR</td><td>TUNAS DO PARANÁ</td><td>1</td><td>NÃO ELEITO</td><td>80000.0</td></tr><tr><td>250001100745</td><td>ROSE LEILA RODASLI CHUERE</td><td>ROSE LEILA</td><td>2020</td><td>MUNICIPAL</td><td>2020-11-15</td><td>53450779834</td><td>156241700167</td><td>VEREADOR</td><td>INAPTO</td><td>PMB</td><td>PARTIDO DA MULHER BRASILEIRA</td><td>SP</td><td>1954-01-11</td><td>FEMININO</td><td>BRANCA</td><td>SUPERIOR COMPLETO</td><td>SOLTEIRO(A)</td><td>APOSENTADO (EXCETO SERVIDOR PÚBLICO)</td><td>SP</td><td>SÃO PAULO</td><td>1</td><td>NÃO ELEITO</td><td>4000000.0</td></tr><tr><td>250000984468</td><td>JOSÉ AMILTON CORREA</td><td>BIKUIRA</td><td>2020</td><td>MUNICIPAL</td><td>2020-11-15</td><td>26595781840</td><td>180429580124</td><td>VEREADOR</td><td>APTO</td><td>PSDB</td><td>PARTIDO DA SOCIAL DEMOCRACIA BRASILEIRA</td><td>PR</td><td>1972-08-17</td><td>MASCULINO</td><td>BRANCA</td><td>ENSINO MÉDIO COMPLETO</td><td>CASADO(A)</td><td>TRABALHADOR METALÚRGICO E SIDERÚRGICO</td><td>SP</td><td>SANTA BRANCA</td><td>1</td><td>SUPLENTE</td><td>33000.0</td></tr><tr><td>160000869858</td><td>JOSÉ PINTO DE OLIVEIRA</td><td>ZÉ DE OLIVEIRA DO GÁS</td><td>2020</td><td>MUNICIPAL</td><td>2020-11-15</td><td>10132848953</td><td>34885470612</td><td>VEREADOR</td><td>APTO</td><td>PSL</td><td>PARTIDO SOCIAL LIBERAL</td><td>MG</td><td>1951-06-25</td><td>MASCULINO</td><td>BRANCA</td><td>LÊ E ESCREVE</td><td>CASADO(A)</td><td>COMERCIANTE</td><td>PR</td><td>FAXINAL</td><td>1</td><td>SUPLENTE</td><td>253535.9</td></tr><tr><td>130000888282</td><td>EVERALDO MACEDO DOS SANTOS</td><td>EVERALDO DE ZÉ RODOVIÁRIA</td><td>2020</td><td>MUNICIPAL</td><td>2020-11-15</td><td>6747192630</td><td>146298280248</td><td>VEREADOR</td><td>APTO</td><td>PTB</td><td>PARTIDO TRABALHISTA BRASILEIRO</td><td>MG</td><td>1984-08-14</td><td>MASCULINO</td><td>PRETA</td><td>ENSINO FUNDAMENTAL COMPLETO</td><td>CASADO(A)</td><td>OUTROS</td><td>MG</td><td>MONTALVÂNIA</td><td>1</td><td>SUPLENTE</td><td>228000.0</td></tr><tr><td>250001123247</td><td>ADILSON ADRIANO SALES DE SOUZA CARVALHO AMADEU</td><td>DR ADILSON CARVALHO</td><td>2020</td><td>MUNICIPAL</td><td>2020-11-15</td><td>28254810842</td><td>251049250167</td><td>VEREADOR</td><td>INAPTO</td><td>PSB</td><td>PARTIDO SOCIALISTA BRASILEIRO</td><td>SP</td><td>1974-10-02</td><td>MASCULINO</td><td>BRANCA</td><td>SUPERIOR COMPLETO</td><td>SOLTEIRO(A)</td><td>ADVOGADO</td><td>SP</td><td>SÃO PAULO</td><td>1</td><td>NÃO ELEITO</td><td>0.0</td></tr><tr><td>160000939823</td><td>JOAQUIM RODRIGUES NOVO</td><td>JOAQUIM RODRIGUES</td><td>2020</td><td>MUNICIPAL</td><td>2020-11-15</td><td>59857307949</td><td>25950160698</td><td>VEREADOR</td><td>APTO</td><td>PL</td><td>PARTIDO LIBERAL</td><td>PR</td><td>1967-09-12</td><td>MASCULINO</td><td>BRANCA</td><td>ENSINO MÉDIO COMPLETO</td><td>CASADO(A)</td><td>AGRICULTOR</td><td>PR</td><td>FÊNIX</td><td>1</td><td>ELEITO POR QP</td><td>322633.93</td></tr></tbody></table></div>"
      ]
     },
     "metadata": {
      "application/vnd.databricks.v1+output": {
       "addedWidgets": {},
       "aggData": [],
       "aggError": "",
       "aggOverflow": false,
       "aggSchema": [],
       "aggSeriesLimitReached": false,
       "aggType": "",
       "arguments": {},
       "columnCustomDisplayInfos": {},
       "data": [
        [
         250001265966,
         "JOÃO BATISTA DOS SANTOS",
         "JOÃO ZELADOR",
         2020,
         "MUNICIPAL",
         "2020-11-15",
         13534893883,
         292412220132,
         "VEREADOR",
         "INAPTO",
         "DC",
         "DEMOCRACIA CRISTÃ",
         "SP",
         "1970-03-05",
         "MASCULINO",
         "PARDA",
         "ENSINO MÉDIO INCOMPLETO",
         "CASADO(A)",
         "GERENTE",
         "SP",
         "SÃO PAULO",
         1,
         "NÃO ELEITO",
         0.0
        ],
        [
         250001268518,
         "SILVIO ROBERTO VOCE",
         "SILVIO VOCE",
         2020,
         "MUNICIPAL",
         "2020-11-15",
         90421213868,
         97094760159,
         "VEREADOR",
         "APTO",
         "PRTB",
         "PARTIDO RENOVADOR TRABALHISTA BRASILEIRO",
         "SP",
         "1953-04-15",
         "MASCULINO",
         "BRANCA",
         "ENSINO MÉDIO COMPLETO",
         "SOLTEIRO(A)",
         "COMISSÁRIO DE BORDO",
         "SP",
         "SÃO PAULO",
         1,
         "NÃO ELEITO",
         850000.0
        ],
        [
         250000925963,
         "ANDRESSA MACIEL DO NASCIMENTO",
         "DEDE",
         2020,
         "MUNICIPAL",
         "2020-11-15",
         37174723802,
         344907730124,
         "VEREADOR",
         "INAPTO",
         "PSC",
         "PARTIDO SOCIAL CRISTÃO",
         "SP",
         "1988-11-20",
         "FEMININO",
         "PARDA",
         "SUPERIOR INCOMPLETO",
         "CASADO(A)",
         "OUTROS",
         "SP",
         "SÃO PAULO",
         1,
         "NÃO ELEITO",
         0.0
        ],
        [
         160001090215,
         "EDEMAR RIBEIRO BORGES",
         "NICO DA MARACANÃ",
         2020,
         "MUNICIPAL",
         "2020-11-15",
         62730614915,
         4079340655,
         "VEREADOR",
         "APTO",
         "PRTB",
         "PARTIDO RENOVADOR TRABALHISTA BRASILEIRO",
         "PR",
         "1965-01-05",
         "MASCULINO",
         "PARDA",
         "ENSINO FUNDAMENTAL INCOMPLETO",
         "SOLTEIRO(A)",
         "MECÂNICO DE MANUTENÇÃO",
         "PR",
         "TUNAS DO PARANÁ",
         1,
         "NÃO ELEITO",
         80000.0
        ],
        [
         250001100745,
         "ROSE LEILA RODASLI CHUERE",
         "ROSE LEILA",
         2020,
         "MUNICIPAL",
         "2020-11-15",
         53450779834,
         156241700167,
         "VEREADOR",
         "INAPTO",
         "PMB",
         "PARTIDO DA MULHER BRASILEIRA",
         "SP",
         "1954-01-11",
         "FEMININO",
         "BRANCA",
         "SUPERIOR COMPLETO",
         "SOLTEIRO(A)",
         "APOSENTADO (EXCETO SERVIDOR PÚBLICO)",
         "SP",
         "SÃO PAULO",
         1,
         "NÃO ELEITO",
         4000000.0
        ],
        [
         250000984468,
         "JOSÉ AMILTON CORREA",
         "BIKUIRA",
         2020,
         "MUNICIPAL",
         "2020-11-15",
         26595781840,
         180429580124,
         "VEREADOR",
         "APTO",
         "PSDB",
         "PARTIDO DA SOCIAL DEMOCRACIA BRASILEIRA",
         "PR",
         "1972-08-17",
         "MASCULINO",
         "BRANCA",
         "ENSINO MÉDIO COMPLETO",
         "CASADO(A)",
         "TRABALHADOR METALÚRGICO E SIDERÚRGICO",
         "SP",
         "SANTA BRANCA",
         1,
         "SUPLENTE",
         33000.0
        ],
        [
         160000869858,
         "JOSÉ PINTO DE OLIVEIRA",
         "ZÉ DE OLIVEIRA DO GÁS",
         2020,
         "MUNICIPAL",
         "2020-11-15",
         10132848953,
         34885470612,
         "VEREADOR",
         "APTO",
         "PSL",
         "PARTIDO SOCIAL LIBERAL",
         "MG",
         "1951-06-25",
         "MASCULINO",
         "BRANCA",
         "LÊ E ESCREVE",
         "CASADO(A)",
         "COMERCIANTE",
         "PR",
         "FAXINAL",
         1,
         "SUPLENTE",
         253535.9
        ],
        [
         130000888282,
         "EVERALDO MACEDO DOS SANTOS",
         "EVERALDO DE ZÉ RODOVIÁRIA",
         2020,
         "MUNICIPAL",
         "2020-11-15",
         6747192630,
         146298280248,
         "VEREADOR",
         "APTO",
         "PTB",
         "PARTIDO TRABALHISTA BRASILEIRO",
         "MG",
         "1984-08-14",
         "MASCULINO",
         "PRETA",
         "ENSINO FUNDAMENTAL COMPLETO",
         "CASADO(A)",
         "OUTROS",
         "MG",
         "MONTALVÂNIA",
         1,
         "SUPLENTE",
         228000.0
        ],
        [
         250001123247,
         "ADILSON ADRIANO SALES DE SOUZA CARVALHO AMADEU",
         "DR ADILSON CARVALHO",
         2020,
         "MUNICIPAL",
         "2020-11-15",
         28254810842,
         251049250167,
         "VEREADOR",
         "INAPTO",
         "PSB",
         "PARTIDO SOCIALISTA BRASILEIRO",
         "SP",
         "1974-10-02",
         "MASCULINO",
         "BRANCA",
         "SUPERIOR COMPLETO",
         "SOLTEIRO(A)",
         "ADVOGADO",
         "SP",
         "SÃO PAULO",
         1,
         "NÃO ELEITO",
         0.0
        ],
        [
         160000939823,
         "JOAQUIM RODRIGUES NOVO",
         "JOAQUIM RODRIGUES",
         2020,
         "MUNICIPAL",
         "2020-11-15",
         59857307949,
         25950160698,
         "VEREADOR",
         "APTO",
         "PL",
         "PARTIDO LIBERAL",
         "PR",
         "1967-09-12",
         "MASCULINO",
         "BRANCA",
         "ENSINO MÉDIO COMPLETO",
         "CASADO(A)",
         "AGRICULTOR",
         "PR",
         "FÊNIX",
         1,
         "ELEITO POR QP",
         322633.93
        ]
       ],
       "datasetInfos": [],
       "dbfsResultPath": null,
       "isJsonSchema": true,
       "metadata": {},
       "overflow": false,
       "plotOptions": {
        "customPlotOptions": {},
        "displayType": "table",
        "pivotAggregation": null,
        "pivotColumns": null,
        "xColumns": null,
        "yColumns": null
       },
       "removedWidgets": [],
       "schema": [
        {
         "metadata": "{}",
         "name": "SQ_CANDIDATO",
         "type": "\"long\""
        },
        {
         "metadata": "{}",
         "name": "NM_CANDIDATO",
         "type": "\"string\""
        },
        {
         "metadata": "{}",
         "name": "NM_URNA_CANDIDATO",
         "type": "\"string\""
        },
        {
         "metadata": "{}",
         "name": "ANO_ELEICAO",
         "type": "\"long\""
        },
        {
         "metadata": "{}",
         "name": "TP_ABRANGENCIA",
         "type": "\"string\""
        },
        {
         "metadata": "{}",
         "name": "DT_ELEICAO",
         "type": "\"date\""
        },
        {
         "metadata": "{}",
         "name": "NR_CPF_CANDIDATO",
         "type": "\"long\""
        },
        {
         "metadata": "{}",
         "name": "NR_TITULO_ELEITORAL_CANDIDATO",
         "type": "\"long\""
        },
        {
         "metadata": "{}",
         "name": "DS_CARGO",
         "type": "\"string\""
        },
        {
         "metadata": "{}",
         "name": "DS_SITUACAO_CANDIDATURA",
         "type": "\"string\""
        },
        {
         "metadata": "{}",
         "name": "SG_PARTIDO",
         "type": "\"string\""
        },
        {
         "metadata": "{}",
         "name": "NM_PARTIDO",
         "type": "\"string\""
        },
        {
         "metadata": "{}",
         "name": "SG_UF_NASCIMENTO",
         "type": "\"string\""
        },
        {
         "metadata": "{}",
         "name": "DT_NASCIMENTO",
         "type": "\"date\""
        },
        {
         "metadata": "{}",
         "name": "DS_GENERO",
         "type": "\"string\""
        },
        {
         "metadata": "{}",
         "name": "DS_COR_RACA",
         "type": "\"string\""
        },
        {
         "metadata": "{}",
         "name": "DS_GRAU_INSTRUCAO",
         "type": "\"string\""
        },
        {
         "metadata": "{}",
         "name": "DS_ESTADO_CIVIL",
         "type": "\"string\""
        },
        {
         "metadata": "{}",
         "name": "DS_OCUPACAO",
         "type": "\"string\""
        },
        {
         "metadata": "{}",
         "name": "SG_UF",
         "type": "\"string\""
        },
        {
         "metadata": "{}",
         "name": "NM_UE",
         "type": "\"string\""
        },
        {
         "metadata": "{}",
         "name": "NR_TURNO",
         "type": "\"long\""
        },
        {
         "metadata": "{}",
         "name": "DS_SIT_TOT_TURNO",
         "type": "\"string\""
        },
        {
         "metadata": "{}",
         "name": "VR_BEM_CANDIDATO",
         "type": "\"double\""
        }
       ],
       "type": "table"
      }
     },
     "output_type": "display_data"
    }
   ],
   "source": [
    "#df para tabela relacional relacional candidato\n",
    "df = sqlContext.sql(\"\"\"\n",
    "    SELECT\n",
    "         l_tb.SQ_CANDIDATO\n",
    "        ,l_tb.NM_CANDIDATO\n",
    "        ,l_tb.NM_URNA_CANDIDATO\n",
    "        ,l_tb.ANO_ELEICAO\n",
    "        ,l_tb.TP_ABRANGENCIA\n",
    "        ,l_tb.DT_ELEICAO\n",
    "        ,l_tb.NR_CPF_CANDIDATO\n",
    "        ,l_tb.NR_TITULO_ELEITORAL_CANDIDATO\n",
    "        ,l_tb.DS_CARGO\n",
    "        ,l_tb.DS_SITUACAO_CANDIDATURA\n",
    "        ,l_tb.SG_PARTIDO\n",
    "        ,l_tb.NM_PARTIDO\n",
    "        ,l_tb.SG_UF_NASCIMENTO\n",
    "        ,l_tb.DT_NASCIMENTO\n",
    "        ,l_tb.DS_GENERO\n",
    "        ,l_tb.DS_COR_RACA\n",
    "        ,l_tb.DS_GRAU_INSTRUCAO\n",
    "        ,l_tb.DS_ESTADO_CIVIL\n",
    "        ,l_tb.DS_OCUPACAO\n",
    "        ,l_tb.SG_UF\n",
    "        ,l_tb.NM_UE\n",
    "        ,l_tb.NR_TURNO\n",
    "        ,l_tb.DS_SIT_TOT_TURNO\n",
    "        ,COALESCE(VR_BEM_CANDIDATO,0) AS VR_BEM_CANDIDATO\n",
    "    FROM \n",
    "        eleicao_silver.candidatos AS l_tb\n",
    "    LEFT JOIN \n",
    "        eleicao_silver.bens_candidatos AS r_tb\n",
    "        ON \n",
    "            l_tb.SQ_CANDIDATO = r_tb.SQ_CANDIDATO\n",
    "            AND l_tb.ANO_ELEICAO = r_tb.ANO_ELEICAO\n",
    "    \"\"\" )\n",
    "df.limit(10).display()"
   ]
  },
  {
   "cell_type": "code",
   "execution_count": 0,
   "metadata": {
    "application/vnd.databricks.v1+cell": {
     "cellMetadata": {
      "byteLimit": 2048000,
      "implicitDf": true,
      "rowLimit": 10000
     },
     "inputWidgets": {},
     "nuid": "1172f6d4-225b-4a87-ada4-f6a8a2b3f302",
     "showTitle": false,
     "tableResultSettingsMap": {},
     "title": ""
    }
   },
   "outputs": [
    {
     "output_type": "display_data",
     "data": {
      "text/html": [
       "<style scoped>\n",
       "  .table-result-container {\n",
       "    max-height: 300px;\n",
       "    overflow: auto;\n",
       "  }\n",
       "  table, th, td {\n",
       "    border: 1px solid black;\n",
       "    border-collapse: collapse;\n",
       "  }\n",
       "  th, td {\n",
       "    padding: 5px;\n",
       "  }\n",
       "  th {\n",
       "    text-align: left;\n",
       "  }\n",
       "</style><div class='table-result-container'><table class='table-result'><thead style='background-color: white'><tr></tr></thead><tbody></tbody></table></div>"
      ]
     },
     "metadata": {
      "application/vnd.databricks.v1+output": {
       "addedWidgets": {},
       "aggData": [],
       "aggError": "",
       "aggOverflow": false,
       "aggSchema": [],
       "aggSeriesLimitReached": false,
       "aggType": "",
       "arguments": {},
       "columnCustomDisplayInfos": {},
       "data": [],
       "datasetInfos": [],
       "dbfsResultPath": null,
       "isJsonSchema": true,
       "metadata": {},
       "overflow": false,
       "plotOptions": {
        "customPlotOptions": {},
        "displayType": "table",
        "pivotAggregation": null,
        "pivotColumns": null,
        "xColumns": null,
        "yColumns": null
       },
       "removedWidgets": [],
       "schema": [],
       "type": "table"
      }
     },
     "output_type": "display_data"
    }
   ],
   "source": [
    "%sql\n",
    "\n",
    "CREATE OR REPLACE TABLE eleicao_gold.candidatos ( \n",
    "     SQ_CANDIDATO BIGINT NOT NULL COMMENT 'Unique identifier for each candidate per year'\n",
    "    ,NM_CANDIDATO VARCHAR(200) COMMENT 'Name of the candidate'\n",
    "    ,NM_URNA_CANDIDATO  VARCHAR(200) COMMENT 'Name of the candidate that apperars in ballot box'\n",
    "    ,ANO_ELEICAO BIGINT NOT NULL COMMENT 'Year of the election'\n",
    "    ,TP_ABRANGENCIA VARCHAR(100) COMMENT 'Type of election (Municipal or Presidencial)'\n",
    "    ,DT_ELEICAO DATE COMMENT 'Date of the election, for some can be either the first or the second round'\n",
    "    ,NR_CPF_CANDIDATO BIGINT COMMENT 'Identity of the candidate'\n",
    "    ,NR_TITULO_ELEITORAL_CANDIDATO BIGINT COMMENT 'Electoral Identity of the candidate'\n",
    "    ,DS_CARGO VARCHAR(100) COMMENT 'Position of dispute'\n",
    "    ,DS_SITUACAO_CANDIDATURA VARCHAR(100) COMMENT 'Situation of the candidature (APTO, CADASTRADO, INAPTO)'\n",
    "    ,SG_PARTIDO VARCHAR(50) COMMENT 'Abreviation of the name of the political party'\n",
    "    ,NM_PARTIDO VARCHAR(100) COMMENT 'Name of the political party'\n",
    "    ,SG_UF_NASCIMENTO VARCHAR(50) COMMENT 'Abreviation of the name of the state of bitht of the candidate'\n",
    "    ,DT_NASCIMENTO DATE COMMENT 'Date of birth of the candidate'\n",
    "    ,DS_GENERO VARCHAR(100) COMMENT 'Gender of the candidate (MASCULINO, FEMININO, NÃO DIVULGÁVEL)'\n",
    "    ,DS_COR_RACA VARCHAR(100) COMMENT 'Etinity Race of the candidate (AMARELA, BRANCA, INDÍGENA, NÃO DIVULGÁVEL, PARDA, PRETA)'\n",
    "    ,DS_GRAU_INSTRUCAO VARCHAR(100) COMMENT 'Education Degree of the candidate (ENSINO FUNDAMENTAL COMPLETO, ENSINO FUNDAMENTAL INCOMPLETO, ENSINO MÉDIO COMPLETO, ENSINO MÉDIO INCOMPLETO, LÊ E ESCREVE, NÃO DIVULGÁVEL, SUPERIOR  \n",
    "        COMPLETO, SUPERIOR INCOMPLETO)'\n",
    "    ,DS_ESTADO_CIVIL  VARCHAR(100) COMMENT 'Marital Status of the candidate (CASADO(A), DIVORCIADO(A), NÃO DIVULGÁVEL, SEPARADO(A) JUDICIALMENTE, SOLTEIRO(A), VIÚVO(A))'\n",
    "    ,DS_OCUPACAO VARCHAR(200) COMMENT 'Occupation of the candidate'\n",
    "    ,SG_UF VARCHAR(200) COMMENT 'State of dispute'\n",
    "    ,NM_UE VARCHAR(200) COMMENT 'District of dispute'\n",
    "    ,NR_TURNO BIGINT COMMENT 'Last round of dispute'\n",
    "    ,DS_SIT_TOT_TURNO  VARCHAR(200) COMMENT 'Status of the electoral dispute'\n",
    "    ,VR_BEM_CANDIDATO DOUBLE COMMENT 'Total amount owned of the candidate'\n",
    ");"
   ]
  },
  {
   "cell_type": "code",
   "execution_count": 0,
   "metadata": {
    "application/vnd.databricks.v1+cell": {
     "cellMetadata": {
      "byteLimit": 2048000,
      "rowLimit": 10000
     },
     "inputWidgets": {},
     "nuid": "8ace9627-01d1-40d1-a87b-0bdd0332869a",
     "showTitle": false,
     "tableResultSettingsMap": {},
     "title": ""
    }
   },
   "outputs": [],
   "source": [
    "#Tabela relacional candidatos (Gold) \n",
    "df.createOrReplaceTempView('candidatos')\n",
    "\n",
    "permanent_table_name = \"eleicao_gold.candidatos\"\n",
    "\n",
    "schema = 'eleicao_gold'\n",
    "\n",
    "df.write.format(\"delta\").option(\"mergeSchema\", \"true\").saveAsTable(permanent_table_name,mode='append')"
   ]
  },
  {
   "cell_type": "code",
   "execution_count": 0,
   "metadata": {
    "application/vnd.databricks.v1+cell": {
     "cellMetadata": {
      "byteLimit": 2048000,
      "implicitDf": true,
      "rowLimit": 10000
     },
     "inputWidgets": {},
     "nuid": "3cc13831-0292-45c4-a6ba-9ddd93d27726",
     "showTitle": false,
     "tableResultSettingsMap": {},
     "title": ""
    }
   },
   "outputs": [
    {
     "output_type": "display_data",
     "data": {
      "text/html": [
       "<style scoped>\n",
       "  .table-result-container {\n",
       "    max-height: 300px;\n",
       "    overflow: auto;\n",
       "  }\n",
       "  table, th, td {\n",
       "    border: 1px solid black;\n",
       "    border-collapse: collapse;\n",
       "  }\n",
       "  th, td {\n",
       "    padding: 5px;\n",
       "  }\n",
       "  th {\n",
       "    text-align: left;\n",
       "  }\n",
       "</style><div class='table-result-container'><table class='table-result'><thead style='background-color: white'><tr><th>SQ_CANDIDATO</th><th>NM_CANDIDATO</th><th>NM_URNA_CANDIDATO</th><th>ANO_ELEICAO</th><th>TP_ABRANGENCIA</th><th>DT_ELEICAO</th><th>NR_CPF_CANDIDATO</th><th>NR_TITULO_ELEITORAL_CANDIDATO</th><th>DS_CARGO</th><th>DS_SITUACAO_CANDIDATURA</th><th>SG_PARTIDO</th><th>NM_PARTIDO</th><th>SG_UF_NASCIMENTO</th><th>DT_NASCIMENTO</th><th>DS_GENERO</th><th>DS_COR_RACA</th><th>DS_GRAU_INSTRUCAO</th><th>DS_ESTADO_CIVIL</th><th>DS_OCUPACAO</th><th>SG_UF</th><th>NM_UE</th><th>NR_TURNO</th><th>DS_SIT_TOT_TURNO</th><th>VR_BEM_CANDIDATO</th></tr></thead><tbody><tr><td>250001265966</td><td>JOÃO BATISTA DOS SANTOS</td><td>JOÃO ZELADOR</td><td>2020</td><td>MUNICIPAL</td><td>2020-11-15</td><td>13534893883</td><td>292412220132</td><td>VEREADOR</td><td>INAPTO</td><td>DC</td><td>DEMOCRACIA CRISTÃ</td><td>SP</td><td>1970-03-05</td><td>MASCULINO</td><td>PARDA</td><td>ENSINO MÉDIO INCOMPLETO</td><td>CASADO(A)</td><td>GERENTE</td><td>SP</td><td>SÃO PAULO</td><td>1</td><td>NÃO ELEITO</td><td>0.0</td></tr><tr><td>250001268518</td><td>SILVIO ROBERTO VOCE</td><td>SILVIO VOCE</td><td>2020</td><td>MUNICIPAL</td><td>2020-11-15</td><td>90421213868</td><td>97094760159</td><td>VEREADOR</td><td>APTO</td><td>PRTB</td><td>PARTIDO RENOVADOR TRABALHISTA BRASILEIRO</td><td>SP</td><td>1953-04-15</td><td>MASCULINO</td><td>BRANCA</td><td>ENSINO MÉDIO COMPLETO</td><td>SOLTEIRO(A)</td><td>COMISSÁRIO DE BORDO</td><td>SP</td><td>SÃO PAULO</td><td>1</td><td>NÃO ELEITO</td><td>850000.0</td></tr><tr><td>250000925963</td><td>ANDRESSA MACIEL DO NASCIMENTO</td><td>DEDE</td><td>2020</td><td>MUNICIPAL</td><td>2020-11-15</td><td>37174723802</td><td>344907730124</td><td>VEREADOR</td><td>INAPTO</td><td>PSC</td><td>PARTIDO SOCIAL CRISTÃO</td><td>SP</td><td>1988-11-20</td><td>FEMININO</td><td>PARDA</td><td>SUPERIOR INCOMPLETO</td><td>CASADO(A)</td><td>OUTROS</td><td>SP</td><td>SÃO PAULO</td><td>1</td><td>NÃO ELEITO</td><td>0.0</td></tr><tr><td>160001090215</td><td>EDEMAR RIBEIRO BORGES</td><td>NICO DA MARACANÃ</td><td>2020</td><td>MUNICIPAL</td><td>2020-11-15</td><td>62730614915</td><td>4079340655</td><td>VEREADOR</td><td>APTO</td><td>PRTB</td><td>PARTIDO RENOVADOR TRABALHISTA BRASILEIRO</td><td>PR</td><td>1965-01-05</td><td>MASCULINO</td><td>PARDA</td><td>ENSINO FUNDAMENTAL INCOMPLETO</td><td>SOLTEIRO(A)</td><td>MECÂNICO DE MANUTENÇÃO</td><td>PR</td><td>TUNAS DO PARANÁ</td><td>1</td><td>NÃO ELEITO</td><td>80000.0</td></tr><tr><td>250001100745</td><td>ROSE LEILA RODASLI CHUERE</td><td>ROSE LEILA</td><td>2020</td><td>MUNICIPAL</td><td>2020-11-15</td><td>53450779834</td><td>156241700167</td><td>VEREADOR</td><td>INAPTO</td><td>PMB</td><td>PARTIDO DA MULHER BRASILEIRA</td><td>SP</td><td>1954-01-11</td><td>FEMININO</td><td>BRANCA</td><td>SUPERIOR COMPLETO</td><td>SOLTEIRO(A)</td><td>APOSENTADO (EXCETO SERVIDOR PÚBLICO)</td><td>SP</td><td>SÃO PAULO</td><td>1</td><td>NÃO ELEITO</td><td>4000000.0</td></tr><tr><td>250000984468</td><td>JOSÉ AMILTON CORREA</td><td>BIKUIRA</td><td>2020</td><td>MUNICIPAL</td><td>2020-11-15</td><td>26595781840</td><td>180429580124</td><td>VEREADOR</td><td>APTO</td><td>PSDB</td><td>PARTIDO DA SOCIAL DEMOCRACIA BRASILEIRA</td><td>PR</td><td>1972-08-17</td><td>MASCULINO</td><td>BRANCA</td><td>ENSINO MÉDIO COMPLETO</td><td>CASADO(A)</td><td>TRABALHADOR METALÚRGICO E SIDERÚRGICO</td><td>SP</td><td>SANTA BRANCA</td><td>1</td><td>SUPLENTE</td><td>33000.0</td></tr><tr><td>160000869858</td><td>JOSÉ PINTO DE OLIVEIRA</td><td>ZÉ DE OLIVEIRA DO GÁS</td><td>2020</td><td>MUNICIPAL</td><td>2020-11-15</td><td>10132848953</td><td>34885470612</td><td>VEREADOR</td><td>APTO</td><td>PSL</td><td>PARTIDO SOCIAL LIBERAL</td><td>MG</td><td>1951-06-25</td><td>MASCULINO</td><td>BRANCA</td><td>LÊ E ESCREVE</td><td>CASADO(A)</td><td>COMERCIANTE</td><td>PR</td><td>FAXINAL</td><td>1</td><td>SUPLENTE</td><td>253535.9</td></tr><tr><td>130000888282</td><td>EVERALDO MACEDO DOS SANTOS</td><td>EVERALDO DE ZÉ RODOVIÁRIA</td><td>2020</td><td>MUNICIPAL</td><td>2020-11-15</td><td>6747192630</td><td>146298280248</td><td>VEREADOR</td><td>APTO</td><td>PTB</td><td>PARTIDO TRABALHISTA BRASILEIRO</td><td>MG</td><td>1984-08-14</td><td>MASCULINO</td><td>PRETA</td><td>ENSINO FUNDAMENTAL COMPLETO</td><td>CASADO(A)</td><td>OUTROS</td><td>MG</td><td>MONTALVÂNIA</td><td>1</td><td>SUPLENTE</td><td>228000.0</td></tr><tr><td>250001123247</td><td>ADILSON ADRIANO SALES DE SOUZA CARVALHO AMADEU</td><td>DR ADILSON CARVALHO</td><td>2020</td><td>MUNICIPAL</td><td>2020-11-15</td><td>28254810842</td><td>251049250167</td><td>VEREADOR</td><td>INAPTO</td><td>PSB</td><td>PARTIDO SOCIALISTA BRASILEIRO</td><td>SP</td><td>1974-10-02</td><td>MASCULINO</td><td>BRANCA</td><td>SUPERIOR COMPLETO</td><td>SOLTEIRO(A)</td><td>ADVOGADO</td><td>SP</td><td>SÃO PAULO</td><td>1</td><td>NÃO ELEITO</td><td>0.0</td></tr><tr><td>160000939823</td><td>JOAQUIM RODRIGUES NOVO</td><td>JOAQUIM RODRIGUES</td><td>2020</td><td>MUNICIPAL</td><td>2020-11-15</td><td>59857307949</td><td>25950160698</td><td>VEREADOR</td><td>APTO</td><td>PL</td><td>PARTIDO LIBERAL</td><td>PR</td><td>1967-09-12</td><td>MASCULINO</td><td>BRANCA</td><td>ENSINO MÉDIO COMPLETO</td><td>CASADO(A)</td><td>AGRICULTOR</td><td>PR</td><td>FÊNIX</td><td>1</td><td>ELEITO POR QP</td><td>322633.93</td></tr></tbody></table></div>"
      ]
     },
     "metadata": {
      "application/vnd.databricks.v1+output": {
       "addedWidgets": {},
       "aggData": [],
       "aggError": "",
       "aggOverflow": false,
       "aggSchema": [],
       "aggSeriesLimitReached": false,
       "aggType": "",
       "arguments": {},
       "columnCustomDisplayInfos": {},
       "data": [
        [
         250001265966,
         "JOÃO BATISTA DOS SANTOS",
         "JOÃO ZELADOR",
         2020,
         "MUNICIPAL",
         "2020-11-15",
         13534893883,
         292412220132,
         "VEREADOR",
         "INAPTO",
         "DC",
         "DEMOCRACIA CRISTÃ",
         "SP",
         "1970-03-05",
         "MASCULINO",
         "PARDA",
         "ENSINO MÉDIO INCOMPLETO",
         "CASADO(A)",
         "GERENTE",
         "SP",
         "SÃO PAULO",
         1,
         "NÃO ELEITO",
         0.0
        ],
        [
         250001268518,
         "SILVIO ROBERTO VOCE",
         "SILVIO VOCE",
         2020,
         "MUNICIPAL",
         "2020-11-15",
         90421213868,
         97094760159,
         "VEREADOR",
         "APTO",
         "PRTB",
         "PARTIDO RENOVADOR TRABALHISTA BRASILEIRO",
         "SP",
         "1953-04-15",
         "MASCULINO",
         "BRANCA",
         "ENSINO MÉDIO COMPLETO",
         "SOLTEIRO(A)",
         "COMISSÁRIO DE BORDO",
         "SP",
         "SÃO PAULO",
         1,
         "NÃO ELEITO",
         850000.0
        ],
        [
         250000925963,
         "ANDRESSA MACIEL DO NASCIMENTO",
         "DEDE",
         2020,
         "MUNICIPAL",
         "2020-11-15",
         37174723802,
         344907730124,
         "VEREADOR",
         "INAPTO",
         "PSC",
         "PARTIDO SOCIAL CRISTÃO",
         "SP",
         "1988-11-20",
         "FEMININO",
         "PARDA",
         "SUPERIOR INCOMPLETO",
         "CASADO(A)",
         "OUTROS",
         "SP",
         "SÃO PAULO",
         1,
         "NÃO ELEITO",
         0.0
        ],
        [
         160001090215,
         "EDEMAR RIBEIRO BORGES",
         "NICO DA MARACANÃ",
         2020,
         "MUNICIPAL",
         "2020-11-15",
         62730614915,
         4079340655,
         "VEREADOR",
         "APTO",
         "PRTB",
         "PARTIDO RENOVADOR TRABALHISTA BRASILEIRO",
         "PR",
         "1965-01-05",
         "MASCULINO",
         "PARDA",
         "ENSINO FUNDAMENTAL INCOMPLETO",
         "SOLTEIRO(A)",
         "MECÂNICO DE MANUTENÇÃO",
         "PR",
         "TUNAS DO PARANÁ",
         1,
         "NÃO ELEITO",
         80000.0
        ],
        [
         250001100745,
         "ROSE LEILA RODASLI CHUERE",
         "ROSE LEILA",
         2020,
         "MUNICIPAL",
         "2020-11-15",
         53450779834,
         156241700167,
         "VEREADOR",
         "INAPTO",
         "PMB",
         "PARTIDO DA MULHER BRASILEIRA",
         "SP",
         "1954-01-11",
         "FEMININO",
         "BRANCA",
         "SUPERIOR COMPLETO",
         "SOLTEIRO(A)",
         "APOSENTADO (EXCETO SERVIDOR PÚBLICO)",
         "SP",
         "SÃO PAULO",
         1,
         "NÃO ELEITO",
         4000000.0
        ],
        [
         250000984468,
         "JOSÉ AMILTON CORREA",
         "BIKUIRA",
         2020,
         "MUNICIPAL",
         "2020-11-15",
         26595781840,
         180429580124,
         "VEREADOR",
         "APTO",
         "PSDB",
         "PARTIDO DA SOCIAL DEMOCRACIA BRASILEIRA",
         "PR",
         "1972-08-17",
         "MASCULINO",
         "BRANCA",
         "ENSINO MÉDIO COMPLETO",
         "CASADO(A)",
         "TRABALHADOR METALÚRGICO E SIDERÚRGICO",
         "SP",
         "SANTA BRANCA",
         1,
         "SUPLENTE",
         33000.0
        ],
        [
         160000869858,
         "JOSÉ PINTO DE OLIVEIRA",
         "ZÉ DE OLIVEIRA DO GÁS",
         2020,
         "MUNICIPAL",
         "2020-11-15",
         10132848953,
         34885470612,
         "VEREADOR",
         "APTO",
         "PSL",
         "PARTIDO SOCIAL LIBERAL",
         "MG",
         "1951-06-25",
         "MASCULINO",
         "BRANCA",
         "LÊ E ESCREVE",
         "CASADO(A)",
         "COMERCIANTE",
         "PR",
         "FAXINAL",
         1,
         "SUPLENTE",
         253535.9
        ],
        [
         130000888282,
         "EVERALDO MACEDO DOS SANTOS",
         "EVERALDO DE ZÉ RODOVIÁRIA",
         2020,
         "MUNICIPAL",
         "2020-11-15",
         6747192630,
         146298280248,
         "VEREADOR",
         "APTO",
         "PTB",
         "PARTIDO TRABALHISTA BRASILEIRO",
         "MG",
         "1984-08-14",
         "MASCULINO",
         "PRETA",
         "ENSINO FUNDAMENTAL COMPLETO",
         "CASADO(A)",
         "OUTROS",
         "MG",
         "MONTALVÂNIA",
         1,
         "SUPLENTE",
         228000.0
        ],
        [
         250001123247,
         "ADILSON ADRIANO SALES DE SOUZA CARVALHO AMADEU",
         "DR ADILSON CARVALHO",
         2020,
         "MUNICIPAL",
         "2020-11-15",
         28254810842,
         251049250167,
         "VEREADOR",
         "INAPTO",
         "PSB",
         "PARTIDO SOCIALISTA BRASILEIRO",
         "SP",
         "1974-10-02",
         "MASCULINO",
         "BRANCA",
         "SUPERIOR COMPLETO",
         "SOLTEIRO(A)",
         "ADVOGADO",
         "SP",
         "SÃO PAULO",
         1,
         "NÃO ELEITO",
         0.0
        ],
        [
         160000939823,
         "JOAQUIM RODRIGUES NOVO",
         "JOAQUIM RODRIGUES",
         2020,
         "MUNICIPAL",
         "2020-11-15",
         59857307949,
         25950160698,
         "VEREADOR",
         "APTO",
         "PL",
         "PARTIDO LIBERAL",
         "PR",
         "1967-09-12",
         "MASCULINO",
         "BRANCA",
         "ENSINO MÉDIO COMPLETO",
         "CASADO(A)",
         "AGRICULTOR",
         "PR",
         "FÊNIX",
         1,
         "ELEITO POR QP",
         322633.93
        ]
       ],
       "datasetInfos": [],
       "dbfsResultPath": null,
       "isJsonSchema": true,
       "metadata": {},
       "overflow": false,
       "plotOptions": {
        "customPlotOptions": {},
        "displayType": "table",
        "pivotAggregation": null,
        "pivotColumns": null,
        "xColumns": null,
        "yColumns": null
       },
       "removedWidgets": [],
       "schema": [
        {
         "metadata": "{\"comment\":\"Unique identifier for each candidate per year\"}",
         "name": "SQ_CANDIDATO",
         "type": "\"long\""
        },
        {
         "metadata": "{\"comment\":\"Name of the candidate\",\"__CHAR_VARCHAR_TYPE_STRING\":\"varchar(200)\"}",
         "name": "NM_CANDIDATO",
         "type": "\"string\""
        },
        {
         "metadata": "{\"comment\":\"Name of the candidate that apperars in ballot box\",\"__CHAR_VARCHAR_TYPE_STRING\":\"varchar(200)\"}",
         "name": "NM_URNA_CANDIDATO",
         "type": "\"string\""
        },
        {
         "metadata": "{\"comment\":\"Year of the election\"}",
         "name": "ANO_ELEICAO",
         "type": "\"long\""
        },
        {
         "metadata": "{\"comment\":\"Type of election (Municipal or Presidencial)\",\"__CHAR_VARCHAR_TYPE_STRING\":\"varchar(100)\"}",
         "name": "TP_ABRANGENCIA",
         "type": "\"string\""
        },
        {
         "metadata": "{\"comment\":\"Date of the election, for some can be either the first or the second round\"}",
         "name": "DT_ELEICAO",
         "type": "\"date\""
        },
        {
         "metadata": "{\"comment\":\"Identity of the candidate\"}",
         "name": "NR_CPF_CANDIDATO",
         "type": "\"long\""
        },
        {
         "metadata": "{\"comment\":\"Electoral Identity of the candidate\"}",
         "name": "NR_TITULO_ELEITORAL_CANDIDATO",
         "type": "\"long\""
        },
        {
         "metadata": "{\"comment\":\"Position of dispute\",\"__CHAR_VARCHAR_TYPE_STRING\":\"varchar(100)\"}",
         "name": "DS_CARGO",
         "type": "\"string\""
        },
        {
         "metadata": "{\"comment\":\"Situation of the candidature (APTO, CADASTRADO, INAPTO)\",\"__CHAR_VARCHAR_TYPE_STRING\":\"varchar(100)\"}",
         "name": "DS_SITUACAO_CANDIDATURA",
         "type": "\"string\""
        },
        {
         "metadata": "{\"comment\":\"Abreviation of the name of the political party\",\"__CHAR_VARCHAR_TYPE_STRING\":\"varchar(50)\"}",
         "name": "SG_PARTIDO",
         "type": "\"string\""
        },
        {
         "metadata": "{\"comment\":\"Name of the political party\",\"__CHAR_VARCHAR_TYPE_STRING\":\"varchar(100)\"}",
         "name": "NM_PARTIDO",
         "type": "\"string\""
        },
        {
         "metadata": "{\"comment\":\"Abreviation of the name of the state of bitht of the candidate\",\"__CHAR_VARCHAR_TYPE_STRING\":\"varchar(50)\"}",
         "name": "SG_UF_NASCIMENTO",
         "type": "\"string\""
        },
        {
         "metadata": "{\"comment\":\"Date of birth of the candidate\"}",
         "name": "DT_NASCIMENTO",
         "type": "\"date\""
        },
        {
         "metadata": "{\"comment\":\"Gender of the candidate (MASCULINO, FEMININO, NÃO DIVULGÁVEL)\",\"__CHAR_VARCHAR_TYPE_STRING\":\"varchar(100)\"}",
         "name": "DS_GENERO",
         "type": "\"string\""
        },
        {
         "metadata": "{\"comment\":\"Etinity Race of the candidate (AMARELA, BRANCA, INDÍGENA, NÃO DIVULGÁVEL, PARDA, PRETA)\",\"__CHAR_VARCHAR_TYPE_STRING\":\"varchar(100)\"}",
         "name": "DS_COR_RACA",
         "type": "\"string\""
        },
        {
         "metadata": "{\"comment\":\"Education Degree of the candidate (ENSINO FUNDAMENTAL COMPLETO, ENSINO FUNDAMENTAL INCOMPLETO, ENSINO MÉDIO COMPLETO, ENSINO MÉDIO INCOMPLETO, LÊ E ESCREVE, NÃO DIVULGÁVEL, SUPERIOR  \\n        COMPLETO, SUPERIOR INCOMPLETO)\",\"__CHAR_VARCHAR_TYPE_STRING\":\"varchar(100)\"}",
         "name": "DS_GRAU_INSTRUCAO",
         "type": "\"string\""
        },
        {
         "metadata": "{\"comment\":\"Marital Status of the candidate (CASADO(A), DIVORCIADO(A), NÃO DIVULGÁVEL, SEPARADO(A) JUDICIALMENTE, SOLTEIRO(A), VIÚVO(A))\",\"__CHAR_VARCHAR_TYPE_STRING\":\"varchar(100)\"}",
         "name": "DS_ESTADO_CIVIL",
         "type": "\"string\""
        },
        {
         "metadata": "{\"comment\":\"Occupation of the candidate\",\"__CHAR_VARCHAR_TYPE_STRING\":\"varchar(200)\"}",
         "name": "DS_OCUPACAO",
         "type": "\"string\""
        },
        {
         "metadata": "{\"comment\":\"State of dispute\",\"__CHAR_VARCHAR_TYPE_STRING\":\"varchar(200)\"}",
         "name": "SG_UF",
         "type": "\"string\""
        },
        {
         "metadata": "{\"comment\":\"District of dispute\",\"__CHAR_VARCHAR_TYPE_STRING\":\"varchar(200)\"}",
         "name": "NM_UE",
         "type": "\"string\""
        },
        {
         "metadata": "{\"comment\":\"Last round of dispute\"}",
         "name": "NR_TURNO",
         "type": "\"long\""
        },
        {
         "metadata": "{\"comment\":\"Status of the electoral dispute\",\"__CHAR_VARCHAR_TYPE_STRING\":\"varchar(200)\"}",
         "name": "DS_SIT_TOT_TURNO",
         "type": "\"string\""
        },
        {
         "metadata": "{\"comment\":\"Total amount owned of the candidate\"}",
         "name": "VR_BEM_CANDIDATO",
         "type": "\"double\""
        }
       ],
       "type": "table"
      }
     },
     "output_type": "display_data"
    }
   ],
   "source": [
    "%sql\n",
    "\n",
    "SELECT \n",
    "*\n",
    "FROM \n",
    "  eleicao_gold.candidatos\n",
    "LIMIT 10"
   ]
  },
  {
   "cell_type": "code",
   "execution_count": 0,
   "metadata": {
    "application/vnd.databricks.v1+cell": {
     "cellMetadata": {
      "byteLimit": 2048000,
      "implicitDf": true,
      "rowLimit": 10000
     },
     "inputWidgets": {},
     "nuid": "819e5bef-6492-4c84-befa-cf139d094527",
     "showTitle": false,
     "tableResultSettingsMap": {},
     "title": ""
    }
   },
   "outputs": [
    {
     "output_type": "display_data",
     "data": {
      "text/html": [
       "<style scoped>\n",
       "  .table-result-container {\n",
       "    max-height: 300px;\n",
       "    overflow: auto;\n",
       "  }\n",
       "  table, th, td {\n",
       "    border: 1px solid black;\n",
       "    border-collapse: collapse;\n",
       "  }\n",
       "  th, td {\n",
       "    padding: 5px;\n",
       "  }\n",
       "  th {\n",
       "    text-align: left;\n",
       "  }\n",
       "</style><div class='table-result-container'><table class='table-result'><thead style='background-color: white'><tr><th>VALIDATION</th></tr></thead><tbody><tr><td>617061</td></tr></tbody></table></div>"
      ]
     },
     "metadata": {
      "application/vnd.databricks.v1+output": {
       "addedWidgets": {},
       "aggData": [],
       "aggError": "",
       "aggOverflow": false,
       "aggSchema": [],
       "aggSeriesLimitReached": false,
       "aggType": "",
       "arguments": {},
       "columnCustomDisplayInfos": {},
       "data": [
        [
         617061
        ]
       ],
       "datasetInfos": [],
       "dbfsResultPath": null,
       "isJsonSchema": true,
       "metadata": {},
       "overflow": false,
       "plotOptions": {
        "customPlotOptions": {},
        "displayType": "table",
        "pivotAggregation": null,
        "pivotColumns": null,
        "xColumns": null,
        "yColumns": null
       },
       "removedWidgets": [],
       "schema": [
        {
         "metadata": "{}",
         "name": "VALIDATION",
         "type": "\"long\""
        }
       ],
       "type": "table"
      }
     },
     "output_type": "display_data"
    }
   ],
   "source": [
    "%sql\n",
    "SELECT\n",
    "  COUNT(*) AS VALIDATION\n",
    "FROM \n",
    "  eleicao_silver.candidatos"
   ]
  },
  {
   "cell_type": "code",
   "execution_count": 0,
   "metadata": {
    "application/vnd.databricks.v1+cell": {
     "cellMetadata": {
      "byteLimit": 2048000,
      "implicitDf": true,
      "rowLimit": 10000
     },
     "inputWidgets": {},
     "nuid": "e7da60f8-97db-4a4d-a015-a36e14d11a60",
     "showTitle": false,
     "tableResultSettingsMap": {},
     "title": ""
    }
   },
   "outputs": [
    {
     "output_type": "display_data",
     "data": {
      "text/html": [
       "<style scoped>\n",
       "  .table-result-container {\n",
       "    max-height: 300px;\n",
       "    overflow: auto;\n",
       "  }\n",
       "  table, th, td {\n",
       "    border: 1px solid black;\n",
       "    border-collapse: collapse;\n",
       "  }\n",
       "  th, td {\n",
       "    padding: 5px;\n",
       "  }\n",
       "  th {\n",
       "    text-align: left;\n",
       "  }\n",
       "</style><div class='table-result-container'><table class='table-result'><thead style='background-color: white'><tr><th>VALIDATION</th></tr></thead><tbody><tr><td>617061</td></tr></tbody></table></div>"
      ]
     },
     "metadata": {
      "application/vnd.databricks.v1+output": {
       "addedWidgets": {},
       "aggData": [],
       "aggError": "",
       "aggOverflow": false,
       "aggSchema": [],
       "aggSeriesLimitReached": false,
       "aggType": "",
       "arguments": {},
       "columnCustomDisplayInfos": {},
       "data": [
        [
         617061
        ]
       ],
       "datasetInfos": [],
       "dbfsResultPath": null,
       "isJsonSchema": true,
       "metadata": {},
       "overflow": false,
       "plotOptions": {
        "customPlotOptions": {},
        "displayType": "table",
        "pivotAggregation": null,
        "pivotColumns": null,
        "xColumns": null,
        "yColumns": null
       },
       "removedWidgets": [],
       "schema": [
        {
         "metadata": "{}",
         "name": "VALIDATION",
         "type": "\"long\""
        }
       ],
       "type": "table"
      }
     },
     "output_type": "display_data"
    }
   ],
   "source": [
    "%sql\n",
    "SELECT\n",
    "  COUNT(*) AS VALIDATION\n",
    "FROM \n",
    "  eleicao_gold.candidatos"
   ]
  },
  {
   "cell_type": "markdown",
   "metadata": {
    "application/vnd.databricks.v1+cell": {
     "cellMetadata": {},
     "inputWidgets": {},
     "nuid": "2903be3f-b4f6-4277-94ba-5bd4ea9f21e7",
     "showTitle": false,
     "tableResultSettingsMap": {},
     "title": ""
    }
   },
   "source": [
    "Como validação as quantidades de linhas das tabelas silver e gold, devem ser as mesmas."
   ]
  },
  {
   "cell_type": "markdown",
   "metadata": {
    "application/vnd.databricks.v1+cell": {
     "cellMetadata": {},
     "inputWidgets": {},
     "nuid": "e3a21ac5-2859-42f3-a2c4-96f601cb133f",
     "showTitle": false,
     "tableResultSettingsMap": {},
     "title": ""
    }
   },
   "source": [
    "%md\n",
    "**Tabela \"Bens\" descritiva particionada por ano e tipo de bem**:\n",
    "\n",
    "Nessa tabela foram encontrados 50 ocorrências com \"SQ_CANDIDATO\" nulos, serão desconsideradas nas tabelas gold "
   ]
  },
  {
   "cell_type": "code",
   "execution_count": 0,
   "metadata": {
    "application/vnd.databricks.v1+cell": {
     "cellMetadata": {
      "byteLimit": 2048000,
      "implicitDf": true,
      "rowLimit": 10000
     },
     "inputWidgets": {},
     "nuid": "43e9ff9a-a92e-434d-bd1d-919797ccd563",
     "showTitle": false,
     "tableResultSettingsMap": {},
     "title": ""
    }
   },
   "outputs": [
    {
     "output_type": "display_data",
     "data": {
      "text/html": [
       "<style scoped>\n",
       "  .table-result-container {\n",
       "    max-height: 300px;\n",
       "    overflow: auto;\n",
       "  }\n",
       "  table, th, td {\n",
       "    border: 1px solid black;\n",
       "    border-collapse: collapse;\n",
       "  }\n",
       "  th, td {\n",
       "    padding: 5px;\n",
       "  }\n",
       "  th {\n",
       "    text-align: left;\n",
       "  }\n",
       "</style><div class='table-result-container'><table class='table-result'><thead style='background-color: white'><tr><th>contagem</th></tr></thead><tbody><tr><td>50</td></tr></tbody></table></div>"
      ]
     },
     "metadata": {
      "application/vnd.databricks.v1+output": {
       "addedWidgets": {},
       "aggData": [],
       "aggError": "",
       "aggOverflow": false,
       "aggSchema": [],
       "aggSeriesLimitReached": false,
       "aggType": "",
       "arguments": {},
       "columnCustomDisplayInfos": {},
       "data": [
        [
         50
        ]
       ],
       "datasetInfos": [],
       "dbfsResultPath": null,
       "isJsonSchema": true,
       "metadata": {},
       "overflow": false,
       "plotOptions": {
        "customPlotOptions": {},
        "displayType": "table",
        "pivotAggregation": null,
        "pivotColumns": null,
        "xColumns": null,
        "yColumns": null
       },
       "removedWidgets": [],
       "schema": [
        {
         "metadata": "{}",
         "name": "contagem",
         "type": "\"long\""
        }
       ],
       "type": "table"
      }
     },
     "output_type": "display_data"
    }
   ],
   "source": [
    "%sql\n",
    "SELECT\n",
    "      COUNT(*) contagem\n",
    "FROM \n",
    "    eleicao_silver.bens_candidatos_tipo\n",
    "WHERE \n",
    "   SQ_CANDIDATO IS NULL"
   ]
  },
  {
   "cell_type": "code",
   "execution_count": 0,
   "metadata": {
    "application/vnd.databricks.v1+cell": {
     "cellMetadata": {
      "byteLimit": 2048000,
      "rowLimit": 10000
     },
     "inputWidgets": {},
     "nuid": "4290840a-a36d-455a-92bd-30e51dda879a",
     "showTitle": false,
     "tableResultSettingsMap": {},
     "title": ""
    }
   },
   "outputs": [
    {
     "output_type": "display_data",
     "data": {
      "text/html": [
       "<style scoped>\n",
       "  .table-result-container {\n",
       "    max-height: 300px;\n",
       "    overflow: auto;\n",
       "  }\n",
       "  table, th, td {\n",
       "    border: 1px solid black;\n",
       "    border-collapse: collapse;\n",
       "  }\n",
       "  th, td {\n",
       "    padding: 5px;\n",
       "  }\n",
       "  th {\n",
       "    text-align: left;\n",
       "  }\n",
       "</style><div class='table-result-container'><table class='table-result'><thead style='background-color: white'><tr><th>SQ_CANDIDATO</th><th>ANO_ELEICAO</th><th>CD_TIPO_BEM_CANDIDATO</th><th>DS_TIPO_BEM_CANDIDATO</th><th>VR_BEM_CANDIDATO</th></tr></thead><tbody><tr><td>210000773759</td><td>2020</td><td>45</td><td>Aplicação de renda fixa (CDB, RDB e outros)</td><td>2765.67</td></tr><tr><td>210000773942</td><td>2020</td><td>45</td><td>Aplicação de renda fixa (CDB, RDB e outros)</td><td>4886.7699999999995</td></tr><tr><td>160000924651</td><td>2020</td><td>13</td><td>Terreno</td><td>30000.0</td></tr><tr><td>130000778579</td><td>2020</td><td>13</td><td>Terreno</td><td>30000.0</td></tr><tr><td>160001145428</td><td>2020</td><td>26</td><td>Linha telefônica</td><td>3909.46</td></tr><tr><td>130000963313</td><td>2020</td><td>32</td><td>Quotas ou quinhões de capital</td><td>4000.0</td></tr><tr><td>160000877803</td><td>2020</td><td>13</td><td>Terreno</td><td>25000.0</td></tr><tr><td>130000826790</td><td>2020</td><td>32</td><td>Quotas ou quinhões de capital</td><td>500000.0</td></tr><tr><td>60000984156</td><td>2020</td><td>45</td><td>Aplicação de renda fixa (CDB, RDB e outros)</td><td>11590.14</td></tr><tr><td>170000650492</td><td>2020</td><td>13</td><td>Terreno</td><td>12000.0</td></tr></tbody></table></div>"
      ]
     },
     "metadata": {
      "application/vnd.databricks.v1+output": {
       "addedWidgets": {},
       "aggData": [],
       "aggError": "",
       "aggOverflow": false,
       "aggSchema": [],
       "aggSeriesLimitReached": false,
       "aggType": "",
       "arguments": {},
       "columnCustomDisplayInfos": {},
       "data": [
        [
         210000773759,
         2020,
         45,
         "Aplicação de renda fixa (CDB, RDB e outros)",
         2765.67
        ],
        [
         210000773942,
         2020,
         45,
         "Aplicação de renda fixa (CDB, RDB e outros)",
         4886.7699999999995
        ],
        [
         160000924651,
         2020,
         13,
         "Terreno",
         30000.0
        ],
        [
         130000778579,
         2020,
         13,
         "Terreno",
         30000.0
        ],
        [
         160001145428,
         2020,
         26,
         "Linha telefônica",
         3909.46
        ],
        [
         130000963313,
         2020,
         32,
         "Quotas ou quinhões de capital",
         4000.0
        ],
        [
         160000877803,
         2020,
         13,
         "Terreno",
         25000.0
        ],
        [
         130000826790,
         2020,
         32,
         "Quotas ou quinhões de capital",
         500000.0
        ],
        [
         60000984156,
         2020,
         45,
         "Aplicação de renda fixa (CDB, RDB e outros)",
         11590.14
        ],
        [
         170000650492,
         2020,
         13,
         "Terreno",
         12000.0
        ]
       ],
       "datasetInfos": [],
       "dbfsResultPath": null,
       "isJsonSchema": true,
       "metadata": {},
       "overflow": false,
       "plotOptions": {
        "customPlotOptions": {},
        "displayType": "table",
        "pivotAggregation": null,
        "pivotColumns": null,
        "xColumns": null,
        "yColumns": null
       },
       "removedWidgets": [],
       "schema": [
        {
         "metadata": "{}",
         "name": "SQ_CANDIDATO",
         "type": "\"long\""
        },
        {
         "metadata": "{}",
         "name": "ANO_ELEICAO",
         "type": "\"long\""
        },
        {
         "metadata": "{}",
         "name": "CD_TIPO_BEM_CANDIDATO",
         "type": "\"long\""
        },
        {
         "metadata": "{}",
         "name": "DS_TIPO_BEM_CANDIDATO",
         "type": "\"string\""
        },
        {
         "metadata": "{}",
         "name": "VR_BEM_CANDIDATO",
         "type": "\"double\""
        }
       ],
       "type": "table"
      }
     },
     "output_type": "display_data"
    }
   ],
   "source": [
    "#df bens candidatos \n",
    "df = sqlContext.sql(\"\"\"\n",
    "    SELECT\n",
    "         SQ_CANDIDATO\n",
    "        ,ANO_ELEICAO\n",
    "        ,CD_TIPO_BEM_CANDIDATO\n",
    "        ,DS_TIPO_BEM_CANDIDATO\n",
    "        ,VR_BEM_CANDIDATO\n",
    "    FROM \n",
    "        eleicao_silver.bens_candidatos_tipo\n",
    "    WHERE \n",
    "        SQ_CANDIDATO IS NOT NULL\n",
    "    \"\"\" )\n",
    "df.limit(10).display()"
   ]
  },
  {
   "cell_type": "code",
   "execution_count": 0,
   "metadata": {
    "application/vnd.databricks.v1+cell": {
     "cellMetadata": {
      "byteLimit": 2048000,
      "implicitDf": true,
      "rowLimit": 10000
     },
     "inputWidgets": {},
     "nuid": "f11b27a2-86f6-4567-83b2-3bd01a3a71ce",
     "showTitle": false,
     "tableResultSettingsMap": {},
     "title": ""
    }
   },
   "outputs": [
    {
     "output_type": "display_data",
     "data": {
      "text/html": [
       "<style scoped>\n",
       "  .table-result-container {\n",
       "    max-height: 300px;\n",
       "    overflow: auto;\n",
       "  }\n",
       "  table, th, td {\n",
       "    border: 1px solid black;\n",
       "    border-collapse: collapse;\n",
       "  }\n",
       "  th, td {\n",
       "    padding: 5px;\n",
       "  }\n",
       "  th {\n",
       "    text-align: left;\n",
       "  }\n",
       "</style><div class='table-result-container'><table class='table-result'><thead style='background-color: white'><tr></tr></thead><tbody></tbody></table></div>"
      ]
     },
     "metadata": {
      "application/vnd.databricks.v1+output": {
       "addedWidgets": {},
       "aggData": [],
       "aggError": "",
       "aggOverflow": false,
       "aggSchema": [],
       "aggSeriesLimitReached": false,
       "aggType": "",
       "arguments": {},
       "columnCustomDisplayInfos": {},
       "data": [],
       "datasetInfos": [],
       "dbfsResultPath": null,
       "isJsonSchema": true,
       "metadata": {},
       "overflow": false,
       "plotOptions": {
        "customPlotOptions": {},
        "displayType": "table",
        "pivotAggregation": null,
        "pivotColumns": null,
        "xColumns": null,
        "yColumns": null
       },
       "removedWidgets": [],
       "schema": [],
       "type": "table"
      }
     },
     "output_type": "display_data"
    }
   ],
   "source": [
    "%sql\n",
    "\n",
    "CREATE OR REPLACE TABLE eleicao_gold.bens_candidatos_tipo ( \n",
    "     SQ_CANDIDATO BIGINT NOT NULL COMMENT 'Unique identifier for each candidate per year'\n",
    "    ,ANO_ELEICAO BIGINT NOT NULL COMMENT 'Year of the election'\n",
    "    ,CD_TIPO_BEM_CANDIDATO BIGINT COMMENT 'Types of heritage assets declared by the candidate'\n",
    "    ,DS_TIPO_BEM_CANDIDATO VARCHAR(200) COMMENT 'description of types of heritage assets declared by the candidate'\n",
    "    ,VR_BEM_CANDIDATO DOUBLE COMMENT 'Total amount owned of the candidate per type of asset'\n",
    ");"
   ]
  },
  {
   "cell_type": "code",
   "execution_count": 0,
   "metadata": {
    "application/vnd.databricks.v1+cell": {
     "cellMetadata": {
      "byteLimit": 2048000,
      "rowLimit": 10000
     },
     "inputWidgets": {},
     "nuid": "faa38a6b-d1bb-4a81-b517-a442f4a09d23",
     "showTitle": false,
     "tableResultSettingsMap": {},
     "title": ""
    }
   },
   "outputs": [],
   "source": [
    "#Tabela relacional bens por tipo (Gold) \n",
    "df.createOrReplaceTempView('bens_candidatos_tipo')\n",
    "\n",
    "permanent_table_name = \"eleicao_gold.bens_candidatos_tipo\"\n",
    "\n",
    "schema = 'eleicao_gold'\n",
    "\n",
    "df.write.format(\"delta\").option(\"mergeSchema\", \"true\").saveAsTable(permanent_table_name,mode='append')"
   ]
  },
  {
   "cell_type": "code",
   "execution_count": 0,
   "metadata": {
    "application/vnd.databricks.v1+cell": {
     "cellMetadata": {
      "byteLimit": 2048000,
      "implicitDf": true,
      "rowLimit": 10000
     },
     "inputWidgets": {},
     "nuid": "70fb79a4-cc2d-4497-8820-f1b13fb3180b",
     "showTitle": false,
     "tableResultSettingsMap": {},
     "title": ""
    }
   },
   "outputs": [
    {
     "output_type": "display_data",
     "data": {
      "text/html": [
       "<style scoped>\n",
       "  .table-result-container {\n",
       "    max-height: 300px;\n",
       "    overflow: auto;\n",
       "  }\n",
       "  table, th, td {\n",
       "    border: 1px solid black;\n",
       "    border-collapse: collapse;\n",
       "  }\n",
       "  th, td {\n",
       "    padding: 5px;\n",
       "  }\n",
       "  th {\n",
       "    text-align: left;\n",
       "  }\n",
       "</style><div class='table-result-container'><table class='table-result'><thead style='background-color: white'><tr><th>SQ_CANDIDATO</th><th>ANO_ELEICAO</th><th>CD_TIPO_BEM_CANDIDATO</th><th>DS_TIPO_BEM_CANDIDATO</th><th>VR_BEM_CANDIDATO</th></tr></thead><tbody><tr><td>160001144090</td><td>2020</td><td>13</td><td>Terreno</td><td>0.0</td></tr><tr><td>130000795365</td><td>2020</td><td>19</td><td>Outros bens imóveis</td><td>50000.0</td></tr><tr><td>50001061515</td><td>2020</td><td>19</td><td>Outros bens imóveis</td><td>9000.0</td></tr><tr><td>160001204549</td><td>2020</td><td>13</td><td>Terreno</td><td>350000.0</td></tr><tr><td>130000827854</td><td>2020</td><td>13</td><td>Terreno</td><td>50000.0</td></tr><tr><td>130000843073</td><td>2020</td><td>19</td><td>Outros bens imóveis</td><td>50000.0</td></tr><tr><td>60000984399</td><td>2020</td><td>13</td><td>Terreno</td><td>25000.0</td></tr><tr><td>60001243623</td><td>2020</td><td>13</td><td>Terreno</td><td>28000.0</td></tr><tr><td>160000782330</td><td>2020</td><td>45</td><td>Aplicação de renda fixa (CDB, RDB e outros)</td><td>13791.05</td></tr><tr><td>190000636318</td><td>2020</td><td>13</td><td>Terreno</td><td>98000.0</td></tr></tbody></table></div>"
      ]
     },
     "metadata": {
      "application/vnd.databricks.v1+output": {
       "addedWidgets": {},
       "aggData": [],
       "aggError": "",
       "aggOverflow": false,
       "aggSchema": [],
       "aggSeriesLimitReached": false,
       "aggType": "",
       "arguments": {},
       "columnCustomDisplayInfos": {},
       "data": [
        [
         160001144090,
         2020,
         13,
         "Terreno",
         0.0
        ],
        [
         130000795365,
         2020,
         19,
         "Outros bens imóveis",
         50000.0
        ],
        [
         50001061515,
         2020,
         19,
         "Outros bens imóveis",
         9000.0
        ],
        [
         160001204549,
         2020,
         13,
         "Terreno",
         350000.0
        ],
        [
         130000827854,
         2020,
         13,
         "Terreno",
         50000.0
        ],
        [
         130000843073,
         2020,
         19,
         "Outros bens imóveis",
         50000.0
        ],
        [
         60000984399,
         2020,
         13,
         "Terreno",
         25000.0
        ],
        [
         60001243623,
         2020,
         13,
         "Terreno",
         28000.0
        ],
        [
         160000782330,
         2020,
         45,
         "Aplicação de renda fixa (CDB, RDB e outros)",
         13791.05
        ],
        [
         190000636318,
         2020,
         13,
         "Terreno",
         98000.0
        ]
       ],
       "datasetInfos": [],
       "dbfsResultPath": null,
       "isJsonSchema": true,
       "metadata": {},
       "overflow": false,
       "plotOptions": {
        "customPlotOptions": {},
        "displayType": "table",
        "pivotAggregation": null,
        "pivotColumns": null,
        "xColumns": null,
        "yColumns": null
       },
       "removedWidgets": [],
       "schema": [
        {
         "metadata": "{\"comment\":\"Unique identifier for each candidate per year\"}",
         "name": "SQ_CANDIDATO",
         "type": "\"long\""
        },
        {
         "metadata": "{\"comment\":\"Year of the election\"}",
         "name": "ANO_ELEICAO",
         "type": "\"long\""
        },
        {
         "metadata": "{\"comment\":\"Types of heritage assets declared by the candidate\"}",
         "name": "CD_TIPO_BEM_CANDIDATO",
         "type": "\"long\""
        },
        {
         "metadata": "{\"comment\":\"description of types of heritage assets declared by the candidate\",\"__CHAR_VARCHAR_TYPE_STRING\":\"varchar(200)\"}",
         "name": "DS_TIPO_BEM_CANDIDATO",
         "type": "\"string\""
        },
        {
         "metadata": "{\"comment\":\"Total amount owned of the candidate per type of asset\"}",
         "name": "VR_BEM_CANDIDATO",
         "type": "\"double\""
        }
       ],
       "type": "table"
      }
     },
     "output_type": "display_data"
    }
   ],
   "source": [
    "%sql\n",
    "SELECT \n",
    "    *\n",
    "FROM \n",
    "  eleicao_gold.bens_candidatos_tipo\n",
    "LIMIT 10"
   ]
  },
  {
   "cell_type": "code",
   "execution_count": 0,
   "metadata": {
    "application/vnd.databricks.v1+cell": {
     "cellMetadata": {
      "byteLimit": 2048000,
      "implicitDf": true,
      "rowLimit": 10000
     },
     "inputWidgets": {},
     "nuid": "7cd00e4b-f32d-4928-8735-f1ea0f09a948",
     "showTitle": false,
     "tableResultSettingsMap": {},
     "title": ""
    }
   },
   "outputs": [
    {
     "output_type": "display_data",
     "data": {
      "text/html": [
       "<style scoped>\n",
       "  .table-result-container {\n",
       "    max-height: 300px;\n",
       "    overflow: auto;\n",
       "  }\n",
       "  table, th, td {\n",
       "    border: 1px solid black;\n",
       "    border-collapse: collapse;\n",
       "  }\n",
       "  th, td {\n",
       "    padding: 5px;\n",
       "  }\n",
       "  th {\n",
       "    text-align: left;\n",
       "  }\n",
       "</style><div class='table-result-container'><table class='table-result'><thead style='background-color: white'><tr><th>SQ_CANDIDATO</th><th>NM_CANDIDATO</th><th>NM_URNA_CANDIDATO</th><th>ANO_ELEICAO</th><th>TP_ABRANGENCIA</th><th>DT_ELEICAO</th><th>NR_CPF_CANDIDATO</th><th>NR_TITULO_ELEITORAL_CANDIDATO</th><th>DS_CARGO</th><th>DS_SITUACAO_CANDIDATURA</th><th>SG_PARTIDO</th><th>NM_PARTIDO</th><th>SG_UF_NASCIMENTO</th><th>DT_NASCIMENTO</th><th>DS_GENERO</th><th>DS_COR_RACA</th><th>DS_GRAU_INSTRUCAO</th><th>DS_ESTADO_CIVIL</th><th>DS_OCUPACAO</th><th>SG_UF</th><th>NM_UE</th><th>NR_TURNO</th><th>DS_SIT_TOT_TURNO</th><th>VR_BEM_CANDIDATO</th></tr></thead><tbody><tr><td>150000676096</td><td>RUY MANUEL CARNEIRO BARBOSA DE AÇA BELCHIOR</td><td>RUY CARNEIRO</td><td>2020</td><td>MUNICIPAL</td><td>2020-11-15</td><td>1859237711</td><td>19327891279</td><td>PREFEITO</td><td>APTO</td><td>PSDB</td><td>PARTIDO DA SOCIAL DEMOCRACIA BRASILEIRA</td><td>RJ</td><td>1970-08-17</td><td>MASCULINO</td><td>BRANCA</td><td>SUPERIOR COMPLETO</td><td>CASADO(A)</td><td>DEPUTADO</td><td>PB</td><td>JOÃO PESSOA</td><td>1</td><td>NÃO ELEITO</td><td>649968.67</td></tr><tr><td>150000612366</td><td>RUY MANUEL CARNEIRO BARBOSA DE AÇA BELCHIOR</td><td>RUY CARNEIRO</td><td>2018</td><td>ESTADUAL</td><td>2018-10-07</td><td>1859237711</td><td>19327891279</td><td>DEPUTADO FEDERAL</td><td>APTO</td><td>PSDB</td><td>PARTIDO DA SOCIAL DEMOCRACIA BRASILEIRA</td><td>RJ</td><td>1970-08-17</td><td>MASCULINO</td><td>BRANCA</td><td>SUPERIOR COMPLETO</td><td>CASADO(A)</td><td>OUTROS</td><td>PB</td><td>PARAÍBA</td><td>1</td><td>ELEITO POR MÉDIA</td><td>586284.8200000001</td></tr><tr><td>150001612089</td><td>RUY MANUEL CARNEIRO BARBOSA DE AÇA BELCHIOR</td><td>RUY CARNEIRO</td><td>2022</td><td>ESTADUAL</td><td>2022-10-02</td><td>1859237711</td><td>19327891279</td><td>DEPUTADO FEDERAL</td><td>APTO</td><td>PSC</td><td>PARTIDO SOCIAL CRISTÃO</td><td>RJ</td><td>1970-08-17</td><td>MASCULINO</td><td>BRANCA</td><td>SUPERIOR COMPLETO</td><td>CASADO(A)</td><td>DEPUTADO</td><td>PB</td><td>PARAÍBA</td><td>1</td><td>ELEITO POR MÉDIA</td><td>0.0</td></tr></tbody></table></div>"
      ]
     },
     "metadata": {
      "application/vnd.databricks.v1+output": {
       "addedWidgets": {},
       "aggData": [],
       "aggError": "",
       "aggOverflow": false,
       "aggSchema": [],
       "aggSeriesLimitReached": false,
       "aggType": "",
       "arguments": {},
       "columnCustomDisplayInfos": {},
       "data": [
        [
         150000676096,
         "RUY MANUEL CARNEIRO BARBOSA DE AÇA BELCHIOR",
         "RUY CARNEIRO",
         2020,
         "MUNICIPAL",
         "2020-11-15",
         1859237711,
         19327891279,
         "PREFEITO",
         "APTO",
         "PSDB",
         "PARTIDO DA SOCIAL DEMOCRACIA BRASILEIRA",
         "RJ",
         "1970-08-17",
         "MASCULINO",
         "BRANCA",
         "SUPERIOR COMPLETO",
         "CASADO(A)",
         "DEPUTADO",
         "PB",
         "JOÃO PESSOA",
         1,
         "NÃO ELEITO",
         649968.67
        ],
        [
         150000612366,
         "RUY MANUEL CARNEIRO BARBOSA DE AÇA BELCHIOR",
         "RUY CARNEIRO",
         2018,
         "ESTADUAL",
         "2018-10-07",
         1859237711,
         19327891279,
         "DEPUTADO FEDERAL",
         "APTO",
         "PSDB",
         "PARTIDO DA SOCIAL DEMOCRACIA BRASILEIRA",
         "RJ",
         "1970-08-17",
         "MASCULINO",
         "BRANCA",
         "SUPERIOR COMPLETO",
         "CASADO(A)",
         "OUTROS",
         "PB",
         "PARAÍBA",
         1,
         "ELEITO POR MÉDIA",
         586284.8200000001
        ],
        [
         150001612089,
         "RUY MANUEL CARNEIRO BARBOSA DE AÇA BELCHIOR",
         "RUY CARNEIRO",
         2022,
         "ESTADUAL",
         "2022-10-02",
         1859237711,
         19327891279,
         "DEPUTADO FEDERAL",
         "APTO",
         "PSC",
         "PARTIDO SOCIAL CRISTÃO",
         "RJ",
         "1970-08-17",
         "MASCULINO",
         "BRANCA",
         "SUPERIOR COMPLETO",
         "CASADO(A)",
         "DEPUTADO",
         "PB",
         "PARAÍBA",
         1,
         "ELEITO POR MÉDIA",
         0.0
        ]
       ],
       "datasetInfos": [],
       "dbfsResultPath": null,
       "isJsonSchema": true,
       "metadata": {},
       "overflow": false,
       "plotOptions": {
        "customPlotOptions": {},
        "displayType": "table",
        "pivotAggregation": null,
        "pivotColumns": null,
        "xColumns": null,
        "yColumns": null
       },
       "removedWidgets": [],
       "schema": [
        {
         "metadata": "{\"comment\":\"Unique identifier for each candidate per year\"}",
         "name": "SQ_CANDIDATO",
         "type": "\"long\""
        },
        {
         "metadata": "{\"comment\":\"Name of the candidate\",\"__CHAR_VARCHAR_TYPE_STRING\":\"varchar(200)\"}",
         "name": "NM_CANDIDATO",
         "type": "\"string\""
        },
        {
         "metadata": "{\"comment\":\"Name of the candidate that apperars in ballot box\",\"__CHAR_VARCHAR_TYPE_STRING\":\"varchar(200)\"}",
         "name": "NM_URNA_CANDIDATO",
         "type": "\"string\""
        },
        {
         "metadata": "{\"comment\":\"Year of the election\"}",
         "name": "ANO_ELEICAO",
         "type": "\"long\""
        },
        {
         "metadata": "{\"comment\":\"Type of election (Municipal or Presidencial)\",\"__CHAR_VARCHAR_TYPE_STRING\":\"varchar(100)\"}",
         "name": "TP_ABRANGENCIA",
         "type": "\"string\""
        },
        {
         "metadata": "{\"comment\":\"Date of the election, for some can be either the first or the second round\"}",
         "name": "DT_ELEICAO",
         "type": "\"date\""
        },
        {
         "metadata": "{\"comment\":\"Identity of the candidate\"}",
         "name": "NR_CPF_CANDIDATO",
         "type": "\"long\""
        },
        {
         "metadata": "{\"comment\":\"Electoral Identity of the candidate\"}",
         "name": "NR_TITULO_ELEITORAL_CANDIDATO",
         "type": "\"long\""
        },
        {
         "metadata": "{\"comment\":\"Position of dispute\",\"__CHAR_VARCHAR_TYPE_STRING\":\"varchar(100)\"}",
         "name": "DS_CARGO",
         "type": "\"string\""
        },
        {
         "metadata": "{\"comment\":\"Situation of the candidature (APTO, CADASTRADO, INAPTO)\",\"__CHAR_VARCHAR_TYPE_STRING\":\"varchar(100)\"}",
         "name": "DS_SITUACAO_CANDIDATURA",
         "type": "\"string\""
        },
        {
         "metadata": "{\"comment\":\"Abreviation of the name of the political party\",\"__CHAR_VARCHAR_TYPE_STRING\":\"varchar(50)\"}",
         "name": "SG_PARTIDO",
         "type": "\"string\""
        },
        {
         "metadata": "{\"comment\":\"Name of the political party\",\"__CHAR_VARCHAR_TYPE_STRING\":\"varchar(100)\"}",
         "name": "NM_PARTIDO",
         "type": "\"string\""
        },
        {
         "metadata": "{\"comment\":\"Abreviation of the name of the state of bitht of the candidate\",\"__CHAR_VARCHAR_TYPE_STRING\":\"varchar(50)\"}",
         "name": "SG_UF_NASCIMENTO",
         "type": "\"string\""
        },
        {
         "metadata": "{\"comment\":\"Date of birth of the candidate\"}",
         "name": "DT_NASCIMENTO",
         "type": "\"date\""
        },
        {
         "metadata": "{\"comment\":\"Gender of the candidate (MASCULINO, FEMININO, NÃO DIVULGÁVEL)\",\"__CHAR_VARCHAR_TYPE_STRING\":\"varchar(100)\"}",
         "name": "DS_GENERO",
         "type": "\"string\""
        },
        {
         "metadata": "{\"comment\":\"Etinity Race of the candidate (AMARELA, BRANCA, INDÍGENA, NÃO DIVULGÁVEL, PARDA, PRETA)\",\"__CHAR_VARCHAR_TYPE_STRING\":\"varchar(100)\"}",
         "name": "DS_COR_RACA",
         "type": "\"string\""
        },
        {
         "metadata": "{\"comment\":\"Education Degree of the candidate (ENSINO FUNDAMENTAL COMPLETO, ENSINO FUNDAMENTAL INCOMPLETO, ENSINO MÉDIO COMPLETO, ENSINO MÉDIO INCOMPLETO, LÊ E ESCREVE, NÃO DIVULGÁVEL, SUPERIOR  \\n        COMPLETO, SUPERIOR INCOMPLETO)\",\"__CHAR_VARCHAR_TYPE_STRING\":\"varchar(100)\"}",
         "name": "DS_GRAU_INSTRUCAO",
         "type": "\"string\""
        },
        {
         "metadata": "{\"comment\":\"Marital Status of the candidate (CASADO(A), DIVORCIADO(A), NÃO DIVULGÁVEL, SEPARADO(A) JUDICIALMENTE, SOLTEIRO(A), VIÚVO(A))\",\"__CHAR_VARCHAR_TYPE_STRING\":\"varchar(100)\"}",
         "name": "DS_ESTADO_CIVIL",
         "type": "\"string\""
        },
        {
         "metadata": "{\"comment\":\"Occupation of the candidate\",\"__CHAR_VARCHAR_TYPE_STRING\":\"varchar(200)\"}",
         "name": "DS_OCUPACAO",
         "type": "\"string\""
        },
        {
         "metadata": "{\"comment\":\"State of dispute\",\"__CHAR_VARCHAR_TYPE_STRING\":\"varchar(200)\"}",
         "name": "SG_UF",
         "type": "\"string\""
        },
        {
         "metadata": "{\"comment\":\"District of dispute\",\"__CHAR_VARCHAR_TYPE_STRING\":\"varchar(200)\"}",
         "name": "NM_UE",
         "type": "\"string\""
        },
        {
         "metadata": "{\"comment\":\"Last round of dispute\"}",
         "name": "NR_TURNO",
         "type": "\"long\""
        },
        {
         "metadata": "{\"comment\":\"Status of the electoral dispute\",\"__CHAR_VARCHAR_TYPE_STRING\":\"varchar(200)\"}",
         "name": "DS_SIT_TOT_TURNO",
         "type": "\"string\""
        },
        {
         "metadata": "{\"comment\":\"Total amount owned of the candidate\"}",
         "name": "VR_BEM_CANDIDATO",
         "type": "\"double\""
        }
       ],
       "type": "table"
      }
     },
     "output_type": "display_data"
    }
   ],
   "source": [
    "%sql\n",
    "--validação \n",
    "SELECT \n",
    "    *\n",
    "FROM \n",
    "    eleicao_gold.candidatos\n",
    "WHERE \n",
    "    NR_CPF_CANDIDATO = 1859237711 --exemplo aleatório\n"
   ]
  },
  {
   "cell_type": "markdown",
   "metadata": {
    "application/vnd.databricks.v1+cell": {
     "cellMetadata": {},
     "inputWidgets": {},
     "nuid": "0686341d-9f83-4f46-8eb2-70e5c7712789",
     "showTitle": false,
     "tableResultSettingsMap": {},
     "title": ""
    }
   },
   "source": [
    "**Tabela para análise**\n",
    "\n",
    "Nesta tabela será disponibilizado os valores de evolução patrimonial para a análise a ser realizada.<br> \n",
    "A Estrutura dela será:\n"
   ]
  },
  {
   "cell_type": "code",
   "execution_count": 0,
   "metadata": {
    "application/vnd.databricks.v1+cell": {
     "cellMetadata": {
      "byteLimit": 2048000,
      "implicitDf": true,
      "rowLimit": 10000
     },
     "inputWidgets": {},
     "nuid": "31597733-f948-4739-9259-591829c59eaa",
     "showTitle": false,
     "tableResultSettingsMap": {},
     "title": ""
    }
   },
   "outputs": [
    {
     "output_type": "display_data",
     "data": {
      "text/html": [
       "<style scoped>\n",
       "  .table-result-container {\n",
       "    max-height: 300px;\n",
       "    overflow: auto;\n",
       "  }\n",
       "  table, th, td {\n",
       "    border: 1px solid black;\n",
       "    border-collapse: collapse;\n",
       "  }\n",
       "  th, td {\n",
       "    padding: 5px;\n",
       "  }\n",
       "  th {\n",
       "    text-align: left;\n",
       "  }\n",
       "</style><div class='table-result-container'><table class='table-result'><thead style='background-color: white'><tr></tr></thead><tbody></tbody></table></div>"
      ]
     },
     "metadata": {
      "application/vnd.databricks.v1+output": {
       "addedWidgets": {},
       "aggData": [],
       "aggError": "",
       "aggOverflow": false,
       "aggSchema": [],
       "aggSeriesLimitReached": false,
       "aggType": "",
       "arguments": {},
       "columnCustomDisplayInfos": {},
       "data": [],
       "datasetInfos": [],
       "dbfsResultPath": null,
       "isJsonSchema": true,
       "metadata": {},
       "overflow": false,
       "plotOptions": {
        "customPlotOptions": {},
        "displayType": "table",
        "pivotAggregation": null,
        "pivotColumns": null,
        "xColumns": null,
        "yColumns": null
       },
       "removedWidgets": [],
       "schema": [],
       "type": "table"
      }
     },
     "output_type": "display_data"
    }
   ],
   "source": [
    "%sql\n",
    "CREATE OR REPLACE TABLE eleicao_gold.patrimonio ( \n",
    "     NM_CANDIDATO VARCHAR(200) COMMENT 'Name of the candidate in 2022'\n",
    "    ,NM_URNA_CANDIDATO  VARCHAR(200) COMMENT 'Name of the candidate that apperars in ballot box in 2022'\n",
    "    ,TP_ABRANGENCIA VARCHAR(100) COMMENT 'Type of election (Municipal or Presidencial) in 2022'\n",
    "    ,NR_CPF_CANDIDATO BIGINT COMMENT 'Identity of the candidate'\n",
    "    ,NR_TITULO_ELEITORAL_CANDIDATO BIGINT COMMENT 'Electoral Identity of the candidate'\n",
    "    ,DS_CARGO VARCHAR(100) COMMENT 'Position of dispute in 2022'\n",
    "    ,DS_CARGO_2020 VARCHAR(100) COMMENT 'Position of dispute in 2020'\n",
    "    ,DS_CARGO_2018 VARCHAR(100) COMMENT 'Position of dispute in 2018'\n",
    "    ,DS_SITUACAO_CANDIDATURA VARCHAR(100) COMMENT 'Situation of the candidature (APTO, CADASTRADO, INAPTO) in 2022'\n",
    "    ,DS_SITUACAO_CANDIDATURA_2020 VARCHAR(100) COMMENT 'Situation of the candidature (APTO, CADASTRADO, INAPTO) in 2020'\n",
    "    ,DS_SITUACAO_CANDIDATURA_2018 VARCHAR(100) COMMENT 'Situation of the candidature (APTO, CADASTRADO, INAPTO) in 2018'\n",
    "    ,DT_ELEICAO DATE COMMENT 'Date of the election, for some can be either the first or the second round'\n",
    "    ,SG_PARTIDO VARCHAR(50) COMMENT 'Abreviation of the name of the political party in 2022'\n",
    "    ,NM_PARTIDO VARCHAR(100) COMMENT 'Name of the political party in 2022'\n",
    "    ,DT_NASCIMENTO DATE COMMENT 'Date of birth of the candidate'\n",
    "    ,DS_GENERO VARCHAR(100) COMMENT 'Gender of the candidate (MASCULINO, FEMININO, NÃO DIVULGÁVEL) declared in 2022'\n",
    "    ,DS_COR_RACA VARCHAR(100) COMMENT 'Etinity Race of the candidate (AMARELA, BRANCA, INDÍGENA, NÃO DIVULGÁVEL, PARDA, PRETA) declared in 2022'\n",
    "    ,DS_GRAU_INSTRUCAO VARCHAR(100) COMMENT 'Education Degree of the candidate (ENSINO FUNDAMENTAL COMPLETO, ENSINO FUNDAMENTAL INCOMPLETO, ENSINO MÉDIO COMPLETO, ENSINO MÉDIO INCOMPLETO, LÊ E ESCREVE, NÃO DIVULGÁVEL, SUPERIOR  \n",
    "        COMPLETO, SUPERIOR INCOMPLETO) declared in 2022'\n",
    "    ,DS_ESTADO_CIVIL  VARCHAR(100) COMMENT 'Marital Status of the candidate (CASADO(A), DIVORCIADO(A), NÃO DIVULGÁVEL, SEPARADO(A) JUDICIALMENTE, SOLTEIRO(A), VIÚVO(A)) declared in 2022'\n",
    "    ,DS_OCUPACAO VARCHAR(200) COMMENT 'Occupation of the candidate declared in 2022'\n",
    "    ,SG_UF VARCHAR(200) COMMENT 'State of dispute in 2022'\n",
    "    ,NM_UE VARCHAR(200) COMMENT 'District of dispute in 2022'\n",
    "    ,DS_SIT_TOT_TURNO  VARCHAR(200) COMMENT 'Status of the electoral dispute in 2022'\n",
    "    ,DS_SIT_TOT_TURNO_2020  VARCHAR(200) COMMENT 'Status of the electoral dispute in 2020'\n",
    "    ,DS_SIT_TOT_TURNO_2018  VARCHAR(200) COMMENT 'Status of the electoral dispute in 2018'\n",
    "    ,VR_BEM_CANDIDATO DOUBLE COMMENT 'Total amount owned of the candidate in 2022'\n",
    "    ,VR_BEM_CANDIDATO_2020 DOUBLE COMMENT 'Total amount owned of the candidate in 2020'\n",
    "    ,VR_BEM_CANDIDATO_2018 DOUBLE COMMENT 'Total amount owned of the candidate in 2018'\n",
    ");"
   ]
  },
  {
   "cell_type": "code",
   "execution_count": 0,
   "metadata": {
    "application/vnd.databricks.v1+cell": {
     "cellMetadata": {
      "byteLimit": 2048000,
      "rowLimit": 10000
     },
     "inputWidgets": {},
     "nuid": "2ad1c960-92ab-42bf-9838-84aece45d797",
     "showTitle": false,
     "tableResultSettingsMap": {},
     "title": ""
    }
   },
   "outputs": [
    {
     "output_type": "display_data",
     "data": {
      "text/html": [
       "<style scoped>\n",
       "  .table-result-container {\n",
       "    max-height: 300px;\n",
       "    overflow: auto;\n",
       "  }\n",
       "  table, th, td {\n",
       "    border: 1px solid black;\n",
       "    border-collapse: collapse;\n",
       "  }\n",
       "  th, td {\n",
       "    padding: 5px;\n",
       "  }\n",
       "  th {\n",
       "    text-align: left;\n",
       "  }\n",
       "</style><div class='table-result-container'><table class='table-result'><thead style='background-color: white'><tr><th>NM_CANDIDATO</th><th>NM_URNA_CANDIDATO</th><th>TP_ABRANGENCIA</th><th>NR_CPF_CANDIDATO</th><th>NR_TITULO_ELEITORAL_CANDIDATO</th><th>DS_CARGO</th><th>DS_CARGO_2020</th><th>DS_CARGO_2018</th><th>DS_SITUACAO_CANDIDATURA</th><th>DS_SITUACAO_CANDIDATURA_2020</th><th>DS_SITUACAO_CANDIDATURA_2018</th><th>DT_ELEICAO</th><th>SG_PARTIDO</th><th>NM_PARTIDO</th><th>DT_NASCIMENTO</th><th>DS_GENERO</th><th>DS_COR_RACA</th><th>DS_GRAU_INSTRUCAO</th><th>DS_ESTADO_CIVIL</th><th>DS_OCUPACAO</th><th>SG_UF</th><th>NM_UE</th><th>DS_SIT_TOT_TURNO</th><th>DS_SIT_TOT_TURNO_2020</th><th>DS_SIT_TOT_TURNO_2018</th><th>VR_BEM_CANDIDATO</th><th>VR_BEM_CANDIDATO_2020</th><th>VR_BEM_CANDIDATO_2018</th></tr></thead><tbody><tr><td>RAVENNA DE CASTRO LIMA AZEVEDO</td><td>RAVENNA CASTRO</td><td>ESTADUAL</td><td>854325395</td><td>29874391546</td><td>GOVERNADOR</td><td>VEREADOR</td><td>DEPUTADO ESTADUAL</td><td>APTO</td><td>APTO</td><td>APTO</td><td>2022-10-02</td><td>PMN</td><td>PARTIDO DA MOBILIZAÇÃO NACIONAL</td><td>1986-05-15</td><td>FEMININO</td><td>PARDA</td><td>SUPERIOR COMPLETO</td><td>DIVORCIADO(A)</td><td>ADVOGADO</td><td>PI</td><td>PIAUÍ</td><td>NÃO ELEITO</td><td>NÃO ELEITO</td><td>SUPLENTE</td><td>null</td><td>90019.07</td><td>15000.0</td></tr><tr><td>SORAYA VIEIRA THRONICKE</td><td>SORAYA THRONICKE</td><td>FEDERAL</td><td>60838965172</td><td>13250921929</td><td>PRESIDENTE</td><td>null</td><td>SENADOR</td><td>APTO</td><td>null</td><td>APTO</td><td>2022-10-02</td><td>UNIÃO</td><td>UNIÃO BRASIL</td><td>1973-06-01</td><td>FEMININO</td><td>BRANCA</td><td>SUPERIOR COMPLETO</td><td>CASADO(A)</td><td>SENADOR</td><td>BR</td><td>BRASIL</td><td>NÃO ELEITO</td><td>null</td><td>ELEITO</td><td>null</td><td>null</td><td>10000.0</td></tr><tr><td>JAIME DOMINGUES NUNES</td><td>JAIME NUNES</td><td>ESTADUAL</td><td>14673835204</td><td>285072526</td><td>GOVERNADOR</td><td>null</td><td>VICE-GOVERNADOR</td><td>APTO</td><td>null</td><td>APTO</td><td>2022-10-02</td><td>PSD</td><td>PARTIDO SOCIAL DEMOCRÁTICO</td><td>1959-07-29</td><td>MASCULINO</td><td>BRANCA</td><td>SUPERIOR COMPLETO</td><td>CASADO(A)</td><td>EMPRESÁRIO</td><td>AP</td><td>AMAPÁ</td><td>NÃO ELEITO</td><td>null</td><td>ELEITO</td><td>3.577429492E7</td><td>null</td><td>2.1885903150000006E7</td></tr><tr><td>JOÃO INÁCIO RIBEIRO ROMA NETO</td><td>JOÃO ROMA</td><td>ESTADUAL</td><td>81968442472</td><td>37641250850</td><td>GOVERNADOR</td><td>null</td><td>DEPUTADO FEDERAL</td><td>APTO</td><td>null</td><td>APTO</td><td>2022-10-02</td><td>PL</td><td>PARTIDO LIBERAL</td><td>1972-11-17</td><td>MASCULINO</td><td>BRANCA</td><td>SUPERIOR COMPLETO</td><td>CASADO(A)</td><td>PRODUTOR AGROPECUÁRIO</td><td>BA</td><td>BAHIA</td><td>NÃO ELEITO</td><td>null</td><td>ELEITO POR QP</td><td>5561182.6099999985</td><td>null</td><td>4494372.77</td></tr><tr><td>GILVAM PINHEIRO BORGES</td><td>GILVAM BORGES</td><td>ESTADUAL</td><td>11907894268</td><td>346522577</td><td>GOVERNADOR</td><td>null</td><td>SENADOR</td><td>APTO</td><td>null</td><td>APTO</td><td>2022-10-02</td><td>MDB</td><td>MOVIMENTO DEMOCRÁTICO BRASILEIRO</td><td>1958-08-01</td><td>MASCULINO</td><td>PARDA</td><td>SUPERIOR COMPLETO</td><td>SOLTEIRO(A)</td><td>SOCIÓLOGO</td><td>AP</td><td>AMAPÁ</td><td>NÃO ELEITO</td><td>null</td><td>NÃO ELEITO</td><td>null</td><td>null</td><td>408400.0</td></tr><tr><td>JOAO BARBOSA BRAVO</td><td>PROFESSOR BRAVO</td><td>FEDERAL</td><td>3532046768</td><td>45076570302</td><td>VICE-PRESIDENTE</td><td>null</td><td>null</td><td>APTO</td><td>null</td><td>null</td><td>2022-10-02</td><td>DC</td><td>DEMOCRACIA CRISTÃ</td><td>1947-06-27</td><td>MASCULINO</td><td>BRANCA</td><td>SUPERIOR COMPLETO</td><td>CASADO(A)</td><td>ECONOMISTA</td><td>BR</td><td>BRASIL</td><td>NÃO ELEITO</td><td>null</td><td>null</td><td>null</td><td>null</td><td>null</td></tr><tr><td>FERNANDO GALVAO MOURA</td><td>FERNANDO GALVÃO</td><td>ESTADUAL</td><td>10890650861</td><td>194255440116</td><td>DEPUTADO ESTADUAL</td><td>null</td><td>null</td><td>APTO</td><td>null</td><td>null</td><td>2022-10-02</td><td>UNIÃO</td><td>UNIÃO BRASIL</td><td>1972-12-11</td><td>MASCULINO</td><td>BRANCA</td><td>SUPERIOR COMPLETO</td><td>CASADO(A)</td><td>ADVOGADO</td><td>SP</td><td>SÃO PAULO</td><td>SUPLENTE</td><td>null</td><td>null</td><td>null</td><td>null</td><td>null</td></tr><tr><td>GESIEL DE SOUZA OLIVEIRA</td><td>GESIEL DE OLIVEIRA</td><td>ESTADUAL</td><td>61341509249</td><td>2462812585</td><td>GOVERNADOR</td><td>null</td><td>null</td><td>APTO</td><td>null</td><td>null</td><td>2022-10-02</td><td>PRTB</td><td>PARTIDO RENOVADOR TRABALHISTA BRASILEIRO</td><td>1978-02-03</td><td>MASCULINO</td><td>BRANCA</td><td>SUPERIOR COMPLETO</td><td>CASADO(A)</td><td>OUTROS</td><td>AP</td><td>AMAPÁ</td><td>NÃO ELEITO</td><td>null</td><td>null</td><td>160000.0</td><td>null</td><td>null</td></tr><tr><td>ANTONIO ALVES DA SILVA JUNIOR</td><td>ANTONIO ALVES</td><td>FEDERAL</td><td>4551706493</td><td>56283400876</td><td>VICE-PRESIDENTE</td><td>null</td><td>null</td><td>APTO</td><td>null</td><td>null</td><td>2022-10-02</td><td>PCB</td><td>PARTIDO COMUNISTA BRASILEIRO</td><td>1978-10-07</td><td>MASCULINO</td><td>PRETA</td><td>SUPERIOR COMPLETO</td><td>SOLTEIRO(A)</td><td>JORNALISTA E REDATOR</td><td>BR</td><td>BRASIL</td><td>NÃO ELEITO</td><td>null</td><td>null</td><td>null</td><td>null</td><td>null</td></tr><tr><td>RAIMUNDO SALES DA SILVA</td><td>BIGODE</td><td>ESTADUAL</td><td>5135834249</td><td>837222496</td><td>DEPUTADO ESTADUAL</td><td>null</td><td>null</td><td>APTO</td><td>null</td><td>null</td><td>2022-10-02</td><td>PP</td><td>PROGRESSISTAS</td><td>1955-04-10</td><td>MASCULINO</td><td>PARDA</td><td>ENSINO FUNDAMENTAL COMPLETO</td><td>DIVORCIADO(A)</td><td>PESCADOR</td><td>AC</td><td>ACRE</td><td>SUPLENTE</td><td>null</td><td>null</td><td>null</td><td>null</td><td>null</td></tr></tbody></table></div>"
      ]
     },
     "metadata": {
      "application/vnd.databricks.v1+output": {
       "addedWidgets": {},
       "aggData": [],
       "aggError": "",
       "aggOverflow": false,
       "aggSchema": [],
       "aggSeriesLimitReached": false,
       "aggType": "",
       "arguments": {},
       "columnCustomDisplayInfos": {},
       "data": [
        [
         "RAVENNA DE CASTRO LIMA AZEVEDO",
         "RAVENNA CASTRO",
         "ESTADUAL",
         854325395,
         29874391546,
         "GOVERNADOR",
         "VEREADOR",
         "DEPUTADO ESTADUAL",
         "APTO",
         "APTO",
         "APTO",
         "2022-10-02",
         "PMN",
         "PARTIDO DA MOBILIZAÇÃO NACIONAL",
         "1986-05-15",
         "FEMININO",
         "PARDA",
         "SUPERIOR COMPLETO",
         "DIVORCIADO(A)",
         "ADVOGADO",
         "PI",
         "PIAUÍ",
         "NÃO ELEITO",
         "NÃO ELEITO",
         "SUPLENTE",
         null,
         90019.07,
         15000.0
        ],
        [
         "SORAYA VIEIRA THRONICKE",
         "SORAYA THRONICKE",
         "FEDERAL",
         60838965172,
         13250921929,
         "PRESIDENTE",
         null,
         "SENADOR",
         "APTO",
         null,
         "APTO",
         "2022-10-02",
         "UNIÃO",
         "UNIÃO BRASIL",
         "1973-06-01",
         "FEMININO",
         "BRANCA",
         "SUPERIOR COMPLETO",
         "CASADO(A)",
         "SENADOR",
         "BR",
         "BRASIL",
         "NÃO ELEITO",
         null,
         "ELEITO",
         null,
         null,
         10000.0
        ],
        [
         "JAIME DOMINGUES NUNES",
         "JAIME NUNES",
         "ESTADUAL",
         14673835204,
         285072526,
         "GOVERNADOR",
         null,
         "VICE-GOVERNADOR",
         "APTO",
         null,
         "APTO",
         "2022-10-02",
         "PSD",
         "PARTIDO SOCIAL DEMOCRÁTICO",
         "1959-07-29",
         "MASCULINO",
         "BRANCA",
         "SUPERIOR COMPLETO",
         "CASADO(A)",
         "EMPRESÁRIO",
         "AP",
         "AMAPÁ",
         "NÃO ELEITO",
         null,
         "ELEITO",
         3.577429492E7,
         null,
         2.1885903150000006E7
        ],
        [
         "JOÃO INÁCIO RIBEIRO ROMA NETO",
         "JOÃO ROMA",
         "ESTADUAL",
         81968442472,
         37641250850,
         "GOVERNADOR",
         null,
         "DEPUTADO FEDERAL",
         "APTO",
         null,
         "APTO",
         "2022-10-02",
         "PL",
         "PARTIDO LIBERAL",
         "1972-11-17",
         "MASCULINO",
         "BRANCA",
         "SUPERIOR COMPLETO",
         "CASADO(A)",
         "PRODUTOR AGROPECUÁRIO",
         "BA",
         "BAHIA",
         "NÃO ELEITO",
         null,
         "ELEITO POR QP",
         5561182.6099999985,
         null,
         4494372.77
        ],
        [
         "GILVAM PINHEIRO BORGES",
         "GILVAM BORGES",
         "ESTADUAL",
         11907894268,
         346522577,
         "GOVERNADOR",
         null,
         "SENADOR",
         "APTO",
         null,
         "APTO",
         "2022-10-02",
         "MDB",
         "MOVIMENTO DEMOCRÁTICO BRASILEIRO",
         "1958-08-01",
         "MASCULINO",
         "PARDA",
         "SUPERIOR COMPLETO",
         "SOLTEIRO(A)",
         "SOCIÓLOGO",
         "AP",
         "AMAPÁ",
         "NÃO ELEITO",
         null,
         "NÃO ELEITO",
         null,
         null,
         408400.0
        ],
        [
         "JOAO BARBOSA BRAVO",
         "PROFESSOR BRAVO",
         "FEDERAL",
         3532046768,
         45076570302,
         "VICE-PRESIDENTE",
         null,
         null,
         "APTO",
         null,
         null,
         "2022-10-02",
         "DC",
         "DEMOCRACIA CRISTÃ",
         "1947-06-27",
         "MASCULINO",
         "BRANCA",
         "SUPERIOR COMPLETO",
         "CASADO(A)",
         "ECONOMISTA",
         "BR",
         "BRASIL",
         "NÃO ELEITO",
         null,
         null,
         null,
         null,
         null
        ],
        [
         "FERNANDO GALVAO MOURA",
         "FERNANDO GALVÃO",
         "ESTADUAL",
         10890650861,
         194255440116,
         "DEPUTADO ESTADUAL",
         null,
         null,
         "APTO",
         null,
         null,
         "2022-10-02",
         "UNIÃO",
         "UNIÃO BRASIL",
         "1972-12-11",
         "MASCULINO",
         "BRANCA",
         "SUPERIOR COMPLETO",
         "CASADO(A)",
         "ADVOGADO",
         "SP",
         "SÃO PAULO",
         "SUPLENTE",
         null,
         null,
         null,
         null,
         null
        ],
        [
         "GESIEL DE SOUZA OLIVEIRA",
         "GESIEL DE OLIVEIRA",
         "ESTADUAL",
         61341509249,
         2462812585,
         "GOVERNADOR",
         null,
         null,
         "APTO",
         null,
         null,
         "2022-10-02",
         "PRTB",
         "PARTIDO RENOVADOR TRABALHISTA BRASILEIRO",
         "1978-02-03",
         "MASCULINO",
         "BRANCA",
         "SUPERIOR COMPLETO",
         "CASADO(A)",
         "OUTROS",
         "AP",
         "AMAPÁ",
         "NÃO ELEITO",
         null,
         null,
         160000.0,
         null,
         null
        ],
        [
         "ANTONIO ALVES DA SILVA JUNIOR",
         "ANTONIO ALVES",
         "FEDERAL",
         4551706493,
         56283400876,
         "VICE-PRESIDENTE",
         null,
         null,
         "APTO",
         null,
         null,
         "2022-10-02",
         "PCB",
         "PARTIDO COMUNISTA BRASILEIRO",
         "1978-10-07",
         "MASCULINO",
         "PRETA",
         "SUPERIOR COMPLETO",
         "SOLTEIRO(A)",
         "JORNALISTA E REDATOR",
         "BR",
         "BRASIL",
         "NÃO ELEITO",
         null,
         null,
         null,
         null,
         null
        ],
        [
         "RAIMUNDO SALES DA SILVA",
         "BIGODE",
         "ESTADUAL",
         5135834249,
         837222496,
         "DEPUTADO ESTADUAL",
         null,
         null,
         "APTO",
         null,
         null,
         "2022-10-02",
         "PP",
         "PROGRESSISTAS",
         "1955-04-10",
         "MASCULINO",
         "PARDA",
         "ENSINO FUNDAMENTAL COMPLETO",
         "DIVORCIADO(A)",
         "PESCADOR",
         "AC",
         "ACRE",
         "SUPLENTE",
         null,
         null,
         null,
         null,
         null
        ]
       ],
       "datasetInfos": [],
       "dbfsResultPath": null,
       "isJsonSchema": true,
       "metadata": {},
       "overflow": false,
       "plotOptions": {
        "customPlotOptions": {},
        "displayType": "table",
        "pivotAggregation": null,
        "pivotColumns": null,
        "xColumns": null,
        "yColumns": null
       },
       "removedWidgets": [],
       "schema": [
        {
         "metadata": "{}",
         "name": "NM_CANDIDATO",
         "type": "\"string\""
        },
        {
         "metadata": "{}",
         "name": "NM_URNA_CANDIDATO",
         "type": "\"string\""
        },
        {
         "metadata": "{}",
         "name": "TP_ABRANGENCIA",
         "type": "\"string\""
        },
        {
         "metadata": "{}",
         "name": "NR_CPF_CANDIDATO",
         "type": "\"long\""
        },
        {
         "metadata": "{}",
         "name": "NR_TITULO_ELEITORAL_CANDIDATO",
         "type": "\"long\""
        },
        {
         "metadata": "{}",
         "name": "DS_CARGO",
         "type": "\"string\""
        },
        {
         "metadata": "{}",
         "name": "DS_CARGO_2020",
         "type": "\"string\""
        },
        {
         "metadata": "{}",
         "name": "DS_CARGO_2018",
         "type": "\"string\""
        },
        {
         "metadata": "{}",
         "name": "DS_SITUACAO_CANDIDATURA",
         "type": "\"string\""
        },
        {
         "metadata": "{}",
         "name": "DS_SITUACAO_CANDIDATURA_2020",
         "type": "\"string\""
        },
        {
         "metadata": "{}",
         "name": "DS_SITUACAO_CANDIDATURA_2018",
         "type": "\"string\""
        },
        {
         "metadata": "{}",
         "name": "DT_ELEICAO",
         "type": "\"date\""
        },
        {
         "metadata": "{}",
         "name": "SG_PARTIDO",
         "type": "\"string\""
        },
        {
         "metadata": "{}",
         "name": "NM_PARTIDO",
         "type": "\"string\""
        },
        {
         "metadata": "{}",
         "name": "DT_NASCIMENTO",
         "type": "\"date\""
        },
        {
         "metadata": "{}",
         "name": "DS_GENERO",
         "type": "\"string\""
        },
        {
         "metadata": "{}",
         "name": "DS_COR_RACA",
         "type": "\"string\""
        },
        {
         "metadata": "{}",
         "name": "DS_GRAU_INSTRUCAO",
         "type": "\"string\""
        },
        {
         "metadata": "{}",
         "name": "DS_ESTADO_CIVIL",
         "type": "\"string\""
        },
        {
         "metadata": "{}",
         "name": "DS_OCUPACAO",
         "type": "\"string\""
        },
        {
         "metadata": "{}",
         "name": "SG_UF",
         "type": "\"string\""
        },
        {
         "metadata": "{}",
         "name": "NM_UE",
         "type": "\"string\""
        },
        {
         "metadata": "{}",
         "name": "DS_SIT_TOT_TURNO",
         "type": "\"string\""
        },
        {
         "metadata": "{}",
         "name": "DS_SIT_TOT_TURNO_2020",
         "type": "\"string\""
        },
        {
         "metadata": "{}",
         "name": "DS_SIT_TOT_TURNO_2018",
         "type": "\"string\""
        },
        {
         "metadata": "{}",
         "name": "VR_BEM_CANDIDATO",
         "type": "\"double\""
        },
        {
         "metadata": "{}",
         "name": "VR_BEM_CANDIDATO_2020",
         "type": "\"double\""
        },
        {
         "metadata": "{}",
         "name": "VR_BEM_CANDIDATO_2018",
         "type": "\"double\""
        }
       ],
       "type": "table"
      }
     },
     "output_type": "display_data"
    }
   ],
   "source": [
    "#df para tabela relacional de patrimonio de candidato gold\n",
    "df = sqlContext.sql(\"\"\"\n",
    "  WITH \n",
    "    candidatos_2022 AS (\n",
    "      SELECT\n",
    "           l_tb.NM_CANDIDATO\n",
    "          ,l_tb.NM_URNA_CANDIDATO\n",
    "          ,l_tb.TP_ABRANGENCIA\n",
    "          ,l_tb.NR_CPF_CANDIDATO\n",
    "          ,l_tb.NR_TITULO_ELEITORAL_CANDIDATO\n",
    "          ,l_tb.SG_UF_NASCIMENTO\n",
    "          ,l_tb.DT_NASCIMENTO\n",
    "          ,l_tb.DS_CARGO\n",
    "          ,l_tb.DS_SITUACAO_CANDIDATURA\n",
    "          ,l_tb.DT_ELEICAO\n",
    "          ,l_tb.SG_PARTIDO\n",
    "          ,l_tb.NM_PARTIDO\n",
    "          ,l_tb.DS_GENERO\n",
    "          ,l_tb.DS_COR_RACA\n",
    "          ,l_tb.DS_GRAU_INSTRUCAO\n",
    "          ,l_tb.DS_ESTADO_CIVIL\n",
    "          ,l_tb.DS_OCUPACAO\n",
    "          ,l_tb.SG_UF\n",
    "          ,l_tb.NM_UE\n",
    "          ,l_tb.DS_SIT_TOT_TURNO\n",
    "          ,VR_BEM_CANDIDATO\n",
    "      FROM \n",
    "          eleicao_silver.candidatos AS l_tb\n",
    "      LEFT JOIN \n",
    "          eleicao_silver.bens_candidatos AS r_tb\n",
    "          ON \n",
    "            l_tb.SQ_CANDIDATO = r_tb.SQ_CANDIDATO\n",
    "            AND l_tb.ANO_ELEICAO = r_tb.ANO_ELEICAO\n",
    "      WHERE \n",
    "        l_tb.ANO_ELEICAO = 2022\n",
    "    )\n",
    "\n",
    "    ,candidatos_2020 AS (\n",
    "      SELECT\n",
    "           NM_CANDIDATO\n",
    "          ,l_tb.NR_CPF_CANDIDATO\n",
    "          ,l_tb.NR_TITULO_ELEITORAL_CANDIDATO\n",
    "          ,l_tb.SG_UF_NASCIMENTO\n",
    "          ,l_tb.DT_NASCIMENTO\n",
    "          ,l_tb.DS_CARGO AS DS_CARGO_2020\n",
    "          ,l_tb.DS_SITUACAO_CANDIDATURA AS DS_SITUACAO_CANDIDATURA_2020\n",
    "          ,l_tb.DS_SIT_TOT_TURNO AS DS_SIT_TOT_TURNO_2020\n",
    "          ,VR_BEM_CANDIDATO AS VR_BEM_CANDIDATO_2020\n",
    "      FROM \n",
    "          eleicao_silver.candidatos AS l_tb\n",
    "      LEFT JOIN \n",
    "          eleicao_silver.bens_candidatos AS r_tb\n",
    "          ON \n",
    "            l_tb.SQ_CANDIDATO = r_tb.SQ_CANDIDATO\n",
    "            AND l_tb.ANO_ELEICAO = r_tb.ANO_ELEICAO\n",
    "      WHERE \n",
    "        l_tb.ANO_ELEICAO = 2020\n",
    "    )\n",
    "\n",
    "    ,candidatos_2018 AS (\n",
    "        SELECT\n",
    "           NM_CANDIDATO\n",
    "          ,l_tb.NR_CPF_CANDIDATO\n",
    "          ,l_tb.NR_TITULO_ELEITORAL_CANDIDATO\n",
    "          ,l_tb.SG_UF_NASCIMENTO\n",
    "          ,l_tb.DT_NASCIMENTO\n",
    "          ,l_tb.DS_CARGO AS DS_CARGO_2018\n",
    "          ,l_tb.DS_SITUACAO_CANDIDATURA AS DS_SITUACAO_CANDIDATURA_2018\n",
    "          ,l_tb.DS_SIT_TOT_TURNO AS DS_SIT_TOT_TURNO_2018\n",
    "          ,VR_BEM_CANDIDATO AS VR_BEM_CANDIDATO_2018\n",
    "      FROM \n",
    "          eleicao_silver.candidatos AS l_tb\n",
    "      LEFT JOIN \n",
    "          eleicao_silver.bens_candidatos AS r_tb\n",
    "          ON \n",
    "            l_tb.SQ_CANDIDATO = r_tb.SQ_CANDIDATO\n",
    "            AND l_tb.ANO_ELEICAO = r_tb.ANO_ELEICAO\n",
    "      WHERE \n",
    "        l_tb.ANO_ELEICAO = 2018\n",
    "    )\n",
    "    SELECT\n",
    "         C_2022.NM_CANDIDATO\n",
    "        ,NM_URNA_CANDIDATO\n",
    "        ,TP_ABRANGENCIA\n",
    "        ,C_2022.NR_CPF_CANDIDATO\n",
    "        ,C_2022.NR_TITULO_ELEITORAL_CANDIDATO\n",
    "        ,DS_CARGO\n",
    "        ,DS_CARGO_2020\n",
    "        ,DS_CARGO_2018\n",
    "        ,DS_SITUACAO_CANDIDATURA\n",
    "        ,DS_SITUACAO_CANDIDATURA_2020\n",
    "        ,DS_SITUACAO_CANDIDATURA_2018\n",
    "        ,DT_ELEICAO\n",
    "        ,SG_PARTIDO\n",
    "        ,NM_PARTIDO\n",
    "        ,C_2022.DT_NASCIMENTO\n",
    "        ,DS_GENERO\n",
    "        ,DS_COR_RACA\n",
    "        ,DS_GRAU_INSTRUCAO\n",
    "        ,DS_ESTADO_CIVIL\n",
    "        ,DS_OCUPACAO\n",
    "        ,SG_UF\n",
    "        ,NM_UE\n",
    "        ,DS_SIT_TOT_TURNO\n",
    "        ,DS_SIT_TOT_TURNO_2020\n",
    "        ,DS_SIT_TOT_TURNO_2018\n",
    "        ,VR_BEM_CANDIDATO\n",
    "        ,VR_BEM_CANDIDATO_2020\n",
    "        ,VR_BEM_CANDIDATO_2018\n",
    "    FROM \n",
    "        candidatos_2022 AS C_2022\n",
    "    LEFT JOIN \n",
    "        candidatos_2020 AS C_2020\n",
    "        ON C_2022.NR_CPF_CANDIDATO = C_2020.NR_CPF_CANDIDATO --join via cpf\n",
    "        OR (C_2022.NM_CANDIDATO = C_2020.NM_CANDIDATO AND C_2022.SG_UF_NASCIMENTO = C_2020.SG_UF_NASCIMENTO AND C_2022.DT_NASCIMENTO = C_2020.DT_NASCIMENTO) --ou via nome com estado e data de nascimento\n",
    "    LEFT JOIN \n",
    "        candidatos_2018 AS C_2018\n",
    "        ON C_2022.NR_CPF_CANDIDATO = C_2018.NR_CPF_CANDIDATO--join via cpf\n",
    "        OR (C_2022.NM_CANDIDATO = C_2018.NM_CANDIDATO AND C_2022.SG_UF_NASCIMENTO = C_2018.SG_UF_NASCIMENTO AND C_2022.DT_NASCIMENTO = C_2018.DT_NASCIMENTO) --ou via nome com estado e data de nascimento\n",
    "            \n",
    "    \"\"\" )\n",
    "df.limit(10).display()"
   ]
  },
  {
   "cell_type": "code",
   "execution_count": 0,
   "metadata": {
    "application/vnd.databricks.v1+cell": {
     "cellMetadata": {
      "byteLimit": 2048000,
      "rowLimit": 10000
     },
     "inputWidgets": {},
     "nuid": "c58a7bb5-caf5-4435-8ee5-668dee3e18aa",
     "showTitle": false,
     "tableResultSettingsMap": {},
     "title": ""
    }
   },
   "outputs": [],
   "source": [
    "#Tabela relacional bens por tipo (Gold) \n",
    "df.createOrReplaceTempView('patrimonio')\n",
    "\n",
    "permanent_table_name = \"eleicao_gold.patrimonio\"\n",
    "\n",
    "schema = 'eleicao_gold'\n",
    "\n",
    "df.write.format(\"delta\").option(\"mergeSchema\", \"true\").saveAsTable(permanent_table_name,mode='append')"
   ]
  },
  {
   "cell_type": "code",
   "execution_count": 0,
   "metadata": {
    "application/vnd.databricks.v1+cell": {
     "cellMetadata": {
      "byteLimit": 2048000,
      "implicitDf": true,
      "rowLimit": 10000
     },
     "inputWidgets": {},
     "nuid": "cac73e5e-9cd4-4d82-846d-3b16ae56f26d",
     "showTitle": false,
     "tableResultSettingsMap": {},
     "title": ""
    }
   },
   "outputs": [
    {
     "output_type": "display_data",
     "data": {
      "text/html": [
       "<style scoped>\n",
       "  .table-result-container {\n",
       "    max-height: 300px;\n",
       "    overflow: auto;\n",
       "  }\n",
       "  table, th, td {\n",
       "    border: 1px solid black;\n",
       "    border-collapse: collapse;\n",
       "  }\n",
       "  th, td {\n",
       "    padding: 5px;\n",
       "  }\n",
       "  th {\n",
       "    text-align: left;\n",
       "  }\n",
       "</style><div class='table-result-container'><table class='table-result'><thead style='background-color: white'><tr><th>NM_CANDIDATO</th><th>NM_URNA_CANDIDATO</th><th>TP_ABRANGENCIA</th><th>NR_CPF_CANDIDATO</th><th>NR_TITULO_ELEITORAL_CANDIDATO</th><th>DS_CARGO</th><th>DS_CARGO_2020</th><th>DS_CARGO_2018</th><th>DS_SITUACAO_CANDIDATURA</th><th>DS_SITUACAO_CANDIDATURA_2020</th><th>DS_SITUACAO_CANDIDATURA_2018</th><th>DT_ELEICAO</th><th>SG_PARTIDO</th><th>NM_PARTIDO</th><th>DT_NASCIMENTO</th><th>DS_GENERO</th><th>DS_COR_RACA</th><th>DS_GRAU_INSTRUCAO</th><th>DS_ESTADO_CIVIL</th><th>DS_OCUPACAO</th><th>SG_UF</th><th>NM_UE</th><th>DS_SIT_TOT_TURNO</th><th>DS_SIT_TOT_TURNO_2020</th><th>DS_SIT_TOT_TURNO_2018</th><th>VR_BEM_CANDIDATO</th><th>VR_BEM_CANDIDATO_2020</th><th>VR_BEM_CANDIDATO_2018</th></tr></thead><tbody><tr><td>JAIRO SANTANA DA SILVA</td><td>JAIRO DE GLÓRIA</td><td>ESTADUAL</td><td>80208053549</td><td>12328342100</td><td>DEPUTADO ESTADUAL</td><td>PREFEITO</td><td>DEPUTADO ESTADUAL</td><td>APTO</td><td>APTO</td><td>APTO</td><td>2022-10-02</td><td>PP</td><td>PROGRESSISTAS</td><td>1979-06-22</td><td>MASCULINO</td><td>PARDA</td><td>SUPERIOR COMPLETO</td><td>DIVORCIADO(A)</td><td>CONTADOR</td><td>SE</td><td>SERGIPE</td><td>SUPLENTE</td><td>NÃO ELEITO</td><td>SUPLENTE</td><td>null</td><td>null</td><td>null</td></tr><tr><td>GELSON FERRAZ DE MEDEIROS</td><td>GELSON FERRAZ</td><td>ESTADUAL</td><td>32983506720</td><td>48856060710</td><td>1º SUPLENTE</td><td>VEREADOR</td><td>DEPUTADO ESTADUAL</td><td>APTO</td><td>APTO</td><td>APTO</td><td>2022-10-02</td><td>AVANTE</td><td>AVANTE</td><td>1953-01-18</td><td>MASCULINO</td><td>PARDA</td><td>ENSINO MÉDIO COMPLETO</td><td>CASADO(A)</td><td>LOCUTOR E COMENTARISTA DE RÁDIO E TELEVISÃO E RADIALISTA</td><td>CE</td><td>CEARÁ</td><td>NÃO ELEITO</td><td>SUPLENTE</td><td>SUPLENTE</td><td>501117.38</td><td>116560.32</td><td>11539.82</td></tr><tr><td>JAMIR CALILI RIBEIRO</td><td>JAMIR CALILI RIBEIRO</td><td>ESTADUAL</td><td>1304762696</td><td>134168860213</td><td>DEPUTADO ESTADUAL</td><td>VEREADOR</td><td>DEPUTADO ESTADUAL</td><td>APTO</td><td>APTO</td><td>APTO</td><td>2022-10-02</td><td>PP</td><td>PROGRESSISTAS</td><td>1982-10-21</td><td>MASCULINO</td><td>BRANCA</td><td>SUPERIOR COMPLETO</td><td>CASADO(A)</td><td>PROFESSOR DE ENSINO SUPERIOR</td><td>MG</td><td>MINAS GERAIS</td><td>SUPLENTE</td><td>ELEITO POR QP</td><td>SUPLENTE</td><td>null</td><td>1415000.0</td><td>1789060.0</td></tr><tr><td>MANOEL FRANCISCO LIMA DE SOUZA</td><td>MANOEL IZO</td><td>ESTADUAL</td><td>47815337287</td><td>2387752410</td><td>DEPUTADO ESTADUAL</td><td>VEREADOR</td><td>DEPUTADO ESTADUAL</td><td>APTO</td><td>APTO</td><td>APTO</td><td>2022-10-02</td><td>DC</td><td>DEMOCRACIA CRISTÃ</td><td>1971-10-28</td><td>MASCULINO</td><td>PRETA</td><td>ENSINO MÉDIO INCOMPLETO</td><td>CASADO(A)</td><td>OUTROS</td><td>AC</td><td>ACRE</td><td>NÃO ELEITO</td><td>NÃO ELEITO</td><td>NÃO ELEITO</td><td>null</td><td>null</td><td>23000.0</td></tr><tr><td>JOSÉ ÔNIX GOMES DA SILVA</td><td>JOSÉ ÔNIX RÁDIO RIO BONITO</td><td>ESTADUAL</td><td>3220945775</td><td>97887740396</td><td>DEPUTADO FEDERAL</td><td>VEREADOR</td><td>DEPUTADO ESTADUAL</td><td>APTO</td><td>APTO</td><td>APTO</td><td>2022-10-02</td><td>PSDB</td><td>PARTIDO DA SOCIAL DEMOCRACIA BRASILEIRA</td><td>1977-09-18</td><td>MASCULINO</td><td>PRETA</td><td>ENSINO MÉDIO COMPLETO</td><td>DIVORCIADO(A)</td><td>VIGILANTE</td><td>RJ</td><td>RIO DE JANEIRO</td><td>NÃO ELEITO</td><td>SUPLENTE</td><td>SUPLENTE</td><td>null</td><td>null</td><td>null</td></tr><tr><td>CESAR ANTONIO VALDUGA</td><td>VALDUGA</td><td>ESTADUAL</td><td>42570778915</td><td>16092430906</td><td>DEPUTADO ESTADUAL</td><td>VEREADOR</td><td>DEPUTADO ESTADUAL</td><td>APTO</td><td>APTO</td><td>APTO</td><td>2022-10-02</td><td>PC do B</td><td>PARTIDO COMUNISTA DO BRASIL</td><td>1961-05-20</td><td>MASCULINO</td><td>BRANCA</td><td>ENSINO MÉDIO COMPLETO</td><td>SOLTEIRO(A)</td><td>BANCÁRIO E ECONOMIÁRIO</td><td>SC</td><td>SANTA CATARINA</td><td>SUPLENTE</td><td>ELEITO POR QP</td><td>SUPLENTE</td><td>null</td><td>2957746.77</td><td>526788.1900000001</td></tr><tr><td>MARIANA ROSSETO SANTOS</td><td>PROFESSORA MARIANA</td><td>ESTADUAL</td><td>10360020801</td><td>193058900116</td><td>DEPUTADO ESTADUAL</td><td>VEREADOR</td><td>DEPUTADO FEDERAL</td><td>APTO</td><td>APTO</td><td>APTO</td><td>2022-10-02</td><td>PT</td><td>PARTIDO DOS TRABALHADORES</td><td>1973-07-13</td><td>FEMININO</td><td>BRANCA</td><td>SUPERIOR COMPLETO</td><td>SOLTEIRO(A)</td><td>PROFESSOR DE ENSINO MÉDIO</td><td>SP</td><td>SÃO PAULO</td><td>SUPLENTE</td><td>NÃO ELEITO</td><td>SUPLENTE</td><td>null</td><td>78413.98000000001</td><td>62000.0</td></tr><tr><td>LUIZ EDUARDO CARNEIRO DA SILVA DE SOUZA LIMA</td><td>LUIZ LIMA</td><td>ESTADUAL</td><td>7616393730</td><td>100242820302</td><td>DEPUTADO FEDERAL</td><td>PREFEITO</td><td>DEPUTADO FEDERAL</td><td>APTO</td><td>APTO</td><td>APTO</td><td>2022-10-02</td><td>PL</td><td>PARTIDO LIBERAL</td><td>1977-12-10</td><td>MASCULINO</td><td>BRANCA</td><td>SUPERIOR COMPLETO</td><td>SOLTEIRO(A)</td><td>DEPUTADO</td><td>RJ</td><td>RIO DE JANEIRO</td><td>ELEITO POR QP</td><td>NÃO ELEITO</td><td>ELEITO POR QP</td><td>null</td><td>1537681.74</td><td>1749011.3500000003</td></tr><tr><td>CRISTINA ALVES DE GODOY</td><td>CRIS GODOY</td><td>ESTADUAL</td><td>13563540845</td><td>188441480141</td><td>DEPUTADO ESTADUAL</td><td>VEREADOR</td><td>DEPUTADO ESTADUAL</td><td>APTO</td><td>APTO</td><td>APTO</td><td>2022-10-02</td><td>PTB</td><td>PARTIDO TRABALHISTA BRASILEIRO</td><td>1971-01-31</td><td>FEMININO</td><td>BRANCA</td><td>SUPERIOR COMPLETO</td><td>DIVORCIADO(A)</td><td>PSICÓLOGO</td><td>SP</td><td>SÃO PAULO</td><td>NÃO ELEITO</td><td>NÃO ELEITO</td><td>SUPLENTE</td><td>null</td><td>51074.26</td><td>117036.30000000002</td></tr><tr><td>DELBIO CAMARGO TERUEL</td><td>DELBIO TERUEL</td><td>ESTADUAL</td><td>6830290880</td><td>110834780108</td><td>DEPUTADO FEDERAL</td><td>VEREADOR</td><td>DEPUTADO ESTADUAL</td><td>APTO</td><td>APTO</td><td>APTO</td><td>2022-10-02</td><td>UNIÃO</td><td>UNIÃO BRASIL</td><td>1966-06-29</td><td>MASCULINO</td><td>BRANCA</td><td>SUPERIOR COMPLETO</td><td>DIVORCIADO(A)</td><td>VEREADOR</td><td>SP</td><td>SÃO PAULO</td><td>SUPLENTE</td><td>ELEITO POR MÉDIA</td><td>SUPLENTE</td><td>null</td><td>922084.1100000001</td><td>960770.9800000001</td></tr></tbody></table></div>"
      ]
     },
     "metadata": {
      "application/vnd.databricks.v1+output": {
       "addedWidgets": {},
       "aggData": [],
       "aggError": "",
       "aggOverflow": false,
       "aggSchema": [],
       "aggSeriesLimitReached": false,
       "aggType": "",
       "arguments": {},
       "columnCustomDisplayInfos": {},
       "data": [
        [
         "JAIRO SANTANA DA SILVA",
         "JAIRO DE GLÓRIA",
         "ESTADUAL",
         80208053549,
         12328342100,
         "DEPUTADO ESTADUAL",
         "PREFEITO",
         "DEPUTADO ESTADUAL",
         "APTO",
         "APTO",
         "APTO",
         "2022-10-02",
         "PP",
         "PROGRESSISTAS",
         "1979-06-22",
         "MASCULINO",
         "PARDA",
         "SUPERIOR COMPLETO",
         "DIVORCIADO(A)",
         "CONTADOR",
         "SE",
         "SERGIPE",
         "SUPLENTE",
         "NÃO ELEITO",
         "SUPLENTE",
         null,
         null,
         null
        ],
        [
         "GELSON FERRAZ DE MEDEIROS",
         "GELSON FERRAZ",
         "ESTADUAL",
         32983506720,
         48856060710,
         "1º SUPLENTE",
         "VEREADOR",
         "DEPUTADO ESTADUAL",
         "APTO",
         "APTO",
         "APTO",
         "2022-10-02",
         "AVANTE",
         "AVANTE",
         "1953-01-18",
         "MASCULINO",
         "PARDA",
         "ENSINO MÉDIO COMPLETO",
         "CASADO(A)",
         "LOCUTOR E COMENTARISTA DE RÁDIO E TELEVISÃO E RADIALISTA",
         "CE",
         "CEARÁ",
         "NÃO ELEITO",
         "SUPLENTE",
         "SUPLENTE",
         501117.38,
         116560.32,
         11539.82
        ],
        [
         "JAMIR CALILI RIBEIRO",
         "JAMIR CALILI RIBEIRO",
         "ESTADUAL",
         1304762696,
         134168860213,
         "DEPUTADO ESTADUAL",
         "VEREADOR",
         "DEPUTADO ESTADUAL",
         "APTO",
         "APTO",
         "APTO",
         "2022-10-02",
         "PP",
         "PROGRESSISTAS",
         "1982-10-21",
         "MASCULINO",
         "BRANCA",
         "SUPERIOR COMPLETO",
         "CASADO(A)",
         "PROFESSOR DE ENSINO SUPERIOR",
         "MG",
         "MINAS GERAIS",
         "SUPLENTE",
         "ELEITO POR QP",
         "SUPLENTE",
         null,
         1415000.0,
         1789060.0
        ],
        [
         "MANOEL FRANCISCO LIMA DE SOUZA",
         "MANOEL IZO",
         "ESTADUAL",
         47815337287,
         2387752410,
         "DEPUTADO ESTADUAL",
         "VEREADOR",
         "DEPUTADO ESTADUAL",
         "APTO",
         "APTO",
         "APTO",
         "2022-10-02",
         "DC",
         "DEMOCRACIA CRISTÃ",
         "1971-10-28",
         "MASCULINO",
         "PRETA",
         "ENSINO MÉDIO INCOMPLETO",
         "CASADO(A)",
         "OUTROS",
         "AC",
         "ACRE",
         "NÃO ELEITO",
         "NÃO ELEITO",
         "NÃO ELEITO",
         null,
         null,
         23000.0
        ],
        [
         "JOSÉ ÔNIX GOMES DA SILVA",
         "JOSÉ ÔNIX RÁDIO RIO BONITO",
         "ESTADUAL",
         3220945775,
         97887740396,
         "DEPUTADO FEDERAL",
         "VEREADOR",
         "DEPUTADO ESTADUAL",
         "APTO",
         "APTO",
         "APTO",
         "2022-10-02",
         "PSDB",
         "PARTIDO DA SOCIAL DEMOCRACIA BRASILEIRA",
         "1977-09-18",
         "MASCULINO",
         "PRETA",
         "ENSINO MÉDIO COMPLETO",
         "DIVORCIADO(A)",
         "VIGILANTE",
         "RJ",
         "RIO DE JANEIRO",
         "NÃO ELEITO",
         "SUPLENTE",
         "SUPLENTE",
         null,
         null,
         null
        ],
        [
         "CESAR ANTONIO VALDUGA",
         "VALDUGA",
         "ESTADUAL",
         42570778915,
         16092430906,
         "DEPUTADO ESTADUAL",
         "VEREADOR",
         "DEPUTADO ESTADUAL",
         "APTO",
         "APTO",
         "APTO",
         "2022-10-02",
         "PC do B",
         "PARTIDO COMUNISTA DO BRASIL",
         "1961-05-20",
         "MASCULINO",
         "BRANCA",
         "ENSINO MÉDIO COMPLETO",
         "SOLTEIRO(A)",
         "BANCÁRIO E ECONOMIÁRIO",
         "SC",
         "SANTA CATARINA",
         "SUPLENTE",
         "ELEITO POR QP",
         "SUPLENTE",
         null,
         2957746.77,
         526788.1900000001
        ],
        [
         "MARIANA ROSSETO SANTOS",
         "PROFESSORA MARIANA",
         "ESTADUAL",
         10360020801,
         193058900116,
         "DEPUTADO ESTADUAL",
         "VEREADOR",
         "DEPUTADO FEDERAL",
         "APTO",
         "APTO",
         "APTO",
         "2022-10-02",
         "PT",
         "PARTIDO DOS TRABALHADORES",
         "1973-07-13",
         "FEMININO",
         "BRANCA",
         "SUPERIOR COMPLETO",
         "SOLTEIRO(A)",
         "PROFESSOR DE ENSINO MÉDIO",
         "SP",
         "SÃO PAULO",
         "SUPLENTE",
         "NÃO ELEITO",
         "SUPLENTE",
         null,
         78413.98000000001,
         62000.0
        ],
        [
         "LUIZ EDUARDO CARNEIRO DA SILVA DE SOUZA LIMA",
         "LUIZ LIMA",
         "ESTADUAL",
         7616393730,
         100242820302,
         "DEPUTADO FEDERAL",
         "PREFEITO",
         "DEPUTADO FEDERAL",
         "APTO",
         "APTO",
         "APTO",
         "2022-10-02",
         "PL",
         "PARTIDO LIBERAL",
         "1977-12-10",
         "MASCULINO",
         "BRANCA",
         "SUPERIOR COMPLETO",
         "SOLTEIRO(A)",
         "DEPUTADO",
         "RJ",
         "RIO DE JANEIRO",
         "ELEITO POR QP",
         "NÃO ELEITO",
         "ELEITO POR QP",
         null,
         1537681.74,
         1749011.3500000003
        ],
        [
         "CRISTINA ALVES DE GODOY",
         "CRIS GODOY",
         "ESTADUAL",
         13563540845,
         188441480141,
         "DEPUTADO ESTADUAL",
         "VEREADOR",
         "DEPUTADO ESTADUAL",
         "APTO",
         "APTO",
         "APTO",
         "2022-10-02",
         "PTB",
         "PARTIDO TRABALHISTA BRASILEIRO",
         "1971-01-31",
         "FEMININO",
         "BRANCA",
         "SUPERIOR COMPLETO",
         "DIVORCIADO(A)",
         "PSICÓLOGO",
         "SP",
         "SÃO PAULO",
         "NÃO ELEITO",
         "NÃO ELEITO",
         "SUPLENTE",
         null,
         51074.26,
         117036.30000000002
        ],
        [
         "DELBIO CAMARGO TERUEL",
         "DELBIO TERUEL",
         "ESTADUAL",
         6830290880,
         110834780108,
         "DEPUTADO FEDERAL",
         "VEREADOR",
         "DEPUTADO ESTADUAL",
         "APTO",
         "APTO",
         "APTO",
         "2022-10-02",
         "UNIÃO",
         "UNIÃO BRASIL",
         "1966-06-29",
         "MASCULINO",
         "BRANCA",
         "SUPERIOR COMPLETO",
         "DIVORCIADO(A)",
         "VEREADOR",
         "SP",
         "SÃO PAULO",
         "SUPLENTE",
         "ELEITO POR MÉDIA",
         "SUPLENTE",
         null,
         922084.1100000001,
         960770.9800000001
        ]
       ],
       "datasetInfos": [],
       "dbfsResultPath": null,
       "isJsonSchema": true,
       "metadata": {},
       "overflow": false,
       "plotOptions": {
        "customPlotOptions": {},
        "displayType": "table",
        "pivotAggregation": null,
        "pivotColumns": null,
        "xColumns": null,
        "yColumns": null
       },
       "removedWidgets": [],
       "schema": [
        {
         "metadata": "{\"comment\":\"Name of the candidate in 2022\",\"__CHAR_VARCHAR_TYPE_STRING\":\"varchar(200)\"}",
         "name": "NM_CANDIDATO",
         "type": "\"string\""
        },
        {
         "metadata": "{\"comment\":\"Name of the candidate that apperars in ballot box in 2022\",\"__CHAR_VARCHAR_TYPE_STRING\":\"varchar(200)\"}",
         "name": "NM_URNA_CANDIDATO",
         "type": "\"string\""
        },
        {
         "metadata": "{\"comment\":\"Type of election (Municipal or Presidencial) in 2022\",\"__CHAR_VARCHAR_TYPE_STRING\":\"varchar(100)\"}",
         "name": "TP_ABRANGENCIA",
         "type": "\"string\""
        },
        {
         "metadata": "{\"comment\":\"Identity of the candidate\"}",
         "name": "NR_CPF_CANDIDATO",
         "type": "\"long\""
        },
        {
         "metadata": "{\"comment\":\"Electoral Identity of the candidate\"}",
         "name": "NR_TITULO_ELEITORAL_CANDIDATO",
         "type": "\"long\""
        },
        {
         "metadata": "{\"comment\":\"Position of dispute in 2022\",\"__CHAR_VARCHAR_TYPE_STRING\":\"varchar(100)\"}",
         "name": "DS_CARGO",
         "type": "\"string\""
        },
        {
         "metadata": "{\"comment\":\"Position of dispute in 2020\",\"__CHAR_VARCHAR_TYPE_STRING\":\"varchar(100)\"}",
         "name": "DS_CARGO_2020",
         "type": "\"string\""
        },
        {
         "metadata": "{\"comment\":\"Position of dispute in 2018\",\"__CHAR_VARCHAR_TYPE_STRING\":\"varchar(100)\"}",
         "name": "DS_CARGO_2018",
         "type": "\"string\""
        },
        {
         "metadata": "{\"comment\":\"Situation of the candidature (APTO, CADASTRADO, INAPTO) in 2022\",\"__CHAR_VARCHAR_TYPE_STRING\":\"varchar(100)\"}",
         "name": "DS_SITUACAO_CANDIDATURA",
         "type": "\"string\""
        },
        {
         "metadata": "{\"comment\":\"Situation of the candidature (APTO, CADASTRADO, INAPTO) in 2020\",\"__CHAR_VARCHAR_TYPE_STRING\":\"varchar(100)\"}",
         "name": "DS_SITUACAO_CANDIDATURA_2020",
         "type": "\"string\""
        },
        {
         "metadata": "{\"comment\":\"Situation of the candidature (APTO, CADASTRADO, INAPTO) in 2018\",\"__CHAR_VARCHAR_TYPE_STRING\":\"varchar(100)\"}",
         "name": "DS_SITUACAO_CANDIDATURA_2018",
         "type": "\"string\""
        },
        {
         "metadata": "{\"comment\":\"Date of the election, for some can be either the first or the second round\"}",
         "name": "DT_ELEICAO",
         "type": "\"date\""
        },
        {
         "metadata": "{\"comment\":\"Abreviation of the name of the political party in 2022\",\"__CHAR_VARCHAR_TYPE_STRING\":\"varchar(50)\"}",
         "name": "SG_PARTIDO",
         "type": "\"string\""
        },
        {
         "metadata": "{\"comment\":\"Name of the political party in 2022\",\"__CHAR_VARCHAR_TYPE_STRING\":\"varchar(100)\"}",
         "name": "NM_PARTIDO",
         "type": "\"string\""
        },
        {
         "metadata": "{\"comment\":\"Date of birth of the candidate\"}",
         "name": "DT_NASCIMENTO",
         "type": "\"date\""
        },
        {
         "metadata": "{\"comment\":\"Gender of the candidate (MASCULINO, FEMININO, NÃO DIVULGÁVEL) declared in 2022\",\"__CHAR_VARCHAR_TYPE_STRING\":\"varchar(100)\"}",
         "name": "DS_GENERO",
         "type": "\"string\""
        },
        {
         "metadata": "{\"comment\":\"Etinity Race of the candidate (AMARELA, BRANCA, INDÍGENA, NÃO DIVULGÁVEL, PARDA, PRETA) declared in 2022\",\"__CHAR_VARCHAR_TYPE_STRING\":\"varchar(100)\"}",
         "name": "DS_COR_RACA",
         "type": "\"string\""
        },
        {
         "metadata": "{\"comment\":\"Education Degree of the candidate (ENSINO FUNDAMENTAL COMPLETO, ENSINO FUNDAMENTAL INCOMPLETO, ENSINO MÉDIO COMPLETO, ENSINO MÉDIO INCOMPLETO, LÊ E ESCREVE, NÃO DIVULGÁVEL, SUPERIOR  \\n        COMPLETO, SUPERIOR INCOMPLETO) declared in 2022\",\"__CHAR_VARCHAR_TYPE_STRING\":\"varchar(100)\"}",
         "name": "DS_GRAU_INSTRUCAO",
         "type": "\"string\""
        },
        {
         "metadata": "{\"comment\":\"Marital Status of the candidate (CASADO(A), DIVORCIADO(A), NÃO DIVULGÁVEL, SEPARADO(A) JUDICIALMENTE, SOLTEIRO(A), VIÚVO(A)) declared in 2022\",\"__CHAR_VARCHAR_TYPE_STRING\":\"varchar(100)\"}",
         "name": "DS_ESTADO_CIVIL",
         "type": "\"string\""
        },
        {
         "metadata": "{\"comment\":\"Occupation of the candidate declared in 2022\",\"__CHAR_VARCHAR_TYPE_STRING\":\"varchar(200)\"}",
         "name": "DS_OCUPACAO",
         "type": "\"string\""
        },
        {
         "metadata": "{\"comment\":\"State of dispute in 2022\",\"__CHAR_VARCHAR_TYPE_STRING\":\"varchar(200)\"}",
         "name": "SG_UF",
         "type": "\"string\""
        },
        {
         "metadata": "{\"comment\":\"District of dispute in 2022\",\"__CHAR_VARCHAR_TYPE_STRING\":\"varchar(200)\"}",
         "name": "NM_UE",
         "type": "\"string\""
        },
        {
         "metadata": "{\"comment\":\"Status of the electoral dispute in 2022\",\"__CHAR_VARCHAR_TYPE_STRING\":\"varchar(200)\"}",
         "name": "DS_SIT_TOT_TURNO",
         "type": "\"string\""
        },
        {
         "metadata": "{\"comment\":\"Status of the electoral dispute in 2020\",\"__CHAR_VARCHAR_TYPE_STRING\":\"varchar(200)\"}",
         "name": "DS_SIT_TOT_TURNO_2020",
         "type": "\"string\""
        },
        {
         "metadata": "{\"comment\":\"Status of the electoral dispute in 2018\",\"__CHAR_VARCHAR_TYPE_STRING\":\"varchar(200)\"}",
         "name": "DS_SIT_TOT_TURNO_2018",
         "type": "\"string\""
        },
        {
         "metadata": "{\"comment\":\"Total amount owned of the candidate in 2022\"}",
         "name": "VR_BEM_CANDIDATO",
         "type": "\"double\""
        },
        {
         "metadata": "{\"comment\":\"Total amount owned of the candidate in 2020\"}",
         "name": "VR_BEM_CANDIDATO_2020",
         "type": "\"double\""
        },
        {
         "metadata": "{\"comment\":\"Total amount owned of the candidate in 2018\"}",
         "name": "VR_BEM_CANDIDATO_2018",
         "type": "\"double\""
        }
       ],
       "type": "table"
      }
     },
     "output_type": "display_data"
    }
   ],
   "source": [
    "%sql\n",
    "SELECT\n",
    "*\n",
    "FROM \n",
    "  eleicao_gold.patrimonio\n",
    "LIMIT 10"
   ]
  },
  {
   "cell_type": "markdown",
   "metadata": {
    "application/vnd.databricks.v1+cell": {
     "cellMetadata": {},
     "inputWidgets": {},
     "nuid": "2ea20be6-3cab-49af-b157-f57118274adf",
     "showTitle": false,
     "tableResultSettingsMap": {},
     "title": ""
    }
   },
   "source": [
    "Como visto, para garantir o máximo possível a assertividade do join, foram utilizados os campos de \"SG_UF_NASCIMENTO\" e \"DT_NASCIMENTO\"."
   ]
  },
  {
   "cell_type": "markdown",
   "metadata": {
    "application/vnd.databricks.v1+cell": {
     "cellMetadata": {
      "byteLimit": 2048000,
      "rowLimit": 10000
     },
     "inputWidgets": {},
     "nuid": "68913cea-0d1a-4286-b9c6-10ca4bd09005",
     "showTitle": false,
     "tableResultSettingsMap": {},
     "title": ""
    }
   },
   "source": [
    "------------------------------------------"
   ]
  },
  {
   "cell_type": "markdown",
   "metadata": {
    "application/vnd.databricks.v1+cell": {
     "cellMetadata": {},
     "inputWidgets": {},
     "nuid": "33e306fd-28bb-40b5-9c43-f1548fc308af",
     "showTitle": false,
     "tableResultSettingsMap": {},
     "title": ""
    }
   },
   "source": [
    "# Análise:\n",
    "A seguir apenas respostas rápidas para perguntas feitas:\n"
   ]
  },
  {
   "cell_type": "markdown",
   "metadata": {
    "application/vnd.databricks.v1+cell": {
     "cellMetadata": {},
     "inputWidgets": {},
     "nuid": "13080003-1ac3-4baa-a6f5-5a2b376c921d",
     "showTitle": false,
     "tableResultSettingsMap": {},
     "title": ""
    }
   },
   "source": [
    "OBS: Essa análise usa dados do TSE sobre os bens _declarados_ dos candidatos, será considerada apenas a evolução de candidatos recorrentes, isto é, pessoas que se candidataram em duas eleições. Isso pode diminuir enormemente nossa base e a confiabilidade, entretando ressalto que esse estudo é meramente para fins de projeto MVP para conclusão do módulo sobre **Engenharia de Dados** e para satisfação da curiosidade do autor, ressalto que o intuito aqui não é qualquer vínculo de cunho político ou partidário, apenas a satisfação de um aprofundamento sob dados aplamente divulgados pelos orgãos competentes, ademais segue metodologia da análise:"
   ]
  },
  {
   "cell_type": "markdown",
   "metadata": {
    "application/vnd.databricks.v1+cell": {
     "cellMetadata": {},
     "inputWidgets": {},
     "nuid": "32afd17f-0dc8-4caa-b719-53f00d52cf8a",
     "showTitle": false,
     "tableResultSettingsMap": {},
     "title": ""
    }
   },
   "source": [
    "### Metodologia\n",
    "Avaliar evolução patrimonial _declarada_ é algo bem complexo, vários fatores externos podem estar ligadas a diminuição ou aumento que não sejam o servidorismo, como \"muleta\" técnica usarei informações como quantidade de candidatos em cada particionamento, a média de patrimônio declarada e a quantidade de declarações realizadas em cada ano por tipo.\n",
    "- As comparações serão feitas entre doi anos, lembrando que olharemos apenas candidatos recorrentes, exemplo: qual a evolução de patrimonio entre candidatos recorrentes entre os anos de 2020 e 2022...\n",
    "  "
   ]
  },
  {
   "cell_type": "markdown",
   "metadata": {
    "application/vnd.databricks.v1+cell": {
     "cellMetadata": {},
     "inputWidgets": {},
     "nuid": "aa0067d6-7de8-45be-8c12-66e9bcada614",
     "showTitle": false,
     "tableResultSettingsMap": {},
     "title": ""
    }
   },
   "source": [
    "### Pergunta Principal:\n",
    "#### Qual a evolução patrimonial dos candidatos recorrentes da eleição de 2022?"
   ]
  },
  {
   "cell_type": "markdown",
   "metadata": {
    "application/vnd.databricks.v1+cell": {
     "cellMetadata": {},
     "inputWidgets": {},
     "nuid": "3363750a-126c-4fea-9f97-be1f64dff777",
     "showTitle": false,
     "tableResultSettingsMap": {},
     "title": ""
    }
   },
   "source": [
    "### Perguntas de Desdobramento:\n",
    "1. Qual média patrimonial dos candidatos (por cargo concorrido)?\n",
    "2. Candidatos eleitos tem variação diferente de patrimônio?\n",
    "3. A variação é diferente por partido?\n",
    "4. A variação é diferente entre gênero?\n",
    "5. A variação é diferente por idade?"
   ]
  },
  {
   "cell_type": "code",
   "execution_count": 0,
   "metadata": {
    "application/vnd.databricks.v1+cell": {
     "cellMetadata": {
      "byteLimit": 2048000,
      "implicitDf": true,
      "rowLimit": 10000
     },
     "inputWidgets": {},
     "nuid": "f9a79114-1195-472e-8c4d-e018672f68fa",
     "showTitle": false,
     "tableResultSettingsMap": {},
     "title": ""
    }
   },
   "outputs": [
    {
     "output_type": "display_data",
     "data": {
      "text/html": [
       "<style scoped>\n",
       "  .table-result-container {\n",
       "    max-height: 300px;\n",
       "    overflow: auto;\n",
       "  }\n",
       "  table, th, td {\n",
       "    border: 1px solid black;\n",
       "    border-collapse: collapse;\n",
       "  }\n",
       "  th, td {\n",
       "    padding: 5px;\n",
       "  }\n",
       "  th {\n",
       "    text-align: left;\n",
       "  }\n",
       "</style><div class='table-result-container'><table class='table-result'><thead style='background-color: white'><tr><th>QTD_CANDIDATOS_DECLARACOES_2022</th><th>VR_TOTAL_DECLARADO_2022</th><th>QTD_CANDIDATOS_DECLARACOES_2020</th><th>VR_TOTAL_DECLARADO_2020</th><th>QTD_CANDIDATOS_DECLARACOES_2018</th><th>VR_TOTAL_DECLARADO_2018</th></tr></thead><tbody><tr><td>4655</td><td>2.299662642503998E10</td><td>340935</td><td>1.150809522064301E11</td><td>17646</td><td>2.422924231855999E10</td></tr></tbody></table></div>"
      ]
     },
     "metadata": {
      "application/vnd.databricks.v1+output": {
       "addedWidgets": {},
       "aggData": [],
       "aggError": "",
       "aggOverflow": false,
       "aggSchema": [],
       "aggSeriesLimitReached": false,
       "aggType": "",
       "arguments": {},
       "columnCustomDisplayInfos": {},
       "data": [
        [
         4655,
         2.299662642503998E10,
         340935,
         1.150809522064301E11,
         17646,
         2.422924231855999E10
        ]
       ],
       "datasetInfos": [],
       "dbfsResultPath": null,
       "isJsonSchema": true,
       "metadata": {},
       "overflow": false,
       "plotOptions": {
        "customPlotOptions": {},
        "displayType": "table",
        "pivotAggregation": null,
        "pivotColumns": null,
        "xColumns": null,
        "yColumns": null
       },
       "removedWidgets": [],
       "schema": [
        {
         "metadata": "{}",
         "name": "QTD_CANDIDATOS_DECLARACOES_2022",
         "type": "\"long\""
        },
        {
         "metadata": "{}",
         "name": "VR_TOTAL_DECLARADO_2022",
         "type": "\"double\""
        },
        {
         "metadata": "{}",
         "name": "QTD_CANDIDATOS_DECLARACOES_2020",
         "type": "\"long\""
        },
        {
         "metadata": "{}",
         "name": "VR_TOTAL_DECLARADO_2020",
         "type": "\"double\""
        },
        {
         "metadata": "{}",
         "name": "QTD_CANDIDATOS_DECLARACOES_2018",
         "type": "\"long\""
        },
        {
         "metadata": "{}",
         "name": "VR_TOTAL_DECLARADO_2018",
         "type": "\"double\""
        }
       ],
       "type": "table"
      }
     },
     "output_type": "display_data"
    }
   ],
   "source": [
    "%sql\n",
    "SELECT\n",
    "   COUNT(DISTINCT IF(ANO_ELEICAO = 2022,SQ_CANDIDATO,NULL)) AS QTD_CANDIDATOS_DECLARACOES_2022\n",
    "  ,SUM(IF(ANO_ELEICAO = 2022,VR_BEM_CANDIDATO,NULL)) AS VR_TOTAL_DECLARADO_2022\n",
    "  ,COUNT(DISTINCT IF(ANO_ELEICAO = 2020,SQ_CANDIDATO,NULL)) AS QTD_CANDIDATOS_DECLARACOES_2020\n",
    "  ,SUM(IF(ANO_ELEICAO = 2020,VR_BEM_CANDIDATO,NULL)) AS VR_TOTAL_DECLARADO_2020\n",
    "  ,COUNT(DISTINCT IF(ANO_ELEICAO = 2018,SQ_CANDIDATO,NULL)) AS QTD_CANDIDATOS_DECLARACOES_2018\n",
    "  ,SUM(IF(ANO_ELEICAO = 2018,VR_BEM_CANDIDATO,NULL)) AS VR_TOTAL_DECLARADO_2018\n",
    "FROM \n",
    "  eleicao_silver.bens_candidatos"
   ]
  },
  {
   "cell_type": "markdown",
   "metadata": {
    "application/vnd.databricks.v1+cell": {
     "cellMetadata": {},
     "inputWidgets": {},
     "nuid": "579b3ec9-98da-41ad-9cb8-3b9bc11903fb",
     "showTitle": false,
     "tableResultSettingsMap": {},
     "title": ""
    }
   },
   "source": [
    "Repare que há bem menos candidatos com declarações no ano de 2022, mais que 4x menos comparado a 2018 que foram eleições do mesmo ambito, segundo a documentação fornecida podem ter havido em 2022 mais pedidos de sigilo/não divulgação ou simplesmente menos declarações."
   ]
  },
  {
   "cell_type": "code",
   "execution_count": 0,
   "metadata": {
    "application/vnd.databricks.v1+cell": {
     "cellMetadata": {
      "byteLimit": 2048000,
      "implicitDf": true,
      "rowLimit": 10000
     },
     "inputWidgets": {},
     "nuid": "457942f5-3dd4-4e80-b5ad-eeaea99ea758",
     "showTitle": false,
     "tableResultSettingsMap": {},
     "title": ""
    }
   },
   "outputs": [
    {
     "output_type": "display_data",
     "data": {
      "text/html": [
       "<style scoped>\n",
       "  .table-result-container {\n",
       "    max-height: 300px;\n",
       "    overflow: auto;\n",
       "  }\n",
       "  table, th, td {\n",
       "    border: 1px solid black;\n",
       "    border-collapse: collapse;\n",
       "  }\n",
       "  th, td {\n",
       "    padding: 5px;\n",
       "  }\n",
       "  th {\n",
       "    text-align: left;\n",
       "  }\n",
       "</style><div class='table-result-container'><table class='table-result'><thead style='background-color: white'><tr><th>MEDIA_DECLARACOES_2022</th><th>MEDIA_DECLARACOES_2020</th><th>MEDIA_DECLARACOES_2018</th></tr></thead><tbody><tr><td>4979780.516465998</td><td>339173.68274033477</td><td>1373072.7824186778</td></tr></tbody></table></div>"
      ]
     },
     "metadata": {
      "application/vnd.databricks.v1+output": {
       "addedWidgets": {},
       "aggData": [],
       "aggError": "",
       "aggOverflow": false,
       "aggSchema": [],
       "aggSeriesLimitReached": false,
       "aggType": "",
       "arguments": {},
       "columnCustomDisplayInfos": {},
       "data": [
        [
         4979780.516465998,
         339173.68274033477,
         1373072.7824186778
        ]
       ],
       "datasetInfos": [],
       "dbfsResultPath": null,
       "isJsonSchema": true,
       "metadata": {},
       "overflow": false,
       "plotOptions": {
        "customPlotOptions": {},
        "displayType": "table",
        "pivotAggregation": null,
        "pivotColumns": null,
        "xColumns": null,
        "yColumns": null
       },
       "removedWidgets": [],
       "schema": [
        {
         "metadata": "{}",
         "name": "MEDIA_DECLARACOES_2022",
         "type": "\"double\""
        },
        {
         "metadata": "{}",
         "name": "MEDIA_DECLARACOES_2020",
         "type": "\"double\""
        },
        {
         "metadata": "{}",
         "name": "MEDIA_DECLARACOES_2018",
         "type": "\"double\""
        }
       ],
       "type": "table"
      }
     },
     "output_type": "display_data"
    }
   ],
   "source": [
    "%sql\n",
    "SELECT\n",
    "   AVG(IF(ANO_ELEICAO = 2022,VR_BEM_CANDIDATO,NULL)) AS MEDIA_DECLARACOES_2022\n",
    "  ,AVG(IF(ANO_ELEICAO = 2020,VR_BEM_CANDIDATO,NULL)) AS MEDIA_DECLARACOES_2020\n",
    "  ,AVG(IF(ANO_ELEICAO = 2018,VR_BEM_CANDIDATO,NULL)) AS MEDIA_DECLARACOES_2018\n",
    "FROM \n",
    "  eleicao_silver.bens_candidatos"
   ]
  },
  {
   "cell_type": "markdown",
   "metadata": {
    "application/vnd.databricks.v1+cell": {
     "cellMetadata": {},
     "inputWidgets": {},
     "nuid": "f54cb05f-82a8-4a75-84da-d680c0c4cba1",
     "showTitle": false,
     "tableResultSettingsMap": {},
     "title": ""
    }
   },
   "source": [
    "A média patrimonial declarada por candidato teve uma variação alta, tanto de 2018 para 2022, quanto entre 2020 e 2022 (essa última eleições de ambitos diferentes)."
   ]
  },
  {
   "cell_type": "markdown",
   "metadata": {
    "application/vnd.databricks.v1+cell": {
     "cellMetadata": {},
     "inputWidgets": {},
     "nuid": "f2053558-bca7-4282-b0b0-bb160161c391",
     "showTitle": false,
     "tableResultSettingsMap": {},
     "title": ""
    }
   },
   "source": [
    "Para a variação usarei a fórmula simples de diferença: (Valor atual/Valo anterior) - 1"
   ]
  },
  {
   "cell_type": "code",
   "execution_count": 0,
   "metadata": {
    "application/vnd.databricks.v1+cell": {
     "cellMetadata": {
      "byteLimit": 2048000,
      "implicitDf": true,
      "rowLimit": 10000
     },
     "inputWidgets": {},
     "nuid": "10f2b70d-ef31-48c3-b962-a790aff8601e",
     "showTitle": false,
     "tableResultSettingsMap": {},
     "title": ""
    }
   },
   "outputs": [
    {
     "output_type": "display_data",
     "data": {
      "text/html": [
       "<style scoped>\n",
       "  .table-result-container {\n",
       "    max-height: 300px;\n",
       "    overflow: auto;\n",
       "  }\n",
       "  table, th, td {\n",
       "    border: 1px solid black;\n",
       "    border-collapse: collapse;\n",
       "  }\n",
       "  th, td {\n",
       "    padding: 5px;\n",
       "  }\n",
       "  th {\n",
       "    text-align: left;\n",
       "  }\n",
       "</style><div class='table-result-container'><table class='table-result'><thead style='background-color: white'><tr><th>count(DISTINCT NR_CPF_CANDIDATO)</th><th>MEDIA_BENS_2022</th><th>MEDIA_BENS_2018</th><th>VR_BEM_CANDIDATO_2022</th><th>VR_BEM_CANDIDATO_2018</th><th>VARIACAO_22_18</th><th>PERC_VARIACAO_22_18</th></tr></thead><tbody><tr><td>1164</td><td>1705204.461806615</td><td>1315350.7866327388</td><td>2.0104360604699993E9</td><td>1.550798577439999E9</td><td>1.2963876094010562</td><td>0.29638760940105624</td></tr></tbody></table></div>"
      ]
     },
     "metadata": {
      "application/vnd.databricks.v1+output": {
       "addedWidgets": {},
       "aggData": [],
       "aggError": "",
       "aggOverflow": false,
       "aggSchema": [],
       "aggSeriesLimitReached": false,
       "aggType": "",
       "arguments": {},
       "columnCustomDisplayInfos": {},
       "data": [
        [
         1164,
         1705204.461806615,
         1315350.7866327388,
         2.0104360604699993E9,
         1.550798577439999E9,
         1.2963876094010562,
         0.29638760940105624
        ]
       ],
       "datasetInfos": [],
       "dbfsResultPath": null,
       "isJsonSchema": true,
       "metadata": {},
       "overflow": false,
       "plotOptions": {
        "customPlotOptions": {},
        "displayType": "table",
        "pivotAggregation": null,
        "pivotColumns": null,
        "xColumns": null,
        "yColumns": null
       },
       "removedWidgets": [],
       "schema": [
        {
         "metadata": "{\"__autoGeneratedAlias\":\"true\"}",
         "name": "count(DISTINCT NR_CPF_CANDIDATO)",
         "type": "\"long\""
        },
        {
         "metadata": "{}",
         "name": "MEDIA_BENS_2022",
         "type": "\"double\""
        },
        {
         "metadata": "{}",
         "name": "MEDIA_BENS_2018",
         "type": "\"double\""
        },
        {
         "metadata": "{}",
         "name": "VR_BEM_CANDIDATO_2022",
         "type": "\"double\""
        },
        {
         "metadata": "{}",
         "name": "VR_BEM_CANDIDATO_2018",
         "type": "\"double\""
        },
        {
         "metadata": "{}",
         "name": "VARIACAO_22_18",
         "type": "\"double\""
        },
        {
         "metadata": "{}",
         "name": "PERC_VARIACAO_22_18",
         "type": "\"double\""
        }
       ],
       "type": "table"
      }
     },
     "output_type": "display_data"
    }
   ],
   "source": [
    "%sql\n",
    "--Primeira comparação entre 2018 e 2022\n",
    "SELECT\n",
    "   COUNT(DISTINCT NR_CPF_CANDIDATO)\n",
    "  ,AVG(VR_BEM_CANDIDATO) AS MEDIA_BENS_2022\n",
    "  ,AVG(VR_BEM_CANDIDATO_2018) AS MEDIA_BENS_2018\n",
    "  ,SUM(VR_BEM_CANDIDATO) AS VR_BEM_CANDIDATO_2022\n",
    "  ,SUM(VR_BEM_CANDIDATO_2018) AS VR_BEM_CANDIDATO_2018\n",
    "  ,SUM(VR_BEM_CANDIDATO) / SUM(VR_BEM_CANDIDATO_2018) AS VARIACAO_22_18\n",
    "  ,SUM(VR_BEM_CANDIDATO) / SUM(VR_BEM_CANDIDATO_2018) - 1  AS PERC_VARIACAO_22_18\n",
    "FROM \n",
    "  eleicao_gold.patrimonio\n",
    "WHERE \n",
    "  DS_CARGO IS NOT NULL AND DS_CARGO_2018 IS NOT NULL AND VR_BEM_CANDIDATO IS NOT NULL AND VR_BEM_CANDIDATO_2018 IS NOT NULL"
   ]
  },
  {
   "cell_type": "markdown",
   "metadata": {
    "application/vnd.databricks.v1+cell": {
     "cellMetadata": {},
     "inputWidgets": {},
     "nuid": "b4b41a3d-1bb4-4b80-8e59-11ae832f8505",
     "showTitle": false,
     "tableResultSettingsMap": {},
     "title": ""
    }
   },
   "source": [
    "Nessa análise geral houveram 1164 candidatos recorrentes em 2022 que concorreram em 2018 que tiveram algum valor declarado. Estes com variação total positiva de aproximadamente 30%, seguindo a média declarada com aumento, seguindo a analise feita com todos os candidatos."
   ]
  },
  {
   "cell_type": "code",
   "execution_count": 0,
   "metadata": {
    "application/vnd.databricks.v1+cell": {
     "cellMetadata": {
      "byteLimit": 2048000,
      "implicitDf": true,
      "rowLimit": 10000
     },
     "inputWidgets": {},
     "nuid": "c11e95ab-8ded-47b4-8bf8-7208df53bf00",
     "showTitle": false,
     "tableResultSettingsMap": {},
     "title": ""
    }
   },
   "outputs": [
    {
     "output_type": "display_data",
     "data": {
      "text/html": [
       "<style scoped>\n",
       "  .table-result-container {\n",
       "    max-height: 300px;\n",
       "    overflow: auto;\n",
       "  }\n",
       "  table, th, td {\n",
       "    border: 1px solid black;\n",
       "    border-collapse: collapse;\n",
       "  }\n",
       "  th, td {\n",
       "    padding: 5px;\n",
       "  }\n",
       "  th {\n",
       "    text-align: left;\n",
       "  }\n",
       "</style><div class='table-result-container'><table class='table-result'><thead style='background-color: white'><tr><th>count(DISTINCT NR_CPF_CANDIDATO)</th><th>MEDIA_BENS_2022</th><th>MEDIA_BENS_2020</th><th>VR_BEM_CANDIDATO_2022</th><th>VR_BEM_CANDIDATO_2020</th><th>VARIACAO_22_20</th><th>PERC_VARIACAO_22_20</th></tr></thead><tbody><tr><td>1306</td><td>659124.301655431</td><td>2845633.373722847</td><td>8.799309427100005E8</td><td>3.798920553920001E9</td><td>0.2316265713432791</td><td>-0.7683734286567209</td></tr></tbody></table></div>"
      ]
     },
     "metadata": {
      "application/vnd.databricks.v1+output": {
       "addedWidgets": {},
       "aggData": [],
       "aggError": "",
       "aggOverflow": false,
       "aggSchema": [],
       "aggSeriesLimitReached": false,
       "aggType": "",
       "arguments": {},
       "columnCustomDisplayInfos": {},
       "data": [
        [
         1306,
         659124.301655431,
         2845633.373722847,
         8.799309427100005E8,
         3.798920553920001E9,
         0.2316265713432791,
         -0.7683734286567209
        ]
       ],
       "datasetInfos": [],
       "dbfsResultPath": null,
       "isJsonSchema": true,
       "metadata": {},
       "overflow": false,
       "plotOptions": {
        "customPlotOptions": {},
        "displayType": "table",
        "pivotAggregation": null,
        "pivotColumns": null,
        "xColumns": null,
        "yColumns": null
       },
       "removedWidgets": [],
       "schema": [
        {
         "metadata": "{\"__autoGeneratedAlias\":\"true\"}",
         "name": "count(DISTINCT NR_CPF_CANDIDATO)",
         "type": "\"long\""
        },
        {
         "metadata": "{}",
         "name": "MEDIA_BENS_2022",
         "type": "\"double\""
        },
        {
         "metadata": "{}",
         "name": "MEDIA_BENS_2020",
         "type": "\"double\""
        },
        {
         "metadata": "{}",
         "name": "VR_BEM_CANDIDATO_2022",
         "type": "\"double\""
        },
        {
         "metadata": "{}",
         "name": "VR_BEM_CANDIDATO_2020",
         "type": "\"double\""
        },
        {
         "metadata": "{}",
         "name": "VARIACAO_22_20",
         "type": "\"double\""
        },
        {
         "metadata": "{}",
         "name": "PERC_VARIACAO_22_20",
         "type": "\"double\""
        }
       ],
       "type": "table"
      }
     },
     "output_type": "display_data"
    }
   ],
   "source": [
    "%sql\n",
    "--Primeira comparação entre 2020 e 2022\n",
    "SELECT\n",
    "   COUNT(DISTINCT NR_CPF_CANDIDATO)\n",
    "  ,AVG(VR_BEM_CANDIDATO) AS MEDIA_BENS_2022\n",
    "  ,AVG(VR_BEM_CANDIDATO_2020) AS MEDIA_BENS_2020\n",
    "  ,SUM(VR_BEM_CANDIDATO) AS VR_BEM_CANDIDATO_2022\n",
    "  ,SUM(VR_BEM_CANDIDATO_2020) AS VR_BEM_CANDIDATO_2020\n",
    "  ,SUM(VR_BEM_CANDIDATO) / SUM(VR_BEM_CANDIDATO_2020) AS VARIACAO_22_20\n",
    "  ,SUM(VR_BEM_CANDIDATO) / SUM(VR_BEM_CANDIDATO_2020) - 1  AS PERC_VARIACAO_22_20\n",
    "FROM \n",
    "  eleicao_gold.patrimonio\n",
    "WHERE \n",
    "  DS_CARGO IS NOT NULL AND DS_CARGO_2020 IS NOT NULL AND VR_BEM_CANDIDATO IS NOT NULL AND VR_BEM_CANDIDATO_2020 IS NOT NULL"
   ]
  },
  {
   "cell_type": "markdown",
   "metadata": {
    "application/vnd.databricks.v1+cell": {
     "cellMetadata": {},
     "inputWidgets": {},
     "nuid": "a1ef2695-f325-4769-a371-9f5b609dffe8",
     "showTitle": false,
     "tableResultSettingsMap": {},
     "title": ""
    }
   },
   "source": [
    "Nessa análise geral houveram 1306 candidatos recorrentes em 2022 que concorreram em 2020(quase dobro mais que os que também concorreram em 2018). Estes com variação total negativa de aproximadamente 80%, seguido pela queda da média declarada."
   ]
  },
  {
   "cell_type": "markdown",
   "metadata": {
    "application/vnd.databricks.v1+cell": {
     "cellMetadata": {},
     "inputWidgets": {},
     "nuid": "2005b227-6503-48c8-bdec-517f0de6791e",
     "showTitle": false,
     "tableResultSettingsMap": {},
     "title": ""
    }
   },
   "source": [
    "Vamos começar algumas quebras, usando os anos de 2018 e 2022"
   ]
  },
  {
   "cell_type": "code",
   "execution_count": 0,
   "metadata": {
    "application/vnd.databricks.v1+cell": {
     "cellMetadata": {
      "byteLimit": 2048000,
      "implicitDf": true,
      "rowLimit": 10000
     },
     "inputWidgets": {},
     "nuid": "e56f431c-441c-4adb-a7d5-57e58b00fcf7",
     "showTitle": false,
     "tableResultSettingsMap": {},
     "title": ""
    }
   },
   "outputs": [
    {
     "output_type": "display_data",
     "data": {
      "text/html": [
       "<style scoped>\n",
       "  .table-result-container {\n",
       "    max-height: 300px;\n",
       "    overflow: auto;\n",
       "  }\n",
       "  table, th, td {\n",
       "    border: 1px solid black;\n",
       "    border-collapse: collapse;\n",
       "  }\n",
       "  th, td {\n",
       "    padding: 5px;\n",
       "  }\n",
       "  th {\n",
       "    text-align: left;\n",
       "  }\n",
       "</style><div class='table-result-container'><table class='table-result'><thead style='background-color: white'><tr><th>DS_CARGO</th><th>count(DISTINCT NR_CPF_CANDIDATO)</th><th>MEDIA_BENS_2022</th><th>MEDIA_BENS_2018</th><th>VR_BEM_CANDIDATO_2022</th><th>VR_BEM_CANDIDATO_2018</th><th>VARIACAO_22_18</th><th>PERC_VARIACAO_22_18</th></tr></thead><tbody><tr><td>VICE-GOVERNADOR</td><td>16</td><td>6197461.87625</td><td>4996333.610625</td><td>9.915939002E7</td><td>7.994133777E7</td><td>1.2404019345447088</td><td>24.04019345447088</td></tr><tr><td>SENADOR</td><td>28</td><td>2818303.7078571427</td><td>2431601.1635714285</td><td>7.891250382E7</td><td>6.808483258E7</td><td>1.1590320608819509</td><td>15.903206088195088</td></tr><tr><td>1º SUPLENTE</td><td>7</td><td>1480463.6414285714</td><td>1192347.007142857</td><td>1.036324549E7</td><td>8346429.049999999</td><td>1.2416382416861258</td><td>24.163824168612578</td></tr><tr><td>DEPUTADO FEDERAL</td><td>420</td><td>2181570.4350000005</td><td>1388541.5006839628</td><td>9.249858644400003E8</td><td>5.887415962900002E8</td><td>1.571123681881608</td><td>57.11236818816079</td></tr><tr><td>GOVERNADOR</td><td>32</td><td>8626464.3059375</td><td>7359143.2365625</td><td>2.7604685779E8</td><td>2.3549258357E8</td><td>1.1722104093691992</td><td>17.22104093691992</td></tr><tr><td>2º SUPLENTE</td><td>10</td><td>807433.7827272727</td><td>728020.1681818181</td><td>8881771.61</td><td>8008221.85</td><td>1.1090816134170909</td><td>10.90816134170909</td></tr><tr><td>DEPUTADO ESTADUAL</td><td>532</td><td>872504.1648148148</td><td>839906.2292592594</td><td>4.71152249E8</td><td>4.535493638000001E8</td><td>1.0388113987251941</td><td>3.8811398725194124</td></tr><tr><td>DEPUTADO DISTRITAL</td><td>121</td><td>1164745.2752066113</td><td>897803.409338843</td><td>1.4093417829999995E8</td><td>1.0863421253E8</td><td>1.2973277480248695</td><td>29.73277480248695</td></tr></tbody></table></div>"
      ]
     },
     "metadata": {
      "application/vnd.databricks.v1+output": {
       "addedWidgets": {},
       "aggData": [],
       "aggError": "",
       "aggOverflow": false,
       "aggSchema": [],
       "aggSeriesLimitReached": false,
       "aggType": "",
       "arguments": {},
       "columnCustomDisplayInfos": {},
       "data": [
        [
         "VICE-GOVERNADOR",
         16,
         6197461.87625,
         4996333.610625,
         9.915939002E7,
         7.994133777E7,
         1.2404019345447088,
         24.04019345447088
        ],
        [
         "SENADOR",
         28,
         2818303.7078571427,
         2431601.1635714285,
         7.891250382E7,
         6.808483258E7,
         1.1590320608819509,
         15.903206088195088
        ],
        [
         "1º SUPLENTE",
         7,
         1480463.6414285714,
         1192347.007142857,
         1.036324549E7,
         8346429.049999999,
         1.2416382416861258,
         24.163824168612578
        ],
        [
         "DEPUTADO FEDERAL",
         420,
         2181570.4350000005,
         1388541.5006839628,
         9.249858644400003E8,
         5.887415962900002E8,
         1.571123681881608,
         57.11236818816079
        ],
        [
         "GOVERNADOR",
         32,
         8626464.3059375,
         7359143.2365625,
         2.7604685779E8,
         2.3549258357E8,
         1.1722104093691992,
         17.22104093691992
        ],
        [
         "2º SUPLENTE",
         10,
         807433.7827272727,
         728020.1681818181,
         8881771.61,
         8008221.85,
         1.1090816134170909,
         10.90816134170909
        ],
        [
         "DEPUTADO ESTADUAL",
         532,
         872504.1648148148,
         839906.2292592594,
         4.71152249E8,
         4.535493638000001E8,
         1.0388113987251941,
         3.8811398725194124
        ],
        [
         "DEPUTADO DISTRITAL",
         121,
         1164745.2752066113,
         897803.409338843,
         1.4093417829999995E8,
         1.0863421253E8,
         1.2973277480248695,
         29.73277480248695
        ]
       ],
       "datasetInfos": [],
       "dbfsResultPath": null,
       "isJsonSchema": true,
       "metadata": {},
       "overflow": false,
       "plotOptions": {
        "customPlotOptions": {},
        "displayType": "table",
        "pivotAggregation": null,
        "pivotColumns": null,
        "xColumns": null,
        "yColumns": null
       },
       "removedWidgets": [],
       "schema": [
        {
         "metadata": "{\"comment\":\"Position of dispute in 2022\",\"__CHAR_VARCHAR_TYPE_STRING\":\"varchar(100)\"}",
         "name": "DS_CARGO",
         "type": "\"string\""
        },
        {
         "metadata": "{\"__autoGeneratedAlias\":\"true\"}",
         "name": "count(DISTINCT NR_CPF_CANDIDATO)",
         "type": "\"long\""
        },
        {
         "metadata": "{}",
         "name": "MEDIA_BENS_2022",
         "type": "\"double\""
        },
        {
         "metadata": "{}",
         "name": "MEDIA_BENS_2018",
         "type": "\"double\""
        },
        {
         "metadata": "{}",
         "name": "VR_BEM_CANDIDATO_2022",
         "type": "\"double\""
        },
        {
         "metadata": "{}",
         "name": "VR_BEM_CANDIDATO_2018",
         "type": "\"double\""
        },
        {
         "metadata": "{}",
         "name": "VARIACAO_22_18",
         "type": "\"double\""
        },
        {
         "metadata": "{}",
         "name": "PERC_VARIACAO_22_18",
         "type": "\"double\""
        }
       ],
       "type": "table"
      }
     },
     "output_type": "display_data"
    },
    {
     "output_type": "display_data",
     "data": {
      "text/plain": [
       "Databricks visualization. Run in Databricks to view."
      ]
     },
     "metadata": {
      "application/vnd.databricks.v1.subcommand+json": {
       "baseErrorDetails": null,
       "bindings": {},
       "collapsed": false,
       "command": "%sql WITH q AS (SELECT\n   DS_CARGO\n  ,COUNT(DISTINCT NR_CPF_CANDIDATO)\n  ,AVG(COALESCE(VR_BEM_CANDIDATO,0)) AS MEDIA_BENS_2022\n  ,AVG(COALESCE(VR_BEM_CANDIDATO_2018,0)) AS MEDIA_BENS_2018\n  ,SUM(COALESCE(VR_BEM_CANDIDATO,0)) AS VR_BEM_CANDIDATO_2022\n  ,SUM(COALESCE(VR_BEM_CANDIDATO_2018,0)) AS VR_BEM_CANDIDATO_2018\n  ,SUM(COALESCE(VR_BEM_CANDIDATO,0)) / SUM(COALESCE(VR_BEM_CANDIDATO_2018,0)) AS VARIACAO_22_20\n  ,SUM(COALESCE(VR_BEM_CANDIDATO,0)) / SUM(COALESCE(VR_BEM_CANDIDATO_2018,0)) - 1  AS PERC_VARIACAO_22_20\nFROM \n  eleicao_gold.patrimonio\nWHERE \n  DS_CARGO IS NOT NULL AND DS_CARGO_2018 IS NOT NULL AND VR_BEM_CANDIDATO IS NOT NULL AND VR_BEM_CANDIDATO_2018 IS NOT NULL\nGROUP BY \n  1) SELECT `DS_CARGO`,AVG(`PERC_VARIACAO_22_20`) `column_99a64532147` FROM q GROUP BY `DS_CARGO`",
       "commandTitle": "Var 2018 - 2022",
       "commandType": "auto",
       "commandVersion": 0,
       "commentThread": [],
       "commentsVisible": false,
       "contentSha256Hex": null,
       "customPlotOptions": {
        "redashChart": [
         {
          "key": "type",
          "value": "CHART"
         },
         {
          "key": "options",
          "value": {
           "alignYAxesAtZero": true,
           "coefficient": 1,
           "columnConfigurationMap": {
            "x": {
             "column": "DS_CARGO",
             "id": "column_99a64532143"
            },
            "y": [
             {
              "column": "PERC_VARIACAO_22_18",
              "id": "column_99a64532147",
              "transform": "AVG"
             }
            ]
           },
           "dateTimeFormat": "DD/MM/YYYY HH:mm",
           "direction": {
            "type": "counterclockwise"
           },
           "error_y": {
            "type": "data",
            "visible": true
           },
           "globalSeriesType": "column",
           "isAggregationOn": true,
           "legend": {
            "traceorder": "normal"
           },
           "missingValuesAsZero": true,
           "numberFormat": "0[.]00%",
           "percentFormat": "0[.]00%",
           "series": {
            "error_y": {
             "type": "data",
             "visible": true
            },
            "stacking": null
           },
           "seriesOptions": {
            "column_99a64532147": {
             "type": "column",
             "yAxis": 0
            }
           },
           "showDataLabels": true,
           "sizemode": "diameter",
           "sortX": true,
           "sortY": true,
           "swappedAxes": false,
           "textFormat": "",
           "useAggregationsUi": true,
           "valuesOptions": {},
           "version": 2,
           "xAxis": {
            "labels": {
             "enabled": true
            },
            "type": "-"
           },
           "yAxis": [
            {
             "type": "-"
            },
            {
             "opposite": true,
             "type": "-"
            }
           ]
          }
         }
        ]
       },
       "datasetPreviewNameToCmdIdMap": {},
       "diffDeletes": [],
       "diffInserts": [],
       "displayType": "redashChart",
       "error": null,
       "errorDetails": null,
       "errorSummary": null,
       "errorTraceType": null,
       "finishTime": 0,
       "globalVars": {},
       "guid": "",
       "height": "auto",
       "hideCommandCode": false,
       "hideCommandResult": false,
       "iPythonMetadata": null,
       "inputWidgets": {},
       "isLockedInExamMode": false,
       "latestUser": "a user",
       "latestUserId": null,
       "listResultMetadata": null,
       "metadata": {},
       "nuid": "51668426-63b1-46cb-834b-4610481a0c8a",
       "origId": 0,
       "parentHierarchy": [],
       "pivotAggregation": null,
       "pivotColumns": null,
       "position": 132.0,
       "resultDbfsErrorMessage": null,
       "resultDbfsStatus": "INLINED_IN_TREE",
       "results": null,
       "showCommandTitle": false,
       "startTime": 0,
       "state": "input",
       "streamStates": {},
       "subcommandOptions": {
        "queryPlan": {
         "groups": [
          {
           "column": "DS_CARGO",
           "type": "column"
          }
         ],
         "selects": [
          {
           "column": "DS_CARGO",
           "type": "column"
          },
          {
           "alias": "column_99a64532147",
           "args": [
            {
             "column": "PERC_VARIACAO_22_18",
             "type": "column"
            }
           ],
           "function": "AVG",
           "type": "function"
          }
         ]
        }
       },
       "submitTime": 0,
       "subtype": "tableResultSubCmd.visualization",
       "tableResultIndex": 0,
       "tableResultSettingsMap": {},
       "useConsistentColors": false,
       "version": "CommandV1",
       "width": "auto",
       "workflows": [],
       "xColumns": null,
       "yColumns": null
      }
     },
     "output_type": "display_data"
    },
    {
     "output_type": "display_data",
     "data": {
      "text/plain": [
       "Databricks visualization. Run in Databricks to view."
      ]
     },
     "metadata": {
      "application/vnd.databricks.v1.subcommand+json": {
       "baseErrorDetails": null,
       "bindings": {},
       "collapsed": false,
       "command": "%sql WITH q AS (SELECT\n   DS_CARGO\n  ,COUNT(DISTINCT NR_CPF_CANDIDATO)\n  ,AVG(COALESCE(VR_BEM_CANDIDATO,0)) AS MEDIA_BENS_2022\n  ,AVG(COALESCE(VR_BEM_CANDIDATO_2018,0)) AS MEDIA_BENS_2018\n  ,SUM(COALESCE(VR_BEM_CANDIDATO,0)) AS VR_BEM_CANDIDATO_2022\n  ,SUM(COALESCE(VR_BEM_CANDIDATO_2018,0)) AS VR_BEM_CANDIDATO_2018\n  ,SUM(COALESCE(VR_BEM_CANDIDATO,0)) / SUM(COALESCE(VR_BEM_CANDIDATO_2018,0)) AS VARIACAO_22_18\n  ,(SUM(COALESCE(VR_BEM_CANDIDATO,0)) / SUM(COALESCE(VR_BEM_CANDIDATO_2018,0)) - 1) * 100 AS PERC_VARIACAO_22_18 \nFROM \n  eleicao_gold.patrimonio\nWHERE \n  DS_CARGO IS NOT NULL AND DS_CARGO_2018 IS NOT NULL AND VR_BEM_CANDIDATO IS NOT NULL AND VR_BEM_CANDIDATO_2018 IS NOT NULL\nGROUP BY \n  1) SELECT `DS_CARGO`,AVG(`MEDIA_BENS_2022`) `column_99a64532155`,AVG(`MEDIA_BENS_2018`) `column_99a64532158` FROM q GROUP BY `DS_CARGO`",
       "commandTitle": "Média Bens",
       "commandType": "auto",
       "commandVersion": 0,
       "commentThread": [],
       "commentsVisible": false,
       "contentSha256Hex": null,
       "customPlotOptions": {
        "redashChart": [
         {
          "key": "type",
          "value": "CHART"
         },
         {
          "key": "options",
          "value": {
           "alignYAxesAtZero": true,
           "coefficient": 1,
           "columnConfigurationMap": {
            "x": {
             "column": "DS_CARGO",
             "id": "column_99a64532153"
            },
            "y": [
             {
              "column": "MEDIA_BENS_2022",
              "id": "column_99a64532155",
              "transform": "AVG"
             },
             {
              "column": "MEDIA_BENS_2018",
              "id": "column_99a64532158",
              "transform": "AVG"
             }
            ]
           },
           "dateTimeFormat": "DD/MM/YYYY HH:mm",
           "direction": {
            "type": "counterclockwise"
           },
           "error_y": {
            "type": "data",
            "visible": true
           },
           "globalSeriesType": "column",
           "isAggregationOn": true,
           "legend": {
            "traceorder": "normal"
           },
           "missingValuesAsZero": true,
           "numberFormat": "R$ 0,0.[00]",
           "percentFormat": "0[.]00%",
           "series": {
            "error_y": {
             "type": "data",
             "visible": true
            },
            "stacking": null
           },
           "seriesOptions": {
            "column_99a64532155": {
             "type": "column",
             "yAxis": 0
            },
            "column_99a64532158": {
             "type": "column",
             "yAxis": 0
            }
           },
           "showDataLabels": true,
           "sizemode": "diameter",
           "sortX": true,
           "sortY": true,
           "swappedAxes": false,
           "textFormat": "",
           "useAggregationsUi": true,
           "valuesOptions": {},
           "version": 2,
           "xAxis": {
            "labels": {
             "enabled": true
            },
            "type": "-"
           },
           "yAxis": [
            {
             "type": "-"
            },
            {
             "opposite": true,
             "type": "-"
            }
           ]
          }
         }
        ]
       },
       "datasetPreviewNameToCmdIdMap": {},
       "diffDeletes": [],
       "diffInserts": [],
       "displayType": "redashChart",
       "error": null,
       "errorDetails": null,
       "errorSummary": null,
       "errorTraceType": null,
       "finishTime": 0,
       "globalVars": {},
       "guid": "",
       "height": "auto",
       "hideCommandCode": false,
       "hideCommandResult": false,
       "iPythonMetadata": null,
       "inputWidgets": {},
       "isLockedInExamMode": false,
       "latestUser": "a user",
       "latestUserId": null,
       "listResultMetadata": null,
       "metadata": {},
       "nuid": "552059af-1fc2-4e3c-860d-573da86ffac8",
       "origId": 0,
       "parentHierarchy": [],
       "pivotAggregation": null,
       "pivotColumns": null,
       "position": 133.0,
       "resultDbfsErrorMessage": null,
       "resultDbfsStatus": "INLINED_IN_TREE",
       "results": null,
       "showCommandTitle": false,
       "startTime": 0,
       "state": "input",
       "streamStates": {},
       "subcommandOptions": {
        "queryPlan": {
         "groups": [
          {
           "column": "DS_CARGO",
           "type": "column"
          }
         ],
         "selects": [
          {
           "column": "DS_CARGO",
           "type": "column"
          },
          {
           "alias": "column_99a64532155",
           "args": [
            {
             "column": "MEDIA_BENS_2022",
             "type": "column"
            }
           ],
           "function": "AVG",
           "type": "function"
          },
          {
           "alias": "column_99a64532158",
           "args": [
            {
             "column": "MEDIA_BENS_2018",
             "type": "column"
            }
           ],
           "function": "AVG",
           "type": "function"
          }
         ]
        }
       },
       "submitTime": 0,
       "subtype": "tableResultSubCmd.visualization",
       "tableResultIndex": 0,
       "tableResultSettingsMap": {},
       "useConsistentColors": false,
       "version": "CommandV1",
       "width": "auto",
       "workflows": [],
       "xColumns": null,
       "yColumns": null
      }
     },
     "output_type": "display_data"
    },
    {
     "output_type": "display_data",
     "data": {
      "text/plain": [
       "Databricks visualization. Run in Databricks to view."
      ]
     },
     "metadata": {
      "application/vnd.databricks.v1.subcommand+json": {
       "baseErrorDetails": null,
       "bindings": {},
       "collapsed": false,
       "command": "%sql WITH q AS (SELECT\n   DS_CARGO\n  ,COUNT(DISTINCT NR_CPF_CANDIDATO)\n  ,AVG(COALESCE(VR_BEM_CANDIDATO,0)) AS MEDIA_BENS_2022\n  ,AVG(COALESCE(VR_BEM_CANDIDATO_2018,0)) AS MEDIA_BENS_2018\n  ,SUM(COALESCE(VR_BEM_CANDIDATO,0)) AS VR_BEM_CANDIDATO_2022\n  ,SUM(COALESCE(VR_BEM_CANDIDATO_2018,0)) AS VR_BEM_CANDIDATO_2018\n  ,SUM(COALESCE(VR_BEM_CANDIDATO,0)) / SUM(COALESCE(VR_BEM_CANDIDATO_2018,0)) AS VARIACAO_22_18\n  ,(SUM(COALESCE(VR_BEM_CANDIDATO,0)) / SUM(COALESCE(VR_BEM_CANDIDATO_2018,0)) - 1) * 100 AS PERC_VARIACAO_22_18 \nFROM \n  eleicao_gold.patrimonio\nWHERE \n  DS_CARGO IS NOT NULL AND DS_CARGO_2018 IS NOT NULL AND VR_BEM_CANDIDATO IS NOT NULL AND VR_BEM_CANDIDATO_2018 IS NOT NULL\nGROUP BY \n  1) SELECT `DS_CARGO`,SUM(`count(DISTINCT NR_CPF_CANDIDATO)`) `column_99a64532162` FROM q GROUP BY `DS_CARGO`",
       "commandTitle": "Qtd candidatos",
       "commandType": "auto",
       "commandVersion": 0,
       "commentThread": [],
       "commentsVisible": false,
       "contentSha256Hex": null,
       "customPlotOptions": {
        "redashChart": [
         {
          "key": "type",
          "value": "CHART"
         },
         {
          "key": "options",
          "value": {
           "alignYAxesAtZero": true,
           "coefficient": 1,
           "columnConfigurationMap": {
            "x": {
             "column": "DS_CARGO",
             "id": "column_99a64532160"
            },
            "y": [
             {
              "column": "count(DISTINCT NR_CPF_CANDIDATO)",
              "id": "column_99a64532162",
              "transform": "SUM"
             }
            ]
           },
           "dateTimeFormat": "DD/MM/YYYY HH:mm",
           "direction": {
            "type": "counterclockwise"
           },
           "error_y": {
            "type": "data",
            "visible": true
           },
           "globalSeriesType": "column",
           "isAggregationOn": true,
           "legend": {
            "traceorder": "normal"
           },
           "missingValuesAsZero": true,
           "numberFormat": "0,0.[00000]",
           "percentFormat": "0[.]00%",
           "series": {
            "error_y": {
             "type": "data",
             "visible": true
            },
            "stacking": null
           },
           "seriesOptions": {
            "column_99a64532162": {
             "type": "column",
             "yAxis": 0
            }
           },
           "showDataLabels": true,
           "sizemode": "diameter",
           "sortX": true,
           "sortY": true,
           "swappedAxes": false,
           "textFormat": "",
           "useAggregationsUi": true,
           "valuesOptions": {},
           "version": 2,
           "xAxis": {
            "labels": {
             "enabled": true
            },
            "type": "-"
           },
           "yAxis": [
            {
             "type": "-"
            },
            {
             "opposite": true,
             "type": "-"
            }
           ]
          }
         }
        ]
       },
       "datasetPreviewNameToCmdIdMap": {},
       "diffDeletes": [],
       "diffInserts": [],
       "displayType": "redashChart",
       "error": null,
       "errorDetails": null,
       "errorSummary": null,
       "errorTraceType": null,
       "finishTime": 0,
       "globalVars": {},
       "guid": "",
       "height": "auto",
       "hideCommandCode": false,
       "hideCommandResult": false,
       "iPythonMetadata": null,
       "inputWidgets": {},
       "isLockedInExamMode": false,
       "latestUser": "a user",
       "latestUserId": null,
       "listResultMetadata": null,
       "metadata": {},
       "nuid": "4a74928a-2aef-418e-9985-b9e232f37917",
       "origId": 0,
       "parentHierarchy": [],
       "pivotAggregation": null,
       "pivotColumns": null,
       "position": 134.0,
       "resultDbfsErrorMessage": null,
       "resultDbfsStatus": "INLINED_IN_TREE",
       "results": null,
       "showCommandTitle": false,
       "startTime": 0,
       "state": "input",
       "streamStates": {},
       "subcommandOptions": {
        "queryPlan": {
         "groups": [
          {
           "column": "DS_CARGO",
           "type": "column"
          }
         ],
         "selects": [
          {
           "column": "DS_CARGO",
           "type": "column"
          },
          {
           "alias": "column_99a64532162",
           "args": [
            {
             "column": "count(DISTINCT NR_CPF_CANDIDATO)",
             "type": "column"
            }
           ],
           "function": "SUM",
           "type": "function"
          }
         ]
        }
       },
       "submitTime": 0,
       "subtype": "tableResultSubCmd.visualization",
       "tableResultIndex": 0,
       "tableResultSettingsMap": {},
       "useConsistentColors": false,
       "version": "CommandV1",
       "width": "auto",
       "workflows": [],
       "xColumns": null,
       "yColumns": null
      }
     },
     "output_type": "display_data"
    }
   ],
   "source": [
    "%sql\n",
    "--Comparação entre 2022 e 2018 por cargos concorridos em 2022\n",
    "SELECT\n",
    "   DS_CARGO\n",
    "  ,COUNT(DISTINCT NR_CPF_CANDIDATO)\n",
    "  ,AVG(COALESCE(VR_BEM_CANDIDATO,0)) AS MEDIA_BENS_2022\n",
    "  ,AVG(COALESCE(VR_BEM_CANDIDATO_2018,0)) AS MEDIA_BENS_2018\n",
    "  ,SUM(COALESCE(VR_BEM_CANDIDATO,0)) AS VR_BEM_CANDIDATO_2022\n",
    "  ,SUM(COALESCE(VR_BEM_CANDIDATO_2018,0)) AS VR_BEM_CANDIDATO_2018\n",
    "  ,SUM(COALESCE(VR_BEM_CANDIDATO,0)) / SUM(COALESCE(VR_BEM_CANDIDATO_2018,0)) AS VARIACAO_22_18\n",
    "  ,(SUM(COALESCE(VR_BEM_CANDIDATO,0)) / SUM(COALESCE(VR_BEM_CANDIDATO_2018,0)) - 1) * 100 AS PERC_VARIACAO_22_18 -- mostrando em pontos percentuais\n",
    "FROM \n",
    "  eleicao_gold.patrimonio\n",
    "WHERE \n",
    "  DS_CARGO IS NOT NULL AND DS_CARGO_2018 IS NOT NULL AND VR_BEM_CANDIDATO IS NOT NULL AND VR_BEM_CANDIDATO_2018 IS NOT NULL\n",
    "GROUP BY \n",
    "  1"
   ]
  },
  {
   "cell_type": "markdown",
   "metadata": {
    "application/vnd.databricks.v1+cell": {
     "cellMetadata": {},
     "inputWidgets": {},
     "nuid": "9cfd317f-393c-40ef-b176-a13c056ac341",
     "showTitle": false,
     "tableResultSettingsMap": {},
     "title": ""
    }
   },
   "source": [
    "Como percebido, aumento distribuido por cargos disputados de 4% a 57%"
   ]
  },
  {
   "cell_type": "code",
   "execution_count": 0,
   "metadata": {
    "application/vnd.databricks.v1+cell": {
     "cellMetadata": {
      "byteLimit": 2048000,
      "implicitDf": true,
      "rowLimit": 10000
     },
     "inputWidgets": {},
     "nuid": "be13d72e-c8d3-47f8-b314-b71dbd90c330",
     "showTitle": false,
     "tableResultSettingsMap": {},
     "title": ""
    }
   },
   "outputs": [
    {
     "output_type": "display_data",
     "data": {
      "text/html": [
       "<style scoped>\n",
       "  .table-result-container {\n",
       "    max-height: 300px;\n",
       "    overflow: auto;\n",
       "  }\n",
       "  table, th, td {\n",
       "    border: 1px solid black;\n",
       "    border-collapse: collapse;\n",
       "  }\n",
       "  th, td {\n",
       "    padding: 5px;\n",
       "  }\n",
       "  th {\n",
       "    text-align: left;\n",
       "  }\n",
       "</style><div class='table-result-container'><table class='table-result'><thead style='background-color: white'><tr><th>DS_CARGO</th><th>QTD_CANDIDATOS</th><th>MEDIA_BENS_2022</th><th>MEDIA_BENS_2020</th><th>VR_BEM_CANDIDATO_2022</th><th>VR_BEM_CANDIDATO_2020</th><th>VARIACAO_22_20</th><th>PERC_VARIACAO_22_20</th></tr></thead><tbody><tr><td>VICE-GOVERNADOR</td><td>4</td><td>334560.62</td><td>232475.0</td><td>1338242.48</td><td>1160570.17</td><td>1.1530905365248187</td><td>15.309053652481875</td></tr><tr><td>SENADOR</td><td>9</td><td>5948533.615555555</td><td>4271307.445555556</td><td>5.353680253999999E7</td><td>4.428993846E7</td><td>1.208780242229309</td><td>20.878024222930904</td></tr><tr><td>1º SUPLENTE</td><td>6</td><td>974158.2166666667</td><td>1923.3033333333333</td><td>5844949.3</td><td>3853125.1999999997</td><td>1.5169372902806273</td><td>51.69372902806273</td></tr><tr><td>DEPUTADO FEDERAL</td><td>493</td><td>693388.5050395259</td><td>185845.40444664026</td><td>3.5085458355000013E8</td><td>3.030169233299999E8</td><td>1.157871249217004</td><td>15.787124921700402</td></tr><tr><td>GOVERNADOR</td><td>14</td><td>635884.72</td><td>351635.6492857143</td><td>8902386.08</td><td>9510695.329999998</td><td>0.9360394556977152</td><td>-6.396054430228482</td></tr><tr><td>2º SUPLENTE</td><td>7</td><td>2960868.1900000004</td><td>69864.28571428571</td><td>2.0726077330000002E7</td><td>1.410584323E7</td><td>1.469325654060881</td><td>46.9325654060881</td></tr><tr><td>DEPUTADO ESTADUAL</td><td>773</td><td>556179.6999872773</td><td>245027.71882951653</td><td>4.3715724418999994E8</td><td>3.4225784582000017E9</td><td>0.1277274573918487</td><td>-87.22725426081513</td></tr><tr><td>DEPUTADO DISTRITAL</td><td>3</td><td>523552.41333333333</td><td>0.0</td><td>1570657.24</td><td>405000.0</td><td>3.878166024691358</td><td>287.81660246913583</td></tr></tbody></table></div>"
      ]
     },
     "metadata": {
      "application/vnd.databricks.v1+output": {
       "addedWidgets": {},
       "aggData": [],
       "aggError": "",
       "aggOverflow": false,
       "aggSchema": [],
       "aggSeriesLimitReached": false,
       "aggType": "",
       "arguments": {},
       "columnCustomDisplayInfos": {},
       "data": [
        [
         "VICE-GOVERNADOR",
         4,
         334560.62,
         232475.0,
         1338242.48,
         1160570.17,
         1.1530905365248187,
         15.309053652481875
        ],
        [
         "SENADOR",
         9,
         5948533.615555555,
         4271307.445555556,
         5.353680253999999E7,
         4.428993846E7,
         1.208780242229309,
         20.878024222930904
        ],
        [
         "1º SUPLENTE",
         6,
         974158.2166666667,
         1923.3033333333333,
         5844949.3,
         3853125.1999999997,
         1.5169372902806273,
         51.69372902806273
        ],
        [
         "DEPUTADO FEDERAL",
         493,
         693388.5050395259,
         185845.40444664026,
         3.5085458355000013E8,
         3.030169233299999E8,
         1.157871249217004,
         15.787124921700402
        ],
        [
         "GOVERNADOR",
         14,
         635884.72,
         351635.6492857143,
         8902386.08,
         9510695.329999998,
         0.9360394556977152,
         -6.396054430228482
        ],
        [
         "2º SUPLENTE",
         7,
         2960868.1900000004,
         69864.28571428571,
         2.0726077330000002E7,
         1.410584323E7,
         1.469325654060881,
         46.9325654060881
        ],
        [
         "DEPUTADO ESTADUAL",
         773,
         556179.6999872773,
         245027.71882951653,
         4.3715724418999994E8,
         3.4225784582000017E9,
         0.1277274573918487,
         -87.22725426081513
        ],
        [
         "DEPUTADO DISTRITAL",
         3,
         523552.41333333333,
         0.0,
         1570657.24,
         405000.0,
         3.878166024691358,
         287.81660246913583
        ]
       ],
       "datasetInfos": [],
       "dbfsResultPath": null,
       "isJsonSchema": true,
       "metadata": {},
       "overflow": false,
       "plotOptions": {
        "customPlotOptions": {},
        "displayType": "table",
        "pivotAggregation": null,
        "pivotColumns": null,
        "xColumns": null,
        "yColumns": null
       },
       "removedWidgets": [],
       "schema": [
        {
         "metadata": "{\"comment\":\"Position of dispute in 2022\",\"__CHAR_VARCHAR_TYPE_STRING\":\"varchar(100)\"}",
         "name": "DS_CARGO",
         "type": "\"string\""
        },
        {
         "metadata": "{}",
         "name": "QTD_CANDIDATOS",
         "type": "\"long\""
        },
        {
         "metadata": "{}",
         "name": "MEDIA_BENS_2022",
         "type": "\"double\""
        },
        {
         "metadata": "{}",
         "name": "MEDIA_BENS_2020",
         "type": "\"double\""
        },
        {
         "metadata": "{}",
         "name": "VR_BEM_CANDIDATO_2022",
         "type": "\"double\""
        },
        {
         "metadata": "{}",
         "name": "VR_BEM_CANDIDATO_2020",
         "type": "\"double\""
        },
        {
         "metadata": "{}",
         "name": "VARIACAO_22_20",
         "type": "\"double\""
        },
        {
         "metadata": "{}",
         "name": "PERC_VARIACAO_22_20",
         "type": "\"double\""
        }
       ],
       "type": "table"
      }
     },
     "output_type": "display_data"
    },
    {
     "output_type": "display_data",
     "data": {
      "text/plain": [
       "Databricks visualization. Run in Databricks to view."
      ]
     },
     "metadata": {
      "application/vnd.databricks.v1.subcommand+json": {
       "baseErrorDetails": null,
       "bindings": {},
       "collapsed": false,
       "command": "%sql WITH q AS (SELECT\n   DS_CARGO\n  ,COUNT(DISTINCT NR_CPF_CANDIDATO)\n  ,AVG(COALESCE(VR_BEM_CANDIDATO,0)) AS MEDIA_BENS_2022\n  ,AVG(COALESCE(VR_BEM_CANDIDATO_2018,0)) AS MEDIA_BENS_2018\n  ,SUM(COALESCE(VR_BEM_CANDIDATO,0)) AS VR_BEM_CANDIDATO_2022\n  ,SUM(COALESCE(VR_BEM_CANDIDATO_2018,0)) AS VR_BEM_CANDIDATO_2018\n  ,SUM(COALESCE(VR_BEM_CANDIDATO,0)) / SUM(COALESCE(VR_BEM_CANDIDATO_2018,0)) AS VARIACAO_22_20\n  ,SUM(COALESCE(VR_BEM_CANDIDATO,0)) / SUM(COALESCE(VR_BEM_CANDIDATO_2018,0)) - 1  AS PERC_VARIACAO_22_20\nFROM \n  eleicao_gold.patrimonio\nWHERE \n  DS_CARGO IS NOT NULL AND DS_CARGO_2018 IS NOT NULL AND VR_BEM_CANDIDATO IS NOT NULL AND VR_BEM_CANDIDATO_2018 IS NOT NULL\nGROUP BY \n  1) SELECT `DS_CARGO`,AVG(`PERC_VARIACAO_22_20`) `column_99a64532147` FROM q GROUP BY `DS_CARGO`",
       "commandTitle": "Var 2020 - 2022",
       "commandType": "auto",
       "commandVersion": 0,
       "commentThread": [],
       "commentsVisible": false,
       "contentSha256Hex": null,
       "customPlotOptions": {
        "redashChart": [
         {
          "key": "type",
          "value": "CHART"
         },
         {
          "key": "options",
          "value": {
           "alignYAxesAtZero": true,
           "coefficient": 1,
           "columnConfigurationMap": {
            "x": {
             "column": "DS_CARGO",
             "id": "column_99a64532143"
            },
            "y": [
             {
              "column": "PERC_VARIACAO_22_20",
              "id": "column_99a64532147",
              "transform": "AVG"
             }
            ]
           },
           "dateTimeFormat": "DD/MM/YYYY HH:mm",
           "direction": {
            "type": "counterclockwise"
           },
           "error_y": {
            "type": "data",
            "visible": true
           },
           "globalSeriesType": "column",
           "isAggregationOn": true,
           "legend": {
            "traceorder": "normal"
           },
           "missingValuesAsZero": true,
           "numberFormat": "0[.]00%",
           "percentFormat": "0[.]00%",
           "series": {
            "error_y": {
             "type": "data",
             "visible": true
            },
            "stacking": null
           },
           "seriesOptions": {
            "column_99a64532147": {
             "type": "column",
             "yAxis": 0
            }
           },
           "showDataLabels": true,
           "sizemode": "diameter",
           "sortX": true,
           "sortY": true,
           "swappedAxes": false,
           "textFormat": "",
           "useAggregationsUi": true,
           "valuesOptions": {},
           "version": 2,
           "xAxis": {
            "labels": {
             "enabled": true
            },
            "type": "-"
           },
           "yAxis": [
            {
             "type": "-"
            },
            {
             "opposite": true,
             "type": "-"
            }
           ]
          }
         }
        ]
       },
       "datasetPreviewNameToCmdIdMap": {},
       "diffDeletes": [],
       "diffInserts": [],
       "displayType": "redashChart",
       "error": null,
       "errorDetails": null,
       "errorSummary": null,
       "errorTraceType": null,
       "finishTime": 0,
       "globalVars": {},
       "guid": "",
       "height": "auto",
       "hideCommandCode": false,
       "hideCommandResult": false,
       "iPythonMetadata": null,
       "inputWidgets": {},
       "isLockedInExamMode": false,
       "latestUser": "a user",
       "latestUserId": null,
       "listResultMetadata": null,
       "metadata": {},
       "nuid": "c3cf1503-e2ae-4133-b596-d5bd616b42f2",
       "origId": 0,
       "parentHierarchy": [],
       "pivotAggregation": null,
       "pivotColumns": null,
       "position": 1.0,
       "resultDbfsErrorMessage": null,
       "resultDbfsStatus": "INLINED_IN_TREE",
       "results": null,
       "showCommandTitle": false,
       "startTime": 0,
       "state": "input",
       "streamStates": {},
       "subcommandOptions": {
        "queryPlan": {
         "groups": [
          {
           "column": "DS_CARGO",
           "type": "column"
          }
         ],
         "selects": [
          {
           "column": "DS_CARGO",
           "type": "column"
          },
          {
           "alias": "column_99a64532147",
           "args": [
            {
             "column": "PERC_VARIACAO_22_20",
             "type": "column"
            }
           ],
           "function": "AVG",
           "type": "function"
          }
         ]
        }
       },
       "submitTime": 0,
       "subtype": "tableResultSubCmd.visualization",
       "tableResultIndex": 0,
       "tableResultSettingsMap": {},
       "useConsistentColors": false,
       "version": "CommandV1",
       "width": "auto",
       "workflows": [],
       "xColumns": null,
       "yColumns": null
      }
     },
     "output_type": "display_data"
    },
    {
     "output_type": "display_data",
     "data": {
      "text/plain": [
       "Databricks visualization. Run in Databricks to view."
      ]
     },
     "metadata": {
      "application/vnd.databricks.v1.subcommand+json": {
       "baseErrorDetails": null,
       "bindings": {},
       "collapsed": false,
       "command": "%sql WITH q AS (SELECT\n   DS_CARGO\n  ,COUNT(DISTINCT NR_CPF_CANDIDATO)\n  ,AVG(COALESCE(VR_BEM_CANDIDATO,0)) AS MEDIA_BENS_2022\n  ,AVG(COALESCE(VR_BEM_CANDIDATO_2018,0)) AS MEDIA_BENS_2018\n  ,SUM(COALESCE(VR_BEM_CANDIDATO,0)) AS VR_BEM_CANDIDATO_2022\n  ,SUM(COALESCE(VR_BEM_CANDIDATO_2018,0)) AS VR_BEM_CANDIDATO_2018\n  ,SUM(COALESCE(VR_BEM_CANDIDATO,0)) / SUM(COALESCE(VR_BEM_CANDIDATO_2018,0)) AS VARIACAO_22_18\n  ,(SUM(COALESCE(VR_BEM_CANDIDATO,0)) / SUM(COALESCE(VR_BEM_CANDIDATO_2018,0)) - 1) * 100 AS PERC_VARIACAO_22_18 \nFROM \n  eleicao_gold.patrimonio\nWHERE \n  DS_CARGO IS NOT NULL AND DS_CARGO_2018 IS NOT NULL AND VR_BEM_CANDIDATO IS NOT NULL AND VR_BEM_CANDIDATO_2018 IS NOT NULL\nGROUP BY \n  1) SELECT `DS_CARGO`,AVG(`MEDIA_BENS_2022`) `column_99a64532155`,AVG(`MEDIA_BENS_2018`) `column_99a64532158` FROM q GROUP BY `DS_CARGO`",
       "commandTitle": "Média Bens",
       "commandType": "auto",
       "commandVersion": 0,
       "commentThread": [],
       "commentsVisible": false,
       "contentSha256Hex": null,
       "customPlotOptions": {
        "redashChart": [
         {
          "key": "type",
          "value": "CHART"
         },
         {
          "key": "options",
          "value": {
           "alignYAxesAtZero": true,
           "coefficient": 1,
           "columnConfigurationMap": {
            "x": {
             "column": "DS_CARGO",
             "id": "column_99a64532153"
            },
            "y": [
             {
              "column": "MEDIA_BENS_2022",
              "id": "column_99a64532155",
              "transform": "AVG"
             },
             {
              "column": "MEDIA_BENS_2020",
              "id": "column_99a64532158",
              "transform": "AVG"
             }
            ]
           },
           "dateTimeFormat": "DD/MM/YYYY HH:mm",
           "direction": {
            "type": "counterclockwise"
           },
           "error_y": {
            "type": "data",
            "visible": true
           },
           "globalSeriesType": "column",
           "isAggregationOn": true,
           "legend": {
            "traceorder": "normal"
           },
           "missingValuesAsZero": true,
           "numberFormat": "R$ 0,0.[00]",
           "percentFormat": "0[.]00%",
           "series": {
            "error_y": {
             "type": "data",
             "visible": true
            },
            "stacking": null
           },
           "seriesOptions": {
            "column_99a64532155": {
             "type": "column",
             "yAxis": 0
            },
            "column_99a64532158": {
             "type": "column",
             "yAxis": 0
            }
           },
           "showDataLabels": true,
           "sizemode": "diameter",
           "sortX": true,
           "sortY": true,
           "swappedAxes": false,
           "textFormat": "",
           "useAggregationsUi": true,
           "valuesOptions": {},
           "version": 2,
           "xAxis": {
            "labels": {
             "enabled": true
            },
            "type": "-"
           },
           "yAxis": [
            {
             "type": "-"
            },
            {
             "opposite": true,
             "type": "-"
            }
           ]
          }
         }
        ]
       },
       "datasetPreviewNameToCmdIdMap": {},
       "diffDeletes": [],
       "diffInserts": [],
       "displayType": "redashChart",
       "error": null,
       "errorDetails": null,
       "errorSummary": null,
       "errorTraceType": null,
       "finishTime": 0,
       "globalVars": {},
       "guid": "",
       "height": "auto",
       "hideCommandCode": false,
       "hideCommandResult": false,
       "iPythonMetadata": null,
       "inputWidgets": {},
       "isLockedInExamMode": false,
       "latestUser": "a user",
       "latestUserId": null,
       "listResultMetadata": null,
       "metadata": {},
       "nuid": "88080487-ea03-46ec-b5df-73d4b162b210",
       "origId": 0,
       "parentHierarchy": [],
       "pivotAggregation": null,
       "pivotColumns": null,
       "position": 1.0,
       "resultDbfsErrorMessage": null,
       "resultDbfsStatus": "INLINED_IN_TREE",
       "results": null,
       "showCommandTitle": false,
       "startTime": 0,
       "state": "input",
       "streamStates": {},
       "subcommandOptions": {
        "queryPlan": {
         "groups": [
          {
           "column": "DS_CARGO",
           "type": "column"
          }
         ],
         "selects": [
          {
           "column": "DS_CARGO",
           "type": "column"
          },
          {
           "alias": "column_99a64532155",
           "args": [
            {
             "column": "MEDIA_BENS_2022",
             "type": "column"
            }
           ],
           "function": "AVG",
           "type": "function"
          },
          {
           "alias": "column_99a64532158",
           "args": [
            {
             "column": "MEDIA_BENS_2020",
             "type": "column"
            }
           ],
           "function": "AVG",
           "type": "function"
          }
         ]
        }
       },
       "submitTime": 0,
       "subtype": "tableResultSubCmd.visualization",
       "tableResultIndex": 0,
       "tableResultSettingsMap": {},
       "useConsistentColors": false,
       "version": "CommandV1",
       "width": "auto",
       "workflows": [],
       "xColumns": null,
       "yColumns": null
      }
     },
     "output_type": "display_data"
    },
    {
     "output_type": "display_data",
     "data": {
      "text/plain": [
       "Databricks visualization. Run in Databricks to view."
      ]
     },
     "metadata": {
      "application/vnd.databricks.v1.subcommand+json": {
       "baseErrorDetails": null,
       "bindings": {},
       "collapsed": false,
       "command": "%sql WITH q AS (SELECT\n   DS_CARGO\n  ,COUNT(DISTINCT NR_CPF_CANDIDATO)\n  ,AVG(COALESCE(VR_BEM_CANDIDATO,0)) AS MEDIA_BENS_2022\n  ,AVG(COALESCE(VR_BEM_CANDIDATO_2018,0)) AS MEDIA_BENS_2018\n  ,SUM(COALESCE(VR_BEM_CANDIDATO,0)) AS VR_BEM_CANDIDATO_2022\n  ,SUM(COALESCE(VR_BEM_CANDIDATO_2018,0)) AS VR_BEM_CANDIDATO_2018\n  ,SUM(COALESCE(VR_BEM_CANDIDATO,0)) / SUM(COALESCE(VR_BEM_CANDIDATO_2018,0)) AS VARIACAO_22_18\n  ,(SUM(COALESCE(VR_BEM_CANDIDATO,0)) / SUM(COALESCE(VR_BEM_CANDIDATO_2018,0)) - 1) * 100 AS PERC_VARIACAO_22_18 \nFROM \n  eleicao_gold.patrimonio\nWHERE \n  DS_CARGO IS NOT NULL AND DS_CARGO_2018 IS NOT NULL AND VR_BEM_CANDIDATO IS NOT NULL AND VR_BEM_CANDIDATO_2018 IS NOT NULL\nGROUP BY \n  1) SELECT `DS_CARGO`,SUM(`count(DISTINCT NR_CPF_CANDIDATO)`) `column_99a64532162` FROM q GROUP BY `DS_CARGO`",
       "commandTitle": "Qtd candidatos",
       "commandType": "auto",
       "commandVersion": 0,
       "commentThread": [],
       "commentsVisible": false,
       "contentSha256Hex": null,
       "customPlotOptions": {
        "redashChart": [
         {
          "key": "type",
          "value": "CHART"
         },
         {
          "key": "options",
          "value": {
           "alignYAxesAtZero": true,
           "coefficient": 1,
           "columnConfigurationMap": {
            "x": {
             "column": "DS_CARGO",
             "id": "column_99a64532160"
            },
            "y": [
             {
              "column": "QTD_CANDIDATOS",
              "id": "column_99a64532162",
              "transform": "SUM"
             }
            ]
           },
           "dateTimeFormat": "DD/MM/YYYY HH:mm",
           "direction": {
            "type": "counterclockwise"
           },
           "error_y": {
            "type": "data",
            "visible": true
           },
           "globalSeriesType": "column",
           "isAggregationOn": true,
           "legend": {
            "traceorder": "normal"
           },
           "missingValuesAsZero": true,
           "numberFormat": "0,0.[00000]",
           "percentFormat": "0[.]00%",
           "series": {
            "error_y": {
             "type": "data",
             "visible": true
            },
            "stacking": null
           },
           "seriesOptions": {
            "column_99a64532162": {
             "type": "column",
             "yAxis": 0
            }
           },
           "showDataLabels": false,
           "sizemode": "diameter",
           "sortX": true,
           "sortY": true,
           "swappedAxes": false,
           "textFormat": "",
           "useAggregationsUi": true,
           "valuesOptions": {},
           "version": 2,
           "xAxis": {
            "labels": {
             "enabled": true
            },
            "type": "-"
           },
           "yAxis": [
            {
             "type": "-"
            },
            {
             "opposite": true,
             "type": "-"
            }
           ]
          }
         }
        ]
       },
       "datasetPreviewNameToCmdIdMap": {},
       "diffDeletes": [],
       "diffInserts": [],
       "displayType": "redashChart",
       "error": null,
       "errorDetails": null,
       "errorSummary": null,
       "errorTraceType": null,
       "finishTime": 0,
       "globalVars": {},
       "guid": "",
       "height": "auto",
       "hideCommandCode": false,
       "hideCommandResult": false,
       "iPythonMetadata": null,
       "inputWidgets": {},
       "isLockedInExamMode": false,
       "latestUser": "a user",
       "latestUserId": null,
       "listResultMetadata": null,
       "metadata": {},
       "nuid": "a2ff5e19-f82b-4a30-afa8-1bd350d3c8e5",
       "origId": 0,
       "parentHierarchy": [],
       "pivotAggregation": null,
       "pivotColumns": null,
       "position": 1.0,
       "resultDbfsErrorMessage": null,
       "resultDbfsStatus": "INLINED_IN_TREE",
       "results": null,
       "showCommandTitle": false,
       "startTime": 0,
       "state": "input",
       "streamStates": {},
       "subcommandOptions": {
        "queryPlan": {
         "groups": [
          {
           "column": "DS_CARGO",
           "type": "column"
          }
         ],
         "selects": [
          {
           "column": "DS_CARGO",
           "type": "column"
          },
          {
           "alias": "column_99a64532162",
           "args": [
            {
             "column": "QTD_CANDIDATOS",
             "type": "column"
            }
           ],
           "function": "SUM",
           "type": "function"
          }
         ]
        }
       },
       "submitTime": 0,
       "subtype": "tableResultSubCmd.visualization",
       "tableResultIndex": 0,
       "tableResultSettingsMap": {},
       "useConsistentColors": false,
       "version": "CommandV1",
       "width": "auto",
       "workflows": [],
       "xColumns": null,
       "yColumns": null
      }
     },
     "output_type": "display_data"
    }
   ],
   "source": [
    "%sql\n",
    "--Comparação entre 2022 e 2020 por cargos concorridos em 2022\n",
    "SELECT\n",
    "   DS_CARGO\n",
    "  ,COUNT(DISTINCT NR_CPF_CANDIDATO) AS QTD_CANDIDATOS\n",
    "  ,AVG(COALESCE(VR_BEM_CANDIDATO,0)) AS MEDIA_BENS_2022\n",
    "  ,AVG(COALESCE(VR_BEM_CANDIDATO_2018,0)) AS MEDIA_BENS_2020\n",
    "  ,SUM(COALESCE(VR_BEM_CANDIDATO,0)) AS VR_BEM_CANDIDATO_2022\n",
    "  ,SUM(COALESCE(VR_BEM_CANDIDATO_2020,0)) AS VR_BEM_CANDIDATO_2020\n",
    "  ,SUM(COALESCE(VR_BEM_CANDIDATO,0)) / SUM(COALESCE(VR_BEM_CANDIDATO_2020,0)) AS VARIACAO_22_20\n",
    "  ,(SUM(COALESCE(VR_BEM_CANDIDATO,0)) / SUM(COALESCE(VR_BEM_CANDIDATO_2020,0)) - 1) * 100 AS PERC_VARIACAO_22_20 -- mostrando em pontos percentuais\n",
    "FROM \n",
    "  eleicao_gold.patrimonio\n",
    "WHERE \n",
    "  DS_CARGO IS NOT NULL AND DS_CARGO_2020 IS NOT NULL AND VR_BEM_CANDIDATO IS NOT NULL AND VR_BEM_CANDIDATO_2020 IS NOT NULL\n",
    "GROUP BY \n",
    "  1"
   ]
  },
  {
   "cell_type": "markdown",
   "metadata": {
    "application/vnd.databricks.v1+cell": {
     "cellMetadata": {},
     "inputWidgets": {},
     "nuid": "d02a29c8-a5c1-44fe-beca-d896a06c4370",
     "showTitle": false,
     "tableResultSettingsMap": {},
     "title": ""
    }
   },
   "source": [
    "Aqui percebemos uma variação maior na abertura por cargos, onde a maior concentração de candidatos recorrentes (Deputado Estadual) teve a maior queda (87%) e a menor concentração (Deputado Distrital) teve o maior aumento (~290%)"
   ]
  },
  {
   "cell_type": "markdown",
   "metadata": {
    "application/vnd.databricks.v1+cell": {
     "cellMetadata": {},
     "inputWidgets": {},
     "nuid": "39da5486-aa12-4eed-8edb-2a91db8ac41f",
     "showTitle": false,
     "tableResultSettingsMap": {},
     "title": ""
    }
   },
   "source": [
    "OBS: Apenas para conhecimento, Deputado Distrital é um cargo exclusivo da Capital do país Brasília, suas atribuições são semelhantes as dos Deputados Estaduais."
   ]
  },
  {
   "cell_type": "markdown",
   "metadata": {
    "application/vnd.databricks.v1+cell": {
     "cellMetadata": {},
     "inputWidgets": {},
     "nuid": "066a3e6c-75df-44a7-84de-199d5f7cff56",
     "showTitle": false,
     "tableResultSettingsMap": {},
     "title": ""
    }
   },
   "source": [
    "Agora a abertura por situação final na eleição anterior, avaliando candidatos eleitos _versus_ não eleitos e demais situações finais."
   ]
  },
  {
   "cell_type": "code",
   "execution_count": 0,
   "metadata": {
    "application/vnd.databricks.v1+cell": {
     "cellMetadata": {
      "byteLimit": 2048000,
      "implicitDf": true,
      "rowLimit": 10000
     },
     "inputWidgets": {},
     "nuid": "7d7fc389-b467-4a3b-a485-0064d6510da8",
     "showTitle": false,
     "tableResultSettingsMap": {},
     "title": ""
    }
   },
   "outputs": [
    {
     "output_type": "display_data",
     "data": {
      "text/html": [
       "<style scoped>\n",
       "  .table-result-container {\n",
       "    max-height: 300px;\n",
       "    overflow: auto;\n",
       "  }\n",
       "  table, th, td {\n",
       "    border: 1px solid black;\n",
       "    border-collapse: collapse;\n",
       "  }\n",
       "  th, td {\n",
       "    padding: 5px;\n",
       "  }\n",
       "  th {\n",
       "    text-align: left;\n",
       "  }\n",
       "</style><div class='table-result-container'><table class='table-result'><thead style='background-color: white'><tr><th>DS_SIT_TOT_TURNO_2018</th><th>count(DISTINCT NR_CPF_CANDIDATO)</th><th>MEDIA_BENS_2022</th><th>MEDIA_BENS_2018</th><th>VR_BEM_CANDIDATO_2022</th><th>VR_BEM_CANDIDATO_2018</th><th>VARIACAO_22_18</th><th>PERC_VARIACAO_22_18</th></tr></thead><tbody><tr><td>ELEITO POR MÉDIA</td><td>79</td><td>1844636.7182278482</td><td>999552.8543037974</td><td>1.4572630074E8</td><td>7.896467549E7</td><td>1.8454619085777746</td><td>84.54619085777746</td></tr><tr><td>ELEITO</td><td>24</td><td>1.21428298025E7</td><td>1.0784285346666666E7</td><td>2.9142791526E8</td><td>2.5882284832E8</td><td>1.1259744537688117</td><td>12.597445376881167</td></tr><tr><td>NÃO ELEITO</td><td>216</td><td>2644269.4690867597</td><td>1564963.8600456621</td><td>5.790950137300004E8</td><td>3.4272708535E8</td><td>1.6896680725966449</td><td>68.96680725966449</td></tr><tr><td>SUPLENTE</td><td>550</td><td>869418.7829107145</td><td>836513.3651249998</td><td>4.868745184300001E8</td><td>4.6844748446999985E8</td><td>1.039336392169655</td><td>3.933639216965501</td></tr><tr><td>#NULO#</td><td>20</td><td>967462.9029999999</td><td>1536898.9819999998</td><td>1.934925806E7</td><td>3.0737979639999997E7</td><td>0.6294902360733037</td><td>-37.05097639266963</td></tr><tr><td>ELEITO POR QP</td><td>276</td><td>1761599.4738267146</td><td>1339705.7912274373</td><td>4.8796305424999994E8</td><td>3.7109850417000014E8</td><td>1.314915174183683</td><td>31.49151741836831</td></tr></tbody></table></div>"
      ]
     },
     "metadata": {
      "application/vnd.databricks.v1+output": {
       "addedWidgets": {},
       "aggData": [],
       "aggError": "",
       "aggOverflow": false,
       "aggSchema": [],
       "aggSeriesLimitReached": false,
       "aggType": "",
       "arguments": {},
       "columnCustomDisplayInfos": {},
       "data": [
        [
         "ELEITO POR MÉDIA",
         79,
         1844636.7182278482,
         999552.8543037974,
         1.4572630074E8,
         7.896467549E7,
         1.8454619085777746,
         84.54619085777746
        ],
        [
         "ELEITO",
         24,
         1.21428298025E7,
         1.0784285346666666E7,
         2.9142791526E8,
         2.5882284832E8,
         1.1259744537688117,
         12.597445376881167
        ],
        [
         "NÃO ELEITO",
         216,
         2644269.4690867597,
         1564963.8600456621,
         5.790950137300004E8,
         3.4272708535E8,
         1.6896680725966449,
         68.96680725966449
        ],
        [
         "SUPLENTE",
         550,
         869418.7829107145,
         836513.3651249998,
         4.868745184300001E8,
         4.6844748446999985E8,
         1.039336392169655,
         3.933639216965501
        ],
        [
         "#NULO#",
         20,
         967462.9029999999,
         1536898.9819999998,
         1.934925806E7,
         3.0737979639999997E7,
         0.6294902360733037,
         -37.05097639266963
        ],
        [
         "ELEITO POR QP",
         276,
         1761599.4738267146,
         1339705.7912274373,
         4.8796305424999994E8,
         3.7109850417000014E8,
         1.314915174183683,
         31.49151741836831
        ]
       ],
       "datasetInfos": [],
       "dbfsResultPath": null,
       "isJsonSchema": true,
       "metadata": {},
       "overflow": false,
       "plotOptions": {
        "customPlotOptions": {},
        "displayType": "table",
        "pivotAggregation": null,
        "pivotColumns": null,
        "xColumns": null,
        "yColumns": null
       },
       "removedWidgets": [],
       "schema": [
        {
         "metadata": "{\"comment\":\"Status of the electoral dispute in 2018\",\"__CHAR_VARCHAR_TYPE_STRING\":\"varchar(200)\"}",
         "name": "DS_SIT_TOT_TURNO_2018",
         "type": "\"string\""
        },
        {
         "metadata": "{\"__autoGeneratedAlias\":\"true\"}",
         "name": "count(DISTINCT NR_CPF_CANDIDATO)",
         "type": "\"long\""
        },
        {
         "metadata": "{}",
         "name": "MEDIA_BENS_2022",
         "type": "\"double\""
        },
        {
         "metadata": "{}",
         "name": "MEDIA_BENS_2018",
         "type": "\"double\""
        },
        {
         "metadata": "{}",
         "name": "VR_BEM_CANDIDATO_2022",
         "type": "\"double\""
        },
        {
         "metadata": "{}",
         "name": "VR_BEM_CANDIDATO_2018",
         "type": "\"double\""
        },
        {
         "metadata": "{}",
         "name": "VARIACAO_22_18",
         "type": "\"double\""
        },
        {
         "metadata": "{}",
         "name": "PERC_VARIACAO_22_18",
         "type": "\"double\""
        }
       ],
       "type": "table"
      }
     },
     "output_type": "display_data"
    },
    {
     "output_type": "display_data",
     "data": {
      "text/plain": [
       "Databricks visualization. Run in Databricks to view."
      ]
     },
     "metadata": {
      "application/vnd.databricks.v1.subcommand+json": {
       "baseErrorDetails": null,
       "bindings": {},
       "collapsed": false,
       "command": "%sql WITH q AS (SELECT\n   DS_SIT_TOT_TURNO_2018\n  ,COUNT(DISTINCT NR_CPF_CANDIDATO)\n  ,AVG(COALESCE(VR_BEM_CANDIDATO,0)) AS MEDIA_BENS_2022\n  ,AVG(COALESCE(VR_BEM_CANDIDATO_2018,0)) AS MEDIA_BENS_2018\n  ,SUM(COALESCE(VR_BEM_CANDIDATO,0)) AS VR_BEM_CANDIDATO_2022\n  ,SUM(COALESCE(VR_BEM_CANDIDATO_2018,0)) AS VR_BEM_CANDIDATO_2018\n  ,SUM(COALESCE(VR_BEM_CANDIDATO,0)) / SUM(COALESCE(VR_BEM_CANDIDATO_2018,0)) AS VARIACAO_22_18\n  ,(SUM(COALESCE(VR_BEM_CANDIDATO,0)) / SUM(COALESCE(VR_BEM_CANDIDATO_2018,0)) - 1) * 100 AS PERC_VARIACAO_22_18 \nFROM \n  eleicao_gold.patrimonio\nWHERE \n  DS_CARGO IS NOT NULL AND DS_CARGO_2018 IS NOT NULL AND VR_BEM_CANDIDATO IS NOT NULL AND VR_BEM_CANDIDATO_2018 IS NOT NULL\nGROUP BY \n  1) SELECT `DS_SIT_TOT_TURNO_2018`,AVG(`PERC_VARIACAO_22_18`) `column_99a64532179` FROM q GROUP BY `DS_SIT_TOT_TURNO_2018`",
       "commandTitle": "Var 2018 - 2022",
       "commandType": "auto",
       "commandVersion": 0,
       "commentThread": [],
       "commentsVisible": false,
       "contentSha256Hex": null,
       "customPlotOptions": {
        "redashChart": [
         {
          "key": "type",
          "value": "CHART"
         },
         {
          "key": "options",
          "value": {
           "alignYAxesAtZero": true,
           "coefficient": 1,
           "columnConfigurationMap": {
            "x": {
             "column": "DS_SIT_TOT_TURNO_2018",
             "id": "column_99a64532176"
            },
            "y": [
             {
              "column": "PERC_VARIACAO_22_18",
              "id": "column_99a64532179",
              "transform": "AVG"
             }
            ]
           },
           "dateTimeFormat": "DD/MM/YYYY HH:mm",
           "direction": {
            "type": "counterclockwise"
           },
           "error_y": {
            "type": "data",
            "visible": true
           },
           "globalSeriesType": "column",
           "isAggregationOn": true,
           "legend": {
            "traceorder": "normal"
           },
           "missingValuesAsZero": true,
           "numberFormat": "0[.]00%",
           "percentFormat": "0[.]00%",
           "series": {
            "error_y": {
             "type": "data",
             "visible": true
            },
            "stacking": null
           },
           "seriesOptions": {
            "column_99a64532179": {
             "type": "column",
             "yAxis": 0
            }
           },
           "showDataLabels": true,
           "sizemode": "diameter",
           "sortX": true,
           "sortY": true,
           "swappedAxes": false,
           "textFormat": "",
           "useAggregationsUi": true,
           "valuesOptions": {},
           "version": 2,
           "xAxis": {
            "labels": {
             "enabled": true
            },
            "type": "-"
           },
           "yAxis": [
            {
             "type": "-"
            },
            {
             "opposite": true,
             "type": "-"
            }
           ]
          }
         }
        ]
       },
       "datasetPreviewNameToCmdIdMap": {},
       "diffDeletes": [],
       "diffInserts": [],
       "displayType": "redashChart",
       "error": null,
       "errorDetails": null,
       "errorSummary": null,
       "errorTraceType": null,
       "finishTime": 0,
       "globalVars": {},
       "guid": "",
       "height": "auto",
       "hideCommandCode": false,
       "hideCommandResult": false,
       "iPythonMetadata": null,
       "inputWidgets": {},
       "isLockedInExamMode": false,
       "latestUser": "a user",
       "latestUserId": null,
       "listResultMetadata": null,
       "metadata": {},
       "nuid": "f5db6d8d-b325-480f-9c47-fd215d14940f",
       "origId": 0,
       "parentHierarchy": [],
       "pivotAggregation": null,
       "pivotColumns": null,
       "position": 132.22265625,
       "resultDbfsErrorMessage": null,
       "resultDbfsStatus": "INLINED_IN_TREE",
       "results": null,
       "showCommandTitle": false,
       "startTime": 0,
       "state": "input",
       "streamStates": {},
       "subcommandOptions": {
        "queryPlan": {
         "groups": [
          {
           "column": "DS_SIT_TOT_TURNO_2018",
           "type": "column"
          }
         ],
         "selects": [
          {
           "column": "DS_SIT_TOT_TURNO_2018",
           "type": "column"
          },
          {
           "alias": "column_99a64532179",
           "args": [
            {
             "column": "PERC_VARIACAO_22_18",
             "type": "column"
            }
           ],
           "function": "AVG",
           "type": "function"
          }
         ]
        }
       },
       "submitTime": 0,
       "subtype": "tableResultSubCmd.visualization",
       "tableResultIndex": 0,
       "tableResultSettingsMap": {},
       "useConsistentColors": false,
       "version": "CommandV1",
       "width": "auto",
       "workflows": [],
       "xColumns": null,
       "yColumns": null
      }
     },
     "output_type": "display_data"
    },
    {
     "output_type": "display_data",
     "data": {
      "text/plain": [
       "Databricks visualization. Run in Databricks to view."
      ]
     },
     "metadata": {
      "application/vnd.databricks.v1.subcommand+json": {
       "baseErrorDetails": null,
       "bindings": {},
       "collapsed": false,
       "command": "%sql WITH q AS (SELECT\n   DS_SIT_TOT_TURNO_2018\n  ,COUNT(DISTINCT NR_CPF_CANDIDATO)\n  ,AVG(COALESCE(VR_BEM_CANDIDATO,0)) AS MEDIA_BENS_2022\n  ,AVG(COALESCE(VR_BEM_CANDIDATO_2018,0)) AS MEDIA_BENS_2018\n  ,SUM(COALESCE(VR_BEM_CANDIDATO,0)) AS VR_BEM_CANDIDATO_2022\n  ,SUM(COALESCE(VR_BEM_CANDIDATO_2018,0)) AS VR_BEM_CANDIDATO_2018\n  ,SUM(COALESCE(VR_BEM_CANDIDATO,0)) / SUM(COALESCE(VR_BEM_CANDIDATO_2018,0)) AS VARIACAO_22_18\n  ,(SUM(COALESCE(VR_BEM_CANDIDATO,0)) / SUM(COALESCE(VR_BEM_CANDIDATO_2018,0)) - 1) * 100 AS PERC_VARIACAO_22_18 \nFROM \n  eleicao_gold.patrimonio\nWHERE \n  DS_CARGO IS NOT NULL AND DS_CARGO_2018 IS NOT NULL AND VR_BEM_CANDIDATO IS NOT NULL AND VR_BEM_CANDIDATO_2018 IS NOT NULL\nGROUP BY \n  1) SELECT `DS_SIT_TOT_TURNO_2018`,SUM(`count(DISTINCT NR_CPF_CANDIDATO)`) `column_99a64532184` FROM q GROUP BY `DS_SIT_TOT_TURNO_2018`",
       "commandTitle": "#Candidatos",
       "commandType": "auto",
       "commandVersion": 0,
       "commentThread": [],
       "commentsVisible": false,
       "contentSha256Hex": null,
       "customPlotOptions": {
        "redashChart": [
         {
          "key": "type",
          "value": "CHART"
         },
         {
          "key": "options",
          "value": {
           "alignYAxesAtZero": true,
           "coefficient": 1,
           "columnConfigurationMap": {
            "x": {
             "column": "DS_SIT_TOT_TURNO_2018",
             "id": "column_99a64532182"
            },
            "y": [
             {
              "column": "count(DISTINCT NR_CPF_CANDIDATO)",
              "id": "column_99a64532184",
              "transform": "SUM"
             }
            ]
           },
           "dateTimeFormat": "DD/MM/YYYY HH:mm",
           "direction": {
            "type": "counterclockwise"
           },
           "error_y": {
            "type": "data",
            "visible": true
           },
           "globalSeriesType": "column",
           "isAggregationOn": true,
           "legend": {
            "traceorder": "normal"
           },
           "missingValuesAsZero": true,
           "numberFormat": "0,0.[00000]",
           "percentFormat": "0[.]00%",
           "series": {
            "error_y": {
             "type": "data",
             "visible": true
            },
            "stacking": null
           },
           "seriesOptions": {
            "column_99a64532184": {
             "type": "column",
             "yAxis": 0
            }
           },
           "showDataLabels": true,
           "sizemode": "diameter",
           "sortX": true,
           "sortY": true,
           "swappedAxes": false,
           "textFormat": "",
           "useAggregationsUi": true,
           "valuesOptions": {},
           "version": 2,
           "xAxis": {
            "labels": {
             "enabled": true
            },
            "type": "-"
           },
           "yAxis": [
            {
             "type": "-"
            },
            {
             "opposite": true,
             "type": "-"
            }
           ]
          }
         }
        ]
       },
       "datasetPreviewNameToCmdIdMap": {},
       "diffDeletes": [],
       "diffInserts": [],
       "displayType": "redashChart",
       "error": null,
       "errorDetails": null,
       "errorSummary": null,
       "errorTraceType": null,
       "finishTime": 0,
       "globalVars": {},
       "guid": "",
       "height": "auto",
       "hideCommandCode": false,
       "hideCommandResult": false,
       "iPythonMetadata": null,
       "inputWidgets": {},
       "isLockedInExamMode": false,
       "latestUser": "a user",
       "latestUserId": null,
       "listResultMetadata": null,
       "metadata": {},
       "nuid": "08b25929-2ca1-4115-8d2b-63a904d67119",
       "origId": 0,
       "parentHierarchy": [],
       "pivotAggregation": null,
       "pivotColumns": null,
       "position": 133.22265625,
       "resultDbfsErrorMessage": null,
       "resultDbfsStatus": "INLINED_IN_TREE",
       "results": null,
       "showCommandTitle": false,
       "startTime": 0,
       "state": "input",
       "streamStates": {},
       "subcommandOptions": {
        "queryPlan": {
         "groups": [
          {
           "column": "DS_SIT_TOT_TURNO_2018",
           "type": "column"
          }
         ],
         "selects": [
          {
           "column": "DS_SIT_TOT_TURNO_2018",
           "type": "column"
          },
          {
           "alias": "column_99a64532184",
           "args": [
            {
             "column": "count(DISTINCT NR_CPF_CANDIDATO)",
             "type": "column"
            }
           ],
           "function": "SUM",
           "type": "function"
          }
         ]
        }
       },
       "submitTime": 0,
       "subtype": "tableResultSubCmd.visualization",
       "tableResultIndex": 0,
       "tableResultSettingsMap": {},
       "useConsistentColors": false,
       "version": "CommandV1",
       "width": "auto",
       "workflows": [],
       "xColumns": null,
       "yColumns": null
      }
     },
     "output_type": "display_data"
    }
   ],
   "source": [
    "%sql\n",
    "--Comparação entre 2022 e 2018 por situação final da eleição\n",
    "SELECT\n",
    "   DS_SIT_TOT_TURNO_2018\n",
    "  ,COUNT(DISTINCT NR_CPF_CANDIDATO) AS QTD_CANDIDATOS\n",
    "  ,AVG(COALESCE(VR_BEM_CANDIDATO,0)) AS MEDIA_BENS_2022\n",
    "  ,AVG(COALESCE(VR_BEM_CANDIDATO_2018,0)) AS MEDIA_BENS_2018\n",
    "  ,SUM(COALESCE(VR_BEM_CANDIDATO,0)) AS VR_BEM_CANDIDATO_2022\n",
    "  ,SUM(COALESCE(VR_BEM_CANDIDATO_2018,0)) AS VR_BEM_CANDIDATO_2018\n",
    "  ,SUM(COALESCE(VR_BEM_CANDIDATO,0)) / SUM(COALESCE(VR_BEM_CANDIDATO_2018,0)) AS VARIACAO_22_18\n",
    "  ,(SUM(COALESCE(VR_BEM_CANDIDATO,0)) / SUM(COALESCE(VR_BEM_CANDIDATO_2018,0)) - 1) * 100 AS PERC_VARIACAO_22_18 -- mostrando em pontos percentuais\n",
    "FROM \n",
    "  eleicao_gold.patrimonio\n",
    "WHERE \n",
    "  DS_CARGO IS NOT NULL AND DS_CARGO_2018 IS NOT NULL AND VR_BEM_CANDIDATO IS NOT NULL AND VR_BEM_CANDIDATO_2018 IS NOT NULL\n",
    "GROUP BY \n",
    "  1"
   ]
  },
  {
   "cell_type": "markdown",
   "metadata": {
    "application/vnd.databricks.v1+cell": {
     "cellMetadata": {},
     "inputWidgets": {},
     "nuid": "423c0ca0-9ab6-4a5f-9190-702ba9646b96",
     "showTitle": false,
     "tableResultSettingsMap": {},
     "title": ""
    }
   },
   "source": [
    "Eleitos por média com maior variação (85%) e status \"NULO\" significa que a informação não estava disponível no banco de dados(segundo documentação), explicada abaixo.  "
   ]
  },
  {
   "cell_type": "code",
   "execution_count": 0,
   "metadata": {
    "application/vnd.databricks.v1+cell": {
     "cellMetadata": {
      "byteLimit": 2048000,
      "implicitDf": true,
      "rowLimit": 10000
     },
     "inputWidgets": {},
     "nuid": "29db5627-2db3-4ce7-8968-71aa9784af92",
     "showTitle": false,
     "tableResultSettingsMap": {},
     "title": ""
    }
   },
   "outputs": [
    {
     "output_type": "display_data",
     "data": {
      "text/html": [
       "<style scoped>\n",
       "  .table-result-container {\n",
       "    max-height: 300px;\n",
       "    overflow: auto;\n",
       "  }\n",
       "  table, th, td {\n",
       "    border: 1px solid black;\n",
       "    border-collapse: collapse;\n",
       "  }\n",
       "  th, td {\n",
       "    padding: 5px;\n",
       "  }\n",
       "  th {\n",
       "    text-align: left;\n",
       "  }\n",
       "</style><div class='table-result-container'><table class='table-result'><thead style='background-color: white'><tr><th>DS_SIT_TOT_TURNO_2018</th><th>DS_SITUACAO_CANDIDATURA_2018</th></tr></thead><tbody><tr><td>ELEITO POR QP</td><td>APTO</td></tr><tr><td>NÃO ELEITO</td><td>INAPTO</td></tr><tr><td>#NULO#</td><td>INAPTO</td></tr><tr><td>SUPLENTE</td><td>APTO</td></tr><tr><td>NÃO ELEITO</td><td>APTO</td></tr><tr><td>ELEITO POR MÉDIA</td><td>APTO</td></tr><tr><td>ELEITO</td><td>APTO</td></tr><tr><td>SUPLENTE</td><td>INAPTO</td></tr></tbody></table></div>"
      ]
     },
     "metadata": {
      "application/vnd.databricks.v1+output": {
       "addedWidgets": {},
       "aggData": [],
       "aggError": "",
       "aggOverflow": false,
       "aggSchema": [],
       "aggSeriesLimitReached": false,
       "aggType": "",
       "arguments": {},
       "columnCustomDisplayInfos": {},
       "data": [
        [
         "ELEITO POR QP",
         "APTO"
        ],
        [
         "NÃO ELEITO",
         "INAPTO"
        ],
        [
         "#NULO#",
         "INAPTO"
        ],
        [
         "SUPLENTE",
         "APTO"
        ],
        [
         "NÃO ELEITO",
         "APTO"
        ],
        [
         "ELEITO POR MÉDIA",
         "APTO"
        ],
        [
         "ELEITO",
         "APTO"
        ],
        [
         "SUPLENTE",
         "INAPTO"
        ]
       ],
       "datasetInfos": [],
       "dbfsResultPath": null,
       "isJsonSchema": true,
       "metadata": {},
       "overflow": false,
       "plotOptions": {
        "customPlotOptions": {},
        "displayType": "table",
        "pivotAggregation": null,
        "pivotColumns": null,
        "xColumns": null,
        "yColumns": null
       },
       "removedWidgets": [],
       "schema": [
        {
         "metadata": "{\"comment\":\"Status of the electoral dispute in 2018\",\"__CHAR_VARCHAR_TYPE_STRING\":\"varchar(200)\"}",
         "name": "DS_SIT_TOT_TURNO_2018",
         "type": "\"string\""
        },
        {
         "metadata": "{\"comment\":\"Situation of the candidature (APTO, CADASTRADO, INAPTO) in 2018\",\"__CHAR_VARCHAR_TYPE_STRING\":\"varchar(100)\"}",
         "name": "DS_SITUACAO_CANDIDATURA_2018",
         "type": "\"string\""
        }
       ],
       "type": "table"
      }
     },
     "output_type": "display_data"
    }
   ],
   "source": [
    "%sql\n",
    "SELECT \n",
    "  DISTINCT \n",
    "   DS_SIT_TOT_TURNO_2018\n",
    "  ,DS_SITUACAO_CANDIDATURA_2018\n",
    "FROM \n",
    "  eleicao_gold.patrimonio\n",
    "WHERE \n",
    "  DS_CARGO IS NOT NULL AND DS_CARGO_2018 IS NOT NULL AND VR_BEM_CANDIDATO IS NOT NULL AND VR_BEM_CANDIDATO_2018 IS NOT NULL\n"
   ]
  },
  {
   "cell_type": "markdown",
   "metadata": {
    "application/vnd.databricks.v1+cell": {
     "cellMetadata": {},
     "inputWidgets": {},
     "nuid": "68fd4285-8c8b-46e6-a420-f94186125f59",
     "showTitle": false,
     "tableResultSettingsMap": {},
     "title": ""
    }
   },
   "source": [
    "Como mostrado os status \"#NULO#\" são candidatos inaptos a concorrerem no ano em questão."
   ]
  },
  {
   "cell_type": "code",
   "execution_count": 0,
   "metadata": {
    "application/vnd.databricks.v1+cell": {
     "cellMetadata": {
      "byteLimit": 2048000,
      "implicitDf": true,
      "rowLimit": 10000
     },
     "inputWidgets": {},
     "nuid": "a7255c21-b5e5-4515-baf2-f6517b858cfd",
     "showTitle": false,
     "tableResultSettingsMap": {},
     "title": ""
    }
   },
   "outputs": [
    {
     "output_type": "display_data",
     "data": {
      "text/html": [
       "<style scoped>\n",
       "  .table-result-container {\n",
       "    max-height: 300px;\n",
       "    overflow: auto;\n",
       "  }\n",
       "  table, th, td {\n",
       "    border: 1px solid black;\n",
       "    border-collapse: collapse;\n",
       "  }\n",
       "  th, td {\n",
       "    padding: 5px;\n",
       "  }\n",
       "  th {\n",
       "    text-align: left;\n",
       "  }\n",
       "</style><div class='table-result-container'><table class='table-result'><thead style='background-color: white'><tr><th>DS_SIT_TOT_TURNO_2020</th><th>QTD_CANDIDATOS</th><th>MEDIA_BENS_2022</th><th>MEDIA_BENS_2020</th><th>VR_BEM_CANDIDATO_2022</th><th>VR_BEM_CANDIDATO_2020</th><th>VARIACAO_22_20</th><th>PERC_VARIACAO_22_20</th></tr></thead><tbody><tr><td>ELEITO POR MÉDIA</td><td>80</td><td>656714.6503614456</td><td>546310.511686747</td><td>5.450731597999999E7</td><td>4.534377247E7</td><td>1.2020904527972989</td><td>20.209045279729885</td></tr><tr><td>ELEITO</td><td>35</td><td>722837.0114285715</td><td>634693.3268571428</td><td>2.5299295400000002E7</td><td>2.221426644E7</td><td>1.1388760222324947</td><td>13.887602223249473</td></tr><tr><td>NÃO ELEITO</td><td>548</td><td>833994.9938530463</td><td>1100543.5379390682</td><td>4.653692065699999E8</td><td>6.141032941700001E8</td><td>0.757802817519447</td><td>-24.2197182480553</td></tr><tr><td>SUPLENTE</td><td>458</td><td>466354.05590618344</td><td>6442170.782324093</td><td>2.1872005222000003E8</td><td>3.02137809691E9</td><td>0.07239082471792845</td><td>-92.76091752820716</td></tr><tr><td>#NULO#</td><td>20</td><td>466335.63500000007</td><td>584789.8085</td><td>9326712.700000001</td><td>1.1695796170000002E7</td><td>0.7974414537013943</td><td>-20.255854629860572</td></tr><tr><td>ELEITO POR QP</td><td>169</td><td>627696.2343529413</td><td>495207.81035294104</td><td>1.0670835984000002E8</td><td>8.418532775999998E7</td><td>1.2675410630247814</td><td>26.754106302478142</td></tr></tbody></table></div>"
      ]
     },
     "metadata": {
      "application/vnd.databricks.v1+output": {
       "addedWidgets": {},
       "aggData": [],
       "aggError": "",
       "aggOverflow": false,
       "aggSchema": [],
       "aggSeriesLimitReached": false,
       "aggType": "",
       "arguments": {},
       "columnCustomDisplayInfos": {},
       "data": [
        [
         "ELEITO POR MÉDIA",
         80,
         656714.6503614456,
         546310.511686747,
         5.450731597999999E7,
         4.534377247E7,
         1.2020904527972989,
         20.209045279729885
        ],
        [
         "ELEITO",
         35,
         722837.0114285715,
         634693.3268571428,
         2.5299295400000002E7,
         2.221426644E7,
         1.1388760222324947,
         13.887602223249473
        ],
        [
         "NÃO ELEITO",
         548,
         833994.9938530463,
         1100543.5379390682,
         4.653692065699999E8,
         6.141032941700001E8,
         0.757802817519447,
         -24.2197182480553
        ],
        [
         "SUPLENTE",
         458,
         466354.05590618344,
         6442170.782324093,
         2.1872005222000003E8,
         3.02137809691E9,
         0.07239082471792845,
         -92.76091752820716
        ],
        [
         "#NULO#",
         20,
         466335.63500000007,
         584789.8085,
         9326712.700000001,
         1.1695796170000002E7,
         0.7974414537013943,
         -20.255854629860572
        ],
        [
         "ELEITO POR QP",
         169,
         627696.2343529413,
         495207.81035294104,
         1.0670835984000002E8,
         8.418532775999998E7,
         1.2675410630247814,
         26.754106302478142
        ]
       ],
       "datasetInfos": [],
       "dbfsResultPath": null,
       "isJsonSchema": true,
       "metadata": {},
       "overflow": false,
       "plotOptions": {
        "customPlotOptions": {},
        "displayType": "table",
        "pivotAggregation": null,
        "pivotColumns": null,
        "xColumns": null,
        "yColumns": null
       },
       "removedWidgets": [],
       "schema": [
        {
         "metadata": "{\"comment\":\"Status of the electoral dispute in 2020\",\"__CHAR_VARCHAR_TYPE_STRING\":\"varchar(200)\"}",
         "name": "DS_SIT_TOT_TURNO_2020",
         "type": "\"string\""
        },
        {
         "metadata": "{}",
         "name": "QTD_CANDIDATOS",
         "type": "\"long\""
        },
        {
         "metadata": "{}",
         "name": "MEDIA_BENS_2022",
         "type": "\"double\""
        },
        {
         "metadata": "{}",
         "name": "MEDIA_BENS_2020",
         "type": "\"double\""
        },
        {
         "metadata": "{}",
         "name": "VR_BEM_CANDIDATO_2022",
         "type": "\"double\""
        },
        {
         "metadata": "{}",
         "name": "VR_BEM_CANDIDATO_2020",
         "type": "\"double\""
        },
        {
         "metadata": "{}",
         "name": "VARIACAO_22_20",
         "type": "\"double\""
        },
        {
         "metadata": "{}",
         "name": "PERC_VARIACAO_22_20",
         "type": "\"double\""
        }
       ],
       "type": "table"
      }
     },
     "output_type": "display_data"
    },
    {
     "output_type": "display_data",
     "data": {
      "text/plain": [
       "Databricks visualization. Run in Databricks to view."
      ]
     },
     "metadata": {
      "application/vnd.databricks.v1.subcommand+json": {
       "baseErrorDetails": null,
       "bindings": {},
       "collapsed": false,
       "command": "%sql WITH q AS (SELECT\n   DS_SIT_TOT_TURNO_2018\n  ,COUNT(DISTINCT NR_CPF_CANDIDATO)\n  ,AVG(COALESCE(VR_BEM_CANDIDATO,0)) AS MEDIA_BENS_2022\n  ,AVG(COALESCE(VR_BEM_CANDIDATO_2018,0)) AS MEDIA_BENS_2018\n  ,SUM(COALESCE(VR_BEM_CANDIDATO,0)) AS VR_BEM_CANDIDATO_2022\n  ,SUM(COALESCE(VR_BEM_CANDIDATO_2018,0)) AS VR_BEM_CANDIDATO_2018\n  ,SUM(COALESCE(VR_BEM_CANDIDATO,0)) / SUM(COALESCE(VR_BEM_CANDIDATO_2018,0)) AS VARIACAO_22_18\n  ,(SUM(COALESCE(VR_BEM_CANDIDATO,0)) / SUM(COALESCE(VR_BEM_CANDIDATO_2018,0)) - 1) * 100 AS PERC_VARIACAO_22_18 \nFROM \n  eleicao_gold.patrimonio\nWHERE \n  DS_CARGO IS NOT NULL AND DS_CARGO_2018 IS NOT NULL AND VR_BEM_CANDIDATO IS NOT NULL AND VR_BEM_CANDIDATO_2018 IS NOT NULL\nGROUP BY \n  1) SELECT `DS_SIT_TOT_TURNO_2018`,AVG(`PERC_VARIACAO_22_18`) `column_99a64532179` FROM q GROUP BY `DS_SIT_TOT_TURNO_2018`",
       "commandTitle": "Var 2020 - 2022",
       "commandType": "auto",
       "commandVersion": 0,
       "commentThread": [],
       "commentsVisible": false,
       "contentSha256Hex": null,
       "customPlotOptions": {
        "redashChart": [
         {
          "key": "type",
          "value": "CHART"
         },
         {
          "key": "options",
          "value": {
           "alignYAxesAtZero": true,
           "coefficient": 1,
           "columnConfigurationMap": {
            "x": {
             "column": "DS_SIT_TOT_TURNO_2020",
             "id": "column_99a64532196"
            },
            "y": [
             {
              "column": "PERC_VARIACAO_22_20",
              "id": "column_99a64532179",
              "transform": "AVG"
             }
            ]
           },
           "dateTimeFormat": "DD/MM/YYYY HH:mm",
           "direction": {
            "type": "counterclockwise"
           },
           "error_y": {
            "type": "data",
            "visible": true
           },
           "globalSeriesType": "column",
           "isAggregationOn": true,
           "legend": {
            "traceorder": "normal"
           },
           "missingValuesAsZero": true,
           "numberFormat": "0[.]00%",
           "percentFormat": "0[.]00%",
           "series": {
            "error_y": {
             "type": "data",
             "visible": true
            },
            "stacking": null
           },
           "seriesOptions": {
            "column_99a64532179": {
             "type": "column",
             "yAxis": 0
            }
           },
           "showDataLabels": true,
           "sizemode": "diameter",
           "sortX": true,
           "sortY": true,
           "swappedAxes": false,
           "textFormat": "",
           "useAggregationsUi": true,
           "valuesOptions": {},
           "version": 2,
           "xAxis": {
            "labels": {
             "enabled": true
            },
            "type": "-"
           },
           "yAxis": [
            {
             "type": "-"
            },
            {
             "opposite": true,
             "type": "-"
            }
           ]
          }
         }
        ]
       },
       "datasetPreviewNameToCmdIdMap": {},
       "diffDeletes": [],
       "diffInserts": [],
       "displayType": "redashChart",
       "error": null,
       "errorDetails": null,
       "errorSummary": null,
       "errorTraceType": null,
       "finishTime": 0,
       "globalVars": {},
       "guid": "",
       "height": "auto",
       "hideCommandCode": false,
       "hideCommandResult": false,
       "iPythonMetadata": null,
       "inputWidgets": {},
       "isLockedInExamMode": false,
       "latestUser": "a user",
       "latestUserId": null,
       "listResultMetadata": null,
       "metadata": {},
       "nuid": "fc6bbb44-30c9-4619-8c0b-5683b322f65e",
       "origId": 0,
       "parentHierarchy": [],
       "pivotAggregation": null,
       "pivotColumns": null,
       "position": 1.0,
       "resultDbfsErrorMessage": null,
       "resultDbfsStatus": "INLINED_IN_TREE",
       "results": null,
       "showCommandTitle": false,
       "startTime": 0,
       "state": "input",
       "streamStates": {},
       "subcommandOptions": {
        "queryPlan": {
         "groups": [
          {
           "column": "DS_SIT_TOT_TURNO_2020",
           "type": "column"
          }
         ],
         "selects": [
          {
           "column": "DS_SIT_TOT_TURNO_2020",
           "type": "column"
          },
          {
           "alias": "column_99a64532179",
           "args": [
            {
             "column": "PERC_VARIACAO_22_20",
             "type": "column"
            }
           ],
           "function": "AVG",
           "type": "function"
          }
         ]
        }
       },
       "submitTime": 0,
       "subtype": "tableResultSubCmd.visualization",
       "tableResultIndex": 0,
       "tableResultSettingsMap": {},
       "useConsistentColors": false,
       "version": "CommandV1",
       "width": "auto",
       "workflows": [],
       "xColumns": null,
       "yColumns": null
      }
     },
     "output_type": "display_data"
    },
    {
     "output_type": "display_data",
     "data": {
      "text/plain": [
       "Databricks visualization. Run in Databricks to view."
      ]
     },
     "metadata": {
      "application/vnd.databricks.v1.subcommand+json": {
       "baseErrorDetails": null,
       "bindings": {},
       "collapsed": false,
       "command": "%sql WITH q AS (SELECT\n   DS_SIT_TOT_TURNO_2018\n  ,COUNT(DISTINCT NR_CPF_CANDIDATO)\n  ,AVG(COALESCE(VR_BEM_CANDIDATO,0)) AS MEDIA_BENS_2022\n  ,AVG(COALESCE(VR_BEM_CANDIDATO_2018,0)) AS MEDIA_BENS_2018\n  ,SUM(COALESCE(VR_BEM_CANDIDATO,0)) AS VR_BEM_CANDIDATO_2022\n  ,SUM(COALESCE(VR_BEM_CANDIDATO_2018,0)) AS VR_BEM_CANDIDATO_2018\n  ,SUM(COALESCE(VR_BEM_CANDIDATO,0)) / SUM(COALESCE(VR_BEM_CANDIDATO_2018,0)) AS VARIACAO_22_18\n  ,(SUM(COALESCE(VR_BEM_CANDIDATO,0)) / SUM(COALESCE(VR_BEM_CANDIDATO_2018,0)) - 1) * 100 AS PERC_VARIACAO_22_18 \nFROM \n  eleicao_gold.patrimonio\nWHERE \n  DS_CARGO IS NOT NULL AND DS_CARGO_2018 IS NOT NULL AND VR_BEM_CANDIDATO IS NOT NULL AND VR_BEM_CANDIDATO_2018 IS NOT NULL\nGROUP BY \n  1) SELECT `DS_SIT_TOT_TURNO_2018`,SUM(`count(DISTINCT NR_CPF_CANDIDATO)`) `column_99a64532184` FROM q GROUP BY `DS_SIT_TOT_TURNO_2018`",
       "commandTitle": "#Candidatos",
       "commandType": "auto",
       "commandVersion": 0,
       "commentThread": [],
       "commentsVisible": false,
       "contentSha256Hex": null,
       "customPlotOptions": {
        "redashChart": [
         {
          "key": "type",
          "value": "CHART"
         },
         {
          "key": "options",
          "value": {
           "alignYAxesAtZero": true,
           "coefficient": 1,
           "columnConfigurationMap": {
            "x": {
             "column": "DS_SIT_TOT_TURNO_2020",
             "id": "column_99a64532198"
            },
            "y": [
             {
              "column": "QTD_CANDIDATOS",
              "id": "column_99a64532184",
              "transform": "SUM"
             }
            ]
           },
           "dateTimeFormat": "DD/MM/YYYY HH:mm",
           "direction": {
            "type": "counterclockwise"
           },
           "error_y": {
            "type": "data",
            "visible": true
           },
           "globalSeriesType": "column",
           "isAggregationOn": true,
           "legend": {
            "traceorder": "normal"
           },
           "missingValuesAsZero": true,
           "numberFormat": "0,0.[00000]",
           "percentFormat": "0[.]00%",
           "series": {
            "error_y": {
             "type": "data",
             "visible": true
            },
            "stacking": null
           },
           "seriesOptions": {
            "column_99a64532184": {
             "type": "column",
             "yAxis": 0
            }
           },
           "showDataLabels": true,
           "sizemode": "diameter",
           "sortX": true,
           "sortY": true,
           "swappedAxes": false,
           "textFormat": "",
           "useAggregationsUi": true,
           "valuesOptions": {},
           "version": 2,
           "xAxis": {
            "labels": {
             "enabled": true
            },
            "type": "-"
           },
           "yAxis": [
            {
             "type": "-"
            },
            {
             "opposite": true,
             "type": "-"
            }
           ]
          }
         }
        ]
       },
       "datasetPreviewNameToCmdIdMap": {},
       "diffDeletes": [],
       "diffInserts": [],
       "displayType": "redashChart",
       "error": null,
       "errorDetails": null,
       "errorSummary": null,
       "errorTraceType": null,
       "finishTime": 0,
       "globalVars": {},
       "guid": "",
       "height": "auto",
       "hideCommandCode": false,
       "hideCommandResult": false,
       "iPythonMetadata": null,
       "inputWidgets": {},
       "isLockedInExamMode": false,
       "latestUser": "a user",
       "latestUserId": null,
       "listResultMetadata": null,
       "metadata": {},
       "nuid": "db6b5c6f-013c-4c02-9b17-7966e2512805",
       "origId": 0,
       "parentHierarchy": [],
       "pivotAggregation": null,
       "pivotColumns": null,
       "position": 1.0,
       "resultDbfsErrorMessage": null,
       "resultDbfsStatus": "INLINED_IN_TREE",
       "results": null,
       "showCommandTitle": false,
       "startTime": 0,
       "state": "input",
       "streamStates": {},
       "subcommandOptions": {
        "queryPlan": {
         "groups": [
          {
           "column": "DS_SIT_TOT_TURNO_2020",
           "type": "column"
          }
         ],
         "selects": [
          {
           "column": "DS_SIT_TOT_TURNO_2020",
           "type": "column"
          },
          {
           "alias": "column_99a64532184",
           "args": [
            {
             "column": "QTD_CANDIDATOS",
             "type": "column"
            }
           ],
           "function": "SUM",
           "type": "function"
          }
         ]
        }
       },
       "submitTime": 0,
       "subtype": "tableResultSubCmd.visualization",
       "tableResultIndex": 0,
       "tableResultSettingsMap": {},
       "useConsistentColors": false,
       "version": "CommandV1",
       "width": "auto",
       "workflows": [],
       "xColumns": null,
       "yColumns": null
      }
     },
     "output_type": "display_data"
    }
   ],
   "source": [
    "%sql\n",
    "--Comparação entre 2022 e 2020 por situação final da eleição \n",
    "SELECT\n",
    "   DS_SIT_TOT_TURNO_2020\n",
    "  ,COUNT(DISTINCT NR_CPF_CANDIDATO) AS QTD_CANDIDATOS\n",
    "  ,AVG(COALESCE(VR_BEM_CANDIDATO,0)) AS MEDIA_BENS_2022\n",
    "  ,AVG(COALESCE(VR_BEM_CANDIDATO_2020,0)) AS MEDIA_BENS_2020\n",
    "  ,SUM(COALESCE(VR_BEM_CANDIDATO,0)) AS VR_BEM_CANDIDATO_2022\n",
    "  ,SUM(COALESCE(VR_BEM_CANDIDATO_2020,0)) AS VR_BEM_CANDIDATO_2020\n",
    "  ,SUM(COALESCE(VR_BEM_CANDIDATO,0)) / SUM(COALESCE(VR_BEM_CANDIDATO_2020,0)) AS VARIACAO_22_20\n",
    "  ,(SUM(COALESCE(VR_BEM_CANDIDATO,0)) / SUM(COALESCE(VR_BEM_CANDIDATO_2020,0)) - 1) * 100 AS PERC_VARIACAO_22_20 -- mostrando em pontos percentuais\n",
    "FROM \n",
    "  eleicao_gold.patrimonio\n",
    "WHERE \n",
    "  DS_CARGO IS NOT NULL AND DS_CARGO_2020 IS NOT NULL AND VR_BEM_CANDIDATO IS NOT NULL AND VR_BEM_CANDIDATO_2020 IS NOT NULL\n",
    "GROUP BY \n",
    "  1"
   ]
  },
  {
   "cell_type": "markdown",
   "metadata": {
    "application/vnd.databricks.v1+cell": {
     "cellMetadata": {},
     "inputWidgets": {},
     "nuid": "c37c7831-da55-4cde-aed0-3271e3acf45d",
     "showTitle": false,
     "tableResultSettingsMap": {},
     "title": ""
    }
   },
   "source": [
    "Eleitos por QP (Cosciente Partidário) tiveram a maior variação (27%) enquanto a menor foi dos eleitos a suplente (-93%) de variação patrimonial."
   ]
  },
  {
   "cell_type": "markdown",
   "metadata": {
    "application/vnd.databricks.v1+cell": {
     "cellMetadata": {},
     "inputWidgets": {},
     "nuid": "2809533f-fdd5-4b23-939b-ea8d236ea8b3",
     "showTitle": false,
     "tableResultSettingsMap": {},
     "title": ""
    }
   },
   "source": [
    "OBS: Para conhecimento, \"ELEITO POR QP\" (Cosciente Partidário) são as vagas destinadas a candidatos eleitos por eleitores que optaram por votar na sigla do partido, mais informações no [LINK](https://www.tse.jus.br/comunicacao/noticias/2024/Marco/quocientes-eleitoral-e-partidario-entenda-como-um-candidato-a-vereador-e-eleito)"
   ]
  },
  {
   "cell_type": "code",
   "execution_count": 0,
   "metadata": {
    "application/vnd.databricks.v1+cell": {
     "cellMetadata": {
      "byteLimit": 2048000,
      "implicitDf": true,
      "rowLimit": 10000
     },
     "inputWidgets": {},
     "nuid": "5401f779-ac75-4a3b-bb4e-a6b0bc1677db",
     "showTitle": false,
     "tableResultSettingsMap": {},
     "title": ""
    }
   },
   "outputs": [
    {
     "output_type": "display_data",
     "data": {
      "text/html": [
       "<style scoped>\n",
       "  .table-result-container {\n",
       "    max-height: 300px;\n",
       "    overflow: auto;\n",
       "  }\n",
       "  table, th, td {\n",
       "    border: 1px solid black;\n",
       "    border-collapse: collapse;\n",
       "  }\n",
       "  th, td {\n",
       "    padding: 5px;\n",
       "  }\n",
       "  th {\n",
       "    text-align: left;\n",
       "  }\n",
       "</style><div class='table-result-container'><table class='table-result'><thead style='background-color: white'><tr><th>DS_GENERO</th><th>QTD_CANDIDATOS</th><th>MEDIA_BENS_2022</th><th>MEDIA_BENS_2018</th><th>VR_BEM_CANDIDATO_2022</th><th>VR_BEM_CANDIDATO_2018</th><th>VARIACAO_22_18</th><th>PERC_VARIACAO_22_18</th></tr></thead><tbody><tr><td>MASCULINO</td><td>946</td><td>1880733.6863350773</td><td>1431820.280157067</td><td>1.7961006704499989E9</td><td>1.367388367549999E9</td><td>1.3135263638874886</td><td>31.352636388748856</td></tr><tr><td>FEMININO</td><td>218</td><td>956854.4197321429</td><td>818795.5798660715</td><td>2.1433539002E8</td><td>1.8341020989000002E8</td><td>1.1686120971594074</td><td>16.86120971594074</td></tr></tbody></table></div>"
      ]
     },
     "metadata": {
      "application/vnd.databricks.v1+output": {
       "addedWidgets": {},
       "aggData": [],
       "aggError": "",
       "aggOverflow": false,
       "aggSchema": [],
       "aggSeriesLimitReached": false,
       "aggType": "",
       "arguments": {},
       "columnCustomDisplayInfos": {},
       "data": [
        [
         "MASCULINO",
         946,
         1880733.6863350773,
         1431820.280157067,
         1.7961006704499989E9,
         1.367388367549999E9,
         1.3135263638874886,
         31.352636388748856
        ],
        [
         "FEMININO",
         218,
         956854.4197321429,
         818795.5798660715,
         2.1433539002E8,
         1.8341020989000002E8,
         1.1686120971594074,
         16.86120971594074
        ]
       ],
       "datasetInfos": [],
       "dbfsResultPath": null,
       "isJsonSchema": true,
       "metadata": {},
       "overflow": false,
       "plotOptions": {
        "customPlotOptions": {},
        "displayType": "table",
        "pivotAggregation": null,
        "pivotColumns": null,
        "xColumns": null,
        "yColumns": null
       },
       "removedWidgets": [],
       "schema": [
        {
         "metadata": "{\"comment\":\"Gender of the candidate (MASCULINO, FEMININO, NÃO DIVULGÁVEL) declared in 2022\",\"__CHAR_VARCHAR_TYPE_STRING\":\"varchar(100)\"}",
         "name": "DS_GENERO",
         "type": "\"string\""
        },
        {
         "metadata": "{}",
         "name": "QTD_CANDIDATOS",
         "type": "\"long\""
        },
        {
         "metadata": "{}",
         "name": "MEDIA_BENS_2022",
         "type": "\"double\""
        },
        {
         "metadata": "{}",
         "name": "MEDIA_BENS_2018",
         "type": "\"double\""
        },
        {
         "metadata": "{}",
         "name": "VR_BEM_CANDIDATO_2022",
         "type": "\"double\""
        },
        {
         "metadata": "{}",
         "name": "VR_BEM_CANDIDATO_2018",
         "type": "\"double\""
        },
        {
         "metadata": "{}",
         "name": "VARIACAO_22_18",
         "type": "\"double\""
        },
        {
         "metadata": "{}",
         "name": "PERC_VARIACAO_22_18",
         "type": "\"double\""
        }
       ],
       "type": "table"
      }
     },
     "output_type": "display_data"
    },
    {
     "output_type": "display_data",
     "data": {
      "text/plain": [
       "Databricks visualization. Run in Databricks to view."
      ]
     },
     "metadata": {
      "application/vnd.databricks.v1.subcommand+json": {
       "baseErrorDetails": null,
       "bindings": {},
       "collapsed": false,
       "command": "%sql WITH q AS (SELECT\n   DS_GENERO\n  ,COUNT(DISTINCT NR_CPF_CANDIDATO) AS QTD_CANDIDATOS\n  ,AVG(COALESCE(VR_BEM_CANDIDATO,0)) AS MEDIA_BENS_2022\n  ,AVG(COALESCE(VR_BEM_CANDIDATO_2018,0)) AS MEDIA_BENS_2018\n  ,SUM(COALESCE(VR_BEM_CANDIDATO,0)) AS VR_BEM_CANDIDATO_2022\n  ,SUM(COALESCE(VR_BEM_CANDIDATO_2018,0)) AS VR_BEM_CANDIDATO_2018\n  ,SUM(COALESCE(VR_BEM_CANDIDATO,0)) / SUM(COALESCE(VR_BEM_CANDIDATO_2018,0)) AS VARIACAO_22_18\n  ,(SUM(COALESCE(VR_BEM_CANDIDATO,0)) / SUM(COALESCE(VR_BEM_CANDIDATO_2018,0)) - 1) * 100 AS PERC_VARIACAO_22_18 \nFROM \n  eleicao_gold.patrimonio\nWHERE \n  DS_CARGO IS NOT NULL AND DS_CARGO_2018 IS NOT NULL AND VR_BEM_CANDIDATO IS NOT NULL AND VR_BEM_CANDIDATO_2018 IS NOT NULL\nGROUP BY \n  1) SELECT `DS_GENERO`,SUM(`PERC_VARIACAO_22_18`) `column_99a64532201` FROM q GROUP BY `DS_GENERO`",
       "commandTitle": "Var 2018-2022",
       "commandType": "auto",
       "commandVersion": 0,
       "commentThread": [],
       "commentsVisible": false,
       "contentSha256Hex": null,
       "customPlotOptions": {
        "redashChart": [
         {
          "key": "type",
          "value": "CHART"
         },
         {
          "key": "options",
          "value": {
           "alignYAxesAtZero": true,
           "coefficient": 1,
           "columnConfigurationMap": {
            "x": {
             "column": "DS_GENERO",
             "id": "column_99a64532199"
            },
            "y": [
             {
              "column": "PERC_VARIACAO_22_18",
              "id": "column_99a64532201",
              "transform": "SUM"
             }
            ]
           },
           "dateTimeFormat": "DD/MM/YYYY HH:mm",
           "direction": {
            "type": "counterclockwise"
           },
           "error_y": {
            "type": "data",
            "visible": true
           },
           "globalSeriesType": "column",
           "isAggregationOn": true,
           "legend": {
            "traceorder": "normal"
           },
           "missingValuesAsZero": true,
           "numberFormat": "0[.]00%",
           "percentFormat": "0[.]00%",
           "series": {
            "error_y": {
             "type": "data",
             "visible": true
            },
            "stacking": null
           },
           "seriesOptions": {
            "column_99a64532201": {
             "type": "column",
             "yAxis": 0
            }
           },
           "showDataLabels": true,
           "sizemode": "diameter",
           "sortX": true,
           "sortY": true,
           "swappedAxes": false,
           "textFormat": "",
           "useAggregationsUi": true,
           "valuesOptions": {},
           "version": 2,
           "xAxis": {
            "labels": {
             "enabled": true
            },
            "type": "-"
           },
           "yAxis": [
            {
             "type": "-"
            },
            {
             "opposite": true,
             "type": "-"
            }
           ]
          }
         }
        ]
       },
       "datasetPreviewNameToCmdIdMap": {},
       "diffDeletes": [],
       "diffInserts": [],
       "displayType": "redashChart",
       "error": null,
       "errorDetails": null,
       "errorSummary": null,
       "errorTraceType": null,
       "finishTime": 0,
       "globalVars": {},
       "guid": "",
       "height": "auto",
       "hideCommandCode": false,
       "hideCommandResult": false,
       "iPythonMetadata": null,
       "inputWidgets": {},
       "isLockedInExamMode": false,
       "latestUser": "a user",
       "latestUserId": null,
       "listResultMetadata": null,
       "metadata": {},
       "nuid": "c598c0bd-dbc2-40cc-99ab-4d18bda27576",
       "origId": 0,
       "parentHierarchy": [],
       "pivotAggregation": null,
       "pivotColumns": null,
       "position": 132.240625,
       "resultDbfsErrorMessage": null,
       "resultDbfsStatus": "INLINED_IN_TREE",
       "results": null,
       "showCommandTitle": false,
       "startTime": 0,
       "state": "input",
       "streamStates": {},
       "subcommandOptions": {
        "queryPlan": {
         "groups": [
          {
           "column": "DS_GENERO",
           "type": "column"
          }
         ],
         "selects": [
          {
           "column": "DS_GENERO",
           "type": "column"
          },
          {
           "alias": "column_99a64532201",
           "args": [
            {
             "column": "PERC_VARIACAO_22_18",
             "type": "column"
            }
           ],
           "function": "SUM",
           "type": "function"
          }
         ]
        }
       },
       "submitTime": 0,
       "subtype": "tableResultSubCmd.visualization",
       "tableResultIndex": 0,
       "tableResultSettingsMap": {},
       "useConsistentColors": false,
       "version": "CommandV1",
       "width": "auto",
       "workflows": [],
       "xColumns": null,
       "yColumns": null
      }
     },
     "output_type": "display_data"
    },
    {
     "output_type": "display_data",
     "data": {
      "text/plain": [
       "Databricks visualization. Run in Databricks to view."
      ]
     },
     "metadata": {
      "application/vnd.databricks.v1.subcommand+json": {
       "baseErrorDetails": null,
       "bindings": {},
       "collapsed": false,
       "command": "%sql WITH q AS (SELECT\n   DS_GENERO\n  ,COUNT(DISTINCT NR_CPF_CANDIDATO) AS QTD_CANDIDATOS\n  ,AVG(COALESCE(VR_BEM_CANDIDATO,0)) AS MEDIA_BENS_2022\n  ,AVG(COALESCE(VR_BEM_CANDIDATO_2018,0)) AS MEDIA_BENS_2018\n  ,SUM(COALESCE(VR_BEM_CANDIDATO,0)) AS VR_BEM_CANDIDATO_2022\n  ,SUM(COALESCE(VR_BEM_CANDIDATO_2018,0)) AS VR_BEM_CANDIDATO_2018\n  ,SUM(COALESCE(VR_BEM_CANDIDATO,0)) / SUM(COALESCE(VR_BEM_CANDIDATO_2018,0)) AS VARIACAO_22_18\n  ,(SUM(COALESCE(VR_BEM_CANDIDATO,0)) / SUM(COALESCE(VR_BEM_CANDIDATO_2018,0)) - 1) * 100 AS PERC_VARIACAO_22_18 \nFROM \n  eleicao_gold.patrimonio\nWHERE \n  DS_CARGO IS NOT NULL AND DS_CARGO_2018 IS NOT NULL AND VR_BEM_CANDIDATO IS NOT NULL AND VR_BEM_CANDIDATO_2018 IS NOT NULL\nGROUP BY \n  1) SELECT `DS_GENERO`,SUM(`QTD_CANDIDATOS`) `column_99a64532205` FROM q GROUP BY `DS_GENERO`",
       "commandTitle": "#Candidatos",
       "commandType": "auto",
       "commandVersion": 0,
       "commentThread": [],
       "commentsVisible": false,
       "contentSha256Hex": null,
       "customPlotOptions": {
        "redashChart": [
         {
          "key": "type",
          "value": "CHART"
         },
         {
          "key": "options",
          "value": {
           "alignYAxesAtZero": true,
           "coefficient": 1,
           "columnConfigurationMap": {
            "x": {
             "column": "DS_GENERO",
             "id": "column_99a64532203"
            },
            "y": [
             {
              "column": "QTD_CANDIDATOS",
              "id": "column_99a64532205",
              "transform": "SUM"
             }
            ]
           },
           "dateTimeFormat": "DD/MM/YYYY HH:mm",
           "direction": {
            "type": "counterclockwise"
           },
           "error_y": {
            "type": "data",
            "visible": true
           },
           "globalSeriesType": "column",
           "isAggregationOn": true,
           "legend": {
            "traceorder": "normal"
           },
           "missingValuesAsZero": true,
           "numberFormat": "0,0.[00000]",
           "percentFormat": "0[.]00%",
           "series": {
            "error_y": {
             "type": "data",
             "visible": true
            },
            "stacking": null
           },
           "seriesOptions": {
            "column_99a64532205": {
             "type": "column",
             "yAxis": 0
            }
           },
           "showDataLabels": true,
           "sizemode": "diameter",
           "sortX": true,
           "sortY": true,
           "swappedAxes": false,
           "textFormat": "",
           "useAggregationsUi": true,
           "valuesOptions": {},
           "version": 2,
           "xAxis": {
            "labels": {
             "enabled": true
            },
            "type": "-"
           },
           "yAxis": [
            {
             "type": "-"
            },
            {
             "opposite": true,
             "type": "-"
            }
           ]
          }
         }
        ]
       },
       "datasetPreviewNameToCmdIdMap": {},
       "diffDeletes": [],
       "diffInserts": [],
       "displayType": "redashChart",
       "error": null,
       "errorDetails": null,
       "errorSummary": null,
       "errorTraceType": null,
       "finishTime": 0,
       "globalVars": {},
       "guid": "",
       "height": "auto",
       "hideCommandCode": false,
       "hideCommandResult": false,
       "iPythonMetadata": null,
       "inputWidgets": {},
       "isLockedInExamMode": false,
       "latestUser": "a user",
       "latestUserId": null,
       "listResultMetadata": null,
       "metadata": {},
       "nuid": "0e431419-9918-408e-8b2e-19e1e8facf8e",
       "origId": 0,
       "parentHierarchy": [],
       "pivotAggregation": null,
       "pivotColumns": null,
       "position": 133.240625,
       "resultDbfsErrorMessage": null,
       "resultDbfsStatus": "INLINED_IN_TREE",
       "results": null,
       "showCommandTitle": false,
       "startTime": 0,
       "state": "input",
       "streamStates": {},
       "subcommandOptions": {
        "queryPlan": {
         "groups": [
          {
           "column": "DS_GENERO",
           "type": "column"
          }
         ],
         "selects": [
          {
           "column": "DS_GENERO",
           "type": "column"
          },
          {
           "alias": "column_99a64532205",
           "args": [
            {
             "column": "QTD_CANDIDATOS",
             "type": "column"
            }
           ],
           "function": "SUM",
           "type": "function"
          }
         ]
        }
       },
       "submitTime": 0,
       "subtype": "tableResultSubCmd.visualization",
       "tableResultIndex": 0,
       "tableResultSettingsMap": {},
       "useConsistentColors": false,
       "version": "CommandV1",
       "width": "auto",
       "workflows": [],
       "xColumns": null,
       "yColumns": null
      }
     },
     "output_type": "display_data"
    }
   ],
   "source": [
    "%sql\n",
    "--Comparação entre 2022 e 2018 por genero declarado em 2022\n",
    "SELECT\n",
    "   DS_GENERO\n",
    "  ,COUNT(DISTINCT NR_CPF_CANDIDATO) AS QTD_CANDIDATOS\n",
    "  ,AVG(COALESCE(VR_BEM_CANDIDATO,0)) AS MEDIA_BENS_2022\n",
    "  ,AVG(COALESCE(VR_BEM_CANDIDATO_2018,0)) AS MEDIA_BENS_2018\n",
    "  ,SUM(COALESCE(VR_BEM_CANDIDATO,0)) AS VR_BEM_CANDIDATO_2022\n",
    "  ,SUM(COALESCE(VR_BEM_CANDIDATO_2018,0)) AS VR_BEM_CANDIDATO_2018\n",
    "  ,SUM(COALESCE(VR_BEM_CANDIDATO,0)) / SUM(COALESCE(VR_BEM_CANDIDATO_2018,0)) AS VARIACAO_22_18\n",
    "  ,(SUM(COALESCE(VR_BEM_CANDIDATO,0)) / SUM(COALESCE(VR_BEM_CANDIDATO_2018,0)) - 1) * 100 AS PERC_VARIACAO_22_18 -- mostrando em pontos percentuais\n",
    "FROM \n",
    "  eleicao_gold.patrimonio\n",
    "WHERE \n",
    "  DS_CARGO IS NOT NULL AND DS_CARGO_2018 IS NOT NULL AND VR_BEM_CANDIDATO IS NOT NULL AND VR_BEM_CANDIDATO_2018 IS NOT NULL\n",
    "GROUP BY \n",
    "  1"
   ]
  },
  {
   "cell_type": "markdown",
   "metadata": {
    "application/vnd.databricks.v1+cell": {
     "cellMetadata": {},
     "inputWidgets": {},
     "nuid": "78c2d922-a1e6-4d7a-a768-956eb93cc2e6",
     "showTitle": false,
     "tableResultSettingsMap": {},
     "title": ""
    }
   },
   "source": [
    "Maior variação do Genero Masculino (31%) _versus_ (17%) Genero"
   ]
  },
  {
   "cell_type": "code",
   "execution_count": 0,
   "metadata": {
    "application/vnd.databricks.v1+cell": {
     "cellMetadata": {
      "byteLimit": 2048000,
      "implicitDf": true,
      "rowLimit": 10000
     },
     "inputWidgets": {},
     "nuid": "dfe24ecd-b9e8-4eea-832b-e386471ae673",
     "showTitle": false,
     "tableResultSettingsMap": {},
     "title": ""
    }
   },
   "outputs": [
    {
     "output_type": "display_data",
     "data": {
      "text/html": [
       "<style scoped>\n",
       "  .table-result-container {\n",
       "    max-height: 300px;\n",
       "    overflow: auto;\n",
       "  }\n",
       "  table, th, td {\n",
       "    border: 1px solid black;\n",
       "    border-collapse: collapse;\n",
       "  }\n",
       "  th, td {\n",
       "    padding: 5px;\n",
       "  }\n",
       "  th {\n",
       "    text-align: left;\n",
       "  }\n",
       "</style><div class='table-result-container'><table class='table-result'><thead style='background-color: white'><tr><th>DS_GENERO</th><th>QTD_CANDIDATOS</th><th>MEDIA_BENS_2022</th><th>MEDIA_BENS_2020</th><th>VR_BEM_CANDIDATO_2022</th><th>VR_BEM_CANDIDATO_2020</th><th>VARIACAO_22_20</th><th>PERC_VARIACAO_22_20</th></tr></thead><tbody><tr><td>MASCULINO</td><td>948</td><td>757022.5324355008</td><td>3600217.0662229103</td><td>7.335548339300002E8</td><td>3.48861033717E9</td><td>0.2102713582294399</td><td>-78.97286417705601</td></tr><tr><td>FEMININO</td><td>358</td><td>399934.7234426227</td><td>847842.1222677598</td><td>1.463761087799999E8</td><td>3.1031021675000006E8</td><td>0.47170895729136475</td><td>-52.829104270863525</td></tr></tbody></table></div>"
      ]
     },
     "metadata": {
      "application/vnd.databricks.v1+output": {
       "addedWidgets": {},
       "aggData": [],
       "aggError": "",
       "aggOverflow": false,
       "aggSchema": [],
       "aggSeriesLimitReached": false,
       "aggType": "",
       "arguments": {},
       "columnCustomDisplayInfos": {},
       "data": [
        [
         "MASCULINO",
         948,
         757022.5324355008,
         3600217.0662229103,
         7.335548339300002E8,
         3.48861033717E9,
         0.2102713582294399,
         -78.97286417705601
        ],
        [
         "FEMININO",
         358,
         399934.7234426227,
         847842.1222677598,
         1.463761087799999E8,
         3.1031021675000006E8,
         0.47170895729136475,
         -52.829104270863525
        ]
       ],
       "datasetInfos": [],
       "dbfsResultPath": null,
       "isJsonSchema": true,
       "metadata": {},
       "overflow": false,
       "plotOptions": {
        "customPlotOptions": {},
        "displayType": "table",
        "pivotAggregation": null,
        "pivotColumns": null,
        "xColumns": null,
        "yColumns": null
       },
       "removedWidgets": [],
       "schema": [
        {
         "metadata": "{\"comment\":\"Gender of the candidate (MASCULINO, FEMININO, NÃO DIVULGÁVEL) declared in 2022\",\"__CHAR_VARCHAR_TYPE_STRING\":\"varchar(100)\"}",
         "name": "DS_GENERO",
         "type": "\"string\""
        },
        {
         "metadata": "{}",
         "name": "QTD_CANDIDATOS",
         "type": "\"long\""
        },
        {
         "metadata": "{}",
         "name": "MEDIA_BENS_2022",
         "type": "\"double\""
        },
        {
         "metadata": "{}",
         "name": "MEDIA_BENS_2020",
         "type": "\"double\""
        },
        {
         "metadata": "{}",
         "name": "VR_BEM_CANDIDATO_2022",
         "type": "\"double\""
        },
        {
         "metadata": "{}",
         "name": "VR_BEM_CANDIDATO_2020",
         "type": "\"double\""
        },
        {
         "metadata": "{}",
         "name": "VARIACAO_22_20",
         "type": "\"double\""
        },
        {
         "metadata": "{}",
         "name": "PERC_VARIACAO_22_20",
         "type": "\"double\""
        }
       ],
       "type": "table"
      }
     },
     "output_type": "display_data"
    },
    {
     "output_type": "display_data",
     "data": {
      "text/plain": [
       "Databricks visualization. Run in Databricks to view."
      ]
     },
     "metadata": {
      "application/vnd.databricks.v1.subcommand+json": {
       "baseErrorDetails": null,
       "bindings": {},
       "collapsed": false,
       "command": "%sql WITH q AS (SELECT\n   DS_GENERO\n  ,COUNT(DISTINCT NR_CPF_CANDIDATO) AS QTD_CANDIDATOS\n  ,AVG(COALESCE(VR_BEM_CANDIDATO,0)) AS MEDIA_BENS_2022\n  ,AVG(COALESCE(VR_BEM_CANDIDATO_2018,0)) AS MEDIA_BENS_2018\n  ,SUM(COALESCE(VR_BEM_CANDIDATO,0)) AS VR_BEM_CANDIDATO_2022\n  ,SUM(COALESCE(VR_BEM_CANDIDATO_2018,0)) AS VR_BEM_CANDIDATO_2018\n  ,SUM(COALESCE(VR_BEM_CANDIDATO,0)) / SUM(COALESCE(VR_BEM_CANDIDATO_2018,0)) AS VARIACAO_22_18\n  ,(SUM(COALESCE(VR_BEM_CANDIDATO,0)) / SUM(COALESCE(VR_BEM_CANDIDATO_2018,0)) - 1) * 100 AS PERC_VARIACAO_22_18 \nFROM \n  eleicao_gold.patrimonio\nWHERE \n  DS_CARGO IS NOT NULL AND DS_CARGO_2018 IS NOT NULL AND VR_BEM_CANDIDATO IS NOT NULL AND VR_BEM_CANDIDATO_2018 IS NOT NULL\nGROUP BY \n  1) SELECT `DS_GENERO`,SUM(`PERC_VARIACAO_22_18`) `column_99a64532201` FROM q GROUP BY `DS_GENERO`",
       "commandTitle": "Var 2020-2022",
       "commandType": "auto",
       "commandVersion": 0,
       "commentThread": [],
       "commentsVisible": false,
       "contentSha256Hex": null,
       "customPlotOptions": {
        "redashChart": [
         {
          "key": "type",
          "value": "CHART"
         },
         {
          "key": "options",
          "value": {
           "alignYAxesAtZero": true,
           "coefficient": 1,
           "columnConfigurationMap": {
            "x": {
             "column": "DS_GENERO",
             "id": "column_99a64532199"
            },
            "y": [
             {
              "column": "PERC_VARIACAO_22_20",
              "id": "column_99a64532201",
              "transform": "SUM"
             }
            ]
           },
           "dateTimeFormat": "DD/MM/YYYY HH:mm",
           "direction": {
            "type": "counterclockwise"
           },
           "error_y": {
            "type": "data",
            "visible": true
           },
           "globalSeriesType": "column",
           "isAggregationOn": true,
           "legend": {
            "traceorder": "normal"
           },
           "missingValuesAsZero": true,
           "numberFormat": "0[.]00%",
           "percentFormat": "0[.]00%",
           "series": {
            "error_y": {
             "type": "data",
             "visible": true
            },
            "stacking": null
           },
           "seriesOptions": {
            "column_99a64532201": {
             "type": "column",
             "yAxis": 0
            }
           },
           "showDataLabels": true,
           "sizemode": "diameter",
           "sortX": true,
           "sortY": true,
           "swappedAxes": false,
           "textFormat": "",
           "useAggregationsUi": true,
           "valuesOptions": {},
           "version": 2,
           "xAxis": {
            "labels": {
             "enabled": true
            },
            "type": "-"
           },
           "yAxis": [
            {
             "type": "-"
            },
            {
             "opposite": true,
             "type": "-"
            }
           ]
          }
         }
        ]
       },
       "datasetPreviewNameToCmdIdMap": {},
       "diffDeletes": [],
       "diffInserts": [],
       "displayType": "redashChart",
       "error": null,
       "errorDetails": null,
       "errorSummary": null,
       "errorTraceType": null,
       "finishTime": 0,
       "globalVars": {},
       "guid": "",
       "height": "auto",
       "hideCommandCode": false,
       "hideCommandResult": false,
       "iPythonMetadata": null,
       "inputWidgets": {},
       "isLockedInExamMode": false,
       "latestUser": "a user",
       "latestUserId": null,
       "listResultMetadata": null,
       "metadata": {},
       "nuid": "48ab7dac-6c59-4af7-b9fa-b7bf52d0d465",
       "origId": 0,
       "parentHierarchy": [],
       "pivotAggregation": null,
       "pivotColumns": null,
       "position": 1.0,
       "resultDbfsErrorMessage": null,
       "resultDbfsStatus": "INLINED_IN_TREE",
       "results": null,
       "showCommandTitle": false,
       "startTime": 0,
       "state": "input",
       "streamStates": {},
       "subcommandOptions": {
        "queryPlan": {
         "groups": [
          {
           "column": "DS_GENERO",
           "type": "column"
          }
         ],
         "selects": [
          {
           "column": "DS_GENERO",
           "type": "column"
          },
          {
           "alias": "column_99a64532201",
           "args": [
            {
             "column": "PERC_VARIACAO_22_20",
             "type": "column"
            }
           ],
           "function": "SUM",
           "type": "function"
          }
         ]
        }
       },
       "submitTime": 0,
       "subtype": "tableResultSubCmd.visualization",
       "tableResultIndex": 0,
       "tableResultSettingsMap": {},
       "useConsistentColors": false,
       "version": "CommandV1",
       "width": "auto",
       "workflows": [],
       "xColumns": null,
       "yColumns": null
      }
     },
     "output_type": "display_data"
    },
    {
     "output_type": "display_data",
     "data": {
      "text/plain": [
       "Databricks visualization. Run in Databricks to view."
      ]
     },
     "metadata": {
      "application/vnd.databricks.v1.subcommand+json": {
       "baseErrorDetails": null,
       "bindings": {},
       "collapsed": false,
       "command": "%sql WITH q AS (SELECT\n   DS_GENERO\n  ,COUNT(DISTINCT NR_CPF_CANDIDATO) AS QTD_CANDIDATOS\n  ,AVG(COALESCE(VR_BEM_CANDIDATO,0)) AS MEDIA_BENS_2022\n  ,AVG(COALESCE(VR_BEM_CANDIDATO_2018,0)) AS MEDIA_BENS_2018\n  ,SUM(COALESCE(VR_BEM_CANDIDATO,0)) AS VR_BEM_CANDIDATO_2022\n  ,SUM(COALESCE(VR_BEM_CANDIDATO_2018,0)) AS VR_BEM_CANDIDATO_2018\n  ,SUM(COALESCE(VR_BEM_CANDIDATO,0)) / SUM(COALESCE(VR_BEM_CANDIDATO_2018,0)) AS VARIACAO_22_18\n  ,(SUM(COALESCE(VR_BEM_CANDIDATO,0)) / SUM(COALESCE(VR_BEM_CANDIDATO_2018,0)) - 1) * 100 AS PERC_VARIACAO_22_18 \nFROM \n  eleicao_gold.patrimonio\nWHERE \n  DS_CARGO IS NOT NULL AND DS_CARGO_2018 IS NOT NULL AND VR_BEM_CANDIDATO IS NOT NULL AND VR_BEM_CANDIDATO_2018 IS NOT NULL\nGROUP BY \n  1) SELECT `DS_GENERO`,SUM(`QTD_CANDIDATOS`) `column_99a64532205` FROM q GROUP BY `DS_GENERO`",
       "commandTitle": "#Candidatos",
       "commandType": "auto",
       "commandVersion": 0,
       "commentThread": [],
       "commentsVisible": false,
       "contentSha256Hex": null,
       "customPlotOptions": {
        "redashChart": [
         {
          "key": "type",
          "value": "CHART"
         },
         {
          "key": "options",
          "value": {
           "alignYAxesAtZero": true,
           "coefficient": 1,
           "columnConfigurationMap": {
            "x": {
             "column": "DS_GENERO",
             "id": "column_99a64532203"
            },
            "y": [
             {
              "column": "QTD_CANDIDATOS",
              "id": "column_99a64532205",
              "transform": "SUM"
             }
            ]
           },
           "dateTimeFormat": "DD/MM/YYYY HH:mm",
           "direction": {
            "type": "counterclockwise"
           },
           "error_y": {
            "type": "data",
            "visible": true
           },
           "globalSeriesType": "column",
           "isAggregationOn": true,
           "legend": {
            "traceorder": "normal"
           },
           "missingValuesAsZero": true,
           "numberFormat": "0,0.[00000]",
           "percentFormat": "0[.]00%",
           "series": {
            "error_y": {
             "type": "data",
             "visible": true
            },
            "stacking": null
           },
           "seriesOptions": {
            "column_99a64532205": {
             "type": "column",
             "yAxis": 0
            }
           },
           "showDataLabels": true,
           "sizemode": "diameter",
           "sortX": true,
           "sortY": true,
           "swappedAxes": false,
           "textFormat": "",
           "useAggregationsUi": true,
           "valuesOptions": {},
           "version": 2,
           "xAxis": {
            "labels": {
             "enabled": true
            },
            "type": "-"
           },
           "yAxis": [
            {
             "type": "-"
            },
            {
             "opposite": true,
             "type": "-"
            }
           ]
          }
         }
        ]
       },
       "datasetPreviewNameToCmdIdMap": {},
       "diffDeletes": [],
       "diffInserts": [],
       "displayType": "redashChart",
       "error": null,
       "errorDetails": null,
       "errorSummary": null,
       "errorTraceType": null,
       "finishTime": 0,
       "globalVars": {},
       "guid": "",
       "height": "auto",
       "hideCommandCode": false,
       "hideCommandResult": false,
       "iPythonMetadata": null,
       "inputWidgets": {},
       "isLockedInExamMode": false,
       "latestUser": "a user",
       "latestUserId": null,
       "listResultMetadata": null,
       "metadata": {},
       "nuid": "3046d596-3a34-4017-9986-a9f8d2568b24",
       "origId": 0,
       "parentHierarchy": [],
       "pivotAggregation": null,
       "pivotColumns": null,
       "position": 1.0,
       "resultDbfsErrorMessage": null,
       "resultDbfsStatus": "INLINED_IN_TREE",
       "results": null,
       "showCommandTitle": false,
       "startTime": 0,
       "state": "input",
       "streamStates": {},
       "subcommandOptions": {
        "queryPlan": {
         "groups": [
          {
           "column": "DS_GENERO",
           "type": "column"
          }
         ],
         "selects": [
          {
           "column": "DS_GENERO",
           "type": "column"
          },
          {
           "alias": "column_99a64532205",
           "args": [
            {
             "column": "QTD_CANDIDATOS",
             "type": "column"
            }
           ],
           "function": "SUM",
           "type": "function"
          }
         ]
        }
       },
       "submitTime": 0,
       "subtype": "tableResultSubCmd.visualization",
       "tableResultIndex": 0,
       "tableResultSettingsMap": {},
       "useConsistentColors": false,
       "version": "CommandV1",
       "width": "auto",
       "workflows": [],
       "xColumns": null,
       "yColumns": null
      }
     },
     "output_type": "display_data"
    }
   ],
   "source": [
    "%sql\n",
    "--Comparação entre 2022 e 2020 por genero declarado em 2022\n",
    "SELECT\n",
    "   DS_GENERO\n",
    "  ,COUNT(DISTINCT NR_CPF_CANDIDATO) AS QTD_CANDIDATOS\n",
    "  ,AVG(COALESCE(VR_BEM_CANDIDATO,0)) AS MEDIA_BENS_2022\n",
    "  ,AVG(COALESCE(VR_BEM_CANDIDATO_2020,0)) AS MEDIA_BENS_2020\n",
    "  ,SUM(COALESCE(VR_BEM_CANDIDATO,0)) AS VR_BEM_CANDIDATO_2022\n",
    "  ,SUM(COALESCE(VR_BEM_CANDIDATO_2020,0)) AS VR_BEM_CANDIDATO_2020\n",
    "  ,SUM(COALESCE(VR_BEM_CANDIDATO,0)) / SUM(COALESCE(VR_BEM_CANDIDATO_2020,0)) AS VARIACAO_22_20\n",
    "  ,(SUM(COALESCE(VR_BEM_CANDIDATO,0)) / SUM(COALESCE(VR_BEM_CANDIDATO_2020,0)) - 1) * 100 AS PERC_VARIACAO_22_20 -- mostrando em pontos percentuais\n",
    "FROM \n",
    "  eleicao_gold.patrimonio\n",
    "WHERE \n",
    "  DS_CARGO IS NOT NULL AND DS_CARGO_2020 IS NOT NULL AND VR_BEM_CANDIDATO IS NOT NULL AND VR_BEM_CANDIDATO_2020 IS NOT NULL\n",
    "GROUP BY \n",
    "  1"
   ]
  },
  {
   "cell_type": "markdown",
   "metadata": {
    "application/vnd.databricks.v1+cell": {
     "cellMetadata": {},
     "inputWidgets": {},
     "nuid": "62e31cd8-8d8f-4485-afe4-b6a4209a9b9c",
     "showTitle": false,
     "tableResultSettingsMap": {},
     "title": ""
    }
   },
   "source": [
    "Queda de Patrimonio nos dois Generos entre as eleições de 2020 e 2022"
   ]
  },
  {
   "cell_type": "markdown",
   "metadata": {
    "application/vnd.databricks.v1+cell": {
     "cellMetadata": {},
     "inputWidgets": {},
     "nuid": "fb4557f1-cdcc-490d-bc23-9c8a2298116e",
     "showTitle": false,
     "tableResultSettingsMap": {},
     "title": ""
    }
   },
   "source": [
    "Por fim, mas não menos importante, distinção por idade:<br>\n",
    "Nesta avaliação farei intervalos de idade (0-18, 19-30, 31-40, 41-50, 51-60, 60-70, >70)"
   ]
  },
  {
   "cell_type": "code",
   "execution_count": 0,
   "metadata": {
    "application/vnd.databricks.v1+cell": {
     "cellMetadata": {
      "byteLimit": 2048000,
      "implicitDf": true,
      "rowLimit": 10000
     },
     "inputWidgets": {},
     "nuid": "9d60135f-7d20-49f6-abec-23155a0c760d",
     "showTitle": false,
     "tableResultSettingsMap": {},
     "title": ""
    }
   },
   "outputs": [
    {
     "output_type": "display_data",
     "data": {
      "text/html": [
       "<style scoped>\n",
       "  .table-result-container {\n",
       "    max-height: 300px;\n",
       "    overflow: auto;\n",
       "  }\n",
       "  table, th, td {\n",
       "    border: 1px solid black;\n",
       "    border-collapse: collapse;\n",
       "  }\n",
       "  th, td {\n",
       "    padding: 5px;\n",
       "  }\n",
       "  th {\n",
       "    text-align: left;\n",
       "  }\n",
       "</style><div class='table-result-container'><table class='table-result'><thead style='background-color: white'><tr><th>IDADE_CANDIDATO</th><th>QTD_CANDIDATOS</th><th>MEDIA_BENS_2022</th><th>MEDIA_BENS_2018</th><th>VR_BEM_CANDIDATO_2022</th><th>VR_BEM_CANDIDATO_2018</th><th>VARIACAO_22_18</th><th>PERC_VARIACAO_22_18</th></tr></thead><tbody><tr><td>3. 31-40</td><td>50</td><td>377168.2186</td><td>242977.44459999996</td><td>1.885841093E7</td><td>1.2148872229999999E7</td><td>1.5522766700461053</td><td>55.227667004610524</td></tr><tr><td>7. 70+</td><td>11</td><td>1087631.6209090909</td><td>920901.8745454546</td><td>1.196394783E7</td><td>1.0129920620000001E7</td><td>1.1810505016573367</td><td>18.105050165733672</td></tr><tr><td>6. 61-70</td><td>218</td><td>1017593.6402232145</td><td>1099709.5249107142</td><td>2.2794097541000006E8</td><td>2.4633493357999998E8</td><td>0.9253294776234964</td><td>-7.467052237650362</td></tr><tr><td>4. 41-50</td><td>139</td><td>469951.44267605635</td><td>440010.65838028176</td><td>6.673310486E7</td><td>6.248151349000001E7</td><td>1.0680455887273033</td><td>6.804558872730326</td></tr><tr><td>2. 19-30</td><td>6</td><td>455104.88666666666</td><td>54912.94166666667</td><td>2730629.32</td><td>329477.65</td><td>8.287752811154261</td><td>728.7752811154261</td></tr></tbody></table></div>"
      ]
     },
     "metadata": {
      "application/vnd.databricks.v1+output": {
       "addedWidgets": {},
       "aggData": [],
       "aggError": "",
       "aggOverflow": false,
       "aggSchema": [],
       "aggSeriesLimitReached": false,
       "aggType": "",
       "arguments": {},
       "columnCustomDisplayInfos": {},
       "data": [
        [
         "3. 31-40",
         50,
         377168.2186,
         242977.44459999996,
         1.885841093E7,
         1.2148872229999999E7,
         1.5522766700461053,
         55.227667004610524
        ],
        [
         "7. 70+",
         11,
         1087631.6209090909,
         920901.8745454546,
         1.196394783E7,
         1.0129920620000001E7,
         1.1810505016573367,
         18.105050165733672
        ],
        [
         "6. 61-70",
         218,
         1017593.6402232145,
         1099709.5249107142,
         2.2794097541000006E8,
         2.4633493357999998E8,
         0.9253294776234964,
         -7.467052237650362
        ],
        [
         "4. 41-50",
         139,
         469951.44267605635,
         440010.65838028176,
         6.673310486E7,
         6.248151349000001E7,
         1.0680455887273033,
         6.804558872730326
        ],
        [
         "2. 19-30",
         6,
         455104.88666666666,
         54912.94166666667,
         2730629.32,
         329477.65,
         8.287752811154261,
         728.7752811154261
        ]
       ],
       "datasetInfos": [],
       "dbfsResultPath": null,
       "isJsonSchema": true,
       "metadata": {},
       "overflow": false,
       "plotOptions": {
        "customPlotOptions": {},
        "displayType": "table",
        "pivotAggregation": null,
        "pivotColumns": null,
        "xColumns": null,
        "yColumns": null
       },
       "removedWidgets": [],
       "schema": [
        {
         "metadata": "{}",
         "name": "IDADE_CANDIDATO",
         "type": "\"string\""
        },
        {
         "metadata": "{}",
         "name": "QTD_CANDIDATOS",
         "type": "\"long\""
        },
        {
         "metadata": "{}",
         "name": "MEDIA_BENS_2022",
         "type": "\"double\""
        },
        {
         "metadata": "{}",
         "name": "MEDIA_BENS_2018",
         "type": "\"double\""
        },
        {
         "metadata": "{}",
         "name": "VR_BEM_CANDIDATO_2022",
         "type": "\"double\""
        },
        {
         "metadata": "{}",
         "name": "VR_BEM_CANDIDATO_2018",
         "type": "\"double\""
        },
        {
         "metadata": "{}",
         "name": "VARIACAO_22_18",
         "type": "\"double\""
        },
        {
         "metadata": "{}",
         "name": "PERC_VARIACAO_22_18",
         "type": "\"double\""
        }
       ],
       "type": "table"
      }
     },
     "output_type": "display_data"
    },
    {
     "output_type": "display_data",
     "data": {
      "text/plain": [
       "Databricks visualization. Run in Databricks to view."
      ]
     },
     "metadata": {
      "application/vnd.databricks.v1.subcommand+json": {
       "baseErrorDetails": null,
       "bindings": {},
       "collapsed": false,
       "command": "%sql WITH q AS (SELECT\n   CASE \n    WHEN DATEDIFF ( YEAR, DT_NASCIMENTO, DT_ELEICAO) <= 18 THEN '1. 18'\n    WHEN DATEDIFF ( YEAR, DT_NASCIMENTO, DT_ELEICAO) <= 30 THEN '2. 19-30'\n    WHEN DATEDIFF ( YEAR, DT_NASCIMENTO, DT_ELEICAO) <= 40 THEN '3. 31-40'\n    WHEN DATEDIFF ( YEAR, DT_NASCIMENTO, DT_ELEICAO) <= 50 THEN '4. 41-50'\n    WHEN DATEDIFF ( YEAR, DT_NASCIMENTO, DT_ELEICAO) <= 50 THEN '5. 51-60'\n    WHEN DATEDIFF ( YEAR, DT_NASCIMENTO, DT_ELEICAO) <= 70 THEN '6. 61-70'\n    WHEN DATEDIFF ( YEAR, DT_NASCIMENTO, DT_ELEICAO) > 70 THEN '7. 70+'\n    END AS IDADE_CANDIDATO\n  ,COUNT(DISTINCT NR_CPF_CANDIDATO) AS QTD_CANDIDATOS\n  ,AVG(COALESCE(VR_BEM_CANDIDATO,0)) AS MEDIA_BENS_2022\n  ,AVG(COALESCE(VR_BEM_CANDIDATO_2020,0)) AS MEDIA_BENS_2020\n  ,SUM(COALESCE(VR_BEM_CANDIDATO,0)) AS VR_BEM_CANDIDATO_2022\n  ,SUM(COALESCE(VR_BEM_CANDIDATO_2020,0)) AS VR_BEM_CANDIDATO_2020\n  ,SUM(COALESCE(VR_BEM_CANDIDATO,0)) / SUM(COALESCE(VR_BEM_CANDIDATO_2020,0)) AS VARIACAO_22_20\n  ,(SUM(COALESCE(VR_BEM_CANDIDATO,0)) / SUM(COALESCE(VR_BEM_CANDIDATO_2020,0)) - 1) * 100 AS PERC_VARIACAO_22_20 \nFROM \n  eleicao_gold.patrimonio\nWHERE \n  DS_CARGO IS NOT NULL AND DS_CARGO_2020 IS NOT NULL AND VR_BEM_CANDIDATO IS NOT NULL AND VR_BEM_CANDIDATO_2020 IS NOT NULL\nGROUP BY \n  1) SELECT `IDADE_CANDIDATO`,SUM(`PERC_VARIACAO_22_20`) `column_99a64532215` FROM q GROUP BY `IDADE_CANDIDATO`",
       "commandTitle": "Var 2018 - 2022",
       "commandType": "auto",
       "commandVersion": 0,
       "commentThread": [],
       "commentsVisible": false,
       "contentSha256Hex": null,
       "customPlotOptions": {
        "redashChart": [
         {
          "key": "type",
          "value": "CHART"
         },
         {
          "key": "options",
          "value": {
           "alignYAxesAtZero": true,
           "coefficient": 1,
           "columnConfigurationMap": {
            "x": {
             "column": "IDADE_CANDIDATO",
             "id": "column_99a64532213"
            },
            "y": [
             {
              "column": "PERC_VARIACAO_22_18",
              "id": "column_99a64532215",
              "transform": "SUM"
             }
            ]
           },
           "dateTimeFormat": "DD/MM/YYYY HH:mm",
           "direction": {
            "type": "counterclockwise"
           },
           "error_y": {
            "type": "data",
            "visible": true
           },
           "globalSeriesType": "column",
           "isAggregationOn": true,
           "legend": {
            "traceorder": "normal"
           },
           "missingValuesAsZero": true,
           "numberFormat": "0[.]00%",
           "percentFormat": "0[.]00%",
           "series": {
            "error_y": {
             "type": "data",
             "visible": true
            },
            "stacking": null
           },
           "seriesOptions": {
            "column_99a64532215": {
             "type": "column",
             "yAxis": 0
            }
           },
           "showDataLabels": true,
           "sizemode": "diameter",
           "sortX": true,
           "sortY": true,
           "swappedAxes": false,
           "textFormat": "",
           "useAggregationsUi": true,
           "valuesOptions": {},
           "version": 2,
           "xAxis": {
            "labels": {
             "enabled": true
            },
            "type": "-"
           },
           "yAxis": [
            {
             "type": "-"
            },
            {
             "opposite": true,
             "type": "-"
            }
           ]
          }
         }
        ]
       },
       "datasetPreviewNameToCmdIdMap": {},
       "diffDeletes": [],
       "diffInserts": [],
       "displayType": "redashChart",
       "error": null,
       "errorDetails": null,
       "errorSummary": null,
       "errorTraceType": null,
       "finishTime": 0,
       "globalVars": {},
       "guid": "",
       "height": "auto",
       "hideCommandCode": false,
       "hideCommandResult": false,
       "iPythonMetadata": null,
       "inputWidgets": {},
       "isLockedInExamMode": false,
       "latestUser": "a user",
       "latestUserId": null,
       "listResultMetadata": null,
       "metadata": {},
       "nuid": "f90fcaae-c14d-4922-8707-64ba22dc4b3e",
       "origId": 0,
       "parentHierarchy": [],
       "pivotAggregation": null,
       "pivotColumns": null,
       "position": 134.0,
       "resultDbfsErrorMessage": null,
       "resultDbfsStatus": "INLINED_IN_TREE",
       "results": null,
       "showCommandTitle": false,
       "startTime": 0,
       "state": "input",
       "streamStates": {},
       "subcommandOptions": {
        "queryPlan": {
         "groups": [
          {
           "column": "IDADE_CANDIDATO",
           "type": "column"
          }
         ],
         "selects": [
          {
           "column": "IDADE_CANDIDATO",
           "type": "column"
          },
          {
           "alias": "column_99a64532215",
           "args": [
            {
             "column": "PERC_VARIACAO_22_18",
             "type": "column"
            }
           ],
           "function": "SUM",
           "type": "function"
          }
         ]
        }
       },
       "submitTime": 0,
       "subtype": "tableResultSubCmd.visualization",
       "tableResultIndex": 0,
       "tableResultSettingsMap": {},
       "useConsistentColors": false,
       "version": "CommandV1",
       "width": "auto",
       "workflows": [],
       "xColumns": null,
       "yColumns": null
      }
     },
     "output_type": "display_data"
    },
    {
     "output_type": "display_data",
     "data": {
      "text/plain": [
       "Databricks visualization. Run in Databricks to view."
      ]
     },
     "metadata": {
      "application/vnd.databricks.v1.subcommand+json": {
       "baseErrorDetails": null,
       "bindings": {},
       "collapsed": false,
       "command": "%sql WITH q AS (SELECT\n   CASE \n    WHEN DATEDIFF ( YEAR, DT_NASCIMENTO, DT_ELEICAO) <= 18 THEN '1. 18'\n    WHEN DATEDIFF ( YEAR, DT_NASCIMENTO, DT_ELEICAO) <= 30 THEN '2. 19-30'\n    WHEN DATEDIFF ( YEAR, DT_NASCIMENTO, DT_ELEICAO) <= 40 THEN '3. 31-40'\n    WHEN DATEDIFF ( YEAR, DT_NASCIMENTO, DT_ELEICAO) <= 50 THEN '4. 41-50'\n    WHEN DATEDIFF ( YEAR, DT_NASCIMENTO, DT_ELEICAO) <= 50 THEN '5. 51-60'\n    WHEN DATEDIFF ( YEAR, DT_NASCIMENTO, DT_ELEICAO) <= 70 THEN '6. 61-70'\n    WHEN DATEDIFF ( YEAR, DT_NASCIMENTO, DT_ELEICAO) > 70 THEN '7. 70+'\n    END AS IDADE_CANDIDATO\n  ,COUNT(DISTINCT NR_CPF_CANDIDATO) AS QTD_CANDIDATOS\n  ,AVG(COALESCE(VR_BEM_CANDIDATO,0)) AS MEDIA_BENS_2022\n  ,AVG(COALESCE(VR_BEM_CANDIDATO_2020,0)) AS MEDIA_BENS_2020\n  ,SUM(COALESCE(VR_BEM_CANDIDATO,0)) AS VR_BEM_CANDIDATO_2022\n  ,SUM(COALESCE(VR_BEM_CANDIDATO_2020,0)) AS VR_BEM_CANDIDATO_2020\n  ,SUM(COALESCE(VR_BEM_CANDIDATO,0)) / SUM(COALESCE(VR_BEM_CANDIDATO_2020,0)) AS VARIACAO_22_20\n  ,(SUM(COALESCE(VR_BEM_CANDIDATO,0)) / SUM(COALESCE(VR_BEM_CANDIDATO_2020,0)) - 1) * 100 AS PERC_VARIACAO_22_20 \nFROM \n  eleicao_gold.patrimonio\nWHERE \n  DS_CARGO IS NOT NULL AND DS_CARGO_2020 IS NOT NULL AND VR_BEM_CANDIDATO IS NOT NULL AND VR_BEM_CANDIDATO_2020 IS NOT NULL\nGROUP BY \n  1) SELECT `IDADE_CANDIDATO`,SUM(`QTD_CANDIDATOS`) `column_99a64532222` FROM q GROUP BY `IDADE_CANDIDATO`",
       "commandTitle": "#Candidatos",
       "commandType": "auto",
       "commandVersion": 0,
       "commentThread": [],
       "commentsVisible": false,
       "contentSha256Hex": null,
       "customPlotOptions": {
        "redashChart": [
         {
          "key": "type",
          "value": "CHART"
         },
         {
          "key": "options",
          "value": {
           "alignYAxesAtZero": true,
           "coefficient": 1,
           "columnConfigurationMap": {
            "x": {
             "column": "IDADE_CANDIDATO",
             "id": "column_99a64532220"
            },
            "y": [
             {
              "column": "QTD_CANDIDATOS",
              "id": "column_99a64532222",
              "transform": "SUM"
             }
            ]
           },
           "dateTimeFormat": "DD/MM/YYYY HH:mm",
           "direction": {
            "type": "counterclockwise"
           },
           "error_y": {
            "type": "data",
            "visible": true
           },
           "globalSeriesType": "column",
           "isAggregationOn": true,
           "legend": {
            "traceorder": "normal"
           },
           "missingValuesAsZero": true,
           "numberFormat": "0,0.[00000]",
           "percentFormat": "0[.]00%",
           "series": {
            "error_y": {
             "type": "data",
             "visible": true
            },
            "stacking": null
           },
           "seriesOptions": {
            "column_99a64532222": {
             "type": "column",
             "yAxis": 0
            }
           },
           "showDataLabels": true,
           "sizemode": "diameter",
           "sortX": true,
           "sortY": true,
           "swappedAxes": false,
           "textFormat": "",
           "useAggregationsUi": true,
           "valuesOptions": {},
           "version": 2,
           "xAxis": {
            "labels": {
             "enabled": true
            },
            "type": "-"
           },
           "yAxis": [
            {
             "type": "-"
            },
            {
             "opposite": true,
             "type": "-"
            }
           ]
          }
         }
        ]
       },
       "datasetPreviewNameToCmdIdMap": {},
       "diffDeletes": [],
       "diffInserts": [],
       "displayType": "redashChart",
       "error": null,
       "errorDetails": null,
       "errorSummary": null,
       "errorTraceType": null,
       "finishTime": 0,
       "globalVars": {},
       "guid": "",
       "height": "auto",
       "hideCommandCode": false,
       "hideCommandResult": false,
       "iPythonMetadata": null,
       "inputWidgets": {},
       "isLockedInExamMode": false,
       "latestUser": "a user",
       "latestUserId": null,
       "listResultMetadata": null,
       "metadata": {},
       "nuid": "072c9b35-2aa7-4360-ae82-e19f2dbae37a",
       "origId": 0,
       "parentHierarchy": [],
       "pivotAggregation": null,
       "pivotColumns": null,
       "position": 135.0,
       "resultDbfsErrorMessage": null,
       "resultDbfsStatus": "INLINED_IN_TREE",
       "results": null,
       "showCommandTitle": false,
       "startTime": 0,
       "state": "input",
       "streamStates": {},
       "subcommandOptions": {
        "queryPlan": {
         "groups": [
          {
           "column": "IDADE_CANDIDATO",
           "type": "column"
          }
         ],
         "selects": [
          {
           "column": "IDADE_CANDIDATO",
           "type": "column"
          },
          {
           "alias": "column_99a64532222",
           "args": [
            {
             "column": "QTD_CANDIDATOS",
             "type": "column"
            }
           ],
           "function": "SUM",
           "type": "function"
          }
         ]
        }
       },
       "submitTime": 0,
       "subtype": "tableResultSubCmd.visualization",
       "tableResultIndex": 0,
       "tableResultSettingsMap": {},
       "useConsistentColors": false,
       "version": "CommandV1",
       "width": "auto",
       "workflows": [],
       "xColumns": null,
       "yColumns": null
      }
     },
     "output_type": "display_data"
    }
   ],
   "source": [
    "%sql\n",
    "--Comparação entre 2022 e 2018 por idade em 2022\n",
    "SELECT\n",
    "   CASE \n",
    "    WHEN DATEDIFF ( YEAR, DT_NASCIMENTO, DT_ELEICAO) <= 18 THEN '1. 18'\n",
    "    WHEN DATEDIFF ( YEAR, DT_NASCIMENTO, DT_ELEICAO) <= 30 THEN '2. 19-30'\n",
    "    WHEN DATEDIFF ( YEAR, DT_NASCIMENTO, DT_ELEICAO) <= 40 THEN '3. 31-40'\n",
    "    WHEN DATEDIFF ( YEAR, DT_NASCIMENTO, DT_ELEICAO) <= 50 THEN '4. 41-50'\n",
    "    WHEN DATEDIFF ( YEAR, DT_NASCIMENTO, DT_ELEICAO) <= 50 THEN '5. 51-60'\n",
    "    WHEN DATEDIFF ( YEAR, DT_NASCIMENTO, DT_ELEICAO) <= 70 THEN '6. 61-70'\n",
    "    WHEN DATEDIFF ( YEAR, DT_NASCIMENTO, DT_ELEICAO) > 70 THEN '7. 70+'\n",
    "    END AS IDADE_CANDIDATO\n",
    "  ,COUNT(DISTINCT NR_CPF_CANDIDATO) AS QTD_CANDIDATOS\n",
    "  ,AVG(COALESCE(VR_BEM_CANDIDATO,0)) AS MEDIA_BENS_2022\n",
    "  ,AVG(COALESCE(VR_BEM_CANDIDATO_2018,0)) AS MEDIA_BENS_2018\n",
    "  ,SUM(COALESCE(VR_BEM_CANDIDATO,0)) AS VR_BEM_CANDIDATO_2022\n",
    "  ,SUM(COALESCE(VR_BEM_CANDIDATO_2018,0)) AS VR_BEM_CANDIDATO_2018\n",
    "  ,SUM(COALESCE(VR_BEM_CANDIDATO,0)) / SUM(COALESCE(VR_BEM_CANDIDATO_2018,0)) AS VARIACAO_22_18\n",
    "  ,(SUM(COALESCE(VR_BEM_CANDIDATO,0)) / SUM(COALESCE(VR_BEM_CANDIDATO_2018,0)) - 1) * 100 AS PERC_VARIACAO_22_18 -- mostrando em pontos percentuais\n",
    "FROM \n",
    "  eleicao_gold.patrimonio\n",
    "WHERE \n",
    "  DS_CARGO IS NOT NULL AND DS_CARGO_2018 IS NOT NULL AND VR_BEM_CANDIDATO IS NOT NULL AND VR_BEM_CANDIDATO_2020 IS NOT NULL\n",
    "GROUP BY \n",
    "  1"
   ]
  },
  {
   "cell_type": "markdown",
   "metadata": {
    "application/vnd.databricks.v1+cell": {
     "cellMetadata": {},
     "inputWidgets": {},
     "nuid": "abca78cf-fa9b-4a47-96cf-d6fa4c95edb4",
     "showTitle": false,
     "tableResultSettingsMap": {},
     "title": ""
    }
   },
   "source": [
    "Grande aumento entre 2018 e 2022 nos candidatos entre 19-30 anos (278%) e queda entre candidatos de 61-70 anos (-7%)."
   ]
  },
  {
   "cell_type": "code",
   "execution_count": 0,
   "metadata": {
    "application/vnd.databricks.v1+cell": {
     "cellMetadata": {},
     "inputWidgets": {},
     "nuid": "69b6517e-bc85-477e-a9f1-8e81e75402b1",
     "showTitle": false,
     "tableResultSettingsMap": {},
     "title": ""
    }
   },
   "outputs": [
    {
     "output_type": "display_data",
     "data": {
      "text/html": [
       "<style scoped>\n",
       "  .table-result-container {\n",
       "    max-height: 300px;\n",
       "    overflow: auto;\n",
       "  }\n",
       "  table, th, td {\n",
       "    border: 1px solid black;\n",
       "    border-collapse: collapse;\n",
       "  }\n",
       "  th, td {\n",
       "    padding: 5px;\n",
       "  }\n",
       "  th {\n",
       "    text-align: left;\n",
       "  }\n",
       "</style><div class='table-result-container'><table class='table-result'><thead style='background-color: white'><tr><th>IDADE_CANDIDATO</th><th>QTD_CANDIDATOS</th><th>MEDIA_BENS_2022</th><th>MEDIA_BENS_2020</th><th>VR_BEM_CANDIDATO_2022</th><th>VR_BEM_CANDIDATO_2020</th><th>VARIACAO_22_20</th><th>PERC_VARIACAO_22_20</th></tr></thead><tbody><tr><td>3. 31-40</td><td>224</td><td>407705.83913043485</td><td>334592.3681739129</td><td>9.377234300000001E7</td><td>7.695624467999998E7</td><td>1.2185150586534577</td><td>21.851505865345764</td></tr><tr><td>7. 70+</td><td>26</td><td>1038637.4230769231</td><td>1088240.2365384614</td><td>27004573</td><td>2.829424615E7</td><td>0.9544192432919794</td><td>-4.558075670802064</td></tr><tr><td>6. 61-70</td><td>570</td><td>861605.8624872231</td><td>5647186.402282796</td><td>5.0576264128E8</td><td>3.3148984181400013E9</td><td>0.1525725912179791</td><td>-84.7427408782021</td></tr><tr><td>4. 41-50</td><td>448</td><td>538001.1398458149</td><td>821328.1728634362</td><td>2.4425251748999995E8</td><td>3.7288299048E8</td><td>0.6550379709612973</td><td>-34.49620290387026</td></tr><tr><td>2. 19-30</td><td>38</td><td>240496.52473684208</td><td>154964.5913157895</td><td>9138867.94</td><td>5888654.470000001</td><td>1.5519450133402035</td><td>55.19450133402035</td></tr></tbody></table></div>"
      ]
     },
     "metadata": {
      "application/vnd.databricks.v1+output": {
       "addedWidgets": {},
       "aggData": [],
       "aggError": "",
       "aggOverflow": false,
       "aggSchema": [],
       "aggSeriesLimitReached": false,
       "aggType": "",
       "arguments": {},
       "columnCustomDisplayInfos": {},
       "data": [
        [
         "3. 31-40",
         224,
         407705.83913043485,
         334592.3681739129,
         9.377234300000001E7,
         7.695624467999998E7,
         1.2185150586534577,
         21.851505865345764
        ],
        [
         "7. 70+",
         26,
         1038637.4230769231,
         1088240.2365384614,
         27004573,
         2.829424615E7,
         0.9544192432919794,
         -4.558075670802064
        ],
        [
         "6. 61-70",
         570,
         861605.8624872231,
         5647186.402282796,
         5.0576264128E8,
         3.3148984181400013E9,
         0.1525725912179791,
         -84.7427408782021
        ],
        [
         "4. 41-50",
         448,
         538001.1398458149,
         821328.1728634362,
         2.4425251748999995E8,
         3.7288299048E8,
         0.6550379709612973,
         -34.49620290387026
        ],
        [
         "2. 19-30",
         38,
         240496.52473684208,
         154964.5913157895,
         9138867.94,
         5888654.470000001,
         1.5519450133402035,
         55.19450133402035
        ]
       ],
       "datasetInfos": [],
       "dbfsResultPath": null,
       "isJsonSchema": true,
       "metadata": {},
       "overflow": false,
       "plotOptions": {
        "customPlotOptions": {},
        "displayType": "table",
        "pivotAggregation": null,
        "pivotColumns": null,
        "xColumns": null,
        "yColumns": null
       },
       "removedWidgets": [],
       "schema": [
        {
         "metadata": "{}",
         "name": "IDADE_CANDIDATO",
         "type": "\"string\""
        },
        {
         "metadata": "{}",
         "name": "QTD_CANDIDATOS",
         "type": "\"long\""
        },
        {
         "metadata": "{}",
         "name": "MEDIA_BENS_2022",
         "type": "\"double\""
        },
        {
         "metadata": "{}",
         "name": "MEDIA_BENS_2020",
         "type": "\"double\""
        },
        {
         "metadata": "{}",
         "name": "VR_BEM_CANDIDATO_2022",
         "type": "\"double\""
        },
        {
         "metadata": "{}",
         "name": "VR_BEM_CANDIDATO_2020",
         "type": "\"double\""
        },
        {
         "metadata": "{}",
         "name": "VARIACAO_22_20",
         "type": "\"double\""
        },
        {
         "metadata": "{}",
         "name": "PERC_VARIACAO_22_20",
         "type": "\"double\""
        }
       ],
       "type": "table"
      }
     },
     "output_type": "display_data"
    },
    {
     "output_type": "display_data",
     "data": {
      "text/plain": [
       "Databricks visualization. Run in Databricks to view."
      ]
     },
     "metadata": {
      "application/vnd.databricks.v1.subcommand+json": {
       "baseErrorDetails": null,
       "bindings": {},
       "collapsed": false,
       "command": "%sql WITH q AS (SELECT\n   CASE \n    WHEN DATEDIFF ( YEAR, DT_NASCIMENTO, DT_ELEICAO) <= 18 THEN '1. 18'\n    WHEN DATEDIFF ( YEAR, DT_NASCIMENTO, DT_ELEICAO) <= 30 THEN '2. 19-30'\n    WHEN DATEDIFF ( YEAR, DT_NASCIMENTO, DT_ELEICAO) <= 40 THEN '3. 31-40'\n    WHEN DATEDIFF ( YEAR, DT_NASCIMENTO, DT_ELEICAO) <= 50 THEN '4. 41-50'\n    WHEN DATEDIFF ( YEAR, DT_NASCIMENTO, DT_ELEICAO) <= 50 THEN '5. 51-60'\n    WHEN DATEDIFF ( YEAR, DT_NASCIMENTO, DT_ELEICAO) <= 70 THEN '6. 61-70'\n    WHEN DATEDIFF ( YEAR, DT_NASCIMENTO, DT_ELEICAO) > 70 THEN '7. 70+'\n    END AS IDADE_CANDIDATO\n  ,COUNT(DISTINCT NR_CPF_CANDIDATO) AS QTD_CANDIDATOS\n  ,AVG(COALESCE(VR_BEM_CANDIDATO,0)) AS MEDIA_BENS_2022\n  ,AVG(COALESCE(VR_BEM_CANDIDATO_2020,0)) AS MEDIA_BENS_2020\n  ,SUM(COALESCE(VR_BEM_CANDIDATO,0)) AS VR_BEM_CANDIDATO_2022\n  ,SUM(COALESCE(VR_BEM_CANDIDATO_2020,0)) AS VR_BEM_CANDIDATO_2020\n  ,SUM(COALESCE(VR_BEM_CANDIDATO,0)) / SUM(COALESCE(VR_BEM_CANDIDATO_2020,0)) AS VARIACAO_22_20\n  ,(SUM(COALESCE(VR_BEM_CANDIDATO,0)) / SUM(COALESCE(VR_BEM_CANDIDATO_2020,0)) - 1) * 100 AS PERC_VARIACAO_22_20 \nFROM \n  eleicao_gold.patrimonio\nWHERE \n  DS_CARGO IS NOT NULL AND DS_CARGO_2020 IS NOT NULL AND VR_BEM_CANDIDATO IS NOT NULL AND VR_BEM_CANDIDATO_2020 IS NOT NULL\nGROUP BY \n  1) SELECT `IDADE_CANDIDATO`,SUM(`PERC_VARIACAO_22_20`) `column_99a64532215` FROM q GROUP BY `IDADE_CANDIDATO`",
       "commandTitle": "Var 2020 - 2022",
       "commandType": "auto",
       "commandVersion": 0,
       "commentThread": [],
       "commentsVisible": false,
       "contentSha256Hex": null,
       "customPlotOptions": {
        "redashChart": [
         {
          "key": "type",
          "value": "CHART"
         },
         {
          "key": "options",
          "value": {
           "alignYAxesAtZero": true,
           "coefficient": 1,
           "columnConfigurationMap": {
            "x": {
             "column": "IDADE_CANDIDATO",
             "id": "column_99a64532213"
            },
            "y": [
             {
              "column": "PERC_VARIACAO_22_20",
              "id": "column_99a64532215",
              "transform": "SUM"
             }
            ]
           },
           "dateTimeFormat": "DD/MM/YYYY HH:mm",
           "direction": {
            "type": "counterclockwise"
           },
           "error_y": {
            "type": "data",
            "visible": true
           },
           "globalSeriesType": "column",
           "isAggregationOn": true,
           "legend": {
            "traceorder": "normal"
           },
           "missingValuesAsZero": true,
           "numberFormat": "0[.]00%",
           "percentFormat": "0[.]00%",
           "series": {
            "error_y": {
             "type": "data",
             "visible": true
            },
            "stacking": null
           },
           "seriesOptions": {
            "column_99a64532215": {
             "type": "column",
             "yAxis": 0
            }
           },
           "showDataLabels": true,
           "sizemode": "diameter",
           "sortX": true,
           "sortY": true,
           "swappedAxes": false,
           "textFormat": "",
           "useAggregationsUi": true,
           "valuesOptions": {},
           "version": 2,
           "xAxis": {
            "labels": {
             "enabled": true
            },
            "type": "-"
           },
           "yAxis": [
            {
             "type": "-"
            },
            {
             "opposite": true,
             "type": "-"
            }
           ]
          }
         }
        ]
       },
       "datasetPreviewNameToCmdIdMap": {},
       "diffDeletes": [],
       "diffInserts": [],
       "displayType": "redashChart",
       "error": null,
       "errorDetails": null,
       "errorSummary": null,
       "errorTraceType": null,
       "finishTime": 0,
       "globalVars": {},
       "guid": "",
       "height": "auto",
       "hideCommandCode": false,
       "hideCommandResult": false,
       "iPythonMetadata": null,
       "inputWidgets": {},
       "isLockedInExamMode": false,
       "latestUser": "a user",
       "latestUserId": null,
       "listResultMetadata": null,
       "metadata": {},
       "nuid": "b83f4c62-c892-44d0-bc2b-4ca466e89ed5",
       "origId": 0,
       "parentHierarchy": [],
       "pivotAggregation": null,
       "pivotColumns": null,
       "position": 1.0,
       "resultDbfsErrorMessage": null,
       "resultDbfsStatus": "INLINED_IN_TREE",
       "results": null,
       "showCommandTitle": false,
       "startTime": 0,
       "state": "input",
       "streamStates": {},
       "subcommandOptions": {
        "queryPlan": {
         "groups": [
          {
           "column": "IDADE_CANDIDATO",
           "type": "column"
          }
         ],
         "selects": [
          {
           "column": "IDADE_CANDIDATO",
           "type": "column"
          },
          {
           "alias": "column_99a64532215",
           "args": [
            {
             "column": "PERC_VARIACAO_22_20",
             "type": "column"
            }
           ],
           "function": "SUM",
           "type": "function"
          }
         ]
        }
       },
       "submitTime": 0,
       "subtype": "tableResultSubCmd.visualization",
       "tableResultIndex": 0,
       "tableResultSettingsMap": {},
       "useConsistentColors": false,
       "version": "CommandV1",
       "width": "auto",
       "workflows": [],
       "xColumns": null,
       "yColumns": null
      }
     },
     "output_type": "display_data"
    },
    {
     "output_type": "display_data",
     "data": {
      "text/plain": [
       "Databricks visualization. Run in Databricks to view."
      ]
     },
     "metadata": {
      "application/vnd.databricks.v1.subcommand+json": {
       "baseErrorDetails": null,
       "bindings": {},
       "collapsed": false,
       "command": "%sql WITH q AS (SELECT\n   CASE \n    WHEN DATEDIFF ( YEAR, DT_NASCIMENTO, DT_ELEICAO) <= 18 THEN '1. 18'\n    WHEN DATEDIFF ( YEAR, DT_NASCIMENTO, DT_ELEICAO) <= 30 THEN '2. 19-30'\n    WHEN DATEDIFF ( YEAR, DT_NASCIMENTO, DT_ELEICAO) <= 40 THEN '3. 31-40'\n    WHEN DATEDIFF ( YEAR, DT_NASCIMENTO, DT_ELEICAO) <= 50 THEN '4. 41-50'\n    WHEN DATEDIFF ( YEAR, DT_NASCIMENTO, DT_ELEICAO) <= 50 THEN '5. 51-60'\n    WHEN DATEDIFF ( YEAR, DT_NASCIMENTO, DT_ELEICAO) <= 70 THEN '6. 61-70'\n    WHEN DATEDIFF ( YEAR, DT_NASCIMENTO, DT_ELEICAO) > 70 THEN '7. 70+'\n    END AS IDADE_CANDIDATO\n  ,COUNT(DISTINCT NR_CPF_CANDIDATO) AS QTD_CANDIDATOS\n  ,AVG(COALESCE(VR_BEM_CANDIDATO,0)) AS MEDIA_BENS_2022\n  ,AVG(COALESCE(VR_BEM_CANDIDATO_2020,0)) AS MEDIA_BENS_2020\n  ,SUM(COALESCE(VR_BEM_CANDIDATO,0)) AS VR_BEM_CANDIDATO_2022\n  ,SUM(COALESCE(VR_BEM_CANDIDATO_2020,0)) AS VR_BEM_CANDIDATO_2020\n  ,SUM(COALESCE(VR_BEM_CANDIDATO,0)) / SUM(COALESCE(VR_BEM_CANDIDATO_2020,0)) AS VARIACAO_22_20\n  ,(SUM(COALESCE(VR_BEM_CANDIDATO,0)) / SUM(COALESCE(VR_BEM_CANDIDATO_2020,0)) - 1) * 100 AS PERC_VARIACAO_22_20 \nFROM \n  eleicao_gold.patrimonio\nWHERE \n  DS_CARGO IS NOT NULL AND DS_CARGO_2020 IS NOT NULL AND VR_BEM_CANDIDATO IS NOT NULL AND VR_BEM_CANDIDATO_2020 IS NOT NULL\nGROUP BY \n  1) SELECT `IDADE_CANDIDATO`,SUM(`QTD_CANDIDATOS`) `column_99a64532222` FROM q GROUP BY `IDADE_CANDIDATO`",
       "commandTitle": "#Candidatos",
       "commandType": "auto",
       "commandVersion": 0,
       "commentThread": [],
       "commentsVisible": false,
       "contentSha256Hex": null,
       "customPlotOptions": {
        "redashChart": [
         {
          "key": "type",
          "value": "CHART"
         },
         {
          "key": "options",
          "value": {
           "alignYAxesAtZero": true,
           "coefficient": 1,
           "columnConfigurationMap": {
            "x": {
             "column": "IDADE_CANDIDATO",
             "id": "column_99a64532220"
            },
            "y": [
             {
              "column": "QTD_CANDIDATOS",
              "id": "column_99a64532222",
              "transform": "SUM"
             }
            ]
           },
           "dateTimeFormat": "DD/MM/YYYY HH:mm",
           "direction": {
            "type": "counterclockwise"
           },
           "error_y": {
            "type": "data",
            "visible": true
           },
           "globalSeriesType": "column",
           "isAggregationOn": true,
           "legend": {
            "traceorder": "normal"
           },
           "missingValuesAsZero": true,
           "numberFormat": "0,0.[00000]",
           "percentFormat": "0[.]00%",
           "series": {
            "error_y": {
             "type": "data",
             "visible": true
            },
            "stacking": null
           },
           "seriesOptions": {
            "column_99a64532222": {
             "type": "column",
             "yAxis": 0
            }
           },
           "showDataLabels": true,
           "sizemode": "diameter",
           "sortX": true,
           "sortY": true,
           "swappedAxes": false,
           "textFormat": "",
           "useAggregationsUi": true,
           "valuesOptions": {},
           "version": 2,
           "xAxis": {
            "labels": {
             "enabled": true
            },
            "type": "-"
           },
           "yAxis": [
            {
             "type": "-"
            },
            {
             "opposite": true,
             "type": "-"
            }
           ]
          }
         }
        ]
       },
       "datasetPreviewNameToCmdIdMap": {},
       "diffDeletes": [],
       "diffInserts": [],
       "displayType": "redashChart",
       "error": null,
       "errorDetails": null,
       "errorSummary": null,
       "errorTraceType": null,
       "finishTime": 0,
       "globalVars": {},
       "guid": "",
       "height": "auto",
       "hideCommandCode": false,
       "hideCommandResult": false,
       "iPythonMetadata": null,
       "inputWidgets": {},
       "isLockedInExamMode": false,
       "latestUser": "a user",
       "latestUserId": null,
       "listResultMetadata": null,
       "metadata": {},
       "nuid": "bda74250-8b76-41fb-b18c-81bd6f168ec2",
       "origId": 0,
       "parentHierarchy": [],
       "pivotAggregation": null,
       "pivotColumns": null,
       "position": 1.0,
       "resultDbfsErrorMessage": null,
       "resultDbfsStatus": "INLINED_IN_TREE",
       "results": null,
       "showCommandTitle": false,
       "startTime": 0,
       "state": "input",
       "streamStates": {},
       "subcommandOptions": {
        "queryPlan": {
         "groups": [
          {
           "column": "IDADE_CANDIDATO",
           "type": "column"
          }
         ],
         "selects": [
          {
           "column": "IDADE_CANDIDATO",
           "type": "column"
          },
          {
           "alias": "column_99a64532222",
           "args": [
            {
             "column": "QTD_CANDIDATOS",
             "type": "column"
            }
           ],
           "function": "SUM",
           "type": "function"
          }
         ]
        }
       },
       "submitTime": 0,
       "subtype": "tableResultSubCmd.visualization",
       "tableResultIndex": 0,
       "tableResultSettingsMap": {},
       "useConsistentColors": false,
       "version": "CommandV1",
       "width": "auto",
       "workflows": [],
       "xColumns": null,
       "yColumns": null
      }
     },
     "output_type": "display_data"
    }
   ],
   "source": [
    "%sql\n",
    "--Comparação entre 2022 e 2020 por idade em 2022\n",
    "SELECT\n",
    "   CASE \n",
    "    WHEN DATEDIFF ( YEAR, DT_NASCIMENTO, DT_ELEICAO) <= 18 THEN '1. 18'\n",
    "    WHEN DATEDIFF ( YEAR, DT_NASCIMENTO, DT_ELEICAO) <= 30 THEN '2. 19-30'\n",
    "    WHEN DATEDIFF ( YEAR, DT_NASCIMENTO, DT_ELEICAO) <= 40 THEN '3. 31-40'\n",
    "    WHEN DATEDIFF ( YEAR, DT_NASCIMENTO, DT_ELEICAO) <= 50 THEN '4. 41-50'\n",
    "    WHEN DATEDIFF ( YEAR, DT_NASCIMENTO, DT_ELEICAO) <= 50 THEN '5. 51-60'\n",
    "    WHEN DATEDIFF ( YEAR, DT_NASCIMENTO, DT_ELEICAO) <= 70 THEN '6. 61-70'\n",
    "    WHEN DATEDIFF ( YEAR, DT_NASCIMENTO, DT_ELEICAO) > 70 THEN '7. 70+'\n",
    "    END AS IDADE_CANDIDATO\n",
    "  ,COUNT(DISTINCT NR_CPF_CANDIDATO) AS QTD_CANDIDATOS\n",
    "  ,AVG(COALESCE(VR_BEM_CANDIDATO,0)) AS MEDIA_BENS_2022\n",
    "  ,AVG(COALESCE(VR_BEM_CANDIDATO_2020,0)) AS MEDIA_BENS_2020\n",
    "  ,SUM(COALESCE(VR_BEM_CANDIDATO,0)) AS VR_BEM_CANDIDATO_2022\n",
    "  ,SUM(COALESCE(VR_BEM_CANDIDATO_2020,0)) AS VR_BEM_CANDIDATO_2020\n",
    "  ,SUM(COALESCE(VR_BEM_CANDIDATO,0)) / SUM(COALESCE(VR_BEM_CANDIDATO_2020,0)) AS VARIACAO_22_20\n",
    "  ,(SUM(COALESCE(VR_BEM_CANDIDATO,0)) / SUM(COALESCE(VR_BEM_CANDIDATO_2020,0)) - 1) * 100 AS PERC_VARIACAO_22_20 -- mostrando em pontos percentuais\n",
    "FROM \n",
    "  eleicao_gold.patrimonio\n",
    "WHERE \n",
    "  DS_CARGO IS NOT NULL AND DS_CARGO_2020 IS NOT NULL AND VR_BEM_CANDIDATO IS NOT NULL AND VR_BEM_CANDIDATO_2020 IS NOT NULL\n",
    "GROUP BY \n",
    "  1"
   ]
  },
  {
   "cell_type": "markdown",
   "metadata": {
    "application/vnd.databricks.v1+cell": {
     "cellMetadata": {
      "byteLimit": 2048000,
      "rowLimit": 10000
     },
     "inputWidgets": {},
     "nuid": "754c4910-5f74-421c-b2ed-5d40a61bed0b",
     "showTitle": false,
     "tableResultSettingsMap": {},
     "title": ""
    }
   },
   "source": [
    "Variação entre 2020 e 2022 nos candidatos entre 19-30 anos (55%) e queda entre candidatos de 61-70 anos (-85%)\n"
   ]
  },
  {
   "cell_type": "markdown",
   "metadata": {
    "application/vnd.databricks.v1+cell": {
     "cellMetadata": {},
     "inputWidgets": {},
     "nuid": "341d8db4-fc8d-4afb-ba67-9851d476c3ab",
     "showTitle": false,
     "tableResultSettingsMap": {},
     "title": ""
    }
   },
   "source": [
    "### Conclusão:"
   ]
  },
  {
   "cell_type": "markdown",
   "metadata": {
    "application/vnd.databricks.v1+cell": {
     "cellMetadata": {},
     "inputWidgets": {},
     "nuid": "0537c28c-6a44-4ef3-947c-c9d232c44892",
     "showTitle": false,
     "tableResultSettingsMap": {},
     "title": ""
    }
   },
   "source": [
    "Concluindo a análise com as respostas apresentadas acima, a ideia inicial do projeto era avalias mais anos, provavelmente com diferentes metodologias e abordagens, por tempo optei em analisar apenas esse 3 anos tendo base o ano de 2022.<br>\n",
    "Em 2024 uma normativa tornou não público os CPF's dos candidatos, o que faria a união das tabelas entre anos muito mais complicadas, tendo _join_ apenas pelo nome dos candidatos.<br>\n",
    "A base é bem vasta permitindo outros diversos desdobramentos não explorados aqui, como cargo anterior dos candidatos, abrir maiores intervalos de idade dadas as concentrações por intervalo definido, ou até mesmo combinar as aberturas como por exemplo idade por situação de eleição, etc.<br>\n",
    "Como o foco do projeto era o tratamento e a manipulação dos dados, me dediquei mais a esses pontos. "
   ]
  },
  {
   "cell_type": "code",
   "execution_count": 0,
   "metadata": {
    "application/vnd.databricks.v1+cell": {
     "cellMetadata": {},
     "inputWidgets": {},
     "nuid": "b5a3050b-beb1-4038-a33f-8125fdfc38c4",
     "showTitle": false,
     "tableResultSettingsMap": {},
     "title": ""
    }
   },
   "outputs": [],
   "source": []
  }
 ],
 "metadata": {
  "application/vnd.databricks.v1+notebook": {
   "computePreferences": null,
   "dashboards": [
    {
     "elements": [],
     "globalVars": {},
     "guid": "",
     "layoutOption": {
      "grid": true,
      "stack": true
     },
     "nuid": "7baa5be9-cda3-4c03-bf4e-1cda356dec70",
     "origId": 3572772044930162,
     "title": "Untitled",
     "version": "DashboardViewV1",
     "width": 1024
    }
   ],
   "environmentMetadata": {
    "base_environment": "",
    "environment_version": "1"
   },
   "inputWidgetPreferences": null,
   "language": "python",
   "notebookMetadata": {
    "mostRecentlyExecutedCommandWithImplicitDF": {
     "commandId": 3572772044930109,
     "dataframes": [
      "_sqldf"
     ]
    },
    "pythonIndentUnit": 4
   },
   "notebookName": "(Clone) Main_pt3",
   "widgets": {}
  }
 },
 "nbformat": 4,
 "nbformat_minor": 0
}