{
 "cells": [
  {
   "cell_type": "markdown",
   "metadata": {
    "application/vnd.databricks.v1+cell": {
     "cellMetadata": {},
     "inputWidgets": {},
     "nuid": "ac6a843d-f359-48ec-84fa-ea10db77ab28",
     "showTitle": false,
     "tableResultSettingsMap": {},
     "title": ""
    }
   },
   "source": [
    "<h1>Análise Patrimonial das eleições </h1>\n",
    "\n",
    "\n",
    "\n",
    "<h2>Proposta: Analisar a evolução patrimonial dos candidatos recorrentes na eleição de 2022 que se candidataram para as eleições de 2018 ou 2020</h2>\n",
    "\n",
    "\n",
    "<h3>Pergunta Principal: Qual a evolução patrimonial dos candidatos recorrentes da eleição de 2022?</h3>\n",
    "\n",
    "Aluno: **Juan Lima** [Linkedin](https://www.linkedin.com/in/juanrdlima/) [Email](mailto:juan.rdlima@gmail.com)"
   ]
  },
  {
   "cell_type": "markdown",
   "metadata": {
    "application/vnd.databricks.v1+cell": {
     "cellMetadata": {},
     "inputWidgets": {},
     "nuid": "87b3bffe-fafb-493f-b538-aff0e3533cd0",
     "showTitle": false,
     "tableResultSettingsMap": {},
     "title": ""
    }
   },
   "source": [
    "# Parte 2: "
   ]
  },
  {
   "cell_type": "code",
   "execution_count": 0,
   "metadata": {
    "application/vnd.databricks.v1+cell": {
     "cellMetadata": {},
     "inputWidgets": {},
     "nuid": "5e9f0926-ffec-448e-84ec-d91088dc5389",
     "showTitle": false,
     "tableResultSettingsMap": {},
     "title": ""
    }
   },
   "outputs": [],
   "source": [
    "#Importação das Bibliotecas necessárias\n",
    "\n",
    "#Muitas Bibliotecas já vem incorporadas no Databricks, vou listar as utilizadas que não precisaram ser importadas como comentário\n",
    "\n",
    "#import dbutils"
   ]
  },
  {
   "cell_type": "markdown",
   "metadata": {
    "application/vnd.databricks.v1+cell": {
     "cellMetadata": {},
     "inputWidgets": {},
     "nuid": "b3d2355d-a28c-4639-823f-ec87f29b04b3",
     "showTitle": false,
     "tableResultSettingsMap": {},
     "title": ""
    }
   },
   "source": [
    "# Data Engineering"
   ]
  },
  {
   "cell_type": "markdown",
   "metadata": {
    "application/vnd.databricks.v1+cell": {
     "cellMetadata": {},
     "inputWidgets": {},
     "nuid": "6b0a0dd7-f0b6-4f31-b9e0-849861550011",
     "showTitle": false,
     "tableResultSettingsMap": {},
     "title": ""
    }
   },
   "source": [
    "<h3>Silver Layer:</h3><br> Tratamento das tabelas raw da bronze Layer"
   ]
  },
  {
   "cell_type": "markdown",
   "metadata": {
    "application/vnd.databricks.v1+cell": {
     "cellMetadata": {},
     "inputWidgets": {},
     "nuid": "f288cb50-c47e-40cb-963e-0fce0938f04b",
     "showTitle": false,
     "tableResultSettingsMap": {},
     "title": ""
    }
   },
   "source": [
    "Apesar do problema encontrado anteriormente, as bases são bem estruturadas, nessa camada serão realizados mais alguns tratamentos para deixar tabelas prontas para uso.<br>\n",
    "Tratamentos a serem feitos:\n",
    "1. Filtrar colunas necessárias para a análise\n",
    "2. Tratar dados faltantes\n",
    "3. Tratar linhas corrompidas (problema encontrado)\n",
    "4. converter formato das colunas\n",
    "\n"
   ]
  },
  {
   "cell_type": "code",
   "execution_count": 0,
   "metadata": {
    "application/vnd.databricks.v1+cell": {
     "cellMetadata": {
      "byteLimit": 2048000,
      "implicitDf": true,
      "rowLimit": 10000
     },
     "inputWidgets": {},
     "nuid": "3fcbd444-d124-462a-91d0-a70b679875c2",
     "showTitle": false,
     "tableResultSettingsMap": {},
     "title": ""
    }
   },
   "outputs": [
    {
     "output_type": "display_data",
     "data": {
      "text/html": [
       "<style scoped>\n",
       "  .table-result-container {\n",
       "    max-height: 300px;\n",
       "    overflow: auto;\n",
       "  }\n",
       "  table, th, td {\n",
       "    border: 1px solid black;\n",
       "    border-collapse: collapse;\n",
       "  }\n",
       "  th, td {\n",
       "    padding: 5px;\n",
       "  }\n",
       "  th {\n",
       "    text-align: left;\n",
       "  }\n",
       "</style><div class='table-result-container'><table class='table-result'><thead style='background-color: white'><tr></tr></thead><tbody></tbody></table></div>"
      ]
     },
     "metadata": {
      "application/vnd.databricks.v1+output": {
       "addedWidgets": {},
       "aggData": [],
       "aggError": "",
       "aggOverflow": false,
       "aggSchema": [],
       "aggSeriesLimitReached": false,
       "aggType": "",
       "arguments": {},
       "columnCustomDisplayInfos": {},
       "data": [],
       "datasetInfos": [],
       "dbfsResultPath": null,
       "isJsonSchema": true,
       "metadata": {},
       "overflow": false,
       "plotOptions": {
        "customPlotOptions": {},
        "displayType": "table",
        "pivotAggregation": null,
        "pivotColumns": null,
        "xColumns": null,
        "yColumns": null
       },
       "removedWidgets": [],
       "schema": [],
       "type": "table"
      }
     },
     "output_type": "display_data"
    }
   ],
   "source": [
    "%sql\n",
    "--Criação do schema de Silver Layer\n",
    "CREATE SCHEMA IF NOT EXISTS  eleicao_silver\n",
    "    COMMENT 'Silver Schema with treated tables' "
   ]
  },
  {
   "cell_type": "markdown",
   "metadata": {
    "application/vnd.databricks.v1+cell": {
     "cellMetadata": {},
     "inputWidgets": {},
     "nuid": "6d229b91-9c7d-4f32-875f-b5dd787d8a60",
     "showTitle": false,
     "tableResultSettingsMap": {},
     "title": ""
    }
   },
   "source": [
    "### Tabela de Candidatos:"
   ]
  },
  {
   "cell_type": "code",
   "execution_count": 0,
   "metadata": {
    "application/vnd.databricks.v1+cell": {
     "cellMetadata": {
      "byteLimit": 2048000,
      "implicitDf": true,
      "rowLimit": 10000
     },
     "inputWidgets": {},
     "nuid": "39f76c76-75c2-4faa-a7ce-9f1d9ac04d93",
     "showTitle": false,
     "tableResultSettingsMap": {},
     "title": ""
    }
   },
   "outputs": [
    {
     "output_type": "display_data",
     "data": {
      "text/html": [
       "<style scoped>\n",
       "  .table-result-container {\n",
       "    max-height: 300px;\n",
       "    overflow: auto;\n",
       "  }\n",
       "  table, th, td {\n",
       "    border: 1px solid black;\n",
       "    border-collapse: collapse;\n",
       "  }\n",
       "  th, td {\n",
       "    padding: 5px;\n",
       "  }\n",
       "  th {\n",
       "    text-align: left;\n",
       "  }\n",
       "</style><div class='table-result-container'><table class='table-result'><thead style='background-color: white'><tr><th>DT_GERACAO</th><th>HH_GERACAO</th><th>ANO_ELEICAO</th><th>CD_TIPO_ELEICAO</th><th>NM_TIPO_ELEICAO</th><th>NR_TURNO</th><th>CD_ELEICAO</th><th>DS_ELEICAO</th><th>DT_ELEICAO</th><th>TP_ABRANGENCIA</th><th>SG_UF</th><th>SG_UE</th><th>NM_UE</th><th>CD_CARGO</th><th>DS_CARGO</th><th>SQ_CANDIDATO</th><th>NR_CANDIDATO</th><th>NM_CANDIDATO</th><th>NM_URNA_CANDIDATO</th><th>NM_SOCIAL_CANDIDATO</th><th>NR_CPF_CANDIDATO</th><th>DS_EMAIL</th><th>CD_SITUACAO_CANDIDATURA</th><th>DS_SITUACAO_CANDIDATURA</th><th>TP_AGREMIACAO</th><th>NR_PARTIDO</th><th>SG_PARTIDO</th><th>NM_PARTIDO</th><th>NR_FEDERACAO</th><th>NM_FEDERACAO</th><th>SG_FEDERACAO</th><th>DS_COMPOSICAO_FEDERACAO</th><th>SQ_COLIGACAO</th><th>NM_COLIGACAO</th><th>DS_COMPOSICAO_COLIGACAO</th><th>SG_UF_NASCIMENTO</th><th>DT_NASCIMENTO</th><th>NR_TITULO_ELEITORAL_CANDIDATO</th><th>CD_GENERO</th><th>DS_GENERO</th><th>CD_GRAU_INSTRUCAO</th><th>DS_GRAU_INSTRUCAO</th><th>CD_ESTADO_CIVIL</th><th>DS_ESTADO_CIVIL</th><th>CD_COR_RACA</th><th>DS_COR_RACA</th><th>CD_OCUPACAO</th><th>DS_OCUPACAO</th><th>CD_SIT_TOT_TURNO</th><th>DS_SIT_TOT_TURNO</th></tr></thead><tbody><tr><td>22/01/2025</td><td>15:04:00</td><td>2020</td><td>2</td><td>ELEIÇÃO ORDINÁRIA</td><td>1</td><td>426</td><td>Eleições Municipais 2020</td><td>15/11/2020</td><td>MUNICIPAL</td><td>SP</td><td>71072</td><td>SÃO PAULO</td><td>13</td><td>VEREADOR</td><td>250001265966</td><td>27323</td><td>JOÃO BATISTA DOS SANTOS</td><td>JOÃO ZELADOR</td><td>#NULO#</td><td>13534893883</td><td>NÃO DIVULGÁVEL</td><td>3</td><td>INAPTO</td><td>PARTIDO ISOLADO</td><td>27</td><td>DC</td><td>DEMOCRACIA CRISTÃ</td><td>-1</td><td>#NULO#</td><td>#NULO#</td><td>#NULO#</td><td>250000136838</td><td>PARTIDO ISOLADO</td><td>DC</td><td>SP</td><td>05/03/1970</td><td>292412220132</td><td>2</td><td>MASCULINO</td><td>5</td><td>ENSINO MÉDIO INCOMPLETO</td><td>3</td><td>CASADO(A)</td><td>03</td><td>PARDA</td><td>303</td><td>GERENTE</td><td>4</td><td>NÃO ELEITO</td></tr><tr><td>22/01/2025</td><td>15:04:00</td><td>2020</td><td>2</td><td>ELEIÇÃO ORDINÁRIA</td><td>1</td><td>426</td><td>Eleições Municipais 2020</td><td>15/11/2020</td><td>MUNICIPAL</td><td>SP</td><td>71072</td><td>SÃO PAULO</td><td>13</td><td>VEREADOR</td><td>250001268518</td><td>28010</td><td>SILVIO ROBERTO VOCE</td><td>SILVIO VOCE</td><td>#NULO#</td><td>90421213868</td><td>NÃO DIVULGÁVEL</td><td>12</td><td>APTO</td><td>PARTIDO ISOLADO</td><td>28</td><td>PRTB</td><td>PARTIDO RENOVADOR TRABALHISTA BRASILEIRO</td><td>-1</td><td>#NULO#</td><td>#NULO#</td><td>#NULO#</td><td>250000125795</td><td>PARTIDO ISOLADO</td><td>PRTB</td><td>SP</td><td>15/04/1953</td><td>097094760159</td><td>2</td><td>MASCULINO</td><td>6</td><td>ENSINO MÉDIO COMPLETO</td><td>1</td><td>SOLTEIRO(A)</td><td>01</td><td>BRANCA</td><td>182</td><td>COMISSÁRIO DE BORDO</td><td>4</td><td>NÃO ELEITO</td></tr><tr><td>22/01/2025</td><td>15:04:00</td><td>2020</td><td>2</td><td>ELEIÇÃO ORDINÁRIA</td><td>1</td><td>426</td><td>Eleições Municipais 2020</td><td>15/11/2020</td><td>MUNICIPAL</td><td>SP</td><td>71072</td><td>SÃO PAULO</td><td>13</td><td>VEREADOR</td><td>250000925963</td><td>20901</td><td>ANDRESSA MACIEL DO NASCIMENTO</td><td>DEDE</td><td>#NULO#</td><td>37174723802</td><td>NÃO DIVULGÁVEL</td><td>3</td><td>INAPTO</td><td>PARTIDO ISOLADO</td><td>20</td><td>PSC</td><td>PARTIDO SOCIAL CRISTÃO</td><td>-1</td><td>#NULO#</td><td>#NULO#</td><td>#NULO#</td><td>250000106600</td><td>PARTIDO ISOLADO</td><td>PSC</td><td>SP</td><td>20/11/1988</td><td>344907730124</td><td>4</td><td>FEMININO</td><td>7</td><td>SUPERIOR INCOMPLETO</td><td>3</td><td>CASADO(A)</td><td>03</td><td>PARDA</td><td>999</td><td>OUTROS</td><td>4</td><td>NÃO ELEITO</td></tr><tr><td>22/01/2025</td><td>15:04:00</td><td>2020</td><td>2</td><td>ELEIÇÃO ORDINÁRIA</td><td>1</td><td>426</td><td>Eleições Municipais 2020</td><td>15/11/2020</td><td>MUNICIPAL</td><td>PR</td><td>74888</td><td>TUNAS DO PARANÁ</td><td>13</td><td>VEREADOR</td><td>160001090215</td><td>28000</td><td>EDEMAR RIBEIRO BORGES</td><td>NICO DA MARACANÃ</td><td>#NULO#</td><td>62730614915</td><td>NÃO DIVULGÁVEL</td><td>12</td><td>APTO</td><td>PARTIDO ISOLADO</td><td>28</td><td>PRTB</td><td>PARTIDO RENOVADOR TRABALHISTA BRASILEIRO</td><td>-1</td><td>#NULO#</td><td>#NULO#</td><td>#NULO#</td><td>160000132022</td><td>PARTIDO ISOLADO</td><td>PRTB</td><td>PR</td><td>05/01/1965</td><td>004079340655</td><td>2</td><td>MASCULINO</td><td>3</td><td>ENSINO FUNDAMENTAL INCOMPLETO</td><td>1</td><td>SOLTEIRO(A)</td><td>03</td><td>PARDA</td><td>541</td><td>MECÂNICO DE MANUTENÇÃO</td><td>4</td><td>NÃO ELEITO</td></tr><tr><td>22/01/2025</td><td>15:04:00</td><td>2020</td><td>2</td><td>ELEIÇÃO ORDINÁRIA</td><td>1</td><td>426</td><td>Eleições Municipais 2020</td><td>15/11/2020</td><td>MUNICIPAL</td><td>SP</td><td>71072</td><td>SÃO PAULO</td><td>13</td><td>VEREADOR</td><td>250001100745</td><td>35020</td><td>ROSE LEILA RODASLI CHUERE</td><td>ROSE LEILA</td><td>#NULO#</td><td>53450779834</td><td>NÃO DIVULGÁVEL</td><td>3</td><td>INAPTO</td><td>PARTIDO ISOLADO</td><td>35</td><td>PMB</td><td>PARTIDO DA MULHER BRASILEIRA</td><td>-1</td><td>#NULO#</td><td>#NULO#</td><td>#NULO#</td><td>250000133375</td><td>PARTIDO ISOLADO</td><td>PMB</td><td>SP</td><td>11/01/1954</td><td>156241700167</td><td>4</td><td>FEMININO</td><td>8</td><td>SUPERIOR COMPLETO</td><td>1</td><td>SOLTEIRO(A)</td><td>01</td><td>BRANCA</td><td>923</td><td>APOSENTADO (EXCETO SERVIDOR PÚBLICO)</td><td>4</td><td>NÃO ELEITO</td></tr><tr><td>22/01/2025</td><td>15:04:00</td><td>2020</td><td>2</td><td>ELEIÇÃO ORDINÁRIA</td><td>1</td><td>426</td><td>Eleições Municipais 2020</td><td>15/11/2020</td><td>MUNICIPAL</td><td>SP</td><td>70211</td><td>SANTA BRANCA</td><td>13</td><td>VEREADOR</td><td>250000984468</td><td>45000</td><td>JOSÉ AMILTON CORREA</td><td>BIKUIRA</td><td>#NULO#</td><td>26595781840</td><td>NÃO DIVULGÁVEL</td><td>12</td><td>APTO</td><td>PARTIDO ISOLADO</td><td>45</td><td>PSDB</td><td>PARTIDO DA SOCIAL DEMOCRACIA BRASILEIRA</td><td>-1</td><td>#NULO#</td><td>#NULO#</td><td>#NULO#</td><td>250000115157</td><td>PARTIDO ISOLADO</td><td>PSDB</td><td>PR</td><td>17/08/1972</td><td>180429580124</td><td>2</td><td>MASCULINO</td><td>6</td><td>ENSINO MÉDIO COMPLETO</td><td>3</td><td>CASADO(A)</td><td>01</td><td>BRANCA</td><td>707</td><td>TRABALHADOR METALÚRGICO E SIDERÚRGICO</td><td>5</td><td>SUPLENTE</td></tr><tr><td>22/01/2025</td><td>15:04:00</td><td>2020</td><td>2</td><td>ELEIÇÃO ORDINÁRIA</td><td>1</td><td>426</td><td>Eleições Municipais 2020</td><td>15/11/2020</td><td>MUNICIPAL</td><td>PR</td><td>75493</td><td>FAXINAL</td><td>13</td><td>VEREADOR</td><td>160000869858</td><td>17200</td><td>JOSÉ PINTO DE OLIVEIRA</td><td>ZÉ DE OLIVEIRA DO GÁS</td><td>#NULO#</td><td>10132848953</td><td>NÃO DIVULGÁVEL</td><td>12</td><td>APTO</td><td>PARTIDO ISOLADO</td><td>17</td><td>PSL</td><td>PARTIDO SOCIAL LIBERAL</td><td>-1</td><td>#NULO#</td><td>#NULO#</td><td>#NULO#</td><td>160000095987</td><td>PARTIDO ISOLADO</td><td>PSL</td><td>MG</td><td>25/06/1951</td><td>034885470612</td><td>2</td><td>MASCULINO</td><td>2</td><td>LÊ E ESCREVE</td><td>3</td><td>CASADO(A)</td><td>01</td><td>BRANCA</td><td>169</td><td>COMERCIANTE</td><td>5</td><td>SUPLENTE</td></tr><tr><td>22/01/2025</td><td>15:04:00</td><td>2020</td><td>2</td><td>ELEIÇÃO ORDINÁRIA</td><td>1</td><td>426</td><td>Eleições Municipais 2020</td><td>15/11/2020</td><td>MUNICIPAL</td><td>MG</td><td>48534</td><td>MONTALVÂNIA</td><td>13</td><td>VEREADOR</td><td>130000888282</td><td>14333</td><td>EVERALDO MACEDO DOS SANTOS</td><td>EVERALDO DE ZÉ RODOVIÁRIA</td><td>#NULO#</td><td>06747192630</td><td>NÃO DIVULGÁVEL</td><td>12</td><td>APTO</td><td>PARTIDO ISOLADO</td><td>14</td><td>PTB</td><td>PARTIDO TRABALHISTA BRASILEIRO</td><td>-1</td><td>#NULO#</td><td>#NULO#</td><td>#NULO#</td><td>130000099696</td><td>PARTIDO ISOLADO</td><td>PTB</td><td>MG</td><td>14/08/1984</td><td>146298280248</td><td>2</td><td>MASCULINO</td><td>4</td><td>ENSINO FUNDAMENTAL COMPLETO</td><td>3</td><td>CASADO(A)</td><td>02</td><td>PRETA</td><td>999</td><td>OUTROS</td><td>5</td><td>SUPLENTE</td></tr><tr><td>22/01/2025</td><td>15:04:00</td><td>2020</td><td>2</td><td>ELEIÇÃO ORDINÁRIA</td><td>1</td><td>426</td><td>Eleições Municipais 2020</td><td>15/11/2020</td><td>MUNICIPAL</td><td>SP</td><td>71072</td><td>SÃO PAULO</td><td>13</td><td>VEREADOR</td><td>250001123247</td><td>40600</td><td>ADILSON ADRIANO SALES DE SOUZA CARVALHO AMADEU</td><td>DR ADILSON CARVALHO</td><td>#NULO#</td><td>28254810842</td><td>NÃO DIVULGÁVEL</td><td>3</td><td>INAPTO</td><td>PARTIDO ISOLADO</td><td>40</td><td>PSB</td><td>PARTIDO SOCIALISTA BRASILEIRO</td><td>-1</td><td>#NULO#</td><td>#NULO#</td><td>#NULO#</td><td>250000136167</td><td>PARTIDO ISOLADO</td><td>PSB</td><td>SP</td><td>02/10/1974</td><td>251049250167</td><td>2</td><td>MASCULINO</td><td>8</td><td>SUPERIOR COMPLETO</td><td>1</td><td>SOLTEIRO(A)</td><td>01</td><td>BRANCA</td><td>131</td><td>ADVOGADO</td><td>4</td><td>NÃO ELEITO</td></tr><tr><td>22/01/2025</td><td>15:04:00</td><td>2020</td><td>2</td><td>ELEIÇÃO ORDINÁRIA</td><td>1</td><td>426</td><td>Eleições Municipais 2020</td><td>15/11/2020</td><td>MUNICIPAL</td><td>PR</td><td>75515</td><td>FÊNIX</td><td>13</td><td>VEREADOR</td><td>160000939823</td><td>22333</td><td>JOAQUIM RODRIGUES NOVO</td><td>JOAQUIM RODRIGUES</td><td>#NULO#</td><td>59857307949</td><td>NÃO DIVULGÁVEL</td><td>12</td><td>APTO</td><td>PARTIDO ISOLADO</td><td>22</td><td>PL</td><td>PARTIDO LIBERAL</td><td>-1</td><td>#NULO#</td><td>#NULO#</td><td>#NULO#</td><td>160000108483</td><td>PARTIDO ISOLADO</td><td>PL</td><td>PR</td><td>12/09/1967</td><td>025950160698</td><td>2</td><td>MASCULINO</td><td>6</td><td>ENSINO MÉDIO COMPLETO</td><td>3</td><td>CASADO(A)</td><td>01</td><td>BRANCA</td><td>601</td><td>AGRICULTOR</td><td>2</td><td>ELEITO POR QP</td></tr></tbody></table></div>"
      ]
     },
     "metadata": {
      "application/vnd.databricks.v1+output": {
       "addedWidgets": {},
       "aggData": [],
       "aggError": "",
       "aggOverflow": false,
       "aggSchema": [],
       "aggSeriesLimitReached": false,
       "aggType": "",
       "arguments": {},
       "columnCustomDisplayInfos": {},
       "data": [
        [
         "22/01/2025",
         "15:04:00",
         "2020",
         "2",
         "ELEIÇÃO ORDINÁRIA",
         "1",
         "426",
         "Eleições Municipais 2020",
         "15/11/2020",
         "MUNICIPAL",
         "SP",
         "71072",
         "SÃO PAULO",
         "13",
         "VEREADOR",
         "250001265966",
         "27323",
         "JOÃO BATISTA DOS SANTOS",
         "JOÃO ZELADOR",
         "#NULO#",
         "13534893883",
         "NÃO DIVULGÁVEL",
         "3",
         "INAPTO",
         "PARTIDO ISOLADO",
         "27",
         "DC",
         "DEMOCRACIA CRISTÃ",
         "-1",
         "#NULO#",
         "#NULO#",
         "#NULO#",
         "250000136838",
         "PARTIDO ISOLADO",
         "DC",
         "SP",
         "05/03/1970",
         "292412220132",
         "2",
         "MASCULINO",
         "5",
         "ENSINO MÉDIO INCOMPLETO",
         "3",
         "CASADO(A)",
         "03",
         "PARDA",
         "303",
         "GERENTE",
         "4",
         "NÃO ELEITO"
        ],
        [
         "22/01/2025",
         "15:04:00",
         "2020",
         "2",
         "ELEIÇÃO ORDINÁRIA",
         "1",
         "426",
         "Eleições Municipais 2020",
         "15/11/2020",
         "MUNICIPAL",
         "SP",
         "71072",
         "SÃO PAULO",
         "13",
         "VEREADOR",
         "250001268518",
         "28010",
         "SILVIO ROBERTO VOCE",
         "SILVIO VOCE",
         "#NULO#",
         "90421213868",
         "NÃO DIVULGÁVEL",
         "12",
         "APTO",
         "PARTIDO ISOLADO",
         "28",
         "PRTB",
         "PARTIDO RENOVADOR TRABALHISTA BRASILEIRO",
         "-1",
         "#NULO#",
         "#NULO#",
         "#NULO#",
         "250000125795",
         "PARTIDO ISOLADO",
         "PRTB",
         "SP",
         "15/04/1953",
         "097094760159",
         "2",
         "MASCULINO",
         "6",
         "ENSINO MÉDIO COMPLETO",
         "1",
         "SOLTEIRO(A)",
         "01",
         "BRANCA",
         "182",
         "COMISSÁRIO DE BORDO",
         "4",
         "NÃO ELEITO"
        ],
        [
         "22/01/2025",
         "15:04:00",
         "2020",
         "2",
         "ELEIÇÃO ORDINÁRIA",
         "1",
         "426",
         "Eleições Municipais 2020",
         "15/11/2020",
         "MUNICIPAL",
         "SP",
         "71072",
         "SÃO PAULO",
         "13",
         "VEREADOR",
         "250000925963",
         "20901",
         "ANDRESSA MACIEL DO NASCIMENTO",
         "DEDE",
         "#NULO#",
         "37174723802",
         "NÃO DIVULGÁVEL",
         "3",
         "INAPTO",
         "PARTIDO ISOLADO",
         "20",
         "PSC",
         "PARTIDO SOCIAL CRISTÃO",
         "-1",
         "#NULO#",
         "#NULO#",
         "#NULO#",
         "250000106600",
         "PARTIDO ISOLADO",
         "PSC",
         "SP",
         "20/11/1988",
         "344907730124",
         "4",
         "FEMININO",
         "7",
         "SUPERIOR INCOMPLETO",
         "3",
         "CASADO(A)",
         "03",
         "PARDA",
         "999",
         "OUTROS",
         "4",
         "NÃO ELEITO"
        ],
        [
         "22/01/2025",
         "15:04:00",
         "2020",
         "2",
         "ELEIÇÃO ORDINÁRIA",
         "1",
         "426",
         "Eleições Municipais 2020",
         "15/11/2020",
         "MUNICIPAL",
         "PR",
         "74888",
         "TUNAS DO PARANÁ",
         "13",
         "VEREADOR",
         "160001090215",
         "28000",
         "EDEMAR RIBEIRO BORGES",
         "NICO DA MARACANÃ",
         "#NULO#",
         "62730614915",
         "NÃO DIVULGÁVEL",
         "12",
         "APTO",
         "PARTIDO ISOLADO",
         "28",
         "PRTB",
         "PARTIDO RENOVADOR TRABALHISTA BRASILEIRO",
         "-1",
         "#NULO#",
         "#NULO#",
         "#NULO#",
         "160000132022",
         "PARTIDO ISOLADO",
         "PRTB",
         "PR",
         "05/01/1965",
         "004079340655",
         "2",
         "MASCULINO",
         "3",
         "ENSINO FUNDAMENTAL INCOMPLETO",
         "1",
         "SOLTEIRO(A)",
         "03",
         "PARDA",
         "541",
         "MECÂNICO DE MANUTENÇÃO",
         "4",
         "NÃO ELEITO"
        ],
        [
         "22/01/2025",
         "15:04:00",
         "2020",
         "2",
         "ELEIÇÃO ORDINÁRIA",
         "1",
         "426",
         "Eleições Municipais 2020",
         "15/11/2020",
         "MUNICIPAL",
         "SP",
         "71072",
         "SÃO PAULO",
         "13",
         "VEREADOR",
         "250001100745",
         "35020",
         "ROSE LEILA RODASLI CHUERE",
         "ROSE LEILA",
         "#NULO#",
         "53450779834",
         "NÃO DIVULGÁVEL",
         "3",
         "INAPTO",
         "PARTIDO ISOLADO",
         "35",
         "PMB",
         "PARTIDO DA MULHER BRASILEIRA",
         "-1",
         "#NULO#",
         "#NULO#",
         "#NULO#",
         "250000133375",
         "PARTIDO ISOLADO",
         "PMB",
         "SP",
         "11/01/1954",
         "156241700167",
         "4",
         "FEMININO",
         "8",
         "SUPERIOR COMPLETO",
         "1",
         "SOLTEIRO(A)",
         "01",
         "BRANCA",
         "923",
         "APOSENTADO (EXCETO SERVIDOR PÚBLICO)",
         "4",
         "NÃO ELEITO"
        ],
        [
         "22/01/2025",
         "15:04:00",
         "2020",
         "2",
         "ELEIÇÃO ORDINÁRIA",
         "1",
         "426",
         "Eleições Municipais 2020",
         "15/11/2020",
         "MUNICIPAL",
         "SP",
         "70211",
         "SANTA BRANCA",
         "13",
         "VEREADOR",
         "250000984468",
         "45000",
         "JOSÉ AMILTON CORREA",
         "BIKUIRA",
         "#NULO#",
         "26595781840",
         "NÃO DIVULGÁVEL",
         "12",
         "APTO",
         "PARTIDO ISOLADO",
         "45",
         "PSDB",
         "PARTIDO DA SOCIAL DEMOCRACIA BRASILEIRA",
         "-1",
         "#NULO#",
         "#NULO#",
         "#NULO#",
         "250000115157",
         "PARTIDO ISOLADO",
         "PSDB",
         "PR",
         "17/08/1972",
         "180429580124",
         "2",
         "MASCULINO",
         "6",
         "ENSINO MÉDIO COMPLETO",
         "3",
         "CASADO(A)",
         "01",
         "BRANCA",
         "707",
         "TRABALHADOR METALÚRGICO E SIDERÚRGICO",
         "5",
         "SUPLENTE"
        ],
        [
         "22/01/2025",
         "15:04:00",
         "2020",
         "2",
         "ELEIÇÃO ORDINÁRIA",
         "1",
         "426",
         "Eleições Municipais 2020",
         "15/11/2020",
         "MUNICIPAL",
         "PR",
         "75493",
         "FAXINAL",
         "13",
         "VEREADOR",
         "160000869858",
         "17200",
         "JOSÉ PINTO DE OLIVEIRA",
         "ZÉ DE OLIVEIRA DO GÁS",
         "#NULO#",
         "10132848953",
         "NÃO DIVULGÁVEL",
         "12",
         "APTO",
         "PARTIDO ISOLADO",
         "17",
         "PSL",
         "PARTIDO SOCIAL LIBERAL",
         "-1",
         "#NULO#",
         "#NULO#",
         "#NULO#",
         "160000095987",
         "PARTIDO ISOLADO",
         "PSL",
         "MG",
         "25/06/1951",
         "034885470612",
         "2",
         "MASCULINO",
         "2",
         "LÊ E ESCREVE",
         "3",
         "CASADO(A)",
         "01",
         "BRANCA",
         "169",
         "COMERCIANTE",
         "5",
         "SUPLENTE"
        ],
        [
         "22/01/2025",
         "15:04:00",
         "2020",
         "2",
         "ELEIÇÃO ORDINÁRIA",
         "1",
         "426",
         "Eleições Municipais 2020",
         "15/11/2020",
         "MUNICIPAL",
         "MG",
         "48534",
         "MONTALVÂNIA",
         "13",
         "VEREADOR",
         "130000888282",
         "14333",
         "EVERALDO MACEDO DOS SANTOS",
         "EVERALDO DE ZÉ RODOVIÁRIA",
         "#NULO#",
         "06747192630",
         "NÃO DIVULGÁVEL",
         "12",
         "APTO",
         "PARTIDO ISOLADO",
         "14",
         "PTB",
         "PARTIDO TRABALHISTA BRASILEIRO",
         "-1",
         "#NULO#",
         "#NULO#",
         "#NULO#",
         "130000099696",
         "PARTIDO ISOLADO",
         "PTB",
         "MG",
         "14/08/1984",
         "146298280248",
         "2",
         "MASCULINO",
         "4",
         "ENSINO FUNDAMENTAL COMPLETO",
         "3",
         "CASADO(A)",
         "02",
         "PRETA",
         "999",
         "OUTROS",
         "5",
         "SUPLENTE"
        ],
        [
         "22/01/2025",
         "15:04:00",
         "2020",
         "2",
         "ELEIÇÃO ORDINÁRIA",
         "1",
         "426",
         "Eleições Municipais 2020",
         "15/11/2020",
         "MUNICIPAL",
         "SP",
         "71072",
         "SÃO PAULO",
         "13",
         "VEREADOR",
         "250001123247",
         "40600",
         "ADILSON ADRIANO SALES DE SOUZA CARVALHO AMADEU",
         "DR ADILSON CARVALHO",
         "#NULO#",
         "28254810842",
         "NÃO DIVULGÁVEL",
         "3",
         "INAPTO",
         "PARTIDO ISOLADO",
         "40",
         "PSB",
         "PARTIDO SOCIALISTA BRASILEIRO",
         "-1",
         "#NULO#",
         "#NULO#",
         "#NULO#",
         "250000136167",
         "PARTIDO ISOLADO",
         "PSB",
         "SP",
         "02/10/1974",
         "251049250167",
         "2",
         "MASCULINO",
         "8",
         "SUPERIOR COMPLETO",
         "1",
         "SOLTEIRO(A)",
         "01",
         "BRANCA",
         "131",
         "ADVOGADO",
         "4",
         "NÃO ELEITO"
        ],
        [
         "22/01/2025",
         "15:04:00",
         "2020",
         "2",
         "ELEIÇÃO ORDINÁRIA",
         "1",
         "426",
         "Eleições Municipais 2020",
         "15/11/2020",
         "MUNICIPAL",
         "PR",
         "75515",
         "FÊNIX",
         "13",
         "VEREADOR",
         "160000939823",
         "22333",
         "JOAQUIM RODRIGUES NOVO",
         "JOAQUIM RODRIGUES",
         "#NULO#",
         "59857307949",
         "NÃO DIVULGÁVEL",
         "12",
         "APTO",
         "PARTIDO ISOLADO",
         "22",
         "PL",
         "PARTIDO LIBERAL",
         "-1",
         "#NULO#",
         "#NULO#",
         "#NULO#",
         "160000108483",
         "PARTIDO ISOLADO",
         "PL",
         "PR",
         "12/09/1967",
         "025950160698",
         "2",
         "MASCULINO",
         "6",
         "ENSINO MÉDIO COMPLETO",
         "3",
         "CASADO(A)",
         "01",
         "BRANCA",
         "601",
         "AGRICULTOR",
         "2",
         "ELEITO POR QP"
        ]
       ],
       "datasetInfos": [],
       "dbfsResultPath": null,
       "isJsonSchema": true,
       "metadata": {},
       "overflow": false,
       "plotOptions": {
        "customPlotOptions": {},
        "displayType": "table",
        "pivotAggregation": null,
        "pivotColumns": null,
        "xColumns": null,
        "yColumns": null
       },
       "removedWidgets": [],
       "schema": [
        {
         "metadata": "{}",
         "name": "DT_GERACAO",
         "type": "\"string\""
        },
        {
         "metadata": "{}",
         "name": "HH_GERACAO",
         "type": "\"string\""
        },
        {
         "metadata": "{}",
         "name": "ANO_ELEICAO",
         "type": "\"string\""
        },
        {
         "metadata": "{}",
         "name": "CD_TIPO_ELEICAO",
         "type": "\"string\""
        },
        {
         "metadata": "{}",
         "name": "NM_TIPO_ELEICAO",
         "type": "\"string\""
        },
        {
         "metadata": "{}",
         "name": "NR_TURNO",
         "type": "\"string\""
        },
        {
         "metadata": "{}",
         "name": "CD_ELEICAO",
         "type": "\"string\""
        },
        {
         "metadata": "{}",
         "name": "DS_ELEICAO",
         "type": "\"string\""
        },
        {
         "metadata": "{}",
         "name": "DT_ELEICAO",
         "type": "\"string\""
        },
        {
         "metadata": "{}",
         "name": "TP_ABRANGENCIA",
         "type": "\"string\""
        },
        {
         "metadata": "{}",
         "name": "SG_UF",
         "type": "\"string\""
        },
        {
         "metadata": "{}",
         "name": "SG_UE",
         "type": "\"string\""
        },
        {
         "metadata": "{}",
         "name": "NM_UE",
         "type": "\"string\""
        },
        {
         "metadata": "{}",
         "name": "CD_CARGO",
         "type": "\"string\""
        },
        {
         "metadata": "{}",
         "name": "DS_CARGO",
         "type": "\"string\""
        },
        {
         "metadata": "{}",
         "name": "SQ_CANDIDATO",
         "type": "\"string\""
        },
        {
         "metadata": "{}",
         "name": "NR_CANDIDATO",
         "type": "\"string\""
        },
        {
         "metadata": "{}",
         "name": "NM_CANDIDATO",
         "type": "\"string\""
        },
        {
         "metadata": "{}",
         "name": "NM_URNA_CANDIDATO",
         "type": "\"string\""
        },
        {
         "metadata": "{}",
         "name": "NM_SOCIAL_CANDIDATO",
         "type": "\"string\""
        },
        {
         "metadata": "{}",
         "name": "NR_CPF_CANDIDATO",
         "type": "\"string\""
        },
        {
         "metadata": "{}",
         "name": "DS_EMAIL",
         "type": "\"string\""
        },
        {
         "metadata": "{}",
         "name": "CD_SITUACAO_CANDIDATURA",
         "type": "\"string\""
        },
        {
         "metadata": "{}",
         "name": "DS_SITUACAO_CANDIDATURA",
         "type": "\"string\""
        },
        {
         "metadata": "{}",
         "name": "TP_AGREMIACAO",
         "type": "\"string\""
        },
        {
         "metadata": "{}",
         "name": "NR_PARTIDO",
         "type": "\"string\""
        },
        {
         "metadata": "{}",
         "name": "SG_PARTIDO",
         "type": "\"string\""
        },
        {
         "metadata": "{}",
         "name": "NM_PARTIDO",
         "type": "\"string\""
        },
        {
         "metadata": "{}",
         "name": "NR_FEDERACAO",
         "type": "\"string\""
        },
        {
         "metadata": "{}",
         "name": "NM_FEDERACAO",
         "type": "\"string\""
        },
        {
         "metadata": "{}",
         "name": "SG_FEDERACAO",
         "type": "\"string\""
        },
        {
         "metadata": "{}",
         "name": "DS_COMPOSICAO_FEDERACAO",
         "type": "\"string\""
        },
        {
         "metadata": "{}",
         "name": "SQ_COLIGACAO",
         "type": "\"string\""
        },
        {
         "metadata": "{}",
         "name": "NM_COLIGACAO",
         "type": "\"string\""
        },
        {
         "metadata": "{}",
         "name": "DS_COMPOSICAO_COLIGACAO",
         "type": "\"string\""
        },
        {
         "metadata": "{}",
         "name": "SG_UF_NASCIMENTO",
         "type": "\"string\""
        },
        {
         "metadata": "{}",
         "name": "DT_NASCIMENTO",
         "type": "\"string\""
        },
        {
         "metadata": "{}",
         "name": "NR_TITULO_ELEITORAL_CANDIDATO",
         "type": "\"string\""
        },
        {
         "metadata": "{}",
         "name": "CD_GENERO",
         "type": "\"string\""
        },
        {
         "metadata": "{}",
         "name": "DS_GENERO",
         "type": "\"string\""
        },
        {
         "metadata": "{}",
         "name": "CD_GRAU_INSTRUCAO",
         "type": "\"string\""
        },
        {
         "metadata": "{}",
         "name": "DS_GRAU_INSTRUCAO",
         "type": "\"string\""
        },
        {
         "metadata": "{}",
         "name": "CD_ESTADO_CIVIL",
         "type": "\"string\""
        },
        {
         "metadata": "{}",
         "name": "DS_ESTADO_CIVIL",
         "type": "\"string\""
        },
        {
         "metadata": "{}",
         "name": "CD_COR_RACA",
         "type": "\"string\""
        },
        {
         "metadata": "{}",
         "name": "DS_COR_RACA",
         "type": "\"string\""
        },
        {
         "metadata": "{}",
         "name": "CD_OCUPACAO",
         "type": "\"string\""
        },
        {
         "metadata": "{}",
         "name": "DS_OCUPACAO",
         "type": "\"string\""
        },
        {
         "metadata": "{}",
         "name": "CD_SIT_TOT_TURNO",
         "type": "\"string\""
        },
        {
         "metadata": "{}",
         "name": "DS_SIT_TOT_TURNO",
         "type": "\"string\""
        }
       ],
       "type": "table"
      }
     },
     "output_type": "display_data"
    }
   ],
   "source": [
    "%sql\n",
    "--Sample\n",
    "SELECT \n",
    "  *\n",
    "FROM \n",
    "  eleicao_bronze.candidatos\n",
    "LIMIT 10"
   ]
  },
  {
   "cell_type": "markdown",
   "metadata": {
    "application/vnd.databricks.v1+cell": {
     "cellMetadata": {
      "byteLimit": 2048000,
      "rowLimit": 10000
     },
     "inputWidgets": {},
     "nuid": "cbb0192f-1941-48ba-b052-9de7675d14cc",
     "showTitle": false,
     "tableResultSettingsMap": {},
     "title": ""
    }
   },
   "source": [
    "Para começar os tratamentos precisamos adentrar nos dados:\n",
    "- A coluna \"SQ_CANDIDATO\" é única por candidato por ano de eleição e por turno, esse será o campo em conjunto com o \"ANO_ELEICAO\" para montar a chave primária, já que a tabela de bens não possui nome dos candidatos, essa coluna deve ter o formato final de _BIGINT_. Como chave primária qualquer linha que tenha \"SQ_CANDIDATO\" ou \"ANO_ELEICAO\" nulo, será desconsiderada.\n",
    "- Para o join com anos diferentes e avaliar a evolução de patrimônio será usado a coluna \"NR_CPF_CANDIDATO, também possível pela coluna \"NR_TITULO_ELEITORAL_CANDIDATO\"\n",
    "- Apesar de serem importantes as colunas de códigos (CD) e siglas (SG) não são úteis para a análise, manterei apenas as descritivas\n",
    "- Como a tabela tem a partição de turno e apenas alguns candidatos concorrem o segundo turno, temos um problema conhecido: pegar a linha de maior turno de cada candidato, resolvido em alguns passos abaixo.  "
   ]
  },
  {
   "cell_type": "markdown",
   "metadata": {
    "application/vnd.databricks.v1+cell": {
     "cellMetadata": {},
     "inputWidgets": {},
     "nuid": "fde0ebba-b8f2-4a20-87d6-d6bf676c6921",
     "showTitle": false,
     "tableResultSettingsMap": {},
     "title": ""
    }
   },
   "source": [
    "Segue algumas validações nos campos da tabela Candidatos:"
   ]
  },
  {
   "cell_type": "code",
   "execution_count": 0,
   "metadata": {
    "application/vnd.databricks.v1+cell": {
     "cellMetadata": {
      "byteLimit": 2048000,
      "implicitDf": true,
      "rowLimit": 10000
     },
     "inputWidgets": {},
     "nuid": "2d46a611-cbb7-4486-ab77-b1b3aaf96a78",
     "showTitle": false,
     "tableResultSettingsMap": {},
     "title": ""
    }
   },
   "outputs": [
    {
     "output_type": "display_data",
     "data": {
      "text/html": [
       "<style scoped>\n",
       "  .table-result-container {\n",
       "    max-height: 300px;\n",
       "    overflow: auto;\n",
       "  }\n",
       "  table, th, td {\n",
       "    border: 1px solid black;\n",
       "    border-collapse: collapse;\n",
       "  }\n",
       "  th, td {\n",
       "    padding: 5px;\n",
       "  }\n",
       "  th {\n",
       "    text-align: left;\n",
       "  }\n",
       "</style><div class='table-result-container'><table class='table-result'><thead style='background-color: white'><tr><th>VALORES_NULOS</th></tr></thead><tbody><tr><td>0</td></tr></tbody></table></div>"
      ]
     },
     "metadata": {
      "application/vnd.databricks.v1+output": {
       "addedWidgets": {},
       "aggData": [],
       "aggError": "",
       "aggOverflow": false,
       "aggSchema": [],
       "aggSeriesLimitReached": false,
       "aggType": "",
       "arguments": {},
       "columnCustomDisplayInfos": {},
       "data": [
        [
         0
        ]
       ],
       "datasetInfos": [],
       "dbfsResultPath": null,
       "isJsonSchema": true,
       "metadata": {},
       "overflow": false,
       "plotOptions": {
        "customPlotOptions": {},
        "displayType": "table",
        "pivotAggregation": null,
        "pivotColumns": null,
        "xColumns": null,
        "yColumns": null
       },
       "removedWidgets": [],
       "schema": [
        {
         "metadata": "{}",
         "name": "VALORES_NULOS",
         "type": "\"long\""
        }
       ],
       "type": "table"
      }
     },
     "output_type": "display_data"
    }
   ],
   "source": [
    "%sql\n",
    "---Validação de Nulos no campo SQ_CANDIDATO\n",
    "SELECT \n",
    "  COUNT(*) AS VALORES_NULOS\n",
    "FROM \n",
    "  eleicao_bronze.candidatos\n",
    "WHERE \n",
    "  SQ_CANDIDATO IS NULL\n"
   ]
  },
  {
   "cell_type": "code",
   "execution_count": 0,
   "metadata": {
    "application/vnd.databricks.v1+cell": {
     "cellMetadata": {
      "byteLimit": 2048000,
      "implicitDf": true,
      "rowLimit": 10000
     },
     "inputWidgets": {},
     "nuid": "f11df5df-c83f-44c1-b1f9-85c142aba9f3",
     "showTitle": false,
     "tableResultSettingsMap": {},
     "title": ""
    }
   },
   "outputs": [
    {
     "output_type": "display_data",
     "data": {
      "text/html": [
       "<style scoped>\n",
       "  .table-result-container {\n",
       "    max-height: 300px;\n",
       "    overflow: auto;\n",
       "  }\n",
       "  table, th, td {\n",
       "    border: 1px solid black;\n",
       "    border-collapse: collapse;\n",
       "  }\n",
       "  th, td {\n",
       "    padding: 5px;\n",
       "  }\n",
       "  th {\n",
       "    text-align: left;\n",
       "  }\n",
       "</style><div class='table-result-container'><table class='table-result'><thead style='background-color: white'><tr><th>SQ_CANDIDATO</th><th>ANO_ELEICAO</th><th>QTDS</th></tr></thead><tbody><tr><td>130000634013</td><td>2020</td><td>2</td></tr><tr><td>170000718293</td><td>2020</td><td>2</td></tr><tr><td>130001168801</td><td>2020</td><td>2</td></tr><tr><td>250000733763</td><td>2020</td><td>2</td></tr><tr><td>190001254499</td><td>2020</td><td>2</td></tr><tr><td>250000746936</td><td>2020</td><td>2</td></tr><tr><td>190001104235</td><td>2020</td><td>2</td></tr><tr><td>250000674981</td><td>2020</td><td>2</td></tr><tr><td>80001001603</td><td>2020</td><td>2</td></tr><tr><td>80001132231</td><td>2020</td><td>2</td></tr></tbody></table></div>"
      ]
     },
     "metadata": {
      "application/vnd.databricks.v1+output": {
       "addedWidgets": {},
       "aggData": [],
       "aggError": "",
       "aggOverflow": false,
       "aggSchema": [],
       "aggSeriesLimitReached": false,
       "aggType": "",
       "arguments": {},
       "columnCustomDisplayInfos": {},
       "data": [
        [
         "130000634013",
         "2020",
         2
        ],
        [
         "170000718293",
         "2020",
         2
        ],
        [
         "130001168801",
         "2020",
         2
        ],
        [
         "250000733763",
         "2020",
         2
        ],
        [
         "190001254499",
         "2020",
         2
        ],
        [
         "250000746936",
         "2020",
         2
        ],
        [
         "190001104235",
         "2020",
         2
        ],
        [
         "250000674981",
         "2020",
         2
        ],
        [
         "80001001603",
         "2020",
         2
        ],
        [
         "80001132231",
         "2020",
         2
        ]
       ],
       "datasetInfos": [],
       "dbfsResultPath": null,
       "isJsonSchema": true,
       "metadata": {},
       "overflow": false,
       "plotOptions": {
        "customPlotOptions": {},
        "displayType": "table",
        "pivotAggregation": null,
        "pivotColumns": null,
        "xColumns": null,
        "yColumns": null
       },
       "removedWidgets": [],
       "schema": [
        {
         "metadata": "{}",
         "name": "SQ_CANDIDATO",
         "type": "\"string\""
        },
        {
         "metadata": "{}",
         "name": "ANO_ELEICAO",
         "type": "\"string\""
        },
        {
         "metadata": "{}",
         "name": "QTDS",
         "type": "\"long\""
        }
       ],
       "type": "table"
      }
     },
     "output_type": "display_data"
    }
   ],
   "source": [
    "%sql\n",
    "--Validando unicidade do SQ_CANDIDATO\n",
    "SELECT\n",
    "   SQ_CANDIDATO \n",
    "  ,ANO_ELEICAO\n",
    "  ,COUNT(*) AS QTDS\n",
    "FROM \n",
    "  eleicao_bronze.candidatos\n",
    "GROUP BY 1,2\n",
    "HAVING COUNT(*) > 1\n",
    "LIMIT 10"
   ]
  },
  {
   "cell_type": "code",
   "execution_count": 0,
   "metadata": {
    "application/vnd.databricks.v1+cell": {
     "cellMetadata": {
      "byteLimit": 2048000,
      "implicitDf": true,
      "rowLimit": 10000
     },
     "inputWidgets": {},
     "nuid": "2dd3d98b-2452-43f6-917b-b4227d90820e",
     "showTitle": false,
     "tableResultSettingsMap": {},
     "title": ""
    }
   },
   "outputs": [
    {
     "output_type": "display_data",
     "data": {
      "text/html": [
       "<style scoped>\n",
       "  .table-result-container {\n",
       "    max-height: 300px;\n",
       "    overflow: auto;\n",
       "  }\n",
       "  table, th, td {\n",
       "    border: 1px solid black;\n",
       "    border-collapse: collapse;\n",
       "  }\n",
       "  th, td {\n",
       "    padding: 5px;\n",
       "  }\n",
       "  th {\n",
       "    text-align: left;\n",
       "  }\n",
       "</style><div class='table-result-container'><table class='table-result'><thead style='background-color: white'><tr><th>DT_GERACAO</th><th>HH_GERACAO</th><th>ANO_ELEICAO</th><th>CD_TIPO_ELEICAO</th><th>NM_TIPO_ELEICAO</th><th>NR_TURNO</th><th>CD_ELEICAO</th><th>DS_ELEICAO</th><th>DT_ELEICAO</th><th>TP_ABRANGENCIA</th><th>SG_UF</th><th>SG_UE</th><th>NM_UE</th><th>CD_CARGO</th><th>DS_CARGO</th><th>SQ_CANDIDATO</th><th>NR_CANDIDATO</th><th>NM_CANDIDATO</th><th>NM_URNA_CANDIDATO</th><th>NM_SOCIAL_CANDIDATO</th><th>NR_CPF_CANDIDATO</th><th>DS_EMAIL</th><th>CD_SITUACAO_CANDIDATURA</th><th>DS_SITUACAO_CANDIDATURA</th><th>TP_AGREMIACAO</th><th>NR_PARTIDO</th><th>SG_PARTIDO</th><th>NM_PARTIDO</th><th>NR_FEDERACAO</th><th>NM_FEDERACAO</th><th>SG_FEDERACAO</th><th>DS_COMPOSICAO_FEDERACAO</th><th>SQ_COLIGACAO</th><th>NM_COLIGACAO</th><th>DS_COMPOSICAO_COLIGACAO</th><th>SG_UF_NASCIMENTO</th><th>DT_NASCIMENTO</th><th>NR_TITULO_ELEITORAL_CANDIDATO</th><th>CD_GENERO</th><th>DS_GENERO</th><th>CD_GRAU_INSTRUCAO</th><th>DS_GRAU_INSTRUCAO</th><th>CD_ESTADO_CIVIL</th><th>DS_ESTADO_CIVIL</th><th>CD_COR_RACA</th><th>DS_COR_RACA</th><th>CD_OCUPACAO</th><th>DS_OCUPACAO</th><th>CD_SIT_TOT_TURNO</th><th>DS_SIT_TOT_TURNO</th></tr></thead><tbody><tr><td>22/01/2025</td><td>15:04:00</td><td>2020</td><td>2</td><td>ELEIÇÃO ORDINÁRIA</td><td>2</td><td>427</td><td>Eleições Municipais 2020</td><td>29/11/2020</td><td>MUNICIPAL</td><td>MG</td><td>47333</td><td>JUIZ DE FORA</td><td>12</td><td>VICE-PREFEITO</td><td>130000634013</td><td>13</td><td>JOÃO KENNEDY RIBEIRO</td><td>KENNEDY RIBEIRO</td><td>#NULO#</td><td>75300923672</td><td>NÃO DIVULGÁVEL</td><td>12</td><td>APTO</td><td>COLIGAÇÃO</td><td>43</td><td>PV</td><td>PARTIDO VERDE</td><td>-1</td><td>#NULO#</td><td>#NULO#</td><td>#NULO#</td><td>130000051817</td><td>JUIZ DE FORA VALE A PENA</td><td>PT / PV</td><td>MG</td><td>23/02/1971</td><td>093093630221</td><td>2</td><td>MASCULINO</td><td>3</td><td>ENSINO FUNDAMENTAL INCOMPLETO</td><td>3</td><td>CASADO(A)</td><td>01</td><td>BRANCA</td><td>278</td><td>VEREADOR</td><td>1</td><td>ELEITO</td></tr><tr><td>22/01/2025</td><td>15:04:00</td><td>2020</td><td>2</td><td>ELEIÇÃO ORDINÁRIA</td><td>1</td><td>426</td><td>Eleições Municipais 2020</td><td>15/11/2020</td><td>MUNICIPAL</td><td>MG</td><td>47333</td><td>JUIZ DE FORA</td><td>12</td><td>VICE-PREFEITO</td><td>130000634013</td><td>13</td><td>JOÃO KENNEDY RIBEIRO</td><td>KENNEDY RIBEIRO</td><td>#NULO#</td><td>75300923672</td><td>NÃO DIVULGÁVEL</td><td>12</td><td>APTO</td><td>COLIGAÇÃO</td><td>43</td><td>PV</td><td>PARTIDO VERDE</td><td>-1</td><td>#NULO#</td><td>#NULO#</td><td>#NULO#</td><td>130000051817</td><td>JUIZ DE FORA VALE A PENA</td><td>PT / PV</td><td>MG</td><td>23/02/1971</td><td>093093630221</td><td>2</td><td>MASCULINO</td><td>3</td><td>ENSINO FUNDAMENTAL INCOMPLETO</td><td>3</td><td>CASADO(A)</td><td>01</td><td>BRANCA</td><td>278</td><td>VEREADOR</td><td>6</td><td>2º TURNO</td></tr></tbody></table></div>"
      ]
     },
     "metadata": {
      "application/vnd.databricks.v1+output": {
       "addedWidgets": {},
       "aggData": [],
       "aggError": "",
       "aggOverflow": false,
       "aggSchema": [],
       "aggSeriesLimitReached": false,
       "aggType": "",
       "arguments": {},
       "columnCustomDisplayInfos": {},
       "data": [
        [
         "22/01/2025",
         "15:04:00",
         "2020",
         "2",
         "ELEIÇÃO ORDINÁRIA",
         "2",
         "427",
         "Eleições Municipais 2020",
         "29/11/2020",
         "MUNICIPAL",
         "MG",
         "47333",
         "JUIZ DE FORA",
         "12",
         "VICE-PREFEITO",
         "130000634013",
         "13",
         "JOÃO KENNEDY RIBEIRO",
         "KENNEDY RIBEIRO",
         "#NULO#",
         "75300923672",
         "NÃO DIVULGÁVEL",
         "12",
         "APTO",
         "COLIGAÇÃO",
         "43",
         "PV",
         "PARTIDO VERDE",
         "-1",
         "#NULO#",
         "#NULO#",
         "#NULO#",
         "130000051817",
         "JUIZ DE FORA VALE A PENA",
         "PT / PV",
         "MG",
         "23/02/1971",
         "093093630221",
         "2",
         "MASCULINO",
         "3",
         "ENSINO FUNDAMENTAL INCOMPLETO",
         "3",
         "CASADO(A)",
         "01",
         "BRANCA",
         "278",
         "VEREADOR",
         "1",
         "ELEITO"
        ],
        [
         "22/01/2025",
         "15:04:00",
         "2020",
         "2",
         "ELEIÇÃO ORDINÁRIA",
         "1",
         "426",
         "Eleições Municipais 2020",
         "15/11/2020",
         "MUNICIPAL",
         "MG",
         "47333",
         "JUIZ DE FORA",
         "12",
         "VICE-PREFEITO",
         "130000634013",
         "13",
         "JOÃO KENNEDY RIBEIRO",
         "KENNEDY RIBEIRO",
         "#NULO#",
         "75300923672",
         "NÃO DIVULGÁVEL",
         "12",
         "APTO",
         "COLIGAÇÃO",
         "43",
         "PV",
         "PARTIDO VERDE",
         "-1",
         "#NULO#",
         "#NULO#",
         "#NULO#",
         "130000051817",
         "JUIZ DE FORA VALE A PENA",
         "PT / PV",
         "MG",
         "23/02/1971",
         "093093630221",
         "2",
         "MASCULINO",
         "3",
         "ENSINO FUNDAMENTAL INCOMPLETO",
         "3",
         "CASADO(A)",
         "01",
         "BRANCA",
         "278",
         "VEREADOR",
         "6",
         "2º TURNO"
        ]
       ],
       "datasetInfos": [],
       "dbfsResultPath": null,
       "isJsonSchema": true,
       "metadata": {},
       "overflow": false,
       "plotOptions": {
        "customPlotOptions": {},
        "displayType": "table",
        "pivotAggregation": null,
        "pivotColumns": null,
        "xColumns": null,
        "yColumns": null
       },
       "removedWidgets": [],
       "schema": [
        {
         "metadata": "{}",
         "name": "DT_GERACAO",
         "type": "\"string\""
        },
        {
         "metadata": "{}",
         "name": "HH_GERACAO",
         "type": "\"string\""
        },
        {
         "metadata": "{}",
         "name": "ANO_ELEICAO",
         "type": "\"string\""
        },
        {
         "metadata": "{}",
         "name": "CD_TIPO_ELEICAO",
         "type": "\"string\""
        },
        {
         "metadata": "{}",
         "name": "NM_TIPO_ELEICAO",
         "type": "\"string\""
        },
        {
         "metadata": "{}",
         "name": "NR_TURNO",
         "type": "\"string\""
        },
        {
         "metadata": "{}",
         "name": "CD_ELEICAO",
         "type": "\"string\""
        },
        {
         "metadata": "{}",
         "name": "DS_ELEICAO",
         "type": "\"string\""
        },
        {
         "metadata": "{}",
         "name": "DT_ELEICAO",
         "type": "\"string\""
        },
        {
         "metadata": "{}",
         "name": "TP_ABRANGENCIA",
         "type": "\"string\""
        },
        {
         "metadata": "{}",
         "name": "SG_UF",
         "type": "\"string\""
        },
        {
         "metadata": "{}",
         "name": "SG_UE",
         "type": "\"string\""
        },
        {
         "metadata": "{}",
         "name": "NM_UE",
         "type": "\"string\""
        },
        {
         "metadata": "{}",
         "name": "CD_CARGO",
         "type": "\"string\""
        },
        {
         "metadata": "{}",
         "name": "DS_CARGO",
         "type": "\"string\""
        },
        {
         "metadata": "{}",
         "name": "SQ_CANDIDATO",
         "type": "\"string\""
        },
        {
         "metadata": "{}",
         "name": "NR_CANDIDATO",
         "type": "\"string\""
        },
        {
         "metadata": "{}",
         "name": "NM_CANDIDATO",
         "type": "\"string\""
        },
        {
         "metadata": "{}",
         "name": "NM_URNA_CANDIDATO",
         "type": "\"string\""
        },
        {
         "metadata": "{}",
         "name": "NM_SOCIAL_CANDIDATO",
         "type": "\"string\""
        },
        {
         "metadata": "{}",
         "name": "NR_CPF_CANDIDATO",
         "type": "\"string\""
        },
        {
         "metadata": "{}",
         "name": "DS_EMAIL",
         "type": "\"string\""
        },
        {
         "metadata": "{}",
         "name": "CD_SITUACAO_CANDIDATURA",
         "type": "\"string\""
        },
        {
         "metadata": "{}",
         "name": "DS_SITUACAO_CANDIDATURA",
         "type": "\"string\""
        },
        {
         "metadata": "{}",
         "name": "TP_AGREMIACAO",
         "type": "\"string\""
        },
        {
         "metadata": "{}",
         "name": "NR_PARTIDO",
         "type": "\"string\""
        },
        {
         "metadata": "{}",
         "name": "SG_PARTIDO",
         "type": "\"string\""
        },
        {
         "metadata": "{}",
         "name": "NM_PARTIDO",
         "type": "\"string\""
        },
        {
         "metadata": "{}",
         "name": "NR_FEDERACAO",
         "type": "\"string\""
        },
        {
         "metadata": "{}",
         "name": "NM_FEDERACAO",
         "type": "\"string\""
        },
        {
         "metadata": "{}",
         "name": "SG_FEDERACAO",
         "type": "\"string\""
        },
        {
         "metadata": "{}",
         "name": "DS_COMPOSICAO_FEDERACAO",
         "type": "\"string\""
        },
        {
         "metadata": "{}",
         "name": "SQ_COLIGACAO",
         "type": "\"string\""
        },
        {
         "metadata": "{}",
         "name": "NM_COLIGACAO",
         "type": "\"string\""
        },
        {
         "metadata": "{}",
         "name": "DS_COMPOSICAO_COLIGACAO",
         "type": "\"string\""
        },
        {
         "metadata": "{}",
         "name": "SG_UF_NASCIMENTO",
         "type": "\"string\""
        },
        {
         "metadata": "{}",
         "name": "DT_NASCIMENTO",
         "type": "\"string\""
        },
        {
         "metadata": "{}",
         "name": "NR_TITULO_ELEITORAL_CANDIDATO",
         "type": "\"string\""
        },
        {
         "metadata": "{}",
         "name": "CD_GENERO",
         "type": "\"string\""
        },
        {
         "metadata": "{}",
         "name": "DS_GENERO",
         "type": "\"string\""
        },
        {
         "metadata": "{}",
         "name": "CD_GRAU_INSTRUCAO",
         "type": "\"string\""
        },
        {
         "metadata": "{}",
         "name": "DS_GRAU_INSTRUCAO",
         "type": "\"string\""
        },
        {
         "metadata": "{}",
         "name": "CD_ESTADO_CIVIL",
         "type": "\"string\""
        },
        {
         "metadata": "{}",
         "name": "DS_ESTADO_CIVIL",
         "type": "\"string\""
        },
        {
         "metadata": "{}",
         "name": "CD_COR_RACA",
         "type": "\"string\""
        },
        {
         "metadata": "{}",
         "name": "DS_COR_RACA",
         "type": "\"string\""
        },
        {
         "metadata": "{}",
         "name": "CD_OCUPACAO",
         "type": "\"string\""
        },
        {
         "metadata": "{}",
         "name": "DS_OCUPACAO",
         "type": "\"string\""
        },
        {
         "metadata": "{}",
         "name": "CD_SIT_TOT_TURNO",
         "type": "\"string\""
        },
        {
         "metadata": "{}",
         "name": "DS_SIT_TOT_TURNO",
         "type": "\"string\""
        }
       ],
       "type": "table"
      }
     },
     "output_type": "display_data"
    }
   ],
   "source": [
    "%sql\n",
    "--Validação de um candidato\n",
    "SELECT \n",
    "*\n",
    "FROM \n",
    "  eleicao_bronze.candidatos\n",
    "WHERE \n",
    "  SQ_CANDIDATO = 130000634013"
   ]
  },
  {
   "cell_type": "markdown",
   "metadata": {
    "application/vnd.databricks.v1+cell": {
     "cellMetadata": {},
     "inputWidgets": {},
     "nuid": "d037c0bd-f27d-4280-994c-1c8cfca5ca86",
     "showTitle": false,
     "tableResultSettingsMap": {},
     "title": ""
    }
   },
   "source": [
    "Repare que o candidato de código '130000634013' no ano de 2020 participou do segundo turno da eleição, assim possuindo duas entradas de dados para o respectivo ano."
   ]
  },
  {
   "cell_type": "code",
   "execution_count": 0,
   "metadata": {
    "application/vnd.databricks.v1+cell": {
     "cellMetadata": {
      "byteLimit": 2048000,
      "implicitDf": true,
      "rowLimit": 10000
     },
     "inputWidgets": {},
     "nuid": "cb1b2b81-de25-4e58-a3e0-f4439e976fd2",
     "showTitle": false,
     "tableResultSettingsMap": {},
     "title": ""
    }
   },
   "outputs": [
    {
     "output_type": "display_data",
     "data": {
      "text/html": [
       "<style scoped>\n",
       "  .table-result-container {\n",
       "    max-height: 300px;\n",
       "    overflow: auto;\n",
       "  }\n",
       "  table, th, td {\n",
       "    border: 1px solid black;\n",
       "    border-collapse: collapse;\n",
       "  }\n",
       "  th, td {\n",
       "    padding: 5px;\n",
       "  }\n",
       "  th {\n",
       "    text-align: left;\n",
       "  }\n",
       "</style><div class='table-result-container'><table class='table-result'><thead style='background-color: white'><tr><th>VALORES_NULOS</th></tr></thead><tbody><tr><td>0</td></tr></tbody></table></div>"
      ]
     },
     "metadata": {
      "application/vnd.databricks.v1+output": {
       "addedWidgets": {},
       "aggData": [],
       "aggError": "",
       "aggOverflow": false,
       "aggSchema": [],
       "aggSeriesLimitReached": false,
       "aggType": "",
       "arguments": {},
       "columnCustomDisplayInfos": {},
       "data": [
        [
         0
        ]
       ],
       "datasetInfos": [],
       "dbfsResultPath": null,
       "isJsonSchema": true,
       "metadata": {},
       "overflow": false,
       "plotOptions": {
        "customPlotOptions": {},
        "displayType": "table",
        "pivotAggregation": null,
        "pivotColumns": null,
        "xColumns": null,
        "yColumns": null
       },
       "removedWidgets": [],
       "schema": [
        {
         "metadata": "{}",
         "name": "VALORES_NULOS",
         "type": "\"long\""
        }
       ],
       "type": "table"
      }
     },
     "output_type": "display_data"
    }
   ],
   "source": [
    "%sql\n",
    "---Validação de Nulos no campo NR_CPF_CANDIDATO\n",
    "SELECT \n",
    "  COUNT(*) AS VALORES_NULOS\n",
    "FROM \n",
    "  eleicao_bronze.candidatos\n",
    "WHERE \n",
    "  NR_CPF_CANDIDATO IS NULL"
   ]
  },
  {
   "cell_type": "code",
   "execution_count": 0,
   "metadata": {
    "application/vnd.databricks.v1+cell": {
     "cellMetadata": {
      "byteLimit": 2048000,
      "implicitDf": true,
      "rowLimit": 10000
     },
     "inputWidgets": {},
     "nuid": "e48b9e9c-4605-472c-8e85-c41f8419bd29",
     "showTitle": false,
     "tableResultSettingsMap": {},
     "title": ""
    }
   },
   "outputs": [
    {
     "output_type": "stream",
     "name": "stdout",
     "output_type": "stream",
     "text": [
      "+---------------------+\n|len(NR_CPF_CANDIDATO)|\n+---------------------+\n|                   11|\n|                    2|\n+---------------------+\n\n"
     ]
    }
   ],
   "source": [
    "#Validando tamanho das entradas do campo SQ_CANDIDATO\n",
    "spark.sql(\"SELECT DISTINCT LEN(NR_CPF_CANDIDATO) FROM eleicao_bronze.candidatos\").show()"
   ]
  },
  {
   "cell_type": "markdown",
   "metadata": {
    "application/vnd.databricks.v1+cell": {
     "cellMetadata": {},
     "inputWidgets": {},
     "nuid": "b8885d2f-d494-4642-8067-0a822ab3e6ec",
     "showTitle": false,
     "tableResultSettingsMap": {},
     "title": ""
    }
   },
   "source": [
    "Há dados com dois tamanhos distintos no campo \"NR_CPF_CANDIDATO\""
   ]
  },
  {
   "cell_type": "code",
   "execution_count": 0,
   "metadata": {
    "application/vnd.databricks.v1+cell": {
     "cellMetadata": {
      "byteLimit": 2048000,
      "rowLimit": 10000
     },
     "inputWidgets": {},
     "nuid": "83d3b965-1b08-4584-a49a-1c3982c7e357",
     "showTitle": false,
     "tableResultSettingsMap": {},
     "title": ""
    }
   },
   "outputs": [
    {
     "output_type": "display_data",
     "data": {
      "text/html": [
       "<style scoped>\n",
       "  .table-result-container {\n",
       "    max-height: 300px;\n",
       "    overflow: auto;\n",
       "  }\n",
       "  table, th, td {\n",
       "    border: 1px solid black;\n",
       "    border-collapse: collapse;\n",
       "  }\n",
       "  th, td {\n",
       "    padding: 5px;\n",
       "  }\n",
       "  th {\n",
       "    text-align: left;\n",
       "  }\n",
       "</style><div class='table-result-container'><table class='table-result'><thead style='background-color: white'><tr><th>DT_GERACAO</th><th>HH_GERACAO</th><th>ANO_ELEICAO</th><th>CD_TIPO_ELEICAO</th><th>NM_TIPO_ELEICAO</th><th>NR_TURNO</th><th>CD_ELEICAO</th><th>DS_ELEICAO</th><th>DT_ELEICAO</th><th>TP_ABRANGENCIA</th><th>SG_UF</th><th>SG_UE</th><th>NM_UE</th><th>CD_CARGO</th><th>DS_CARGO</th><th>SQ_CANDIDATO</th><th>NR_CANDIDATO</th><th>NM_CANDIDATO</th><th>NM_URNA_CANDIDATO</th><th>NM_SOCIAL_CANDIDATO</th><th>NR_CPF_CANDIDATO</th><th>DS_EMAIL</th><th>CD_SITUACAO_CANDIDATURA</th><th>DS_SITUACAO_CANDIDATURA</th><th>TP_AGREMIACAO</th><th>NR_PARTIDO</th><th>SG_PARTIDO</th><th>NM_PARTIDO</th><th>NR_FEDERACAO</th><th>NM_FEDERACAO</th><th>SG_FEDERACAO</th><th>DS_COMPOSICAO_FEDERACAO</th><th>SQ_COLIGACAO</th><th>NM_COLIGACAO</th><th>DS_COMPOSICAO_COLIGACAO</th><th>SG_UF_NASCIMENTO</th><th>DT_NASCIMENTO</th><th>NR_TITULO_ELEITORAL_CANDIDATO</th><th>CD_GENERO</th><th>DS_GENERO</th><th>CD_GRAU_INSTRUCAO</th><th>DS_GRAU_INSTRUCAO</th><th>CD_ESTADO_CIVIL</th><th>DS_ESTADO_CIVIL</th><th>CD_COR_RACA</th><th>DS_COR_RACA</th><th>CD_OCUPACAO</th><th>DS_OCUPACAO</th><th>CD_SIT_TOT_TURNO</th><th>DS_SIT_TOT_TURNO</th></tr></thead><tbody><tr><td>22/01/2025</td><td>15:04:00</td><td>2020</td><td>2</td><td>ELEIÇÃO ORDINÁRIA</td><td>1</td><td>426</td><td>Eleições Municipais 2020</td><td>15/11/2020</td><td>MUNICIPAL</td><td>SP</td><td>69213</td><td>PRAIA GRANDE</td><td>13</td><td>VEREADOR</td><td>250001227466</td><td>28111</td><td>HUMBERTO FREDERICO OLIVEIRA</td><td>HUMBERTO DO APP</td><td>NÃO DIVULGÁVEL</td><td>-4</td><td>NÃO DIVULGÁVEL</td><td>3</td><td>INAPTO</td><td>PARTIDO ISOLADO</td><td>28</td><td>PRTB</td><td>PARTIDO RENOVADOR TRABALHISTA BRASILEIRO</td><td>-1</td><td>#NULO#</td><td>#NULO#</td><td>#NULO#</td><td>250000151552</td><td>PARTIDO ISOLADO</td><td>PRTB</td><td>Não divulgável</td><td>null</td><td>-4</td><td>-4</td><td>NÃO DIVULGÁVEL</td><td>-4</td><td>NÃO DIVULGÁVEL</td><td>-4</td><td>NÃO DIVULGÁVEL</td><td>-4</td><td>NÃO DIVULGÁVEL</td><td>-4</td><td>NÃO DIVULGÁVEL</td><td>-1</td><td>#NULO#</td></tr><tr><td>22/01/2025</td><td>15:04:00</td><td>2020</td><td>2</td><td>ELEIÇÃO ORDINÁRIA</td><td>1</td><td>426</td><td>Eleições Municipais 2020</td><td>15/11/2020</td><td>MUNICIPAL</td><td>GO</td><td>93777</td><td>GOIÁS</td><td>13</td><td>VEREADOR</td><td>90000802937</td><td>13000</td><td>TIAGO RODRIGUES GALVÃO</td><td>TIAGO GALVÃO</td><td>NÃO DIVULGÁVEL</td><td>-4</td><td>NÃO DIVULGÁVEL</td><td>3</td><td>INAPTO</td><td>PARTIDO ISOLADO</td><td>13</td><td>PT</td><td>PARTIDO DOS TRABALHADORES</td><td>-1</td><td>#NULO#</td><td>#NULO#</td><td>#NULO#</td><td>90000079246</td><td>PARTIDO ISOLADO</td><td>PT</td><td>Não divulgável</td><td>null</td><td>-4</td><td>-4</td><td>NÃO DIVULGÁVEL</td><td>-4</td><td>NÃO DIVULGÁVEL</td><td>-4</td><td>NÃO DIVULGÁVEL</td><td>-4</td><td>NÃO DIVULGÁVEL</td><td>-4</td><td>NÃO DIVULGÁVEL</td><td>-1</td><td>#NULO#</td></tr><tr><td>22/01/2025</td><td>15:04:00</td><td>2020</td><td>2</td><td>ELEIÇÃO ORDINÁRIA</td><td>1</td><td>426</td><td>Eleições Municipais 2020</td><td>15/11/2020</td><td>MUNICIPAL</td><td>MG</td><td>47910</td><td>MANTENA</td><td>13</td><td>VEREADOR</td><td>130000766300</td><td>20333</td><td>ALEXANDRA ALVES LIMA FONSECA</td><td>ALEXANDRA FONSECA</td><td>NÃO DIVULGÁVEL</td><td>-4</td><td>NÃO DIVULGÁVEL</td><td>3</td><td>INAPTO</td><td>PARTIDO ISOLADO</td><td>20</td><td>PSC</td><td>PARTIDO SOCIAL CRISTÃO</td><td>-1</td><td>#NULO#</td><td>#NULO#</td><td>#NULO#</td><td>130000073901</td><td>PARTIDO ISOLADO</td><td>PSC</td><td>Não divulgável</td><td>null</td><td>-4</td><td>-4</td><td>NÃO DIVULGÁVEL</td><td>-4</td><td>NÃO DIVULGÁVEL</td><td>-4</td><td>NÃO DIVULGÁVEL</td><td>-4</td><td>NÃO DIVULGÁVEL</td><td>-4</td><td>NÃO DIVULGÁVEL</td><td>-1</td><td>#NULO#</td></tr><tr><td>22/01/2025</td><td>15:04:00</td><td>2020</td><td>2</td><td>ELEIÇÃO ORDINÁRIA</td><td>1</td><td>426</td><td>Eleições Municipais 2020</td><td>15/11/2020</td><td>MUNICIPAL</td><td>AC</td><td>01074</td><td>CRUZEIRO DO SUL</td><td>13</td><td>VEREADOR</td><td>10001154410</td><td>11112</td><td>ELIELSON PEREIRA LIMA</td><td>ELIELSON ALMEIDA</td><td>NÃO DIVULGÁVEL</td><td>-4</td><td>NÃO DIVULGÁVEL</td><td>3</td><td>INAPTO</td><td>PARTIDO ISOLADO</td><td>11</td><td>PP</td><td>PROGRESSISTAS</td><td>-1</td><td>#NULO#</td><td>#NULO#</td><td>#NULO#</td><td>10000140252</td><td>PARTIDO ISOLADO</td><td>PP</td><td>Não divulgável</td><td>null</td><td>-4</td><td>-4</td><td>NÃO DIVULGÁVEL</td><td>-4</td><td>NÃO DIVULGÁVEL</td><td>-4</td><td>NÃO DIVULGÁVEL</td><td>-4</td><td>NÃO DIVULGÁVEL</td><td>-4</td><td>NÃO DIVULGÁVEL</td><td>-1</td><td>#NULO#</td></tr><tr><td>22/01/2025</td><td>15:04:00</td><td>2020</td><td>2</td><td>ELEIÇÃO ORDINÁRIA</td><td>1</td><td>426</td><td>Eleições Municipais 2020</td><td>15/11/2020</td><td>MUNICIPAL</td><td>RJ</td><td>58912</td><td>SANTA MARIA MADALENA</td><td>13</td><td>VEREADOR</td><td>190001261331</td><td>10510</td><td>JOSELMA POUBEL PIZZO</td><td>PROFESSORA JOSELMA</td><td>NÃO DIVULGÁVEL</td><td>-4</td><td>NÃO DIVULGÁVEL</td><td>3</td><td>INAPTO</td><td>PARTIDO ISOLADO</td><td>10</td><td>REPUBLICANOS</td><td>REPUBLICANOS</td><td>-1</td><td>#NULO#</td><td>#NULO#</td><td>#NULO#</td><td>190000163490</td><td>PARTIDO ISOLADO</td><td>REPUBLICANOS</td><td>Não divulgável</td><td>null</td><td>-4</td><td>-4</td><td>NÃO DIVULGÁVEL</td><td>-4</td><td>NÃO DIVULGÁVEL</td><td>-4</td><td>NÃO DIVULGÁVEL</td><td>-4</td><td>NÃO DIVULGÁVEL</td><td>-4</td><td>NÃO DIVULGÁVEL</td><td>-1</td><td>#NULO#</td></tr><tr><td>22/01/2025</td><td>15:04:00</td><td>2020</td><td>2</td><td>ELEIÇÃO ORDINÁRIA</td><td>1</td><td>426</td><td>Eleições Municipais 2020</td><td>15/11/2020</td><td>MUNICIPAL</td><td>AC</td><td>01392</td><td>RIO BRANCO</td><td>13</td><td>VEREADOR</td><td>10000966738</td><td>17145</td><td>LEONEIDE OLIVEIRA DOS SANTOS</td><td>LEO DO WALDEMAR MARCIEL</td><td>NÃO DIVULGÁVEL</td><td>-4</td><td>NÃO DIVULGÁVEL</td><td>3</td><td>INAPTO</td><td>PARTIDO ISOLADO</td><td>17</td><td>PSL</td><td>PARTIDO SOCIAL LIBERAL</td><td>-1</td><td>#NULO#</td><td>#NULO#</td><td>#NULO#</td><td>10000112373</td><td>PARTIDO ISOLADO</td><td>PSL</td><td>Não divulgável</td><td>null</td><td>-4</td><td>-4</td><td>NÃO DIVULGÁVEL</td><td>-4</td><td>NÃO DIVULGÁVEL</td><td>-4</td><td>NÃO DIVULGÁVEL</td><td>-4</td><td>NÃO DIVULGÁVEL</td><td>-4</td><td>NÃO DIVULGÁVEL</td><td>-1</td><td>#NULO#</td></tr><tr><td>22/01/2025</td><td>15:04:00</td><td>2020</td><td>2</td><td>ELEIÇÃO ORDINÁRIA</td><td>1</td><td>426</td><td>Eleições Municipais 2020</td><td>15/11/2020</td><td>MUNICIPAL</td><td>MT</td><td>90719</td><td>DOM AQUINO</td><td>11</td><td>PREFEITO</td><td>110001039007</td><td>22</td><td>VALDECIO LUIZ DA COSTA</td><td>ZÃO</td><td>NÃO DIVULGÁVEL</td><td>-4</td><td>NÃO DIVULGÁVEL</td><td>3</td><td>INAPTO</td><td>COLIGAÇÃO</td><td>22</td><td>PL</td><td>PARTIDO LIBERAL</td><td>-1</td><td>#NULO#</td><td>#NULO#</td><td>#NULO#</td><td>110000125370</td><td>QUEM AMA CUIDA</td><td>PSC / MDB / PL</td><td>Não divulgável</td><td>null</td><td>-4</td><td>-4</td><td>NÃO DIVULGÁVEL</td><td>-4</td><td>NÃO DIVULGÁVEL</td><td>-4</td><td>NÃO DIVULGÁVEL</td><td>-4</td><td>NÃO DIVULGÁVEL</td><td>-4</td><td>NÃO DIVULGÁVEL</td><td>-1</td><td>#NULO#</td></tr><tr><td>22/01/2025</td><td>15:04:00</td><td>2020</td><td>2</td><td>ELEIÇÃO ORDINÁRIA</td><td>1</td><td>426</td><td>Eleições Municipais 2020</td><td>15/11/2020</td><td>MUNICIPAL</td><td>SP</td><td>61697</td><td>AREIAS</td><td>12</td><td>VICE-PREFEITO</td><td>250000897524</td><td>45</td><td>ANA PAULA BARBOSA ALVES</td><td>PAULA DO ZÉ ANTÔNIO</td><td>NÃO DIVULGÁVEL</td><td>-4</td><td>NÃO DIVULGÁVEL</td><td>3</td><td>INAPTO</td><td>COLIGAÇÃO</td><td>45</td><td>PSDB</td><td>PARTIDO DA SOCIAL DEMOCRACIA BRASILEIRA</td><td>-1</td><td>#NULO#</td><td>#NULO#</td><td>#NULO#</td><td>250000101721</td><td>COMPROMISSO E RESPEITO COM O POVO DE AREIAS</td><td>PSDB / PL / SOLIDARIEDADE</td><td>Não divulgável</td><td>null</td><td>-4</td><td>-4</td><td>NÃO DIVULGÁVEL</td><td>-4</td><td>NÃO DIVULGÁVEL</td><td>-4</td><td>NÃO DIVULGÁVEL</td><td>-4</td><td>NÃO DIVULGÁVEL</td><td>-4</td><td>NÃO DIVULGÁVEL</td><td>-1</td><td>#NULO#</td></tr><tr><td>22/01/2025</td><td>15:04:00</td><td>2020</td><td>2</td><td>ELEIÇÃO ORDINÁRIA</td><td>1</td><td>426</td><td>Eleições Municipais 2020</td><td>15/11/2020</td><td>MUNICIPAL</td><td>GO</td><td>94870</td><td>NERÓPOLIS</td><td>12</td><td>VICE-PREFEITO</td><td>90000988639</td><td>10</td><td>LUIZ ALBERTO FRANCO ARAUJO</td><td>DR LUIZ</td><td>NÃO DIVULGÁVEL</td><td>-4</td><td>NÃO DIVULGÁVEL</td><td>3</td><td>INAPTO</td><td>COLIGAÇÃO</td><td>10</td><td>REPUBLICANOS</td><td>REPUBLICANOS</td><td>-1</td><td>#NULO#</td><td>#NULO#</td><td>#NULO#</td><td>90000115784</td><td>COMPETÊNCIA PARA CONSTRUIR O FUTURO</td><td>PP / CIDADANIA / PSD / REPUBLICANOS</td><td>Não divulgável</td><td>null</td><td>-4</td><td>-4</td><td>NÃO DIVULGÁVEL</td><td>-4</td><td>NÃO DIVULGÁVEL</td><td>-4</td><td>NÃO DIVULGÁVEL</td><td>-4</td><td>NÃO DIVULGÁVEL</td><td>-4</td><td>NÃO DIVULGÁVEL</td><td>-1</td><td>#NULO#</td></tr><tr><td>22/01/2025</td><td>15:04:00</td><td>2020</td><td>2</td><td>ELEIÇÃO ORDINÁRIA</td><td>1</td><td>426</td><td>Eleições Municipais 2020</td><td>15/11/2020</td><td>MUNICIPAL</td><td>RJ</td><td>58912</td><td>SANTA MARIA MADALENA</td><td>13</td><td>VEREADOR</td><td>190001261348</td><td>28038</td><td>BRUNO SILVA MORENO</td><td>BRUNO MORENO</td><td>NÃO DIVULGÁVEL</td><td>-4</td><td>NÃO DIVULGÁVEL</td><td>3</td><td>INAPTO</td><td>PARTIDO ISOLADO</td><td>28</td><td>PRTB</td><td>PARTIDO RENOVADOR TRABALHISTA BRASILEIRO</td><td>-1</td><td>#NULO#</td><td>#NULO#</td><td>#NULO#</td><td>190000163495</td><td>PARTIDO ISOLADO</td><td>PRTB</td><td>Não divulgável</td><td>null</td><td>-4</td><td>-4</td><td>NÃO DIVULGÁVEL</td><td>-4</td><td>NÃO DIVULGÁVEL</td><td>-4</td><td>NÃO DIVULGÁVEL</td><td>-4</td><td>NÃO DIVULGÁVEL</td><td>-4</td><td>NÃO DIVULGÁVEL</td><td>-1</td><td>#NULO#</td></tr></tbody></table></div>"
      ]
     },
     "metadata": {
      "application/vnd.databricks.v1+output": {
       "addedWidgets": {},
       "aggData": [],
       "aggError": "",
       "aggOverflow": false,
       "aggSchema": [],
       "aggSeriesLimitReached": false,
       "aggType": "",
       "arguments": {},
       "columnCustomDisplayInfos": {},
       "data": [
        [
         "22/01/2025",
         "15:04:00",
         "2020",
         "2",
         "ELEIÇÃO ORDINÁRIA",
         "1",
         "426",
         "Eleições Municipais 2020",
         "15/11/2020",
         "MUNICIPAL",
         "SP",
         "69213",
         "PRAIA GRANDE",
         "13",
         "VEREADOR",
         "250001227466",
         "28111",
         "HUMBERTO FREDERICO OLIVEIRA",
         "HUMBERTO DO APP",
         "NÃO DIVULGÁVEL",
         "-4",
         "NÃO DIVULGÁVEL",
         "3",
         "INAPTO",
         "PARTIDO ISOLADO",
         "28",
         "PRTB",
         "PARTIDO RENOVADOR TRABALHISTA BRASILEIRO",
         "-1",
         "#NULO#",
         "#NULO#",
         "#NULO#",
         "250000151552",
         "PARTIDO ISOLADO",
         "PRTB",
         "Não divulgável",
         null,
         "-4",
         "-4",
         "NÃO DIVULGÁVEL",
         "-4",
         "NÃO DIVULGÁVEL",
         "-4",
         "NÃO DIVULGÁVEL",
         "-4",
         "NÃO DIVULGÁVEL",
         "-4",
         "NÃO DIVULGÁVEL",
         "-1",
         "#NULO#"
        ],
        [
         "22/01/2025",
         "15:04:00",
         "2020",
         "2",
         "ELEIÇÃO ORDINÁRIA",
         "1",
         "426",
         "Eleições Municipais 2020",
         "15/11/2020",
         "MUNICIPAL",
         "GO",
         "93777",
         "GOIÁS",
         "13",
         "VEREADOR",
         "90000802937",
         "13000",
         "TIAGO RODRIGUES GALVÃO",
         "TIAGO GALVÃO",
         "NÃO DIVULGÁVEL",
         "-4",
         "NÃO DIVULGÁVEL",
         "3",
         "INAPTO",
         "PARTIDO ISOLADO",
         "13",
         "PT",
         "PARTIDO DOS TRABALHADORES",
         "-1",
         "#NULO#",
         "#NULO#",
         "#NULO#",
         "90000079246",
         "PARTIDO ISOLADO",
         "PT",
         "Não divulgável",
         null,
         "-4",
         "-4",
         "NÃO DIVULGÁVEL",
         "-4",
         "NÃO DIVULGÁVEL",
         "-4",
         "NÃO DIVULGÁVEL",
         "-4",
         "NÃO DIVULGÁVEL",
         "-4",
         "NÃO DIVULGÁVEL",
         "-1",
         "#NULO#"
        ],
        [
         "22/01/2025",
         "15:04:00",
         "2020",
         "2",
         "ELEIÇÃO ORDINÁRIA",
         "1",
         "426",
         "Eleições Municipais 2020",
         "15/11/2020",
         "MUNICIPAL",
         "MG",
         "47910",
         "MANTENA",
         "13",
         "VEREADOR",
         "130000766300",
         "20333",
         "ALEXANDRA ALVES LIMA FONSECA",
         "ALEXANDRA FONSECA",
         "NÃO DIVULGÁVEL",
         "-4",
         "NÃO DIVULGÁVEL",
         "3",
         "INAPTO",
         "PARTIDO ISOLADO",
         "20",
         "PSC",
         "PARTIDO SOCIAL CRISTÃO",
         "-1",
         "#NULO#",
         "#NULO#",
         "#NULO#",
         "130000073901",
         "PARTIDO ISOLADO",
         "PSC",
         "Não divulgável",
         null,
         "-4",
         "-4",
         "NÃO DIVULGÁVEL",
         "-4",
         "NÃO DIVULGÁVEL",
         "-4",
         "NÃO DIVULGÁVEL",
         "-4",
         "NÃO DIVULGÁVEL",
         "-4",
         "NÃO DIVULGÁVEL",
         "-1",
         "#NULO#"
        ],
        [
         "22/01/2025",
         "15:04:00",
         "2020",
         "2",
         "ELEIÇÃO ORDINÁRIA",
         "1",
         "426",
         "Eleições Municipais 2020",
         "15/11/2020",
         "MUNICIPAL",
         "AC",
         "01074",
         "CRUZEIRO DO SUL",
         "13",
         "VEREADOR",
         "10001154410",
         "11112",
         "ELIELSON PEREIRA LIMA",
         "ELIELSON ALMEIDA",
         "NÃO DIVULGÁVEL",
         "-4",
         "NÃO DIVULGÁVEL",
         "3",
         "INAPTO",
         "PARTIDO ISOLADO",
         "11",
         "PP",
         "PROGRESSISTAS",
         "-1",
         "#NULO#",
         "#NULO#",
         "#NULO#",
         "10000140252",
         "PARTIDO ISOLADO",
         "PP",
         "Não divulgável",
         null,
         "-4",
         "-4",
         "NÃO DIVULGÁVEL",
         "-4",
         "NÃO DIVULGÁVEL",
         "-4",
         "NÃO DIVULGÁVEL",
         "-4",
         "NÃO DIVULGÁVEL",
         "-4",
         "NÃO DIVULGÁVEL",
         "-1",
         "#NULO#"
        ],
        [
         "22/01/2025",
         "15:04:00",
         "2020",
         "2",
         "ELEIÇÃO ORDINÁRIA",
         "1",
         "426",
         "Eleições Municipais 2020",
         "15/11/2020",
         "MUNICIPAL",
         "RJ",
         "58912",
         "SANTA MARIA MADALENA",
         "13",
         "VEREADOR",
         "190001261331",
         "10510",
         "JOSELMA POUBEL PIZZO",
         "PROFESSORA JOSELMA",
         "NÃO DIVULGÁVEL",
         "-4",
         "NÃO DIVULGÁVEL",
         "3",
         "INAPTO",
         "PARTIDO ISOLADO",
         "10",
         "REPUBLICANOS",
         "REPUBLICANOS",
         "-1",
         "#NULO#",
         "#NULO#",
         "#NULO#",
         "190000163490",
         "PARTIDO ISOLADO",
         "REPUBLICANOS",
         "Não divulgável",
         null,
         "-4",
         "-4",
         "NÃO DIVULGÁVEL",
         "-4",
         "NÃO DIVULGÁVEL",
         "-4",
         "NÃO DIVULGÁVEL",
         "-4",
         "NÃO DIVULGÁVEL",
         "-4",
         "NÃO DIVULGÁVEL",
         "-1",
         "#NULO#"
        ],
        [
         "22/01/2025",
         "15:04:00",
         "2020",
         "2",
         "ELEIÇÃO ORDINÁRIA",
         "1",
         "426",
         "Eleições Municipais 2020",
         "15/11/2020",
         "MUNICIPAL",
         "AC",
         "01392",
         "RIO BRANCO",
         "13",
         "VEREADOR",
         "10000966738",
         "17145",
         "LEONEIDE OLIVEIRA DOS SANTOS",
         "LEO DO WALDEMAR MARCIEL",
         "NÃO DIVULGÁVEL",
         "-4",
         "NÃO DIVULGÁVEL",
         "3",
         "INAPTO",
         "PARTIDO ISOLADO",
         "17",
         "PSL",
         "PARTIDO SOCIAL LIBERAL",
         "-1",
         "#NULO#",
         "#NULO#",
         "#NULO#",
         "10000112373",
         "PARTIDO ISOLADO",
         "PSL",
         "Não divulgável",
         null,
         "-4",
         "-4",
         "NÃO DIVULGÁVEL",
         "-4",
         "NÃO DIVULGÁVEL",
         "-4",
         "NÃO DIVULGÁVEL",
         "-4",
         "NÃO DIVULGÁVEL",
         "-4",
         "NÃO DIVULGÁVEL",
         "-1",
         "#NULO#"
        ],
        [
         "22/01/2025",
         "15:04:00",
         "2020",
         "2",
         "ELEIÇÃO ORDINÁRIA",
         "1",
         "426",
         "Eleições Municipais 2020",
         "15/11/2020",
         "MUNICIPAL",
         "MT",
         "90719",
         "DOM AQUINO",
         "11",
         "PREFEITO",
         "110001039007",
         "22",
         "VALDECIO LUIZ DA COSTA",
         "ZÃO",
         "NÃO DIVULGÁVEL",
         "-4",
         "NÃO DIVULGÁVEL",
         "3",
         "INAPTO",
         "COLIGAÇÃO",
         "22",
         "PL",
         "PARTIDO LIBERAL",
         "-1",
         "#NULO#",
         "#NULO#",
         "#NULO#",
         "110000125370",
         "QUEM AMA CUIDA",
         "PSC / MDB / PL",
         "Não divulgável",
         null,
         "-4",
         "-4",
         "NÃO DIVULGÁVEL",
         "-4",
         "NÃO DIVULGÁVEL",
         "-4",
         "NÃO DIVULGÁVEL",
         "-4",
         "NÃO DIVULGÁVEL",
         "-4",
         "NÃO DIVULGÁVEL",
         "-1",
         "#NULO#"
        ],
        [
         "22/01/2025",
         "15:04:00",
         "2020",
         "2",
         "ELEIÇÃO ORDINÁRIA",
         "1",
         "426",
         "Eleições Municipais 2020",
         "15/11/2020",
         "MUNICIPAL",
         "SP",
         "61697",
         "AREIAS",
         "12",
         "VICE-PREFEITO",
         "250000897524",
         "45",
         "ANA PAULA BARBOSA ALVES",
         "PAULA DO ZÉ ANTÔNIO",
         "NÃO DIVULGÁVEL",
         "-4",
         "NÃO DIVULGÁVEL",
         "3",
         "INAPTO",
         "COLIGAÇÃO",
         "45",
         "PSDB",
         "PARTIDO DA SOCIAL DEMOCRACIA BRASILEIRA",
         "-1",
         "#NULO#",
         "#NULO#",
         "#NULO#",
         "250000101721",
         "COMPROMISSO E RESPEITO COM O POVO DE AREIAS",
         "PSDB / PL / SOLIDARIEDADE",
         "Não divulgável",
         null,
         "-4",
         "-4",
         "NÃO DIVULGÁVEL",
         "-4",
         "NÃO DIVULGÁVEL",
         "-4",
         "NÃO DIVULGÁVEL",
         "-4",
         "NÃO DIVULGÁVEL",
         "-4",
         "NÃO DIVULGÁVEL",
         "-1",
         "#NULO#"
        ],
        [
         "22/01/2025",
         "15:04:00",
         "2020",
         "2",
         "ELEIÇÃO ORDINÁRIA",
         "1",
         "426",
         "Eleições Municipais 2020",
         "15/11/2020",
         "MUNICIPAL",
         "GO",
         "94870",
         "NERÓPOLIS",
         "12",
         "VICE-PREFEITO",
         "90000988639",
         "10",
         "LUIZ ALBERTO FRANCO ARAUJO",
         "DR LUIZ",
         "NÃO DIVULGÁVEL",
         "-4",
         "NÃO DIVULGÁVEL",
         "3",
         "INAPTO",
         "COLIGAÇÃO",
         "10",
         "REPUBLICANOS",
         "REPUBLICANOS",
         "-1",
         "#NULO#",
         "#NULO#",
         "#NULO#",
         "90000115784",
         "COMPETÊNCIA PARA CONSTRUIR O FUTURO",
         "PP / CIDADANIA / PSD / REPUBLICANOS",
         "Não divulgável",
         null,
         "-4",
         "-4",
         "NÃO DIVULGÁVEL",
         "-4",
         "NÃO DIVULGÁVEL",
         "-4",
         "NÃO DIVULGÁVEL",
         "-4",
         "NÃO DIVULGÁVEL",
         "-4",
         "NÃO DIVULGÁVEL",
         "-1",
         "#NULO#"
        ],
        [
         "22/01/2025",
         "15:04:00",
         "2020",
         "2",
         "ELEIÇÃO ORDINÁRIA",
         "1",
         "426",
         "Eleições Municipais 2020",
         "15/11/2020",
         "MUNICIPAL",
         "RJ",
         "58912",
         "SANTA MARIA MADALENA",
         "13",
         "VEREADOR",
         "190001261348",
         "28038",
         "BRUNO SILVA MORENO",
         "BRUNO MORENO",
         "NÃO DIVULGÁVEL",
         "-4",
         "NÃO DIVULGÁVEL",
         "3",
         "INAPTO",
         "PARTIDO ISOLADO",
         "28",
         "PRTB",
         "PARTIDO RENOVADOR TRABALHISTA BRASILEIRO",
         "-1",
         "#NULO#",
         "#NULO#",
         "#NULO#",
         "190000163495",
         "PARTIDO ISOLADO",
         "PRTB",
         "Não divulgável",
         null,
         "-4",
         "-4",
         "NÃO DIVULGÁVEL",
         "-4",
         "NÃO DIVULGÁVEL",
         "-4",
         "NÃO DIVULGÁVEL",
         "-4",
         "NÃO DIVULGÁVEL",
         "-4",
         "NÃO DIVULGÁVEL",
         "-1",
         "#NULO#"
        ]
       ],
       "datasetInfos": [],
       "dbfsResultPath": null,
       "isJsonSchema": true,
       "metadata": {},
       "overflow": false,
       "plotOptions": {
        "customPlotOptions": {},
        "displayType": "table",
        "pivotAggregation": null,
        "pivotColumns": null,
        "xColumns": null,
        "yColumns": null
       },
       "removedWidgets": [],
       "schema": [
        {
         "metadata": "{}",
         "name": "DT_GERACAO",
         "type": "\"string\""
        },
        {
         "metadata": "{}",
         "name": "HH_GERACAO",
         "type": "\"string\""
        },
        {
         "metadata": "{}",
         "name": "ANO_ELEICAO",
         "type": "\"string\""
        },
        {
         "metadata": "{}",
         "name": "CD_TIPO_ELEICAO",
         "type": "\"string\""
        },
        {
         "metadata": "{}",
         "name": "NM_TIPO_ELEICAO",
         "type": "\"string\""
        },
        {
         "metadata": "{}",
         "name": "NR_TURNO",
         "type": "\"string\""
        },
        {
         "metadata": "{}",
         "name": "CD_ELEICAO",
         "type": "\"string\""
        },
        {
         "metadata": "{}",
         "name": "DS_ELEICAO",
         "type": "\"string\""
        },
        {
         "metadata": "{}",
         "name": "DT_ELEICAO",
         "type": "\"string\""
        },
        {
         "metadata": "{}",
         "name": "TP_ABRANGENCIA",
         "type": "\"string\""
        },
        {
         "metadata": "{}",
         "name": "SG_UF",
         "type": "\"string\""
        },
        {
         "metadata": "{}",
         "name": "SG_UE",
         "type": "\"string\""
        },
        {
         "metadata": "{}",
         "name": "NM_UE",
         "type": "\"string\""
        },
        {
         "metadata": "{}",
         "name": "CD_CARGO",
         "type": "\"string\""
        },
        {
         "metadata": "{}",
         "name": "DS_CARGO",
         "type": "\"string\""
        },
        {
         "metadata": "{}",
         "name": "SQ_CANDIDATO",
         "type": "\"string\""
        },
        {
         "metadata": "{}",
         "name": "NR_CANDIDATO",
         "type": "\"string\""
        },
        {
         "metadata": "{}",
         "name": "NM_CANDIDATO",
         "type": "\"string\""
        },
        {
         "metadata": "{}",
         "name": "NM_URNA_CANDIDATO",
         "type": "\"string\""
        },
        {
         "metadata": "{}",
         "name": "NM_SOCIAL_CANDIDATO",
         "type": "\"string\""
        },
        {
         "metadata": "{}",
         "name": "NR_CPF_CANDIDATO",
         "type": "\"string\""
        },
        {
         "metadata": "{}",
         "name": "DS_EMAIL",
         "type": "\"string\""
        },
        {
         "metadata": "{}",
         "name": "CD_SITUACAO_CANDIDATURA",
         "type": "\"string\""
        },
        {
         "metadata": "{}",
         "name": "DS_SITUACAO_CANDIDATURA",
         "type": "\"string\""
        },
        {
         "metadata": "{}",
         "name": "TP_AGREMIACAO",
         "type": "\"string\""
        },
        {
         "metadata": "{}",
         "name": "NR_PARTIDO",
         "type": "\"string\""
        },
        {
         "metadata": "{}",
         "name": "SG_PARTIDO",
         "type": "\"string\""
        },
        {
         "metadata": "{}",
         "name": "NM_PARTIDO",
         "type": "\"string\""
        },
        {
         "metadata": "{}",
         "name": "NR_FEDERACAO",
         "type": "\"string\""
        },
        {
         "metadata": "{}",
         "name": "NM_FEDERACAO",
         "type": "\"string\""
        },
        {
         "metadata": "{}",
         "name": "SG_FEDERACAO",
         "type": "\"string\""
        },
        {
         "metadata": "{}",
         "name": "DS_COMPOSICAO_FEDERACAO",
         "type": "\"string\""
        },
        {
         "metadata": "{}",
         "name": "SQ_COLIGACAO",
         "type": "\"string\""
        },
        {
         "metadata": "{}",
         "name": "NM_COLIGACAO",
         "type": "\"string\""
        },
        {
         "metadata": "{}",
         "name": "DS_COMPOSICAO_COLIGACAO",
         "type": "\"string\""
        },
        {
         "metadata": "{}",
         "name": "SG_UF_NASCIMENTO",
         "type": "\"string\""
        },
        {
         "metadata": "{}",
         "name": "DT_NASCIMENTO",
         "type": "\"string\""
        },
        {
         "metadata": "{}",
         "name": "NR_TITULO_ELEITORAL_CANDIDATO",
         "type": "\"string\""
        },
        {
         "metadata": "{}",
         "name": "CD_GENERO",
         "type": "\"string\""
        },
        {
         "metadata": "{}",
         "name": "DS_GENERO",
         "type": "\"string\""
        },
        {
         "metadata": "{}",
         "name": "CD_GRAU_INSTRUCAO",
         "type": "\"string\""
        },
        {
         "metadata": "{}",
         "name": "DS_GRAU_INSTRUCAO",
         "type": "\"string\""
        },
        {
         "metadata": "{}",
         "name": "CD_ESTADO_CIVIL",
         "type": "\"string\""
        },
        {
         "metadata": "{}",
         "name": "DS_ESTADO_CIVIL",
         "type": "\"string\""
        },
        {
         "metadata": "{}",
         "name": "CD_COR_RACA",
         "type": "\"string\""
        },
        {
         "metadata": "{}",
         "name": "DS_COR_RACA",
         "type": "\"string\""
        },
        {
         "metadata": "{}",
         "name": "CD_OCUPACAO",
         "type": "\"string\""
        },
        {
         "metadata": "{}",
         "name": "DS_OCUPACAO",
         "type": "\"string\""
        },
        {
         "metadata": "{}",
         "name": "CD_SIT_TOT_TURNO",
         "type": "\"string\""
        },
        {
         "metadata": "{}",
         "name": "DS_SIT_TOT_TURNO",
         "type": "\"string\""
        }
       ],
       "type": "table"
      }
     },
     "output_type": "display_data"
    }
   ],
   "source": [
    "#Sample dos casos com 2 digitos\n",
    "df_teste = sqlContext.sql(\"SELECT * FROM eleicao_bronze.candidatos WHERE LEN(NR_CPF_CANDIDATO) = 2 LIMIT 10\")\n",
    "display(df_teste)"
   ]
  },
  {
   "cell_type": "markdown",
   "metadata": {
    "application/vnd.databricks.v1+cell": {
     "cellMetadata": {},
     "inputWidgets": {},
     "nuid": "b0f8dbc8-ce57-441d-9cdc-66b5929e56ff",
     "showTitle": false,
     "tableResultSettingsMap": {},
     "title": ""
    }
   },
   "source": [
    "Alguns casos de candidatos as colunas \"NR_CPF_CANDIDATO\" e \"NR_TITULO_ELEITORAL_CANDIDATO\" estão com o valor \"-4\", segundo documentação fornecida refere-se a candidatos com status de \"Não divulgável\", podendo ocorrer também no campo de \"DT_NASCIMENTO\", para esses casos o join será feito via nome do candidato e \"SG_UF_NASCIMENTO\" perdendo um pouco da confiabilidade, já que podem haver alterações de nome entre os períodos eleitorais"
   ]
  },
  {
   "cell_type": "markdown",
   "metadata": {
    "application/vnd.databricks.v1+cell": {
     "cellMetadata": {},
     "inputWidgets": {},
     "nuid": "91e622db-e070-4066-b756-c075384e5e16",
     "showTitle": false,
     "tableResultSettingsMap": {},
     "title": ""
    }
   },
   "source": [
    "### Pegar apenas a linha do turno 2 de candidatos\n",
    "\n",
    "Esse é um problema conhecido, infelizmente não muito otimizavel de se lidar, como solução vou criar uma tabela intermediária no silver layer schema, com o join da tabela com ela mesma filtrando a ocorrência de maior valor do turno de cada candidato.<br>\n",
    "\n",
    "OBS: nessa etapa também foram realizadas as conversões de datatype das colunas.\n",
    "\n",
    "Segue código:\n"
   ]
  },
  {
   "cell_type": "code",
   "execution_count": 0,
   "metadata": {
    "application/vnd.databricks.v1+cell": {
     "cellMetadata": {
      "byteLimit": 2048000,
      "rowLimit": 10000
     },
     "inputWidgets": {},
     "nuid": "5fb2f56b-61c1-4999-913a-d25e2a440b50",
     "showTitle": false,
     "tableResultSettingsMap": {},
     "title": ""
    }
   },
   "outputs": [
    {
     "output_type": "display_data",
     "data": {
      "text/html": [
       "<style scoped>\n",
       "  .table-result-container {\n",
       "    max-height: 300px;\n",
       "    overflow: auto;\n",
       "  }\n",
       "  table, th, td {\n",
       "    border: 1px solid black;\n",
       "    border-collapse: collapse;\n",
       "  }\n",
       "  th, td {\n",
       "    padding: 5px;\n",
       "  }\n",
       "  th {\n",
       "    text-align: left;\n",
       "  }\n",
       "</style><div class='table-result-container'><table class='table-result'><thead style='background-color: white'><tr><th>SQ_CANDIDATO</th><th>NM_CANDIDATO</th><th>NM_URNA_CANDIDATO</th><th>ANO_ELEICAO</th><th>TP_ABRANGENCIA</th><th>DT_ELEICAO</th><th>NR_CPF_CANDIDATO</th><th>NR_TITULO_ELEITORAL_CANDIDATO</th><th>DS_CARGO</th><th>DS_SITUACAO_CANDIDATURA</th><th>SG_PARTIDO</th><th>NM_PARTIDO</th><th>SG_UF_NASCIMENTO</th><th>DT_NASCIMENTO</th><th>DS_GENERO</th><th>DS_COR_RACA</th><th>DS_GRAU_INSTRUCAO</th><th>DS_ESTADO_CIVIL</th><th>DS_OCUPACAO</th><th>SG_UF</th><th>NM_UE</th><th>NR_TURNO</th><th>DS_SIT_TOT_TURNO</th></tr></thead><tbody><tr><td>250001265966</td><td>JOÃO BATISTA DOS SANTOS</td><td>JOÃO ZELADOR</td><td>2020</td><td>MUNICIPAL</td><td>2020-11-15</td><td>13534893883</td><td>292412220132</td><td>VEREADOR</td><td>INAPTO</td><td>DC</td><td>DEMOCRACIA CRISTÃ</td><td>SP</td><td>1970-03-05</td><td>MASCULINO</td><td>PARDA</td><td>ENSINO MÉDIO INCOMPLETO</td><td>CASADO(A)</td><td>GERENTE</td><td>SP</td><td>SÃO PAULO</td><td>1</td><td>NÃO ELEITO</td></tr><tr><td>250001268518</td><td>SILVIO ROBERTO VOCE</td><td>SILVIO VOCE</td><td>2020</td><td>MUNICIPAL</td><td>2020-11-15</td><td>90421213868</td><td>97094760159</td><td>VEREADOR</td><td>APTO</td><td>PRTB</td><td>PARTIDO RENOVADOR TRABALHISTA BRASILEIRO</td><td>SP</td><td>1953-04-15</td><td>MASCULINO</td><td>BRANCA</td><td>ENSINO MÉDIO COMPLETO</td><td>SOLTEIRO(A)</td><td>COMISSÁRIO DE BORDO</td><td>SP</td><td>SÃO PAULO</td><td>1</td><td>NÃO ELEITO</td></tr><tr><td>250000925963</td><td>ANDRESSA MACIEL DO NASCIMENTO</td><td>DEDE</td><td>2020</td><td>MUNICIPAL</td><td>2020-11-15</td><td>37174723802</td><td>344907730124</td><td>VEREADOR</td><td>INAPTO</td><td>PSC</td><td>PARTIDO SOCIAL CRISTÃO</td><td>SP</td><td>1988-11-20</td><td>FEMININO</td><td>PARDA</td><td>SUPERIOR INCOMPLETO</td><td>CASADO(A)</td><td>OUTROS</td><td>SP</td><td>SÃO PAULO</td><td>1</td><td>NÃO ELEITO</td></tr><tr><td>160001090215</td><td>EDEMAR RIBEIRO BORGES</td><td>NICO DA MARACANÃ</td><td>2020</td><td>MUNICIPAL</td><td>2020-11-15</td><td>62730614915</td><td>4079340655</td><td>VEREADOR</td><td>APTO</td><td>PRTB</td><td>PARTIDO RENOVADOR TRABALHISTA BRASILEIRO</td><td>PR</td><td>1965-01-05</td><td>MASCULINO</td><td>PARDA</td><td>ENSINO FUNDAMENTAL INCOMPLETO</td><td>SOLTEIRO(A)</td><td>MECÂNICO DE MANUTENÇÃO</td><td>PR</td><td>TUNAS DO PARANÁ</td><td>1</td><td>NÃO ELEITO</td></tr><tr><td>250001100745</td><td>ROSE LEILA RODASLI CHUERE</td><td>ROSE LEILA</td><td>2020</td><td>MUNICIPAL</td><td>2020-11-15</td><td>53450779834</td><td>156241700167</td><td>VEREADOR</td><td>INAPTO</td><td>PMB</td><td>PARTIDO DA MULHER BRASILEIRA</td><td>SP</td><td>1954-01-11</td><td>FEMININO</td><td>BRANCA</td><td>SUPERIOR COMPLETO</td><td>SOLTEIRO(A)</td><td>APOSENTADO (EXCETO SERVIDOR PÚBLICO)</td><td>SP</td><td>SÃO PAULO</td><td>1</td><td>NÃO ELEITO</td></tr><tr><td>250000984468</td><td>JOSÉ AMILTON CORREA</td><td>BIKUIRA</td><td>2020</td><td>MUNICIPAL</td><td>2020-11-15</td><td>26595781840</td><td>180429580124</td><td>VEREADOR</td><td>APTO</td><td>PSDB</td><td>PARTIDO DA SOCIAL DEMOCRACIA BRASILEIRA</td><td>PR</td><td>1972-08-17</td><td>MASCULINO</td><td>BRANCA</td><td>ENSINO MÉDIO COMPLETO</td><td>CASADO(A)</td><td>TRABALHADOR METALÚRGICO E SIDERÚRGICO</td><td>SP</td><td>SANTA BRANCA</td><td>1</td><td>SUPLENTE</td></tr><tr><td>160000869858</td><td>JOSÉ PINTO DE OLIVEIRA</td><td>ZÉ DE OLIVEIRA DO GÁS</td><td>2020</td><td>MUNICIPAL</td><td>2020-11-15</td><td>10132848953</td><td>34885470612</td><td>VEREADOR</td><td>APTO</td><td>PSL</td><td>PARTIDO SOCIAL LIBERAL</td><td>MG</td><td>1951-06-25</td><td>MASCULINO</td><td>BRANCA</td><td>LÊ E ESCREVE</td><td>CASADO(A)</td><td>COMERCIANTE</td><td>PR</td><td>FAXINAL</td><td>1</td><td>SUPLENTE</td></tr><tr><td>130000888282</td><td>EVERALDO MACEDO DOS SANTOS</td><td>EVERALDO DE ZÉ RODOVIÁRIA</td><td>2020</td><td>MUNICIPAL</td><td>2020-11-15</td><td>6747192630</td><td>146298280248</td><td>VEREADOR</td><td>APTO</td><td>PTB</td><td>PARTIDO TRABALHISTA BRASILEIRO</td><td>MG</td><td>1984-08-14</td><td>MASCULINO</td><td>PRETA</td><td>ENSINO FUNDAMENTAL COMPLETO</td><td>CASADO(A)</td><td>OUTROS</td><td>MG</td><td>MONTALVÂNIA</td><td>1</td><td>SUPLENTE</td></tr><tr><td>250001123247</td><td>ADILSON ADRIANO SALES DE SOUZA CARVALHO AMADEU</td><td>DR ADILSON CARVALHO</td><td>2020</td><td>MUNICIPAL</td><td>2020-11-15</td><td>28254810842</td><td>251049250167</td><td>VEREADOR</td><td>INAPTO</td><td>PSB</td><td>PARTIDO SOCIALISTA BRASILEIRO</td><td>SP</td><td>1974-10-02</td><td>MASCULINO</td><td>BRANCA</td><td>SUPERIOR COMPLETO</td><td>SOLTEIRO(A)</td><td>ADVOGADO</td><td>SP</td><td>SÃO PAULO</td><td>1</td><td>NÃO ELEITO</td></tr><tr><td>160000939823</td><td>JOAQUIM RODRIGUES NOVO</td><td>JOAQUIM RODRIGUES</td><td>2020</td><td>MUNICIPAL</td><td>2020-11-15</td><td>59857307949</td><td>25950160698</td><td>VEREADOR</td><td>APTO</td><td>PL</td><td>PARTIDO LIBERAL</td><td>PR</td><td>1967-09-12</td><td>MASCULINO</td><td>BRANCA</td><td>ENSINO MÉDIO COMPLETO</td><td>CASADO(A)</td><td>AGRICULTOR</td><td>PR</td><td>FÊNIX</td><td>1</td><td>ELEITO POR QP</td></tr></tbody></table></div>"
      ]
     },
     "metadata": {
      "application/vnd.databricks.v1+output": {
       "addedWidgets": {},
       "aggData": [],
       "aggError": "",
       "aggOverflow": false,
       "aggSchema": [],
       "aggSeriesLimitReached": false,
       "aggType": "",
       "arguments": {},
       "columnCustomDisplayInfos": {},
       "data": [
        [
         250001265966,
         "JOÃO BATISTA DOS SANTOS",
         "JOÃO ZELADOR",
         2020,
         "MUNICIPAL",
         "2020-11-15",
         13534893883,
         292412220132,
         "VEREADOR",
         "INAPTO",
         "DC",
         "DEMOCRACIA CRISTÃ",
         "SP",
         "1970-03-05",
         "MASCULINO",
         "PARDA",
         "ENSINO MÉDIO INCOMPLETO",
         "CASADO(A)",
         "GERENTE",
         "SP",
         "SÃO PAULO",
         1,
         "NÃO ELEITO"
        ],
        [
         250001268518,
         "SILVIO ROBERTO VOCE",
         "SILVIO VOCE",
         2020,
         "MUNICIPAL",
         "2020-11-15",
         90421213868,
         97094760159,
         "VEREADOR",
         "APTO",
         "PRTB",
         "PARTIDO RENOVADOR TRABALHISTA BRASILEIRO",
         "SP",
         "1953-04-15",
         "MASCULINO",
         "BRANCA",
         "ENSINO MÉDIO COMPLETO",
         "SOLTEIRO(A)",
         "COMISSÁRIO DE BORDO",
         "SP",
         "SÃO PAULO",
         1,
         "NÃO ELEITO"
        ],
        [
         250000925963,
         "ANDRESSA MACIEL DO NASCIMENTO",
         "DEDE",
         2020,
         "MUNICIPAL",
         "2020-11-15",
         37174723802,
         344907730124,
         "VEREADOR",
         "INAPTO",
         "PSC",
         "PARTIDO SOCIAL CRISTÃO",
         "SP",
         "1988-11-20",
         "FEMININO",
         "PARDA",
         "SUPERIOR INCOMPLETO",
         "CASADO(A)",
         "OUTROS",
         "SP",
         "SÃO PAULO",
         1,
         "NÃO ELEITO"
        ],
        [
         160001090215,
         "EDEMAR RIBEIRO BORGES",
         "NICO DA MARACANÃ",
         2020,
         "MUNICIPAL",
         "2020-11-15",
         62730614915,
         4079340655,
         "VEREADOR",
         "APTO",
         "PRTB",
         "PARTIDO RENOVADOR TRABALHISTA BRASILEIRO",
         "PR",
         "1965-01-05",
         "MASCULINO",
         "PARDA",
         "ENSINO FUNDAMENTAL INCOMPLETO",
         "SOLTEIRO(A)",
         "MECÂNICO DE MANUTENÇÃO",
         "PR",
         "TUNAS DO PARANÁ",
         1,
         "NÃO ELEITO"
        ],
        [
         250001100745,
         "ROSE LEILA RODASLI CHUERE",
         "ROSE LEILA",
         2020,
         "MUNICIPAL",
         "2020-11-15",
         53450779834,
         156241700167,
         "VEREADOR",
         "INAPTO",
         "PMB",
         "PARTIDO DA MULHER BRASILEIRA",
         "SP",
         "1954-01-11",
         "FEMININO",
         "BRANCA",
         "SUPERIOR COMPLETO",
         "SOLTEIRO(A)",
         "APOSENTADO (EXCETO SERVIDOR PÚBLICO)",
         "SP",
         "SÃO PAULO",
         1,
         "NÃO ELEITO"
        ],
        [
         250000984468,
         "JOSÉ AMILTON CORREA",
         "BIKUIRA",
         2020,
         "MUNICIPAL",
         "2020-11-15",
         26595781840,
         180429580124,
         "VEREADOR",
         "APTO",
         "PSDB",
         "PARTIDO DA SOCIAL DEMOCRACIA BRASILEIRA",
         "PR",
         "1972-08-17",
         "MASCULINO",
         "BRANCA",
         "ENSINO MÉDIO COMPLETO",
         "CASADO(A)",
         "TRABALHADOR METALÚRGICO E SIDERÚRGICO",
         "SP",
         "SANTA BRANCA",
         1,
         "SUPLENTE"
        ],
        [
         160000869858,
         "JOSÉ PINTO DE OLIVEIRA",
         "ZÉ DE OLIVEIRA DO GÁS",
         2020,
         "MUNICIPAL",
         "2020-11-15",
         10132848953,
         34885470612,
         "VEREADOR",
         "APTO",
         "PSL",
         "PARTIDO SOCIAL LIBERAL",
         "MG",
         "1951-06-25",
         "MASCULINO",
         "BRANCA",
         "LÊ E ESCREVE",
         "CASADO(A)",
         "COMERCIANTE",
         "PR",
         "FAXINAL",
         1,
         "SUPLENTE"
        ],
        [
         130000888282,
         "EVERALDO MACEDO DOS SANTOS",
         "EVERALDO DE ZÉ RODOVIÁRIA",
         2020,
         "MUNICIPAL",
         "2020-11-15",
         6747192630,
         146298280248,
         "VEREADOR",
         "APTO",
         "PTB",
         "PARTIDO TRABALHISTA BRASILEIRO",
         "MG",
         "1984-08-14",
         "MASCULINO",
         "PRETA",
         "ENSINO FUNDAMENTAL COMPLETO",
         "CASADO(A)",
         "OUTROS",
         "MG",
         "MONTALVÂNIA",
         1,
         "SUPLENTE"
        ],
        [
         250001123247,
         "ADILSON ADRIANO SALES DE SOUZA CARVALHO AMADEU",
         "DR ADILSON CARVALHO",
         2020,
         "MUNICIPAL",
         "2020-11-15",
         28254810842,
         251049250167,
         "VEREADOR",
         "INAPTO",
         "PSB",
         "PARTIDO SOCIALISTA BRASILEIRO",
         "SP",
         "1974-10-02",
         "MASCULINO",
         "BRANCA",
         "SUPERIOR COMPLETO",
         "SOLTEIRO(A)",
         "ADVOGADO",
         "SP",
         "SÃO PAULO",
         1,
         "NÃO ELEITO"
        ],
        [
         160000939823,
         "JOAQUIM RODRIGUES NOVO",
         "JOAQUIM RODRIGUES",
         2020,
         "MUNICIPAL",
         "2020-11-15",
         59857307949,
         25950160698,
         "VEREADOR",
         "APTO",
         "PL",
         "PARTIDO LIBERAL",
         "PR",
         "1967-09-12",
         "MASCULINO",
         "BRANCA",
         "ENSINO MÉDIO COMPLETO",
         "CASADO(A)",
         "AGRICULTOR",
         "PR",
         "FÊNIX",
         1,
         "ELEITO POR QP"
        ]
       ],
       "datasetInfos": [],
       "dbfsResultPath": null,
       "isJsonSchema": true,
       "metadata": {},
       "overflow": false,
       "plotOptions": {
        "customPlotOptions": {},
        "displayType": "table",
        "pivotAggregation": null,
        "pivotColumns": null,
        "xColumns": null,
        "yColumns": null
       },
       "removedWidgets": [],
       "schema": [
        {
         "metadata": "{}",
         "name": "SQ_CANDIDATO",
         "type": "\"long\""
        },
        {
         "metadata": "{}",
         "name": "NM_CANDIDATO",
         "type": "\"string\""
        },
        {
         "metadata": "{}",
         "name": "NM_URNA_CANDIDATO",
         "type": "\"string\""
        },
        {
         "metadata": "{}",
         "name": "ANO_ELEICAO",
         "type": "\"long\""
        },
        {
         "metadata": "{}",
         "name": "TP_ABRANGENCIA",
         "type": "\"string\""
        },
        {
         "metadata": "{}",
         "name": "DT_ELEICAO",
         "type": "\"date\""
        },
        {
         "metadata": "{}",
         "name": "NR_CPF_CANDIDATO",
         "type": "\"long\""
        },
        {
         "metadata": "{}",
         "name": "NR_TITULO_ELEITORAL_CANDIDATO",
         "type": "\"long\""
        },
        {
         "metadata": "{}",
         "name": "DS_CARGO",
         "type": "\"string\""
        },
        {
         "metadata": "{}",
         "name": "DS_SITUACAO_CANDIDATURA",
         "type": "\"string\""
        },
        {
         "metadata": "{}",
         "name": "SG_PARTIDO",
         "type": "\"string\""
        },
        {
         "metadata": "{}",
         "name": "NM_PARTIDO",
         "type": "\"string\""
        },
        {
         "metadata": "{}",
         "name": "SG_UF_NASCIMENTO",
         "type": "\"string\""
        },
        {
         "metadata": "{}",
         "name": "DT_NASCIMENTO",
         "type": "\"date\""
        },
        {
         "metadata": "{}",
         "name": "DS_GENERO",
         "type": "\"string\""
        },
        {
         "metadata": "{}",
         "name": "DS_COR_RACA",
         "type": "\"string\""
        },
        {
         "metadata": "{}",
         "name": "DS_GRAU_INSTRUCAO",
         "type": "\"string\""
        },
        {
         "metadata": "{}",
         "name": "DS_ESTADO_CIVIL",
         "type": "\"string\""
        },
        {
         "metadata": "{}",
         "name": "DS_OCUPACAO",
         "type": "\"string\""
        },
        {
         "metadata": "{}",
         "name": "SG_UF",
         "type": "\"string\""
        },
        {
         "metadata": "{}",
         "name": "NM_UE",
         "type": "\"string\""
        },
        {
         "metadata": "{}",
         "name": "NR_TURNO",
         "type": "\"long\""
        },
        {
         "metadata": "{}",
         "name": "DS_SIT_TOT_TURNO",
         "type": "\"string\""
        }
       ],
       "type": "table"
      }
     },
     "output_type": "display_data"
    }
   ],
   "source": [
    "#df Candidatos Silver\n",
    "df = sqlContext.sql(\"\"\"\n",
    "    WITH\n",
    "        columns_altered AS (\n",
    "            SELECT\n",
    "                 CAST(SQ_CANDIDATO AS BIGINT) AS SQ_CANDIDATO\n",
    "                ,NM_CANDIDATO\n",
    "                ,NM_URNA_CANDIDATO\n",
    "                ,CAST(ANO_ELEICAO AS BIGINT) AS ANO_ELEICAO\n",
    "                ,TP_ABRANGENCIA\n",
    "                ,to_date(DT_ELEICAO, 'dd/M/yyyy') AS DT_ELEICAO\n",
    "                ,CAST(NR_CPF_CANDIDATO AS BIGINT) AS NR_CPF_CANDIDATO\n",
    "                ,CAST(NR_TITULO_ELEITORAL_CANDIDATO AS BIGINT) AS NR_TITULO_ELEITORAL_CANDIDATO\n",
    "                ,DS_CARGO\n",
    "                ,DS_SITUACAO_CANDIDATURA\n",
    "                ,SG_PARTIDO\n",
    "                ,NM_PARTIDO\n",
    "                ,SG_UF_NASCIMENTO\n",
    "                ,to_date(DT_NASCIMENTO, 'dd/M/yyyy') AS DT_NASCIMENTO\n",
    "                ,DS_GENERO\n",
    "                ,DS_COR_RACA\n",
    "                ,DS_GRAU_INSTRUCAO\n",
    "                ,DS_ESTADO_CIVIL\n",
    "                ,DS_OCUPACAO\n",
    "                ,SG_UF\n",
    "                ,NM_UE\n",
    "                ,CAST(NR_TURNO AS BIGINT) AS NR_TURNO\n",
    "                ,DS_SIT_TOT_TURNO\n",
    "            FROM eleicao_bronze.candidatos\n",
    "        )\n",
    "    SELECT\n",
    "         l_tb.SQ_CANDIDATO\n",
    "        ,l_tb.NM_CANDIDATO\n",
    "        ,l_tb.NM_URNA_CANDIDATO\n",
    "        ,l_tb.ANO_ELEICAO\n",
    "        ,l_tb.TP_ABRANGENCIA\n",
    "        ,l_tb.DT_ELEICAO\n",
    "        ,l_tb.NR_CPF_CANDIDATO\n",
    "        ,l_tb.NR_TITULO_ELEITORAL_CANDIDATO\n",
    "        ,l_tb.DS_CARGO\n",
    "        ,l_tb.DS_SITUACAO_CANDIDATURA\n",
    "        ,l_tb.SG_PARTIDO\n",
    "        ,l_tb.NM_PARTIDO\n",
    "        ,l_tb.SG_UF_NASCIMENTO\n",
    "        ,l_tb.DT_NASCIMENTO\n",
    "        ,l_tb.DS_GENERO\n",
    "        ,l_tb.DS_COR_RACA\n",
    "        ,l_tb.DS_GRAU_INSTRUCAO\n",
    "        ,l_tb.DS_ESTADO_CIVIL\n",
    "        ,l_tb.DS_OCUPACAO\n",
    "        ,l_tb.SG_UF\n",
    "        ,l_tb.NM_UE\n",
    "        ,l_tb.NR_TURNO\n",
    "        ,l_tb.DS_SIT_TOT_TURNO\n",
    "    FROM \n",
    "        columns_altered AS l_tb\n",
    "    LEFT JOIN\n",
    "        columns_altered AS r_tb\n",
    "        ON \n",
    "            l_tb.SQ_CANDIDATO = r_tb.SQ_CANDIDATO\n",
    "            AND l_tb.ANO_ELEICAO = r_tb.ANO_ELEICAO\n",
    "            AND l_tb.NR_TURNO < r_tb.NR_TURNO --FAZER COM QUE AS LINHAS DE CANDIDATOS QUE POSSUEM SEGUNDO TURNO TER CORRESPONDENCIA NA BASE DA DIREITA\n",
    "    WHERE \n",
    "        r_tb.NR_TURNO IS NULL --FILTRAR AS LINHAS SEM CORRESPONDÊNCIA\n",
    "    \"\"\" )\n",
    "df.limit(10).display()"
   ]
  },
  {
   "cell_type": "markdown",
   "metadata": {
    "application/vnd.databricks.v1+cell": {
     "cellMetadata": {
      "byteLimit": 2048000,
      "rowLimit": 10000
     },
     "inputWidgets": {},
     "nuid": "a0aa596f-22b1-42d6-9f6b-14e1ce16c232",
     "showTitle": false,
     "tableResultSettingsMap": {},
     "title": ""
    }
   },
   "source": [
    "Transformado em df, será agora salvar como permanente no schema Silver a tabela total de candidatos"
   ]
  },
  {
   "cell_type": "code",
   "execution_count": 0,
   "metadata": {
    "application/vnd.databricks.v1+cell": {
     "cellMetadata": {
      "byteLimit": 2048000,
      "rowLimit": 10000
     },
     "inputWidgets": {},
     "nuid": "e9a99e3c-0f76-474f-a865-0c5b45195e20",
     "showTitle": false,
     "tableResultSettingsMap": {},
     "title": ""
    }
   },
   "outputs": [],
   "source": [
    "#Primeira tabela silver (candidatos) \n",
    "df.createOrReplaceTempView('candidatos')\n",
    "\n",
    "permanent_table_name = \"eleicao_silver.candidatos\"\n",
    "\n",
    "schema = 'eleicao_silver'\n",
    "\n",
    "df.write.format(\"parquet\").saveAsTable(permanent_table_name,mode='append')"
   ]
  },
  {
   "cell_type": "code",
   "execution_count": 0,
   "metadata": {
    "application/vnd.databricks.v1+cell": {
     "cellMetadata": {
      "byteLimit": 2048000,
      "implicitDf": true,
      "rowLimit": 10000
     },
     "inputWidgets": {},
     "nuid": "a94ed651-0394-40fb-b4c9-8db579cd390e",
     "showTitle": false,
     "tableResultSettingsMap": {},
     "title": ""
    }
   },
   "outputs": [
    {
     "output_type": "display_data",
     "data": {
      "text/html": [
       "<style scoped>\n",
       "  .table-result-container {\n",
       "    max-height: 300px;\n",
       "    overflow: auto;\n",
       "  }\n",
       "  table, th, td {\n",
       "    border: 1px solid black;\n",
       "    border-collapse: collapse;\n",
       "  }\n",
       "  th, td {\n",
       "    padding: 5px;\n",
       "  }\n",
       "  th {\n",
       "    text-align: left;\n",
       "  }\n",
       "</style><div class='table-result-container'><table class='table-result'><thead style='background-color: white'><tr><th>SQ_CANDIDATO</th><th>NM_CANDIDATO</th><th>NM_URNA_CANDIDATO</th><th>ANO_ELEICAO</th><th>TP_ABRANGENCIA</th><th>DT_ELEICAO</th><th>NR_CPF_CANDIDATO</th><th>NR_TITULO_ELEITORAL_CANDIDATO</th><th>DS_CARGO</th><th>DS_SITUACAO_CANDIDATURA</th><th>SG_PARTIDO</th><th>NM_PARTIDO</th><th>SG_UF_NASCIMENTO</th><th>DT_NASCIMENTO</th><th>DS_GENERO</th><th>DS_COR_RACA</th><th>DS_GRAU_INSTRUCAO</th><th>DS_ESTADO_CIVIL</th><th>DS_OCUPACAO</th><th>SG_UF</th><th>NM_UE</th><th>NR_TURNO</th><th>DS_SIT_TOT_TURNO</th></tr></thead><tbody><tr><td>250001265966</td><td>JOÃO BATISTA DOS SANTOS</td><td>JOÃO ZELADOR</td><td>2020</td><td>MUNICIPAL</td><td>2020-11-15</td><td>13534893883</td><td>292412220132</td><td>VEREADOR</td><td>INAPTO</td><td>DC</td><td>DEMOCRACIA CRISTÃ</td><td>SP</td><td>1970-03-05</td><td>MASCULINO</td><td>PARDA</td><td>ENSINO MÉDIO INCOMPLETO</td><td>CASADO(A)</td><td>GERENTE</td><td>SP</td><td>SÃO PAULO</td><td>1</td><td>NÃO ELEITO</td></tr><tr><td>250001268518</td><td>SILVIO ROBERTO VOCE</td><td>SILVIO VOCE</td><td>2020</td><td>MUNICIPAL</td><td>2020-11-15</td><td>90421213868</td><td>97094760159</td><td>VEREADOR</td><td>APTO</td><td>PRTB</td><td>PARTIDO RENOVADOR TRABALHISTA BRASILEIRO</td><td>SP</td><td>1953-04-15</td><td>MASCULINO</td><td>BRANCA</td><td>ENSINO MÉDIO COMPLETO</td><td>SOLTEIRO(A)</td><td>COMISSÁRIO DE BORDO</td><td>SP</td><td>SÃO PAULO</td><td>1</td><td>NÃO ELEITO</td></tr><tr><td>250000925963</td><td>ANDRESSA MACIEL DO NASCIMENTO</td><td>DEDE</td><td>2020</td><td>MUNICIPAL</td><td>2020-11-15</td><td>37174723802</td><td>344907730124</td><td>VEREADOR</td><td>INAPTO</td><td>PSC</td><td>PARTIDO SOCIAL CRISTÃO</td><td>SP</td><td>1988-11-20</td><td>FEMININO</td><td>PARDA</td><td>SUPERIOR INCOMPLETO</td><td>CASADO(A)</td><td>OUTROS</td><td>SP</td><td>SÃO PAULO</td><td>1</td><td>NÃO ELEITO</td></tr><tr><td>160001090215</td><td>EDEMAR RIBEIRO BORGES</td><td>NICO DA MARACANÃ</td><td>2020</td><td>MUNICIPAL</td><td>2020-11-15</td><td>62730614915</td><td>4079340655</td><td>VEREADOR</td><td>APTO</td><td>PRTB</td><td>PARTIDO RENOVADOR TRABALHISTA BRASILEIRO</td><td>PR</td><td>1965-01-05</td><td>MASCULINO</td><td>PARDA</td><td>ENSINO FUNDAMENTAL INCOMPLETO</td><td>SOLTEIRO(A)</td><td>MECÂNICO DE MANUTENÇÃO</td><td>PR</td><td>TUNAS DO PARANÁ</td><td>1</td><td>NÃO ELEITO</td></tr><tr><td>250001100745</td><td>ROSE LEILA RODASLI CHUERE</td><td>ROSE LEILA</td><td>2020</td><td>MUNICIPAL</td><td>2020-11-15</td><td>53450779834</td><td>156241700167</td><td>VEREADOR</td><td>INAPTO</td><td>PMB</td><td>PARTIDO DA MULHER BRASILEIRA</td><td>SP</td><td>1954-01-11</td><td>FEMININO</td><td>BRANCA</td><td>SUPERIOR COMPLETO</td><td>SOLTEIRO(A)</td><td>APOSENTADO (EXCETO SERVIDOR PÚBLICO)</td><td>SP</td><td>SÃO PAULO</td><td>1</td><td>NÃO ELEITO</td></tr><tr><td>250000984468</td><td>JOSÉ AMILTON CORREA</td><td>BIKUIRA</td><td>2020</td><td>MUNICIPAL</td><td>2020-11-15</td><td>26595781840</td><td>180429580124</td><td>VEREADOR</td><td>APTO</td><td>PSDB</td><td>PARTIDO DA SOCIAL DEMOCRACIA BRASILEIRA</td><td>PR</td><td>1972-08-17</td><td>MASCULINO</td><td>BRANCA</td><td>ENSINO MÉDIO COMPLETO</td><td>CASADO(A)</td><td>TRABALHADOR METALÚRGICO E SIDERÚRGICO</td><td>SP</td><td>SANTA BRANCA</td><td>1</td><td>SUPLENTE</td></tr><tr><td>160000869858</td><td>JOSÉ PINTO DE OLIVEIRA</td><td>ZÉ DE OLIVEIRA DO GÁS</td><td>2020</td><td>MUNICIPAL</td><td>2020-11-15</td><td>10132848953</td><td>34885470612</td><td>VEREADOR</td><td>APTO</td><td>PSL</td><td>PARTIDO SOCIAL LIBERAL</td><td>MG</td><td>1951-06-25</td><td>MASCULINO</td><td>BRANCA</td><td>LÊ E ESCREVE</td><td>CASADO(A)</td><td>COMERCIANTE</td><td>PR</td><td>FAXINAL</td><td>1</td><td>SUPLENTE</td></tr><tr><td>130000888282</td><td>EVERALDO MACEDO DOS SANTOS</td><td>EVERALDO DE ZÉ RODOVIÁRIA</td><td>2020</td><td>MUNICIPAL</td><td>2020-11-15</td><td>6747192630</td><td>146298280248</td><td>VEREADOR</td><td>APTO</td><td>PTB</td><td>PARTIDO TRABALHISTA BRASILEIRO</td><td>MG</td><td>1984-08-14</td><td>MASCULINO</td><td>PRETA</td><td>ENSINO FUNDAMENTAL COMPLETO</td><td>CASADO(A)</td><td>OUTROS</td><td>MG</td><td>MONTALVÂNIA</td><td>1</td><td>SUPLENTE</td></tr><tr><td>250001123247</td><td>ADILSON ADRIANO SALES DE SOUZA CARVALHO AMADEU</td><td>DR ADILSON CARVALHO</td><td>2020</td><td>MUNICIPAL</td><td>2020-11-15</td><td>28254810842</td><td>251049250167</td><td>VEREADOR</td><td>INAPTO</td><td>PSB</td><td>PARTIDO SOCIALISTA BRASILEIRO</td><td>SP</td><td>1974-10-02</td><td>MASCULINO</td><td>BRANCA</td><td>SUPERIOR COMPLETO</td><td>SOLTEIRO(A)</td><td>ADVOGADO</td><td>SP</td><td>SÃO PAULO</td><td>1</td><td>NÃO ELEITO</td></tr><tr><td>160000939823</td><td>JOAQUIM RODRIGUES NOVO</td><td>JOAQUIM RODRIGUES</td><td>2020</td><td>MUNICIPAL</td><td>2020-11-15</td><td>59857307949</td><td>25950160698</td><td>VEREADOR</td><td>APTO</td><td>PL</td><td>PARTIDO LIBERAL</td><td>PR</td><td>1967-09-12</td><td>MASCULINO</td><td>BRANCA</td><td>ENSINO MÉDIO COMPLETO</td><td>CASADO(A)</td><td>AGRICULTOR</td><td>PR</td><td>FÊNIX</td><td>1</td><td>ELEITO POR QP</td></tr></tbody></table></div>"
      ]
     },
     "metadata": {
      "application/vnd.databricks.v1+output": {
       "addedWidgets": {},
       "aggData": [],
       "aggError": "",
       "aggOverflow": false,
       "aggSchema": [],
       "aggSeriesLimitReached": false,
       "aggType": "",
       "arguments": {},
       "columnCustomDisplayInfos": {},
       "data": [
        [
         250001265966,
         "JOÃO BATISTA DOS SANTOS",
         "JOÃO ZELADOR",
         2020,
         "MUNICIPAL",
         "2020-11-15",
         13534893883,
         292412220132,
         "VEREADOR",
         "INAPTO",
         "DC",
         "DEMOCRACIA CRISTÃ",
         "SP",
         "1970-03-05",
         "MASCULINO",
         "PARDA",
         "ENSINO MÉDIO INCOMPLETO",
         "CASADO(A)",
         "GERENTE",
         "SP",
         "SÃO PAULO",
         1,
         "NÃO ELEITO"
        ],
        [
         250001268518,
         "SILVIO ROBERTO VOCE",
         "SILVIO VOCE",
         2020,
         "MUNICIPAL",
         "2020-11-15",
         90421213868,
         97094760159,
         "VEREADOR",
         "APTO",
         "PRTB",
         "PARTIDO RENOVADOR TRABALHISTA BRASILEIRO",
         "SP",
         "1953-04-15",
         "MASCULINO",
         "BRANCA",
         "ENSINO MÉDIO COMPLETO",
         "SOLTEIRO(A)",
         "COMISSÁRIO DE BORDO",
         "SP",
         "SÃO PAULO",
         1,
         "NÃO ELEITO"
        ],
        [
         250000925963,
         "ANDRESSA MACIEL DO NASCIMENTO",
         "DEDE",
         2020,
         "MUNICIPAL",
         "2020-11-15",
         37174723802,
         344907730124,
         "VEREADOR",
         "INAPTO",
         "PSC",
         "PARTIDO SOCIAL CRISTÃO",
         "SP",
         "1988-11-20",
         "FEMININO",
         "PARDA",
         "SUPERIOR INCOMPLETO",
         "CASADO(A)",
         "OUTROS",
         "SP",
         "SÃO PAULO",
         1,
         "NÃO ELEITO"
        ],
        [
         160001090215,
         "EDEMAR RIBEIRO BORGES",
         "NICO DA MARACANÃ",
         2020,
         "MUNICIPAL",
         "2020-11-15",
         62730614915,
         4079340655,
         "VEREADOR",
         "APTO",
         "PRTB",
         "PARTIDO RENOVADOR TRABALHISTA BRASILEIRO",
         "PR",
         "1965-01-05",
         "MASCULINO",
         "PARDA",
         "ENSINO FUNDAMENTAL INCOMPLETO",
         "SOLTEIRO(A)",
         "MECÂNICO DE MANUTENÇÃO",
         "PR",
         "TUNAS DO PARANÁ",
         1,
         "NÃO ELEITO"
        ],
        [
         250001100745,
         "ROSE LEILA RODASLI CHUERE",
         "ROSE LEILA",
         2020,
         "MUNICIPAL",
         "2020-11-15",
         53450779834,
         156241700167,
         "VEREADOR",
         "INAPTO",
         "PMB",
         "PARTIDO DA MULHER BRASILEIRA",
         "SP",
         "1954-01-11",
         "FEMININO",
         "BRANCA",
         "SUPERIOR COMPLETO",
         "SOLTEIRO(A)",
         "APOSENTADO (EXCETO SERVIDOR PÚBLICO)",
         "SP",
         "SÃO PAULO",
         1,
         "NÃO ELEITO"
        ],
        [
         250000984468,
         "JOSÉ AMILTON CORREA",
         "BIKUIRA",
         2020,
         "MUNICIPAL",
         "2020-11-15",
         26595781840,
         180429580124,
         "VEREADOR",
         "APTO",
         "PSDB",
         "PARTIDO DA SOCIAL DEMOCRACIA BRASILEIRA",
         "PR",
         "1972-08-17",
         "MASCULINO",
         "BRANCA",
         "ENSINO MÉDIO COMPLETO",
         "CASADO(A)",
         "TRABALHADOR METALÚRGICO E SIDERÚRGICO",
         "SP",
         "SANTA BRANCA",
         1,
         "SUPLENTE"
        ],
        [
         160000869858,
         "JOSÉ PINTO DE OLIVEIRA",
         "ZÉ DE OLIVEIRA DO GÁS",
         2020,
         "MUNICIPAL",
         "2020-11-15",
         10132848953,
         34885470612,
         "VEREADOR",
         "APTO",
         "PSL",
         "PARTIDO SOCIAL LIBERAL",
         "MG",
         "1951-06-25",
         "MASCULINO",
         "BRANCA",
         "LÊ E ESCREVE",
         "CASADO(A)",
         "COMERCIANTE",
         "PR",
         "FAXINAL",
         1,
         "SUPLENTE"
        ],
        [
         130000888282,
         "EVERALDO MACEDO DOS SANTOS",
         "EVERALDO DE ZÉ RODOVIÁRIA",
         2020,
         "MUNICIPAL",
         "2020-11-15",
         6747192630,
         146298280248,
         "VEREADOR",
         "APTO",
         "PTB",
         "PARTIDO TRABALHISTA BRASILEIRO",
         "MG",
         "1984-08-14",
         "MASCULINO",
         "PRETA",
         "ENSINO FUNDAMENTAL COMPLETO",
         "CASADO(A)",
         "OUTROS",
         "MG",
         "MONTALVÂNIA",
         1,
         "SUPLENTE"
        ],
        [
         250001123247,
         "ADILSON ADRIANO SALES DE SOUZA CARVALHO AMADEU",
         "DR ADILSON CARVALHO",
         2020,
         "MUNICIPAL",
         "2020-11-15",
         28254810842,
         251049250167,
         "VEREADOR",
         "INAPTO",
         "PSB",
         "PARTIDO SOCIALISTA BRASILEIRO",
         "SP",
         "1974-10-02",
         "MASCULINO",
         "BRANCA",
         "SUPERIOR COMPLETO",
         "SOLTEIRO(A)",
         "ADVOGADO",
         "SP",
         "SÃO PAULO",
         1,
         "NÃO ELEITO"
        ],
        [
         160000939823,
         "JOAQUIM RODRIGUES NOVO",
         "JOAQUIM RODRIGUES",
         2020,
         "MUNICIPAL",
         "2020-11-15",
         59857307949,
         25950160698,
         "VEREADOR",
         "APTO",
         "PL",
         "PARTIDO LIBERAL",
         "PR",
         "1967-09-12",
         "MASCULINO",
         "BRANCA",
         "ENSINO MÉDIO COMPLETO",
         "CASADO(A)",
         "AGRICULTOR",
         "PR",
         "FÊNIX",
         1,
         "ELEITO POR QP"
        ]
       ],
       "datasetInfos": [],
       "dbfsResultPath": null,
       "isJsonSchema": true,
       "metadata": {},
       "overflow": false,
       "plotOptions": {
        "customPlotOptions": {},
        "displayType": "table",
        "pivotAggregation": null,
        "pivotColumns": null,
        "xColumns": null,
        "yColumns": null
       },
       "removedWidgets": [],
       "schema": [
        {
         "metadata": "{}",
         "name": "SQ_CANDIDATO",
         "type": "\"long\""
        },
        {
         "metadata": "{}",
         "name": "NM_CANDIDATO",
         "type": "\"string\""
        },
        {
         "metadata": "{}",
         "name": "NM_URNA_CANDIDATO",
         "type": "\"string\""
        },
        {
         "metadata": "{}",
         "name": "ANO_ELEICAO",
         "type": "\"long\""
        },
        {
         "metadata": "{}",
         "name": "TP_ABRANGENCIA",
         "type": "\"string\""
        },
        {
         "metadata": "{}",
         "name": "DT_ELEICAO",
         "type": "\"date\""
        },
        {
         "metadata": "{}",
         "name": "NR_CPF_CANDIDATO",
         "type": "\"long\""
        },
        {
         "metadata": "{}",
         "name": "NR_TITULO_ELEITORAL_CANDIDATO",
         "type": "\"long\""
        },
        {
         "metadata": "{}",
         "name": "DS_CARGO",
         "type": "\"string\""
        },
        {
         "metadata": "{}",
         "name": "DS_SITUACAO_CANDIDATURA",
         "type": "\"string\""
        },
        {
         "metadata": "{}",
         "name": "SG_PARTIDO",
         "type": "\"string\""
        },
        {
         "metadata": "{}",
         "name": "NM_PARTIDO",
         "type": "\"string\""
        },
        {
         "metadata": "{}",
         "name": "SG_UF_NASCIMENTO",
         "type": "\"string\""
        },
        {
         "metadata": "{}",
         "name": "DT_NASCIMENTO",
         "type": "\"date\""
        },
        {
         "metadata": "{}",
         "name": "DS_GENERO",
         "type": "\"string\""
        },
        {
         "metadata": "{}",
         "name": "DS_COR_RACA",
         "type": "\"string\""
        },
        {
         "metadata": "{}",
         "name": "DS_GRAU_INSTRUCAO",
         "type": "\"string\""
        },
        {
         "metadata": "{}",
         "name": "DS_ESTADO_CIVIL",
         "type": "\"string\""
        },
        {
         "metadata": "{}",
         "name": "DS_OCUPACAO",
         "type": "\"string\""
        },
        {
         "metadata": "{}",
         "name": "SG_UF",
         "type": "\"string\""
        },
        {
         "metadata": "{}",
         "name": "NM_UE",
         "type": "\"string\""
        },
        {
         "metadata": "{}",
         "name": "NR_TURNO",
         "type": "\"long\""
        },
        {
         "metadata": "{}",
         "name": "DS_SIT_TOT_TURNO",
         "type": "\"string\""
        }
       ],
       "type": "table"
      }
     },
     "output_type": "display_data"
    }
   ],
   "source": [
    "%sql\n",
    "--Validando base\n",
    "SELECT\n",
    "   *\n",
    "FROM \n",
    "  eleicao_silver.candidatos\n",
    "LIMIT 10"
   ]
  },
  {
   "cell_type": "code",
   "execution_count": 0,
   "metadata": {
    "application/vnd.databricks.v1+cell": {
     "cellMetadata": {
      "byteLimit": 2048000,
      "implicitDf": true,
      "rowLimit": 10000
     },
     "inputWidgets": {},
     "nuid": "d5415775-0657-4b58-91ae-59fa92d7f01b",
     "showTitle": false,
     "tableResultSettingsMap": {},
     "title": ""
    }
   },
   "outputs": [
    {
     "output_type": "display_data",
     "data": {
      "text/html": [
       "<style scoped>\n",
       "  .table-result-container {\n",
       "    max-height: 300px;\n",
       "    overflow: auto;\n",
       "  }\n",
       "  table, th, td {\n",
       "    border: 1px solid black;\n",
       "    border-collapse: collapse;\n",
       "  }\n",
       "  th, td {\n",
       "    padding: 5px;\n",
       "  }\n",
       "  th {\n",
       "    text-align: left;\n",
       "  }\n",
       "</style><div class='table-result-container'><table class='table-result'><thead style='background-color: white'><tr><th>ANO_ELEICAO</th><th>NR_TURNO</th><th>validacao</th></tr></thead><tbody><tr><td>2020</td><td>1</td><td>558340</td></tr><tr><td>2020</td><td>2</td><td>232</td></tr><tr><td>2022</td><td>1</td><td>29210</td></tr><tr><td>2018</td><td>1</td><td>29167</td></tr><tr><td>2018</td><td>2</td><td>60</td></tr><tr><td>2022</td><td>2</td><td>52</td></tr></tbody></table></div>"
      ]
     },
     "metadata": {
      "application/vnd.databricks.v1+output": {
       "addedWidgets": {},
       "aggData": [],
       "aggError": "",
       "aggOverflow": false,
       "aggSchema": [],
       "aggSeriesLimitReached": false,
       "aggType": "",
       "arguments": {},
       "columnCustomDisplayInfos": {},
       "data": [
        [
         2020,
         1,
         558340
        ],
        [
         2020,
         2,
         232
        ],
        [
         2022,
         1,
         29210
        ],
        [
         2018,
         1,
         29167
        ],
        [
         2018,
         2,
         60
        ],
        [
         2022,
         2,
         52
        ]
       ],
       "datasetInfos": [],
       "dbfsResultPath": null,
       "isJsonSchema": true,
       "metadata": {},
       "overflow": false,
       "plotOptions": {
        "customPlotOptions": {},
        "displayType": "table",
        "pivotAggregation": null,
        "pivotColumns": null,
        "xColumns": null,
        "yColumns": null
       },
       "removedWidgets": [],
       "schema": [
        {
         "metadata": "{}",
         "name": "ANO_ELEICAO",
         "type": "\"long\""
        },
        {
         "metadata": "{}",
         "name": "NR_TURNO",
         "type": "\"long\""
        },
        {
         "metadata": "{}",
         "name": "validacao",
         "type": "\"long\""
        }
       ],
       "type": "table"
      }
     },
     "output_type": "display_data"
    }
   ],
   "source": [
    "%sql\n",
    "--Validando qtd de segundos turnos\n",
    "SELECT\n",
    "   ANO_ELEICAO\n",
    "  ,NR_TURNO\n",
    "  ,COUNT(*) AS validacao\n",
    "FROM \n",
    "  eleicao_silver.candidatos\n",
    "GROUP BY 1,2"
   ]
  },
  {
   "cell_type": "code",
   "execution_count": 0,
   "metadata": {
    "application/vnd.databricks.v1+cell": {
     "cellMetadata": {
      "byteLimit": 2048000,
      "implicitDf": true,
      "rowLimit": 10000
     },
     "inputWidgets": {},
     "nuid": "0ce5fbb7-979c-4983-9048-1333d6338ea9",
     "showTitle": false,
     "tableResultSettingsMap": {},
     "title": ""
    }
   },
   "outputs": [
    {
     "output_type": "display_data",
     "data": {
      "text/html": [
       "<style scoped>\n",
       "  .table-result-container {\n",
       "    max-height: 300px;\n",
       "    overflow: auto;\n",
       "  }\n",
       "  table, th, td {\n",
       "    border: 1px solid black;\n",
       "    border-collapse: collapse;\n",
       "  }\n",
       "  th, td {\n",
       "    padding: 5px;\n",
       "  }\n",
       "  th {\n",
       "    text-align: left;\n",
       "  }\n",
       "</style><div class='table-result-container'><table class='table-result'><thead style='background-color: white'><tr><th>SQ_CANDIDATO</th><th>ANO_ELEICAO</th><th>QTDS</th></tr></thead><tbody></tbody></table></div>"
      ]
     },
     "metadata": {
      "application/vnd.databricks.v1+output": {
       "addedWidgets": {},
       "aggData": [],
       "aggError": "",
       "aggOverflow": false,
       "aggSchema": [],
       "aggSeriesLimitReached": false,
       "aggType": "",
       "arguments": {},
       "columnCustomDisplayInfos": {},
       "data": [],
       "datasetInfos": [],
       "dbfsResultPath": null,
       "isJsonSchema": true,
       "metadata": {},
       "overflow": false,
       "plotOptions": {
        "customPlotOptions": {},
        "displayType": "table",
        "pivotAggregation": null,
        "pivotColumns": null,
        "xColumns": null,
        "yColumns": null
       },
       "removedWidgets": [],
       "schema": [
        {
         "metadata": "{}",
         "name": "SQ_CANDIDATO",
         "type": "\"long\""
        },
        {
         "metadata": "{}",
         "name": "ANO_ELEICAO",
         "type": "\"long\""
        },
        {
         "metadata": "{}",
         "name": "QTDS",
         "type": "\"long\""
        }
       ],
       "type": "table"
      }
     },
     "output_type": "display_data"
    }
   ],
   "source": [
    "%sql\n",
    "--Validando unicidade do \"SQ_CANDIDATO\"\n",
    "SELECT\n",
    "   SQ_CANDIDATO \n",
    "  ,ANO_ELEICAO\n",
    "  ,COUNT(*) AS QTDS\n",
    "FROM \n",
    "  eleicao_silver.candidatos\n",
    "GROUP BY 1,2\n",
    "HAVING COUNT(*) > 1\n",
    "LIMIT 10"
   ]
  },
  {
   "cell_type": "code",
   "execution_count": 0,
   "metadata": {
    "application/vnd.databricks.v1+cell": {
     "cellMetadata": {
      "byteLimit": 2048000,
      "rowLimit": 10000
     },
     "inputWidgets": {},
     "nuid": "5bd60b2d-16b3-48ed-8737-684407f349cc",
     "showTitle": false,
     "tableResultSettingsMap": {},
     "title": ""
    }
   },
   "outputs": [
    {
     "output_type": "stream",
     "name": "stdout",
     "output_type": "stream",
     "text": [
      "+-----------------+\n|len(SQ_CANDIDATO)|\n+-----------------+\n|               12|\n|               11|\n+-----------------+\n\n"
     ]
    }
   ],
   "source": [
    "#Validando campo \"SQ_CANDIDATO\" \n",
    "spark.sql(\"SELECT DISTINCT LEN(SQ_CANDIDATO) FROM eleicao_silver.candidatos\").show()"
   ]
  },
  {
   "cell_type": "code",
   "execution_count": 0,
   "metadata": {
    "application/vnd.databricks.v1+cell": {
     "cellMetadata": {
      "byteLimit": 2048000,
      "rowLimit": 10000
     },
     "inputWidgets": {},
     "nuid": "5922e364-469c-4d1a-b443-6b8262e91d6c",
     "showTitle": false,
     "tableResultSettingsMap": {},
     "title": ""
    }
   },
   "outputs": [
    {
     "output_type": "stream",
     "name": "stdout",
     "output_type": "stream",
     "text": [
      "+-----------+-----------------+--------+\n|ANO_ELEICAO|len(SQ_CANDIDATO)|count(1)|\n+-----------+-----------------+--------+\n|       2020|               11|  119116|\n|       2020|               12|  439456|\n|       2022|               11|    7912|\n|       2018|               12|   21254|\n|       2018|               11|    7973|\n|       2022|               12|   21350|\n+-----------+-----------------+--------+\n\n"
     ]
    }
   ],
   "source": [
    "#QTD de ocorrencias com diferentes tamanhos no campo \"SQ_CANDIDATO\"\n",
    "spark.sql(\"SELECT ANO_ELEICAO, LEN(SQ_CANDIDATO), COUNT(*) FROM eleicao_silver.candidatos GROUP BY 1,2\").show()"
   ]
  },
  {
   "cell_type": "markdown",
   "metadata": {
    "application/vnd.databricks.v1+cell": {
     "cellMetadata": {
      "byteLimit": 2048000,
      "rowLimit": 10000
     },
     "inputWidgets": {},
     "nuid": "a6e9863d-7ecf-4ce8-97c3-1545f0089eda",
     "showTitle": false,
     "tableResultSettingsMap": {},
     "title": ""
    }
   },
   "source": [
    "O campo \"SQ_CANDIDATO\" que será usado para join das tabelas Bens e candidatos de mesmo ano eleitoral, possui dados de tamanhos diferentes, mas aparenta ser consistente, portanto será mantido e feito validações posteriormente.\n"
   ]
  },
  {
   "cell_type": "markdown",
   "metadata": {
    "application/vnd.databricks.v1+cell": {
     "cellMetadata": {
      "byteLimit": 2048000,
      "rowLimit": 10000
     },
     "inputWidgets": {},
     "nuid": "b805df8b-ff54-40e2-b9d2-76d380c90121",
     "showTitle": false,
     "tableResultSettingsMap": {},
     "title": ""
    }
   },
   "source": [
    "Tabela candidatos silver concluída"
   ]
  },
  {
   "cell_type": "markdown",
   "metadata": {
    "application/vnd.databricks.v1+cell": {
     "cellMetadata": {
      "byteLimit": 2048000,
      "rowLimit": 10000
     },
     "inputWidgets": {},
     "nuid": "2e9ecb7b-94db-4395-80fe-2de4dbce6717",
     "showTitle": false,
     "tableResultSettingsMap": {},
     "title": ""
    }
   },
   "source": [
    "### Tabela Bens:"
   ]
  },
  {
   "cell_type": "markdown",
   "metadata": {
    "application/vnd.databricks.v1+cell": {
     "cellMetadata": {
      "byteLimit": 2048000,
      "rowLimit": 10000
     },
     "inputWidgets": {},
     "nuid": "ebc72e0c-4150-4741-9a2f-eaf7f9e42503",
     "showTitle": false,
     "tableResultSettingsMap": {},
     "title": ""
    }
   },
   "source": [
    "Os .csv salvos dos arquivos de bens apresentaram alguns problemas, como visto anteriormente, adentrando um pouco mais nos dados temos:\n",
    "- Essa tabela possui uma linha para cada bem do candidato, como essa granularidade não é importante para análise irei agrupar por candidato, agregando todos os diferentes tipos de bens em uma única coluna e somando os valores de cada bem em outra coluna.\n",
    "- Retirando as linhas com o campo \"SQ_CANDIDATO\" nulo, os \"problemas\" de linhas corrompidas são sanados, portanto damos continuidade com os mesmos tratamentos realizados na tabela de candidatos.\n",
    "\n"
   ]
  },
  {
   "cell_type": "code",
   "execution_count": 0,
   "metadata": {
    "application/vnd.databricks.v1+cell": {
     "cellMetadata": {
      "byteLimit": 2048000,
      "implicitDf": true,
      "rowLimit": 10000
     },
     "inputWidgets": {},
     "nuid": "16f75395-64eb-41a3-a3a9-b6e0a19256f5",
     "showTitle": false,
     "tableResultSettingsMap": {},
     "title": ""
    }
   },
   "outputs": [
    {
     "output_type": "display_data",
     "data": {
      "text/html": [
       "<style scoped>\n",
       "  .table-result-container {\n",
       "    max-height: 300px;\n",
       "    overflow: auto;\n",
       "  }\n",
       "  table, th, td {\n",
       "    border: 1px solid black;\n",
       "    border-collapse: collapse;\n",
       "  }\n",
       "  th, td {\n",
       "    padding: 5px;\n",
       "  }\n",
       "  th {\n",
       "    text-align: left;\n",
       "  }\n",
       "</style><div class='table-result-container'><table class='table-result'><thead style='background-color: white'><tr><th>DT_GERACAO</th><th>HH_GERACAO</th><th>ANO_ELEICAO</th><th>CD_TIPO_ELEICAO</th><th>NM_TIPO_ELEICAO</th><th>CD_ELEICAO</th><th>DS_ELEICAO</th><th>DT_ELEICAO</th><th>SG_UF</th><th>SG_UE</th><th>NM_UE</th><th>SQ_CANDIDATO</th><th>NR_ORDEM_BEM_CANDIDATO</th><th>CD_TIPO_BEM_CANDIDATO</th><th>DS_TIPO_BEM_CANDIDATO</th><th>DS_BEM_CANDIDATO</th><th>VR_BEM_CANDIDATO</th><th>DT_ULT_ATUAL_BEM_CANDIDATO</th><th>HH_ULT_ATUAL_BEM_CANDIDATO</th></tr></thead><tbody><tr><td>22/01/2025</td><td>15:03:56</td><td>2020</td><td>2</td><td>Eleição Ordinária</td><td>426</td><td>Eleições Municipais 2020</td><td>15/11/2020</td><td>PB</td><td>22411</td><td>UMBUZEIRO</td><td>150001212623</td><td>1</td><td>13</td><td>Terreno</td><td>TERRENO LOCALIZADO NO LOTEAMENTO  DR. JOSÉ NIVALDO, SURUBIM-PE</td><td>76800,00</td><td>15/11/2020</td><td>22:05:27</td></tr><tr><td>22/01/2025</td><td>15:03:56</td><td>2020</td><td>2</td><td>Eleição Ordinária</td><td>426</td><td>Eleições Municipais 2020</td><td>15/11/2020</td><td>PB</td><td>20990</td><td>NATUBA</td><td>150001213783</td><td>1</td><td>13</td><td>Terreno</td><td>PROPRIEDADE RURAL 60 HECTARE, NO SITIO COVÕES, NATUBA-PB</td><td>40000,00</td><td>15/11/2020</td><td>21:51:07</td></tr><tr><td>22/01/2025</td><td>15:03:56</td><td>2020</td><td>2</td><td>Eleição Ordinária</td><td>426</td><td>Eleições Municipais 2020</td><td>15/11/2020</td><td>PB</td><td>20990</td><td>NATUBA</td><td>150001213783</td><td>2</td><td>13</td><td>Terreno</td><td>UM TERRENO E PRÉDIO NA AVENIDA DR FRANCISCO MONTENEGRO, 48, NO 1. PISO A MEDIDA 4M X 7M DE LARGURA, COM A CRIPTA PANTHEON DR. FRANCISCO MONTENEGRO E NO 2. PISO, MEDIDAS DE 7X7M</td><td>60000,00</td><td>15/11/2020</td><td>21:51:07</td></tr><tr><td>22/01/2025</td><td>15:03:56</td><td>2020</td><td>2</td><td>Eleição Ordinária</td><td>426</td><td>Eleições Municipais 2020</td><td>15/11/2020</td><td>PB</td><td>19658</td><td>CABEDELO</td><td>150001215952</td><td>2</td><td>19</td><td>Outros bens imóveis</td><td>Apartamento em Construção de 60m² localizado na rua Bancário Antonio Rosa da Silva, S/N, Bancários - João Pessoa/PB</td><td>285000,00</td><td>15/11/2020</td><td>21:51:09</td></tr><tr><td>22/01/2025</td><td>15:03:56</td><td>2020</td><td>2</td><td>Eleição Ordinária</td><td>426</td><td>Eleições Municipais 2020</td><td>15/11/2020</td><td>PB</td><td>19658</td><td>CABEDELO</td><td>150001216673</td><td>1</td><td>13</td><td>Terreno</td><td>1/3 do lote de terreno sob No. 07, quadra Y, Loteamnento Jardim Prolongado Jardim Atlantico - Cabedelo-PB</td><td>23333,33</td><td>15/11/2020</td><td>21:51:09</td></tr><tr><td>22/01/2025</td><td>15:03:56</td><td>2020</td><td>2</td><td>Eleição Ordinária</td><td>426</td><td>Eleições Municipais 2020</td><td>15/11/2020</td><td>PB</td><td>19658</td><td>CABEDELO</td><td>150001216692</td><td>1</td><td>19</td><td>Outros bens imóveis</td><td>Sítio de aproximadamente 0,6 hectare, localizado no sitio Jardim, no município de Serraria, estado da Paraiba</td><td>40000,00</td><td>15/11/2020</td><td>21:51:09</td></tr><tr><td>22/01/2025</td><td>15:03:56</td><td>2020</td><td>2</td><td>Eleição Ordinária</td><td>426</td><td>Eleições Municipais 2020</td><td>15/11/2020</td><td>PB</td><td>19658</td><td>CABEDELO</td><td>150001216692</td><td>2</td><td>19</td><td>Outros bens imóveis</td><td>Sítio de aproximadamente 0,6 hectare, localizado no sitio Jardim, no município de Serraria, estado da Paraiba</td><td>40000,00</td><td>15/11/2020</td><td>21:51:09</td></tr><tr><td>22/01/2025</td><td>15:03:56</td><td>2020</td><td>2</td><td>Eleição Ordinária</td><td>426</td><td>Eleições Municipais 2020</td><td>15/11/2020</td><td>PB</td><td>21512</td><td>QUEIMADAS</td><td>150001216696</td><td>4</td><td>13</td><td>Terreno</td><td>Trinta lotes de terrenos, localizados no Loteamento Novo Horizonte, Queimadas/PB.</td><td>1350000,00</td><td>15/11/2020</td><td>21:47:46</td></tr><tr><td>22/01/2025</td><td>15:03:56</td><td>2020</td><td>2</td><td>Eleição Ordinária</td><td>426</td><td>Eleições Municipais 2020</td><td>15/11/2020</td><td>PB</td><td>21512</td><td>QUEIMADAS</td><td>150001216696</td><td>5</td><td>26</td><td>Linha telefônica</td><td>Telefonia fixa e móvel</td><td>0,00</td><td>15/11/2020</td><td>21:47:46</td></tr><tr><td>22/01/2025</td><td>15:03:56</td><td>2020</td><td>2</td><td>Eleição Ordinária</td><td>426</td><td>Eleições Municipais 2020</td><td>15/11/2020</td><td>PB</td><td>21512</td><td>QUEIMADAS</td><td>150001216730</td><td>1</td><td>19</td><td>Outros bens imóveis</td><td>Propriedade rural com casa edificada, localizadas no Sítio Bodopitá, Queimadas/PB.</td><td>30000,00</td><td>15/11/2020</td><td>21:47:46</td></tr></tbody></table></div>"
      ]
     },
     "metadata": {
      "application/vnd.databricks.v1+output": {
       "addedWidgets": {},
       "aggData": [],
       "aggError": "",
       "aggOverflow": false,
       "aggSchema": [],
       "aggSeriesLimitReached": false,
       "aggType": "",
       "arguments": {},
       "columnCustomDisplayInfos": {},
       "data": [
        [
         "22/01/2025",
         "15:03:56",
         "2020",
         "2",
         "Eleição Ordinária",
         "426",
         "Eleições Municipais 2020",
         "15/11/2020",
         "PB",
         "22411",
         "UMBUZEIRO",
         "150001212623",
         "1",
         "13",
         "Terreno",
         "TERRENO LOCALIZADO NO LOTEAMENTO  DR. JOSÉ NIVALDO, SURUBIM-PE",
         "76800,00",
         "15/11/2020",
         "22:05:27"
        ],
        [
         "22/01/2025",
         "15:03:56",
         "2020",
         "2",
         "Eleição Ordinária",
         "426",
         "Eleições Municipais 2020",
         "15/11/2020",
         "PB",
         "20990",
         "NATUBA",
         "150001213783",
         "1",
         "13",
         "Terreno",
         "PROPRIEDADE RURAL 60 HECTARE, NO SITIO COVÕES, NATUBA-PB",
         "40000,00",
         "15/11/2020",
         "21:51:07"
        ],
        [
         "22/01/2025",
         "15:03:56",
         "2020",
         "2",
         "Eleição Ordinária",
         "426",
         "Eleições Municipais 2020",
         "15/11/2020",
         "PB",
         "20990",
         "NATUBA",
         "150001213783",
         "2",
         "13",
         "Terreno",
         "UM TERRENO E PRÉDIO NA AVENIDA DR FRANCISCO MONTENEGRO, 48, NO 1. PISO A MEDIDA 4M X 7M DE LARGURA, COM A CRIPTA PANTHEON DR. FRANCISCO MONTENEGRO E NO 2. PISO, MEDIDAS DE 7X7M",
         "60000,00",
         "15/11/2020",
         "21:51:07"
        ],
        [
         "22/01/2025",
         "15:03:56",
         "2020",
         "2",
         "Eleição Ordinária",
         "426",
         "Eleições Municipais 2020",
         "15/11/2020",
         "PB",
         "19658",
         "CABEDELO",
         "150001215952",
         "2",
         "19",
         "Outros bens imóveis",
         "Apartamento em Construção de 60m² localizado na rua Bancário Antonio Rosa da Silva, S/N, Bancários - João Pessoa/PB",
         "285000,00",
         "15/11/2020",
         "21:51:09"
        ],
        [
         "22/01/2025",
         "15:03:56",
         "2020",
         "2",
         "Eleição Ordinária",
         "426",
         "Eleições Municipais 2020",
         "15/11/2020",
         "PB",
         "19658",
         "CABEDELO",
         "150001216673",
         "1",
         "13",
         "Terreno",
         "1/3 do lote de terreno sob No. 07, quadra Y, Loteamnento Jardim Prolongado Jardim Atlantico - Cabedelo-PB",
         "23333,33",
         "15/11/2020",
         "21:51:09"
        ],
        [
         "22/01/2025",
         "15:03:56",
         "2020",
         "2",
         "Eleição Ordinária",
         "426",
         "Eleições Municipais 2020",
         "15/11/2020",
         "PB",
         "19658",
         "CABEDELO",
         "150001216692",
         "1",
         "19",
         "Outros bens imóveis",
         "Sítio de aproximadamente 0,6 hectare, localizado no sitio Jardim, no município de Serraria, estado da Paraiba",
         "40000,00",
         "15/11/2020",
         "21:51:09"
        ],
        [
         "22/01/2025",
         "15:03:56",
         "2020",
         "2",
         "Eleição Ordinária",
         "426",
         "Eleições Municipais 2020",
         "15/11/2020",
         "PB",
         "19658",
         "CABEDELO",
         "150001216692",
         "2",
         "19",
         "Outros bens imóveis",
         "Sítio de aproximadamente 0,6 hectare, localizado no sitio Jardim, no município de Serraria, estado da Paraiba",
         "40000,00",
         "15/11/2020",
         "21:51:09"
        ],
        [
         "22/01/2025",
         "15:03:56",
         "2020",
         "2",
         "Eleição Ordinária",
         "426",
         "Eleições Municipais 2020",
         "15/11/2020",
         "PB",
         "21512",
         "QUEIMADAS",
         "150001216696",
         "4",
         "13",
         "Terreno",
         "Trinta lotes de terrenos, localizados no Loteamento Novo Horizonte, Queimadas/PB.",
         "1350000,00",
         "15/11/2020",
         "21:47:46"
        ],
        [
         "22/01/2025",
         "15:03:56",
         "2020",
         "2",
         "Eleição Ordinária",
         "426",
         "Eleições Municipais 2020",
         "15/11/2020",
         "PB",
         "21512",
         "QUEIMADAS",
         "150001216696",
         "5",
         "26",
         "Linha telefônica",
         "Telefonia fixa e móvel",
         "0,00",
         "15/11/2020",
         "21:47:46"
        ],
        [
         "22/01/2025",
         "15:03:56",
         "2020",
         "2",
         "Eleição Ordinária",
         "426",
         "Eleições Municipais 2020",
         "15/11/2020",
         "PB",
         "21512",
         "QUEIMADAS",
         "150001216730",
         "1",
         "19",
         "Outros bens imóveis",
         "Propriedade rural com casa edificada, localizadas no Sítio Bodopitá, Queimadas/PB.",
         "30000,00",
         "15/11/2020",
         "21:47:46"
        ]
       ],
       "datasetInfos": [],
       "dbfsResultPath": null,
       "isJsonSchema": true,
       "metadata": {},
       "overflow": false,
       "plotOptions": {
        "customPlotOptions": {},
        "displayType": "table",
        "pivotAggregation": null,
        "pivotColumns": null,
        "xColumns": null,
        "yColumns": null
       },
       "removedWidgets": [],
       "schema": [
        {
         "metadata": "{}",
         "name": "DT_GERACAO",
         "type": "\"string\""
        },
        {
         "metadata": "{}",
         "name": "HH_GERACAO",
         "type": "\"string\""
        },
        {
         "metadata": "{}",
         "name": "ANO_ELEICAO",
         "type": "\"string\""
        },
        {
         "metadata": "{}",
         "name": "CD_TIPO_ELEICAO",
         "type": "\"string\""
        },
        {
         "metadata": "{}",
         "name": "NM_TIPO_ELEICAO",
         "type": "\"string\""
        },
        {
         "metadata": "{}",
         "name": "CD_ELEICAO",
         "type": "\"string\""
        },
        {
         "metadata": "{}",
         "name": "DS_ELEICAO",
         "type": "\"string\""
        },
        {
         "metadata": "{}",
         "name": "DT_ELEICAO",
         "type": "\"string\""
        },
        {
         "metadata": "{}",
         "name": "SG_UF",
         "type": "\"string\""
        },
        {
         "metadata": "{}",
         "name": "SG_UE",
         "type": "\"string\""
        },
        {
         "metadata": "{}",
         "name": "NM_UE",
         "type": "\"string\""
        },
        {
         "metadata": "{}",
         "name": "SQ_CANDIDATO",
         "type": "\"string\""
        },
        {
         "metadata": "{}",
         "name": "NR_ORDEM_BEM_CANDIDATO",
         "type": "\"string\""
        },
        {
         "metadata": "{}",
         "name": "CD_TIPO_BEM_CANDIDATO",
         "type": "\"string\""
        },
        {
         "metadata": "{}",
         "name": "DS_TIPO_BEM_CANDIDATO",
         "type": "\"string\""
        },
        {
         "metadata": "{}",
         "name": "DS_BEM_CANDIDATO",
         "type": "\"string\""
        },
        {
         "metadata": "{}",
         "name": "VR_BEM_CANDIDATO",
         "type": "\"string\""
        },
        {
         "metadata": "{}",
         "name": "DT_ULT_ATUAL_BEM_CANDIDATO",
         "type": "\"string\""
        },
        {
         "metadata": "{}",
         "name": "HH_ULT_ATUAL_BEM_CANDIDATO",
         "type": "\"string\""
        }
       ],
       "type": "table"
      }
     },
     "output_type": "display_data"
    }
   ],
   "source": [
    "%sql\n",
    "--Teste tabela bens sem os \"SQ_CANDIDATO\" nulos\n",
    "SELECT \n",
    "  *\n",
    "FROM \n",
    "  eleicao_bronze.bens_declarados\n",
    "WHERE \n",
    "  SQ_CANDIDATO IS NOT NULL -- Retirando linhas que não podemos fazer relação\n",
    "LIMIT 10"
   ]
  },
  {
   "cell_type": "code",
   "execution_count": 0,
   "metadata": {
    "application/vnd.databricks.v1+cell": {
     "cellMetadata": {
      "byteLimit": 2048000,
      "implicitDf": true,
      "rowLimit": 10000
     },
     "inputWidgets": {},
     "nuid": "65d40fb6-66ab-4394-9f49-d60372da6117",
     "showTitle": false,
     "tableResultSettingsMap": {},
     "title": ""
    }
   },
   "outputs": [
    {
     "output_type": "display_data",
     "data": {
      "text/html": [
       "<style scoped>\n",
       "  .table-result-container {\n",
       "    max-height: 300px;\n",
       "    overflow: auto;\n",
       "  }\n",
       "  table, th, td {\n",
       "    border: 1px solid black;\n",
       "    border-collapse: collapse;\n",
       "  }\n",
       "  th, td {\n",
       "    padding: 5px;\n",
       "  }\n",
       "  th {\n",
       "    text-align: left;\n",
       "  }\n",
       "</style><div class='table-result-container'><table class='table-result'><thead style='background-color: white'><tr><th>ANO_ELEICAO</th></tr></thead><tbody><tr><td>2020</td></tr><tr><td>2018</td></tr><tr><td>2022</td></tr></tbody></table></div>"
      ]
     },
     "metadata": {
      "application/vnd.databricks.v1+output": {
       "addedWidgets": {},
       "aggData": [],
       "aggError": "",
       "aggOverflow": false,
       "aggSchema": [],
       "aggSeriesLimitReached": false,
       "aggType": "",
       "arguments": {},
       "columnCustomDisplayInfos": {},
       "data": [
        [
         "2020"
        ],
        [
         "2018"
        ],
        [
         "2022"
        ]
       ],
       "datasetInfos": [],
       "dbfsResultPath": null,
       "isJsonSchema": true,
       "metadata": {},
       "overflow": false,
       "plotOptions": {
        "customPlotOptions": {},
        "displayType": "table",
        "pivotAggregation": null,
        "pivotColumns": null,
        "xColumns": null,
        "yColumns": null
       },
       "removedWidgets": [],
       "schema": [
        {
         "metadata": "{}",
         "name": "ANO_ELEICAO",
         "type": "\"string\""
        }
       ],
       "type": "table"
      }
     },
     "output_type": "display_data"
    }
   ],
   "source": [
    "%sql\n",
    "--Validando campo \"ANO_ELEICAO\"\n",
    "SELECT \n",
    "  DISTINCT ANO_ELEICAO\n",
    "FROM \n",
    "  eleicao_bronze.bens_declarados\n",
    "WHERE \n",
    "  SQ_CANDIDATO IS NOT NULL \n"
   ]
  },
  {
   "cell_type": "code",
   "execution_count": 0,
   "metadata": {
    "application/vnd.databricks.v1+cell": {
     "cellMetadata": {
      "byteLimit": 2048000,
      "rowLimit": 10000
     },
     "inputWidgets": {},
     "nuid": "2e7cf2d9-b82b-4e53-b7bc-93d684872814",
     "showTitle": false,
     "tableResultSettingsMap": {},
     "title": ""
    }
   },
   "outputs": [
    {
     "output_type": "stream",
     "name": "stdout",
     "output_type": "stream",
     "text": [
      "+-----------+-----------------+--------+\n|ANO_ELEICAO|len(SQ_CANDIDATO)|count(1)|\n+-----------+-----------------+--------+\n|       2020|               12|  837364|\n|       2020|               11|  177933|\n|       2022|               11|   92561|\n|       2018|               12|   71481|\n|       2018|               11|   22046|\n+-----------+-----------------+--------+\n\n"
     ]
    }
   ],
   "source": [
    "#Validando quntidade de registros de candiatos por ano por quantidade de caracteres no campo\n",
    "spark.sql(\"SELECT ANO_ELEICAO, LEN(SQ_CANDIDATO), COUNT(*) FROM eleicao_bronze.bens_declarados WHERE SQ_CANDIDATO IS NOT NULL GROUP BY 1,2\").show()"
   ]
  },
  {
   "cell_type": "code",
   "execution_count": 0,
   "metadata": {
    "application/vnd.databricks.v1+cell": {
     "cellMetadata": {
      "byteLimit": 2048000,
      "implicitDf": true,
      "rowLimit": 10000
     },
     "inputWidgets": {},
     "nuid": "65cf63e7-2036-4c10-b580-870a18720f58",
     "showTitle": false,
     "tableResultSettingsMap": {},
     "title": ""
    }
   },
   "outputs": [
    {
     "output_type": "display_data",
     "data": {
      "text/html": [
       "<style scoped>\n",
       "  .table-result-container {\n",
       "    max-height: 300px;\n",
       "    overflow: auto;\n",
       "  }\n",
       "  table, th, td {\n",
       "    border: 1px solid black;\n",
       "    border-collapse: collapse;\n",
       "  }\n",
       "  th, td {\n",
       "    padding: 5px;\n",
       "  }\n",
       "  th {\n",
       "    text-align: left;\n",
       "  }\n",
       "</style><div class='table-result-container'><table class='table-result'><thead style='background-color: white'><tr><th>VALIDACAO_QTD</th></tr></thead><tbody><tr><td>16039</td></tr></tbody></table></div>"
      ]
     },
     "metadata": {
      "application/vnd.databricks.v1+output": {
       "addedWidgets": {},
       "aggData": [],
       "aggError": "",
       "aggOverflow": false,
       "aggSchema": [],
       "aggSeriesLimitReached": false,
       "aggType": "",
       "arguments": {},
       "columnCustomDisplayInfos": {},
       "data": [
        [
         16039
        ]
       ],
       "datasetInfos": [],
       "dbfsResultPath": null,
       "isJsonSchema": true,
       "metadata": {},
       "overflow": false,
       "plotOptions": {
        "customPlotOptions": {},
        "displayType": "table",
        "pivotAggregation": null,
        "pivotColumns": null,
        "xColumns": null,
        "yColumns": null
       },
       "removedWidgets": [],
       "schema": [
        {
         "metadata": "{}",
         "name": "VALIDACAO_QTD",
         "type": "\"long\""
        }
       ],
       "type": "table"
      }
     },
     "output_type": "display_data"
    }
   ],
   "source": [
    "%sql\n",
    "--Validando campo \"VR_BEM_CANDIDATO\"\n",
    "SELECT \n",
    "  COUNT(*) VALIDACAO_QTD\n",
    "FROM \n",
    "  eleicao_bronze.bens_declarados\n",
    "WHERE \n",
    "  SQ_CANDIDATO IS NOT NULL \n",
    "  AND VR_BEM_CANDIDATO IS NULL"
   ]
  },
  {
   "cell_type": "code",
   "execution_count": 0,
   "metadata": {
    "application/vnd.databricks.v1+cell": {
     "cellMetadata": {
      "byteLimit": 2048000,
      "implicitDf": true,
      "rowLimit": 10000
     },
     "inputWidgets": {},
     "nuid": "099691fc-45b7-40db-94fc-72bb73881131",
     "showTitle": false,
     "tableResultSettingsMap": {},
     "title": ""
    }
   },
   "outputs": [
    {
     "output_type": "display_data",
     "data": {
      "text/html": [
       "<style scoped>\n",
       "  .table-result-container {\n",
       "    max-height: 300px;\n",
       "    overflow: auto;\n",
       "  }\n",
       "  table, th, td {\n",
       "    border: 1px solid black;\n",
       "    border-collapse: collapse;\n",
       "  }\n",
       "  th, td {\n",
       "    padding: 5px;\n",
       "  }\n",
       "  th {\n",
       "    text-align: left;\n",
       "  }\n",
       "</style><div class='table-result-container'><table class='table-result'><thead style='background-color: white'><tr><th>VALIDACAO_QTD</th></tr></thead><tbody><tr><td>0</td></tr></tbody></table></div>"
      ]
     },
     "metadata": {
      "application/vnd.databricks.v1+output": {
       "addedWidgets": {},
       "aggData": [],
       "aggError": "",
       "aggOverflow": false,
       "aggSchema": [],
       "aggSeriesLimitReached": false,
       "aggType": "",
       "arguments": {},
       "columnCustomDisplayInfos": {},
       "data": [
        [
         0
        ]
       ],
       "datasetInfos": [],
       "dbfsResultPath": null,
       "isJsonSchema": true,
       "metadata": {},
       "overflow": false,
       "plotOptions": {
        "customPlotOptions": {},
        "displayType": "table",
        "pivotAggregation": null,
        "pivotColumns": null,
        "xColumns": null,
        "yColumns": null
       },
       "removedWidgets": [],
       "schema": [
        {
         "metadata": "{}",
         "name": "VALIDACAO_QTD",
         "type": "\"long\""
        }
       ],
       "type": "table"
      }
     },
     "output_type": "display_data"
    }
   ],
   "source": [
    "%sql\n",
    "--Validando campo \"VR_BEM_CANDIDATO\"\n",
    "SELECT \n",
    "  COUNT(*) VALIDACAO_QTD\n",
    "FROM \n",
    "  eleicao_bronze.bens_declarados\n",
    "WHERE \n",
    "  SQ_CANDIDATO IS NOT NULL \n",
    "  AND VR_BEM_CANDIDATO < 0 "
   ]
  },
  {
   "cell_type": "markdown",
   "metadata": {
    "application/vnd.databricks.v1+cell": {
     "cellMetadata": {},
     "inputWidgets": {},
     "nuid": "925f7646-ef9e-4206-8335-928eaa5c3eb8",
     "showTitle": false,
     "tableResultSettingsMap": {},
     "title": ""
    }
   },
   "source": [
    "Como observado, o campo \"VR_BEM_CANDIDATO\" pode conter valores nulos, segundo a documentação valores sem autorização de serem divulgados deveriam conter valor \"-4\", como os nulos fogem a excessão irei converte-los para valor zero (\"0\"), mantendo assim a entrada do dado mas não afetando seu valor."
   ]
  },
  {
   "cell_type": "markdown",
   "metadata": {
    "application/vnd.databricks.v1+cell": {
     "cellMetadata": {},
     "inputWidgets": {},
     "nuid": "15a16dc3-ce51-48ac-aa95-140b614c62fb",
     "showTitle": false,
     "tableResultSettingsMap": {},
     "title": ""
    }
   },
   "source": [
    "Agora converter os tipos de colunas da tabela bens e agrupar para criação da tabela Silver."
   ]
  },
  {
   "cell_type": "code",
   "execution_count": 0,
   "metadata": {
    "application/vnd.databricks.v1+cell": {
     "cellMetadata": {
      "byteLimit": 2048000,
      "rowLimit": 10000
     },
     "inputWidgets": {},
     "nuid": "4a93a346-f577-4656-aa85-783d7c3cb0bb",
     "showTitle": false,
     "tableResultSettingsMap": {},
     "title": ""
    }
   },
   "outputs": [
    {
     "output_type": "display_data",
     "data": {
      "text/html": [
       "<style scoped>\n",
       "  .table-result-container {\n",
       "    max-height: 300px;\n",
       "    overflow: auto;\n",
       "  }\n",
       "  table, th, td {\n",
       "    border: 1px solid black;\n",
       "    border-collapse: collapse;\n",
       "  }\n",
       "  th, td {\n",
       "    padding: 5px;\n",
       "  }\n",
       "  th {\n",
       "    text-align: left;\n",
       "  }\n",
       "</style><div class='table-result-container'><table class='table-result'><thead style='background-color: white'><tr><th>SQ_CANDIDATO</th><th>ANO_ELEICAO</th><th>CD_TIPO_BEM_CANDIDATO</th><th>DS_TIPO_BEM_CANDIDATO</th><th>VR_BEM_CANDIDATO</th></tr></thead><tbody><tr><td>160001144090</td><td>2020</td><td>13</td><td>Terreno</td><td>0.0</td></tr><tr><td>130000795365</td><td>2020</td><td>19</td><td>Outros bens imóveis</td><td>50000.0</td></tr><tr><td>50001061515</td><td>2020</td><td>19</td><td>Outros bens imóveis</td><td>9000.0</td></tr><tr><td>160001204549</td><td>2020</td><td>13</td><td>Terreno</td><td>350000.0</td></tr><tr><td>130000827854</td><td>2020</td><td>13</td><td>Terreno</td><td>50000.0</td></tr><tr><td>130000843073</td><td>2020</td><td>19</td><td>Outros bens imóveis</td><td>50000.0</td></tr><tr><td>60000984399</td><td>2020</td><td>13</td><td>Terreno</td><td>25000.0</td></tr><tr><td>60001243623</td><td>2020</td><td>13</td><td>Terreno</td><td>28000.0</td></tr><tr><td>160000782330</td><td>2020</td><td>45</td><td>Aplicação de renda fixa (CDB, RDB e outros)</td><td>13791.05</td></tr><tr><td>190000636318</td><td>2020</td><td>13</td><td>Terreno</td><td>98000.0</td></tr></tbody></table></div>"
      ]
     },
     "metadata": {
      "application/vnd.databricks.v1+output": {
       "addedWidgets": {},
       "aggData": [],
       "aggError": "",
       "aggOverflow": false,
       "aggSchema": [],
       "aggSeriesLimitReached": false,
       "aggType": "",
       "arguments": {},
       "columnCustomDisplayInfos": {},
       "data": [
        [
         160001144090,
         2020,
         13,
         "Terreno",
         0.0
        ],
        [
         130000795365,
         2020,
         19,
         "Outros bens imóveis",
         50000.0
        ],
        [
         50001061515,
         2020,
         19,
         "Outros bens imóveis",
         9000.0
        ],
        [
         160001204549,
         2020,
         13,
         "Terreno",
         350000.0
        ],
        [
         130000827854,
         2020,
         13,
         "Terreno",
         50000.0
        ],
        [
         130000843073,
         2020,
         19,
         "Outros bens imóveis",
         50000.0
        ],
        [
         60000984399,
         2020,
         13,
         "Terreno",
         25000.0
        ],
        [
         60001243623,
         2020,
         13,
         "Terreno",
         28000.0
        ],
        [
         160000782330,
         2020,
         45,
         "Aplicação de renda fixa (CDB, RDB e outros)",
         13791.05
        ],
        [
         190000636318,
         2020,
         13,
         "Terreno",
         98000.0
        ]
       ],
       "datasetInfos": [],
       "dbfsResultPath": null,
       "isJsonSchema": true,
       "metadata": {},
       "overflow": false,
       "plotOptions": {
        "customPlotOptions": {},
        "displayType": "table",
        "pivotAggregation": null,
        "pivotColumns": null,
        "xColumns": null,
        "yColumns": null
       },
       "removedWidgets": [],
       "schema": [
        {
         "metadata": "{}",
         "name": "SQ_CANDIDATO",
         "type": "\"long\""
        },
        {
         "metadata": "{}",
         "name": "ANO_ELEICAO",
         "type": "\"long\""
        },
        {
         "metadata": "{}",
         "name": "CD_TIPO_BEM_CANDIDATO",
         "type": "\"long\""
        },
        {
         "metadata": "{}",
         "name": "DS_TIPO_BEM_CANDIDATO",
         "type": "\"string\""
        },
        {
         "metadata": "{}",
         "name": "VR_BEM_CANDIDATO",
         "type": "\"double\""
        }
       ],
       "type": "table"
      }
     },
     "output_type": "display_data"
    }
   ],
   "source": [
    "#df bens candidatos \n",
    "df = sqlContext.sql(\"\"\"\n",
    "    WITH\n",
    "        columns_altered AS (\n",
    "            SELECT\n",
    "                 CAST(SQ_CANDIDATO AS BIGINT) AS SQ_CANDIDATO\n",
    "                ,CAST(ANO_ELEICAO AS BIGINT) AS ANO_ELEICAO\n",
    "                ,CAST(CD_TIPO_BEM_CANDIDATO AS BIGINT) AS CD_TIPO_BEM_CANDIDATO\n",
    "                ,DS_TIPO_BEM_CANDIDATO\n",
    "                ,SUM(CAST(TRANSLATE(VR_BEM_CANDIDATO,',','.') AS DOUBLE)) AS VR_BEM_CANDIDATO --TRANSLATE PARA TROCAR VIRGULA(,) POR PONTO(.) E DOUBLE COMO FORMATO SENDO O MELHOR DATATYPE PARA NUMEROS RACIONAIS\n",
    "            FROM \n",
    "                eleicao_bronze.bens_declarados\n",
    "            WHERE \n",
    "                SQ_CANDIDATO IS NOT NULL\n",
    "            GROUP BY \n",
    "                1,2,3,4\n",
    "        )\n",
    "    SELECT\n",
    "         SQ_CANDIDATO\n",
    "        ,ANO_ELEICAO\n",
    "        ,CD_TIPO_BEM_CANDIDATO\n",
    "        ,DS_TIPO_BEM_CANDIDATO\n",
    "        ,COALESCE(VR_BEM_CANDIDATO, 0) AS VR_BEM_CANDIDATO\n",
    "    FROM \n",
    "        columns_altered\n",
    "    \"\"\" )\n",
    "df.limit(10).display()"
   ]
  },
  {
   "cell_type": "markdown",
   "metadata": {
    "application/vnd.databricks.v1+cell": {
     "cellMetadata": {
      "byteLimit": 2048000,
      "rowLimit": 10000
     },
     "inputWidgets": {},
     "nuid": "85590e13-3fbb-4019-a770-6af883c80217",
     "showTitle": false,
     "tableResultSettingsMap": {},
     "title": ""
    }
   },
   "source": [
    "Iremos ter dois tipos de tabelas de bens, uma aberta por tipo de bens e outra sumarizada por \"SQ_CANDIDATO\""
   ]
  },
  {
   "cell_type": "code",
   "execution_count": 0,
   "metadata": {
    "application/vnd.databricks.v1+cell": {
     "cellMetadata": {
      "byteLimit": 2048000,
      "rowLimit": 10000
     },
     "inputWidgets": {},
     "nuid": "7e431c28-456d-47de-8955-767cd751b0d1",
     "showTitle": false,
     "tableResultSettingsMap": {},
     "title": ""
    }
   },
   "outputs": [],
   "source": [
    "#Primeira tabela de bens silver por candidato e tipo de bem\n",
    "df.createOrReplaceTempView('bens_candidatos_tipo')\n",
    "\n",
    "permanent_table_name = \"eleicao_silver.bens_candidatos_tipo\"\n",
    "\n",
    "schema = 'eleicao_silver'\n",
    "\n",
    "df.write.format(\"parquet\").saveAsTable(permanent_table_name,mode='append')"
   ]
  },
  {
   "cell_type": "code",
   "execution_count": 0,
   "metadata": {
    "application/vnd.databricks.v1+cell": {
     "cellMetadata": {
      "byteLimit": 2048000,
      "implicitDf": true,
      "rowLimit": 10000
     },
     "inputWidgets": {},
     "nuid": "384ade17-66de-4067-9aa5-3f19ac8656d4",
     "showTitle": false,
     "tableResultSettingsMap": {},
     "title": ""
    }
   },
   "outputs": [
    {
     "output_type": "display_data",
     "data": {
      "text/html": [
       "<style scoped>\n",
       "  .table-result-container {\n",
       "    max-height: 300px;\n",
       "    overflow: auto;\n",
       "  }\n",
       "  table, th, td {\n",
       "    border: 1px solid black;\n",
       "    border-collapse: collapse;\n",
       "  }\n",
       "  th, td {\n",
       "    padding: 5px;\n",
       "  }\n",
       "  th {\n",
       "    text-align: left;\n",
       "  }\n",
       "</style><div class='table-result-container'><table class='table-result'><thead style='background-color: white'><tr><th>SQ_CANDIDATO</th><th>ANO_ELEICAO</th><th>CD_TIPO_BEM_CANDIDATO</th><th>DS_TIPO_BEM_CANDIDATO</th><th>VR_BEM_CANDIDATO</th></tr></thead><tbody><tr><td>210000773759</td><td>2020</td><td>45</td><td>Aplicação de renda fixa (CDB, RDB e outros)</td><td>2765.67</td></tr><tr><td>210000773942</td><td>2020</td><td>45</td><td>Aplicação de renda fixa (CDB, RDB e outros)</td><td>4886.7699999999995</td></tr><tr><td>160000924651</td><td>2020</td><td>13</td><td>Terreno</td><td>30000.0</td></tr><tr><td>130000778579</td><td>2020</td><td>13</td><td>Terreno</td><td>30000.0</td></tr><tr><td>160001145428</td><td>2020</td><td>26</td><td>Linha telefônica</td><td>3909.46</td></tr><tr><td>130000963313</td><td>2020</td><td>32</td><td>Quotas ou quinhões de capital</td><td>4000.0</td></tr><tr><td>160000877803</td><td>2020</td><td>13</td><td>Terreno</td><td>25000.0</td></tr><tr><td>130000826790</td><td>2020</td><td>32</td><td>Quotas ou quinhões de capital</td><td>500000.0</td></tr><tr><td>60000984156</td><td>2020</td><td>45</td><td>Aplicação de renda fixa (CDB, RDB e outros)</td><td>11590.14</td></tr><tr><td>170000650492</td><td>2020</td><td>13</td><td>Terreno</td><td>12000.0</td></tr></tbody></table></div>"
      ]
     },
     "metadata": {
      "application/vnd.databricks.v1+output": {
       "addedWidgets": {},
       "aggData": [],
       "aggError": "",
       "aggOverflow": false,
       "aggSchema": [],
       "aggSeriesLimitReached": false,
       "aggType": "",
       "arguments": {},
       "columnCustomDisplayInfos": {},
       "data": [
        [
         210000773759,
         2020,
         45,
         "Aplicação de renda fixa (CDB, RDB e outros)",
         2765.67
        ],
        [
         210000773942,
         2020,
         45,
         "Aplicação de renda fixa (CDB, RDB e outros)",
         4886.7699999999995
        ],
        [
         160000924651,
         2020,
         13,
         "Terreno",
         30000.0
        ],
        [
         130000778579,
         2020,
         13,
         "Terreno",
         30000.0
        ],
        [
         160001145428,
         2020,
         26,
         "Linha telefônica",
         3909.46
        ],
        [
         130000963313,
         2020,
         32,
         "Quotas ou quinhões de capital",
         4000.0
        ],
        [
         160000877803,
         2020,
         13,
         "Terreno",
         25000.0
        ],
        [
         130000826790,
         2020,
         32,
         "Quotas ou quinhões de capital",
         500000.0
        ],
        [
         60000984156,
         2020,
         45,
         "Aplicação de renda fixa (CDB, RDB e outros)",
         11590.14
        ],
        [
         170000650492,
         2020,
         13,
         "Terreno",
         12000.0
        ]
       ],
       "datasetInfos": [],
       "dbfsResultPath": null,
       "isJsonSchema": true,
       "metadata": {},
       "overflow": false,
       "plotOptions": {
        "customPlotOptions": {},
        "displayType": "table",
        "pivotAggregation": null,
        "pivotColumns": null,
        "xColumns": null,
        "yColumns": null
       },
       "removedWidgets": [],
       "schema": [
        {
         "metadata": "{}",
         "name": "SQ_CANDIDATO",
         "type": "\"long\""
        },
        {
         "metadata": "{}",
         "name": "ANO_ELEICAO",
         "type": "\"long\""
        },
        {
         "metadata": "{}",
         "name": "CD_TIPO_BEM_CANDIDATO",
         "type": "\"long\""
        },
        {
         "metadata": "{}",
         "name": "DS_TIPO_BEM_CANDIDATO",
         "type": "\"string\""
        },
        {
         "metadata": "{}",
         "name": "VR_BEM_CANDIDATO",
         "type": "\"double\""
        }
       ],
       "type": "table"
      }
     },
     "output_type": "display_data"
    }
   ],
   "source": [
    "%sql\n",
    "SELECT \n",
    "  *\n",
    "FROM \n",
    "  eleicao_silver.bens_candidatos_tipo\n",
    "LIMIT 10"
   ]
  },
  {
   "cell_type": "markdown",
   "metadata": {
    "application/vnd.databricks.v1+cell": {
     "cellMetadata": {
      "byteLimit": 2048000,
      "rowLimit": 10000
     },
     "inputWidgets": {},
     "nuid": "542d350d-d381-4f5a-823e-3edc01ae6aa3",
     "showTitle": false,
     "tableResultSettingsMap": {},
     "title": ""
    }
   },
   "source": [
    "A segunda tabela será sumarizada por \"SQ_CANDIDATO\""
   ]
  },
  {
   "cell_type": "code",
   "execution_count": 0,
   "metadata": {
    "application/vnd.databricks.v1+cell": {
     "cellMetadata": {
      "byteLimit": 2048000,
      "rowLimit": 10000
     },
     "inputWidgets": {},
     "nuid": "f32d7057-93ec-401b-b2c5-dc17931e256a",
     "showTitle": false,
     "tableResultSettingsMap": {},
     "title": ""
    }
   },
   "outputs": [
    {
     "output_type": "display_data",
     "data": {
      "text/html": [
       "<style scoped>\n",
       "  .table-result-container {\n",
       "    max-height: 300px;\n",
       "    overflow: auto;\n",
       "  }\n",
       "  table, th, td {\n",
       "    border: 1px solid black;\n",
       "    border-collapse: collapse;\n",
       "  }\n",
       "  th, td {\n",
       "    padding: 5px;\n",
       "  }\n",
       "  th {\n",
       "    text-align: left;\n",
       "  }\n",
       "</style><div class='table-result-container'><table class='table-result'><thead style='background-color: white'><tr><th>SQ_CANDIDATO</th><th>ANO_ELEICAO</th><th>VR_BEM_CANDIDATO</th></tr></thead><tbody><tr><td>150001216730</td><td>2020</td><td>30000.0</td></tr><tr><td>210000760924</td><td>2020</td><td>26000.0</td></tr><tr><td>130001008127</td><td>2020</td><td>711683.6699999999</td></tr><tr><td>150001250320</td><td>2020</td><td>31500.0</td></tr><tr><td>160000632449</td><td>2020</td><td>49071.59</td></tr><tr><td>210000789347</td><td>2020</td><td>36270.880000000005</td></tr><tr><td>160000929897</td><td>2020</td><td>71543.31999999999</td></tr><tr><td>160000930181</td><td>2020</td><td>408267.42</td></tr><tr><td>160000655933</td><td>2020</td><td>339000.0</td></tr><tr><td>60000877208</td><td>2020</td><td>309840.0</td></tr></tbody></table></div>"
      ]
     },
     "metadata": {
      "application/vnd.databricks.v1+output": {
       "addedWidgets": {},
       "aggData": [],
       "aggError": "",
       "aggOverflow": false,
       "aggSchema": [],
       "aggSeriesLimitReached": false,
       "aggType": "",
       "arguments": {},
       "columnCustomDisplayInfos": {},
       "data": [
        [
         150001216730,
         2020,
         30000.0
        ],
        [
         210000760924,
         2020,
         26000.0
        ],
        [
         130001008127,
         2020,
         711683.6699999999
        ],
        [
         150001250320,
         2020,
         31500.0
        ],
        [
         160000632449,
         2020,
         49071.59
        ],
        [
         210000789347,
         2020,
         36270.880000000005
        ],
        [
         160000929897,
         2020,
         71543.31999999999
        ],
        [
         160000930181,
         2020,
         408267.42
        ],
        [
         160000655933,
         2020,
         339000.0
        ],
        [
         60000877208,
         2020,
         309840.0
        ]
       ],
       "datasetInfos": [],
       "dbfsResultPath": null,
       "isJsonSchema": true,
       "metadata": {},
       "overflow": false,
       "plotOptions": {
        "customPlotOptions": {},
        "displayType": "table",
        "pivotAggregation": null,
        "pivotColumns": null,
        "xColumns": null,
        "yColumns": null
       },
       "removedWidgets": [],
       "schema": [
        {
         "metadata": "{}",
         "name": "SQ_CANDIDATO",
         "type": "\"long\""
        },
        {
         "metadata": "{}",
         "name": "ANO_ELEICAO",
         "type": "\"long\""
        },
        {
         "metadata": "{}",
         "name": "VR_BEM_CANDIDATO",
         "type": "\"double\""
        }
       ],
       "type": "table"
      }
     },
     "output_type": "display_data"
    }
   ],
   "source": [
    "#df bens candidatos agrupada\n",
    "df = sqlContext.sql(\"\"\"\n",
    "    WITH\n",
    "        columns_altered AS (\n",
    "            SELECT\n",
    "                 CAST(SQ_CANDIDATO AS BIGINT) AS SQ_CANDIDATO\n",
    "                ,CAST(ANO_ELEICAO AS BIGINT) AS ANO_ELEICAO\n",
    "                ,SUM(CAST(TRANSLATE(VR_BEM_CANDIDATO,',','.') AS DOUBLE)) AS VR_BEM_CANDIDATO --TRANSLATE PARA TROCAR VIRGULA(,) POR PONTO(.) E DOUBLE COMO FORMATO SENDO O MELHOR DATATYPE PARA NUMEROS RACIONAIS\n",
    "            FROM \n",
    "                eleicao_bronze.bens_declarados\n",
    "            WHERE \n",
    "                SQ_CANDIDATO IS NOT NULL\n",
    "            GROUP BY \n",
    "                1,2\n",
    "        )\n",
    "    SELECT\n",
    "         SQ_CANDIDATO\n",
    "        ,ANO_ELEICAO\n",
    "        ,SUM(VR_BEM_CANDIDATO) AS VR_BEM_CANDIDATO --ajustando nulos para zero\n",
    "    FROM \n",
    "        columns_altered\n",
    "    GROUP BY \n",
    "        1,2\n",
    "    \"\"\" )\n",
    "df.limit(10).display()"
   ]
  },
  {
   "cell_type": "code",
   "execution_count": 0,
   "metadata": {
    "application/vnd.databricks.v1+cell": {
     "cellMetadata": {
      "byteLimit": 2048000,
      "rowLimit": 10000
     },
     "inputWidgets": {},
     "nuid": "f904e5c8-87c4-494b-b1d6-8c2310a0e9bc",
     "showTitle": false,
     "tableResultSettingsMap": {},
     "title": ""
    }
   },
   "outputs": [],
   "source": [
    "#tabela de bens por candidato silver \n",
    "df.createOrReplaceTempView('bens_candidatos')\n",
    "\n",
    "permanent_table_name = \"eleicao_silver.bens_candidatos\"\n",
    "\n",
    "schema = 'eleicao_silver'\n",
    "\n",
    "df.write.format(\"parquet\").saveAsTable(permanent_table_name,mode='append')"
   ]
  },
  {
   "cell_type": "code",
   "execution_count": 0,
   "metadata": {
    "application/vnd.databricks.v1+cell": {
     "cellMetadata": {
      "byteLimit": 2048000,
      "implicitDf": true,
      "rowLimit": 10000
     },
     "inputWidgets": {},
     "nuid": "9f55af0e-103b-434a-acb0-d192a5f29c7b",
     "showTitle": false,
     "tableResultSettingsMap": {},
     "title": ""
    }
   },
   "outputs": [
    {
     "output_type": "display_data",
     "data": {
      "text/html": [
       "<style scoped>\n",
       "  .table-result-container {\n",
       "    max-height: 300px;\n",
       "    overflow: auto;\n",
       "  }\n",
       "  table, th, td {\n",
       "    border: 1px solid black;\n",
       "    border-collapse: collapse;\n",
       "  }\n",
       "  th, td {\n",
       "    padding: 5px;\n",
       "  }\n",
       "  th {\n",
       "    text-align: left;\n",
       "  }\n",
       "</style><div class='table-result-container'><table class='table-result'><thead style='background-color: white'><tr><th>SQ_CANDIDATO</th><th>ANO_ELEICAO</th><th>VR_BEM_CANDIDATO</th></tr></thead><tbody><tr><td>130000929888</td><td>2020</td><td>61000.0</td></tr><tr><td>130000838583</td><td>2020</td><td>108000.0</td></tr><tr><td>160000925401</td><td>2020</td><td>3000.0</td></tr><tr><td>130000981347</td><td>2020</td><td>81200.0</td></tr><tr><td>160001208242</td><td>2020</td><td>4330.0</td></tr><tr><td>130001002987</td><td>2020</td><td>113000.0</td></tr><tr><td>130000829574</td><td>2020</td><td>3513773.52</td></tr><tr><td>130000738680</td><td>2020</td><td>437000.0</td></tr><tr><td>130000886691</td><td>2020</td><td>34955.0</td></tr><tr><td>160001005183</td><td>2020</td><td>154987.13</td></tr></tbody></table></div>"
      ]
     },
     "metadata": {
      "application/vnd.databricks.v1+output": {
       "addedWidgets": {},
       "aggData": [],
       "aggError": "",
       "aggOverflow": false,
       "aggSchema": [],
       "aggSeriesLimitReached": false,
       "aggType": "",
       "arguments": {},
       "columnCustomDisplayInfos": {},
       "data": [
        [
         130000929888,
         2020,
         61000.0
        ],
        [
         130000838583,
         2020,
         108000.0
        ],
        [
         160000925401,
         2020,
         3000.0
        ],
        [
         130000981347,
         2020,
         81200.0
        ],
        [
         160001208242,
         2020,
         4330.0
        ],
        [
         130001002987,
         2020,
         113000.0
        ],
        [
         130000829574,
         2020,
         3513773.52
        ],
        [
         130000738680,
         2020,
         437000.0
        ],
        [
         130000886691,
         2020,
         34955.0
        ],
        [
         160001005183,
         2020,
         154987.13
        ]
       ],
       "datasetInfos": [],
       "dbfsResultPath": null,
       "isJsonSchema": true,
       "metadata": {},
       "overflow": false,
       "plotOptions": {
        "customPlotOptions": {},
        "displayType": "table",
        "pivotAggregation": null,
        "pivotColumns": null,
        "xColumns": null,
        "yColumns": null
       },
       "removedWidgets": [],
       "schema": [
        {
         "metadata": "{}",
         "name": "SQ_CANDIDATO",
         "type": "\"long\""
        },
        {
         "metadata": "{}",
         "name": "ANO_ELEICAO",
         "type": "\"long\""
        },
        {
         "metadata": "{}",
         "name": "VR_BEM_CANDIDATO",
         "type": "\"double\""
        }
       ],
       "type": "table"
      }
     },
     "output_type": "display_data"
    }
   ],
   "source": [
    "%sql\n",
    "SELECT \n",
    "  *\n",
    "FROM \n",
    "  eleicao_silver.bens_candidatos\n",
    "LIMIT 10"
   ]
  },
  {
   "cell_type": "code",
   "execution_count": 0,
   "metadata": {
    "application/vnd.databricks.v1+cell": {
     "cellMetadata": {
      "byteLimit": 2048000,
      "implicitDf": true,
      "rowLimit": 10000
     },
     "inputWidgets": {},
     "nuid": "904d6482-65bf-4c7f-8820-4a4d3e5c6b5d",
     "showTitle": false,
     "tableResultSettingsMap": {},
     "title": ""
    }
   },
   "outputs": [
    {
     "output_type": "display_data",
     "data": {
      "text/html": [
       "<style scoped>\n",
       "  .table-result-container {\n",
       "    max-height: 300px;\n",
       "    overflow: auto;\n",
       "  }\n",
       "  table, th, td {\n",
       "    border: 1px solid black;\n",
       "    border-collapse: collapse;\n",
       "  }\n",
       "  th, td {\n",
       "    padding: 5px;\n",
       "  }\n",
       "  th {\n",
       "    text-align: left;\n",
       "  }\n",
       "</style><div class='table-result-container'><table class='table-result'><thead style='background-color: white'><tr><th>SQ_CANDIDATO</th><th>ANO_ELEICAO</th><th>QTDS</th></tr></thead><tbody></tbody></table></div>"
      ]
     },
     "metadata": {
      "application/vnd.databricks.v1+output": {
       "addedWidgets": {},
       "aggData": [],
       "aggError": "",
       "aggOverflow": false,
       "aggSchema": [],
       "aggSeriesLimitReached": false,
       "aggType": "",
       "arguments": {},
       "columnCustomDisplayInfos": {},
       "data": [],
       "datasetInfos": [],
       "dbfsResultPath": null,
       "isJsonSchema": true,
       "metadata": {},
       "overflow": false,
       "plotOptions": {
        "customPlotOptions": {},
        "displayType": "table",
        "pivotAggregation": null,
        "pivotColumns": null,
        "xColumns": null,
        "yColumns": null
       },
       "removedWidgets": [],
       "schema": [
        {
         "metadata": "{}",
         "name": "SQ_CANDIDATO",
         "type": "\"long\""
        },
        {
         "metadata": "{}",
         "name": "ANO_ELEICAO",
         "type": "\"long\""
        },
        {
         "metadata": "{}",
         "name": "QTDS",
         "type": "\"long\""
        }
       ],
       "type": "table"
      }
     },
     "output_type": "display_data"
    }
   ],
   "source": [
    "%sql\n",
    "--Validando unicidade do SQ_CANDIDATO\n",
    "SELECT\n",
    "   SQ_CANDIDATO \n",
    "  ,ANO_ELEICAO\n",
    "  ,COUNT(*) AS QTDS\n",
    "FROM \n",
    "  eleicao_silver.bens_candidatos\n",
    "GROUP BY 1,2\n",
    "HAVING COUNT(*) > 1\n",
    "LIMIT 100"
   ]
  },
  {
   "cell_type": "markdown",
   "metadata": {
    "application/vnd.databricks.v1+cell": {
     "cellMetadata": {
      "byteLimit": 2048000,
      "rowLimit": 10000
     },
     "inputWidgets": {},
     "nuid": "fe651d4a-52fd-49a4-95ef-ea71a045d00f",
     "showTitle": false,
     "tableResultSettingsMap": {},
     "title": ""
    }
   },
   "source": [
    "Tabelas de bens de candidatos Silver Layer concluídas"
   ]
  },
  {
   "cell_type": "markdown",
   "metadata": {
    "application/vnd.databricks.v1+cell": {
     "cellMetadata": {
      "byteLimit": 2048000,
      "rowLimit": 10000
     },
     "inputWidgets": {},
     "nuid": "7b25f45e-0c04-48cd-a5d0-449bf0916458",
     "showTitle": false,
     "tableResultSettingsMap": {},
     "title": ""
    }
   },
   "source": [
    "------------------------"
   ]
  }
 ],
 "metadata": {
  "application/vnd.databricks.v1+notebook": {
   "computePreferences": null,
   "dashboards": [
    {
     "elements": [
      {
       "dashboardResultIndex": null,
       "elementNUID": "6b0a0dd7-f0b6-4f31-b9e0-849861550011",
       "elementType": "command",
       "guid": "3c1879d5-2bbb-4f29-b867-ce3a5bd43df4",
       "options": null,
       "position": {
        "height": 3,
        "width": 12,
        "x": 0,
        "y": 0,
        "z": null
       },
       "resultIndex": null
      }
     ],
     "globalVars": {},
     "guid": "",
     "layoutOption": {
      "grid": true,
      "stack": true
     },
     "nuid": "7baa5be9-cda3-4c03-bf4e-1cda356dec70",
     "origId": 3572772044930013,
     "title": "Untitled",
     "version": "DashboardViewV1",
     "width": 1024
    }
   ],
   "environmentMetadata": {
    "base_environment": "",
    "environment_version": "1"
   },
   "inputWidgetPreferences": null,
   "language": "python",
   "notebookMetadata": {
    "mostRecentlyExecutedCommandWithImplicitDF": {
     "commandId": 3572772044929926,
     "dataframes": [
      "_sqldf"
     ]
    },
    "pythonIndentUnit": 4
   },
   "notebookName": "(Clone) Main_pt2",
   "widgets": {}
  }
 },
 "nbformat": 4,
 "nbformat_minor": 0
}