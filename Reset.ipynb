{
 "cells": [
  {
   "cell_type": "markdown",
   "metadata": {
    "application/vnd.databricks.v1+cell": {
     "cellMetadata": {},
     "inputWidgets": {},
     "nuid": "ab4e7751-91d4-4ee2-978b-63dc625e77f4",
     "showTitle": false,
     "tableResultSettingsMap": {},
     "title": ""
    }
   },
   "source": [
    "## Arquivo de reset de cluster"
   ]
  },
  {
   "cell_type": "markdown",
   "metadata": {
    "application/vnd.databricks.v1+cell": {
     "cellMetadata": {},
     "inputWidgets": {},
     "nuid": "53280477-9726-4528-98cd-e2c810ef1f37",
     "showTitle": false,
     "tableResultSettingsMap": {},
     "title": ""
    }
   },
   "source": [
    "Como o Databricks community não salva as tabelas permanentemente e este projeto foi construído em etapas, houve a necessidade de fazer este arquivo para resetar o DBFS ao estado original e dropar a memória do sistema, métodos de restauração de tabelas via memória não funcionaram"
   ]
  },
  {
   "cell_type": "code",
   "execution_count": 0,
   "metadata": {
    "application/vnd.databricks.v1+cell": {
     "cellMetadata": {
      "byteLimit": 2048000,
      "rowLimit": 10000
     },
     "inputWidgets": {},
     "nuid": "0ef1af4f-cd7d-4bcc-8cd4-490940318607",
     "showTitle": false,
     "tableResultSettingsMap": {},
     "title": ""
    }
   },
   "outputs": [
    {
     "output_type": "stream",
     "name": "stdout",
     "output_type": "stream",
     "text": [
      "Out[1]: True"
     ]
    }
   ],
   "source": [
    "#mover arquivos para pasta inicial\n",
    "\n",
    "dbutils.fs.mv(\"dbfs:/FileStore/tables/eleicoes/bens/bem_candidato_2018_BRASIL.csv\", \"dbfs:/FileStore/tables/eleicoes/bem_candidato_2018_BRASIL.csv\") # mover \n",
    "dbutils.fs.mv(\"dbfs:/FileStore/tables/eleicoes/bens/bem_candidato_2020_BRASIL.csv\", \"dbfs:/FileStore/tables/eleicoes/bem_candidato_2020_BRASIL.csv\") # mover\n",
    "dbutils.fs.mv(\"dbfs:/FileStore/tables/eleicoes/bens/bem_candidato_2022_BRASIL.csv\", \"dbfs:/FileStore/tables/eleicoes/bem_candidato_2022_BRASIL.csv\") # mover\n",
    "\n",
    "dbutils.fs.mv(\"dbfs:/FileStore/tables/eleicoes/candidatos/consulta_cand_2018_BRASIL.csv\", \"dbfs:/FileStore/tables/eleicoes/consulta_cand_2018_BRASIL.csv\") # mover\n",
    "dbutils.fs.mv(\"dbfs:/FileStore/tables/eleicoes/candidatos/consulta_cand_2020_BRASIL.csv\", \"dbfs:/FileStore/tables/eleicoes/consulta_cand_2020_BRASIL.csv\") # mover\n",
    "dbutils.fs.mv(\"dbfs:/FileStore/tables/eleicoes/candidatos/consulta_cand_2022_BRASIL.csv\", \"dbfs:/FileStore/tables/eleicoes/consulta_cand_2022_BRASIL.csv\") # mover"
   ]
  },
  {
   "cell_type": "code",
   "execution_count": 0,
   "metadata": {
    "application/vnd.databricks.v1+cell": {
     "cellMetadata": {
      "byteLimit": 2048000,
      "rowLimit": 10000
     },
     "inputWidgets": {},
     "nuid": "9d1f3bf1-16f9-4fd5-a08b-f0799c224a96",
     "showTitle": false,
     "tableResultSettingsMap": {},
     "title": ""
    }
   },
   "outputs": [
    {
     "output_type": "stream",
     "name": "stdout",
     "output_type": "stream",
     "text": [
      "Out[2]: True"
     ]
    }
   ],
   "source": [
    "#deletar pastas criadas\n",
    "dbutils.fs.rm(\"dbfs:/FileStore/tables/eleicoes/candidatos/\", recurse=True) # apagar pasta\n",
    "dbutils.fs.rm(\"dbfs:/FileStore/tables/eleicoes/bens/\", recurse=True) # apagar pasta"
   ]
  },
  {
   "cell_type": "code",
   "execution_count": 0,
   "metadata": {
    "application/vnd.databricks.v1+cell": {
     "cellMetadata": {
      "byteLimit": 2048000,
      "implicitDf": true,
      "rowLimit": 10000
     },
     "inputWidgets": {},
     "nuid": "ec64387f-7ae0-495c-9440-255f9deb8e7b",
     "showTitle": false,
     "tableResultSettingsMap": {},
     "title": ""
    }
   },
   "outputs": [
    {
     "output_type": "display_data",
     "data": {
      "text/html": [
       "<style scoped>\n",
       "  .table-result-container {\n",
       "    max-height: 300px;\n",
       "    overflow: auto;\n",
       "  }\n",
       "  table, th, td {\n",
       "    border: 1px solid black;\n",
       "    border-collapse: collapse;\n",
       "  }\n",
       "  th, td {\n",
       "    padding: 5px;\n",
       "  }\n",
       "  th {\n",
       "    text-align: left;\n",
       "  }\n",
       "</style><div class='table-result-container'><table class='table-result'><thead style='background-color: white'><tr></tr></thead><tbody></tbody></table></div>"
      ]
     },
     "metadata": {
      "application/vnd.databricks.v1+output": {
       "addedWidgets": {},
       "aggData": [],
       "aggError": "",
       "aggOverflow": false,
       "aggSchema": [],
       "aggSeriesLimitReached": false,
       "aggType": "",
       "arguments": {},
       "columnCustomDisplayInfos": {},
       "data": [],
       "datasetInfos": [],
       "dbfsResultPath": null,
       "isJsonSchema": true,
       "metadata": {},
       "overflow": false,
       "plotOptions": {
        "customPlotOptions": {},
        "displayType": "table",
        "pivotAggregation": null,
        "pivotColumns": null,
        "xColumns": null,
        "yColumns": null
       },
       "removedWidgets": [],
       "schema": [],
       "type": "table"
      }
     },
     "output_type": "display_data"
    }
   ],
   "source": [
    "%sql\n",
    "--DROPAR SCHEMAS\n",
    "DROP SCHEMA IF EXISTS eleicao_bronze CASCADE;\n",
    "DROP SCHEMA IF EXISTS eleicao_silver CASCADE;\n",
    "DROP SCHEMA IF EXISTS eleicao_gold CASCADE;"
   ]
  },
  {
   "cell_type": "code",
   "execution_count": 0,
   "metadata": {
    "application/vnd.databricks.v1+cell": {
     "cellMetadata": {
      "byteLimit": 2048000,
      "rowLimit": 10000
     },
     "inputWidgets": {},
     "nuid": "662904d7-99b3-47f4-a42a-7a00736522ea",
     "showTitle": false,
     "tableResultSettingsMap": {},
     "title": ""
    }
   },
   "outputs": [
    {
     "output_type": "stream",
     "name": "stdout",
     "output_type": "stream",
     "text": [
      "Out[8]: True"
     ]
    }
   ],
   "source": [
    "#Remover resquícios das tabelas\n",
    "# dbutils.fs.rm(\"dbfs:/user/hive/warehouse/eleicao_bronze.db/candidatos\",recurse=True)\n",
    "# dbutils.fs.rm(\"dbfs:/user/hive/warehouse/eleicao_bronze.db/bens_declarados\",recurse=True)\n",
    "# dbutils.fs.rm(\"dbfs:/user/hive/warehouse/eleicao_silver.db/candidatos\",recurse=True)\n",
    "# dbutils.fs.rm(\"dbfs:/user/hive/warehouse/eleicao_silver.db/bens_candidatos\",recurse=True)\n",
    "# dbutils.fs.rm(\"dbfs:/user/hive/warehouse/eleicao_silver.db/bens_candidatos_tipo\",recurse=True)\n",
    "# dbutils.fs.rm(\"dbfs:/user/hive/warehouse/eleicao_gold.db/tipo_bem\",recurse=True)\n",
    "# dbutils.fs.rm(\"dbfs:/user/hive/warehouse/eleicao_gold.db/bens_candidatos_tipo\",recurse=True)\n",
    "# dbutils.fs.rm(\"dbfs:/user/hive/warehouse/eleicao_gold.db/patrimonio\",recurse=True)\n",
    "# dbutils.fs.rm(\"dbfs:/user/hive/warehouse/eleicao_gold.db/candidatos\",recurse=True)\n",
    "\n"
   ]
  },
  {
   "cell_type": "code",
   "execution_count": 0,
   "metadata": {
    "application/vnd.databricks.v1+cell": {
     "cellMetadata": {
      "byteLimit": 2048000,
      "implicitDf": true,
      "rowLimit": 10000
     },
     "inputWidgets": {},
     "nuid": "2b83fb43-c47e-4a90-b36e-0c934a88a95d",
     "showTitle": false,
     "tableResultSettingsMap": {},
     "title": ""
    }
   },
   "outputs": [
    {
     "output_type": "display_data",
     "data": {
      "text/html": [
       "<style scoped>\n",
       "  .table-result-container {\n",
       "    max-height: 300px;\n",
       "    overflow: auto;\n",
       "  }\n",
       "  table, th, td {\n",
       "    border: 1px solid black;\n",
       "    border-collapse: collapse;\n",
       "  }\n",
       "  th, td {\n",
       "    padding: 5px;\n",
       "  }\n",
       "  th {\n",
       "    text-align: left;\n",
       "  }\n",
       "</style><div class='table-result-container'><table class='table-result'><thead style='background-color: white'><tr></tr></thead><tbody></tbody></table></div>"
      ]
     },
     "metadata": {
      "application/vnd.databricks.v1+output": {
       "addedWidgets": {},
       "aggData": [],
       "aggError": "",
       "aggOverflow": false,
       "aggSchema": [],
       "aggSeriesLimitReached": false,
       "aggType": "",
       "arguments": {},
       "columnCustomDisplayInfos": {},
       "data": [],
       "datasetInfos": [],
       "dbfsResultPath": null,
       "isJsonSchema": true,
       "metadata": {},
       "overflow": false,
       "plotOptions": {
        "customPlotOptions": {},
        "displayType": "table",
        "pivotAggregation": null,
        "pivotColumns": null,
        "xColumns": null,
        "yColumns": null
       },
       "removedWidgets": [],
       "schema": [],
       "type": "table"
      }
     },
     "output_type": "display_data"
    }
   ],
   "source": [
    "%sql\n",
    "-- Drop table eleicao_silver.bens_candidatos"
   ]
  }
 ],
 "metadata": {
  "application/vnd.databricks.v1+notebook": {
   "computePreferences": null,
   "dashboards": [],
   "environmentMetadata": {
    "base_environment": "",
    "environment_version": "1"
   },
   "inputWidgetPreferences": null,
   "language": "python",
   "notebookMetadata": {
    "mostRecentlyExecutedCommandWithImplicitDF": {
     "commandId": 3568646841543185,
     "dataframes": [
      "_sqldf"
     ]
    },
    "pythonIndentUnit": 4
   },
   "notebookName": "Reset",
   "widgets": {}
  }
 },
 "nbformat": 4,
 "nbformat_minor": 0
}